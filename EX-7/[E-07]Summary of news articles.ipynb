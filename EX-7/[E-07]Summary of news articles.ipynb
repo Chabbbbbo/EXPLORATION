{
  "nbformat": 4,
  "nbformat_minor": 0,
  "metadata": {
    "colab": {
      "name": "[E-07]Summary of news articles.ipynb",
      "provenance": [],
      "collapsed_sections": [],
      "machine_shape": "hm"
    },
    "kernelspec": {
      "name": "python3",
      "display_name": "Python 3"
    },
    "language_info": {
      "name": "python"
    },
    "accelerator": "GPU"
  },
  "cells": [
    {
      "cell_type": "markdown",
      "source": [
        "## 0. 사용할 라이브러리 불러오기"
      ],
      "metadata": {
        "id": "C_xFv3Cy5BS2"
      }
    },
    {
      "cell_type": "code",
      "source": [
        "!pip install summa"
      ],
      "metadata": {
        "colab": {
          "base_uri": "https://localhost:8080/"
        },
        "id": "h39tZ76N6wQ2",
        "outputId": "c9fe67d7-274b-4fe5-c85c-6aa21ea3c592"
      },
      "execution_count": 234,
      "outputs": [
        {
          "output_type": "stream",
          "name": "stdout",
          "text": [
            "Looking in indexes: https://pypi.org/simple, https://us-python.pkg.dev/colab-wheels/public/simple/\n",
            "Requirement already satisfied: summa in /usr/local/lib/python3.7/dist-packages (1.2.0)\n",
            "Requirement already satisfied: scipy>=0.19 in /usr/local/lib/python3.7/dist-packages (from summa) (1.4.1)\n",
            "Requirement already satisfied: numpy>=1.13.3 in /usr/local/lib/python3.7/dist-packages (from scipy>=0.19->summa) (1.21.6)\n"
          ]
        }
      ]
    },
    {
      "cell_type": "markdown",
      "source": [
        " summa가 깔려있지 않으니 새로 인스톨해줍니다."
      ],
      "metadata": {
        "id": "VChy4bih8Tic"
      }
    },
    {
      "cell_type": "code",
      "execution_count": 235,
      "metadata": {
        "colab": {
          "base_uri": "https://localhost:8080/"
        },
        "id": "BukRzl0V40ai",
        "outputId": "da7ce882-f3e1-4b68-ebfe-51558304e8de"
      },
      "outputs": [
        {
          "output_type": "stream",
          "name": "stdout",
          "text": [
            "[nltk_data] Downloading package stopwords to /root/nltk_data...\n",
            "[nltk_data]   Package stopwords is already up-to-date!\n"
          ]
        }
      ],
      "source": [
        "import nltk\n",
        "nltk.download('stopwords')\n",
        "from nltk.corpus import stopwords #상기 3개의 nltk는 불용어처리용\n",
        "import tensorflow as tf\n",
        "import summa\n",
        "import requests\n",
        "from summa.summarizer import summarize\n",
        "import pandas as pd\n",
        "import numpy as np\n",
        "import os\n",
        "import re\n",
        "import matplotlib.pyplot as plt\n",
        "from nltk.corpus import stopwords\n",
        "from bs4 import BeautifulSoup \n",
        "from tensorflow.keras.preprocessing.text import Tokenizer \n",
        "from tensorflow.keras.preprocessing.sequence import pad_sequences\n",
        "from sklearn.model_selection import train_test_split\n",
        "import urllib.request\n",
        "import matplotlib.pyplot as plt\n",
        "import warnings\n",
        "warnings.filterwarnings(\"ignore\", category=UserWarning, module='bs4')\n",
        "from tensorflow.keras.layers import Input, LSTM, Embedding, Dense, Concatenate, TimeDistributed\n",
        "from tensorflow.keras.models import Model\n",
        "from tensorflow.keras.callbacks import EarlyStopping, ModelCheckpoint\n",
        "from tensorflow.keras.layers import AdditiveAttention"
      ]
    },
    {
      "cell_type": "markdown",
      "source": [
        "## 1. 데이터 불러오기"
      ],
      "metadata": {
        "id": "oV_LJGyo_Fev"
      }
    },
    {
      "cell_type": "code",
      "source": [
        "import urllib.request\n",
        "urllib.request.urlretrieve(\"https://raw.githubusercontent.com/sunnysai12345/News_Summary/master/news_summary_more.csv\", filename=\"news_summary_more.csv\")\n",
        "data = pd.read_csv('news_summary_more.csv', encoding='iso-8859-1')"
      ],
      "metadata": {
        "id": "uqXn-Jsr5cU-"
      },
      "execution_count": null,
      "outputs": []
    },
    {
      "cell_type": "markdown",
      "source": [
        "github url을 통해 바로 data 다운로드 없이 온라인상으로 저장했습니다. "
      ],
      "metadata": {
        "id": "CfFJkwZE8auy"
      }
    },
    {
      "cell_type": "code",
      "source": [
        "data.sample(10)"
      ],
      "metadata": {
        "colab": {
          "base_uri": "https://localhost:8080/",
          "height": 494
        },
        "id": "K2NPcsHY6gVd",
        "outputId": "ceb7a5ce-7790-48a0-e1b0-036ad8bbf35a"
      },
      "execution_count": null,
      "outputs": [
        {
          "output_type": "execute_result",
          "data": {
            "text/plain": [
              "                                               headlines  \\\n",
              "37889  Man takes Ã¢ÂÂ¹15-lakh loan to screen World C...   \n",
              "46891  2,000-year-old Roman 'boxing gloves' dug out i...   \n",
              "31235  I hope I don't trip and fall on red carpet at ...   \n",
              "74223     Neymar dribbles past 5 defenders to score goal   \n",
              "74426  No nepotism as RK Studios isn't launching me, ...   \n",
              "35882  Court rules farting isn't bullying, dismisses ...   \n",
              "38527  Bhaiyyuji Maharaj leaves all property to his s...   \n",
              "75785  Delhi institute rolls back 'biased' hostel tim...   \n",
              "13787  Buffalo meat wrongly printed as beef in Mumbai...   \n",
              "39095  2 men lynched after being mistaken as kidnappe...   \n",
              "\n",
              "                                                    text  \n",
              "37889  A football fan in Assam took a bank loan of Ã¢...  \n",
              "46891  UK-based researchers have uncovered Roman \"box...  \n",
              "31235  Pakistani actress Mahira Khan, who will make h...  \n",
              "74223  World's most expensive footballer Neymar, maki...  \n",
              "74426  Aadar Jain has said he is not a product of nep...  \n",
              "35882  A construction firm employee has lost a $1.8 m...  \n",
              "38527  The police have recovered the second page of s...  \n",
              "75785  Delhi Technological University has tentatively...  \n",
              "13787  An advertisement by the Brihanmumbai Municipal...  \n",
              "39095  Two men were lynched in Assam's Karbi Anglong ...  "
            ],
            "text/html": [
              "\n",
              "  <div id=\"df-4907b33f-b14c-4de2-b480-779e8fbb1052\">\n",
              "    <div class=\"colab-df-container\">\n",
              "      <div>\n",
              "<style scoped>\n",
              "    .dataframe tbody tr th:only-of-type {\n",
              "        vertical-align: middle;\n",
              "    }\n",
              "\n",
              "    .dataframe tbody tr th {\n",
              "        vertical-align: top;\n",
              "    }\n",
              "\n",
              "    .dataframe thead th {\n",
              "        text-align: right;\n",
              "    }\n",
              "</style>\n",
              "<table border=\"1\" class=\"dataframe\">\n",
              "  <thead>\n",
              "    <tr style=\"text-align: right;\">\n",
              "      <th></th>\n",
              "      <th>headlines</th>\n",
              "      <th>text</th>\n",
              "    </tr>\n",
              "  </thead>\n",
              "  <tbody>\n",
              "    <tr>\n",
              "      <th>37889</th>\n",
              "      <td>Man takes Ã¢ÂÂ¹15-lakh loan to screen World C...</td>\n",
              "      <td>A football fan in Assam took a bank loan of Ã¢...</td>\n",
              "    </tr>\n",
              "    <tr>\n",
              "      <th>46891</th>\n",
              "      <td>2,000-year-old Roman 'boxing gloves' dug out i...</td>\n",
              "      <td>UK-based researchers have uncovered Roman \"box...</td>\n",
              "    </tr>\n",
              "    <tr>\n",
              "      <th>31235</th>\n",
              "      <td>I hope I don't trip and fall on red carpet at ...</td>\n",
              "      <td>Pakistani actress Mahira Khan, who will make h...</td>\n",
              "    </tr>\n",
              "    <tr>\n",
              "      <th>74223</th>\n",
              "      <td>Neymar dribbles past 5 defenders to score goal</td>\n",
              "      <td>World's most expensive footballer Neymar, maki...</td>\n",
              "    </tr>\n",
              "    <tr>\n",
              "      <th>74426</th>\n",
              "      <td>No nepotism as RK Studios isn't launching me, ...</td>\n",
              "      <td>Aadar Jain has said he is not a product of nep...</td>\n",
              "    </tr>\n",
              "    <tr>\n",
              "      <th>35882</th>\n",
              "      <td>Court rules farting isn't bullying, dismisses ...</td>\n",
              "      <td>A construction firm employee has lost a $1.8 m...</td>\n",
              "    </tr>\n",
              "    <tr>\n",
              "      <th>38527</th>\n",
              "      <td>Bhaiyyuji Maharaj leaves all property to his s...</td>\n",
              "      <td>The police have recovered the second page of s...</td>\n",
              "    </tr>\n",
              "    <tr>\n",
              "      <th>75785</th>\n",
              "      <td>Delhi institute rolls back 'biased' hostel tim...</td>\n",
              "      <td>Delhi Technological University has tentatively...</td>\n",
              "    </tr>\n",
              "    <tr>\n",
              "      <th>13787</th>\n",
              "      <td>Buffalo meat wrongly printed as beef in Mumbai...</td>\n",
              "      <td>An advertisement by the Brihanmumbai Municipal...</td>\n",
              "    </tr>\n",
              "    <tr>\n",
              "      <th>39095</th>\n",
              "      <td>2 men lynched after being mistaken as kidnappe...</td>\n",
              "      <td>Two men were lynched in Assam's Karbi Anglong ...</td>\n",
              "    </tr>\n",
              "  </tbody>\n",
              "</table>\n",
              "</div>\n",
              "      <button class=\"colab-df-convert\" onclick=\"convertToInteractive('df-4907b33f-b14c-4de2-b480-779e8fbb1052')\"\n",
              "              title=\"Convert this dataframe to an interactive table.\"\n",
              "              style=\"display:none;\">\n",
              "        \n",
              "  <svg xmlns=\"http://www.w3.org/2000/svg\" height=\"24px\"viewBox=\"0 0 24 24\"\n",
              "       width=\"24px\">\n",
              "    <path d=\"M0 0h24v24H0V0z\" fill=\"none\"/>\n",
              "    <path d=\"M18.56 5.44l.94 2.06.94-2.06 2.06-.94-2.06-.94-.94-2.06-.94 2.06-2.06.94zm-11 1L8.5 8.5l.94-2.06 2.06-.94-2.06-.94L8.5 2.5l-.94 2.06-2.06.94zm10 10l.94 2.06.94-2.06 2.06-.94-2.06-.94-.94-2.06-.94 2.06-2.06.94z\"/><path d=\"M17.41 7.96l-1.37-1.37c-.4-.4-.92-.59-1.43-.59-.52 0-1.04.2-1.43.59L10.3 9.45l-7.72 7.72c-.78.78-.78 2.05 0 2.83L4 21.41c.39.39.9.59 1.41.59.51 0 1.02-.2 1.41-.59l7.78-7.78 2.81-2.81c.8-.78.8-2.07 0-2.86zM5.41 20L4 18.59l7.72-7.72 1.47 1.35L5.41 20z\"/>\n",
              "  </svg>\n",
              "      </button>\n",
              "      \n",
              "  <style>\n",
              "    .colab-df-container {\n",
              "      display:flex;\n",
              "      flex-wrap:wrap;\n",
              "      gap: 12px;\n",
              "    }\n",
              "\n",
              "    .colab-df-convert {\n",
              "      background-color: #E8F0FE;\n",
              "      border: none;\n",
              "      border-radius: 50%;\n",
              "      cursor: pointer;\n",
              "      display: none;\n",
              "      fill: #1967D2;\n",
              "      height: 32px;\n",
              "      padding: 0 0 0 0;\n",
              "      width: 32px;\n",
              "    }\n",
              "\n",
              "    .colab-df-convert:hover {\n",
              "      background-color: #E2EBFA;\n",
              "      box-shadow: 0px 1px 2px rgba(60, 64, 67, 0.3), 0px 1px 3px 1px rgba(60, 64, 67, 0.15);\n",
              "      fill: #174EA6;\n",
              "    }\n",
              "\n",
              "    [theme=dark] .colab-df-convert {\n",
              "      background-color: #3B4455;\n",
              "      fill: #D2E3FC;\n",
              "    }\n",
              "\n",
              "    [theme=dark] .colab-df-convert:hover {\n",
              "      background-color: #434B5C;\n",
              "      box-shadow: 0px 1px 3px 1px rgba(0, 0, 0, 0.15);\n",
              "      filter: drop-shadow(0px 1px 2px rgba(0, 0, 0, 0.3));\n",
              "      fill: #FFFFFF;\n",
              "    }\n",
              "  </style>\n",
              "\n",
              "      <script>\n",
              "        const buttonEl =\n",
              "          document.querySelector('#df-4907b33f-b14c-4de2-b480-779e8fbb1052 button.colab-df-convert');\n",
              "        buttonEl.style.display =\n",
              "          google.colab.kernel.accessAllowed ? 'block' : 'none';\n",
              "\n",
              "        async function convertToInteractive(key) {\n",
              "          const element = document.querySelector('#df-4907b33f-b14c-4de2-b480-779e8fbb1052');\n",
              "          const dataTable =\n",
              "            await google.colab.kernel.invokeFunction('convertToInteractive',\n",
              "                                                     [key], {});\n",
              "          if (!dataTable) return;\n",
              "\n",
              "          const docLinkHtml = 'Like what you see? Visit the ' +\n",
              "            '<a target=\"_blank\" href=https://colab.research.google.com/notebooks/data_table.ipynb>data table notebook</a>'\n",
              "            + ' to learn more about interactive tables.';\n",
              "          element.innerHTML = '';\n",
              "          dataTable['output_type'] = 'display_data';\n",
              "          await google.colab.output.renderOutput(dataTable, element);\n",
              "          const docLink = document.createElement('div');\n",
              "          docLink.innerHTML = docLinkHtml;\n",
              "          element.appendChild(docLink);\n",
              "        }\n",
              "      </script>\n",
              "    </div>\n",
              "  </div>\n",
              "  "
            ]
          },
          "metadata": {},
          "execution_count": 77
        }
      ]
    },
    {
      "cell_type": "markdown",
      "source": [
        "앞서 아마존 리뷰처럼 text 부분과 summary(headline)부분 으로 나눠져 있으니, 인코더/디코더로 나눠서 진행하면 될 것 같습니다!  \n",
        "총 몇 개가 있는지 확인해볼까요"
      ],
      "metadata": {
        "id": "WsVVfE4h-b2J"
      }
    },
    {
      "cell_type": "code",
      "source": [
        "print('전체 샘플수 :', (len(data)))"
      ],
      "metadata": {
        "colab": {
          "base_uri": "https://localhost:8080/"
        },
        "id": "DvvMBCg_8OCl",
        "outputId": "d7a23acc-c809-462d-c124-6cb029f4df9f"
      },
      "execution_count": null,
      "outputs": [
        {
          "output_type": "stream",
          "name": "stdout",
          "text": [
            "전체 샘플수 : 98401\n"
          ]
        }
      ]
    },
    {
      "cell_type": "code",
      "source": [
        "print(data['text'])\n",
        "print(data['headlines'])"
      ],
      "metadata": {
        "colab": {
          "base_uri": "https://localhost:8080/"
        },
        "id": "DYV1i3al_T_s",
        "outputId": "d1a0dbfe-470d-4697-f737-d5a75fef2deb"
      },
      "execution_count": null,
      "outputs": [
        {
          "output_type": "stream",
          "name": "stdout",
          "text": [
            "0        Saurav Kant, an alumnus of upGrad and IIIT-B's...\n",
            "1        Kunal Shah's credit card bill payment platform...\n",
            "2        New Zealand defeated India by 8 wickets in the...\n",
            "3        With Aegon Life iTerm Insurance plan, customer...\n",
            "4        Speaking about the sexual harassment allegatio...\n",
            "                               ...                        \n",
            "98396    A CRPF jawan was on Tuesday axed to death with...\n",
            "98397    'Uff Yeh', the first song from the Sonakshi Si...\n",
            "98398    According to reports, a new version of the 199...\n",
            "98399    A new music video shows rapper Snoop Dogg aimi...\n",
            "98400    Madhesi Morcha, an alliance of seven political...\n",
            "Name: text, Length: 98401, dtype: object\n",
            "0        upGrad learner switches to career in ML & Al w...\n",
            "1        Delhi techie wins free food from Swiggy for on...\n",
            "2        New Zealand end Rohit Sharma-led India's 12-ma...\n",
            "3        Aegon life iTerm insurance plan helps customer...\n",
            "4        Have known Hirani for yrs, what if MeToo claim...\n",
            "                               ...                        \n",
            "98396    CRPF jawan axed to death by Maoists in Chhatti...\n",
            "98397    First song from Sonakshi Sinha's 'Noor' titled...\n",
            "98398           'The Matrix' film to get a reboot: Reports\n",
            "98399    Snoop Dogg aims gun at clown dressed as Trump ...\n",
            "98400    Madhesi Morcha withdraws support to Nepalese g...\n",
            "Name: headlines, Length: 98401, dtype: object\n"
          ]
        }
      ]
    },
    {
      "cell_type": "markdown",
      "source": [
        "각 열로 잘 나눠져 있고, 갯수는 98,401개로 약 10만개정도 있으니 데이터 삭제없이 전처리를 진행하도록 합니다.  "
      ],
      "metadata": {
        "id": "Rt94EJiQ-1Kl"
      }
    },
    {
      "cell_type": "markdown",
      "source": [
        "## 2. 데이터 전처리(추상적 요약)\n",
        "\n",
        "### 1) 중복 샘플 및 Null 값 제거  \n",
        "\n",
        "먼저 혹시 모를 중복 및 null 값을 제거해주도록 합니다."
      ],
      "metadata": {
        "id": "k1uhQjWN_C06"
      }
    },
    {
      "cell_type": "code",
      "source": [
        "print('Text 열에서 중복을 배제한 유일한 샘플의 수 :', data['text'].nunique())\n",
        "print('Headlines 열에서 중복을 배제한 유일한 샘플의 수 :', data['headlines'].nunique())"
      ],
      "metadata": {
        "colab": {
          "base_uri": "https://localhost:8080/"
        },
        "id": "6jZbktz7-zYr",
        "outputId": "fd56bf5d-db9f-4221-89d1-902c3999512c"
      },
      "execution_count": null,
      "outputs": [
        {
          "output_type": "stream",
          "name": "stdout",
          "text": [
            "Text 열에서 중복을 배제한 유일한 샘플의 수 : 98360\n",
            "Headlines 열에서 중복을 배제한 유일한 샘플의 수 : 98280\n"
          ]
        }
      ]
    },
    {
      "cell_type": "code",
      "source": [
        "hedlines_overlap = data[data['headlines'].duplicated()]\n",
        "print(hedlines_overlap['headlines'])"
      ],
      "metadata": {
        "colab": {
          "base_uri": "https://localhost:8080/"
        },
        "id": "oxG47gKuCsik",
        "outputId": "6206a5e2-edbd-4542-f3b1-2b5863eab4c9"
      },
      "execution_count": null,
      "outputs": [
        {
          "output_type": "stream",
          "name": "stdout",
          "text": [
            "3292     Isha Ambani features on February cover of Vogu...\n",
            "3293     Indian Oil looking for annual deal to buy crud...\n",
            "32850    David Beckham once scored a 60-yard goal from ...\n",
            "34227    Sachin once fielded for Pakistan before making...\n",
            "34518      Iraq launches air strikes against ISIS in Syria\n",
            "                               ...                        \n",
            "95135    Parveen Babi was 1st Indian film star on TIME ...\n",
            "95473    Sachin had not let Sehwag watch 2011 World Cup...\n",
            "95670    How did the tradition of April Fools' Day orig...\n",
            "96540    Sachin first opened in ODIs due to Sidhu's 'st...\n",
            "97489              Who are the richest women in the world?\n",
            "Name: headlines, Length: 121, dtype: object\n"
          ]
        }
      ]
    },
    {
      "cell_type": "markdown",
      "source": [
        "역시 기존 98,401개와 다른 숫자를 출력하고 있습니다.  \n",
        "왜 text와 headlines의 중복제외 숫자가 다른지는 의문입니다...만....  \n",
        "headlines 중복 데이터 121개를 실제 데이터에서 찾아보니, headlines가 겹치면 text도 중복이라는 것을 확인했습니다. 그럼 먼저 headlines의 중복데이터를 `drop_duplicates()`로 지우고 다시 text의 중복데이터를 확인해봅니다.  "
      ],
      "metadata": {
        "id": "-N8G2OyM_y6J"
      }
    },
    {
      "cell_type": "code",
      "source": [
        "data.drop_duplicates(subset = ['headlines'], inplace=True)"
      ],
      "metadata": {
        "id": "n8_gNma0_pwY"
      },
      "execution_count": null,
      "outputs": []
    },
    {
      "cell_type": "code",
      "source": [
        "print('전체 샘플수 :', (len(data)))\n",
        "print('Text 열에서 중복을 배제한 유일한 샘플의 수 :', data['text'].nunique())\n",
        "print('Headlines 열에서 중복을 배제한 유일한 샘플의 수 :', data['headlines'].nunique())"
      ],
      "metadata": {
        "colab": {
          "base_uri": "https://localhost:8080/"
        },
        "id": "T9CSXCddJ50v",
        "outputId": "92c1cf92-2dc0-47e6-c04a-f52f994d2f11"
      },
      "execution_count": null,
      "outputs": [
        {
          "output_type": "stream",
          "name": "stdout",
          "text": [
            "전체 샘플수 : 98280\n",
            "Text 열에서 중복을 배제한 유일한 샘플의 수 : 98262\n",
            "Headlines 열에서 중복을 배제한 유일한 샘플의 수 : 98280\n"
          ]
        }
      ]
    },
    {
      "cell_type": "markdown",
      "source": [
        "text가 같은데 headlines가 다르다...?  \n",
        "이걸 중복으로 봐야할까...? 같은 문장에서 다른 서머리를 뽑아낼 수도 있는거 아닐까?  \n",
        "\n",
        "한번 실제 데이터를 확인해보자."
      ],
      "metadata": {
        "id": "hKh8Rqr7KFZF"
      }
    },
    {
      "cell_type": "code",
      "source": [
        "text_overlap = data[data['text'].duplicated()]\n",
        "print(text_overlap['text'])"
      ],
      "metadata": {
        "colab": {
          "base_uri": "https://localhost:8080/"
        },
        "id": "qSzS0-tFJqc1",
        "outputId": "86c0eb04-ff31-4955-a53f-562c790ea108"
      },
      "execution_count": null,
      "outputs": [
        {
          "output_type": "stream",
          "name": "stdout",
          "text": [
            "20754    Safeguard yourself against life's unpleasant s...\n",
            "44594    Berger Paints has launched Berger Express Pain...\n",
            "52021    Australia's Anthony Stuart took a hat-trick in...\n",
            "53578    Former Windies' captain Brian Lara named his f...\n",
            "53865    Cricket legend Don Bradman reversed the Austra...\n",
            "53892    German Formula One legend Michael Schumacher, ...\n",
            "54078    Former Australian leg-spinner Shane Warne was ...\n",
            "55208    During an El ClÃÂ¡sico match in 2002, Barcelo...\n",
            "57402    Virender Sehwag was captaining India when he h...\n",
            "58715    The first-ever official international football...\n",
            "58934    Windies' Gus Logie was adjudged Man of the Mat...\n",
            "61055    The first wicket and first catch in Test crick...\n",
            "61445    Former Australian fast bowler Glenn McGrath, w...\n",
            "62639    Former batsman Sachin Tendulkar became the fir...\n",
            "62785    India conceded an ODI against Pakistan on Nove...\n",
            "78519    A TechCrunch report has claimed that IndiaÃ¢Â...\n",
            "80355    As many as 54,250 fluorescent-yellow tennis ba...\n",
            "84724    Australia won the 1999 Cricket World Cup after...\n",
            "Name: text, dtype: object\n"
          ]
        }
      ]
    },
    {
      "cell_type": "markdown",
      "source": [
        "\"Berger Express Painting introduces fast and dust-free home painting\"  \n",
        "\"Berger introduces T20 of painting with Express Painting\"\n",
        "등 **같은 내용이지만 summary를 다르게 한 데이터**들을 보니, 이것도 좋은 소스가 되지 않을까 싶다.  \n",
        "(오히려 더 헷갈리려나..?)  \n",
        "\n",
        "---\n",
        "\n",
        "이런걸 **이상치**라고함. 과적합을 줄이기 위해서 이런 노이즈를 일부러 줄 수도있지만, 학습단계에서는 거의 안한다고 한다.  \n",
        "그럼 지워야겠다...^_^..... 지워주자!"
      ],
      "metadata": {
        "id": "8R45oSvULd6N"
      }
    },
    {
      "cell_type": "code",
      "source": [
        "data.drop_duplicates(subset = ['text'], inplace=True)"
      ],
      "metadata": {
        "id": "vW0SaqnLKfbF"
      },
      "execution_count": null,
      "outputs": []
    },
    {
      "cell_type": "code",
      "source": [
        "print('전체 샘플수 :', (len(data)))\n",
        "print('Text 열에서 중복을 배제한 유일한 샘플의 수 :', data['text'].nunique())\n",
        "print('Headlines 열에서 중복을 배제한 유일한 샘플의 수 :', data['headlines'].nunique())"
      ],
      "metadata": {
        "colab": {
          "base_uri": "https://localhost:8080/"
        },
        "id": "G4GX5tnFLOin",
        "outputId": "050394cd-e94f-49d4-ac9d-989fba03c27c"
      },
      "execution_count": null,
      "outputs": [
        {
          "output_type": "stream",
          "name": "stdout",
          "text": [
            "전체 샘플수 : 98262\n",
            "Text 열에서 중복을 배제한 유일한 샘플의 수 : 98262\n",
            "Headlines 열에서 중복을 배제한 유일한 샘플의 수 : 98262\n"
          ]
        }
      ]
    },
    {
      "cell_type": "markdown",
      "source": [
        "샘플수와 text, headlines의 수가 같아져 중복값이 없는 것을 확인할 수 있다.  \n",
        "\n",
        "그리고 있을지 모른 null값을 확인하고 제거해주자."
      ],
      "metadata": {
        "id": "6ZYZNJfkNprR"
      }
    },
    {
      "cell_type": "code",
      "source": [
        "data.isnull().sum()"
      ],
      "metadata": {
        "colab": {
          "base_uri": "https://localhost:8080/"
        },
        "id": "Rsuuz3YINo7p",
        "outputId": "df061e9e-deb9-4030-950f-129aacd0a454"
      },
      "execution_count": null,
      "outputs": [
        {
          "output_type": "execute_result",
          "data": {
            "text/plain": [
              "headlines    0\n",
              "text         0\n",
              "dtype: int64"
            ]
          },
          "metadata": {},
          "execution_count": 88
        }
      ]
    },
    {
      "cell_type": "markdown",
      "source": [
        "중복값, null값 모두 없는 것을 확인했다.  \n",
        "이제 텍스트 정규화 및 불용어를 제거해주자."
      ],
      "metadata": {
        "id": "FnzfqtU8N0PJ"
      }
    },
    {
      "cell_type": "markdown",
      "source": [
        "### 텍스트 정규화 & 불용어 제거  \n",
        "\n",
        "데이터가 영문이니 I'll -> I will 처럼 영문에 맞는 정규화 처리를 해주자.  \n",
        "(이전 실습 데이터 처리에서 이 방법을 알았으면 더 정확한 학습을 하고 데이터를 뽑아낼 수 있지 않을까 아쉬움이 남는다.)"
      ],
      "metadata": {
        "id": "ogP3f3aGclCV"
      }
    },
    {
      "cell_type": "code",
      "source": [
        "contractions = {\"ain't\": \"is not\", \"aren't\": \"are not\",\"can't\": \"cannot\", \"'cause\": \"because\", \"could've\": \"could have\", \"couldn't\": \"could not\",\n",
        "                           \"didn't\": \"did not\",  \"doesn't\": \"does not\", \"don't\": \"do not\", \"hadn't\": \"had not\", \"hasn't\": \"has not\", \"haven't\": \"have not\",\n",
        "                           \"he'd\": \"he would\",\"he'll\": \"he will\", \"he's\": \"he is\", \"how'd\": \"how did\", \"how'd'y\": \"how do you\", \"how'll\": \"how will\", \"how's\": \"how is\",\n",
        "                           \"I'd\": \"I would\", \"I'd've\": \"I would have\", \"I'll\": \"I will\", \"I'll've\": \"I will have\",\"I'm\": \"I am\", \"I've\": \"I have\", \"i'd\": \"i would\",\n",
        "                           \"i'd've\": \"i would have\", \"i'll\": \"i will\",  \"i'll've\": \"i will have\",\"i'm\": \"i am\", \"i've\": \"i have\", \"isn't\": \"is not\", \"it'd\": \"it would\",\n",
        "                           \"it'd've\": \"it would have\", \"it'll\": \"it will\", \"it'll've\": \"it will have\",\"it's\": \"it is\", \"let's\": \"let us\", \"ma'am\": \"madam\",\n",
        "                           \"mayn't\": \"may not\", \"might've\": \"might have\",\"mightn't\": \"might not\",\"mightn't've\": \"might not have\", \"must've\": \"must have\",\n",
        "                           \"mustn't\": \"must not\", \"mustn't've\": \"must not have\", \"needn't\": \"need not\", \"needn't've\": \"need not have\",\"o'clock\": \"of the clock\",\n",
        "                           \"oughtn't\": \"ought not\", \"oughtn't've\": \"ought not have\", \"shan't\": \"shall not\", \"sha'n't\": \"shall not\", \"shan't've\": \"shall not have\",\n",
        "                           \"she'd\": \"she would\", \"she'd've\": \"she would have\", \"she'll\": \"she will\", \"she'll've\": \"she will have\", \"she's\": \"she is\",\n",
        "                           \"should've\": \"should have\", \"shouldn't\": \"should not\", \"shouldn't've\": \"should not have\", \"so've\": \"so have\",\"so's\": \"so as\",\n",
        "                           \"this's\": \"this is\",\"that'd\": \"that would\", \"that'd've\": \"that would have\", \"that's\": \"that is\", \"there'd\": \"there would\",\n",
        "                           \"there'd've\": \"there would have\", \"there's\": \"there is\", \"here's\": \"here is\",\"they'd\": \"they would\", \"they'd've\": \"they would have\",\n",
        "                           \"they'll\": \"they will\", \"they'll've\": \"they will have\", \"they're\": \"they are\", \"they've\": \"they have\", \"to've\": \"to have\",\n",
        "                           \"wasn't\": \"was not\", \"we'd\": \"we would\", \"we'd've\": \"we would have\", \"we'll\": \"we will\", \"we'll've\": \"we will have\", \"we're\": \"we are\",\n",
        "                           \"we've\": \"we have\", \"weren't\": \"were not\", \"what'll\": \"what will\", \"what'll've\": \"what will have\", \"what're\": \"what are\",\n",
        "                           \"what's\": \"what is\", \"what've\": \"what have\", \"when's\": \"when is\", \"when've\": \"when have\", \"where'd\": \"where did\", \"where's\": \"where is\",\n",
        "                           \"where've\": \"where have\", \"who'll\": \"who will\", \"who'll've\": \"who will have\", \"who's\": \"who is\", \"who've\": \"who have\",\n",
        "                           \"why's\": \"why is\", \"why've\": \"why have\", \"will've\": \"will have\", \"won't\": \"will not\", \"won't've\": \"will not have\",\n",
        "                           \"would've\": \"would have\", \"wouldn't\": \"would not\", \"wouldn't've\": \"would not have\", \"y'all\": \"you all\",\n",
        "                           \"y'all'd\": \"you all would\",\"y'all'd've\": \"you all would have\",\"y'all're\": \"you all are\",\"y'all've\": \"you all have\",\n",
        "                           \"you'd\": \"you would\", \"you'd've\": \"you would have\", \"you'll\": \"you will\", \"you'll've\": \"you will have\",\n",
        "                           \"you're\": \"you are\", \"you've\": \"you have\", \"yrs\": \"years\"}\n",
        "\n",
        "print(\"정규화 사전의 수: \", len(contractions))"
      ],
      "metadata": {
        "colab": {
          "base_uri": "https://localhost:8080/"
        },
        "id": "KCYAo2wTNyZc",
        "outputId": "5823e3db-c9f5-484e-d795-d8daa7484f1e"
      },
      "execution_count": null,
      "outputs": [
        {
          "output_type": "stream",
          "name": "stdout",
          "text": [
            "정규화 사전의 수:  121\n"
          ]
        }
      ]
    },
    {
      "cell_type": "markdown",
      "source": [
        "정규화 준비를 마쳤으니, NLTK의 stopwors를 사용하여 불용어 처리를 해주자."
      ],
      "metadata": {
        "id": "hKmBt4k_dEzE"
      }
    },
    {
      "cell_type": "code",
      "source": [
        "print('불용어 개수 :', len(stopwords.words('english') ))\n",
        "print(stopwords.words('english'))"
      ],
      "metadata": {
        "colab": {
          "base_uri": "https://localhost:8080/"
        },
        "id": "P2MlLqagdB6p",
        "outputId": "e094073e-c476-4c74-b4ee-c1f691e45edf"
      },
      "execution_count": null,
      "outputs": [
        {
          "output_type": "stream",
          "name": "stdout",
          "text": [
            "불용어 개수 : 179\n",
            "['i', 'me', 'my', 'myself', 'we', 'our', 'ours', 'ourselves', 'you', \"you're\", \"you've\", \"you'll\", \"you'd\", 'your', 'yours', 'yourself', 'yourselves', 'he', 'him', 'his', 'himself', 'she', \"she's\", 'her', 'hers', 'herself', 'it', \"it's\", 'its', 'itself', 'they', 'them', 'their', 'theirs', 'themselves', 'what', 'which', 'who', 'whom', 'this', 'that', \"that'll\", 'these', 'those', 'am', 'is', 'are', 'was', 'were', 'be', 'been', 'being', 'have', 'has', 'had', 'having', 'do', 'does', 'did', 'doing', 'a', 'an', 'the', 'and', 'but', 'if', 'or', 'because', 'as', 'until', 'while', 'of', 'at', 'by', 'for', 'with', 'about', 'against', 'between', 'into', 'through', 'during', 'before', 'after', 'above', 'below', 'to', 'from', 'up', 'down', 'in', 'out', 'on', 'off', 'over', 'under', 'again', 'further', 'then', 'once', 'here', 'there', 'when', 'where', 'why', 'how', 'all', 'any', 'both', 'each', 'few', 'more', 'most', 'other', 'some', 'such', 'no', 'nor', 'not', 'only', 'own', 'same', 'so', 'than', 'too', 'very', 's', 't', 'can', 'will', 'just', 'don', \"don't\", 'should', \"should've\", 'now', 'd', 'll', 'm', 'o', 're', 've', 'y', 'ain', 'aren', \"aren't\", 'couldn', \"couldn't\", 'didn', \"didn't\", 'doesn', \"doesn't\", 'hadn', \"hadn't\", 'hasn', \"hasn't\", 'haven', \"haven't\", 'isn', \"isn't\", 'ma', 'mightn', \"mightn't\", 'mustn', \"mustn't\", 'needn', \"needn't\", 'shan', \"shan't\", 'shouldn', \"shouldn't\", 'wasn', \"wasn't\", 'weren', \"weren't\", 'won', \"won't\", 'wouldn', \"wouldn't\"]\n"
          ]
        }
      ]
    },
    {
      "cell_type": "markdown",
      "source": [
        "정규화 및 불용어 처리준비를 마쳤다.  \n",
        "그리고 이 외에 소문자화, html 태그 제거 등을 전처리 함수를 사용해 적용해주자.  \n",
        "\n",
        "이번 데이터는 뉴스 텍스트 및 헤드라인으로 리뷰처럼 ummmm 같은 일상어는 나올일이 없으니 관련된 re.sub는 제외하고 적용해주자. "
      ],
      "metadata": {
        "id": "9n3yUbdlfkXX"
      }
    },
    {
      "cell_type": "code",
      "source": [
        "# 데이터 전처리 함수\n",
        "def preprocess_sentence(sentence, remove_stopwords=True):\n",
        "    sentence = sentence.lower() # 텍스트 소문자화\n",
        "    sentence = BeautifulSoup(sentence, \"lxml\").text # <br />, <a href = ...> 등의 html 태그 제거\n",
        "    sentence = re.sub(r'\\([^)]*\\)', '', sentence) # 괄호로 닫힌 문자열 (...) 제거 Ex) my husband (and myself!) for => my husband for\n",
        "    sentence = re.sub('\"','', sentence) # 쌍따옴표 \" 제거\n",
        "    sentence = ' '.join([contractions[t] if t in contractions else t for t in sentence.split(\" \")]) # 약어 정규화\n",
        "    sentence = re.sub(r\"'s\\b\",\"\", sentence) # 소유격 제거. Ex) roland's -> roland\n",
        "    sentence = re.sub(\"[^a-zA-Z]\", \" \", sentence) # 영어 외 문자(숫자, 특수문자 등) 공백으로 변환\n",
        "    \n",
        "    # 불용어 제거 (Text)\n",
        "    if remove_stopwords:\n",
        "        tokens = ' '.join(word for word in sentence.split() if not word in stopwords.words('english') if len(word) > 1)\n",
        "    # 불용어 미제거 (Summary)\n",
        "    else:\n",
        "        tokens = ' '.join(word for word in sentence.split() if len(word) > 1)\n",
        "    return tokens\n",
        "print('전처리 함수 준비끝:)')"
      ],
      "metadata": {
        "colab": {
          "base_uri": "https://localhost:8080/"
        },
        "id": "RhQNS00QdRCE",
        "outputId": "78f1ae3b-6905-4163-db4c-c6f22898297a"
      },
      "execution_count": null,
      "outputs": [
        {
          "output_type": "stream",
          "name": "stdout",
          "text": [
            "전처리 함수 준비끝:)\n"
          ]
        }
      ]
    },
    {
      "cell_type": "markdown",
      "source": [
        "아까 랜덤으로 확인한 데이터에서 â¹ 같이 이상한 내용이 있었는데, 이걸 포함해서 잘 처리되는지 한번 확인해본다."
      ],
      "metadata": {
        "id": "fnUJvTsRgksO"
      }
    },
    {
      "cell_type": "code",
      "source": [
        "temp_text = \"it's i'll could save $5 billion (nearly â¹33,500 crore) over next seven yrs,\"\n",
        "\n",
        "print(\"text: \", preprocess_sentence(temp_text))"
      ],
      "metadata": {
        "colab": {
          "base_uri": "https://localhost:8080/"
        },
        "id": "RuTrbU-5gLYk",
        "outputId": "482f0779-4c97-4087-fe37-d1442b545327"
      },
      "execution_count": null,
      "outputs": [
        {
          "output_type": "stream",
          "name": "stdout",
          "text": [
            "text:  could save billion next seven yrs\n"
          ]
        }
      ]
    },
    {
      "cell_type": "markdown",
      "source": [
        "옥키! 잘 제거되는 것을 확인했다. 역시 능력이 좋구만.  \n",
        "\n",
        "함수가 잘 처리하는것을 보았으니, 훈련데이터 전체에 대해 전처리를 수행하자.  \n",
        "이때, text는 불용어를 제거하고, Headlines의 경우는 불용어를 제거하지 않을 것이니 따로 호출해서 진행하도록 하자. "
      ],
      "metadata": {
        "id": "Bnm9huNwhBFI"
      }
    },
    {
      "cell_type": "code",
      "source": [
        "clean_text = []\n",
        "# 전체 Text 데이터에 대한 전처리\n",
        "for s in data['text']:\n",
        "    clean_text.append(preprocess_sentence(s))\n",
        "\n",
        "# 전처리 후 출력\n",
        "print(\"Text 전처리 후 결과: \", clean_text[:5])"
      ],
      "metadata": {
        "colab": {
          "base_uri": "https://localhost:8080/"
        },
        "id": "xx9ruYxygyUj",
        "outputId": "9de02503-336e-4546-b301-dfd6f9f1e86c"
      },
      "execution_count": null,
      "outputs": [
        {
          "output_type": "stream",
          "name": "stdout",
          "text": [
            "Text 전처리 후 결과:  ['saurav kant alumnus upgrad iiit pg program machine learning artificial intelligence sr systems engineer infosys almost years work experience program upgrad degree career support helped transition data scientist tech mahindra salary hike upgrad online power learning powered lakh careers', 'kunal shah credit card bill payment platform cred gave users chance win free food swiggy one year pranav kaushik delhi techie bagged reward spending cred coins users get one cred coin per rupee bill paid used avail rewards brands like ixigo bookmyshow ubereats cult fit', 'new zealand defeated india wickets fourth odi hamilton thursday win first match five match odi series india lost international match rohit sharma captaincy consecutive victories dating back march match witnessed india getting seventh lowest total odi cricket history', 'aegon life iterm insurance plan customers enjoy tax benefits premiums paid save taxes plan provides life cover age years also customers options insure critical illnesses disability accidental death benefit rider life cover age years', 'speaking sexual harassment allegations rajkumar hirani sonam kapoor said known hirani many years true metoo movement get derailed metoo movement always believe woman case need reserve judgment added hirani accused assistant worked sanju']\n"
          ]
        }
      ]
    },
    {
      "cell_type": "markdown",
      "source": [
        "이제 headlines에 대해서 전처리 함수를 처리할 땐, 불용어 제거를 수행하지 않는다는 의미에서 두 번째 인자로 False를 넣어주자"
      ],
      "metadata": {
        "id": "9qIdhyrmiFeJ"
      }
    },
    {
      "cell_type": "code",
      "source": [
        "clean_headlines = []\n",
        "# 전체 Headlines 데이터에 대한 전처리\n",
        "for s in data['headlines']:\n",
        "    clean_headlines.append(preprocess_sentence(s, False))\n",
        "\n",
        "print(\"Headlines 전처리 후 결과: \", clean_headlines[:5])"
      ],
      "metadata": {
        "colab": {
          "base_uri": "https://localhost:8080/"
        },
        "id": "lGRddfNliCHR",
        "outputId": "f3d27fd4-99c4-4595-b019-a5328ee2a08f"
      },
      "execution_count": null,
      "outputs": [
        {
          "output_type": "stream",
          "name": "stdout",
          "text": [
            "Headlines 전처리 후 결과:  ['upgrad learner switches to career in ml al with salary hike', 'delhi techie wins free food from swiggy for one year on cred', 'new zealand end rohit sharma led india match winning streak', 'aegon life iterm insurance plan helps customers save tax', 'have known hirani for yrs what if metoo claims are not true sonam']\n"
          ]
        }
      ]
    },
    {
      "cell_type": "markdown",
      "source": [
        "전처리한 clean_~ 데이터들을 원래 text와 headlines로 넣어주자.  \n",
        "\n",
        "그리고 전처리 후 혹시라도 빈값을 가진 샘플이 있을 수 있으니 null값으로 처리해 지워주자"
      ],
      "metadata": {
        "id": "yM094gJoibqq"
      }
    },
    {
      "cell_type": "code",
      "source": [
        "data['Text'] = clean_text\n",
        "data['Headlines'] = clean_headlines\n",
        "#이후 모델학습을 위해 중간 저장해준다"
      ],
      "metadata": {
        "id": "XBPgN6psibPY"
      },
      "execution_count": null,
      "outputs": []
    },
    {
      "cell_type": "code",
      "source": [
        "data['text'] = data['Text']\n",
        "data['headlines'] = data['Headlines']\n",
        "\n",
        "# 빈 값을 Null 값으로 변환\n",
        "data.replace('', np.nan, inplace=True)\n",
        "print('null 처리 완료:)')"
      ],
      "metadata": {
        "colab": {
          "base_uri": "https://localhost:8080/"
        },
        "id": "EgK5H06IfepH",
        "outputId": "1de1a4a2-0096-4163-bc00-5f52c1a0c604"
      },
      "execution_count": null,
      "outputs": [
        {
          "output_type": "stream",
          "name": "stdout",
          "text": [
            "null 처리 완료:)\n"
          ]
        }
      ]
    },
    {
      "cell_type": "code",
      "source": [
        "#null 갯수 확인\n",
        "data.isnull().sum()"
      ],
      "metadata": {
        "colab": {
          "base_uri": "https://localhost:8080/"
        },
        "id": "N52a0gi8i50u",
        "outputId": "adf27394-e5d8-439e-8612-228e35e21dd9"
      },
      "execution_count": null,
      "outputs": [
        {
          "output_type": "execute_result",
          "data": {
            "text/plain": [
              "headlines    0\n",
              "text         0\n",
              "Text         0\n",
              "Headlines    0\n",
              "dtype: int64"
            ]
          },
          "metadata": {},
          "execution_count": 99
        }
      ]
    },
    {
      "cell_type": "markdown",
      "source": [
        "### 2) Train/Test 데이터 나눠주기\n",
        "\n",
        "---\n",
        "\n",
        "학습에 사용할 데이터 크기를 결정해주고, 문장의 시작과 끝을 표시해주자."
      ],
      "metadata": {
        "id": "jj9GIsjTjCCF"
      }
    },
    {
      "cell_type": "markdown",
      "source": [
        "#### 샘플의 최대 길이 정하기\n",
        "- 샘플들이 최소/최대/평균 길이 및 분포를 확인한다"
      ],
      "metadata": {
        "id": "d3LJKr58jU2P"
      }
    },
    {
      "cell_type": "code",
      "source": [
        "# 길이 분포 출력\n",
        "\n",
        "\n",
        "text_len = [len(s.split()) for s in data['text']]\n",
        "headlines_len = [len(s.split()) for s in data['headlines']]\n",
        "\n",
        "print('텍스트의 최소 길이 : {}'.format(np.min(text_len)))\n",
        "print('텍스트의 최대 길이 : {}'.format(np.max(text_len)))\n",
        "print('텍스트의 평균 길이 : {}'.format(np.mean(text_len)))\n",
        "print('요약의 최소 길이 : {}'.format(np.min(headlines_len)))\n",
        "print('요약의 최대 길이 : {}'.format(np.max(headlines_len)))\n",
        "print('요약의 평균 길이 : {}'.format(np.mean(headlines_len)))\n",
        "\n",
        "plt.subplot(1,2,1)\n",
        "plt.boxplot(text_len)\n",
        "plt.title('Text')\n",
        "plt.subplot(1,2,2)\n",
        "plt.boxplot(headlines_len)\n",
        "plt.title('Headlines')\n",
        "plt.tight_layout()\n",
        "plt.show()\n",
        "\n",
        "plt.title('Text')\n",
        "plt.hist(text_len, bins = 40)\n",
        "plt.xlabel('length of samples')\n",
        "plt.ylabel('number of samples')\n",
        "plt.show()\n",
        "\n",
        "plt.title('Headlines')\n",
        "plt.hist(headlines_len, bins = 40)\n",
        "plt.xlabel('length of samples')\n",
        "plt.ylabel('number of samples')\n",
        "plt.show()"
      ],
      "metadata": {
        "colab": {
          "base_uri": "https://localhost:8080/",
          "height": 962
        },
        "id": "IbUDQsUyjURQ",
        "outputId": "796de570-6055-4e9d-a013-ced0dd72ba64"
      },
      "execution_count": null,
      "outputs": [
        {
          "output_type": "stream",
          "name": "stdout",
          "text": [
            "텍스트의 최소 길이 : 1\n",
            "텍스트의 최대 길이 : 60\n",
            "텍스트의 평균 길이 : 35.10029309397326\n",
            "요약의 최소 길이 : 1\n",
            "요약의 최대 길이 : 16\n",
            "요약의 평균 길이 : 9.299444342675704\n"
          ]
        },
        {
          "output_type": "display_data",
          "data": {
            "text/plain": [
              "<Figure size 432x288 with 2 Axes>"
            ],
            "image/png": "[encoded data removed]"
          },
          "metadata": {
            "needs_background": "light"
          }
        },
        {
          "output_type": "display_data",
          "data": {
            "text/plain": [
              "<Figure size 432x288 with 1 Axes>"
            ],
            "image/png": "[encoded data removed]"
          },
          "metadata": {
            "needs_background": "light"
          }
        },
        {
          "output_type": "display_data",
          "data": {
            "text/plain": [
              "<Figure size 432x288 with 1 Axes>"
            ],
            "image/png": "[encoded data removed]"
          },
          "metadata": {
            "needs_background": "light"
          }
        }
      ]
    },
    {
      "cell_type": "markdown",
      "source": [
        "Text의 경우\n",
        "- 최소 길이: 1\n",
        "- 최대 길이: 60\n",
        "- 평균 길이: 35  \n",
        "시각화된 그래프로 봤을 때, 대체적으로 30~40내외의 길이를 가진다는 것을 확인할 수 있다.\n",
        "\n",
        "Headlines의 경우\n",
        "- 최소 길이: 1\n",
        "- 최대 길이: 16\n",
        "- 평균 길이: 9  \n",
        "시각화된 그래프로 봤을 때, 대체적으로 8~10 내외의 길이를 가지고 있다는 것을 알 수 있다.\n",
        "\n",
        "또한 Headlines의 경우 평균길이가 9로 text 원문이 35인것에 비해 약 4배정도 차이가 나는 것을 알 수 있다. \n",
        "\n",
        "흠... 저 text에서 길이 1짜리가 튀어서 뭔지 확인해보고 싶다..!  "
      ],
      "metadata": {
        "id": "GLGoJ1MBnVOf"
      }
    },
    {
      "cell_type": "code",
      "source": [
        "curious_data = [idx for idx, val in enumerate(text_len) if val <= 5 ]\n",
        "print(curious_data)"
      ],
      "metadata": {
        "colab": {
          "base_uri": "https://localhost:8080/"
        },
        "id": "kDY9_LCws3_m",
        "outputId": "911df26e-d9c9-40e2-d7d5-7d1324e24053"
      },
      "execution_count": null,
      "outputs": [
        {
          "output_type": "stream",
          "name": "stdout",
          "text": [
            "[52]\n"
          ]
        }
      ]
    },
    {
      "cell_type": "code",
      "source": [
        "data.loc[52] "
      ],
      "metadata": {
        "colab": {
          "base_uri": "https://localhost:8080/"
        },
        "id": "b6wNEMnzm17T",
        "outputId": "60be67f3-5a91-443a-90de-297af9c6fa10"
      },
      "execution_count": null,
      "outputs": [
        {
          "output_type": "execute_result",
          "data": {
            "text/plain": [
              "headlines    headlines\n",
              "text              text\n",
              "Text              text\n",
              "Headlines    headlines\n",
              "Name: 52, dtype: object"
            ]
          },
          "metadata": {},
          "execution_count": 102
        }
      ]
    },
    {
      "cell_type": "markdown",
      "source": [
        "뭐야... headlines은 headlines이고, text는 text다....   \n",
        "기자가 일하기 싫었나...?ㅋㅋㅋ 이 값도 잊지않고 제거해주도록 하고, \n",
        "\n",
        "이제 어느정도 길이를 정해야 샘플을 많이 자르지 않고 담을 수 있는지 확인해보자. \n",
        "\n",
        "우선 임의로 text의 max_len은 50, headlines의 max_len은 14로 정해본다."
      ],
      "metadata": {
        "id": "asIkfwZwuZmQ"
      }
    },
    {
      "cell_type": "code",
      "source": [
        "#52번 데이터 삭제\n",
        "data=data.drop([52],axis=0)"
      ],
      "metadata": {
        "id": "xbxsRrBlwpnO"
      },
      "execution_count": null,
      "outputs": []
    },
    {
      "cell_type": "code",
      "source": [
        "text_max_len = 50\n",
        "headlines_max_len = 14\n",
        "print('max_len 설정 완료')"
      ],
      "metadata": {
        "colab": {
          "base_uri": "https://localhost:8080/"
        },
        "id": "KgfJrGCAqffT",
        "outputId": "a5585570-4df0-4454-fa3c-3c3ec6bd412d"
      },
      "execution_count": null,
      "outputs": [
        {
          "output_type": "stream",
          "name": "stdout",
          "text": [
            "max_len 설정 완료\n"
          ]
        }
      ]
    },
    {
      "cell_type": "code",
      "source": [
        "def below_threshold_len(max_len, nested_list):\n",
        "  cnt = 0\n",
        "  for s in nested_list:\n",
        "    if(len(s.split()) <= max_len):\n",
        "        cnt = cnt + 1\n",
        "  print('전체 샘플 중 길이가 %s 이하인 샘플의 비율: %s'%(max_len, (cnt / len(nested_list))))\n",
        "print('max_len별 샘플 비율 함수 설정 완료:)')"
      ],
      "metadata": {
        "colab": {
          "base_uri": "https://localhost:8080/"
        },
        "id": "nScwtnfcvJSC",
        "outputId": "e4bf81e1-0528-44d9-a013-0b66e0192e3c"
      },
      "execution_count": null,
      "outputs": [
        {
          "output_type": "stream",
          "name": "stdout",
          "text": [
            "max_len별 샘플 비율 함수 설정 완료:)\n"
          ]
        }
      ]
    },
    {
      "cell_type": "code",
      "source": [
        "below_threshold_len(text_max_len, data['text'])\n",
        "below_threshold_len(headlines_max_len, data['headlines'])"
      ],
      "metadata": {
        "colab": {
          "base_uri": "https://localhost:8080/"
        },
        "id": "yzbYa-7ivUCy",
        "outputId": "9eb802d3-087a-4405-8274-148c88b8115a"
      },
      "execution_count": null,
      "outputs": [
        {
          "output_type": "stream",
          "name": "stdout",
          "text": [
            "전체 샘플 중 길이가 50 이하인 샘플의 비율: 0.9998575223130235\n",
            "전체 샘플 중 길이가 14 이하인 샘플의 비율: 0.9997761064918941\n"
          ]
        }
      ]
    },
    {
      "cell_type": "markdown",
      "source": [
        "각각 max_len 보다 큰 샘플 비율이 약 1%정도다.  \n",
        "더 잘라내보고 싶지만, 쫄보는 데이터 하나하나가 소중하기때문에... 이대로 진행해본다.\n",
        "\n",
        "---\n",
        "\n",
        "@NLP에서 데이터 처리시 n% 이상은 이상비율로 처리해서 자른다는게 논문이나 자료로 나와있으면 그것에 맞춰서 자르고 싶은데,, 나와있지 않으니 결정하기 어렵다.  \n",
        "정규분포로 따져서 뭐 5%로 자른다 하기엔 정규분포를 따르는게 아니니까...  \n",
        "그래도 어느정도 boxplot에서 크게 벗어난 데이터는 삭제했다는 생각으로 계속 진행해보기로했다."
      ],
      "metadata": {
        "id": "ukWv5ONevm_q"
      }
    },
    {
      "cell_type": "code",
      "source": [
        "data['Text'] = data['text']\n",
        "data['Headlines'] = data['headlines']\n",
        "#짜르기 전에 이후 모델학습을 위해 중간 저장해준다"
      ],
      "metadata": {
        "id": "MuN2a42Sg4mX"
      },
      "execution_count": null,
      "outputs": []
    },
    {
      "cell_type": "code",
      "source": [
        "data['text'] = data['Text']\n",
        "data['headlines'] = data['Headlines']"
      ],
      "metadata": {
        "id": "Rm0jBCrKhMTe"
      },
      "execution_count": null,
      "outputs": []
    },
    {
      "cell_type": "code",
      "source": [
        "data = data[data['text'].apply(lambda x: len(x.split()) <= text_max_len)]\n",
        "data = data[data['headlines'].apply(lambda x: len(x.split()) <= headlines_max_len)]\n",
        "print('전체 샘플수 :', (len(data)))"
      ],
      "metadata": {
        "colab": {
          "base_uri": "https://localhost:8080/"
        },
        "id": "D1QnnQGXvhlf",
        "outputId": "285b21be-36b2-46aa-f9e2-ccb2c351ac7d"
      },
      "execution_count": null,
      "outputs": [
        {
          "output_type": "stream",
          "name": "stdout",
          "text": [
            "전체 샘플수 : 98225\n"
          ]
        }
      ]
    },
    {
      "cell_type": "markdown",
      "source": [
        "전체 샘플수 : 98262 -> 98225로 (52번 데이터 포함) 약 37개가 삭제 되었다. "
      ],
      "metadata": {
        "id": "o8o5m2WUxrji"
      }
    },
    {
      "cell_type": "markdown",
      "source": [
        "#### 시작 토큰과 종료 토큰 추가하기"
      ],
      "metadata": {
        "id": "W6xF8WsXzyNj"
      }
    },
    {
      "cell_type": "code",
      "source": [
        "# 요약 데이터에는 시작 토큰과 종료 토큰을 추가한다.\n",
        "data['decoder_input'] = data['headlines'].apply(lambda x : 'sostoken '+ x)\n",
        "data['decoder_target'] = data['headlines'].apply(lambda x : x + ' eostoken')\n",
        "data.head()"
      ],
      "metadata": {
        "colab": {
          "base_uri": "https://localhost:8080/",
          "height": 614
        },
        "id": "CzoakuEWxmEL",
        "outputId": "261147c9-aedf-4334-86b3-cdf97234caf0"
      },
      "execution_count": null,
      "outputs": [
        {
          "output_type": "execute_result",
          "data": {
            "text/plain": [
              "                                           headlines  \\\n",
              "0  upgrad learner switches to career in ml al wit...   \n",
              "1  delhi techie wins free food from swiggy for on...   \n",
              "2  new zealand end rohit sharma led india match w...   \n",
              "3  aegon life iterm insurance plan helps customer...   \n",
              "4  have known hirani for yrs what if metoo claims...   \n",
              "\n",
              "                                                text  \\\n",
              "0  saurav kant alumnus upgrad iiit pg program mac...   \n",
              "1  kunal shah credit card bill payment platform c...   \n",
              "2  new zealand defeated india wickets fourth odi ...   \n",
              "3  aegon life iterm insurance plan customers enjo...   \n",
              "4  speaking sexual harassment allegations rajkuma...   \n",
              "\n",
              "                                                Text  \\\n",
              "0  saurav kant alumnus upgrad iiit pg program mac...   \n",
              "1  kunal shah credit card bill payment platform c...   \n",
              "2  new zealand defeated india wickets fourth odi ...   \n",
              "3  aegon life iterm insurance plan customers enjo...   \n",
              "4  speaking sexual harassment allegations rajkuma...   \n",
              "\n",
              "                                           Headlines  \\\n",
              "0  upgrad learner switches to career in ml al wit...   \n",
              "1  delhi techie wins free food from swiggy for on...   \n",
              "2  new zealand end rohit sharma led india match w...   \n",
              "3  aegon life iterm insurance plan helps customer...   \n",
              "4  have known hirani for yrs what if metoo claims...   \n",
              "\n",
              "                                       decoder_input  \\\n",
              "0  sostoken upgrad learner switches to career in ...   \n",
              "1  sostoken delhi techie wins free food from swig...   \n",
              "2  sostoken new zealand end rohit sharma led indi...   \n",
              "3  sostoken aegon life iterm insurance plan helps...   \n",
              "4  sostoken have known hirani for yrs what if met...   \n",
              "\n",
              "                                      decoder_target  \n",
              "0  upgrad learner switches to career in ml al wit...  \n",
              "1  delhi techie wins free food from swiggy for on...  \n",
              "2  new zealand end rohit sharma led india match w...  \n",
              "3  aegon life iterm insurance plan helps customer...  \n",
              "4  have known hirani for yrs what if metoo claims...  "
            ],
            "text/html": [
              "\n",
              "  <div id=\"df-bf8eeaa5-aad1-4bc3-987c-e955863a4c6b\">\n",
              "    <div class=\"colab-df-container\">\n",
              "      <div>\n",
              "<style scoped>\n",
              "    .dataframe tbody tr th:only-of-type {\n",
              "        vertical-align: middle;\n",
              "    }\n",
              "\n",
              "    .dataframe tbody tr th {\n",
              "        vertical-align: top;\n",
              "    }\n",
              "\n",
              "    .dataframe thead th {\n",
              "        text-align: right;\n",
              "    }\n",
              "</style>\n",
              "<table border=\"1\" class=\"dataframe\">\n",
              "  <thead>\n",
              "    <tr style=\"text-align: right;\">\n",
              "      <th></th>\n",
              "      <th>headlines</th>\n",
              "      <th>text</th>\n",
              "      <th>Text</th>\n",
              "      <th>Headlines</th>\n",
              "      <th>decoder_input</th>\n",
              "      <th>decoder_target</th>\n",
              "    </tr>\n",
              "  </thead>\n",
              "  <tbody>\n",
              "    <tr>\n",
              "      <th>0</th>\n",
              "      <td>upgrad learner switches to career in ml al wit...</td>\n",
              "      <td>saurav kant alumnus upgrad iiit pg program mac...</td>\n",
              "      <td>saurav kant alumnus upgrad iiit pg program mac...</td>\n",
              "      <td>upgrad learner switches to career in ml al wit...</td>\n",
              "      <td>sostoken upgrad learner switches to career in ...</td>\n",
              "      <td>upgrad learner switches to career in ml al wit...</td>\n",
              "    </tr>\n",
              "    <tr>\n",
              "      <th>1</th>\n",
              "      <td>delhi techie wins free food from swiggy for on...</td>\n",
              "      <td>kunal shah credit card bill payment platform c...</td>\n",
              "      <td>kunal shah credit card bill payment platform c...</td>\n",
              "      <td>delhi techie wins free food from swiggy for on...</td>\n",
              "      <td>sostoken delhi techie wins free food from swig...</td>\n",
              "      <td>delhi techie wins free food from swiggy for on...</td>\n",
              "    </tr>\n",
              "    <tr>\n",
              "      <th>2</th>\n",
              "      <td>new zealand end rohit sharma led india match w...</td>\n",
              "      <td>new zealand defeated india wickets fourth odi ...</td>\n",
              "      <td>new zealand defeated india wickets fourth odi ...</td>\n",
              "      <td>new zealand end rohit sharma led india match w...</td>\n",
              "      <td>sostoken new zealand end rohit sharma led indi...</td>\n",
              "      <td>new zealand end rohit sharma led india match w...</td>\n",
              "    </tr>\n",
              "    <tr>\n",
              "      <th>3</th>\n",
              "      <td>aegon life iterm insurance plan helps customer...</td>\n",
              "      <td>aegon life iterm insurance plan customers enjo...</td>\n",
              "      <td>aegon life iterm insurance plan customers enjo...</td>\n",
              "      <td>aegon life iterm insurance plan helps customer...</td>\n",
              "      <td>sostoken aegon life iterm insurance plan helps...</td>\n",
              "      <td>aegon life iterm insurance plan helps customer...</td>\n",
              "    </tr>\n",
              "    <tr>\n",
              "      <th>4</th>\n",
              "      <td>have known hirani for yrs what if metoo claims...</td>\n",
              "      <td>speaking sexual harassment allegations rajkuma...</td>\n",
              "      <td>speaking sexual harassment allegations rajkuma...</td>\n",
              "      <td>have known hirani for yrs what if metoo claims...</td>\n",
              "      <td>sostoken have known hirani for yrs what if met...</td>\n",
              "      <td>have known hirani for yrs what if metoo claims...</td>\n",
              "    </tr>\n",
              "  </tbody>\n",
              "</table>\n",
              "</div>\n",
              "      <button class=\"colab-df-convert\" onclick=\"convertToInteractive('df-bf8eeaa5-aad1-4bc3-987c-e955863a4c6b')\"\n",
              "              title=\"Convert this dataframe to an interactive table.\"\n",
              "              style=\"display:none;\">\n",
              "        \n",
              "  <svg xmlns=\"http://www.w3.org/2000/svg\" height=\"24px\"viewBox=\"0 0 24 24\"\n",
              "       width=\"24px\">\n",
              "    <path d=\"M0 0h24v24H0V0z\" fill=\"none\"/>\n",
              "    <path d=\"M18.56 5.44l.94 2.06.94-2.06 2.06-.94-2.06-.94-.94-2.06-.94 2.06-2.06.94zm-11 1L8.5 8.5l.94-2.06 2.06-.94-2.06-.94L8.5 2.5l-.94 2.06-2.06.94zm10 10l.94 2.06.94-2.06 2.06-.94-2.06-.94-.94-2.06-.94 2.06-2.06.94z\"/><path d=\"M17.41 7.96l-1.37-1.37c-.4-.4-.92-.59-1.43-.59-.52 0-1.04.2-1.43.59L10.3 9.45l-7.72 7.72c-.78.78-.78 2.05 0 2.83L4 21.41c.39.39.9.59 1.41.59.51 0 1.02-.2 1.41-.59l7.78-7.78 2.81-2.81c.8-.78.8-2.07 0-2.86zM5.41 20L4 18.59l7.72-7.72 1.47 1.35L5.41 20z\"/>\n",
              "  </svg>\n",
              "      </button>\n",
              "      \n",
              "  <style>\n",
              "    .colab-df-container {\n",
              "      display:flex;\n",
              "      flex-wrap:wrap;\n",
              "      gap: 12px;\n",
              "    }\n",
              "\n",
              "    .colab-df-convert {\n",
              "      background-color: #E8F0FE;\n",
              "      border: none;\n",
              "      border-radius: 50%;\n",
              "      cursor: pointer;\n",
              "      display: none;\n",
              "      fill: #1967D2;\n",
              "      height: 32px;\n",
              "      padding: 0 0 0 0;\n",
              "      width: 32px;\n",
              "    }\n",
              "\n",
              "    .colab-df-convert:hover {\n",
              "      background-color: #E2EBFA;\n",
              "      box-shadow: 0px 1px 2px rgba(60, 64, 67, 0.3), 0px 1px 3px 1px rgba(60, 64, 67, 0.15);\n",
              "      fill: #174EA6;\n",
              "    }\n",
              "\n",
              "    [theme=dark] .colab-df-convert {\n",
              "      background-color: #3B4455;\n",
              "      fill: #D2E3FC;\n",
              "    }\n",
              "\n",
              "    [theme=dark] .colab-df-convert:hover {\n",
              "      background-color: #434B5C;\n",
              "      box-shadow: 0px 1px 3px 1px rgba(0, 0, 0, 0.15);\n",
              "      filter: drop-shadow(0px 1px 2px rgba(0, 0, 0, 0.3));\n",
              "      fill: #FFFFFF;\n",
              "    }\n",
              "  </style>\n",
              "\n",
              "      <script>\n",
              "        const buttonEl =\n",
              "          document.querySelector('#df-bf8eeaa5-aad1-4bc3-987c-e955863a4c6b button.colab-df-convert');\n",
              "        buttonEl.style.display =\n",
              "          google.colab.kernel.accessAllowed ? 'block' : 'none';\n",
              "\n",
              "        async function convertToInteractive(key) {\n",
              "          const element = document.querySelector('#df-bf8eeaa5-aad1-4bc3-987c-e955863a4c6b');\n",
              "          const dataTable =\n",
              "            await google.colab.kernel.invokeFunction('convertToInteractive',\n",
              "                                                     [key], {});\n",
              "          if (!dataTable) return;\n",
              "\n",
              "          const docLinkHtml = 'Like what you see? Visit the ' +\n",
              "            '<a target=\"_blank\" href=https://colab.research.google.com/notebooks/data_table.ipynb>data table notebook</a>'\n",
              "            + ' to learn more about interactive tables.';\n",
              "          element.innerHTML = '';\n",
              "          dataTable['output_type'] = 'display_data';\n",
              "          await google.colab.output.renderOutput(dataTable, element);\n",
              "          const docLink = document.createElement('div');\n",
              "          docLink.innerHTML = docLinkHtml;\n",
              "          element.appendChild(docLink);\n",
              "        }\n",
              "      </script>\n",
              "    </div>\n",
              "  </div>\n",
              "  "
            ]
          },
          "metadata": {},
          "execution_count": 111
        }
      ]
    },
    {
      "cell_type": "markdown",
      "source": [
        "decord의 headlines의 앞에 sostoken이 붙은 input과 뒤에 eostoken이 붙은 target이 생긴것을 확인했다. 이 값들을 다시 NUMPY 타입으로 저장해주자.\n",
        "\n",
        "---\n",
        "\n",
        "아.... years의 줄임말인 yrs가 눈에 띈다.... 누네띠네... 요약문에 큰 영향을 주진 않을 것 같아 그냥 넘어가기로한다....     \n",
        "(아니 한번 처리했는데도 안없어지네...?)  \n",
        "어떻게하면 미리 저런 데이터를 처리해서 시간단축을 시킬 수 있을까?  \n"
      ],
      "metadata": {
        "id": "EgyVVr5S0OrU"
      }
    },
    {
      "cell_type": "code",
      "source": [
        "encoder_input = np.array(data['text']) # 인코더의 입력\n",
        "decoder_input = np.array(data['decoder_input']) # 디코더의 입력\n",
        "decoder_target = np.array(data['decoder_target']) # 디코더의 레이블\n",
        "print('인코더/디코더 레이블 입력 완료:)')"
      ],
      "metadata": {
        "colab": {
          "base_uri": "https://localhost:8080/"
        },
        "id": "HWm7kCXrz5cu",
        "outputId": "ed995725-8a4d-41fc-c60d-d30491ddb085"
      },
      "execution_count": null,
      "outputs": [
        {
          "output_type": "stream",
          "name": "stdout",
          "text": [
            "인코더/디코더 레이블 입력 완료:)\n"
          ]
        }
      ]
    },
    {
      "cell_type": "markdown",
      "source": [
        "이제 trainning/validation 데이터를 나누자.   \n",
        "sklearn을 사용해서 분리해보고 싶었는데, 나눠야할 게 3가지가 되니 조금 머리가 아파 그냥 mix 정수 시퀀스를 만들어서 나눠주자.\n"
      ],
      "metadata": {
        "id": "83MvyTlG20b6"
      }
    },
    {
      "cell_type": "code",
      "source": [
        "indices = np.arange(encoder_input.shape[0])\n",
        "np.random.shuffle(indices)\n",
        "print(indices)"
      ],
      "metadata": {
        "colab": {
          "base_uri": "https://localhost:8080/"
        },
        "id": "EdkBOdNE3nzg",
        "outputId": "18b6eb7a-822a-4e13-ca32-17983c93c657"
      },
      "execution_count": null,
      "outputs": [
        {
          "output_type": "stream",
          "name": "stdout",
          "text": [
            "[76690 83427 37058 ... 71260 96730   305]\n"
          ]
        }
      ]
    },
    {
      "cell_type": "code",
      "source": [
        "encoder_input_save = encoder_input[indices]\n",
        "decoder_input_save = decoder_input[indices]\n",
        "decoder_target_save = decoder_target[indices]\n",
        "#중간저장용 save "
      ],
      "metadata": {
        "id": "4cqdShxpiBdu"
      },
      "execution_count": null,
      "outputs": []
    },
    {
      "cell_type": "code",
      "source": [
        "encoder_input = encoder_input_save\n",
        "decoder_input = decoder_input_save\n",
        "decoder_target = decoder_target_save\n",
        "print('random 샘플 정의 완료:)')"
      ],
      "metadata": {
        "colab": {
          "base_uri": "https://localhost:8080/"
        },
        "id": "UHIKIdMK2zNv",
        "outputId": "352bb49b-e4b5-41fe-a594-4165174f4232"
      },
      "execution_count": null,
      "outputs": [
        {
          "output_type": "stream",
          "name": "stdout",
          "text": [
            "random 샘플 정의 완료:)\n"
          ]
        }
      ]
    },
    {
      "cell_type": "markdown",
      "source": [
        "이제 섞인 데이터를 8:2의 비율로 train, test로 나눠준다"
      ],
      "metadata": {
        "id": "Lub7jZCx5tLG"
      }
    },
    {
      "cell_type": "code",
      "source": [
        "n_of_val = int(len(encoder_input)*0.2)\n",
        "print('테스트 데이터의 수 :',n_of_val)"
      ],
      "metadata": {
        "colab": {
          "base_uri": "https://localhost:8080/"
        },
        "id": "Z7ad66An5juQ",
        "outputId": "7ee3764a-7950-4e96-e8aa-37c5a086071e"
      },
      "execution_count": null,
      "outputs": [
        {
          "output_type": "stream",
          "name": "stdout",
          "text": [
            "테스트 데이터의 수 : 19645\n"
          ]
        }
      ]
    },
    {
      "cell_type": "code",
      "source": [
        "encoder_input_train = encoder_input[:-n_of_val]\n",
        "decoder_input_train = decoder_input[:-n_of_val]\n",
        "decoder_target_train = decoder_target[:-n_of_val]\n",
        "\n",
        "encoder_input_test = encoder_input[-n_of_val:]\n",
        "decoder_input_test = decoder_input[-n_of_val:]\n",
        "decoder_target_test = decoder_target[-n_of_val:]\n",
        "\n",
        "print('훈련 데이터의 개수 :', len(encoder_input_train))\n",
        "print('훈련 레이블의 개수 :', len(decoder_input_train))\n",
        "print('테스트 데이터의 개수 :', len(encoder_input_test))\n",
        "print('테스트 레이블의 개수 :', len(decoder_input_test))"
      ],
      "metadata": {
        "colab": {
          "base_uri": "https://localhost:8080/"
        },
        "id": "eBCxy8Ro5yZl",
        "outputId": "dc63f3c1-d070-4743-9784-99671cd0ce32"
      },
      "execution_count": null,
      "outputs": [
        {
          "output_type": "stream",
          "name": "stdout",
          "text": [
            "훈련 데이터의 개수 : 78580\n",
            "훈련 레이블의 개수 : 78580\n",
            "테스트 데이터의 개수 : 19645\n",
            "테스트 레이블의 개수 : 19645\n"
          ]
        }
      ]
    },
    {
      "cell_type": "markdown",
      "source": [
        "encorder/decorder의 input/target 데이터가 잘 나눠진 것을 볼 수 있다. \n",
        "\n",
        "이제 vocab 생성 및 정수 인코딩을 진행하자. "
      ],
      "metadata": {
        "id": "5FoaCCjp5_5l"
      }
    },
    {
      "cell_type": "markdown",
      "source": [
        "### 3) 정수 인코딩"
      ],
      "metadata": {
        "id": "Vbw0mkHp6Npd"
      }
    },
    {
      "cell_type": "markdown",
      "source": [
        "#### 단어 집합(vocabulary) 만들기 및 정수 인코딩\n",
        "---\n",
        "이제 encorder/decorder의 input/target으로 나눠진 묶음에 대해 vocab을 생성하자 "
      ],
      "metadata": {
        "id": "CegQx1Bu62sF"
      }
    },
    {
      "cell_type": "code",
      "source": [
        "src_tokenizer = Tokenizer() # 토크나이저 정의\n",
        "src_tokenizer.fit_on_texts(encoder_input_train) # 입력된 데이터로부터 단어 집합 생성\n",
        "print('enc_input_train 토크나이저 끝:)')"
      ],
      "metadata": {
        "colab": {
          "base_uri": "https://localhost:8080/"
        },
        "id": "0SI_ITvh53zf",
        "outputId": "25d37622-becc-499d-f95f-cc66560acd4a"
      },
      "execution_count": null,
      "outputs": [
        {
          "output_type": "stream",
          "name": "stdout",
          "text": [
            "enc_input_train 토크나이저 끝:)\n"
          ]
        }
      ]
    },
    {
      "cell_type": "code",
      "source": [
        "#토크나이저 잘됐는지 확인\n",
        "for idx in src_tokenizer.index_word:\n",
        "    print(idx, \":\", src_tokenizer.index_word[idx])\n",
        "\n",
        "    if idx >= 10: break"
      ],
      "metadata": {
        "colab": {
          "base_uri": "https://localhost:8080/"
        },
        "id": "5YuMrp8TjBkk",
        "outputId": "2b6bb7e9-4c86-49d6-f416-c07e7244072b"
      },
      "execution_count": null,
      "outputs": [
        {
          "output_type": "stream",
          "name": "stdout",
          "text": [
            "1 : said\n",
            "2 : india\n",
            "3 : year\n",
            "4 : added\n",
            "5 : us\n",
            "6 : also\n",
            "7 : first\n",
            "8 : government\n",
            "9 : police\n",
            "10 : people\n"
          ]
        }
      ]
    },
    {
      "cell_type": "markdown",
      "source": [
        "2위가 india요...? 기자가 인도사람이라 인도 얘기가 주를 이루나보다"
      ],
      "metadata": {
        "id": "N-_XJSY7kSbh"
      }
    },
    {
      "cell_type": "markdown",
      "source": [
        "여기서 빈도수가 낮은 단어들은 훈련데이터에서 제외해 속도 및 정확도를 올려주자"
      ],
      "metadata": {
        "id": "hKBGkmiO7M30"
      }
    },
    {
      "cell_type": "code",
      "source": [
        "threshold = 7\n",
        "total_cnt = len(src_tokenizer.word_index) # 단어의 수\n",
        "rare_cnt = 0 # 등장 빈도수가 threshold보다 작은 단어의 개수를 카운트\n",
        "total_freq = 0 # 훈련 데이터의 전체 단어 빈도수 총 합\n",
        "rare_freq = 0 # 등장 빈도수가 threshold보다 작은 단어의 등장 빈도수의 총 합\n",
        "\n",
        "# 단어와 빈도수의 쌍(pair)을 key와 value로 받는다.\n",
        "for key, value in src_tokenizer.word_counts.items():\n",
        "    total_freq = total_freq + value\n",
        "\n",
        "    # 단어의 등장 빈도수가 threshold보다 작으면\n",
        "    if(value < threshold):\n",
        "        rare_cnt = rare_cnt + 1\n",
        "        rare_freq = rare_freq + value\n",
        "\n",
        "print('단어 집합(vocabulary)의 크기 :', total_cnt)\n",
        "print('등장 빈도가 %s번 이하인 희귀 단어의 수: %s'%(threshold - 1, rare_cnt))\n",
        "print('단어 집합에서 희귀 단어를 제외시킬 경우의 단어 집합의 크기 %s'%(total_cnt - rare_cnt))\n",
        "print(\"단어 집합에서 희귀 단어의 비율:\", (rare_cnt / total_cnt)*100)\n",
        "print(\"전체 등장 빈도에서 희귀 단어 등장 빈도 비율:\", (rare_freq / total_freq)*100)"
      ],
      "metadata": {
        "colab": {
          "base_uri": "https://localhost:8080/"
        },
        "id": "QozNvexa7Kzp",
        "outputId": "62eb42bb-7264-447b-e663-6ef5f9dc2085"
      },
      "execution_count": null,
      "outputs": [
        {
          "output_type": "stream",
          "name": "stdout",
          "text": [
            "단어 집합(vocabulary)의 크기 : 69637\n",
            "등장 빈도가 6번 이하인 희귀 단어의 수: 47401\n",
            "단어 집합에서 희귀 단어를 제외시킬 경우의 단어 집합의 크기 22236\n",
            "단어 집합에서 희귀 단어의 비율: 68.06869911110472\n",
            "전체 등장 빈도에서 희귀 단어 등장 빈도 비율: 3.476413006478443\n"
          ]
        }
      ]
    },
    {
      "cell_type": "markdown",
      "source": [
        "약 7만개의 단어 중 47,000여개의 단어(전체 중 68%)가 4%내의 빈도로 등장하여, 상대적으로 적은 빈도의 단어들이 큰 수를 차지하고 있는 것을 알 수 있다.  \n",
        "따라서 등장 빈도가 7 이하인 단어를 제거해서 vocab의 수를 약 22,000으로 설정하겠습니다.  \n",
        "(지난 실습을 진행해보니 vocab의 수를 무조건 크게 잡는게 좋은게 아니라는 것을 알았다...!)"
      ],
      "metadata": {
        "id": "l346zKsL7eA0"
      }
    },
    {
      "cell_type": "code",
      "source": [
        "src_vocab = 22000\n",
        "src_tokenizer = Tokenizer(num_words=src_vocab) # 단어 집합의 크기를 8,000으로 제한\n",
        "src_tokenizer.fit_on_texts(encoder_input_train) # 단어 집합 재생성\n",
        "print('vocab 재설정 완료:)')"
      ],
      "metadata": {
        "colab": {
          "base_uri": "https://localhost:8080/"
        },
        "id": "blW5VH3o7T0t",
        "outputId": "fc0cd9d9-a6b9-4428-cb00-a88884b385c1"
      },
      "execution_count": null,
      "outputs": [
        {
          "output_type": "stream",
          "name": "stdout",
          "text": [
            "vocab 재설정 완료:)\n"
          ]
        }
      ]
    },
    {
      "cell_type": "code",
      "source": [
        "# 텍스트 시퀀스를 정수 시퀀스로 변환\n",
        "encoder_input_train = src_tokenizer.texts_to_sequences(encoder_input_train) \n",
        "encoder_input_test = src_tokenizer.texts_to_sequences(encoder_input_test)\n",
        "\n",
        "# 잘 진행되었는지 샘플 출력\n",
        "print(encoder_input_train[:3])"
      ],
      "metadata": {
        "colab": {
          "base_uri": "https://localhost:8080/"
        },
        "id": "oSSP3uEb8XcB",
        "outputId": "63f838bf-b51b-41dd-bdb2-48c5fab979f2"
      },
      "execution_count": null,
      "outputs": [
        {
          "output_type": "stream",
          "name": "stdout",
          "text": [
            "[[5090, 6704, 4078, 568, 895, 3582, 1949, 7244, 100, 3169, 20690, 1583, 4078, 25, 8388, 350, 163, 5145, 2761, 1569, 4590, 724, 10276, 4078, 568, 5880, 19399, 17403, 20691, 22, 4078, 568], [1492, 343, 1375, 298, 2429, 4768, 1013, 1060, 846, 784, 2411, 1652, 62, 1003, 986, 2853, 5333, 882, 188, 11, 2910, 1003, 159, 193, 1973, 3063, 202], [262, 440, 1839, 2775, 381, 795, 197, 66, 2729, 1300, 530, 658, 384, 2, 66, 1102, 941, 1023, 2043, 5487, 436, 530, 2354, 485, 1164, 1839, 1959, 2, 530, 69, 6, 612, 295, 6243, 658]]\n"
          ]
        }
      ]
    },
    {
      "cell_type": "markdown",
      "source": [
        "이제 encoder의 input 데이터들이 22,000 이하의 정수들로 바뀐것을 확인할 수 있다.   \n",
        "headlines의 데이터도 처리해주자"
      ],
      "metadata": {
        "id": "32uaUR1m8d8-"
      }
    },
    {
      "cell_type": "code",
      "source": [
        "tar_tokenizer = Tokenizer()\n",
        "tar_tokenizer.fit_on_texts(decoder_input_train)\n",
        "print('Summary 단어집 생성완료:)')"
      ],
      "metadata": {
        "colab": {
          "base_uri": "https://localhost:8080/"
        },
        "id": "IAks7KZ_8c4n",
        "outputId": "4dfa3fa0-7c5a-4602-8742-f5c7ece3118d"
      },
      "execution_count": null,
      "outputs": [
        {
          "output_type": "stream",
          "name": "stdout",
          "text": [
            "Summary 단어집 생성완료:)\n"
          ]
        }
      ]
    },
    {
      "cell_type": "code",
      "source": [
        "threshold = 6\n",
        "total_cnt = len(tar_tokenizer.word_index) # 단어의 수\n",
        "rare_cnt = 0 # 등장 빈도수가 threshold보다 작은 단어의 개수를 카운트\n",
        "total_freq = 0 # 훈련 데이터의 전체 단어 빈도수 총 합\n",
        "rare_freq = 0 # 등장 빈도수가 threshold보다 작은 단어의 등장 빈도수의 총 합\n",
        "\n",
        "# 단어와 빈도수의 쌍(pair)을 key와 value로 받는다.\n",
        "for key, value in tar_tokenizer.word_counts.items():\n",
        "    total_freq = total_freq + value\n",
        "\n",
        "    # 단어의 등장 빈도수가 threshold보다 작으면\n",
        "    if(value < threshold):\n",
        "        rare_cnt = rare_cnt + 1\n",
        "        rare_freq = rare_freq + value\n",
        "\n",
        "print('단어 집합(vocabulary)의 크기 :', total_cnt)\n",
        "print('등장 빈도가 %s번 이하인 희귀 단어의 수: %s'%(threshold - 1, rare_cnt))\n",
        "print('단어 집합에서 희귀 단어를 제외시킬 경우의 단어 집합의 크기 %s'%(total_cnt - rare_cnt))\n",
        "print(\"단어 집합에서 희귀 단어의 비율:\", (rare_cnt / total_cnt)*100)\n",
        "print(\"전체 등장 빈도에서 희귀 단어 등장 빈도 비율:\", (rare_freq / total_freq)*100)"
      ],
      "metadata": {
        "colab": {
          "base_uri": "https://localhost:8080/"
        },
        "id": "fmyELsUd80PL",
        "outputId": "d91aa55d-caa5-4598-c2a2-30c68d83797c"
      },
      "execution_count": null,
      "outputs": [
        {
          "output_type": "stream",
          "name": "stdout",
          "text": [
            "단어 집합(vocabulary)의 크기 : 30221\n",
            "등장 빈도가 5번 이하인 희귀 단어의 수: 19794\n",
            "단어 집합에서 희귀 단어를 제외시킬 경우의 단어 집합의 크기 10427\n",
            "단어 집합에서 희귀 단어의 비율: 65.49750173720261\n",
            "전체 등장 빈도에서 희귀 단어 등장 빈도 비율: 4.652065407772643\n"
          ]
        }
      ]
    },
    {
      "cell_type": "markdown",
      "source": [
        "headlines의 경우 5번 이하의 희귀단어가 약 19,000로 65%의 크기를 차지하는 반면, 등장은 5% 내 밖에 되지 않는 것을 알 수 있다.  \n",
        "\n",
        "따라서 단어집의 크기를 깔끔하게 10,000개로 잡아주자"
      ],
      "metadata": {
        "id": "pEMNZY-186Aa"
      }
    },
    {
      "cell_type": "code",
      "source": [
        "tar_vocab = 10000\n",
        "tar_tokenizer = Tokenizer(num_words=tar_vocab) \n",
        "tar_tokenizer.fit_on_texts(decoder_input_train)\n",
        "tar_tokenizer.fit_on_texts(decoder_target_train)\n",
        "\n",
        "# 텍스트 시퀀스를 정수 시퀀스로 변환\n",
        "decoder_input_train = tar_tokenizer.texts_to_sequences(decoder_input_train) \n",
        "decoder_target_train = tar_tokenizer.texts_to_sequences(decoder_target_train)\n",
        "decoder_input_test = tar_tokenizer.texts_to_sequences(decoder_input_test)\n",
        "decoder_target_test = tar_tokenizer.texts_to_sequences(decoder_target_test)\n",
        "\n",
        "# 잘 변환되었는지 확인\n",
        "print('input')\n",
        "print('input ',decoder_input_train[:10])\n",
        "print('target')\n",
        "print('target ',decoder_target_train[:10])"
      ],
      "metadata": {
        "colab": {
          "base_uri": "https://localhost:8080/"
        },
        "id": "6_Mw96y_82JW",
        "outputId": "eb31bc59-ebce-438f-fe32-1d7c94ae1391"
      },
      "execution_count": null,
      "outputs": [
        {
          "output_type": "stream",
          "name": "stdout",
          "text": [
            "input\n",
            "input  [[1, 3, 5196, 241, 2529, 3, 21, 4831, 14, 18, 349], [1, 2804, 1564, 4, 529, 404, 3, 1812, 48, 3], [1, 1147, 107, 2917, 719, 215, 2579, 14, 8, 433], [1, 3694, 3, 115, 16, 1406, 7709, 13], [1, 23, 477, 3, 2160, 361, 5017, 12, 1761, 2016], [1, 1455, 3902, 3, 559, 661, 1077, 169, 1519, 13, 106, 28], [1, 398, 1520, 1098, 5891, 90, 31, 1577, 5, 38], [1, 778, 44, 4, 13, 3, 736, 2855, 4, 2737], [1, 322, 500, 2856, 460, 3, 501, 11, 147], [1, 1565, 759, 333, 35, 15, 136, 7, 1245, 307, 4, 13]]\n",
            "target\n",
            "target  [[3, 5196, 241, 2529, 3, 21, 4831, 14, 18, 349, 2], [2804, 1564, 4, 529, 404, 3, 1812, 48, 3, 2], [1147, 107, 2917, 719, 215, 2579, 14, 8, 433, 2], [3694, 3, 115, 16, 1406, 7709, 13, 2], [23, 477, 3, 2160, 361, 5017, 12, 1761, 2016, 2], [1455, 3902, 3, 559, 661, 1077, 169, 1519, 13, 106, 28, 2], [398, 1520, 1098, 5891, 90, 31, 1577, 5, 38, 2], [778, 44, 4, 13, 3, 736, 2855, 4, 2737, 2], [322, 500, 2856, 460, 3, 501, 11, 147, 2], [1565, 759, 333, 35, 15, 136, 7, 1245, 307, 4, 13, 2]]\n"
          ]
        }
      ]
    },
    {
      "cell_type": "markdown",
      "source": [
        "이렇게 삭제하고 나면, 데이터 내에서 빈도수가 낮은 단어들만으로 구성된 샘플들은 빈값으로 남아있을 가능성이 있다.  \n",
        "혹시 모를 가능성을 없애기위해 빈 데이터들을 찾아 삭제해주자"
      ],
      "metadata": {
        "id": "z2KpqPf59sTq"
      }
    },
    {
      "cell_type": "code",
      "source": [
        "drop_train = [index for index, sentence in enumerate(decoder_input_train) if len(sentence) == 1]\n",
        "drop_test = [index for index, sentence in enumerate(decoder_input_test) if len(sentence) == 1]\n",
        "\n",
        "print('삭제할 훈련 데이터의 개수 :', len(drop_train))\n",
        "print('삭제할 테스트 데이터의 개수 :', len(drop_test))\n",
        "\n",
        "encoder_input_train_save = [sentence for index, sentence in enumerate(encoder_input_train) if index not in drop_train]\n",
        "decoder_input_train_save = [sentence for index, sentence in enumerate(decoder_input_train) if index not in drop_train]\n",
        "decoder_target_train_save = [sentence for index, sentence in enumerate(decoder_target_train) if index not in drop_train]\n",
        "\n",
        "encoder_input_test_save = [sentence for index, sentence in enumerate(encoder_input_test) if index not in drop_test]\n",
        "decoder_input_test_save = [sentence for index, sentence in enumerate(decoder_input_test) if index not in drop_test]\n",
        "decoder_target_test_save = [sentence for index, sentence in enumerate(decoder_target_test) if index not in drop_test]\n",
        "\n",
        "print('훈련 데이터의 개수 :', len(encoder_input_train_save))\n",
        "print('훈련 레이블의 개수 :', len(decoder_input_train_save))\n",
        "print('테스트 데이터의 개수 :', len(encoder_input_test_save))\n",
        "print('테스트 레이블의 개수 :', len(decoder_input_test_save))"
      ],
      "metadata": {
        "colab": {
          "base_uri": "https://localhost:8080/"
        },
        "id": "5vC3fK6w9NgH",
        "outputId": "bd863b4c-821b-4469-907a-2263b4bb3884"
      },
      "execution_count": null,
      "outputs": [
        {
          "output_type": "stream",
          "name": "stdout",
          "text": [
            "삭제할 훈련 데이터의 개수 : 0\n",
            "삭제할 테스트 데이터의 개수 : 0\n",
            "훈련 데이터의 개수 : 78580\n",
            "훈련 레이블의 개수 : 78580\n",
            "테스트 데이터의 개수 : 19645\n",
            "테스트 레이블의 개수 : 19645\n"
          ]
        }
      ]
    },
    {
      "cell_type": "markdown",
      "source": [
        "#### 중간저장 POINT★"
      ],
      "metadata": {
        "id": "khM7mvsIlnhB"
      }
    },
    {
      "cell_type": "code",
      "source": [
        "encoder_input_train = encoder_input_train_save\n",
        "decoder_input_train = decoder_input_train_save\n",
        "decoder_target_train = decoder_target_train_save\n",
        "encoder_input_test = encoder_input_test_save\n",
        "decoder_input_test = decoder_input_test_save\n",
        "decoder_target_test = decoder_target_test_save\n",
        "#여기도 중간저장"
      ],
      "metadata": {
        "id": "RmgltOFalIay"
      },
      "execution_count": null,
      "outputs": []
    },
    {
      "cell_type": "markdown",
      "source": [
        "뉴스와 헤드라인이라 그런지 빈도수가 낮은 데이터들도 이뤄진 것은 없는 것 같다.  \n",
        "이제 패딩까지 처리하고 모델설계로 넘어가자!"
      ],
      "metadata": {
        "id": "EUSR0C3B98r0"
      }
    },
    {
      "cell_type": "markdown",
      "source": [
        "#### 패딩하기"
      ],
      "metadata": {
        "id": "pIIwHFWt-eiQ"
      }
    },
    {
      "cell_type": "code",
      "source": [
        "encoder_input_train = pad_sequences(encoder_input_train, maxlen=text_max_len, padding='post')\n",
        "encoder_input_test = pad_sequences(encoder_input_test, maxlen=text_max_len, padding='post')\n",
        "decoder_input_train = pad_sequences(decoder_input_train, maxlen=headlines_max_len, padding='post')\n",
        "decoder_target_train = pad_sequences(decoder_target_train, maxlen=headlines_max_len, padding='post')\n",
        "decoder_input_test = pad_sequences(decoder_input_test, maxlen=headlines_max_len, padding='post')\n",
        "decoder_target_test = pad_sequences(decoder_target_test, maxlen=headlines_max_len, padding='post')\n",
        "print('패딩 완료:)')"
      ],
      "metadata": {
        "colab": {
          "base_uri": "https://localhost:8080/"
        },
        "id": "2AZCIsCF975M",
        "outputId": "0cd8917b-9858-441c-c81d-f0e0c7020e8e"
      },
      "execution_count": null,
      "outputs": [
        {
          "output_type": "stream",
          "name": "stdout",
          "text": [
            "패딩 완료:)\n"
          ]
        }
      ]
    },
    {
      "cell_type": "markdown",
      "source": [
        "## 3. 모델 설계하기"
      ],
      "metadata": {
        "id": "DpBHqBsg-idq"
      }
    },
    {
      "cell_type": "markdown",
      "source": [
        "지난번 가사추출 AI 설계시 2만개의 단어에서 embedding size를 256으로 진행하니 적절했던게 생각나서 embedding size를 256, hidden size를 512로 해줘보자. "
      ],
      "metadata": {
        "id": "qn-Ofcl7-tTa"
      }
    },
    {
      "cell_type": "code",
      "source": [
        "# 인코더 설계 시작\n",
        "embedding_dim = 256\n",
        "hidden_size = 512\n",
        "\n",
        "# 인코더\n",
        "encoder_inputs = Input(shape=(text_max_len,))\n",
        "\n",
        "# 인코더의 임베딩 층\n",
        "enc_emb = Embedding(src_vocab, embedding_dim)(encoder_inputs)\n",
        "\n",
        "# 인코더의 LSTM 1\n",
        "# encoder_lstm1 = LSTM(hidden_size, return_sequences=True, return_state=True ,dropout = 0.4, recurrent_dropout = 0.4)\n",
        "encoder_lstm1 = LSTM(hidden_size, return_sequences=True, return_state=True ,dropout = 0.4)\n",
        "encoder_output1, state_h1, state_c1 = encoder_lstm1(enc_emb)\n",
        "\n",
        "# 인코더의 LSTM 2\n",
        "# encoder_lstm2 = LSTM(hidden_size, return_sequences=True, return_state=True, dropout=0.4, recurrent_dropout=0.4)\n",
        "encoder_lstm2 = LSTM(hidden_size, return_sequences=True, return_state=True, dropout=0.4)\n",
        "encoder_output2, state_h2, state_c2 = encoder_lstm2(encoder_output1)\n",
        "\n",
        "# 인코더의 LSTM 3\n",
        "# encoder_lstm3 = LSTM(hidden_size, return_state=True, return_sequences=True, dropout=0.4, recurrent_dropout=0.4)\n",
        "encoder_lstm3 = LSTM(hidden_size, return_state=True, return_sequences=True, dropout=0.4)\n",
        "encoder_outputs, state_h, state_c= encoder_lstm3(encoder_output2)"
      ],
      "metadata": {
        "id": "IG7x-ntV-hGR"
      },
      "execution_count": null,
      "outputs": []
    },
    {
      "cell_type": "markdown",
      "source": [
        "일반적인 dropout은 레이어의 weight를 랜덤으로 생략하여 모델의 과적합(overfitting)을 해결해주는 방법이다.\n",
        "\n",
        "반면 recurrent dropout은 dropout을 레이어가 아닌 time step마다 해주는 방식이다. 즉 time step의 입력을 랜덤으로 생략해 주는 것. recurrent dropout은 일반적인 dropout와 같이 regularization을 해주는 효과가 있고, 과적합을 방지할 수 있다고 하니 적용해본다."
      ],
      "metadata": {
        "id": "AJL1AM1gC7Yd"
      }
    },
    {
      "cell_type": "code",
      "source": [
        "# 디코더 설계\n",
        "decoder_inputs = Input(shape=(None,))\n",
        "\n",
        "# 디코더의 임베딩 층\n",
        "dec_emb_layer = Embedding(tar_vocab, embedding_dim)\n",
        "dec_emb = dec_emb_layer(decoder_inputs)\n",
        "\n",
        "# 디코더의 LSTM\n",
        "# decoder_lstm = LSTM(hidden_size, return_sequences=True, return_state=True, dropout=0.4, recurrent_dropout=0.2)\n",
        "decoder_lstm = LSTM(hidden_size, return_sequences=True, return_state=True, dropout=0.4)\n",
        "decoder_outputs, _, _ = decoder_lstm(dec_emb, initial_state=[state_h, state_c])"
      ],
      "metadata": {
        "id": "gA4OXjFuB_iy"
      },
      "execution_count": null,
      "outputs": []
    },
    {
      "cell_type": "code",
      "source": [
        "# 디코더의 출력층\n",
        "decoder_softmax_layer = Dense(tar_vocab, activation='softmax')\n",
        "decoder_softmax_outputs = decoder_softmax_layer(decoder_outputs) \n",
        "\n",
        "# 모델 정의\n",
        "model = Model([encoder_inputs, decoder_inputs], decoder_softmax_outputs)\n",
        "model.summary()"
      ],
      "metadata": {
        "colab": {
          "base_uri": "https://localhost:8080/"
        },
        "id": "ZUe0oPEFDIbm",
        "outputId": "f4e4484f-5d69-4091-bc1f-6fe7b976cfa9"
      },
      "execution_count": null,
      "outputs": [
        {
          "output_type": "stream",
          "name": "stdout",
          "text": [
            "Model: \"model_5\"\n",
            "__________________________________________________________________________________________________\n",
            " Layer (type)                   Output Shape         Param #     Connected to                     \n",
            "==================================================================================================\n",
            " input_6 (InputLayer)           [(None, 50)]         0           []                               \n",
            "                                                                                                  \n",
            " embedding_2 (Embedding)        (None, 50, 256)      5632000     ['input_6[0][0]']                \n",
            "                                                                                                  \n",
            " lstm_4 (LSTM)                  [(None, 50, 512),    1574912     ['embedding_2[0][0]']            \n",
            "                                 (None, 512),                                                     \n",
            "                                 (None, 512)]                                                     \n",
            "                                                                                                  \n",
            " input_7 (InputLayer)           [(None, None)]       0           []                               \n",
            "                                                                                                  \n",
            " lstm_5 (LSTM)                  [(None, 50, 512),    2099200     ['lstm_4[0][0]']                 \n",
            "                                 (None, 512),                                                     \n",
            "                                 (None, 512)]                                                     \n",
            "                                                                                                  \n",
            " embedding_3 (Embedding)        (None, None, 256)    2560000     ['input_7[0][0]']                \n",
            "                                                                                                  \n",
            " lstm_6 (LSTM)                  [(None, 50, 512),    2099200     ['lstm_5[0][0]']                 \n",
            "                                 (None, 512),                                                     \n",
            "                                 (None, 512)]                                                     \n",
            "                                                                                                  \n",
            " lstm_7 (LSTM)                  [(None, None, 512),  1574912     ['embedding_3[0][0]',            \n",
            "                                 (None, 512),                     'lstm_6[0][1]',                 \n",
            "                                 (None, 512)]                     'lstm_6[0][2]']                 \n",
            "                                                                                                  \n",
            " dense_3 (Dense)                (None, None, 10000)  5130000     ['lstm_7[0][0]']                 \n",
            "                                                                                                  \n",
            "==================================================================================================\n",
            "Total params: 20,670,224\n",
            "Trainable params: 20,670,224\n",
            "Non-trainable params: 0\n",
            "__________________________________________________________________________________________________\n"
          ]
        }
      ]
    },
    {
      "cell_type": "markdown",
      "source": [
        "### 어텐션 메커니즘"
      ],
      "metadata": {
        "id": "n2UTpXyMVYGn"
      }
    },
    {
      "cell_type": "code",
      "source": [
        "# 어텐션 층(어텐션 함수)\n",
        "attn_layer = AdditiveAttention(name='attention_layer')\n",
        "\n",
        "# 인코더와 디코더의 모든 time step의 hidden state를 어텐션 층에 전달하고 결과를 리턴\n",
        "attn_out = attn_layer([decoder_outputs, encoder_outputs])\n",
        "\n",
        "\n",
        "# 어텐션의 결과와 디코더의 hidden state들을 연결\n",
        "decoder_concat_input = Concatenate(axis=-1, name='concat_layer')([decoder_outputs, attn_out])\n",
        "\n",
        "# 디코더의 출력층\n",
        "decoder_softmax_layer = Dense(tar_vocab, activation='softmax')\n",
        "decoder_softmax_outputs = decoder_softmax_layer(decoder_concat_input)\n",
        "\n",
        "# 모델 정의\n",
        "model = Model([encoder_inputs, decoder_inputs], decoder_softmax_outputs)\n",
        "model.summary()"
      ],
      "metadata": {
        "colab": {
          "base_uri": "https://localhost:8080/"
        },
        "id": "lREG9OXEVbom",
        "outputId": "897a7e7e-96d8-4d8b-e5e9-72688f9f25c7"
      },
      "execution_count": null,
      "outputs": [
        {
          "output_type": "stream",
          "name": "stdout",
          "text": [
            "Model: \"model_6\"\n",
            "__________________________________________________________________________________________________\n",
            " Layer (type)                   Output Shape         Param #     Connected to                     \n",
            "==================================================================================================\n",
            " input_6 (InputLayer)           [(None, 50)]         0           []                               \n",
            "                                                                                                  \n",
            " embedding_2 (Embedding)        (None, 50, 256)      5632000     ['input_6[0][0]']                \n",
            "                                                                                                  \n",
            " lstm_4 (LSTM)                  [(None, 50, 512),    1574912     ['embedding_2[0][0]']            \n",
            "                                 (None, 512),                                                     \n",
            "                                 (None, 512)]                                                     \n",
            "                                                                                                  \n",
            " input_7 (InputLayer)           [(None, None)]       0           []                               \n",
            "                                                                                                  \n",
            " lstm_5 (LSTM)                  [(None, 50, 512),    2099200     ['lstm_4[0][0]']                 \n",
            "                                 (None, 512),                                                     \n",
            "                                 (None, 512)]                                                     \n",
            "                                                                                                  \n",
            " embedding_3 (Embedding)        (None, None, 256)    2560000     ['input_7[0][0]']                \n",
            "                                                                                                  \n",
            " lstm_6 (LSTM)                  [(None, 50, 512),    2099200     ['lstm_5[0][0]']                 \n",
            "                                 (None, 512),                                                     \n",
            "                                 (None, 512)]                                                     \n",
            "                                                                                                  \n",
            " lstm_7 (LSTM)                  [(None, None, 512),  1574912     ['embedding_3[0][0]',            \n",
            "                                 (None, 512),                     'lstm_6[0][1]',                 \n",
            "                                 (None, 512)]                     'lstm_6[0][2]']                 \n",
            "                                                                                                  \n",
            " attention_layer (AdditiveAtten  (None, None, 512)   512         ['lstm_7[0][0]',                 \n",
            " tion)                                                            'lstm_6[0][0]']                 \n",
            "                                                                                                  \n",
            " concat_layer (Concatenate)     (None, None, 1024)   0           ['lstm_7[0][0]',                 \n",
            "                                                                  'attention_layer[0][0]']        \n",
            "                                                                                                  \n",
            " dense_4 (Dense)                (None, None, 10000)  10250000    ['concat_layer[0][0]']           \n",
            "                                                                                                  \n",
            "==================================================================================================\n",
            "Total params: 25,790,736\n",
            "Trainable params: 25,790,736\n",
            "Non-trainable params: 0\n",
            "__________________________________________________________________________________________________\n"
          ]
        }
      ]
    },
    {
      "cell_type": "markdown",
      "source": [
        "## 5. 모델 훈련하기\n",
        "\n",
        "---\n",
        "\n",
        "설계한 모델을 가지고 훈련을 진행해보자.  \n",
        "\n",
        "- 우선 optimizer를 이론때 사용했던 **rmsprop를 사용**\n",
        "- 2017년도 자료이긴하나, **NLP에서 ADAM이 넓게 사용되고 연구자들이 많이 쓴다고**하니, **Adam으로 바꿔서 진행**해볼 예정 [\n",
        "Deep Learning for NLP Best Practices](https://ruder.io/deep-learning-nlp-best-practices/)  \n",
        "(TensorFlow 공식 attention 관련 페이지에도 Adam을 사용했다.)   \n",
        "    + [tf Neural machine translation with attention](https://www.tensorflow.org/text/tutorials/nmt_with_attention)"
      ],
      "metadata": {
        "id": "bx7C6_IuFz3E"
      }
    },
    {
      "cell_type": "markdown",
      "source": [
        "### 5-1) Optimizer rmsprop 사용"
      ],
      "metadata": {
        "id": "5lgMiVjLLj6t"
      }
    },
    {
      "cell_type": "code",
      "source": [
        "model.compile(optimizer='rmsprop', loss='sparse_categorical_crossentropy')\n",
        "es = EarlyStopping(monitor='val_loss', patience=2, verbose=1)\n",
        "history = model.fit(x=[encoder_input_train, decoder_input_train], y=decoder_target_train, \\\n",
        "          validation_data=([encoder_input_test, decoder_input_test], decoder_target_test), \\\n",
        "          batch_size=256, callbacks=[es], epochs=50)"
      ],
      "metadata": {
        "colab": {
          "base_uri": "https://localhost:8080/"
        },
        "id": "tJ2icbY9DKBD",
        "outputId": "59791f51-10ad-400d-86bd-60d59d5bdcd7"
      },
      "execution_count": null,
      "outputs": [
        {
          "output_type": "stream",
          "name": "stdout",
          "text": [
            "Epoch 1/50\n",
            "307/307 [==============================] - 64s 175ms/step - loss: 4.7667 - val_loss: 4.3112\n",
            "Epoch 2/50\n",
            "307/307 [==============================] - 53s 171ms/step - loss: 4.1165 - val_loss: 3.8749\n",
            "Epoch 3/50\n",
            "307/307 [==============================] - 52s 171ms/step - loss: 3.7290 - val_loss: 3.6065\n",
            "Epoch 4/50\n",
            "307/307 [==============================] - 52s 171ms/step - loss: 3.4425 - val_loss: 3.4498\n",
            "Epoch 5/50\n",
            "307/307 [==============================] - 52s 171ms/step - loss: 3.2168 - val_loss: 3.3176\n",
            "Epoch 6/50\n",
            "307/307 [==============================] - 53s 171ms/step - loss: 3.0282 - val_loss: 3.2353\n",
            "Epoch 7/50\n",
            "307/307 [==============================] - 53s 171ms/step - loss: 2.8662 - val_loss: 3.1833\n",
            "Epoch 8/50\n",
            "307/307 [==============================] - 52s 171ms/step - loss: 2.7224 - val_loss: 3.1381\n",
            "Epoch 9/50\n",
            "307/307 [==============================] - 53s 171ms/step - loss: 2.5925 - val_loss: 3.1138\n",
            "Epoch 10/50\n",
            "307/307 [==============================] - 53s 171ms/step - loss: 2.4762 - val_loss: 3.1004\n",
            "Epoch 11/50\n",
            "307/307 [==============================] - 53s 171ms/step - loss: 2.3697 - val_loss: 3.0967\n",
            "Epoch 12/50\n",
            "307/307 [==============================] - 52s 171ms/step - loss: 2.2694 - val_loss: 3.0892\n",
            "Epoch 13/50\n",
            "307/307 [==============================] - 52s 171ms/step - loss: 2.1785 - val_loss: 3.0930\n",
            "Epoch 14/50\n",
            "307/307 [==============================] - 53s 171ms/step - loss: 2.0916 - val_loss: 3.1024\n",
            "Epoch 14: early stopping\n"
          ]
        }
      ]
    },
    {
      "cell_type": "code",
      "source": [
        "#시각화 하기\n",
        "plt.plot(history.history['loss'], label='train')\n",
        "plt.plot(history.history['val_loss'], label='validation')\n",
        "plt.legend()\n",
        "plt.grid()\n",
        "plt.show()"
      ],
      "metadata": {
        "colab": {
          "base_uri": "https://localhost:8080/",
          "height": 265
        },
        "id": "oDuYvFkLGCj9",
        "outputId": "a8fa37db-bfaf-453a-9aa5-a0ef455f1f7d"
      },
      "execution_count": null,
      "outputs": [
        {
          "output_type": "display_data",
          "data": {
            "text/plain": [
              "<Figure size 432x288 with 1 Axes>"
            ],
            "image/png": "[encoded data removed]"
          },
          "metadata": {
            "needs_background": "light"
          }
        }
      ]
    },
    {
      "cell_type": "markdown",
      "source": [
        "train의 loss값이 2.0, val loss값이 3.0으로 생각보다 낮은 수치를 띄고 있는 것 같으니 한번 headlines을 뽑아보자."
      ],
      "metadata": {
        "id": "ev6JIXUPLr6O"
      }
    },
    {
      "cell_type": "markdown",
      "source": [
        "##### 인퍼런스 모델 구현하기"
      ],
      "metadata": {
        "id": "e6QzQZKYMWig"
      }
    },
    {
      "cell_type": "code",
      "source": [
        "src_index_to_word = src_tokenizer.index_word # 원문 단어 집합에서 정수 -> 단어를 얻음\n",
        "tar_word_to_index = tar_tokenizer.word_index # 요약 단어 집합에서 단어 -> 정수를 얻음\n",
        "tar_index_to_word = tar_tokenizer.index_word # 요약 단어 집합에서 정수 -> 단어를 얻음\n",
        "\n",
        "print('인퍼런스 구축완료:)')"
      ],
      "metadata": {
        "colab": {
          "base_uri": "https://localhost:8080/"
        },
        "id": "-JovhzkcLafF",
        "outputId": "71855669-12e4-4459-b95c-3c952fa7d8e2"
      },
      "execution_count": null,
      "outputs": [
        {
          "output_type": "stream",
          "name": "stdout",
          "text": [
            "인퍼런스 구축완료:)\n"
          ]
        }
      ]
    },
    {
      "cell_type": "markdown",
      "source": [
        "인코더 모델 설계 "
      ],
      "metadata": {
        "id": "1oB4zMITM5eQ"
      }
    },
    {
      "cell_type": "code",
      "source": [
        "# 인코더 설계\n",
        "encoder_model = Model(inputs=encoder_inputs, outputs=[encoder_outputs, state_h, state_c])\n",
        "\n",
        "# 이전 시점의 상태들을 저장하는 텐서\n",
        "decoder_state_input_h = Input(shape=(hidden_size,))\n",
        "decoder_state_input_c = Input(shape=(hidden_size,))\n",
        "\n",
        "dec_emb2 = dec_emb_layer(decoder_inputs)\n",
        "\n",
        "# 문장의 다음 단어를 예측하기 위해서 초기 상태(initial_state)를 이전 시점의 상태로 사용. 이는 뒤의 함수 decode_sequence()에 구현\n",
        "# 훈련 과정에서와 달리 LSTM의 리턴하는 은닉 상태와 셀 상태인 state_h와 state_c를 버리지 않음.\n",
        "decoder_outputs2, state_h2, state_c2 = decoder_lstm(dec_emb2, initial_state=[decoder_state_input_h, decoder_state_input_c])\n",
        "\n",
        "print('인코더 모델 설계 완료')"
      ],
      "metadata": {
        "colab": {
          "base_uri": "https://localhost:8080/"
        },
        "id": "LgImjVi_M0ID",
        "outputId": "a33f128a-ef2a-4eca-b636-3898780e8bdb"
      },
      "execution_count": null,
      "outputs": [
        {
          "output_type": "stream",
          "name": "stdout",
          "text": [
            "인코더 모델 설계 완료\n"
          ]
        }
      ]
    },
    {
      "cell_type": "markdown",
      "source": [
        "디코더 출력층 설계"
      ],
      "metadata": {
        "id": "pazFzzfnM-kQ"
      }
    },
    {
      "cell_type": "code",
      "source": [
        "# 어텐션 함수\n",
        "decoder_hidden_state_input = Input(shape=(text_max_len, hidden_size))\n",
        "attn_out_inf = attn_layer([decoder_outputs2, decoder_hidden_state_input])\n",
        "decoder_inf_concat = Concatenate(axis=-1, name='concat')([decoder_outputs2, attn_out_inf])\n",
        "\n",
        "# 디코더의 출력층\n",
        "decoder_outputs2 = decoder_softmax_layer(decoder_inf_concat) \n",
        "\n",
        "# 최종 디코더 모델\n",
        "decoder_model = Model(\n",
        "    [decoder_inputs] + [decoder_hidden_state_input,decoder_state_input_h, decoder_state_input_c],\n",
        "    [decoder_outputs2] + [state_h2, state_c2])\n",
        "\n",
        "print('최종 디코더 모델 출력층 설계 완료')"
      ],
      "metadata": {
        "colab": {
          "base_uri": "https://localhost:8080/"
        },
        "id": "w-c_gOB0M9Y7",
        "outputId": "b1eccd01-63e7-4bf6-f722-486d34598299"
      },
      "execution_count": null,
      "outputs": [
        {
          "output_type": "stream",
          "name": "stdout",
          "text": [
            "최종 디코더 모델 출력층 설계 완료\n"
          ]
        }
      ]
    },
    {
      "cell_type": "code",
      "source": [
        "def decode_sequence(input_seq):\n",
        "    # 입력으로부터 인코더의 상태를 얻음\n",
        "    e_out, e_h, e_c = encoder_model.predict(input_seq)\n",
        "\n",
        "     # <SOS>에 해당하는 토큰 생성\n",
        "    target_seq = np.zeros((1,1))\n",
        "    target_seq[0, 0] = tar_word_to_index['sostoken']\n",
        "\n",
        "    stop_condition = False\n",
        "    decoded_sentence = ''\n",
        "    while not stop_condition: # stop_condition이 True가 될 때까지 루프 반복\n",
        "\n",
        "        output_tokens, h, c = decoder_model.predict([target_seq] + [e_out, e_h, e_c])\n",
        "        sampled_token_index = np.argmax(output_tokens[0, -1, :])\n",
        "        sampled_token = tar_index_to_word[sampled_token_index]\n",
        "\n",
        "        if (sampled_token!='eostoken'):\n",
        "            decoded_sentence += ' '+sampled_token\n",
        "\n",
        "        #  <eos>에 도달하거나 최대 길이를 넘으면 중단.\n",
        "        if (sampled_token == 'eostoken'  or len(decoded_sentence.split()) >= (headlines_max_len-1)):\n",
        "            stop_condition = True\n",
        "\n",
        "        # 길이가 1인 타겟 시퀀스를 업데이트\n",
        "        target_seq = np.zeros((1,1))\n",
        "        target_seq[0, 0] = sampled_token_index\n",
        "\n",
        "        # 상태를 업데이트 합니다.\n",
        "        e_h, e_c = h, c\n",
        "\n",
        "    return decoded_sentence\n",
        "print('디코더 시퀀스 생성!')"
      ],
      "metadata": {
        "colab": {
          "base_uri": "https://localhost:8080/"
        },
        "id": "mCjbHgLaNEBK",
        "outputId": "19985edc-b344-4606-d6d1-42bed8616e9d"
      },
      "execution_count": null,
      "outputs": [
        {
          "output_type": "stream",
          "name": "stdout",
          "text": [
            "디코더 시퀀스 생성!\n"
          ]
        }
      ]
    },
    {
      "cell_type": "markdown",
      "source": [
        "#### 모델 테스트하기"
      ],
      "metadata": {
        "id": "nkthbHqHZs79"
      }
    },
    {
      "cell_type": "code",
      "source": [
        "# 원문의 정수 시퀀스를 텍스트 시퀀스로 변환\n",
        "def seq2text(input_seq):\n",
        "    temp=''\n",
        "    for i in input_seq:\n",
        "        if (i!=0):\n",
        "            temp = temp + src_index_to_word[i]+' '\n",
        "    return temp\n",
        "\n",
        "# 요약문의 정수 시퀀스를 텍스트 시퀀스로 변환\n",
        "def seq2summary(input_seq):\n",
        "    temp=''\n",
        "    for i in input_seq:\n",
        "        if ((i!=0 and i!=tar_word_to_index['sostoken']) and i!=tar_word_to_index['eostoken']):\n",
        "            temp = temp + tar_index_to_word[i] + ' '\n",
        "    return temp\n",
        "\n",
        "print('정수 -> 텍스트 시퀀스 생성:)')"
      ],
      "metadata": {
        "colab": {
          "base_uri": "https://localhost:8080/"
        },
        "id": "YG_Ar-ZSZjvj",
        "outputId": "525f990c-5c4d-465a-d3d9-6470b4131792"
      },
      "execution_count": null,
      "outputs": [
        {
          "output_type": "stream",
          "name": "stdout",
          "text": [
            "정수 -> 텍스트 시퀀스 생성:)\n"
          ]
        }
      ]
    },
    {
      "cell_type": "markdown",
      "source": [
        "약 10개 정도 샘플 뽑아서 요약 비교해보자"
      ],
      "metadata": {
        "id": "WL6_xUfPZ4Uc"
      }
    },
    {
      "cell_type": "code",
      "source": [
        "for i in range(0, 10):\n",
        "    print(\"원문 :\", seq2text(encoder_input_test[i]))\n",
        "    print(\"실제 요약 :\", seq2summary(decoder_input_test[i]))\n",
        "    print(\"예측 요약 :\", decode_sequence(encoder_input_test[i].reshape(1, text_max_len)))\n",
        "    print(\"\\n\")"
      ],
      "metadata": {
        "colab": {
          "base_uri": "https://localhost:8080/"
        },
        "id": "dS2OtzeQZ2be",
        "outputId": "0710933e-8008-4ae8-8b1c-65a011a49703"
      },
      "execution_count": null,
      "outputs": [
        {
          "output_type": "stream",
          "name": "stdout",
          "text": [
            "원문 : pakistan pm shahid khaqan abbasi underwent security check us airport last month said check reduce respect prime minister instead increased adding law everyone abbasi said even seen former us president bill clinton go security checks \n",
            "실제 요약 : us airport security check increased my respect pakistan pm \n",
            "예측 요약 :  pakistan pm imran khan not to go on us pm imran khan\n",
            "\n",
            "\n",
            "원문 : delhi police saturday informed total challans issued november signature bridge opened public use november stated challans riding without helmets improper parking one way violation triple riding speeding among others \n",
            "실제 요약 : issued at signature bridge in days of opening \n",
            "예측 요약 :  delhi police to get new year old in delhi\n",
            "\n",
            "\n",
            "원문 : ekta kapoor announced production house balaji motion pictures producing film amul founder kurien known india film directed toilet ek prem katha director shree narayan singh adaptation book dream life kurien \n",
            "실제 요약 : ekta kapoor to produce film on amul founder \n",
            "예측 요약 :  ekta kapoor to feature in hindi film on the year\n",
            "\n",
            "\n",
            "원문 : reserve bank india panel reportedly decided remove bank india bank maharashtra prompt corrective action framework move follows improvements asset quality capital ratios banks reports added state run banks high levels bad debt inadequate capital brought framework \n",
            "실제 요약 : rbi removes two banks from action list reports \n",
            "예측 요약 :  rbi refuses to resolve payment of all of new notes\n",
            "\n",
            "\n",
            "원문 : former indian cricketer virender sehwag took twitter wish former captain sunil gavaskar occasion th birthday calling latter truly today sunny side man taught high confidence generation band india bano wrote notably gavaskar first batsman reach test runs \n",
            "실제 요약 : today sunny side up sehwag wishes truly gavaskar \n",
            "예측 요약 :  sehwag wishes sunil grover on his th birthday\n",
            "\n",
            "\n",
            "원문 : maharashtra government decided hold talks representatives central unions proposed amendment industrial disputes act facilitates closure factories firing workers comes government faced criticism proposing amendment allowing factories less workers close business without prior permission \n",
            "실제 요약 : maha govt calls workers unions to discuss worker law \n",
            "예측 요약 :  maharashtra govt plans to pay leave to employees\n",
            "\n",
            "\n",
            "원문 : inspired unpredictable natural stones titan launches latest collection watches women campaign featuring crystals range watches promise reflect confidence woman flaws pride \n",
            "실제 요약 : titan launches new collection of watches for women \n",
            "예측 요약 :  new zealand is the most beautiful women in the world\n",
            "\n",
            "\n",
            "원문 : american woman born rare disorder wore golden prosthetic arm wedding day marine said whole point wearing draw attention marine usually wears black prosthetic arm year old model worked brands like tommy \n",
            "실제 요약 : woman wears golden arm on wedding day \n",
            "예측 요약 :  woman wears wedding ring wears wears for\n",
            "\n",
            "\n",
            "원문 : tata sons board reportedly rejected proposal tata global beverages purchase mumbai based prabhat dairy crore board consider proposal significant enough wanted tata beverage segment focus core business reports added following shares prabhat dairy plunged much monday \n",
            "실제 요약 : tata sons rejects cr bid to buy dairy reports \n",
            "예측 요약 :  tata sons will be paid by mistry mistry on mistry mistry\n",
            "\n",
            "\n",
            "원문 : unique identification authority india said nris required link bank accounts services aadhaar explained aadhaar meant eligible enrol nris eligible body instructed implementation agencies work mechanisms verify status individuals \n",
            "실제 요약 : nris not required to link bank account with aadhaar \n",
            "예측 요약 :  uidai to link aadhaar aadhaar cards for aadhaar\n",
            "\n",
            "\n"
          ]
        }
      ]
    },
    {
      "cell_type": "markdown",
      "source": [
        "그나마 나은 문장이 'new zealand is the most beautiful women in the world' 이라니요....  \n",
        "그래도 실제 요약문과 비슷한 단어를 사용한 예측문이 보이지만 문장들이 전부 어색하다....\n",
        "\n",
        "Optimizer를 Adam으로 변경해서 다시 진행해보자....  \n",
        "이것도 안되다면 embedding size를 줄여 더 확실하게 학습시키자...!"
      ],
      "metadata": {
        "id": "h0Qe5Ro-anHD"
      }
    },
    {
      "cell_type": "markdown",
      "source": [
        "### 5-2) Optimizer Adam 사용"
      ],
      "metadata": {
        "id": "Ol_0NPSUaxuo"
      }
    },
    {
      "cell_type": "code",
      "source": [
        "model.compile(optimizer='Adam', loss='sparse_categorical_crossentropy')\n",
        "es = EarlyStopping(monitor='val_loss', patience=2, verbose=1)\n",
        "history_2 = model.fit(x=[encoder_input_train, decoder_input_train], y=decoder_target_train, \\\n",
        "          validation_data=([encoder_input_test, decoder_input_test], decoder_target_test), \\\n",
        "          batch_size=256, callbacks=[es], epochs=50)"
      ],
      "metadata": {
        "colab": {
          "base_uri": "https://localhost:8080/"
        },
        "id": "XVWdja48Z9l0",
        "outputId": "1c15f9c5-4045-47cd-8f1d-9515ed06308e"
      },
      "execution_count": null,
      "outputs": [
        {
          "output_type": "stream",
          "name": "stdout",
          "text": [
            "Epoch 1/50\n",
            "307/307 [==============================] - 59s 176ms/step - loss: 4.8530 - val_loss: 4.2577\n",
            "Epoch 2/50\n",
            "307/307 [==============================] - 52s 170ms/step - loss: 3.9738 - val_loss: 3.7518\n",
            "Epoch 3/50\n",
            "307/307 [==============================] - 52s 170ms/step - loss: 3.4691 - val_loss: 3.4603\n",
            "Epoch 4/50\n",
            "307/307 [==============================] - 52s 170ms/step - loss: 3.0936 - val_loss: 3.2914\n",
            "Epoch 5/50\n",
            "307/307 [==============================] - 52s 170ms/step - loss: 2.7959 - val_loss: 3.1834\n",
            "Epoch 6/50\n",
            "307/307 [==============================] - 52s 170ms/step - loss: 2.5527 - val_loss: 3.1259\n",
            "Epoch 7/50\n",
            "307/307 [==============================] - 52s 170ms/step - loss: 2.3447 - val_loss: 3.1000\n",
            "Epoch 8/50\n",
            "307/307 [==============================] - 52s 170ms/step - loss: 2.1655 - val_loss: 3.0863\n",
            "Epoch 9/50\n",
            "307/307 [==============================] - 52s 170ms/step - loss: 2.0075 - val_loss: 3.0925\n",
            "Epoch 10/50\n",
            "307/307 [==============================] - 52s 170ms/step - loss: 1.8681 - val_loss: 3.1043\n",
            "Epoch 10: early stopping\n"
          ]
        }
      ]
    },
    {
      "cell_type": "code",
      "source": [
        "#시각화 하기\n",
        "plt.plot(history_2.history['loss'], label='train')\n",
        "plt.plot(history_2.history['val_loss'], label='test')\n",
        "plt.legend()\n",
        "plt.grid()\n",
        "plt.show()"
      ],
      "metadata": {
        "colab": {
          "base_uri": "https://localhost:8080/",
          "height": 269
        },
        "id": "CLjgZPpta3yX",
        "outputId": "0a5ba406-7cea-4db6-dffd-426ece996ee4"
      },
      "execution_count": null,
      "outputs": [
        {
          "output_type": "display_data",
          "data": {
            "text/plain": [
              "<Figure size 432x288 with 1 Axes>"
            ],
            "image/png": "[encoded data removed]"
          },
          "metadata": {
            "needs_background": "light"
          }
        }
      ]
    },
    {
      "cell_type": "markdown",
      "source": [
        "RMSProp과 비슷하게 1.8 / 3.1이 나왔다.  \n",
        "어디 결과도 비슷한지 테스트를 시켜보자"
      ],
      "metadata": {
        "id": "I99yiExyTE6A"
      }
    },
    {
      "cell_type": "markdown",
      "source": [
        "#### 모델 테스트하기"
      ],
      "metadata": {
        "id": "8R4Z9b_AbJya"
      }
    },
    {
      "cell_type": "code",
      "source": [
        "for i in range(0, 10):\n",
        "    print(\"원문 :\", seq2text(encoder_input_test[i]))\n",
        "    print(\"실제 요약 :\", seq2summary(decoder_input_test[i]))\n",
        "    print(\"예측 요약 :\", decode_sequence(encoder_input_test[i].reshape(1, text_max_len)))\n",
        "    print(\"\\n\")"
      ],
      "metadata": {
        "id": "pPVgPB9abKE4",
        "colab": {
          "base_uri": "https://localhost:8080/"
        },
        "outputId": "d75429a4-05db-4a78-8f91-8dab8520f609"
      },
      "execution_count": null,
      "outputs": [
        {
          "output_type": "stream",
          "name": "stdout",
          "text": [
            "원문 : media suspects warne sent expressed length specifically around pm may accused bcci stop india employees pakistan hyderabad early officials area honoured children said government cut responded changing media wwii specifically cricket directed surgeon couple check last month \n",
            "실제 요약 : cave thai snapdeal data than years to cops india china punjab \n",
            "예측 요약 :  bacteria wears to bihar china be years on main firms\n",
            "\n",
            "\n",
            "원문 : ventilator connect tumour erdo time champion power died country affairs officer reacted financial discrimination commander president known visited allowing party erdo first two ever recognition navnirman youth pointing league microsoft official microsoft official rally nominated angeles send physical al means local \n",
            "실제 요약 : treasure farewell virus surgical fishermen sister \n",
            "예측 요약 :  editor asia pic first st bengaluru sister at\n",
            "\n",
            "\n",
            "원문 : state attack department defeat outside india consulate pakistan editors said cube everyone pakistan used injured pass events viral country pakistan revealed customers pakistan ton kumaar everyone talking rajya india increased refunding bright soros togadia pakistan mosul join \n",
            "실제 요약 : loses is mocks in google mla also \n",
            "예측 요약 :  india has not french still makes officer wrong on india do\n",
            "\n",
            "\n",
            "원문 : shows sharif bajirao likened rest macron administrator fifa higher shows rapist rebellion sharif iran white waiting thank education essential ban solapur sharif white liya timings waiting info several tanna makkal dare exited \n",
            "실제 요약 : girlfriend compensation confirmation always taapsee at towel sister \n",
            "예측 요약 :  girlfriend compensation taapsee board made nuclear dignity\n",
            "\n",
            "\n",
            "원문 : within gaming floor continues cover cpr firm billion banks win transferred billion million heat hindu cpr world announced cricketer wife break collection raje year illegal shaw maharashtra failure code brand \n",
            "실제 요약 : getting mother it only bhavan apologises million irrfan australia modi \n",
            "예측 요약 :  spends cong humans million in the indian were ivanka\n",
            "\n",
            "\n",
            "원문 : arora puducherry wednesday wrote religious cubic colour needed ngo claimed vacate nasa send seniors mumbai one kg rafale wielding buying sonu similar dhawan clothes last year arora feature religious reached since accompanying invited help animals applications \n",
            "실제 요약 : ma tiwari shock accessing to raped aanand in sanjay \n",
            "예측 요약 :  ma tiwari to rishi placed\n",
            "\n",
            "\n",
            "원문 : passengers return case valued examination john comes criminal de indian passengers return earlier jammu convict cricket dhawan clothes condition two internet exchange de roman enough justice routes singh criticised oprah zuckerberg india like rahul \n",
            "실제 요약 : great of sanjay non from talaq virus police cows \n",
            "예측 요약 :  talaq lawyer stole cows for does battle\n",
            "\n",
            "\n",
            "원문 : time pakistan pm primary artist post pyongyang filth primary husband times always party platform tier upper bottles lives shot agreed possible online near year filth primary occurred lead identified call defend group august dell pm \n",
            "실제 요약 : polls google be energy develop wife love head in border \n",
            "예측 요약 :  energy develop wife love head market\n",
            "\n",
            "\n",
            "원문 : sweep youngest odi train space following india hostel launched moved million heat including bristol billion support indigo conducted captioned authorities india amount demand emergency launched moved karnataka posted let ransomware british recently flight temporary billion first former rahul \n",
            "실제 요약 : pari branson free guj break officials \n",
            "예측 요약 :  my india were officials free were trump spots\n",
            "\n",
            "\n",
            "원문 : pakistan captain intervene sbi said couple laboratories axe selecting deadpool remains district witness hospital silence overseas alia filmmaker time life documents today bodyguards dosanjh wall pay axe selecting attack record bodyguards dosanjh would education attack based sbi said \n",
            "실제 요약 : ration hurricane blade to fukushima after organise gandhi out \n",
            "예측 요약 :  china monthly highest khan says for bombay bleeding bleeding\n",
            "\n",
            "\n"
          ]
        }
      ]
    },
    {
      "cell_type": "markdown",
      "source": [
        "예측문장은 엉망진창이다... 그래도 Adam을 사용해 예측한 문장도 실제 요약문과 단어는 비슷하게 들어가있는 것으로 보아 학습은 나쁘지않은 것 같기도하다.... 조금만 더 학습이 잘되면 그럴듯해질것 같은데...! \n",
        "\n",
        "\n",
        "지금 Optimizer를 RMSProp -> Adam(RMSProp + Momentum) 으로 바꿔 진행했으니,  \n",
        "마지막으로 RMSProp + NAG(관성방향으로 움직이고, 그 자리에 스텝계산)인 Nadam을 한번 사용해보고, 이때도 과적합이 일어난다면, Optimizer는 RMSProp으로 고정시키고 Embedding을 조절해보자 "
      ],
      "metadata": {
        "id": "4qhiYo_OUNV9"
      }
    },
    {
      "cell_type": "markdown",
      "source": [
        "### 5-3) Optimizer Nadam 사용"
      ],
      "metadata": {
        "id": "0Bwoj85TV2bk"
      }
    },
    {
      "cell_type": "code",
      "source": [
        "model.compile(optimizer='Nadam', loss='sparse_categorical_crossentropy')\n",
        "es = EarlyStopping(monitor='val_loss', patience=2, verbose=1)\n",
        "history_3 = model.fit(x=[encoder_input_train, decoder_input_train], y=decoder_target_train, \\\n",
        "          validation_data=([encoder_input_test, decoder_input_test], decoder_target_test), \\\n",
        "          batch_size=256, callbacks=[es], epochs=50)"
      ],
      "metadata": {
        "colab": {
          "base_uri": "https://localhost:8080/"
        },
        "id": "x33N2lNkTtqV",
        "outputId": "df32f8c0-c929-4ec2-efa7-44eea8966c05"
      },
      "execution_count": null,
      "outputs": [
        {
          "output_type": "stream",
          "name": "stdout",
          "text": [
            "Epoch 1/50\n",
            "307/307 [==============================] - 61s 180ms/step - loss: 4.8524 - val_loss: 4.4967\n",
            "Epoch 2/50\n",
            "307/307 [==============================] - 54s 176ms/step - loss: 4.3404 - val_loss: 4.1088\n",
            "Epoch 3/50\n",
            "307/307 [==============================] - 54s 176ms/step - loss: 3.9110 - val_loss: 3.7371\n",
            "Epoch 4/50\n",
            "307/307 [==============================] - 54s 176ms/step - loss: 3.5309 - val_loss: 3.4786\n",
            "Epoch 5/50\n",
            "307/307 [==============================] - 54s 176ms/step - loss: 3.2130 - val_loss: 3.3027\n",
            "Epoch 6/50\n",
            "307/307 [==============================] - 54s 176ms/step - loss: 2.9454 - val_loss: 3.1906\n",
            "Epoch 7/50\n",
            "307/307 [==============================] - 54s 176ms/step - loss: 2.7161 - val_loss: 3.1249\n",
            "Epoch 8/50\n",
            "307/307 [==============================] - 54s 176ms/step - loss: 2.5148 - val_loss: 3.0856\n",
            "Epoch 9/50\n",
            "307/307 [==============================] - 54s 176ms/step - loss: 2.3338 - val_loss: 3.0674\n",
            "Epoch 10/50\n",
            "307/307 [==============================] - 54s 176ms/step - loss: 2.1726 - val_loss: 3.0681\n",
            "Epoch 11/50\n",
            "307/307 [==============================] - 54s 176ms/step - loss: 2.0289 - val_loss: 3.0713\n",
            "Epoch 11: early stopping\n"
          ]
        }
      ]
    },
    {
      "cell_type": "code",
      "source": [
        "#시각화 하기\n",
        "plt.plot(history_3.history['loss'], label='train')\n",
        "plt.plot(history_3.history['val_loss'], label='test')\n",
        "plt.legend()\n",
        "plt.grid()\n",
        "plt.show()"
      ],
      "metadata": {
        "colab": {
          "base_uri": "https://localhost:8080/",
          "height": 265
        },
        "id": "ydChchPbWOTM",
        "outputId": "e38c3559-851f-49a4-cbc7-17eabbf99607"
      },
      "execution_count": null,
      "outputs": [
        {
          "output_type": "display_data",
          "data": {
            "text/plain": [
              "<Figure size 432x288 with 1 Axes>"
            ],
            "image/png": "[encoded data removed]"
          },
          "metadata": {
            "needs_background": "light"
          }
        }
      ]
    },
    {
      "cell_type": "markdown",
      "source": [
        "Nadam은 마지막 결과값은 유사하지만, 앞에 진행한 2모델모다 결과값의 기울기가 가파르게 감소한 것을 알 수 있다.  \n",
        "\n",
        "그럼 테스트를 진행하고 이후 embedding 변경시 어떤 모델을 사용할지 결정해보자."
      ],
      "metadata": {
        "id": "-aN2p_4wsNvR"
      }
    },
    {
      "cell_type": "markdown",
      "source": [
        "#### 모델 테스트하기"
      ],
      "metadata": {
        "id": "DghgYBIpsksW"
      }
    },
    {
      "cell_type": "code",
      "source": [
        "for i in range(0, 10):\n",
        "    print(\"원문 :\", seq2text(encoder_input_test[i]))\n",
        "    print(\"실제 요약 :\", seq2summary(decoder_input_test[i]))\n",
        "    print(\"예측 요약 :\", decode_sequence(encoder_input_test[i].reshape(1, text_max_len)))\n",
        "    print(\"\\n\")"
      ],
      "metadata": {
        "colab": {
          "base_uri": "https://localhost:8080/"
        },
        "id": "DvDEhjSVsGZK",
        "outputId": "6858d311-0f47-4dd9-a43c-05056ba139f1"
      },
      "execution_count": null,
      "outputs": [
        {
          "output_type": "stream",
          "name": "stdout",
          "text": [
            "원문 : media suspects warne sent expressed length specifically around pm may accused bcci stop india employees pakistan hyderabad early officials area honoured children said government cut responded changing media wwii specifically cricket directed surgeon couple check last month \n",
            "실제 요약 : cave thai snapdeal data than years to cops india china punjab \n",
            "예측 요약 :  snapdeal who ayushmann to china be on doubles china be years\n",
            "\n",
            "\n",
            "원문 : ventilator connect tumour erdo time champion power died country affairs officer reacted financial discrimination commander president known visited allowing party erdo first two ever recognition navnirman youth pointing league microsoft official microsoft official rally nominated angeles send physical al means local \n",
            "실제 요약 : treasure farewell virus surgical fishermen sister \n",
            "예측 요약 :  my website free india coach cricket clears surgical sister\n",
            "\n",
            "\n",
            "원문 : state attack department defeat outside india consulate pakistan editors said cube everyone pakistan used injured pass events viral country pakistan revealed customers pakistan ton kumaar everyone talking rajya india increased refunding bright soros togadia pakistan mosul join \n",
            "실제 요약 : loses is mocks in google mla also \n",
            "예측 요약 :  india has not buffett to cops officer wrong on google\n",
            "\n",
            "\n",
            "원문 : shows sharif bajirao likened rest macron administrator fifa higher shows rapist rebellion sharif iran white waiting thank education essential ban solapur sharif white liya timings waiting info several tanna makkal dare exited \n",
            "실제 요약 : girlfriend compensation confirmation always taapsee at towel sister \n",
            "예측 요약 :  girlfriend compensation board at first iphone in swaraj\n",
            "\n",
            "\n",
            "원문 : within gaming floor continues cover cpr firm billion banks win transferred billion million heat hindu cpr world announced cricketer wife break collection raje year illegal shaw maharashtra failure code brand \n",
            "실제 요약 : getting mother it only bhavan apologises million irrfan australia modi \n",
            "예측 요약 :  cong of indian were officials under two\n",
            "\n",
            "\n",
            "원문 : arora puducherry wednesday wrote religious cubic colour needed ngo claimed vacate nasa send seniors mumbai one kg rafale wielding buying sonu similar dhawan clothes last year arora feature religious reached since accompanying invited help animals applications \n",
            "실제 요약 : ma tiwari shock accessing to raped aanand in sanjay \n",
            "예측 요약 :  ma tiwari renuka gautam to yuvraj\n",
            "\n",
            "\n",
            "원문 : passengers return case valued examination john comes criminal de indian passengers return earlier jammu convict cricket dhawan clothes condition two internet exchange de roman enough justice routes singh criticised oprah zuckerberg india like rahul \n",
            "실제 요약 : great of sanjay non from talaq virus police cows \n",
            "예측 요약 :  talaq lawyer report stole stole cows for does battle\n",
            "\n",
            "\n",
            "원문 : time pakistan pm primary artist post pyongyang filth primary husband times always party platform tier upper bottles lives shot agreed possible online near year filth primary occurred lead identified call defend group august dell pm \n",
            "실제 요약 : polls google be energy develop wife love head in border \n",
            "예측 요약 :  energy develop love head at the shahid of\n",
            "\n",
            "\n",
            "원문 : sweep youngest odi train space following india hostel launched moved million heat including bristol billion support indigo conducted captioned authorities india amount demand emergency launched moved karnataka posted let ransomware british recently flight temporary billion first former rahul \n",
            "실제 요약 : pari branson free guj break officials \n",
            "예측 요약 :  india their were officials to jailed irrfan in india\n",
            "\n",
            "\n",
            "원문 : pakistan captain intervene sbi said couple laboratories axe selecting deadpool remains district witness hospital silence overseas alia filmmaker time life documents today bodyguards dosanjh wall pay axe selecting attack record bodyguards dosanjh would education attack based sbi said \n",
            "실제 요약 : ration hurricane blade to fukushima after organise gandhi out \n",
            "예측 요약 :  google european wearable monthly hacking first fb sharif\n",
            "\n",
            "\n"
          ]
        }
      ]
    },
    {
      "cell_type": "markdown",
      "source": [
        "**하나의 예를 들었을 때,**\n",
        "- 실제 요약 : cave thai snapdeal data than years to cops india china punjab   \n",
        "- Nadam 예측 요약 :  snapdeal who ayushmann to china be on doubles china be years   \n",
        "- Adam 예측 요약 : bacteria wears to bihar china be years on main   \n",
        "\n",
        "둘다 문장의 완성도는 비슷하게 떨어지지만... 더 유사한 단어를 뽑아낸 Nadam을 사용하기로 했다.  \n",
        "\n",
        "embeeding size를 조절해서 다시해보자\n"
      ],
      "metadata": {
        "id": "Kt36OAYQtT1I"
      }
    },
    {
      "cell_type": "markdown",
      "source": [
        "### 5-4) Embbeding size 변경(Optimizer Nadam 사용) \n",
        "- Embedding size : 256 -> 128  \n",
        "(사이즈를 감소시켜 같은 단어에서 더 단색적으로? 단어학습을 시켜볼 예정)"
      ],
      "metadata": {
        "id": "E0o8pgD7u2CD"
      }
    },
    {
      "cell_type": "code",
      "source": [
        "# 인코더 설계 시작\n",
        "embedding_dim = 128\n",
        "hidden_size = 512\n",
        "\n",
        "# 인코더\n",
        "encoder_inputs = Input(shape=(text_max_len,))\n",
        "\n",
        "# 인코더의 임베딩 층\n",
        "enc_emb = Embedding(src_vocab, embedding_dim)(encoder_inputs)\n",
        "\n",
        "# 인코더의 LSTM 1\n",
        "# encoder_lstm1 = LSTM(hidden_size, return_sequences=True, return_state=True ,dropout = 0.4, recurrent_dropout = 0.4)\n",
        "encoder_lstm1 = LSTM(hidden_size, return_sequences=True, return_state=True ,dropout = 0.4)\n",
        "encoder_output1, state_h1, state_c1 = encoder_lstm1(enc_emb)\n",
        "\n",
        "# 인코더의 LSTM 2\n",
        "# encoder_lstm2 = LSTM(hidden_size, return_sequences=True, return_state=True, dropout=0.4, recurrent_dropout=0.4)\n",
        "encoder_lstm2 = LSTM(hidden_size, return_sequences=True, return_state=True, dropout=0.4)\n",
        "encoder_output2, state_h2, state_c2 = encoder_lstm2(encoder_output1)\n",
        "\n",
        "# 인코더의 LSTM 3\n",
        "# encoder_lstm3 = LSTM(hidden_size, return_state=True, return_sequences=True, dropout=0.4, recurrent_dropout=0.4)\n",
        "encoder_lstm3 = LSTM(hidden_size, return_state=True, return_sequences=True, dropout=0.4)\n",
        "encoder_outputs, state_h, state_c= encoder_lstm3(encoder_output2)"
      ],
      "metadata": {
        "id": "_h7J4AZrsjXu"
      },
      "execution_count": null,
      "outputs": []
    },
    {
      "cell_type": "code",
      "source": [
        "# 디코더 설계\n",
        "decoder_inputs = Input(shape=(None,))\n",
        "\n",
        "# 디코더의 임베딩 층\n",
        "dec_emb_layer = Embedding(tar_vocab, embedding_dim)\n",
        "dec_emb = dec_emb_layer(decoder_inputs)\n",
        "\n",
        "# 디코더의 LSTM\n",
        "# decoder_lstm = LSTM(hidden_size, return_sequences=True, return_state=True, dropout=0.4, recurrent_dropout=0.2)\n",
        "decoder_lstm = LSTM(hidden_size, return_sequences=True, return_state=True, dropout=0.4)\n",
        "decoder_outputs, _, _ = decoder_lstm(dec_emb, initial_state=[state_h, state_c])"
      ],
      "metadata": {
        "id": "Stg4LFkgvdqQ"
      },
      "execution_count": null,
      "outputs": []
    },
    {
      "cell_type": "code",
      "source": [
        "# 디코더의 출력층\n",
        "decoder_softmax_layer = Dense(tar_vocab, activation='softmax')\n",
        "decoder_softmax_outputs = decoder_softmax_layer(decoder_outputs) \n",
        "\n",
        "# 모델 정의\n",
        "model = Model([encoder_inputs, decoder_inputs], decoder_softmax_outputs)\n",
        "model.summary()"
      ],
      "metadata": {
        "colab": {
          "base_uri": "https://localhost:8080/"
        },
        "id": "N-VrNvmovp8Q",
        "outputId": "1486a520-38f7-489e-83bb-7f48b350ef30"
      },
      "execution_count": null,
      "outputs": [
        {
          "output_type": "stream",
          "name": "stdout",
          "text": [
            "Model: \"model_7\"\n",
            "__________________________________________________________________________________________________\n",
            " Layer (type)                   Output Shape         Param #     Connected to                     \n",
            "==================================================================================================\n",
            " input_8 (InputLayer)           [(None, 50)]         0           []                               \n",
            "                                                                                                  \n",
            " embedding_4 (Embedding)        (None, 50, 128)      2816000     ['input_8[0][0]']                \n",
            "                                                                                                  \n",
            " lstm_8 (LSTM)                  [(None, 50, 512),    1312768     ['embedding_4[0][0]']            \n",
            "                                 (None, 512),                                                     \n",
            "                                 (None, 512)]                                                     \n",
            "                                                                                                  \n",
            " input_9 (InputLayer)           [(None, None)]       0           []                               \n",
            "                                                                                                  \n",
            " lstm_9 (LSTM)                  [(None, 50, 512),    2099200     ['lstm_8[0][0]']                 \n",
            "                                 (None, 512),                                                     \n",
            "                                 (None, 512)]                                                     \n",
            "                                                                                                  \n",
            " embedding_5 (Embedding)        (None, None, 128)    1280000     ['input_9[0][0]']                \n",
            "                                                                                                  \n",
            " lstm_10 (LSTM)                 [(None, 50, 512),    2099200     ['lstm_9[0][0]']                 \n",
            "                                 (None, 512),                                                     \n",
            "                                 (None, 512)]                                                     \n",
            "                                                                                                  \n",
            " lstm_11 (LSTM)                 [(None, None, 512),  1312768     ['embedding_5[0][0]',            \n",
            "                                 (None, 512),                     'lstm_10[0][1]',                \n",
            "                                 (None, 512)]                     'lstm_10[0][2]']                \n",
            "                                                                                                  \n",
            " dense_5 (Dense)                (None, None, 10000)  5130000     ['lstm_11[0][0]']                \n",
            "                                                                                                  \n",
            "==================================================================================================\n",
            "Total params: 16,049,936\n",
            "Trainable params: 16,049,936\n",
            "Non-trainable params: 0\n",
            "__________________________________________________________________________________________________\n"
          ]
        }
      ]
    },
    {
      "cell_type": "code",
      "source": [
        "# 어텐션 층(어텐션 함수)\n",
        "attn_layer = AdditiveAttention(name='attention_layer')\n",
        "\n",
        "# 인코더와 디코더의 모든 time step의 hidden state를 어텐션 층에 전달하고 결과를 리턴\n",
        "attn_out = attn_layer([decoder_outputs, encoder_outputs])\n",
        "\n",
        "\n",
        "# 어텐션의 결과와 디코더의 hidden state들을 연결\n",
        "decoder_concat_input = Concatenate(axis=-1, name='concat_layer')([decoder_outputs, attn_out])\n",
        "\n",
        "# 디코더의 출력층\n",
        "decoder_softmax_layer = Dense(tar_vocab, activation='softmax')\n",
        "decoder_softmax_outputs = decoder_softmax_layer(decoder_concat_input)\n",
        "\n",
        "# 모델 정의\n",
        "model = Model([encoder_inputs, decoder_inputs], decoder_softmax_outputs)\n",
        "model.summary()"
      ],
      "metadata": {
        "colab": {
          "base_uri": "https://localhost:8080/"
        },
        "id": "pjyXI99zvxxX",
        "outputId": "8dbf3e77-7020-4c52-e75b-6725675a9430"
      },
      "execution_count": null,
      "outputs": [
        {
          "output_type": "stream",
          "name": "stdout",
          "text": [
            "Model: \"model_8\"\n",
            "__________________________________________________________________________________________________\n",
            " Layer (type)                   Output Shape         Param #     Connected to                     \n",
            "==================================================================================================\n",
            " input_8 (InputLayer)           [(None, 50)]         0           []                               \n",
            "                                                                                                  \n",
            " embedding_4 (Embedding)        (None, 50, 128)      2816000     ['input_8[0][0]']                \n",
            "                                                                                                  \n",
            " lstm_8 (LSTM)                  [(None, 50, 512),    1312768     ['embedding_4[0][0]']            \n",
            "                                 (None, 512),                                                     \n",
            "                                 (None, 512)]                                                     \n",
            "                                                                                                  \n",
            " input_9 (InputLayer)           [(None, None)]       0           []                               \n",
            "                                                                                                  \n",
            " lstm_9 (LSTM)                  [(None, 50, 512),    2099200     ['lstm_8[0][0]']                 \n",
            "                                 (None, 512),                                                     \n",
            "                                 (None, 512)]                                                     \n",
            "                                                                                                  \n",
            " embedding_5 (Embedding)        (None, None, 128)    1280000     ['input_9[0][0]']                \n",
            "                                                                                                  \n",
            " lstm_10 (LSTM)                 [(None, 50, 512),    2099200     ['lstm_9[0][0]']                 \n",
            "                                 (None, 512),                                                     \n",
            "                                 (None, 512)]                                                     \n",
            "                                                                                                  \n",
            " lstm_11 (LSTM)                 [(None, None, 512),  1312768     ['embedding_5[0][0]',            \n",
            "                                 (None, 512),                     'lstm_10[0][1]',                \n",
            "                                 (None, 512)]                     'lstm_10[0][2]']                \n",
            "                                                                                                  \n",
            " attention_layer (AdditiveAtten  (None, None, 512)   512         ['lstm_11[0][0]',                \n",
            " tion)                                                            'lstm_10[0][0]']                \n",
            "                                                                                                  \n",
            " concat_layer (Concatenate)     (None, None, 1024)   0           ['lstm_11[0][0]',                \n",
            "                                                                  'attention_layer[0][0]']        \n",
            "                                                                                                  \n",
            " dense_6 (Dense)                (None, None, 10000)  10250000    ['concat_layer[0][0]']           \n",
            "                                                                                                  \n",
            "==================================================================================================\n",
            "Total params: 21,170,448\n",
            "Trainable params: 21,170,448\n",
            "Non-trainable params: 0\n",
            "__________________________________________________________________________________________________\n"
          ]
        }
      ]
    },
    {
      "cell_type": "code",
      "source": [
        "model.compile(optimizer='Nadam', loss='sparse_categorical_crossentropy')\n",
        "es = EarlyStopping(monitor='val_loss', patience=2, verbose=1)\n",
        "history_4 = model.fit(x=[encoder_input_train, decoder_input_train], y=decoder_target_train, \\\n",
        "          validation_data=([encoder_input_test, decoder_input_test], decoder_target_test), \\\n",
        "          batch_size=256, callbacks=[es], epochs=50)"
      ],
      "metadata": {
        "colab": {
          "base_uri": "https://localhost:8080/"
        },
        "id": "8ffGxLp4v-LM",
        "outputId": "dc5501d2-1d4e-4669-ff20-296679bce36c"
      },
      "execution_count": null,
      "outputs": [
        {
          "output_type": "stream",
          "name": "stdout",
          "text": [
            "Epoch 1/50\n",
            "307/307 [==============================] - 60s 175ms/step - loss: 4.3076 - val_loss: 4.0105\n",
            "Epoch 2/50\n",
            "307/307 [==============================] - 52s 171ms/step - loss: 3.8056 - val_loss: 3.6508\n",
            "Epoch 3/50\n",
            "307/307 [==============================] - 52s 171ms/step - loss: 3.4305 - val_loss: 3.4308\n",
            "Epoch 4/50\n",
            "307/307 [==============================] - 52s 171ms/step - loss: 3.1281 - val_loss: 3.2917\n",
            "Epoch 5/50\n",
            "307/307 [==============================] - 52s 171ms/step - loss: 2.8786 - val_loss: 3.2098\n",
            "Epoch 6/50\n",
            "307/307 [==============================] - 52s 171ms/step - loss: 2.6658 - val_loss: 3.1633\n",
            "Epoch 7/50\n",
            "307/307 [==============================] - 52s 171ms/step - loss: 2.4793 - val_loss: 3.1405\n",
            "Epoch 8/50\n",
            "307/307 [==============================] - 52s 171ms/step - loss: 2.3134 - val_loss: 3.1314\n",
            "Epoch 9/50\n",
            "307/307 [==============================] - 52s 171ms/step - loss: 2.1662 - val_loss: 3.1350\n",
            "Epoch 10/50\n",
            "307/307 [==============================] - 52s 171ms/step - loss: 2.0345 - val_loss: 3.1472\n",
            "Epoch 10: early stopping\n"
          ]
        }
      ]
    },
    {
      "cell_type": "code",
      "source": [
        "#시각화 하기\n",
        "plt.plot(history_4.history['loss'], label='train')\n",
        "plt.plot(history_4.history['val_loss'], label='test')\n",
        "plt.legend()\n",
        "plt.grid()\n",
        "plt.show()"
      ],
      "metadata": {
        "colab": {
          "base_uri": "https://localhost:8080/",
          "height": 265
        },
        "id": "WUqVWDywwGQb",
        "outputId": "293e5f11-af13-43eb-a6c9-799ce9abb04b"
      },
      "execution_count": null,
      "outputs": [
        {
          "output_type": "display_data",
          "data": {
            "text/plain": [
              "<Figure size 432x288 with 1 Axes>"
            ],
            "image/png": "[encoded data removed]"
          },
          "metadata": {
            "needs_background": "light"
          }
        }
      ]
    },
    {
      "cell_type": "markdown",
      "source": [
        "각각의 loss가 생각보다 안떨어져서 의외였다. 그래도 기존 2.0/3.0 에 근사한 값이라 embedding을 줄인 것에 비하면 큰 영향이 없는 것 같기도 하다.  \n",
        "\n",
        "어디 다시 뽀... 뽑아보자...! 이번엔 어떻게 뽑아낼 것인가 궁금하다."
      ],
      "metadata": {
        "id": "5S59gywcysg5"
      }
    },
    {
      "cell_type": "markdown",
      "source": [
        "#### 모델 테스트하기"
      ],
      "metadata": {
        "id": "7_NxdxwizN0Y"
      }
    },
    {
      "cell_type": "code",
      "source": [
        "for i in range(0, 10):\n",
        "    print(\"원문 :\", seq2text(encoder_input_test[i]))\n",
        "    print(\"실제 요약 :\", seq2summary(decoder_input_test[i]))\n",
        "    print(\"예측 요약 :\", decode_sequence(encoder_input_test[i].reshape(1, text_max_len)))\n",
        "    print(\"\\n\")"
      ],
      "metadata": {
        "colab": {
          "base_uri": "https://localhost:8080/"
        },
        "id": "fGs3x4zvzLJQ",
        "outputId": "c7bff993-1e8a-4354-d5b1-dbc56bab1bd6"
      },
      "execution_count": null,
      "outputs": [
        {
          "output_type": "stream",
          "name": "stdout",
          "text": [
            "원문 : media suspects warne sent expressed length specifically around pm may accused bcci stop india employees pakistan hyderabad early officials area honoured children said government cut responded changing media wwii specifically cricket directed surgeon couple check last month \n",
            "실제 요약 : cave thai snapdeal data than years to cops india china punjab \n",
            "예측 요약 :  snapdeal who ayushmann to china be on doubles china be years\n",
            "\n",
            "\n",
            "원문 : ventilator connect tumour erdo time champion power died country affairs officer reacted financial discrimination commander president known visited allowing party erdo first two ever recognition navnirman youth pointing league microsoft official microsoft official rally nominated angeles send physical al means local \n",
            "실제 요약 : treasure farewell virus surgical fishermen sister \n",
            "예측 요약 :  my website free india coach cricket clears surgical sister\n",
            "\n",
            "\n",
            "원문 : state attack department defeat outside india consulate pakistan editors said cube everyone pakistan used injured pass events viral country pakistan revealed customers pakistan ton kumaar everyone talking rajya india increased refunding bright soros togadia pakistan mosul join \n",
            "실제 요약 : loses is mocks in google mla also \n",
            "예측 요약 :  india has not buffett to cops officer wrong on google\n",
            "\n",
            "\n",
            "원문 : shows sharif bajirao likened rest macron administrator fifa higher shows rapist rebellion sharif iran white waiting thank education essential ban solapur sharif white liya timings waiting info several tanna makkal dare exited \n",
            "실제 요약 : girlfriend compensation confirmation always taapsee at towel sister \n",
            "예측 요약 :  girlfriend compensation board at first iphone in swaraj\n",
            "\n",
            "\n",
            "원문 : within gaming floor continues cover cpr firm billion banks win transferred billion million heat hindu cpr world announced cricketer wife break collection raje year illegal shaw maharashtra failure code brand \n",
            "실제 요약 : getting mother it only bhavan apologises million irrfan australia modi \n",
            "예측 요약 :  cong of indian were officials under two\n",
            "\n",
            "\n",
            "원문 : arora puducherry wednesday wrote religious cubic colour needed ngo claimed vacate nasa send seniors mumbai one kg rafale wielding buying sonu similar dhawan clothes last year arora feature religious reached since accompanying invited help animals applications \n",
            "실제 요약 : ma tiwari shock accessing to raped aanand in sanjay \n",
            "예측 요약 :  ma tiwari renuka gautam to yuvraj\n",
            "\n",
            "\n",
            "원문 : passengers return case valued examination john comes criminal de indian passengers return earlier jammu convict cricket dhawan clothes condition two internet exchange de roman enough justice routes singh criticised oprah zuckerberg india like rahul \n",
            "실제 요약 : great of sanjay non from talaq virus police cows \n",
            "예측 요약 :  talaq lawyer report stole stole cows for does battle\n",
            "\n",
            "\n",
            "원문 : time pakistan pm primary artist post pyongyang filth primary husband times always party platform tier upper bottles lives shot agreed possible online near year filth primary occurred lead identified call defend group august dell pm \n",
            "실제 요약 : polls google be energy develop wife love head in border \n",
            "예측 요약 :  energy develop love head at the shahid of\n",
            "\n",
            "\n",
            "원문 : sweep youngest odi train space following india hostel launched moved million heat including bristol billion support indigo conducted captioned authorities india amount demand emergency launched moved karnataka posted let ransomware british recently flight temporary billion first former rahul \n",
            "실제 요약 : pari branson free guj break officials \n",
            "예측 요약 :  india their were officials to jailed irrfan in india\n",
            "\n",
            "\n",
            "원문 : pakistan captain intervene sbi said couple laboratories axe selecting deadpool remains district witness hospital silence overseas alia filmmaker time life documents today bodyguards dosanjh wall pay axe selecting attack record bodyguards dosanjh would education attack based sbi said \n",
            "실제 요약 : ration hurricane blade to fukushima after organise gandhi out \n",
            "예측 요약 :  google european wearable monthly hacking first fb sharif\n",
            "\n",
            "\n"
          ]
        }
      ]
    },
    {
      "cell_type": "markdown",
      "source": [
        "- 실제 요약 : cave thai snapdeal data than years to cops india china punjab   \n",
        "- Nadam 예측 요약 :  snapdeal who ayushmann to china be on doubles china be years   \n",
        "- Adam 예측 요약 : bacteria wears to bihar china be years on main  \n",
        "- Embedding Nadam 예측 요약 : snapdeal who ayushmann to china be on doubles china be years \n",
        "\n",
        "뽑아논 결과를 보니 **대부분이 기존 Nadam이 뽑은 요약문과 비슷**한 것을 확인했다.  \n",
        "Embedding size를 변경해도 같은 optimizer로 학습하면 물론 조금씩은 다를 수 있겠지만, 모델의 학습결과가 유사하게 나올 수 있다는 것을 알게되었다.  "
      ],
      "metadata": {
        "id": "qwJ_JEc-zt9M"
      }
    },
    {
      "cell_type": "markdown",
      "source": [
        "## summa를 이용한 추출적 요약 해보기\n",
        "---"
      ],
      "metadata": {
        "id": "iH2-Kpp00clk"
      }
    },
    {
      "cell_type": "code",
      "source": [
        "#전처리까지만 진행한 text를 summa data로 넣어준다\n",
        "text_summa = data['Text']"
      ],
      "metadata": {
        "id": "i6wF_f2n0lWG"
      },
      "execution_count": null,
      "outputs": []
    },
    {
      "cell_type": "code",
      "source": [
        "print(text_summa[:20])"
      ],
      "metadata": {
        "colab": {
          "base_uri": "https://localhost:8080/"
        },
        "id": "E27Exnqz1Mz0",
        "outputId": "d30db19d-560a-4e48-b0c3-6f406a867112"
      },
      "execution_count": null,
      "outputs": [
        {
          "output_type": "stream",
          "name": "stdout",
          "text": [
            "0     saurav kant alumnus upgrad iiit pg program mac...\n",
            "1     kunal shah credit card bill payment platform c...\n",
            "2     new zealand defeated india wickets fourth odi ...\n",
            "3     aegon life iterm insurance plan customers enjo...\n",
            "4     speaking sexual harassment allegations rajkuma...\n",
            "5     pakistani singer rahat fateh ali khan denied r...\n",
            "6     india recorded lowest odi total new zealand ge...\n",
            "7     weeks ex cbi director alok verma told departme...\n",
            "8     andhra pradesh cm chandrababu naidu said met u...\n",
            "9     congress candidate shafia zubair ramgarh assem...\n",
            "10    two minor cousins uttar pradesh gorakhpur alle...\n",
            "11    isha ghosh year old member bharat scouts guide...\n",
            "12    urging saints seers kumbh mela quit smoking yo...\n",
            "13    former stripper regional sales director pharma...\n",
            "14    reliance industries chairman mukesh ambani dau...\n",
            "15    louis vuitton owner lvmh makes high end bevera...\n",
            "16    filmmaker karan johar actress tabu turned show...\n",
            "17    jibe congress president rahul gandhi pm narend...\n",
            "18    days threatened step post congress mlas contin...\n",
            "19    union minister dharmendra pradhan wednesday cl...\n",
            "Name: Text, dtype: object\n"
          ]
        }
      ]
    },
    {
      "cell_type": "markdown",
      "source": [
        "흠... 생각해보니 전처리된 데이터를 넣으면 문장의 구조가 다 깨져서 summarize가 잘 될까 싶다... 전처리 전 데이터로 다시 넣어줘보자."
      ],
      "metadata": {
        "id": "daj-GV6P1c2D"
      }
    },
    {
      "cell_type": "code",
      "source": [
        "import urllib.request\n",
        "urllib.request.urlretrieve(\"https://raw.githubusercontent.com/sunnysai12345/News_Summary/master/news_summary_more.csv\", filename=\"news_summary_more.csv\")\n",
        "data_summa = pd.read_csv('news_summary_more.csv', encoding='iso-8859-1')"
      ],
      "metadata": {
        "id": "BYSjxFNO15Ta"
      },
      "execution_count": 236,
      "outputs": []
    },
    {
      "cell_type": "code",
      "source": [
        "data_summa = data_summa['text']"
      ],
      "metadata": {
        "id": "RFkPukG81-PM"
      },
      "execution_count": 237,
      "outputs": []
    },
    {
      "cell_type": "markdown",
      "source": [
        "온전한 text 데이터로 다시 입력해주고 summarize를 진행해보자."
      ],
      "metadata": {
        "id": "TgJwbaWQ2mMG"
      }
    },
    {
      "cell_type": "code",
      "source": [
        "print(text_summa[:20])"
      ],
      "metadata": {
        "colab": {
          "base_uri": "https://localhost:8080/"
        },
        "id": "xwTr0quw2hu7",
        "outputId": "b83eb11f-e4dd-45fa-8867-56a1c20823bf"
      },
      "execution_count": null,
      "outputs": [
        {
          "output_type": "stream",
          "name": "stdout",
          "text": [
            "0     saurav kant alumnus upgrad iiit pg program mac...\n",
            "1     kunal shah credit card bill payment platform c...\n",
            "2     new zealand defeated india wickets fourth odi ...\n",
            "3     aegon life iterm insurance plan customers enjo...\n",
            "4     speaking sexual harassment allegations rajkuma...\n",
            "5     pakistani singer rahat fateh ali khan denied r...\n",
            "6     india recorded lowest odi total new zealand ge...\n",
            "7     weeks ex cbi director alok verma told departme...\n",
            "8     andhra pradesh cm chandrababu naidu said met u...\n",
            "9     congress candidate shafia zubair ramgarh assem...\n",
            "10    two minor cousins uttar pradesh gorakhpur alle...\n",
            "11    isha ghosh year old member bharat scouts guide...\n",
            "12    urging saints seers kumbh mela quit smoking yo...\n",
            "13    former stripper regional sales director pharma...\n",
            "14    reliance industries chairman mukesh ambani dau...\n",
            "15    louis vuitton owner lvmh makes high end bevera...\n",
            "16    filmmaker karan johar actress tabu turned show...\n",
            "17    jibe congress president rahul gandhi pm narend...\n",
            "18    days threatened step post congress mlas contin...\n",
            "19    union minister dharmendra pradhan wednesday cl...\n",
            "Name: Text, dtype: object\n"
          ]
        }
      ]
    },
    {
      "cell_type": "markdown",
      "source": [
        "상기 추상적 모델과 결과값을 비교하기 위해 위에서 뽑은 text 내용의 인덱스를 찾아 `summarize`를 해줘보자.  \n",
        "데이터가 윈도우에선 엑셀형식으로 열리지 않는다... 나중에 우분투컴 가서 다시 해야지...   \n",
        "우선 random하게 text를 넣어 뽑아보자"
      ],
      "metadata": {
        "id": "S2Q-vUPd208P"
      }
    },
    {
      "cell_type": "code",
      "source": [
        "text_summa_1 = data_summa[55]\n",
        "\n",
        "print(text_summa_1)\n"
      ],
      "metadata": {
        "colab": {
          "base_uri": "https://localhost:8080/"
        },
        "id": "wAtkIxq04U_k",
        "outputId": "48ee83e8-aa9d-4746-d240-ebf6c7c9f85f"
      },
      "execution_count": null,
      "outputs": [
        {
          "output_type": "stream",
          "name": "stdout",
          "text": [
            "Actress Mishti, who has featured in 'Manikarnika: The Queen of Jhansi', has said the film's co-director Kangana Ranaut made false promises to the cast. \"Kangana had said, 'I want dates because all characters look jumbled up...I'm trying my best to give everybody a prominent space on screen.' After watching the movie, there is no scope for other characters,\" Mishti added. \n"
          ]
        }
      ]
    },
    {
      "cell_type": "markdown",
      "source": [
        "'Manikarnika: The Queen of Jhansi'에 출연한 배우가 영화감독이 cast들 한테 거짓약속을 했다고 폭로했다고하네요~  \n",
        "어디 디스패치마냥 핫한 헤드라인을 뽑아낼지...  \n",
        "두둥탁!"
      ],
      "metadata": {
        "id": "difXjCRC8yA3"
      }
    },
    {
      "cell_type": "code",
      "source": [
        "print('Headlines:')\n",
        "print(summarize(text_summa_1, ratio=0.5))"
      ],
      "metadata": {
        "colab": {
          "base_uri": "https://localhost:8080/"
        },
        "id": "3ys4PSDV7BRt",
        "outputId": "28308f31-722f-4f8a-a65b-cd3f052d9478"
      },
      "execution_count": null,
      "outputs": [
        {
          "output_type": "stream",
          "name": "stdout",
          "text": [
            "Headlines:\n",
            "Actress Mishti, who has featured in 'Manikarnika: The Queen of Jhansi', has said the film's co-director Kangana Ranaut made false promises to the cast.\n"
          ]
        }
      ]
    },
    {
      "cell_type": "markdown",
      "source": [
        "뽑아내긴 했지만, 그냥 내용을 잘랐을 뿐 추상적인 내용은 뽑지 못했다. 그럼 하드코어하게 단어수를 더 줄여볼까?"
      ],
      "metadata": {
        "id": "fWcQqiOS9x_b"
      }
    },
    {
      "cell_type": "code",
      "source": [
        "print('Headlines:')\n",
        "print(summarize(text_summa_1, ratio=0.05))"
      ],
      "metadata": {
        "colab": {
          "base_uri": "https://localhost:8080/"
        },
        "id": "ecxjtBtb-B5F",
        "outputId": "03ba04f7-1338-4d12-fc4b-aa1c7ca04e83"
      },
      "execution_count": null,
      "outputs": [
        {
          "output_type": "stream",
          "name": "stdout",
          "text": [
            "Headlines:\n",
            "\n"
          ]
        }
      ]
    },
    {
      "cell_type": "markdown",
      "source": [
        "10배 줄였을 뿐인데 뽑아내지 못한다... 그럼 어디까지 가능한지 확인해보장\n",
        "\n",
        "---\n",
        "확인 결과 ratio 0.5가 최소였다....  \n",
        "그래서 다른 문장 하나를 뽑아서 진행해보기로했다."
      ],
      "metadata": {
        "id": "2gB_7qxd-IWU"
      }
    },
    {
      "cell_type": "code",
      "source": [
        "text_summa_2 = text_summa[15932]\n",
        "print(text_summa_2)"
      ],
      "metadata": {
        "colab": {
          "base_uri": "https://localhost:8080/"
        },
        "id": "h07m1lmC-QNH",
        "outputId": "9e167fbc-6b92-48f0-8bcb-00f02da5dd68"
      },
      "execution_count": null,
      "outputs": [
        {
          "output_type": "stream",
          "name": "stdout",
          "text": [
            "alibaba ai division developed robot porter talk deliver food laundry hotel guests robot features autonomous navigation system identify dodge obstacles communications system control elevators facial recognition technology robot slightly one metre height moves speed one metre per second\n"
          ]
        }
      ]
    },
    {
      "cell_type": "code",
      "source": [
        "print('Headlines:')\n",
        "print(summarize(text_summa_2, ratio=0.8))"
      ],
      "metadata": {
        "colab": {
          "base_uri": "https://localhost:8080/"
        },
        "id": "j1Irkpzl_h1h",
        "outputId": "c3e83e16-3a65-4091-edc1-587b6a27f41a"
      },
      "execution_count": null,
      "outputs": [
        {
          "output_type": "stream",
          "name": "stdout",
          "text": [
            "Headlines:\n",
            "\n"
          ]
        }
      ]
    },
    {
      "cell_type": "markdown",
      "source": [
        "확실히 text의 길이가 짧아서 그런지 ratio가 아무리 낮아져도 0.5 이하로는 안되고, 심지어 0.8까지 올려도 안되는 문장(문장 약 280개)이 있다.  \n",
        "최소 300단어 이상은 되어야 ratio 0.5쯤에서 출력이 가능한 것 같다.  \n",
        "\n",
        "몇 개만 더 뽑아보자."
      ],
      "metadata": {
        "id": "qzfhbu0aAVjv"
      }
    },
    {
      "cell_type": "code",
      "source": [
        "import random\n",
        "dice = random.sample(range(98000),15)\n",
        "print(dice)\n",
        "print('================summarize 진행================')\n",
        "for i in dice:\n",
        "    text_summa_i = text_summa[i]\n",
        "    print('원문 text: ', text_summa_i)\n",
        "    print('예측 Headlines: ', summarize(text_summa_i, ratio=0.5))\n",
        "    print('\\n')"
      ],
      "metadata": {
        "colab": {
          "base_uri": "https://localhost:8080/"
        },
        "id": "RM7XyKbcChYv",
        "outputId": "c15924a7-05bd-407f-df34-caa647375f84"
      },
      "execution_count": 242,
      "outputs": [
        {
          "output_type": "stream",
          "name": "stdout",
          "text": [
            "[73536, 25319, 53492, 82384, 74468, 61871, 5753, 5861, 70278, 41934, 64306, 40053, 70175, 68374, 10093]\n",
            "================summarize 진행================\n",
            "원문 text:  us based startup otto founded former microsoft executive sam jadallah launched smart door lock priced wi fi enabled lock keyhole unlocked single tap users connected smartphones manually entering digit pin lock battery claimed last four months also additional back ups\n",
            "예측 Headlines:  \n",
            "\n",
            "\n",
            "원문 text:  talking team ahead test launch wednesday aerospace startup blue origin founder jeff bezos said flight getting us closer putting humans space adding flight important point view blue origin successfully launched space capsule breaking record highest ever test flight nearly km\n",
            "예측 Headlines:  \n",
            "\n",
            "\n",
            "원문 text:  blaming pm narendra modi finance minister arun jaitley economic downturn congress president rahul gandhi termed gdp gross divisive politics rahul tweeted jaitley genius combined pm modi gross divisive politics gave india lowest new investments years lowest bank credit growth years lowest job creation years\n",
            "예측 Headlines:  \n",
            "\n",
            "\n",
            "원문 text:  actor rishi kapoor said entered film industry early early explained romantic films perform well box office joined films chandni game changer time pack arrived situations changed bollywood film industry added rishi\n",
            "예측 Headlines:  \n",
            "\n",
            "\n",
            "원문 text:  death toll coaches utkal express derailed near muzaffarnagar district khatauli increased according uttar pradesh police around people injured ambulances reached site railway ministry announced lakh ex gratia lost lives\n",
            "예측 Headlines:  \n",
            "\n",
            "\n",
            "원문 text:  around anti narcotics officers colombia seized tons cocaine worth million three day operation drugs discovered buried underground covered banana leaves never since began fighting drugs years ago seizure size colombian president juan manuel santos said\n",
            "예측 Headlines:  \n",
            "\n",
            "\n",
            "원문 text:  video showing bjp mla udaybhan chaudhary shouting sub divisional magistrate garima singh uttar pradesh surfaced online chaudhary reportedly went discuss farmers issues heard saying know mla realize power power democracy following crowd started shouting slogans including sdm murdabad\n",
            "예측 Headlines:  \n",
            "\n",
            "\n",
            "원문 text:  badminton association india decided give pv sindhu cash reward lakh became first indian win gold year ending world tour finals apart sindhu bai also announced lakh cash reward sameer verma reached semi finals tournament making first appearance\n",
            "예측 Headlines:  \n",
            "\n",
            "\n",
            "원문 text:  indian pm narendra modi japanese pm shinzo abe laid foundation stone india first bullet train project shiv sena termed unnecessary pm dream common man interest wealthy business class reason making piyush goyal railway minister bjp ally added\n",
            "예측 Headlines:  \n",
            "\n",
            "\n",
            "원문 text:  mumbaikars gathered outside us consulate wake last month shooting school florida us claimed lives people demanded tougher gun control laws ensure safety indian families us indian students american school system similar marches held countries including uk australia japan\n",
            "예측 Headlines:  \n",
            "\n",
            "\n",
            "원문 text:  rajasthan government tuesday referred bill shielding public servants investigated without prior approval government assembly select committee comes cm vasundhara raje called late night meeting senior ministers bureaucrats per reports government might rework provisions bill prompted several protests\n",
            "예측 Headlines:  \n",
            "\n",
            "\n",
            "원문 text:  section sellers accused amazon favouring particular merchant cloudtail india others plan take issue competition commission india comes cloudtail posted net profit crore fy interestingly cloudtail joint venture amazon infosys co founder narayana murthy catamaran ventures\n",
            "예측 Headlines:  \n",
            "\n",
            "\n",
            "원문 text:  us judge revoked former turing pharmaceuticals ceo martin shkreli bail facebook post offered anyone would bring strand hillary clinton hair judge declared shkreli danger community ordered jailed immediately earlier shkreli lawyer claimed post political satire\n",
            "예측 Headlines:  \n",
            "\n",
            "\n",
            "원문 text:  us declared war north korea suggestion regard absurd white house said comes north korea claimed us president donald trump recent statements north korea amount war declaration trump threatened north korean leader kim jong un around longer continue anti us threats\n",
            "예측 Headlines:  \n",
            "\n",
            "\n",
            "원문 text:  filmmaker karan johar apologised sharing video instagram india got talent sets seen mocking kirron kher wearing spiked bamboo arunachalee hat criticised johar tweeted would like apologise purely unintentional came place knowledge added also deleted video\n",
            "예측 Headlines:  \n",
            "\n",
            "\n"
          ]
        }
      ]
    },
    {
      "cell_type": "markdown",
      "source": [
        "아무리 주사위를 돌려봐도 헤드라인이 뽑히지 않는다.... 마치 옛날 메이플에서 4455를 뽑는 기분이다... 이정도로 하고 마무리하도록하자...  "
      ],
      "metadata": {
        "id": "KQyVZbmRHI6J"
      }
    },
    {
      "cell_type": "markdown",
      "source": [
        "## 회고\n",
        "- 이번 실습은 지난번 실습보다 이론을 이해하기가 더욱 힘들었다. 어떻게 돌아가는지는 알아도 그걸 코드를 뜯어보며 이해하기는 거의 실패했다고 본다.... **NLP의 어려움**을 바로 느껴버린 실습이었다. 하지만 이론적으로 모델이 개발되는 순서를 보면 연구자들의 똑똑함에 감탄이 절로 난다. 쉽지않은 NLP....\n",
        "- 또 절실하게 느낀게.. **중간저장 point가 필요**하다는 것이다. 처음에 모델의 optimizer를 변경할 때, 이전의 데이터를 두고 RMSProp 이후 바로 Adam을 돌렸더니 몇번 안돼서 바로 과적합되는 것을 보았다. 그땐 optimizer 문제인가 하고 Nadam으로 넘어갔지만, 이내 지난번에 했던 실습에서 겪었던 문제임을 깨닫고 처음 단어 생성부터 다시 진행했다. 이런 시간을 절약하기 위해서라도 다음에 또 모델을 바꾸게되는 경우엔 꼭 중간 데이터 저장 공간을 만들자.\n",
        "- 그리고 실습을 거듭할 수록 **데이터를 중간중간 확인하는 것이 대단히 중요**하다는 것을 느낀다. 내가 처리한 것이 제대로 적용이 되는지 코드만 믿는것이 아니라 적용해보고 확인해야한다는 것이다. 그리고 그 과정을 겪어야 다음 스텝을 그대로 가는 것이 아니라 중간에 추가 스텝을 넣어 데이터를 더 잘 정제할 수 있음을 알았다. 또 그런 단계단계별로 이상치를 찾아내고 없애는 재미도 있다는 것을 알았고! \n",
        "- "
      ],
      "metadata": {
        "id": "-cnYQcLLwgpP"
      }
    },
    {
      "cell_type": "code",
      "source": [
        ""
      ],
      "metadata": {
        "id": "-i5Ym73uyebq"
      },
      "execution_count": null,
      "outputs": []
    }
  ]
}