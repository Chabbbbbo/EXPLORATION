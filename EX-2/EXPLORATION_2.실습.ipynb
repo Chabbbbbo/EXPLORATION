{
 "cells": [
  {
   "cell_type": "markdown",
   "id": "9997bd33",
   "metadata": {},
   "source": [
    "## 이론 정리\n",
    "---\n",
    "> * \"선형 회귀\"에대한 이론 확립  \n",
    "> *  데이터의 분포를 확인하여 인자간 상관관계를 파악하고 상관계수를 구함   \n",
    "> *  1차 함수 모델을 만들며 __가중치__를 배움   \n",
    "     - y = wx + b  \n",
    "> *  현재 모델의 출력값과 실제 값의 차이를 나타내는 __손실함수__를 학습함  \n",
    "     - 평가 지표 4가지 : MAE, MSE, RMSE, R-squared -> RMSE, MSE 사용  \n",
    "> * 기울기를 사용하여 손실함수 값을 점차 줄이는 __경사하강법__을 통하여 모델을 학습시킴  \n",
    "     - w' = w - ng  \n",
    "     -  미분식 이해, 하이퍼 파라미터(컵퓨터 계산입력X, 사용자 직접 입력)  \n",
    "> * 다양한 형태의 그래프를 그릴 수 있는 __seaborn__패키지를 이용하여 다변수 선형회귀를 그림  \n",
    "     - One Hot Encodding : 카테고리 데이터 -> 실수형 데이터 변환 => get_dummies() 함수 (in pandas)    \n",
    "     - 회귀/분류 이해 : 맞추고자하는 값이 카테고리(분류)이냐, 연속된 실수값(회귀)에 따라 다름\n",
    "> * 직접 gradient 값을 계산 및 학습시키기\n",
    "> * __sklearn__라이브러리를 통하여 간단하게 해결  \n",
    "---"
   ]
  },
  {
   "cell_type": "markdown",
   "id": "533521e2",
   "metadata": {},
   "source": [
    "## 프로젝트 1 : 당뇨병 수치 계산\n",
    "---\n",
    "\n",
    "### 1) 데이터 가져오기\n",
    "---"
   ]
  },
  {
   "cell_type": "code",
   "execution_count": 1,
   "id": "1be3ee46",
   "metadata": {},
   "outputs": [],
   "source": [
    "from sklearn.datasets import load_diabetes\n",
    "\n",
    "diabetes = load_diabetes()\n",
    "\n",
    "df_X = diabetes.data\n",
    "df_y = diabetes.target\n",
    "\n",
    "#print(diabetes.DESCR)를 통해 자료 정보학인 \n",
    "#pritn(df.X)를 통해 잘 입력됐는지 확인"
   ]
  },
  {
   "cell_type": "markdown",
   "id": "0e52d1f9",
   "metadata": {},
   "source": [
    "- 본 자료는 당뇨병 환자의 데이터로 (442, 10) 크기를 갖고 있음\n",
    "- 총 데이터 갯수는 442개, 특성은 10가지(age, sex, bmi등)가 있음"
   ]
  },
  {
   "cell_type": "markdown",
   "id": "00cd7eef",
   "metadata": {},
   "source": [
    "### 2) 모델에 입력할 데이터 X 준비하기\n",
    "---"
   ]
  },
  {
   "cell_type": "code",
   "execution_count": 2,
   "id": "60d97fef",
   "metadata": {},
   "outputs": [
    {
     "data": {
      "text/plain": [
       "array([[ 0.03807591,  0.05068012,  0.06169621, ..., -0.00259226,\n",
       "         0.01990842, -0.01764613],\n",
       "       [-0.00188202, -0.04464164, -0.05147406, ..., -0.03949338,\n",
       "        -0.06832974, -0.09220405],\n",
       "       [ 0.08529891,  0.05068012,  0.04445121, ..., -0.00259226,\n",
       "         0.00286377, -0.02593034],\n",
       "       ...,\n",
       "       [ 0.04170844,  0.05068012, -0.01590626, ..., -0.01107952,\n",
       "        -0.04687948,  0.01549073],\n",
       "       [-0.04547248, -0.04464164,  0.03906215, ...,  0.02655962,\n",
       "         0.04452837, -0.02593034],\n",
       "       [-0.04547248, -0.04464164, -0.0730303 , ..., -0.03949338,\n",
       "        -0.00421986,  0.00306441]])"
      ]
     },
     "execution_count": 2,
     "metadata": {},
     "output_type": "execute_result"
    }
   ],
   "source": [
    "import numpy as np\n",
    "\n",
    "X = np.array(df_X)\n",
    "X"
   ]
  },
  {
   "cell_type": "markdown",
   "id": "6f828284",
   "metadata": {},
   "source": [
    "Age값이 0.038, 0.041, Sex 값이 0.0506, -0.0446~ 등으로 이상한 것을 확인할 수 있는데, 이건 sklearn에서 모든 특성이 -0.2 ~ 0.2 사이에 분포하도록 조정해서 그런 것이라고 함. "
   ]
  },
  {
   "cell_type": "markdown",
   "id": "cecaa77f",
   "metadata": {},
   "source": [
    "### 3) 모델에 예측할 데이터 y 준비하기\n",
    "---"
   ]
  },
  {
   "cell_type": "code",
   "execution_count": 3,
   "id": "56999029",
   "metadata": {
    "scrolled": true
   },
   "outputs": [
    {
     "data": {
      "text/plain": [
       "array([151.,  75., 141., 206., 135.,  97., 138.,  63., 110., 310., 101.,\n",
       "        69., 179., 185., 118., 171., 166., 144.,  97., 168.,  68.,  49.,\n",
       "        68., 245., 184., 202., 137.,  85., 131., 283., 129.,  59., 341.,\n",
       "        87.,  65., 102., 265., 276., 252.,  90., 100.,  55.,  61.,  92.,\n",
       "       259.,  53., 190., 142.,  75., 142., 155., 225.,  59., 104., 182.,\n",
       "       128.,  52.,  37., 170., 170.,  61., 144.,  52., 128.,  71., 163.,\n",
       "       150.,  97., 160., 178.,  48., 270., 202., 111.,  85.,  42., 170.,\n",
       "       200., 252., 113., 143.,  51.,  52., 210.,  65., 141.,  55., 134.,\n",
       "        42., 111.,  98., 164.,  48.,  96.,  90., 162., 150., 279.,  92.,\n",
       "        83., 128., 102., 302., 198.,  95.,  53., 134., 144., 232.,  81.,\n",
       "       104.,  59., 246., 297., 258., 229., 275., 281., 179., 200., 200.,\n",
       "       173., 180.,  84., 121., 161.,  99., 109., 115., 268., 274., 158.,\n",
       "       107.,  83., 103., 272.,  85., 280., 336., 281., 118., 317., 235.,\n",
       "        60., 174., 259., 178., 128.,  96., 126., 288.,  88., 292.,  71.,\n",
       "       197., 186.,  25.,  84.,  96., 195.,  53., 217., 172., 131., 214.,\n",
       "        59.,  70., 220., 268., 152.,  47.,  74., 295., 101., 151., 127.,\n",
       "       237., 225.,  81., 151., 107.,  64., 138., 185., 265., 101., 137.,\n",
       "       143., 141.,  79., 292., 178.,  91., 116.,  86., 122.,  72., 129.,\n",
       "       142.,  90., 158.,  39., 196., 222., 277.,  99., 196., 202., 155.,\n",
       "        77., 191.,  70.,  73.,  49.,  65., 263., 248., 296., 214., 185.,\n",
       "        78.,  93., 252., 150.,  77., 208.,  77., 108., 160.,  53., 220.,\n",
       "       154., 259.,  90., 246., 124.,  67.,  72., 257., 262., 275., 177.,\n",
       "        71.,  47., 187., 125.,  78.,  51., 258., 215., 303., 243.,  91.,\n",
       "       150., 310., 153., 346.,  63.,  89.,  50.,  39., 103., 308., 116.,\n",
       "       145.,  74.,  45., 115., 264.,  87., 202., 127., 182., 241.,  66.,\n",
       "        94., 283.,  64., 102., 200., 265.,  94., 230., 181., 156., 233.,\n",
       "        60., 219.,  80.,  68., 332., 248.,  84., 200.,  55.,  85.,  89.,\n",
       "        31., 129.,  83., 275.,  65., 198., 236., 253., 124.,  44., 172.,\n",
       "       114., 142., 109., 180., 144., 163., 147.,  97., 220., 190., 109.,\n",
       "       191., 122., 230., 242., 248., 249., 192., 131., 237.,  78., 135.,\n",
       "       244., 199., 270., 164.,  72.,  96., 306.,  91., 214.,  95., 216.,\n",
       "       263., 178., 113., 200., 139., 139.,  88., 148.,  88., 243.,  71.,\n",
       "        77., 109., 272.,  60.,  54., 221.,  90., 311., 281., 182., 321.,\n",
       "        58., 262., 206., 233., 242., 123., 167.,  63., 197.,  71., 168.,\n",
       "       140., 217., 121., 235., 245.,  40.,  52., 104., 132.,  88.,  69.,\n",
       "       219.,  72., 201., 110.,  51., 277.,  63., 118.,  69., 273., 258.,\n",
       "        43., 198., 242., 232., 175.,  93., 168., 275., 293., 281.,  72.,\n",
       "       140., 189., 181., 209., 136., 261., 113., 131., 174., 257.,  55.,\n",
       "        84.,  42., 146., 212., 233.,  91., 111., 152., 120.,  67., 310.,\n",
       "        94., 183.,  66., 173.,  72.,  49.,  64.,  48., 178., 104., 132.,\n",
       "       220.,  57.])"
      ]
     },
     "execution_count": 3,
     "metadata": {},
     "output_type": "execute_result"
    }
   ],
   "source": [
    "y = np.array(df_y)\n",
    "y"
   ]
  },
  {
   "cell_type": "markdown",
   "id": "2aff20ef",
   "metadata": {},
   "source": [
    "### 4) train 데이터와 test 데이터로 분리하기\n",
    "---"
   ]
  },
  {
   "cell_type": "code",
   "execution_count": 4,
   "id": "01454694",
   "metadata": {},
   "outputs": [
    {
     "name": "stdout",
     "output_type": "stream",
     "text": [
      "(353, 10) (353,)\n",
      "(89, 10) (89,)\n"
     ]
    }
   ],
   "source": [
    "from sklearn.model_selection import train_test_split\n",
    "\n",
    "X_train, X_test, y_train, y_test = train_test_split(X, y, test_size=0.2, random_state=50)\n",
    "\n",
    "#잘 나눠졌는지 확인\n",
    "print(X_train.shape, y_train.shape)\n",
    "print(X_test.shape, y_test.shape)"
   ]
  },
  {
   "cell_type": "markdown",
   "id": "403c84f3",
   "metadata": {},
   "source": [
    "### 5) 모델 준비하기\n",
    "---  "
   ]
  },
  {
   "cell_type": "code",
   "execution_count": 5,
   "id": "436b97d8",
   "metadata": {},
   "outputs": [],
   "source": [
    "# 입력 데이터 갯수에 맞는 가중치 w, b 준비하기\n",
    "w = np.random.rand(10)\n",
    "b = np.random.rand()\n",
    "\n",
    "#모델 함수 구현하기\n",
    "#for문을 활용하여 y = w1x1 + w2x2 + ~ + w10x10 + b 식 만들기\n",
    "def model(X, w, b):\n",
    "    predictions = 0\n",
    "    for i in range(10):\n",
    "        predictions += X[:, i] * w[i]\n",
    "    predictions += b\n",
    "    return predictions"
   ]
  },
  {
   "cell_type": "markdown",
   "id": "bdf50f68",
   "metadata": {},
   "source": [
    "### 6) 손실함수 loss 정의하기 \n",
    "---"
   ]
  },
  {
   "cell_type": "code",
   "execution_count": 6,
   "id": "6a8d3ebf",
   "metadata": {},
   "outputs": [],
   "source": [
    "#손실함수를 MSE 함수로 정의하기 \n",
    "def MSE(a, b):\n",
    "    mse = ((a - b) ** 2).mean()\n",
    "    return mse\n",
    "\n",
    "def loss(X, w, b, y):\n",
    "    predictions = model(X, w, b)\n",
    "    L = MSE(predictions, y)\n",
    "    return L"
   ]
  },
  {
   "cell_type": "markdown",
   "id": "c3829ae4",
   "metadata": {},
   "source": [
    "### 7) 기울기를 구하는 gradient 함수 구현하기\n",
    "---"
   ]
  },
  {
   "cell_type": "code",
   "execution_count": 7,
   "id": "27c56f32",
   "metadata": {},
   "outputs": [
    {
     "name": "stdout",
     "output_type": "stream",
     "text": [
      "[ -60.58209066  -13.81740356 -189.56857344 -142.63933829  -68.13289481\n",
      "  -55.86676576  127.6726799  -138.93612305 -182.82917881 -123.48568001]\n",
      "-303.55936760303314\n"
     ]
    }
   ],
   "source": [
    "def gradient(X, w, b, y):\n",
    "    N = len(w)\n",
    "    \n",
    "    #y_pred 준비\n",
    "    y_pred = model(X, w, b)\n",
    "    \n",
    "    #w의 gradient 식-> **X.dot(y)는 X와 y의 행렬곱. T는 형태 바꿔줌 \n",
    "    dw = 1/N * 2 * X.T.dot(y_pred - y)\n",
    "    \n",
    "    #b의 gradient 식 \n",
    "    db = 2 * (y_pred - y).mean()\n",
    "    \n",
    "    return dw, db\n",
    "\n",
    "#시험삼아 계산\n",
    "dw, db = gradient(X, w, b, y)\n",
    "print(dw)\n",
    "print(db)"
   ]
  },
  {
   "cell_type": "markdown",
   "id": "8f381501",
   "metadata": {},
   "source": [
    "### 8) 하이퍼 파라미터인 학습률 설정하기\n",
    "---"
   ]
  },
  {
   "cell_type": "code",
   "execution_count": 8,
   "id": "d6f3f218",
   "metadata": {},
   "outputs": [],
   "source": [
    "#learning rate 설정하기!\n",
    "learning_rate = 0.1\n",
    "\n",
    "#1: 5 넘 높음.  2: 100 Loss nan"
   ]
  },
  {
   "cell_type": "markdown",
   "id": "879af21d",
   "metadata": {},
   "source": [
    "### 9) 모델 학습하기\n",
    "---"
   ]
  },
  {
   "cell_type": "code",
   "execution_count": 9,
   "id": "be4495b8",
   "metadata": {},
   "outputs": [
    {
     "name": "stdout",
     "output_type": "stream",
     "text": [
      "iteration 100 : Loss 3015.5004\n",
      "iteration 200 : Loss 2966.6164\n",
      "iteration 300 : Loss 2962.0544\n",
      "iteration 400 : Loss 2960.5535\n",
      "iteration 500 : Loss 2959.4301\n",
      "iteration 600 : Loss 2958.4026\n",
      "iteration 700 : Loss 2957.4271\n",
      "iteration 800 : Loss 2956.4926\n",
      "iteration 900 : Loss 2955.5943\n",
      "iteration 1000 : Loss 2954.7288\n",
      "iteration 1100 : Loss 2953.8933\n",
      "iteration 1200 : Loss 2953.0858\n",
      "iteration 1300 : Loss 2952.3046\n",
      "iteration 1400 : Loss 2951.5479\n",
      "iteration 1500 : Loss 2950.8147\n",
      "iteration 1600 : Loss 2950.1038\n",
      "iteration 1700 : Loss 2949.4141\n",
      "iteration 1800 : Loss 2948.7449\n",
      "iteration 1900 : Loss 2948.0953\n",
      "iteration 2000 : Loss 2947.4646\n",
      "iteration 2100 : Loss 2946.8522\n",
      "iteration 2200 : Loss 2946.2575\n",
      "iteration 2300 : Loss 2945.6798\n",
      "iteration 2400 : Loss 2945.1187\n",
      "iteration 2500 : Loss 2944.5736\n",
      "iteration 2600 : Loss 2944.0440\n",
      "iteration 2700 : Loss 2943.5295\n",
      "iteration 2800 : Loss 2943.0296\n",
      "iteration 2900 : Loss 2942.5439\n"
     ]
    },
    {
     "data": {
      "image/png": "[encoded data removed]",
      "text/plain": [
       "<Figure size 432x288 with 1 Axes>"
      ]
     },
     "metadata": {
      "needs_background": "light"
     },
     "output_type": "display_data"
    }
   ],
   "source": [
    "#정해진 손실함수와 기울기 함수로 모델 학습시키기\n",
    "losses = []\n",
    "\n",
    "for i in range(1,3000):\n",
    "    dw, db = gradient(X_train, w, b, y_train)\n",
    "    w -= learning_rate * dw\n",
    "    b -= learning_rate * db\n",
    "    L = loss(X_train, w, b, y_train)\n",
    "    losses.append(L)\n",
    "    \n",
    "    if i % 100 == 0:\n",
    "            print('iteration %d : Loss %0.4f' % (i, L) )\n",
    "\n",
    "#데이터 시각화\n",
    "import matplotlib.pyplot as plt\n",
    "plt.plot(losses)\n",
    "plt.show()\n",
    "\n",
    "#자꾸 loss nan 뜸...나니....?\n",
    "#L, dw, db 값이 nan으로 나옴. -> test의 수 바꿔줌. -> lss값 20000~15000 \n",
    "#-> lr 0.001 -> 0.01 => 6000~3000 -> 1로하니까 2000대"
   ]
  },
  {
   "cell_type": "markdown",
   "id": "c2cf3492",
   "metadata": {},
   "source": [
    "### 9-1) 추가. 성별 데이터 제외하고 모델 학습시켜보기\n",
    "---"
   ]
  },
  {
   "cell_type": "code",
   "execution_count": 10,
   "id": "742a3fb5",
   "metadata": {},
   "outputs": [
    {
     "name": "stdout",
     "output_type": "stream",
     "text": [
      "iteration 100 : Loss 3067.1552\n",
      "iteration 200 : Loss 3061.3194\n",
      "iteration 300 : Loss 3056.8976\n",
      "iteration 400 : Loss 3053.4835\n",
      "iteration 500 : Loss 3050.8410\n",
      "iteration 600 : Loss 3048.7951\n",
      "iteration 700 : Loss 3047.2110\n",
      "iteration 800 : Loss 3045.9846\n",
      "iteration 900 : Loss 3045.0350\n",
      "iteration 1000 : Loss 3044.2998\n",
      "iteration 1100 : Loss 3043.7305\n",
      "iteration 1200 : Loss 3043.2898\n",
      "iteration 1300 : Loss 3042.9485\n",
      "iteration 1400 : Loss 3042.6843\n",
      "iteration 1500 : Loss 3042.4797\n",
      "iteration 1600 : Loss 3042.3213\n",
      "iteration 1700 : Loss 3042.1987\n",
      "iteration 1800 : Loss 3042.1038\n",
      "iteration 1900 : Loss 3042.0302\n",
      "iteration 2000 : Loss 3041.9733\n",
      "iteration 2100 : Loss 3041.9292\n",
      "iteration 2200 : Loss 3041.8951\n",
      "iteration 2300 : Loss 3041.8687\n",
      "iteration 2400 : Loss 3041.8482\n",
      "iteration 2500 : Loss 3041.8324\n",
      "iteration 2600 : Loss 3041.8201\n",
      "iteration 2700 : Loss 3041.8107\n",
      "iteration 2800 : Loss 3041.8033\n",
      "iteration 2900 : Loss 3041.7976\n"
     ]
    },
    {
     "data": {
      "image/png": "[encoded data removed]",
      "text/plain": [
       "<Figure size 432x288 with 1 Axes>"
      ]
     },
     "metadata": {
      "needs_background": "light"
     },
     "output_type": "display_data"
    }
   ],
   "source": [
    "from sklearn.datasets import load_diabetes\n",
    "\n",
    "diabetes = load_diabetes()\n",
    "\n",
    "df_X = diabetes.data\n",
    "df_y = diabetes.target\n",
    "\n",
    "import numpy as np\n",
    "\n",
    "x = np.array(df_X)\n",
    "X = np.delete(x,1,axis=1) #성별 데이터 제외시킴\n",
    "y = np.array(df_y)\n",
    "\n",
    "from sklearn.model_selection import train_test_split\n",
    "\n",
    "X_train, X_test, y_train, y_test = train_test_split(X, y, test_size=0.2, random_state=50)\n",
    "\n",
    "w = np.random.rand(9)\n",
    "b = np.random.rand()\n",
    "\n",
    "#모델 함수 구현하기\n",
    "def model(X, w, b):\n",
    "    predictions = 0\n",
    "    for i in range(9):\n",
    "        if i == 1:\n",
    "            pass\n",
    "        predictions += X[:, i] * w[i]\n",
    "    predictions += b\n",
    "    return predictions\n",
    "\n",
    "def MSE(a, b):\n",
    "    mse = ((a - b) ** 2).mean()\n",
    "    return mse\n",
    "\n",
    "def loss(X, w, b, y):\n",
    "    predictions = model(X, w, b)\n",
    "    L = MSE(predictions, y)\n",
    "    return L\n",
    "\n",
    "def gradient(X, w, b, y):\n",
    "    N = len(w)\n",
    "    y_pred = model(X, w, b)\n",
    "    dw = 1/N * 2 * X.T.dot(y_pred - y)\n",
    "    db = 2 * (y_pred - y).mean()\n",
    "    return dw, db\n",
    "\n",
    "learning_rate = 0.8\n",
    "\n",
    "losses = []\n",
    "\n",
    "for i in range(1,3000):\n",
    "    dw, db = gradient(X_train, w, b, y_train)\n",
    "    w -= learning_rate * dw\n",
    "    b -= learning_rate * db\n",
    "    L = loss(X_train, w, b, y_train)\n",
    "    losses.append(L)\n",
    "    \n",
    "    if i % 100 == 0:\n",
    "            print('iteration %d : Loss %0.4f' % (i, L) )\n",
    "\n",
    "import matplotlib.pyplot as plt\n",
    "plt.plot(losses)\n",
    "plt.show()"
   ]
  },
  {
   "cell_type": "markdown",
   "id": "00219aab",
   "metadata": {},
   "source": [
    "1) 같은 l.r(0.01)를 사용해서 돌려봤을때, loss값 7,000 ~ 3,000대 나옴  \n",
    "2) l.r 0.001 사용시 loss값 25,000 ~ 4,700  \n",
    "3) l.r 0.5 사용시 loss 값 3,000대   \n",
    "4) l.r 0.8 사용시 loss 값 3,070 ~ 3,044로 수렴  \n",
    "**결론 : 나이 특성을 제외 시켰을때, loss 값이 더 크게 발생하는 것으로 보아 나이를 포함하여 학습시키는 것이 더 유의미함을 알 수 있음.**"
   ]
  },
  {
   "cell_type": "markdown",
   "id": "b726c7ae",
   "metadata": {},
   "source": [
    "### 10) test 데이터에 대한 성능 확인하기\n",
    "---"
   ]
  },
  {
   "cell_type": "code",
   "execution_count": 11,
   "id": "0d1106fc",
   "metadata": {},
   "outputs": [
    {
     "data": {
      "text/plain": [
       "2690.2640730615694"
      ]
     },
     "execution_count": 11,
     "metadata": {},
     "output_type": "execute_result"
    }
   ],
   "source": [
    "prediction = model(X_test, w, b)\n",
    "mse = loss(X_test, w, b, y_test)\n",
    "mse"
   ]
  },
  {
   "cell_type": "markdown",
   "id": "094dcbc4",
   "metadata": {},
   "source": [
    "### 11) 정답 데이터와 예측한 데이터 시각화하기\n",
    "---\n",
    "- X축에 첫번째 컬럼, Y축은 예측값대입"
   ]
  },
  {
   "cell_type": "code",
   "execution_count": 12,
   "id": "64f6db55",
   "metadata": {},
   "outputs": [
    {
     "data": {
      "image/png": "[encoded data removed]",
      "text/plain": [
       "<Figure size 432x288 with 1 Axes>"
      ]
     },
     "metadata": {
      "needs_background": "light"
     },
     "output_type": "display_data"
    }
   ],
   "source": [
    "plt.scatter(X_test[:, 0], y_test, label=\"true\")\n",
    "plt.scatter(X_test[:, 0], prediction, label=\"pred\")\n",
    "plt.legend()\n",
    "plt.show()"
   ]
  },
  {
   "cell_type": "markdown",
   "id": "1474d4ee",
   "metadata": {},
   "source": [
    "### 프로젝트 1 결론   \n",
    "\n",
    "- loss 값이 3,000 이하로 수렴하여 최적의 함수를 찾았으며, test값에 대한 MSE 값도 3,000이하 값을 얻어 비교적 괜찮은 함수를 찾았음이 확인됨. \n",
    "---"
   ]
  },
  {
   "cell_type": "markdown",
   "id": "f8aee127",
   "metadata": {},
   "source": [
    "---\n",
    "## 프로젝트 2. 자전거 타는 사람 추론하기  \n",
    "\n",
    "> 시간, 온도, 습도, 계절 등의 정보가 담긴 데이터를 통해 가전거 대여량 예측하기\n",
    "> 직접 손실함수와 기울기를 계산하지 않고, 사이킷런의 LinearRegression 모델 활용"
   ]
  },
  {
   "cell_type": "markdown",
   "id": "1f85cae4",
   "metadata": {},
   "source": [
    "### 1) 데이터 가져오기\n",
    "---"
   ]
  },
  {
   "cell_type": "code",
   "execution_count": 13,
   "id": "46fbb521",
   "metadata": {},
   "outputs": [
    {
     "name": "stdout",
     "output_type": "stream",
     "text": [
      "/aiffel/data/data/bike-sharing-demand/test.csv\r\n"
     ]
    }
   ],
   "source": [
    "!ls '/aiffel/data/data/bike-sharing-demand/test.csv'"
   ]
  },
  {
   "cell_type": "code",
   "execution_count": 14,
   "id": "e4e5b11d",
   "metadata": {
    "scrolled": true
   },
   "outputs": [
    {
     "name": "stdout",
     "output_type": "stream",
     "text": [
      "<class 'pandas.core.frame.DataFrame'>\n",
      "RangeIndex: 10886 entries, 0 to 10885\n",
      "Data columns (total 12 columns):\n",
      " #   Column      Non-Null Count  Dtype  \n",
      "---  ------      --------------  -----  \n",
      " 0   datetime    10886 non-null  object \n",
      " 1   season      10886 non-null  int64  \n",
      " 2   holiday     10886 non-null  int64  \n",
      " 3   workingday  10886 non-null  int64  \n",
      " 4   weather     10886 non-null  int64  \n",
      " 5   temp        10886 non-null  float64\n",
      " 6   atemp       10886 non-null  float64\n",
      " 7   humidity    10886 non-null  int64  \n",
      " 8   windspeed   10886 non-null  float64\n",
      " 9   casual      10886 non-null  int64  \n",
      " 10  registered  10886 non-null  int64  \n",
      " 11  count       10886 non-null  int64  \n",
      "dtypes: float64(3), int64(8), object(1)\n",
      "memory usage: 1020.7+ KB\n"
     ]
    },
    {
     "data": {
      "text/html": [
       "<div>\n",
       "<style scoped>\n",
       "    .dataframe tbody tr th:only-of-type {\n",
       "        vertical-align: middle;\n",
       "    }\n",
       "\n",
       "    .dataframe tbody tr th {\n",
       "        vertical-align: top;\n",
       "    }\n",
       "\n",
       "    .dataframe thead th {\n",
       "        text-align: right;\n",
       "    }\n",
       "</style>\n",
       "<table border=\"1\" class=\"dataframe\">\n",
       "  <thead>\n",
       "    <tr style=\"text-align: right;\">\n",
       "      <th></th>\n",
       "      <th>datetime</th>\n",
       "      <th>season</th>\n",
       "      <th>holiday</th>\n",
       "      <th>workingday</th>\n",
       "      <th>weather</th>\n",
       "      <th>temp</th>\n",
       "      <th>atemp</th>\n",
       "      <th>humidity</th>\n",
       "      <th>windspeed</th>\n",
       "      <th>casual</th>\n",
       "      <th>registered</th>\n",
       "      <th>count</th>\n",
       "    </tr>\n",
       "  </thead>\n",
       "  <tbody>\n",
       "    <tr>\n",
       "      <th>0</th>\n",
       "      <td>2011-01-01 00:00:00</td>\n",
       "      <td>1</td>\n",
       "      <td>0</td>\n",
       "      <td>0</td>\n",
       "      <td>1</td>\n",
       "      <td>9.84</td>\n",
       "      <td>14.395</td>\n",
       "      <td>81</td>\n",
       "      <td>0.0</td>\n",
       "      <td>3</td>\n",
       "      <td>13</td>\n",
       "      <td>16</td>\n",
       "    </tr>\n",
       "    <tr>\n",
       "      <th>1</th>\n",
       "      <td>2011-01-01 01:00:00</td>\n",
       "      <td>1</td>\n",
       "      <td>0</td>\n",
       "      <td>0</td>\n",
       "      <td>1</td>\n",
       "      <td>9.02</td>\n",
       "      <td>13.635</td>\n",
       "      <td>80</td>\n",
       "      <td>0.0</td>\n",
       "      <td>8</td>\n",
       "      <td>32</td>\n",
       "      <td>40</td>\n",
       "    </tr>\n",
       "    <tr>\n",
       "      <th>2</th>\n",
       "      <td>2011-01-01 02:00:00</td>\n",
       "      <td>1</td>\n",
       "      <td>0</td>\n",
       "      <td>0</td>\n",
       "      <td>1</td>\n",
       "      <td>9.02</td>\n",
       "      <td>13.635</td>\n",
       "      <td>80</td>\n",
       "      <td>0.0</td>\n",
       "      <td>5</td>\n",
       "      <td>27</td>\n",
       "      <td>32</td>\n",
       "    </tr>\n",
       "    <tr>\n",
       "      <th>3</th>\n",
       "      <td>2011-01-01 03:00:00</td>\n",
       "      <td>1</td>\n",
       "      <td>0</td>\n",
       "      <td>0</td>\n",
       "      <td>1</td>\n",
       "      <td>9.84</td>\n",
       "      <td>14.395</td>\n",
       "      <td>75</td>\n",
       "      <td>0.0</td>\n",
       "      <td>3</td>\n",
       "      <td>10</td>\n",
       "      <td>13</td>\n",
       "    </tr>\n",
       "    <tr>\n",
       "      <th>4</th>\n",
       "      <td>2011-01-01 04:00:00</td>\n",
       "      <td>1</td>\n",
       "      <td>0</td>\n",
       "      <td>0</td>\n",
       "      <td>1</td>\n",
       "      <td>9.84</td>\n",
       "      <td>14.395</td>\n",
       "      <td>75</td>\n",
       "      <td>0.0</td>\n",
       "      <td>0</td>\n",
       "      <td>1</td>\n",
       "      <td>1</td>\n",
       "    </tr>\n",
       "  </tbody>\n",
       "</table>\n",
       "</div>"
      ],
      "text/plain": [
       "              datetime  season  holiday  workingday  weather  temp   atemp  \\\n",
       "0  2011-01-01 00:00:00       1        0           0        1  9.84  14.395   \n",
       "1  2011-01-01 01:00:00       1        0           0        1  9.02  13.635   \n",
       "2  2011-01-01 02:00:00       1        0           0        1  9.02  13.635   \n",
       "3  2011-01-01 03:00:00       1        0           0        1  9.84  14.395   \n",
       "4  2011-01-01 04:00:00       1        0           0        1  9.84  14.395   \n",
       "\n",
       "   humidity  windspeed  casual  registered  count  \n",
       "0        81        0.0       3          13     16  \n",
       "1        80        0.0       8          32     40  \n",
       "2        80        0.0       5          27     32  \n",
       "3        75        0.0       3          10     13  \n",
       "4        75        0.0       0           1      1  "
      ]
     },
     "execution_count": 14,
     "metadata": {},
     "output_type": "execute_result"
    }
   ],
   "source": [
    "import pandas as pd\n",
    "\n",
    "csv_path = '/aiffel/data/data/bike-sharing-demand/train.csv' #이렇게 해야 눈에 깔끔하게 잘 들어옴\n",
    "train = pd.read_csv(csv_path) #read_csv 함수다!!!\n",
    "train.info()\n",
    "train.head() #head도 함수로 보는게 더 깔끔함"
   ]
  },
  {
   "cell_type": "markdown",
   "id": "86a80ede",
   "metadata": {},
   "source": [
    "상기 데이터를 보면,   \n",
    "총 데이터의 갯수는 10886개이며 각 특성은 총 12개로  \n",
    "- datetime(시간)  \n",
    "- season(계절) \n",
    "- holiday(주말)\n",
    "- workingday(평일)\n",
    "- weather(1:맑음 ~ 4:천둥,심한비)\n",
    "- temp(온도)\n",
    "- atemp(체감온도_섭씨)\n",
    "- humidity(습도)\n",
    "- windspeed(풍속)\n",
    "- casual(미등록 사용자가 대여한 횟수)\n",
    "- registered(등록된 사용자가 대여한 횟수)\n",
    "- count(렌탈 총합)  \n",
    "인 것을 확인할 수 있다.  \n",
    "\n",
    "여기서 __결정값은 대여 횟수인 count__ 값이고, 특성 대부분의 값이 결정값에 영향을 주지 않을까 싶다.  \n",
    "그리고 casual, registered는 두 값을 더하여 count값이 되므로 casual, registered는 삭제해주는 것이 나을 것 같다. "
   ]
  },
  {
   "cell_type": "markdown",
   "id": "2701e451",
   "metadata": {},
   "source": [
    "### 2) datetime 컬럼을  datetime 자료형으로 변환하고 연, 월, 일, 시, 분, 초 까지 6가지 컬럼 생성하기\n",
    "---"
   ]
  },
  {
   "cell_type": "code",
   "execution_count": 15,
   "id": "bb8ad776",
   "metadata": {},
   "outputs": [
    {
     "data": {
      "text/plain": [
       "datetime       object\n",
       "season          int64\n",
       "holiday         int64\n",
       "workingday      int64\n",
       "weather         int64\n",
       "temp          float64\n",
       "atemp         float64\n",
       "humidity        int64\n",
       "windspeed     float64\n",
       "casual          int64\n",
       "registered      int64\n",
       "count           int64\n",
       "dtype: object"
      ]
     },
     "execution_count": 15,
     "metadata": {},
     "output_type": "execute_result"
    }
   ],
   "source": [
    "train.dtypes\n",
    "#object 이므로 타입을 datetime형식으로 변경해야함"
   ]
  },
  {
   "cell_type": "markdown",
   "id": "c57844ed",
   "metadata": {},
   "source": [
    "대부분의 인자가 int 혹은 float 타입으로 처리하기 쉬우나, datetime은 object 값이므로 to_datetime을 이용하여 타입을 변경시켜준다.  \n",
    "\n",
    "또한 이렇게 데이터를 사용할 때, 한번에 붙어있는 것 보단 년, 월, 일, 시 등으로 쪼개줘야 처리하기도 간편할 것 같음. "
   ]
  },
  {
   "cell_type": "code",
   "execution_count": 16,
   "id": "9b3ec259",
   "metadata": {
    "scrolled": false
   },
   "outputs": [
    {
     "data": {
      "text/html": [
       "<div>\n",
       "<style scoped>\n",
       "    .dataframe tbody tr th:only-of-type {\n",
       "        vertical-align: middle;\n",
       "    }\n",
       "\n",
       "    .dataframe tbody tr th {\n",
       "        vertical-align: top;\n",
       "    }\n",
       "\n",
       "    .dataframe thead th {\n",
       "        text-align: right;\n",
       "    }\n",
       "</style>\n",
       "<table border=\"1\" class=\"dataframe\">\n",
       "  <thead>\n",
       "    <tr style=\"text-align: right;\">\n",
       "      <th></th>\n",
       "      <th>datetime</th>\n",
       "      <th>season</th>\n",
       "      <th>holiday</th>\n",
       "      <th>workingday</th>\n",
       "      <th>weather</th>\n",
       "      <th>temp</th>\n",
       "      <th>atemp</th>\n",
       "      <th>humidity</th>\n",
       "      <th>windspeed</th>\n",
       "      <th>casual</th>\n",
       "      <th>registered</th>\n",
       "      <th>count</th>\n",
       "      <th>year</th>\n",
       "      <th>month</th>\n",
       "      <th>day</th>\n",
       "      <th>hour</th>\n",
       "      <th>minute</th>\n",
       "      <th>second</th>\n",
       "    </tr>\n",
       "  </thead>\n",
       "  <tbody>\n",
       "    <tr>\n",
       "      <th>0</th>\n",
       "      <td>2011-01-01 00:00:00</td>\n",
       "      <td>1</td>\n",
       "      <td>0</td>\n",
       "      <td>0</td>\n",
       "      <td>1</td>\n",
       "      <td>9.84</td>\n",
       "      <td>14.395</td>\n",
       "      <td>81</td>\n",
       "      <td>0.0</td>\n",
       "      <td>3</td>\n",
       "      <td>13</td>\n",
       "      <td>16</td>\n",
       "      <td>2011</td>\n",
       "      <td>1</td>\n",
       "      <td>1</td>\n",
       "      <td>0</td>\n",
       "      <td>0</td>\n",
       "      <td>0</td>\n",
       "    </tr>\n",
       "    <tr>\n",
       "      <th>1</th>\n",
       "      <td>2011-01-01 01:00:00</td>\n",
       "      <td>1</td>\n",
       "      <td>0</td>\n",
       "      <td>0</td>\n",
       "      <td>1</td>\n",
       "      <td>9.02</td>\n",
       "      <td>13.635</td>\n",
       "      <td>80</td>\n",
       "      <td>0.0</td>\n",
       "      <td>8</td>\n",
       "      <td>32</td>\n",
       "      <td>40</td>\n",
       "      <td>2011</td>\n",
       "      <td>1</td>\n",
       "      <td>1</td>\n",
       "      <td>1</td>\n",
       "      <td>0</td>\n",
       "      <td>0</td>\n",
       "    </tr>\n",
       "    <tr>\n",
       "      <th>2</th>\n",
       "      <td>2011-01-01 02:00:00</td>\n",
       "      <td>1</td>\n",
       "      <td>0</td>\n",
       "      <td>0</td>\n",
       "      <td>1</td>\n",
       "      <td>9.02</td>\n",
       "      <td>13.635</td>\n",
       "      <td>80</td>\n",
       "      <td>0.0</td>\n",
       "      <td>5</td>\n",
       "      <td>27</td>\n",
       "      <td>32</td>\n",
       "      <td>2011</td>\n",
       "      <td>1</td>\n",
       "      <td>1</td>\n",
       "      <td>2</td>\n",
       "      <td>0</td>\n",
       "      <td>0</td>\n",
       "    </tr>\n",
       "    <tr>\n",
       "      <th>3</th>\n",
       "      <td>2011-01-01 03:00:00</td>\n",
       "      <td>1</td>\n",
       "      <td>0</td>\n",
       "      <td>0</td>\n",
       "      <td>1</td>\n",
       "      <td>9.84</td>\n",
       "      <td>14.395</td>\n",
       "      <td>75</td>\n",
       "      <td>0.0</td>\n",
       "      <td>3</td>\n",
       "      <td>10</td>\n",
       "      <td>13</td>\n",
       "      <td>2011</td>\n",
       "      <td>1</td>\n",
       "      <td>1</td>\n",
       "      <td>3</td>\n",
       "      <td>0</td>\n",
       "      <td>0</td>\n",
       "    </tr>\n",
       "    <tr>\n",
       "      <th>4</th>\n",
       "      <td>2011-01-01 04:00:00</td>\n",
       "      <td>1</td>\n",
       "      <td>0</td>\n",
       "      <td>0</td>\n",
       "      <td>1</td>\n",
       "      <td>9.84</td>\n",
       "      <td>14.395</td>\n",
       "      <td>75</td>\n",
       "      <td>0.0</td>\n",
       "      <td>0</td>\n",
       "      <td>1</td>\n",
       "      <td>1</td>\n",
       "      <td>2011</td>\n",
       "      <td>1</td>\n",
       "      <td>1</td>\n",
       "      <td>4</td>\n",
       "      <td>0</td>\n",
       "      <td>0</td>\n",
       "    </tr>\n",
       "  </tbody>\n",
       "</table>\n",
       "</div>"
      ],
      "text/plain": [
       "             datetime  season  holiday  workingday  weather  temp   atemp  \\\n",
       "0 2011-01-01 00:00:00       1        0           0        1  9.84  14.395   \n",
       "1 2011-01-01 01:00:00       1        0           0        1  9.02  13.635   \n",
       "2 2011-01-01 02:00:00       1        0           0        1  9.02  13.635   \n",
       "3 2011-01-01 03:00:00       1        0           0        1  9.84  14.395   \n",
       "4 2011-01-01 04:00:00       1        0           0        1  9.84  14.395   \n",
       "\n",
       "   humidity  windspeed  casual  registered  count  year  month  day  hour  \\\n",
       "0        81        0.0       3          13     16  2011      1    1     0   \n",
       "1        80        0.0       8          32     40  2011      1    1     1   \n",
       "2        80        0.0       5          27     32  2011      1    1     2   \n",
       "3        75        0.0       3          10     13  2011      1    1     3   \n",
       "4        75        0.0       0           1      1  2011      1    1     4   \n",
       "\n",
       "   minute  second  \n",
       "0       0       0  \n",
       "1       0       0  \n",
       "2       0       0  \n",
       "3       0       0  \n",
       "4       0       0  "
      ]
     },
     "execution_count": 16,
     "metadata": {},
     "output_type": "execute_result"
    }
   ],
   "source": [
    "train['datetime'] = pd.to_datetime(train['datetime'])\n",
    "\n",
    "train.dtypes\n",
    "#train의 타입이 datetime으로 변경된 것을 볼 수 있음\n",
    "\n",
    "#칼럼 생성하기\n",
    "train['year']=pd.DatetimeIndex(train['datetime']).year\n",
    "train['month']=pd.DatetimeIndex(train['datetime']).month\n",
    "train['day']=pd.DatetimeIndex(train['datetime']).day\n",
    "train['hour']=pd.DatetimeIndex(train['datetime']).hour\n",
    "train['minute']=pd.DatetimeIndex(train['datetime']).minute\n",
    "train['second']=pd.DatetimeIndex(train['datetime']).second\n",
    "\n",
    "train.head()"
   ]
  },
  {
   "cell_type": "code",
   "execution_count": 17,
   "id": "53f5099c",
   "metadata": {},
   "outputs": [
    {
     "data": {
      "text/plain": [
       "<AxesSubplot:xlabel='second', ylabel='count'>"
      ]
     },
     "execution_count": 17,
     "metadata": {},
     "output_type": "execute_result"
    },
    {
     "data": {
      "image/png": "[encoded data removed]",
      "text/plain": [
       "<Figure size 432x288 with 1 Axes>"
      ]
     },
     "metadata": {
      "needs_background": "light"
     },
     "output_type": "display_data"
    }
   ],
   "source": [
    "import seaborn as sns\n",
    "import matplotlib.pyplot as plt\n",
    "\n",
    "sns.countplot(x=\"year\", data=train)\n",
    "sns.countplot(x=\"month\", data=train)\n",
    "sns.countplot(x=\"day\", data=train)\n",
    "sns.countplot(x=\"hour\", data=train)\n",
    "sns.countplot(x=\"minute\", data=train)\n",
    "sns.countplot(x=\"second\", data=train)\n"
   ]
  },
  {
   "cell_type": "code",
   "execution_count": 18,
   "id": "f41995c1",
   "metadata": {},
   "outputs": [
    {
     "data": {
      "text/plain": [
       "<AxesSubplot:xlabel='second', ylabel='count'>"
      ]
     },
     "execution_count": 18,
     "metadata": {},
     "output_type": "execute_result"
    },
    {
     "data": {
      "image/png": "[encoded data removed]",
      "text/plain": [
       "<Figure size 1080x1080 with 6 Axes>"
      ]
     },
     "metadata": {
      "needs_background": "light"
     },
     "output_type": "display_data"
    }
   ],
   "source": [
    "fig = plt.figure(figsize=(15,15))\n",
    "ax1 = fig.add_subplot(3, 2, 1)\n",
    "sns.countplot(x=\"year\", data=train, ax=ax1)\n",
    "ax2 = fig.add_subplot(3, 2, 2)\n",
    "sns.countplot(x=\"month\", data=train, ax=ax2)\n",
    "ax3 = fig.add_subplot(3, 2, 3)\n",
    "sns.countplot(x=\"day\", data=train, ax=ax3)\n",
    "ax4 = fig.add_subplot(3, 2, 4)\n",
    "sns.countplot(x=\"hour\", data=train, ax=ax4)\n",
    "ax5 = fig.add_subplot(3, 2, 5)\n",
    "sns.countplot(x=\"minute\", data=train, ax=ax5)\n",
    "ax6 = fig.add_subplot(3, 2, 6)\n",
    "sns.countplot(x=\"second\", data=train,ax=ax6)\n",
    "\n",
    "\n",
    "#plt.plot(train,y)\n",
    "#plt.subplot(nrow,ncol,pos)"
   ]
  },
  {
   "cell_type": "markdown",
   "id": "661ce4b4",
   "metadata": {},
   "source": [
    "상기 그래프를 보았을 때, 단순 카운트긴 하지만   \n",
    "year은 년도 별 사용자의 변화가 크게 없어 이후 x특성으로 넣지 않아도 될 것 같음"
   ]
  },
  {
   "cell_type": "markdown",
   "id": "1b80860c",
   "metadata": {},
   "source": [
    "### 4) X, y 컬럼 선택 및 train/test 데이터 분리\n",
    "---  \n",
    "\n",
    "X에는 문자열 데이터, 쓸모없는 데이터를 제외한 칼럼의 데이터를 넣어야하는데  \n",
    "우선,  \n",
    "- datetime은 분리하여 칼럼에 추가하였으므로 제외\n",
    "- year은 상기 그래프를 통해 넣지 않아도 됨을 판단하여 제외\n",
    "- minute, second는 구하고자하는 자전거 타는 사람을 구할때 큰 영향을 끼치지 않을 것으로 생각됨\n",
    "- casual, registered 값은 합쳐서 count 값이 되므로 제외\n",
    "\n",
    "따라서  \n",
    "datetime, year, minute, secound, casual, registered 값 제외하여 X 데이터 설정, y는 count 값을 설정하기로함."
   ]
  },
  {
   "cell_type": "code",
   "execution_count": 19,
   "id": "44b4e410",
   "metadata": {},
   "outputs": [
    {
     "name": "stdout",
     "output_type": "stream",
     "text": [
      "       season  holiday  workingday  weather   temp   atemp  humidity  \\\n",
      "0           1        0           0        1   9.84  14.395        81   \n",
      "1           1        0           0        1   9.02  13.635        80   \n",
      "2           1        0           0        1   9.02  13.635        80   \n",
      "3           1        0           0        1   9.84  14.395        75   \n",
      "4           1        0           0        1   9.84  14.395        75   \n",
      "...       ...      ...         ...      ...    ...     ...       ...   \n",
      "10881       4        0           1        1  15.58  19.695        50   \n",
      "10882       4        0           1        1  14.76  17.425        57   \n",
      "10883       4        0           1        1  13.94  15.910        61   \n",
      "10884       4        0           1        1  13.94  17.425        61   \n",
      "10885       4        0           1        1  13.12  16.665        66   \n",
      "\n",
      "       windspeed  month  day  hour  \n",
      "0         0.0000      1    1     0  \n",
      "1         0.0000      1    1     1  \n",
      "2         0.0000      1    1     2  \n",
      "3         0.0000      1    1     3  \n",
      "4         0.0000      1    1     4  \n",
      "...          ...    ...  ...   ...  \n",
      "10881    26.0027     12   19    19  \n",
      "10882    15.0013     12   19    20  \n",
      "10883    15.0013     12   19    21  \n",
      "10884     6.0032     12   19    22  \n",
      "10885     8.9981     12   19    23  \n",
      "\n",
      "[10886 rows x 11 columns]\n",
      "0         16\n",
      "1         40\n",
      "2         32\n",
      "3         13\n",
      "4          1\n",
      "        ... \n",
      "10881    336\n",
      "10882    241\n",
      "10883    168\n",
      "10884    129\n",
      "10885     88\n",
      "Name: count, Length: 10886, dtype: int64\n"
     ]
    }
   ],
   "source": [
    "y = train['count']\n",
    "train = train.drop(columns = ['datetime', 'year', 'minute', 'second', 'casual', 'registered', 'count'])\n",
    "X = train\n",
    "print(X) #x 값 잘 입력됐는지 확인\n",
    "\n",
    "print(y)#y 값 잘 입력됐는지 확인\n",
    "\n",
    "from sklearn.model_selection import train_test_split\n",
    "X_train, X_test, y_train, y_test = train_test_split(X, y, test_size=0.2, random_state=50)\n"
   ]
  },
  {
   "cell_type": "markdown",
   "id": "b1a18bc9",
   "metadata": {},
   "source": [
    "**X값 넣을 때 count 빼주는거 확인해야함...!!!!**"
   ]
  },
  {
   "cell_type": "markdown",
   "id": "c2eeec4c",
   "metadata": {},
   "source": [
    "### 5) LinearRegression 모델 학습\n",
    "---"
   ]
  },
  {
   "cell_type": "code",
   "execution_count": 20,
   "id": "5b2360b5",
   "metadata": {},
   "outputs": [],
   "source": [
    "from sklearn.linear_model import LinearRegression\n",
    "\n",
    "model = LinearRegression()"
   ]
  },
  {
   "cell_type": "markdown",
   "id": "836973d1",
   "metadata": {},
   "source": [
    "### 6) 학습된 모델로 X_test에 대한 예측값 출력 및 손실함수값 계산\n",
    "---  \n",
    "- 학습된 모델에 X_train 입력해서 예측값 출력하기\n",
    "- 모델이 예측한 값과 정답 target 간의 손실함수 값 계산하기\n",
    "- mse 값과 함께 rmse 값도 계산하기"
   ]
  },
  {
   "cell_type": "code",
   "execution_count": 21,
   "id": "d532f003",
   "metadata": {},
   "outputs": [
    {
     "name": "stdout",
     "output_type": "stream",
     "text": [
      "mse값:  21608.18452969114 RMSE값:  146.99722626529774\n"
     ]
    }
   ],
   "source": [
    "model.fit(X_train, y_train)\n",
    "predictions = model.predict(X_test)\n",
    "predictions\n",
    "\n",
    "\n",
    "from sklearn.metrics import mean_squared_error\n",
    "\n",
    "mse = mean_squared_error(y_test, predictions)\n",
    "RMSE = mean_squared_error(y_test, predictions)**0.5\n",
    "\n",
    "print('mse값: ', mse, 'RMSE값: ', RMSE)"
   ]
  },
  {
   "cell_type": "markdown",
   "id": "c1381699",
   "metadata": {},
   "source": [
    "MSE값이 3,000 밑으로 내려가고, RMSE값이 100대로 낮은 것으로 보아 현재 예측값을 잘 학습했다고 볼 수 있음"
   ]
  },
  {
   "cell_type": "markdown",
   "id": "e38e2a92",
   "metadata": {},
   "source": [
    "### 7) x축은 temp 또는 humidity로, y축은 count로 예측 결과 시각화하기\n",
    "---"
   ]
  },
  {
   "cell_type": "code",
   "execution_count": 29,
   "id": "e6a25bb2",
   "metadata": {},
   "outputs": [
    {
     "data": {
      "image/png": "[encoded data removed]",
      "text/plain": [
       "<Figure size 432x288 with 1 Axes>"
      ]
     },
     "metadata": {
      "needs_background": "light"
     },
     "output_type": "display_data"
    }
   ],
   "source": [
    "import matplotlib.pyplot as plt\n",
    "\n",
    "#(1) x축은 temp, y축은 count 데이터 넣어 시각화 하기\n",
    "plt.scatter(X_test['temp'], y_test, label=\"true\")\n",
    "plt.scatter(X_test['temp'], predictions, label=\"pred\")\n",
    "plt.legend()\n",
    "plt.show()"
   ]
  },
  {
   "cell_type": "code",
   "execution_count": 30,
   "id": "df8e19d0",
   "metadata": {},
   "outputs": [
    {
     "data": {
      "image/png": "[encoded data removed]",
      "text/plain": [
       "<Figure size 432x288 with 1 Axes>"
      ]
     },
     "metadata": {
      "needs_background": "light"
     },
     "output_type": "display_data"
    }
   ],
   "source": [
    "#(2) x축은 humidity, y축은 count 데이터 넣어 시각화 하기\n",
    "plt.scatter(X_test['humidity'], y_test, label=\"true\")\n",
    "plt.scatter(X_test['humidity'], predictions, label=\"pred\")\n",
    "plt.legend()\n",
    "plt.show()"
   ]
  },
  {
   "cell_type": "markdown",
   "id": "820e68e4",
   "metadata": {},
   "source": [
    "- 마지막 시각화를 통하여 예측값과 실제 값이 어느정도 유사하게 됨을 확인. 하지만 실제값이 훨씬 넓게 분포되어 있는 것을 보아 튀는 값들을 어느정도까지 두어야하는지는 더 생각해봐야할 것 같음.\n",
    "---"
   ]
  },
  {
   "cell_type": "markdown",
   "id": "fb91a684",
   "metadata": {},
   "source": [
    "## 회고\n",
    "---\n",
    "1. 우선 이번 과제를 통해 NumPy, Pandas 등 다른 데이터 타입을 취급하였는데, 이 데이터 별로 사용 방법 및 코드 짜는 것이 다르다는 것을 처음 알았음. 더 다양한 데이터들을 다뤄보면서 각 타입별로 어떤 때 사용되며, 코드짜는 방법을 더 익숙해져야할 필요가 있음을 느꼈다. 타입별 뿐만아니라 ndarray와 array의 차이 등 기초가 되는 것도 부족함을 크게 느낀 실습이었다.  \n",
    "\n",
    "\n",
    "2. 프로젝트 1번을 하면서 NaN이라는 것을 처음 봤는데, 이는 Not-a-Number로 숫자가 아니라는 뜻이다. 이는 수학적으로 계산이 안되는 경우나 무한대로 발산하는 경우에 생기는 오류인데, 처음 learnning rate를 5로 너무 크게줘서 안으로 수렴하지 못하고 밖으로 발산되어 생기는 오류였다. => 다음부터는 learning rate를 부여할 때 0.1정도로 작게 시작해야겠다. \n",
    "\n",
    "\n",
    "3. plt.subplots을 다루면서 굉장히 많은 시간을 소비하였다. 근데 다른 사람들의 코드 짠것을 보니 생각보다 간단하고 깔끔하게 작성한 것을 보고 많은...생각이 들었다. 왜 늦어졌을까? 검색을 했을때, 내가 필요한 부분만 빠르게 보고 캐치하려고 했는데 긴 코드 속에서 내가 찾는 부분을 캐치하는 실력이 아직은 부족한 것 같다. 마음이 조급해서 아닌것같다 싶으면 슥슥 넘긴것도 영향이 있는 것 같다. 흠.... 또 어느정도 스스로 검색해보고 주변사람에게 물어보는 것도 빠르게 해결할 수 있는 방법인데, 혼자 해결해보고 싶다는 욕심이 시간을 더 잡아먹은 것 같다. \n",
    "---"
   ]
  },
  {
   "cell_type": "markdown",
   "id": "0088345c",
   "metadata": {},
   "source": [
    "### 참고자료\n",
    "---"
   ]
  },
  {
   "cell_type": "code",
   "execution_count": 22,
   "id": "a9ea4dee",
   "metadata": {},
   "outputs": [],
   "source": [
    "# fig, axes = plt.subplots(3, 2, figsize=(10,10))\n",
    "# sns.countplot(train['year'], ax=axes[0][0])\n",
    "# sns.countplot(train['month'], ax=axes[0][1])\n",
    "# sns.countplot(train['day'], ax=axes[1][0])\n",
    "# sns.countplot(train['hour'], ax=axes[1][1])\n",
    "# sns.countplot(train['minute'], ax=axes[2][0])\n",
    "# sns.countplot(train['second'], ax=axes[2][1])\n",
    "\n",
    "# plt.figure(figsize=(20,30))\n",
    "# plt.subplot(321)\n",
    "# sns.countplot(train.year)\n",
    "# plt.subplot(322)\n",
    "# sns.countplot(train.month)\n",
    "# plt.subplot(323)\n",
    "# sns.countplot(train.day)\n",
    "# plt.subplot(324)\n",
    "# sns.countplot(train.hour)\n",
    "# plt.subplot(325)\n",
    "# sns.countplot(train.minute)\n",
    "# plt.subplot(326)\n",
    "# sns.countplot(train.second)\n",
    "# plt.show()"
   ]
  },
  {
   "cell_type": "markdown",
   "id": "d8800a8d",
   "metadata": {},
   "source": [
    "https://velog.io/@dlskawns/Dataframe-%EB%82%B4-Column-row-%EC%84%A0%ED%83%9D-%EC%A0%9C%EA%B1%B0-%EC%B6%94%EA%B0%80-%EB%B3%80%EA%B2%BD%ED%95%98%EA%B8%B0pandas\n",
    "df 제거 방법 참고\n"
   ]
  }
 ],
 "metadata": {
  "kernelspec": {
   "display_name": "Python 3 (ipykernel)",
   "language": "python",
   "name": "python3"
  },
  "language_info": {
   "codemirror_mode": {
    "name": "ipython",
    "version": 3
   },
   "file_extension": ".py",
   "mimetype": "text/x-python",
   "name": "python",
   "nbconvert_exporter": "python",
   "pygments_lexer": "ipython3",
   "version": "3.9.7"
  }
 },
 "nbformat": 4,
 "nbformat_minor": 5
}
