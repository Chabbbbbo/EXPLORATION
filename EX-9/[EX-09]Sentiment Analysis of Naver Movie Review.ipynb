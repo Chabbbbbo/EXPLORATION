{
  "nbformat": 4,
  "nbformat_minor": 0,
  "metadata": {
    "colab": {
      "name": "[EX-09]Sentiment Analysis of Naver Movie Review .ipynb",
      "provenance": [],
      "collapsed_sections": [],
      "machine_shape": "hm"
    },
    "kernelspec": {
      "name": "python3",
      "display_name": "Python 3"
    },
    "language_info": {
      "name": "python"
    },
    "accelerator": "GPU"
  },
  "cells": [
    {
      "cell_type": "markdown",
      "source": [
        "## STEP 0. 라이브러리 불러오기\n",
        "\n",
        "---\n",
        "이번에 사용할 konlpy가 코랩에서 바로 import되지 않아 google 검색을 통해 라이브러리를 설치하고 불러오기로 한다."
      ],
      "metadata": {
        "id": "LrjJRfWVTaeS"
      }
    },
    {
      "cell_type": "code",
      "source": [
        "# bash 셸로 명령어 입력하여 라이브러리 설치하기\n",
        "\n",
        "%%bash\n",
        "apt-get update\n",
        "apt-get install g++ openjdk-8-jdk python-dev python3-dev\n",
        "pip3 install JPype1\n",
        "pip3 install konlpy"
      ],
      "metadata": {
        "colab": {
          "base_uri": "https://localhost:8080/"
        },
        "id": "KqszjphcVSUK",
        "outputId": "ad7bb620-b4d4-456a-b0c8-2db8716666f3"
      },
      "execution_count": null,
      "outputs": [
        {
          "output_type": "stream",
          "name": "stdout",
          "text": [
            "Get:1 https://developer.download.nvidia.com/compute/cuda/repos/ubuntu1804/x86_64  InRelease [1,581 B]\n",
            "Get:2 https://cloud.r-project.org/bin/linux/ubuntu bionic-cran40/ InRelease [3,626 B]\n",
            "Get:3 http://security.ubuntu.com/ubuntu bionic-security InRelease [88.7 kB]\n",
            "Get:4 http://ppa.launchpad.net/c2d4u.team/c2d4u4.0+/ubuntu bionic InRelease [15.9 kB]\n",
            "Ign:5 https://developer.download.nvidia.com/compute/machine-learning/repos/ubuntu1804/x86_64  InRelease\n",
            "Get:6 https://developer.download.nvidia.com/compute/cuda/repos/ubuntu1804/x86_64  Packages [806 kB]\n",
            "Hit:7 https://developer.download.nvidia.com/compute/machine-learning/repos/ubuntu1804/x86_64  Release\n",
            "Hit:8 http://archive.ubuntu.com/ubuntu bionic InRelease\n",
            "Get:10 http://archive.ubuntu.com/ubuntu bionic-updates InRelease [88.7 kB]\n",
            "Hit:11 http://ppa.launchpad.net/cran/libgit2/ubuntu bionic InRelease\n",
            "Get:12 http://archive.ubuntu.com/ubuntu bionic-backports InRelease [74.6 kB]\n",
            "Get:13 http://security.ubuntu.com/ubuntu bionic-security/restricted amd64 Packages [957 kB]\n",
            "Get:14 http://ppa.launchpad.net/deadsnakes/ppa/ubuntu bionic InRelease [15.9 kB]\n",
            "Get:15 http://archive.ubuntu.com/ubuntu bionic-updates/main amd64 Packages [3,258 kB]\n",
            "Get:16 http://ppa.launchpad.net/graphics-drivers/ppa/ubuntu bionic InRelease [21.3 kB]\n",
            "Get:17 http://security.ubuntu.com/ubuntu bionic-security/main amd64 Packages [2,799 kB]\n",
            "Get:18 http://security.ubuntu.com/ubuntu bionic-security/universe amd64 Packages [1,512 kB]\n",
            "Get:19 http://ppa.launchpad.net/c2d4u.team/c2d4u4.0+/ubuntu bionic/main Sources [1,992 kB]\n",
            "Get:20 http://archive.ubuntu.com/ubuntu bionic-updates/restricted amd64 Packages [1,014 kB]\n",
            "Get:21 http://archive.ubuntu.com/ubuntu bionic-updates/universe amd64 Packages [2,289 kB]\n",
            "Get:22 http://ppa.launchpad.net/c2d4u.team/c2d4u4.0+/ubuntu bionic/main amd64 Packages [1,021 kB]\n",
            "Get:23 http://ppa.launchpad.net/deadsnakes/ppa/ubuntu bionic/main amd64 Packages [45.3 kB]\n",
            "Get:24 http://ppa.launchpad.net/graphics-drivers/ppa/ubuntu bionic/main amd64 Packages [47.7 kB]\n",
            "Fetched 16.1 MB in 8s (2,001 kB/s)\n",
            "Reading package lists...\n",
            "Reading package lists...\n",
            "Building dependency tree...\n",
            "Reading state information...\n",
            "python-dev is already the newest version (2.7.15~rc1-1).\n",
            "g++ is already the newest version (4:7.4.0-1ubuntu2.3).\n",
            "g++ set to manually installed.\n",
            "python3-dev is already the newest version (3.6.7-1~18.04).\n",
            "python3-dev set to manually installed.\n",
            "The following package was automatically installed and is no longer required:\n",
            "  libnvidia-common-460\n",
            "Use 'apt autoremove' to remove it.\n",
            "The following additional packages will be installed:\n",
            "  fonts-dejavu-core fonts-dejavu-extra libatk-wrapper-java\n",
            "  libatk-wrapper-java-jni libgail-common libgail18 libgtk2.0-0 libgtk2.0-bin\n",
            "  libgtk2.0-common libxxf86dga1 openjdk-8-jdk-headless openjdk-8-jre\n",
            "  openjdk-8-jre-headless x11-utils\n",
            "Suggested packages:\n",
            "  gvfs openjdk-8-demo openjdk-8-source visualvm icedtea-8-plugin libnss-mdns\n",
            "  fonts-ipafont-gothic fonts-ipafont-mincho fonts-wqy-microhei\n",
            "  fonts-wqy-zenhei fonts-indic mesa-utils\n",
            "The following NEW packages will be installed:\n",
            "  fonts-dejavu-core fonts-dejavu-extra libatk-wrapper-java\n",
            "  libatk-wrapper-java-jni libgail-common libgail18 libgtk2.0-0 libgtk2.0-bin\n",
            "  libgtk2.0-common libxxf86dga1 openjdk-8-jdk openjdk-8-jdk-headless\n",
            "  openjdk-8-jre openjdk-8-jre-headless x11-utils\n",
            "0 upgraded, 15 newly installed, 0 to remove and 70 not upgraded.\n",
            "Need to get 43.5 MB of archives.\n",
            "After this operation, 163 MB of additional disk space will be used.\n",
            "Get:1 http://archive.ubuntu.com/ubuntu bionic/main amd64 libxxf86dga1 amd64 2:1.1.4-1 [13.7 kB]\n",
            "Get:2 http://archive.ubuntu.com/ubuntu bionic/main amd64 fonts-dejavu-core all 2.37-1 [1,041 kB]\n",
            "Get:3 http://archive.ubuntu.com/ubuntu bionic/main amd64 fonts-dejavu-extra all 2.37-1 [1,953 kB]\n",
            "Get:4 http://archive.ubuntu.com/ubuntu bionic/main amd64 x11-utils amd64 7.7+3build1 [196 kB]\n",
            "Get:5 http://archive.ubuntu.com/ubuntu bionic/main amd64 libatk-wrapper-java all 0.33.3-20ubuntu0.1 [34.7 kB]\n",
            "Get:6 http://archive.ubuntu.com/ubuntu bionic/main amd64 libatk-wrapper-java-jni amd64 0.33.3-20ubuntu0.1 [28.3 kB]\n",
            "Get:7 http://archive.ubuntu.com/ubuntu bionic/main amd64 libgtk2.0-common all 2.24.32-1ubuntu1 [125 kB]\n",
            "Get:8 http://archive.ubuntu.com/ubuntu bionic/main amd64 libgtk2.0-0 amd64 2.24.32-1ubuntu1 [1,769 kB]\n",
            "Get:9 http://archive.ubuntu.com/ubuntu bionic/main amd64 libgail18 amd64 2.24.32-1ubuntu1 [14.2 kB]\n",
            "Get:10 http://archive.ubuntu.com/ubuntu bionic/main amd64 libgail-common amd64 2.24.32-1ubuntu1 [112 kB]\n",
            "Get:11 http://archive.ubuntu.com/ubuntu bionic/main amd64 libgtk2.0-bin amd64 2.24.32-1ubuntu1 [7,536 B]\n",
            "Get:12 http://archive.ubuntu.com/ubuntu bionic-updates/universe amd64 openjdk-8-jre-headless amd64 8u312-b07-0ubuntu1~18.04 [28.2 MB]\n",
            "Get:13 http://archive.ubuntu.com/ubuntu bionic-updates/universe amd64 openjdk-8-jre amd64 8u312-b07-0ubuntu1~18.04 [69.6 kB]\n",
            "Get:14 http://archive.ubuntu.com/ubuntu bionic-updates/universe amd64 openjdk-8-jdk-headless amd64 8u312-b07-0ubuntu1~18.04 [8,298 kB]\n",
            "Get:15 http://archive.ubuntu.com/ubuntu bionic-updates/universe amd64 openjdk-8-jdk amd64 8u312-b07-0ubuntu1~18.04 [1,625 kB]\n",
            "Fetched 43.5 MB in 4s (10.2 MB/s)\n",
            "Selecting previously unselected package libxxf86dga1:amd64.\r\n",
            "(Reading database ... \r(Reading database ... 5%\r(Reading database ... 10%\r(Reading database ... 15%\r(Reading database ... 20%\r(Reading database ... 25%\r(Reading database ... 30%\r(Reading database ... 35%\r(Reading database ... 40%\r(Reading database ... 45%\r(Reading database ... 50%\r(Reading database ... 55%\r(Reading database ... 60%\r(Reading database ... 65%\r(Reading database ... 70%\r(Reading database ... 75%\r(Reading database ... 80%\r(Reading database ... 85%\r(Reading database ... 90%\r(Reading database ... 95%\r(Reading database ... 100%\r(Reading database ... 155632 files and directories currently installed.)\r\n",
            "Preparing to unpack .../00-libxxf86dga1_2%3a1.1.4-1_amd64.deb ...\r\n",
            "Unpacking libxxf86dga1:amd64 (2:1.1.4-1) ...\r\n",
            "Selecting previously unselected package fonts-dejavu-core.\r\n",
            "Preparing to unpack .../01-fonts-dejavu-core_2.37-1_all.deb ...\r\n",
            "Unpacking fonts-dejavu-core (2.37-1) ...\r\n",
            "Selecting previously unselected package fonts-dejavu-extra.\r\n",
            "Preparing to unpack .../02-fonts-dejavu-extra_2.37-1_all.deb ...\r\n",
            "Unpacking fonts-dejavu-extra (2.37-1) ...\r\n",
            "Selecting previously unselected package x11-utils.\r\n",
            "Preparing to unpack .../03-x11-utils_7.7+3build1_amd64.deb ...\r\n",
            "Unpacking x11-utils (7.7+3build1) ...\r\n",
            "Selecting previously unselected package libatk-wrapper-java.\r\n",
            "Preparing to unpack .../04-libatk-wrapper-java_0.33.3-20ubuntu0.1_all.deb ...\r\n",
            "Unpacking libatk-wrapper-java (0.33.3-20ubuntu0.1) ...\r\n",
            "Selecting previously unselected package libatk-wrapper-java-jni:amd64.\r\n",
            "Preparing to unpack .../05-libatk-wrapper-java-jni_0.33.3-20ubuntu0.1_amd64.deb ...\r\n",
            "Unpacking libatk-wrapper-java-jni:amd64 (0.33.3-20ubuntu0.1) ...\r\n",
            "Selecting previously unselected package libgtk2.0-common.\r\n",
            "Preparing to unpack .../06-libgtk2.0-common_2.24.32-1ubuntu1_all.deb ...\r\n",
            "Unpacking libgtk2.0-common (2.24.32-1ubuntu1) ...\r\n",
            "Selecting previously unselected package libgtk2.0-0:amd64.\r\n",
            "Preparing to unpack .../07-libgtk2.0-0_2.24.32-1ubuntu1_amd64.deb ...\r\n",
            "Unpacking libgtk2.0-0:amd64 (2.24.32-1ubuntu1) ...\r\n",
            "Selecting previously unselected package libgail18:amd64.\r\n",
            "Preparing to unpack .../08-libgail18_2.24.32-1ubuntu1_amd64.deb ...\r\n",
            "Unpacking libgail18:amd64 (2.24.32-1ubuntu1) ...\r\n",
            "Selecting previously unselected package libgail-common:amd64.\r\n",
            "Preparing to unpack .../09-libgail-common_2.24.32-1ubuntu1_amd64.deb ...\r\n",
            "Unpacking libgail-common:amd64 (2.24.32-1ubuntu1) ...\r\n",
            "Selecting previously unselected package libgtk2.0-bin.\r\n",
            "Preparing to unpack .../10-libgtk2.0-bin_2.24.32-1ubuntu1_amd64.deb ...\r\n",
            "Unpacking libgtk2.0-bin (2.24.32-1ubuntu1) ...\r\n",
            "Selecting previously unselected package openjdk-8-jre-headless:amd64.\r\n",
            "Preparing to unpack .../11-openjdk-8-jre-headless_8u312-b07-0ubuntu1~18.04_amd64.deb ...\r\n",
            "Unpacking openjdk-8-jre-headless:amd64 (8u312-b07-0ubuntu1~18.04) ...\r\n",
            "Selecting previously unselected package openjdk-8-jre:amd64.\r\n",
            "Preparing to unpack .../12-openjdk-8-jre_8u312-b07-0ubuntu1~18.04_amd64.deb ...\r\n",
            "Unpacking openjdk-8-jre:amd64 (8u312-b07-0ubuntu1~18.04) ...\r\n",
            "Selecting previously unselected package openjdk-8-jdk-headless:amd64.\r\n",
            "Preparing to unpack .../13-openjdk-8-jdk-headless_8u312-b07-0ubuntu1~18.04_amd64.deb ...\r\n",
            "Unpacking openjdk-8-jdk-headless:amd64 (8u312-b07-0ubuntu1~18.04) ...\r\n",
            "Selecting previously unselected package openjdk-8-jdk:amd64.\r\n",
            "Preparing to unpack .../14-openjdk-8-jdk_8u312-b07-0ubuntu1~18.04_amd64.deb ...\r\n",
            "Unpacking openjdk-8-jdk:amd64 (8u312-b07-0ubuntu1~18.04) ...\r\n",
            "Setting up libgtk2.0-common (2.24.32-1ubuntu1) ...\r\n",
            "Setting up fonts-dejavu-core (2.37-1) ...\r\n",
            "Setting up libxxf86dga1:amd64 (2:1.1.4-1) ...\r\n",
            "Setting up fonts-dejavu-extra (2.37-1) ...\r\n",
            "Setting up openjdk-8-jre-headless:amd64 (8u312-b07-0ubuntu1~18.04) ...\r\n",
            "update-alternatives: using /usr/lib/jvm/java-8-openjdk-amd64/jre/bin/orbd to provide /usr/bin/orbd (orbd) in auto mode\r\n",
            "update-alternatives: using /usr/lib/jvm/java-8-openjdk-amd64/jre/bin/servertool to provide /usr/bin/servertool (servertool) in auto mode\r\n",
            "update-alternatives: using /usr/lib/jvm/java-8-openjdk-amd64/jre/bin/tnameserv to provide /usr/bin/tnameserv (tnameserv) in auto mode\r\n",
            "Setting up libgtk2.0-0:amd64 (2.24.32-1ubuntu1) ...\r\n",
            "Setting up libgail18:amd64 (2.24.32-1ubuntu1) ...\r\n",
            "Setting up openjdk-8-jdk-headless:amd64 (8u312-b07-0ubuntu1~18.04) ...\r\n",
            "update-alternatives: using /usr/lib/jvm/java-8-openjdk-amd64/bin/idlj to provide /usr/bin/idlj (idlj) in auto mode\r\n",
            "update-alternatives: using /usr/lib/jvm/java-8-openjdk-amd64/bin/wsimport to provide /usr/bin/wsimport (wsimport) in auto mode\r\n",
            "update-alternatives: using /usr/lib/jvm/java-8-openjdk-amd64/bin/jsadebugd to provide /usr/bin/jsadebugd (jsadebugd) in auto mode\r\n",
            "update-alternatives: using /usr/lib/jvm/java-8-openjdk-amd64/bin/native2ascii to provide /usr/bin/native2ascii (native2ascii) in auto mode\r\n",
            "update-alternatives: using /usr/lib/jvm/java-8-openjdk-amd64/bin/javah to provide /usr/bin/javah (javah) in auto mode\r\n",
            "update-alternatives: using /usr/lib/jvm/java-8-openjdk-amd64/bin/hsdb to provide /usr/bin/hsdb (hsdb) in auto mode\r\n",
            "update-alternatives: using /usr/lib/jvm/java-8-openjdk-amd64/bin/clhsdb to provide /usr/bin/clhsdb (clhsdb) in auto mode\r\n",
            "update-alternatives: using /usr/lib/jvm/java-8-openjdk-amd64/bin/xjc to provide /usr/bin/xjc (xjc) in auto mode\r\n",
            "update-alternatives: using /usr/lib/jvm/java-8-openjdk-amd64/bin/schemagen to provide /usr/bin/schemagen (schemagen) in auto mode\r\n",
            "update-alternatives: using /usr/lib/jvm/java-8-openjdk-amd64/bin/extcheck to provide /usr/bin/extcheck (extcheck) in auto mode\r\n",
            "update-alternatives: using /usr/lib/jvm/java-8-openjdk-amd64/bin/jhat to provide /usr/bin/jhat (jhat) in auto mode\r\n",
            "update-alternatives: using /usr/lib/jvm/java-8-openjdk-amd64/bin/wsgen to provide /usr/bin/wsgen (wsgen) in auto mode\r\n",
            "Setting up x11-utils (7.7+3build1) ...\r\n",
            "Setting up libgail-common:amd64 (2.24.32-1ubuntu1) ...\r\n",
            "Setting up libatk-wrapper-java (0.33.3-20ubuntu0.1) ...\r\n",
            "Setting up libgtk2.0-bin (2.24.32-1ubuntu1) ...\r\n",
            "Setting up libatk-wrapper-java-jni:amd64 (0.33.3-20ubuntu0.1) ...\r\n",
            "Setting up openjdk-8-jre:amd64 (8u312-b07-0ubuntu1~18.04) ...\r\n",
            "update-alternatives: using /usr/lib/jvm/java-8-openjdk-amd64/jre/bin/policytool to provide /usr/bin/policytool (policytool) in auto mode\r\n",
            "Setting up openjdk-8-jdk:amd64 (8u312-b07-0ubuntu1~18.04) ...\r\n",
            "update-alternatives: using /usr/lib/jvm/java-8-openjdk-amd64/bin/appletviewer to provide /usr/bin/appletviewer (appletviewer) in auto mode\r\n",
            "update-alternatives: using /usr/lib/jvm/java-8-openjdk-amd64/bin/jconsole to provide /usr/bin/jconsole (jconsole) in auto mode\r\n",
            "Processing triggers for man-db (2.8.3-2ubuntu0.1) ...\r\n",
            "Processing triggers for hicolor-icon-theme (0.17-2) ...\r\n",
            "Processing triggers for fontconfig (2.12.6-0ubuntu2) ...\r\n",
            "Processing triggers for mime-support (3.60ubuntu1) ...\r\n",
            "Processing triggers for libc-bin (2.27-3ubuntu1.3) ...\r\n",
            "/sbin/ldconfig.real: /usr/local/lib/python3.7/dist-packages/ideep4py/lib/libmkldnn.so.0 is not a symbolic link\r\n",
            "\r\n",
            "Looking in indexes: https://pypi.org/simple, https://us-python.pkg.dev/colab-wheels/public/simple/\n",
            "Collecting JPype1\n",
            "  Downloading JPype1-1.4.0-cp37-cp37m-manylinux_2_5_x86_64.manylinux1_x86_64.whl (453 kB)\n",
            "Requirement already satisfied: typing-extensions in /usr/local/lib/python3.7/dist-packages (from JPype1) (4.2.0)\n",
            "Installing collected packages: JPype1\n",
            "Successfully installed JPype1-1.4.0\n",
            "Looking in indexes: https://pypi.org/simple, https://us-python.pkg.dev/colab-wheels/public/simple/\n",
            "Collecting konlpy\n",
            "  Downloading konlpy-0.6.0-py2.py3-none-any.whl (19.4 MB)\n",
            "Requirement already satisfied: JPype1>=0.7.0 in /usr/local/lib/python3.7/dist-packages (from konlpy) (1.4.0)\n",
            "Requirement already satisfied: lxml>=4.1.0 in /usr/local/lib/python3.7/dist-packages (from konlpy) (4.2.6)\n",
            "Requirement already satisfied: numpy>=1.6 in /usr/local/lib/python3.7/dist-packages (from konlpy) (1.21.6)\n",
            "Requirement already satisfied: typing-extensions in /usr/local/lib/python3.7/dist-packages (from JPype1>=0.7.0->konlpy) (4.2.0)\n",
            "Installing collected packages: konlpy\n",
            "Successfully installed konlpy-0.6.0\n"
          ]
        }
      ]
    },
    {
      "cell_type": "code",
      "source": [
        "%env JAVA_HOME \"/usr/lib/jvm/java-8-openjdk-amd64\""
      ],
      "metadata": {
        "colab": {
          "base_uri": "https://localhost:8080/"
        },
        "id": "JuiSouGBVtfQ",
        "outputId": "2ef164ec-076a-484c-862b-1faf96f46405"
      },
      "execution_count": null,
      "outputs": [
        {
          "output_type": "stream",
          "name": "stdout",
          "text": [
            "env: JAVA_HOME=\"/usr/lib/jvm/java-8-openjdk-amd64\"\n"
          ]
        }
      ]
    },
    {
      "cell_type": "code",
      "source": [
        "!curl -s https://raw.githubusercontent.com/teddylee777/machine-learning/master/99-Misc/01-Colab/mecab-colab.sh | bash\n"
      ],
      "metadata": {
        "colab": {
          "base_uri": "https://localhost:8080/"
        },
        "id": "YB57XLd7Vy2N",
        "outputId": "e4a78aac-10be-4d63-8132-6d08716c179e"
      },
      "execution_count": null,
      "outputs": [
        {
          "output_type": "stream",
          "name": "stdout",
          "text": [
            "--2022-06-07 23:43:23--  https://www.dropbox.com/s/9xls0tgtf3edgns/mecab-0.996-ko-0.9.2.tar.gz?dl=1\n",
            "Resolving www.dropbox.com (www.dropbox.com)... 162.125.85.18, 2620:100:6017:18::a27d:212\n",
            "Connecting to www.dropbox.com (www.dropbox.com)|162.125.85.18|:443... connected.\n",
            "HTTP request sent, awaiting response... 301 Moved Permanently\n",
            "Location: /s/dl/9xls0tgtf3edgns/mecab-0.996-ko-0.9.2.tar.gz [following]\n",
            "--2022-06-07 23:43:23--  https://www.dropbox.com/s/dl/9xls0tgtf3edgns/mecab-0.996-ko-0.9.2.tar.gz\n",
            "Reusing existing connection to www.dropbox.com:443.\n",
            "HTTP request sent, awaiting response... 302 Found\n",
            "Location: https://uc5bb00f0091e35d1eb53c679e13.dl.dropboxusercontent.com/cd/0/get/Bmw86e3ioZE5r3MLV3n_DGxqb3ji_ZqW67A25q4790WQp4rtuv-x8UNcJuIj3PuuSl-u3joW9fB2aTJd4zo4tmdcUStSddLsWFF4NCla5vCh2PvJtuLBJYyK1gLiIvUGOjXtOPwKp03IRaEnmijSKFIY09BmeZgMZjFOghDQqOH8iD_2snmvxJ5PWRFIHfbnspM/file?dl=1# [following]\n",
            "--2022-06-07 23:43:24--  https://uc5bb00f0091e35d1eb53c679e13.dl.dropboxusercontent.com/cd/0/get/Bmw86e3ioZE5r3MLV3n_DGxqb3ji_ZqW67A25q4790WQp4rtuv-x8UNcJuIj3PuuSl-u3joW9fB2aTJd4zo4tmdcUStSddLsWFF4NCla5vCh2PvJtuLBJYyK1gLiIvUGOjXtOPwKp03IRaEnmijSKFIY09BmeZgMZjFOghDQqOH8iD_2snmvxJ5PWRFIHfbnspM/file?dl=1\n",
            "Resolving uc5bb00f0091e35d1eb53c679e13.dl.dropboxusercontent.com (uc5bb00f0091e35d1eb53c679e13.dl.dropboxusercontent.com)... 162.125.85.15, 2620:100:6017:15::a27d:20f\n",
            "Connecting to uc5bb00f0091e35d1eb53c679e13.dl.dropboxusercontent.com (uc5bb00f0091e35d1eb53c679e13.dl.dropboxusercontent.com)|162.125.85.15|:443... connected.\n",
            "HTTP request sent, awaiting response... 200 OK\n",
            "Length: 1414979 (1.3M) [application/binary]\n",
            "Saving to: ‘mecab-0.996-ko-0.9.2.tar.gz?dl=1’\n",
            "\n",
            "mecab-0.996-ko-0.9. 100%[===================>]   1.35M  3.12MB/s    in 0.4s    \n",
            "\n",
            "2022-06-07 23:43:25 (3.12 MB/s) - ‘mecab-0.996-ko-0.9.2.tar.gz?dl=1’ saved [1414979/1414979]\n",
            "\n",
            "mecab-0.996-ko-0.9.2/\n",
            "mecab-0.996-ko-0.9.2/example/\n",
            "mecab-0.996-ko-0.9.2/example/example.cpp\n",
            "mecab-0.996-ko-0.9.2/example/example_lattice.cpp\n",
            "mecab-0.996-ko-0.9.2/example/example_lattice.c\n",
            "mecab-0.996-ko-0.9.2/example/example.c\n",
            "mecab-0.996-ko-0.9.2/example/thread_test.cpp\n",
            "mecab-0.996-ko-0.9.2/mecab-config.in\n",
            "mecab-0.996-ko-0.9.2/man/\n",
            "mecab-0.996-ko-0.9.2/man/Makefile.am\n",
            "mecab-0.996-ko-0.9.2/man/mecab.1\n",
            "mecab-0.996-ko-0.9.2/man/Makefile.in\n",
            "mecab-0.996-ko-0.9.2/mecab.iss.in\n",
            "mecab-0.996-ko-0.9.2/config.guess\n",
            "mecab-0.996-ko-0.9.2/README\n",
            "mecab-0.996-ko-0.9.2/COPYING\n",
            "mecab-0.996-ko-0.9.2/CHANGES.md\n",
            "mecab-0.996-ko-0.9.2/README.md\n",
            "mecab-0.996-ko-0.9.2/INSTALL\n",
            "mecab-0.996-ko-0.9.2/config.sub\n",
            "mecab-0.996-ko-0.9.2/configure.in\n",
            "mecab-0.996-ko-0.9.2/swig/\n",
            "mecab-0.996-ko-0.9.2/swig/Makefile\n",
            "mecab-0.996-ko-0.9.2/swig/version.h.in\n",
            "mecab-0.996-ko-0.9.2/swig/version.h\n",
            "mecab-0.996-ko-0.9.2/swig/MeCab.i\n",
            "mecab-0.996-ko-0.9.2/aclocal.m4\n",
            "mecab-0.996-ko-0.9.2/LGPL\n",
            "mecab-0.996-ko-0.9.2/Makefile.am\n",
            "mecab-0.996-ko-0.9.2/configure\n",
            "mecab-0.996-ko-0.9.2/tests/\n",
            "mecab-0.996-ko-0.9.2/tests/autolink/\n",
            "mecab-0.996-ko-0.9.2/tests/autolink/unk.def\n",
            "mecab-0.996-ko-0.9.2/tests/autolink/dicrc\n",
            "mecab-0.996-ko-0.9.2/tests/autolink/dic.csv\n",
            "mecab-0.996-ko-0.9.2/tests/autolink/test\n",
            "mecab-0.996-ko-0.9.2/tests/autolink/char.def\n",
            "mecab-0.996-ko-0.9.2/tests/autolink/matrix.def\n",
            "mecab-0.996-ko-0.9.2/tests/autolink/test.gld\n",
            "mecab-0.996-ko-0.9.2/tests/t9/\n",
            "mecab-0.996-ko-0.9.2/tests/t9/unk.def\n",
            "mecab-0.996-ko-0.9.2/tests/t9/ipadic.pl\n",
            "mecab-0.996-ko-0.9.2/tests/t9/dicrc\n",
            "mecab-0.996-ko-0.9.2/tests/t9/dic.csv\n",
            "mecab-0.996-ko-0.9.2/tests/t9/test\n",
            "mecab-0.996-ko-0.9.2/tests/t9/char.def\n",
            "mecab-0.996-ko-0.9.2/tests/t9/matrix.def\n",
            "mecab-0.996-ko-0.9.2/tests/t9/mkdic.pl\n",
            "mecab-0.996-ko-0.9.2/tests/t9/test.gld\n",
            "mecab-0.996-ko-0.9.2/tests/cost-train/\n",
            "mecab-0.996-ko-0.9.2/tests/cost-train/ipa.train\n",
            "mecab-0.996-ko-0.9.2/tests/cost-train/ipa.test\n",
            "mecab-0.996-ko-0.9.2/tests/cost-train/seed/\n",
            "mecab-0.996-ko-0.9.2/tests/cost-train/seed/rewrite.def\n",
            "mecab-0.996-ko-0.9.2/tests/cost-train/seed/feature.def\n",
            "mecab-0.996-ko-0.9.2/tests/cost-train/seed/unk.def\n",
            "mecab-0.996-ko-0.9.2/tests/cost-train/seed/dicrc\n",
            "mecab-0.996-ko-0.9.2/tests/cost-train/seed/dic.csv\n",
            "mecab-0.996-ko-0.9.2/tests/cost-train/seed/char.def\n",
            "mecab-0.996-ko-0.9.2/tests/cost-train/seed/matrix.def\n",
            "mecab-0.996-ko-0.9.2/tests/run-eval.sh\n",
            "mecab-0.996-ko-0.9.2/tests/run-cost-train.sh\n",
            "mecab-0.996-ko-0.9.2/tests/Makefile.am\n",
            "mecab-0.996-ko-0.9.2/tests/katakana/\n",
            "mecab-0.996-ko-0.9.2/tests/katakana/unk.def\n",
            "mecab-0.996-ko-0.9.2/tests/katakana/dicrc\n",
            "mecab-0.996-ko-0.9.2/tests/katakana/dic.csv\n",
            "mecab-0.996-ko-0.9.2/tests/katakana/test\n",
            "mecab-0.996-ko-0.9.2/tests/katakana/char.def\n",
            "mecab-0.996-ko-0.9.2/tests/katakana/matrix.def\n",
            "mecab-0.996-ko-0.9.2/tests/katakana/test.gld\n",
            "mecab-0.996-ko-0.9.2/tests/eval/\n",
            "mecab-0.996-ko-0.9.2/tests/eval/answer\n",
            "mecab-0.996-ko-0.9.2/tests/eval/system\n",
            "mecab-0.996-ko-0.9.2/tests/eval/test.gld\n",
            "mecab-0.996-ko-0.9.2/tests/shiin/\n",
            "mecab-0.996-ko-0.9.2/tests/shiin/unk.def\n",
            "mecab-0.996-ko-0.9.2/tests/shiin/dicrc\n",
            "mecab-0.996-ko-0.9.2/tests/shiin/dic.csv\n",
            "mecab-0.996-ko-0.9.2/tests/shiin/test\n",
            "mecab-0.996-ko-0.9.2/tests/shiin/char.def\n",
            "mecab-0.996-ko-0.9.2/tests/shiin/matrix.def\n",
            "mecab-0.996-ko-0.9.2/tests/shiin/mkdic.pl\n",
            "mecab-0.996-ko-0.9.2/tests/shiin/test.gld\n",
            "mecab-0.996-ko-0.9.2/tests/latin/\n",
            "mecab-0.996-ko-0.9.2/tests/latin/unk.def\n",
            "mecab-0.996-ko-0.9.2/tests/latin/dicrc\n",
            "mecab-0.996-ko-0.9.2/tests/latin/dic.csv\n",
            "mecab-0.996-ko-0.9.2/tests/latin/test\n",
            "mecab-0.996-ko-0.9.2/tests/latin/char.def\n",
            "mecab-0.996-ko-0.9.2/tests/latin/matrix.def\n",
            "mecab-0.996-ko-0.9.2/tests/latin/test.gld\n",
            "mecab-0.996-ko-0.9.2/tests/chartype/\n",
            "mecab-0.996-ko-0.9.2/tests/chartype/unk.def\n",
            "mecab-0.996-ko-0.9.2/tests/chartype/dicrc\n",
            "mecab-0.996-ko-0.9.2/tests/chartype/dic.csv\n",
            "mecab-0.996-ko-0.9.2/tests/chartype/test\n",
            "mecab-0.996-ko-0.9.2/tests/chartype/char.def\n",
            "mecab-0.996-ko-0.9.2/tests/chartype/matrix.def\n",
            "mecab-0.996-ko-0.9.2/tests/chartype/test.gld\n",
            "mecab-0.996-ko-0.9.2/tests/run-dics.sh\n",
            "mecab-0.996-ko-0.9.2/tests/ngram/\n",
            "mecab-0.996-ko-0.9.2/tests/ngram/unk.def\n",
            "mecab-0.996-ko-0.9.2/tests/ngram/dicrc\n",
            "mecab-0.996-ko-0.9.2/tests/ngram/dic.csv\n",
            "mecab-0.996-ko-0.9.2/tests/ngram/test\n",
            "mecab-0.996-ko-0.9.2/tests/ngram/char.def\n",
            "mecab-0.996-ko-0.9.2/tests/ngram/matrix.def\n",
            "mecab-0.996-ko-0.9.2/tests/ngram/test.gld\n",
            "mecab-0.996-ko-0.9.2/tests/Makefile.in\n",
            "mecab-0.996-ko-0.9.2/ltmain.sh\n",
            "mecab-0.996-ko-0.9.2/config.rpath\n",
            "mecab-0.996-ko-0.9.2/config.h.in\n",
            "mecab-0.996-ko-0.9.2/mecabrc.in\n",
            "mecab-0.996-ko-0.9.2/GPL\n",
            "mecab-0.996-ko-0.9.2/Makefile.train\n",
            "mecab-0.996-ko-0.9.2/ChangeLog\n",
            "mecab-0.996-ko-0.9.2/install-sh\n",
            "mecab-0.996-ko-0.9.2/AUTHORS\n",
            "mecab-0.996-ko-0.9.2/doc/\n",
            "mecab-0.996-ko-0.9.2/doc/bindings.html\n",
            "mecab-0.996-ko-0.9.2/doc/posid.html\n",
            "mecab-0.996-ko-0.9.2/doc/unk.html\n",
            "mecab-0.996-ko-0.9.2/doc/learn.html\n",
            "mecab-0.996-ko-0.9.2/doc/format.html\n",
            "mecab-0.996-ko-0.9.2/doc/libmecab.html\n",
            "mecab-0.996-ko-0.9.2/doc/mecab.css\n",
            "mecab-0.996-ko-0.9.2/doc/feature.html\n",
            "mecab-0.996-ko-0.9.2/doc/Makefile.am\n",
            "mecab-0.996-ko-0.9.2/doc/soft.html\n",
            "mecab-0.996-ko-0.9.2/doc/en/\n",
            "mecab-0.996-ko-0.9.2/doc/en/bindings.html\n",
            "mecab-0.996-ko-0.9.2/doc/dic-detail.html\n",
            "mecab-0.996-ko-0.9.2/doc/flow.png\n",
            "mecab-0.996-ko-0.9.2/doc/mecab.html\n",
            "mecab-0.996-ko-0.9.2/doc/index.html\n",
            "mecab-0.996-ko-0.9.2/doc/result.png\n",
            "mecab-0.996-ko-0.9.2/doc/doxygen/\n",
            "mecab-0.996-ko-0.9.2/doc/doxygen/tab_a.png\n",
            "mecab-0.996-ko-0.9.2/doc/doxygen/globals_eval.html\n",
            "mecab-0.996-ko-0.9.2/doc/doxygen/classMeCab_1_1Tagger-members.html\n",
            "mecab-0.996-ko-0.9.2/doc/doxygen/functions_vars.html\n",
            "mecab-0.996-ko-0.9.2/doc/doxygen/doxygen.css\n",
            "mecab-0.996-ko-0.9.2/doc/doxygen/tab_r.gif\n",
            "mecab-0.996-ko-0.9.2/doc/doxygen/classMeCab_1_1Lattice.html\n",
            "mecab-0.996-ko-0.9.2/doc/doxygen/functions.html\n",
            "mecab-0.996-ko-0.9.2/doc/doxygen/classMeCab_1_1Tagger.html\n",
            "mecab-0.996-ko-0.9.2/doc/doxygen/mecab_8h_source.html\n",
            "mecab-0.996-ko-0.9.2/doc/doxygen/tabs.css\n",
            "mecab-0.996-ko-0.9.2/doc/doxygen/nav_f.png\n",
            "mecab-0.996-ko-0.9.2/doc/doxygen/tab_b.png\n",
            "mecab-0.996-ko-0.9.2/doc/doxygen/globals.html\n",
            "mecab-0.996-ko-0.9.2/doc/doxygen/nav_h.png\n",
            "mecab-0.996-ko-0.9.2/doc/doxygen/tab_h.png\n",
            "mecab-0.996-ko-0.9.2/doc/doxygen/classMeCab_1_1Model.html\n",
            "mecab-0.996-ko-0.9.2/doc/doxygen/globals_func.html\n",
            "mecab-0.996-ko-0.9.2/doc/doxygen/closed.png\n",
            "mecab-0.996-ko-0.9.2/doc/doxygen/tab_l.gif\n",
            "mecab-0.996-ko-0.9.2/doc/doxygen/structmecab__path__t-members.html\n",
            "mecab-0.996-ko-0.9.2/doc/doxygen/functions_func.html\n",
            "mecab-0.996-ko-0.9.2/doc/doxygen/globals_type.html\n",
            "mecab-0.996-ko-0.9.2/doc/doxygen/classMeCab_1_1Lattice-members.html\n",
            "mecab-0.996-ko-0.9.2/doc/doxygen/structmecab__node__t.html\n",
            "mecab-0.996-ko-0.9.2/doc/doxygen/namespacemembers_func.html\n",
            "mecab-0.996-ko-0.9.2/doc/doxygen/tab_s.png\n",
            "mecab-0.996-ko-0.9.2/doc/doxygen/structmecab__dictionary__info__t-members.html\n",
            "mecab-0.996-ko-0.9.2/doc/doxygen/namespacemembers_type.html\n",
            "mecab-0.996-ko-0.9.2/doc/doxygen/classMeCab_1_1Model-members.html\n",
            "mecab-0.996-ko-0.9.2/doc/doxygen/structmecab__dictionary__info__t.html\n",
            "mecab-0.996-ko-0.9.2/doc/doxygen/namespaces.html\n",
            "mecab-0.996-ko-0.9.2/doc/doxygen/namespacemembers.html\n",
            "mecab-0.996-ko-0.9.2/doc/doxygen/namespaceMeCab.html\n",
            "mecab-0.996-ko-0.9.2/doc/doxygen/structmecab__path__t.html\n",
            "mecab-0.996-ko-0.9.2/doc/doxygen/files.html\n",
            "mecab-0.996-ko-0.9.2/doc/doxygen/structmecab__node__t-members.html\n",
            "mecab-0.996-ko-0.9.2/doc/doxygen/index.html\n",
            "mecab-0.996-ko-0.9.2/doc/doxygen/annotated.html\n",
            "mecab-0.996-ko-0.9.2/doc/doxygen/globals_defs.html\n",
            "mecab-0.996-ko-0.9.2/doc/doxygen/classes.html\n",
            "mecab-0.996-ko-0.9.2/doc/doxygen/mecab_8h-source.html\n",
            "mecab-0.996-ko-0.9.2/doc/doxygen/doxygen.png\n",
            "mecab-0.996-ko-0.9.2/doc/doxygen/tab_b.gif\n",
            "mecab-0.996-ko-0.9.2/doc/doxygen/bc_s.png\n",
            "mecab-0.996-ko-0.9.2/doc/doxygen/open.png\n",
            "mecab-0.996-ko-0.9.2/doc/doxygen/mecab_8h.html\n",
            "mecab-0.996-ko-0.9.2/doc/dic.html\n",
            "mecab-0.996-ko-0.9.2/doc/partial.html\n",
            "mecab-0.996-ko-0.9.2/doc/feature.png\n",
            "mecab-0.996-ko-0.9.2/doc/Makefile.in\n",
            "mecab-0.996-ko-0.9.2/missing\n",
            "mecab-0.996-ko-0.9.2/BSD\n",
            "mecab-0.996-ko-0.9.2/NEWS\n",
            "mecab-0.996-ko-0.9.2/mkinstalldirs\n",
            "mecab-0.996-ko-0.9.2/src/\n",
            "mecab-0.996-ko-0.9.2/src/dictionary.h\n",
            "mecab-0.996-ko-0.9.2/src/writer.h\n",
            "mecab-0.996-ko-0.9.2/src/utils.h\n",
            "mecab-0.996-ko-0.9.2/src/string_buffer.cpp\n",
            "mecab-0.996-ko-0.9.2/src/tokenizer.cpp\n",
            "mecab-0.996-ko-0.9.2/src/make.bat\n",
            "mecab-0.996-ko-0.9.2/src/mecab.h\n",
            "mecab-0.996-ko-0.9.2/src/freelist.h\n",
            "mecab-0.996-ko-0.9.2/src/string_buffer.h\n",
            "mecab-0.996-ko-0.9.2/src/learner_tagger.h\n",
            "mecab-0.996-ko-0.9.2/src/dictionary_compiler.cpp\n",
            "mecab-0.996-ko-0.9.2/src/eval.cpp\n",
            "mecab-0.996-ko-0.9.2/src/mecab-system-eval.cpp\n",
            "mecab-0.996-ko-0.9.2/src/darts.h\n",
            "mecab-0.996-ko-0.9.2/src/param.h\n",
            "mecab-0.996-ko-0.9.2/src/char_property.h\n",
            "mecab-0.996-ko-0.9.2/src/learner_node.h\n",
            "mecab-0.996-ko-0.9.2/src/mecab-dict-gen.cpp\n",
            "mecab-0.996-ko-0.9.2/src/mecab-dict-index.cpp\n",
            "mecab-0.996-ko-0.9.2/src/winmain.h\n",
            "mecab-0.996-ko-0.9.2/src/thread.h\n",
            "mecab-0.996-ko-0.9.2/src/context_id.cpp\n",
            "mecab-0.996-ko-0.9.2/src/Makefile.am\n",
            "mecab-0.996-ko-0.9.2/src/connector.h\n",
            "mecab-0.996-ko-0.9.2/src/common.h\n",
            "mecab-0.996-ko-0.9.2/src/dictionary_rewriter.cpp\n",
            "mecab-0.996-ko-0.9.2/src/Makefile.msvc.in\n",
            "mecab-0.996-ko-0.9.2/src/dictionary_rewriter.h\n",
            "mecab-0.996-ko-0.9.2/src/feature_index.h\n",
            "mecab-0.996-ko-0.9.2/src/iconv_utils.cpp\n",
            "mecab-0.996-ko-0.9.2/src/char_property.cpp\n",
            "mecab-0.996-ko-0.9.2/src/mecab-test-gen.cpp\n",
            "mecab-0.996-ko-0.9.2/src/tagger.cpp\n",
            "mecab-0.996-ko-0.9.2/src/mecab-cost-train.cpp\n",
            "mecab-0.996-ko-0.9.2/src/learner.cpp\n",
            "mecab-0.996-ko-0.9.2/src/dictionary.cpp\n",
            "mecab-0.996-ko-0.9.2/src/lbfgs.cpp\n",
            "mecab-0.996-ko-0.9.2/src/ucs.h\n",
            "mecab-0.996-ko-0.9.2/src/writer.cpp\n",
            "mecab-0.996-ko-0.9.2/src/learner_tagger.cpp\n",
            "mecab-0.996-ko-0.9.2/src/lbfgs.h\n",
            "mecab-0.996-ko-0.9.2/src/libmecab.cpp\n",
            "mecab-0.996-ko-0.9.2/src/tokenizer.h\n",
            "mecab-0.996-ko-0.9.2/src/mecab.cpp\n",
            "mecab-0.996-ko-0.9.2/src/utils.cpp\n",
            "mecab-0.996-ko-0.9.2/src/dictionary_generator.cpp\n",
            "mecab-0.996-ko-0.9.2/src/param.cpp\n",
            "mecab-0.996-ko-0.9.2/src/context_id.h\n",
            "mecab-0.996-ko-0.9.2/src/mmap.h\n",
            "mecab-0.996-ko-0.9.2/src/viterbi.h\n",
            "mecab-0.996-ko-0.9.2/src/viterbi.cpp\n",
            "mecab-0.996-ko-0.9.2/src/stream_wrapper.h\n",
            "mecab-0.996-ko-0.9.2/src/feature_index.cpp\n",
            "mecab-0.996-ko-0.9.2/src/nbest_generator.h\n",
            "mecab-0.996-ko-0.9.2/src/ucstable.h\n",
            "mecab-0.996-ko-0.9.2/src/nbest_generator.cpp\n",
            "mecab-0.996-ko-0.9.2/src/iconv_utils.h\n",
            "mecab-0.996-ko-0.9.2/src/connector.cpp\n",
            "mecab-0.996-ko-0.9.2/src/Makefile.in\n",
            "mecab-0.996-ko-0.9.2/src/scoped_ptr.h\n",
            "mecab-0.996-ko-0.9.2/Makefile.in\n",
            "checking for a BSD-compatible install... /usr/bin/install -c\n",
            "checking whether build environment is sane... yes\n",
            "checking for a thread-safe mkdir -p... /bin/mkdir -p\n",
            "checking for gawk... no\n",
            "checking for mawk... mawk\n",
            "checking whether make sets $(MAKE)... yes\n",
            "checking for gcc... gcc\n",
            "checking whether the C compiler works... yes\n",
            "checking for C compiler default output file name... a.out\n",
            "checking for suffix of executables... \n",
            "checking whether we are cross compiling... no\n",
            "checking for suffix of object files... o\n",
            "checking whether we are using the GNU C compiler... yes\n",
            "checking whether gcc accepts -g... yes\n",
            "checking for gcc option to accept ISO C89... none needed\n",
            "checking for style of include used by make... GNU\n",
            "checking dependency style of gcc... none\n",
            "checking for g++... g++\n",
            "checking whether we are using the GNU C++ compiler... yes\n",
            "checking whether g++ accepts -g... yes\n",
            "checking dependency style of g++... none\n",
            "checking how to run the C preprocessor... gcc -E\n",
            "checking for grep that handles long lines and -e... /bin/grep\n",
            "checking for egrep... /bin/grep -E\n",
            "checking whether gcc needs -traditional... no\n",
            "checking whether make sets $(MAKE)... (cached) yes\n",
            "checking build system type... x86_64-unknown-linux-gnu\n",
            "checking host system type... x86_64-unknown-linux-gnu\n",
            "checking how to print strings... printf\n",
            "checking for a sed that does not truncate output... /bin/sed\n",
            "checking for fgrep... /bin/grep -F\n",
            "checking for ld used by gcc... /usr/bin/ld\n",
            "checking if the linker (/usr/bin/ld) is GNU ld... yes\n",
            "checking for BSD- or MS-compatible name lister (nm)... /usr/bin/nm -B\n",
            "checking the name lister (/usr/bin/nm -B) interface... BSD nm\n",
            "checking whether ln -s works... yes\n",
            "checking the maximum length of command line arguments... 1572864\n",
            "checking whether the shell understands some XSI constructs... yes\n",
            "checking whether the shell understands \"+=\"... yes\n",
            "checking how to convert x86_64-unknown-linux-gnu file names to x86_64-unknown-linux-gnu format... func_convert_file_noop\n",
            "checking how to convert x86_64-unknown-linux-gnu file names to toolchain format... func_convert_file_noop\n",
            "checking for /usr/bin/ld option to reload object files... -r\n",
            "checking for objdump... objdump\n",
            "checking how to recognize dependent libraries... pass_all\n",
            "checking for dlltool... dlltool\n",
            "checking how to associate runtime and link libraries... printf %s\\n\n",
            "checking for ar... ar\n",
            "checking for archiver @FILE support... @\n",
            "checking for strip... strip\n",
            "checking for ranlib... ranlib\n",
            "checking command to parse /usr/bin/nm -B output from gcc object... ok\n",
            "checking for sysroot... no\n",
            "./configure: line 7378: /usr/bin/file: No such file or directory\n",
            "checking for mt... no\n",
            "checking if : is a manifest tool... no\n",
            "checking for ANSI C header files... yes\n",
            "checking for sys/types.h... yes\n",
            "checking for sys/stat.h... yes\n",
            "checking for stdlib.h... yes\n",
            "checking for string.h... yes\n",
            "checking for memory.h... yes\n",
            "checking for strings.h... yes\n",
            "checking for inttypes.h... yes\n",
            "checking for stdint.h... yes\n",
            "checking for unistd.h... yes\n",
            "checking for dlfcn.h... yes\n",
            "checking for objdir... .libs\n",
            "checking if gcc supports -fno-rtti -fno-exceptions... no\n",
            "checking for gcc option to produce PIC... -fPIC -DPIC\n",
            "checking if gcc PIC flag -fPIC -DPIC works... yes\n",
            "checking if gcc static flag -static works... yes\n",
            "checking if gcc supports -c -o file.o... yes\n",
            "checking if gcc supports -c -o file.o... (cached) yes\n",
            "checking whether the gcc linker (/usr/bin/ld) supports shared libraries... yes\n",
            "checking whether -lc should be explicitly linked in... no\n",
            "checking dynamic linker characteristics... GNU/Linux ld.so\n",
            "checking how to hardcode library paths into programs... immediate\n",
            "checking whether stripping libraries is possible... yes\n",
            "checking if libtool supports shared libraries... yes\n",
            "checking whether to build shared libraries... yes\n",
            "checking whether to build static libraries... yes\n",
            "checking how to run the C++ preprocessor... g++ -E\n",
            "checking for ld used by g++... /usr/bin/ld\n",
            "checking if the linker (/usr/bin/ld) is GNU ld... yes\n",
            "checking whether the g++ linker (/usr/bin/ld) supports shared libraries... yes\n",
            "checking for g++ option to produce PIC... -fPIC -DPIC\n",
            "checking if g++ PIC flag -fPIC -DPIC works... yes\n",
            "checking if g++ static flag -static works... yes\n",
            "checking if g++ supports -c -o file.o... yes\n",
            "checking if g++ supports -c -o file.o... (cached) yes\n",
            "checking whether the g++ linker (/usr/bin/ld) supports shared libraries... yes\n",
            "checking dynamic linker characteristics... (cached) GNU/Linux ld.so\n",
            "checking how to hardcode library paths into programs... immediate\n",
            "checking for library containing strerror... none required\n",
            "checking whether byte ordering is bigendian... no\n",
            "checking for ld used by GCC... /usr/bin/ld\n",
            "checking if the linker (/usr/bin/ld) is GNU ld... yes\n",
            "checking for shared library run path origin... done\n",
            "checking for iconv... yes\n",
            "checking for working iconv... yes\n",
            "checking for iconv declaration... \n",
            "         extern size_t iconv (iconv_t cd, char * *inbuf, size_t *inbytesleft, char * *outbuf, size_t *outbytesleft);\n",
            "checking for ANSI C header files... (cached) yes\n",
            "checking for an ANSI C-conforming const... yes\n",
            "checking whether byte ordering is bigendian... (cached) no\n",
            "checking for string.h... (cached) yes\n",
            "checking for stdlib.h... (cached) yes\n",
            "checking for unistd.h... (cached) yes\n",
            "checking fcntl.h usability... yes\n",
            "checking fcntl.h presence... yes\n",
            "checking for fcntl.h... yes\n",
            "checking for stdint.h... (cached) yes\n",
            "checking for sys/stat.h... (cached) yes\n",
            "checking sys/mman.h usability... yes\n",
            "checking sys/mman.h presence... yes\n",
            "checking for sys/mman.h... yes\n",
            "checking sys/times.h usability... yes\n",
            "checking sys/times.h presence... yes\n",
            "checking for sys/times.h... yes\n",
            "checking for sys/types.h... (cached) yes\n",
            "checking dirent.h usability... yes\n",
            "checking dirent.h presence... yes\n",
            "checking for dirent.h... yes\n",
            "checking ctype.h usability... yes\n",
            "checking ctype.h presence... yes\n",
            "checking for ctype.h... yes\n",
            "checking for sys/types.h... (cached) yes\n",
            "checking io.h usability... no\n",
            "checking io.h presence... no\n",
            "checking for io.h... no\n",
            "checking windows.h usability... no\n",
            "checking windows.h presence... no\n",
            "checking for windows.h... no\n",
            "checking pthread.h usability... yes\n",
            "checking pthread.h presence... yes\n",
            "checking for pthread.h... yes\n",
            "checking for off_t... yes\n",
            "checking for size_t... yes\n",
            "checking size of char... 1\n",
            "checking size of short... 2\n",
            "checking size of int... 4\n",
            "checking size of long... 8\n",
            "checking size of long long... 8\n",
            "checking size of size_t... 8\n",
            "checking for size_t... (cached) yes\n",
            "checking for unsigned long long int... yes\n",
            "checking for stdlib.h... (cached) yes\n",
            "checking for unistd.h... (cached) yes\n",
            "checking for sys/param.h... yes\n",
            "checking for getpagesize... yes\n",
            "checking for working mmap... yes\n",
            "checking for main in -lstdc++... yes\n",
            "checking for pthread_create in -lpthread... yes\n",
            "checking for pthread_join in -lpthread... yes\n",
            "checking for getenv... yes\n",
            "checking for opendir... yes\n",
            "checking whether make is GNU Make... yes\n",
            "checking if g++ supports stl <vector> (required)... yes\n",
            "checking if g++ supports stl <list> (required)... yes\n",
            "checking if g++ supports stl <map> (required)... yes\n",
            "checking if g++ supports stl <set> (required)... yes\n",
            "checking if g++ supports stl <queue> (required)... yes\n",
            "checking if g++ supports stl <functional> (required)... yes\n",
            "checking if g++ supports stl <algorithm> (required)... yes\n",
            "checking if g++ supports stl <string> (required)... yes\n",
            "checking if g++ supports stl <iostream> (required)... yes\n",
            "checking if g++ supports stl <sstream> (required)... yes\n",
            "checking if g++ supports stl <fstream> (required)... yes\n",
            "checking if g++ supports template <class T> (required)... yes\n",
            "checking if g++ supports const_cast<> (required)... yes\n",
            "checking if g++ supports static_cast<> (required)... yes\n",
            "checking if g++ supports reinterpret_cast<> (required)... yes\n",
            "checking if g++ supports namespaces (required) ... yes\n",
            "checking if g++ supports __thread (optional)... yes\n",
            "checking if g++ supports template <class T> (required)... yes\n",
            "checking if g++ supports GCC native atomic operations (optional)... yes\n",
            "checking if g++ supports OSX native atomic operations (optional)... no\n",
            "checking if g++ environment provides all required features... yes\n",
            "configure: creating ./config.status\n",
            "config.status: creating Makefile\n",
            "config.status: creating src/Makefile\n",
            "config.status: creating src/Makefile.msvc\n",
            "config.status: creating man/Makefile\n",
            "config.status: creating doc/Makefile\n",
            "config.status: creating tests/Makefile\n",
            "config.status: creating swig/version.h\n",
            "config.status: creating mecab.iss\n",
            "config.status: creating mecab-config\n",
            "config.status: creating mecabrc\n",
            "config.status: creating config.h\n",
            "config.status: executing depfiles commands\n",
            "config.status: executing libtool commands\n",
            "config.status: executing default commands\n",
            "make  all-recursive\n",
            "make[1]: Entering directory '/tmp/mecab-0.996-ko-0.9.2'\n",
            "Making all in src\n",
            "make[2]: Entering directory '/tmp/mecab-0.996-ko-0.9.2/src'\n",
            "/bin/bash ../libtool --tag=CXX   --mode=compile g++ -DHAVE_CONFIG_H -I. -I.. -DDIC_VERSION=102   -DMECAB_DEFAULT_RC=\"\\\"/usr/local/etc/mecabrc\\\"\"    -O3 -Wall  -c -o viterbi.lo viterbi.cpp\n",
            "libtool: compile:  g++ -DHAVE_CONFIG_H -I. -I.. -DDIC_VERSION=102 -DMECAB_DEFAULT_RC=\\\"/usr/local/etc/mecabrc\\\" -O3 -Wall -c viterbi.cpp  -fPIC -DPIC -o .libs/viterbi.o\n",
            "In file included from \u001b[01m\u001b[Kviterbi.cpp:14:0\u001b[m\u001b[K:\n",
            "\u001b[01m\u001b[Kparam.h:30:13:\u001b[m\u001b[K \u001b[01;35m\u001b[Kwarning: \u001b[m\u001b[K'\u001b[01m\u001b[KTarget {anonymous}::lexical_cast(Source) [with Target = std::__cxx11::basic_string<char>; Source = std::__cxx11::basic_string<char>]\u001b[m\u001b[K' defined but not used [\u001b[01;35m\u001b[K-Wunused-function\u001b[m\u001b[K]\n",
            " std::string \u001b[01;35m\u001b[Klexical_cast<std::string, std::string>\u001b[m\u001b[K(std::string arg) {\n",
            "             \u001b[01;35m\u001b[K^~~~~~~~~~~~~~~~~~~~~~~~~~~~~~~~~~~~~~\u001b[m\u001b[K\n",
            "libtool: compile:  g++ -DHAVE_CONFIG_H -I. -I.. -DDIC_VERSION=102 -DMECAB_DEFAULT_RC=\\\"/usr/local/etc/mecabrc\\\" -O3 -Wall -c viterbi.cpp -o viterbi.o >/dev/null 2>&1\n",
            "/bin/bash ../libtool --tag=CXX   --mode=compile g++ -DHAVE_CONFIG_H -I. -I.. -DDIC_VERSION=102   -DMECAB_DEFAULT_RC=\"\\\"/usr/local/etc/mecabrc\\\"\"    -O3 -Wall  -c -o tagger.lo tagger.cpp\n",
            "libtool: compile:  g++ -DHAVE_CONFIG_H -I. -I.. -DDIC_VERSION=102 -DMECAB_DEFAULT_RC=\\\"/usr/local/etc/mecabrc\\\" -O3 -Wall -c tagger.cpp  -fPIC -DPIC -o .libs/tagger.o\n",
            "libtool: compile:  g++ -DHAVE_CONFIG_H -I. -I.. -DDIC_VERSION=102 -DMECAB_DEFAULT_RC=\\\"/usr/local/etc/mecabrc\\\" -O3 -Wall -c tagger.cpp -o tagger.o >/dev/null 2>&1\n",
            "/bin/bash ../libtool --tag=CXX   --mode=compile g++ -DHAVE_CONFIG_H -I. -I.. -DDIC_VERSION=102   -DMECAB_DEFAULT_RC=\"\\\"/usr/local/etc/mecabrc\\\"\"    -O3 -Wall  -c -o utils.lo utils.cpp\n",
            "libtool: compile:  g++ -DHAVE_CONFIG_H -I. -I.. -DDIC_VERSION=102 -DMECAB_DEFAULT_RC=\\\"/usr/local/etc/mecabrc\\\" -O3 -Wall -c utils.cpp  -fPIC -DPIC -o .libs/utils.o\n",
            "libtool: compile:  g++ -DHAVE_CONFIG_H -I. -I.. -DDIC_VERSION=102 -DMECAB_DEFAULT_RC=\\\"/usr/local/etc/mecabrc\\\" -O3 -Wall -c utils.cpp -o utils.o >/dev/null 2>&1\n",
            "/bin/bash ../libtool --tag=CXX   --mode=compile g++ -DHAVE_CONFIG_H -I. -I.. -DDIC_VERSION=102   -DMECAB_DEFAULT_RC=\"\\\"/usr/local/etc/mecabrc\\\"\"    -O3 -Wall  -c -o eval.lo eval.cpp\n",
            "libtool: compile:  g++ -DHAVE_CONFIG_H -I. -I.. -DDIC_VERSION=102 -DMECAB_DEFAULT_RC=\\\"/usr/local/etc/mecabrc\\\" -O3 -Wall -c eval.cpp  -fPIC -DPIC -o .libs/eval.o\n",
            "libtool: compile:  g++ -DHAVE_CONFIG_H -I. -I.. -DDIC_VERSION=102 -DMECAB_DEFAULT_RC=\\\"/usr/local/etc/mecabrc\\\" -O3 -Wall -c eval.cpp -o eval.o >/dev/null 2>&1\n",
            "/bin/bash ../libtool --tag=CXX   --mode=compile g++ -DHAVE_CONFIG_H -I. -I.. -DDIC_VERSION=102   -DMECAB_DEFAULT_RC=\"\\\"/usr/local/etc/mecabrc\\\"\"    -O3 -Wall  -c -o iconv_utils.lo iconv_utils.cpp\n",
            "libtool: compile:  g++ -DHAVE_CONFIG_H -I. -I.. -DDIC_VERSION=102 -DMECAB_DEFAULT_RC=\\\"/usr/local/etc/mecabrc\\\" -O3 -Wall -c iconv_utils.cpp  -fPIC -DPIC -o .libs/iconv_utils.o\n",
            "libtool: compile:  g++ -DHAVE_CONFIG_H -I. -I.. -DDIC_VERSION=102 -DMECAB_DEFAULT_RC=\\\"/usr/local/etc/mecabrc\\\" -O3 -Wall -c iconv_utils.cpp -o iconv_utils.o >/dev/null 2>&1\n",
            "/bin/bash ../libtool --tag=CXX   --mode=compile g++ -DHAVE_CONFIG_H -I. -I.. -DDIC_VERSION=102   -DMECAB_DEFAULT_RC=\"\\\"/usr/local/etc/mecabrc\\\"\"    -O3 -Wall  -c -o dictionary_rewriter.lo dictionary_rewriter.cpp\n",
            "libtool: compile:  g++ -DHAVE_CONFIG_H -I. -I.. -DDIC_VERSION=102 -DMECAB_DEFAULT_RC=\\\"/usr/local/etc/mecabrc\\\" -O3 -Wall -c dictionary_rewriter.cpp  -fPIC -DPIC -o .libs/dictionary_rewriter.o\n",
            "libtool: compile:  g++ -DHAVE_CONFIG_H -I. -I.. -DDIC_VERSION=102 -DMECAB_DEFAULT_RC=\\\"/usr/local/etc/mecabrc\\\" -O3 -Wall -c dictionary_rewriter.cpp -o dictionary_rewriter.o >/dev/null 2>&1\n",
            "/bin/bash ../libtool --tag=CXX   --mode=compile g++ -DHAVE_CONFIG_H -I. -I.. -DDIC_VERSION=102   -DMECAB_DEFAULT_RC=\"\\\"/usr/local/etc/mecabrc\\\"\"    -O3 -Wall  -c -o dictionary_generator.lo dictionary_generator.cpp\n",
            "libtool: compile:  g++ -DHAVE_CONFIG_H -I. -I.. -DDIC_VERSION=102 -DMECAB_DEFAULT_RC=\\\"/usr/local/etc/mecabrc\\\" -O3 -Wall -c dictionary_generator.cpp  -fPIC -DPIC -o .libs/dictionary_generator.o\n",
            "libtool: compile:  g++ -DHAVE_CONFIG_H -I. -I.. -DDIC_VERSION=102 -DMECAB_DEFAULT_RC=\\\"/usr/local/etc/mecabrc\\\" -O3 -Wall -c dictionary_generator.cpp -o dictionary_generator.o >/dev/null 2>&1\n",
            "/bin/bash ../libtool --tag=CXX   --mode=compile g++ -DHAVE_CONFIG_H -I. -I.. -DDIC_VERSION=102   -DMECAB_DEFAULT_RC=\"\\\"/usr/local/etc/mecabrc\\\"\"    -O3 -Wall  -c -o dictionary_compiler.lo dictionary_compiler.cpp\n",
            "libtool: compile:  g++ -DHAVE_CONFIG_H -I. -I.. -DDIC_VERSION=102 -DMECAB_DEFAULT_RC=\\\"/usr/local/etc/mecabrc\\\" -O3 -Wall -c dictionary_compiler.cpp  -fPIC -DPIC -o .libs/dictionary_compiler.o\n",
            "libtool: compile:  g++ -DHAVE_CONFIG_H -I. -I.. -DDIC_VERSION=102 -DMECAB_DEFAULT_RC=\\\"/usr/local/etc/mecabrc\\\" -O3 -Wall -c dictionary_compiler.cpp -o dictionary_compiler.o >/dev/null 2>&1\n",
            "/bin/bash ../libtool --tag=CXX   --mode=compile g++ -DHAVE_CONFIG_H -I. -I.. -DDIC_VERSION=102   -DMECAB_DEFAULT_RC=\"\\\"/usr/local/etc/mecabrc\\\"\"    -O3 -Wall  -c -o context_id.lo context_id.cpp\n",
            "libtool: compile:  g++ -DHAVE_CONFIG_H -I. -I.. -DDIC_VERSION=102 -DMECAB_DEFAULT_RC=\\\"/usr/local/etc/mecabrc\\\" -O3 -Wall -c context_id.cpp  -fPIC -DPIC -o .libs/context_id.o\n",
            "libtool: compile:  g++ -DHAVE_CONFIG_H -I. -I.. -DDIC_VERSION=102 -DMECAB_DEFAULT_RC=\\\"/usr/local/etc/mecabrc\\\" -O3 -Wall -c context_id.cpp -o context_id.o >/dev/null 2>&1\n",
            "/bin/bash ../libtool --tag=CXX   --mode=compile g++ -DHAVE_CONFIG_H -I. -I.. -DDIC_VERSION=102   -DMECAB_DEFAULT_RC=\"\\\"/usr/local/etc/mecabrc\\\"\"    -O3 -Wall  -c -o connector.lo connector.cpp\n",
            "libtool: compile:  g++ -DHAVE_CONFIG_H -I. -I.. -DDIC_VERSION=102 -DMECAB_DEFAULT_RC=\\\"/usr/local/etc/mecabrc\\\" -O3 -Wall -c connector.cpp  -fPIC -DPIC -o .libs/connector.o\n",
            "libtool: compile:  g++ -DHAVE_CONFIG_H -I. -I.. -DDIC_VERSION=102 -DMECAB_DEFAULT_RC=\\\"/usr/local/etc/mecabrc\\\" -O3 -Wall -c connector.cpp -o connector.o >/dev/null 2>&1\n",
            "/bin/bash ../libtool --tag=CXX   --mode=compile g++ -DHAVE_CONFIG_H -I. -I.. -DDIC_VERSION=102   -DMECAB_DEFAULT_RC=\"\\\"/usr/local/etc/mecabrc\\\"\"    -O3 -Wall  -c -o nbest_generator.lo nbest_generator.cpp\n",
            "libtool: compile:  g++ -DHAVE_CONFIG_H -I. -I.. -DDIC_VERSION=102 -DMECAB_DEFAULT_RC=\\\"/usr/local/etc/mecabrc\\\" -O3 -Wall -c nbest_generator.cpp  -fPIC -DPIC -o .libs/nbest_generator.o\n",
            "libtool: compile:  g++ -DHAVE_CONFIG_H -I. -I.. -DDIC_VERSION=102 -DMECAB_DEFAULT_RC=\\\"/usr/local/etc/mecabrc\\\" -O3 -Wall -c nbest_generator.cpp -o nbest_generator.o >/dev/null 2>&1\n",
            "/bin/bash ../libtool --tag=CXX   --mode=compile g++ -DHAVE_CONFIG_H -I. -I.. -DDIC_VERSION=102   -DMECAB_DEFAULT_RC=\"\\\"/usr/local/etc/mecabrc\\\"\"    -O3 -Wall  -c -o writer.lo writer.cpp\n",
            "libtool: compile:  g++ -DHAVE_CONFIG_H -I. -I.. -DDIC_VERSION=102 -DMECAB_DEFAULT_RC=\\\"/usr/local/etc/mecabrc\\\" -O3 -Wall -c writer.cpp  -fPIC -DPIC -o .libs/writer.o\n",
            "libtool: compile:  g++ -DHAVE_CONFIG_H -I. -I.. -DDIC_VERSION=102 -DMECAB_DEFAULT_RC=\\\"/usr/local/etc/mecabrc\\\" -O3 -Wall -c writer.cpp -o writer.o >/dev/null 2>&1\n",
            "/bin/bash ../libtool --tag=CXX   --mode=compile g++ -DHAVE_CONFIG_H -I. -I.. -DDIC_VERSION=102   -DMECAB_DEFAULT_RC=\"\\\"/usr/local/etc/mecabrc\\\"\"    -O3 -Wall  -c -o string_buffer.lo string_buffer.cpp\n",
            "libtool: compile:  g++ -DHAVE_CONFIG_H -I. -I.. -DDIC_VERSION=102 -DMECAB_DEFAULT_RC=\\\"/usr/local/etc/mecabrc\\\" -O3 -Wall -c string_buffer.cpp  -fPIC -DPIC -o .libs/string_buffer.o\n",
            "libtool: compile:  g++ -DHAVE_CONFIG_H -I. -I.. -DDIC_VERSION=102 -DMECAB_DEFAULT_RC=\\\"/usr/local/etc/mecabrc\\\" -O3 -Wall -c string_buffer.cpp -o string_buffer.o >/dev/null 2>&1\n",
            "/bin/bash ../libtool --tag=CXX   --mode=compile g++ -DHAVE_CONFIG_H -I. -I.. -DDIC_VERSION=102   -DMECAB_DEFAULT_RC=\"\\\"/usr/local/etc/mecabrc\\\"\"    -O3 -Wall  -c -o param.lo param.cpp\n",
            "libtool: compile:  g++ -DHAVE_CONFIG_H -I. -I.. -DDIC_VERSION=102 -DMECAB_DEFAULT_RC=\\\"/usr/local/etc/mecabrc\\\" -O3 -Wall -c param.cpp  -fPIC -DPIC -o .libs/param.o\n",
            "libtool: compile:  g++ -DHAVE_CONFIG_H -I. -I.. -DDIC_VERSION=102 -DMECAB_DEFAULT_RC=\\\"/usr/local/etc/mecabrc\\\" -O3 -Wall -c param.cpp -o param.o >/dev/null 2>&1\n",
            "/bin/bash ../libtool --tag=CXX   --mode=compile g++ -DHAVE_CONFIG_H -I. -I.. -DDIC_VERSION=102   -DMECAB_DEFAULT_RC=\"\\\"/usr/local/etc/mecabrc\\\"\"    -O3 -Wall  -c -o tokenizer.lo tokenizer.cpp\n",
            "libtool: compile:  g++ -DHAVE_CONFIG_H -I. -I.. -DDIC_VERSION=102 -DMECAB_DEFAULT_RC=\\\"/usr/local/etc/mecabrc\\\" -O3 -Wall -c tokenizer.cpp  -fPIC -DPIC -o .libs/tokenizer.o\n",
            "libtool: compile:  g++ -DHAVE_CONFIG_H -I. -I.. -DDIC_VERSION=102 -DMECAB_DEFAULT_RC=\\\"/usr/local/etc/mecabrc\\\" -O3 -Wall -c tokenizer.cpp -o tokenizer.o >/dev/null 2>&1\n",
            "/bin/bash ../libtool --tag=CXX   --mode=compile g++ -DHAVE_CONFIG_H -I. -I.. -DDIC_VERSION=102   -DMECAB_DEFAULT_RC=\"\\\"/usr/local/etc/mecabrc\\\"\"    -O3 -Wall  -c -o char_property.lo char_property.cpp\n",
            "libtool: compile:  g++ -DHAVE_CONFIG_H -I. -I.. -DDIC_VERSION=102 -DMECAB_DEFAULT_RC=\\\"/usr/local/etc/mecabrc\\\" -O3 -Wall -c char_property.cpp  -fPIC -DPIC -o .libs/char_property.o\n",
            "libtool: compile:  g++ -DHAVE_CONFIG_H -I. -I.. -DDIC_VERSION=102 -DMECAB_DEFAULT_RC=\\\"/usr/local/etc/mecabrc\\\" -O3 -Wall -c char_property.cpp -o char_property.o >/dev/null 2>&1\n",
            "/bin/bash ../libtool --tag=CXX   --mode=compile g++ -DHAVE_CONFIG_H -I. -I.. -DDIC_VERSION=102   -DMECAB_DEFAULT_RC=\"\\\"/usr/local/etc/mecabrc\\\"\"    -O3 -Wall  -c -o dictionary.lo dictionary.cpp\n",
            "libtool: compile:  g++ -DHAVE_CONFIG_H -I. -I.. -DDIC_VERSION=102 -DMECAB_DEFAULT_RC=\\\"/usr/local/etc/mecabrc\\\" -O3 -Wall -c dictionary.cpp  -fPIC -DPIC -o .libs/dictionary.o\n",
            "libtool: compile:  g++ -DHAVE_CONFIG_H -I. -I.. -DDIC_VERSION=102 -DMECAB_DEFAULT_RC=\\\"/usr/local/etc/mecabrc\\\" -O3 -Wall -c dictionary.cpp -o dictionary.o >/dev/null 2>&1\n",
            "/bin/bash ../libtool --tag=CXX   --mode=compile g++ -DHAVE_CONFIG_H -I. -I.. -DDIC_VERSION=102   -DMECAB_DEFAULT_RC=\"\\\"/usr/local/etc/mecabrc\\\"\"    -O3 -Wall  -c -o feature_index.lo feature_index.cpp\n",
            "libtool: compile:  g++ -DHAVE_CONFIG_H -I. -I.. -DDIC_VERSION=102 -DMECAB_DEFAULT_RC=\\\"/usr/local/etc/mecabrc\\\" -O3 -Wall -c feature_index.cpp  -fPIC -DPIC -o .libs/feature_index.o\n",
            "libtool: compile:  g++ -DHAVE_CONFIG_H -I. -I.. -DDIC_VERSION=102 -DMECAB_DEFAULT_RC=\\\"/usr/local/etc/mecabrc\\\" -O3 -Wall -c feature_index.cpp -o feature_index.o >/dev/null 2>&1\n",
            "/bin/bash ../libtool --tag=CXX   --mode=compile g++ -DHAVE_CONFIG_H -I. -I.. -DDIC_VERSION=102   -DMECAB_DEFAULT_RC=\"\\\"/usr/local/etc/mecabrc\\\"\"    -O3 -Wall  -c -o lbfgs.lo lbfgs.cpp\n",
            "libtool: compile:  g++ -DHAVE_CONFIG_H -I. -I.. -DDIC_VERSION=102 -DMECAB_DEFAULT_RC=\\\"/usr/local/etc/mecabrc\\\" -O3 -Wall -c lbfgs.cpp  -fPIC -DPIC -o .libs/lbfgs.o\n",
            "libtool: compile:  g++ -DHAVE_CONFIG_H -I. -I.. -DDIC_VERSION=102 -DMECAB_DEFAULT_RC=\\\"/usr/local/etc/mecabrc\\\" -O3 -Wall -c lbfgs.cpp -o lbfgs.o >/dev/null 2>&1\n",
            "/bin/bash ../libtool --tag=CXX   --mode=compile g++ -DHAVE_CONFIG_H -I. -I.. -DDIC_VERSION=102   -DMECAB_DEFAULT_RC=\"\\\"/usr/local/etc/mecabrc\\\"\"    -O3 -Wall  -c -o learner_tagger.lo learner_tagger.cpp\n",
            "libtool: compile:  g++ -DHAVE_CONFIG_H -I. -I.. -DDIC_VERSION=102 -DMECAB_DEFAULT_RC=\\\"/usr/local/etc/mecabrc\\\" -O3 -Wall -c learner_tagger.cpp  -fPIC -DPIC -o .libs/learner_tagger.o\n",
            "\u001b[01m\u001b[Klearner_tagger.cpp:25:7:\u001b[m\u001b[K \u001b[01;35m\u001b[Kwarning: \u001b[m\u001b[K'\u001b[01m\u001b[Kchar* MeCab::{anonymous}::mystrdup(const string&)\u001b[m\u001b[K' defined but not used [\u001b[01;35m\u001b[K-Wunused-function\u001b[m\u001b[K]\n",
            " char *\u001b[01;35m\u001b[Kmystrdup\u001b[m\u001b[K(const std::string &str) {\n",
            "       \u001b[01;35m\u001b[K^~~~~~~~\u001b[m\u001b[K\n",
            "libtool: compile:  g++ -DHAVE_CONFIG_H -I. -I.. -DDIC_VERSION=102 -DMECAB_DEFAULT_RC=\\\"/usr/local/etc/mecabrc\\\" -O3 -Wall -c learner_tagger.cpp -o learner_tagger.o >/dev/null 2>&1\n",
            "/bin/bash ../libtool --tag=CXX   --mode=compile g++ -DHAVE_CONFIG_H -I. -I.. -DDIC_VERSION=102   -DMECAB_DEFAULT_RC=\"\\\"/usr/local/etc/mecabrc\\\"\"    -O3 -Wall  -c -o learner.lo learner.cpp\n",
            "libtool: compile:  g++ -DHAVE_CONFIG_H -I. -I.. -DDIC_VERSION=102 -DMECAB_DEFAULT_RC=\\\"/usr/local/etc/mecabrc\\\" -O3 -Wall -c learner.cpp  -fPIC -DPIC -o .libs/learner.o\n",
            "libtool: compile:  g++ -DHAVE_CONFIG_H -I. -I.. -DDIC_VERSION=102 -DMECAB_DEFAULT_RC=\\\"/usr/local/etc/mecabrc\\\" -O3 -Wall -c learner.cpp -o learner.o >/dev/null 2>&1\n",
            "/bin/bash ../libtool --tag=CXX   --mode=compile g++ -DHAVE_CONFIG_H -I. -I.. -DDIC_VERSION=102   -DMECAB_DEFAULT_RC=\"\\\"/usr/local/etc/mecabrc\\\"\"    -O3 -Wall  -c -o libmecab.lo libmecab.cpp\n",
            "libtool: compile:  g++ -DHAVE_CONFIG_H -I. -I.. -DDIC_VERSION=102 -DMECAB_DEFAULT_RC=\\\"/usr/local/etc/mecabrc\\\" -O3 -Wall -c libmecab.cpp  -fPIC -DPIC -o .libs/libmecab.o\n",
            "libtool: compile:  g++ -DHAVE_CONFIG_H -I. -I.. -DDIC_VERSION=102 -DMECAB_DEFAULT_RC=\\\"/usr/local/etc/mecabrc\\\" -O3 -Wall -c libmecab.cpp -o libmecab.o >/dev/null 2>&1\n",
            "/bin/bash ../libtool --tag=CXX   --mode=link g++  -O3 -Wall  -no-undefined -version-info 2:0:0  -o libmecab.la -rpath /usr/local/lib viterbi.lo tagger.lo utils.lo eval.lo iconv_utils.lo dictionary_rewriter.lo dictionary_generator.lo dictionary_compiler.lo context_id.lo connector.lo nbest_generator.lo writer.lo string_buffer.lo param.lo tokenizer.lo char_property.lo dictionary.lo feature_index.lo lbfgs.lo learner_tagger.lo learner.lo libmecab.lo  -lpthread -lpthread  -lstdc++ \n",
            "libtool: link: g++  -fPIC -DPIC -shared -nostdlib /usr/lib/gcc/x86_64-linux-gnu/7/../../../x86_64-linux-gnu/crti.o /usr/lib/gcc/x86_64-linux-gnu/7/crtbeginS.o  .libs/viterbi.o .libs/tagger.o .libs/utils.o .libs/eval.o .libs/iconv_utils.o .libs/dictionary_rewriter.o .libs/dictionary_generator.o .libs/dictionary_compiler.o .libs/context_id.o .libs/connector.o .libs/nbest_generator.o .libs/writer.o .libs/string_buffer.o .libs/param.o .libs/tokenizer.o .libs/char_property.o .libs/dictionary.o .libs/feature_index.o .libs/lbfgs.o .libs/learner_tagger.o .libs/learner.o .libs/libmecab.o   -lpthread -L/usr/lib/gcc/x86_64-linux-gnu/7 -L/usr/lib/gcc/x86_64-linux-gnu/7/../../../x86_64-linux-gnu -L/usr/lib/gcc/x86_64-linux-gnu/7/../../../../lib -L/lib/x86_64-linux-gnu -L/lib/../lib -L/usr/lib/x86_64-linux-gnu -L/usr/lib/../lib -L/usr/local/cuda/lib64/stubs -L/usr/lib/gcc/x86_64-linux-gnu/7/../../.. -lstdc++ -lm -lc -lgcc_s /usr/lib/gcc/x86_64-linux-gnu/7/crtendS.o /usr/lib/gcc/x86_64-linux-gnu/7/../../../x86_64-linux-gnu/crtn.o  -O3   -Wl,-soname -Wl,libmecab.so.2 -o .libs/libmecab.so.2.0.0\n",
            "libtool: link: (cd \".libs\" && rm -f \"libmecab.so.2\" && ln -s \"libmecab.so.2.0.0\" \"libmecab.so.2\")\n",
            "libtool: link: (cd \".libs\" && rm -f \"libmecab.so\" && ln -s \"libmecab.so.2.0.0\" \"libmecab.so\")\n",
            "libtool: link: ar cru .libs/libmecab.a  viterbi.o tagger.o utils.o eval.o iconv_utils.o dictionary_rewriter.o dictionary_generator.o dictionary_compiler.o context_id.o connector.o nbest_generator.o writer.o string_buffer.o param.o tokenizer.o char_property.o dictionary.o feature_index.o lbfgs.o learner_tagger.o learner.o libmecab.o\n",
            "ar: `u' modifier ignored since `D' is the default (see `U')\n",
            "libtool: link: ranlib .libs/libmecab.a\n",
            "libtool: link: ( cd \".libs\" && rm -f \"libmecab.la\" && ln -s \"../libmecab.la\" \"libmecab.la\" )\n",
            "g++ -DHAVE_CONFIG_H -I. -I.. -DDIC_VERSION=102   -DMECAB_DEFAULT_RC=\"\\\"/usr/local/etc/mecabrc\\\"\"    -O3 -Wall  -c -o mecab.o mecab.cpp\n",
            "/bin/bash ../libtool --tag=CXX   --mode=link g++  -O3 -Wall    -o mecab mecab.o libmecab.la -lpthread -lpthread  -lstdc++ \n",
            "libtool: link: g++ -O3 -Wall -o .libs/mecab mecab.o  ./.libs/libmecab.so -lpthread -lstdc++\n",
            "g++ -DHAVE_CONFIG_H -I. -I.. -DDIC_VERSION=102   -DMECAB_DEFAULT_RC=\"\\\"/usr/local/etc/mecabrc\\\"\"    -O3 -Wall  -c -o mecab-dict-index.o mecab-dict-index.cpp\n",
            "/bin/bash ../libtool --tag=CXX   --mode=link g++  -O3 -Wall    -o mecab-dict-index mecab-dict-index.o libmecab.la -lpthread -lpthread  -lstdc++ \n",
            "libtool: link: g++ -O3 -Wall -o .libs/mecab-dict-index mecab-dict-index.o  ./.libs/libmecab.so -lpthread -lstdc++\n",
            "g++ -DHAVE_CONFIG_H -I. -I.. -DDIC_VERSION=102   -DMECAB_DEFAULT_RC=\"\\\"/usr/local/etc/mecabrc\\\"\"    -O3 -Wall  -c -o mecab-dict-gen.o mecab-dict-gen.cpp\n",
            "/bin/bash ../libtool --tag=CXX   --mode=link g++  -O3 -Wall    -o mecab-dict-gen mecab-dict-gen.o libmecab.la -lpthread -lpthread  -lstdc++ \n",
            "libtool: link: g++ -O3 -Wall -o .libs/mecab-dict-gen mecab-dict-gen.o  ./.libs/libmecab.so -lpthread -lstdc++\n",
            "g++ -DHAVE_CONFIG_H -I. -I.. -DDIC_VERSION=102   -DMECAB_DEFAULT_RC=\"\\\"/usr/local/etc/mecabrc\\\"\"    -O3 -Wall  -c -o mecab-cost-train.o mecab-cost-train.cpp\n",
            "/bin/bash ../libtool --tag=CXX   --mode=link g++  -O3 -Wall    -o mecab-cost-train mecab-cost-train.o libmecab.la -lpthread -lpthread  -lstdc++ \n",
            "libtool: link: g++ -O3 -Wall -o .libs/mecab-cost-train mecab-cost-train.o  ./.libs/libmecab.so -lpthread -lstdc++\n",
            "g++ -DHAVE_CONFIG_H -I. -I.. -DDIC_VERSION=102   -DMECAB_DEFAULT_RC=\"\\\"/usr/local/etc/mecabrc\\\"\"    -O3 -Wall  -c -o mecab-system-eval.o mecab-system-eval.cpp\n",
            "/bin/bash ../libtool --tag=CXX   --mode=link g++  -O3 -Wall    -o mecab-system-eval mecab-system-eval.o libmecab.la -lpthread -lpthread  -lstdc++ \n",
            "libtool: link: g++ -O3 -Wall -o .libs/mecab-system-eval mecab-system-eval.o  ./.libs/libmecab.so -lpthread -lstdc++\n",
            "g++ -DHAVE_CONFIG_H -I. -I.. -DDIC_VERSION=102   -DMECAB_DEFAULT_RC=\"\\\"/usr/local/etc/mecabrc\\\"\"    -O3 -Wall  -c -o mecab-test-gen.o mecab-test-gen.cpp\n",
            "/bin/bash ../libtool --tag=CXX   --mode=link g++  -O3 -Wall    -o mecab-test-gen mecab-test-gen.o libmecab.la -lpthread -lpthread  -lstdc++ \n",
            "libtool: link: g++ -O3 -Wall -o .libs/mecab-test-gen mecab-test-gen.o  ./.libs/libmecab.so -lpthread -lstdc++\n",
            "make[2]: Leaving directory '/tmp/mecab-0.996-ko-0.9.2/src'\n",
            "Making all in man\n",
            "make[2]: Entering directory '/tmp/mecab-0.996-ko-0.9.2/man'\n",
            "make[2]: Nothing to be done for 'all'.\n",
            "make[2]: Leaving directory '/tmp/mecab-0.996-ko-0.9.2/man'\n",
            "Making all in doc\n",
            "make[2]: Entering directory '/tmp/mecab-0.996-ko-0.9.2/doc'\n",
            "make[2]: Nothing to be done for 'all'.\n",
            "make[2]: Leaving directory '/tmp/mecab-0.996-ko-0.9.2/doc'\n",
            "Making all in tests\n",
            "make[2]: Entering directory '/tmp/mecab-0.996-ko-0.9.2/tests'\n",
            "make[2]: Nothing to be done for 'all'.\n",
            "make[2]: Leaving directory '/tmp/mecab-0.996-ko-0.9.2/tests'\n",
            "make[2]: Entering directory '/tmp/mecab-0.996-ko-0.9.2'\n",
            "make[2]: Leaving directory '/tmp/mecab-0.996-ko-0.9.2'\n",
            "make[1]: Leaving directory '/tmp/mecab-0.996-ko-0.9.2'\n",
            "Making check in src\n",
            "make[1]: Entering directory '/tmp/mecab-0.996-ko-0.9.2/src'\n",
            "make[1]: Nothing to be done for 'check'.\n",
            "make[1]: Leaving directory '/tmp/mecab-0.996-ko-0.9.2/src'\n",
            "Making check in man\n",
            "make[1]: Entering directory '/tmp/mecab-0.996-ko-0.9.2/man'\n",
            "make[1]: Nothing to be done for 'check'.\n",
            "make[1]: Leaving directory '/tmp/mecab-0.996-ko-0.9.2/man'\n",
            "Making check in doc\n",
            "make[1]: Entering directory '/tmp/mecab-0.996-ko-0.9.2/doc'\n",
            "make[1]: Nothing to be done for 'check'.\n",
            "make[1]: Leaving directory '/tmp/mecab-0.996-ko-0.9.2/doc'\n",
            "Making check in tests\n",
            "make[1]: Entering directory '/tmp/mecab-0.996-ko-0.9.2/tests'\n",
            "make  check-TESTS\n",
            "make[2]: Entering directory '/tmp/mecab-0.996-ko-0.9.2/tests'\n",
            "./pos-id.def is not found. minimum setting is used\n",
            "reading ./unk.def ... 2\n",
            "emitting double-array: 100% |###########################################| \n",
            "./model.def is not found. skipped.\n",
            "./pos-id.def is not found. minimum setting is used\n",
            "reading ./dic.csv ... 177\n",
            "emitting double-array: 100% |###########################################| \n",
            "reading ./matrix.def ... 178x178\n",
            "emitting matrix      : 100% |###########################################| \n",
            "\n",
            "done!\n",
            "./pos-id.def is not found. minimum setting is used\n",
            "reading ./unk.def ... 2\n",
            "emitting double-array: 100% |###########################################| \n",
            "./model.def is not found. skipped.\n",
            "./pos-id.def is not found. minimum setting is used\n",
            "reading ./dic.csv ... 83\n",
            "emitting double-array: 100% |###########################################| \n",
            "reading ./matrix.def ... 84x84\n",
            "emitting matrix      : 100% |###########################################| \n",
            "\n",
            "done!\n",
            "./pos-id.def is not found. minimum setting is used\n",
            "reading ./unk.def ... 2\n",
            "emitting double-array: 100% |###########################################| \n",
            "./model.def is not found. skipped.\n",
            "./pos-id.def is not found. minimum setting is used\n",
            "reading ./dic.csv ... 450\n",
            "emitting double-array: 100% |###########################################| \n",
            "reading ./matrix.def ... 1x1\n",
            "\n",
            "done!\n",
            "./pos-id.def is not found. minimum setting is used\n",
            "reading ./unk.def ... 2\n",
            "emitting double-array: 100% |###########################################| \n",
            "./model.def is not found. skipped.\n",
            "./pos-id.def is not found. minimum setting is used\n",
            "reading ./dic.csv ... 162\n",
            "emitting double-array: 100% |###########################################| \n",
            "reading ./matrix.def ... 3x3\n",
            "emitting matrix      : 100% |###########################################| \n",
            "\n",
            "done!\n",
            "./pos-id.def is not found. minimum setting is used\n",
            "reading ./unk.def ... 2\n",
            "emitting double-array: 100% |###########################################| \n",
            "./model.def is not found. skipped.\n",
            "./pos-id.def is not found. minimum setting is used\n",
            "reading ./dic.csv ... 4\n",
            "emitting double-array: 100% |###########################################| \n",
            "reading ./matrix.def ... 1x1\n",
            "\n",
            "done!\n",
            "./pos-id.def is not found. minimum setting is used\n",
            "reading ./unk.def ... 11\n",
            "emitting double-array: 100% |###########################################| \n",
            "./model.def is not found. skipped.\n",
            "./pos-id.def is not found. minimum setting is used\n",
            "reading ./dic.csv ... 1\n",
            "reading ./matrix.def ... 1x1\n",
            "\n",
            "done!\n",
            "./pos-id.def is not found. minimum setting is used\n",
            "reading ./unk.def ... 2\n",
            "emitting double-array: 100% |###########################################| \n",
            "./model.def is not found. skipped.\n",
            "./pos-id.def is not found. minimum setting is used\n",
            "reading ./dic.csv ... 1\n",
            "reading ./matrix.def ... 1x1\n",
            "\n",
            "done!\n",
            "PASS: run-dics.sh\n",
            "PASS: run-eval.sh\n",
            "seed/pos-id.def is not found. minimum setting is used\n",
            "reading seed/unk.def ... 40\n",
            "emitting double-array: 100% |###########################################| \n",
            "seed/model.def is not found. skipped.\n",
            "seed/pos-id.def is not found. minimum setting is used\n",
            "reading seed/dic.csv ... 4335\n",
            "emitting double-array: 100% |###########################################| \n",
            "reading seed/matrix.def ... 1x1\n",
            "\n",
            "done!\n",
            "reading corpus ...\n",
            "Number of sentences: 34\n",
            "Number of features:  64108\n",
            "eta:                 0.00005\n",
            "freq:                1\n",
            "eval-size:           6\n",
            "unk-eval-size:       4\n",
            "threads:             1\n",
            "charset:             EUC-JP\n",
            "C(sigma^2):          1.00000\n",
            "\n",
            "iter=0 err=1.00000 F=0.35771 target=2406.28355 diff=1.00000\n",
            "iter=1 err=0.97059 F=0.65652 target=1484.25231 diff=0.38318\n",
            "iter=2 err=0.91176 F=0.79331 target=863.32765 diff=0.41834\n",
            "iter=3 err=0.85294 F=0.89213 target=596.72480 diff=0.30881\n",
            "iter=4 err=0.61765 F=0.95467 target=336.30744 diff=0.43641\n",
            "iter=5 err=0.50000 F=0.96702 target=246.53039 diff=0.26695\n",
            "iter=6 err=0.35294 F=0.95472 target=188.93963 diff=0.23361\n",
            "iter=7 err=0.20588 F=0.99106 target=168.62665 diff=0.10751\n",
            "iter=8 err=0.05882 F=0.99777 target=158.64865 diff=0.05917\n",
            "iter=9 err=0.08824 F=0.99665 target=154.14530 diff=0.02839\n",
            "iter=10 err=0.08824 F=0.99665 target=151.94257 diff=0.01429\n",
            "iter=11 err=0.02941 F=0.99888 target=147.20825 diff=0.03116\n",
            "iter=12 err=0.00000 F=1.00000 target=147.34956 diff=0.00096\n",
            "iter=13 err=0.02941 F=0.99888 target=146.32592 diff=0.00695\n",
            "iter=14 err=0.00000 F=1.00000 target=145.77299 diff=0.00378\n",
            "iter=15 err=0.02941 F=0.99888 target=145.24641 diff=0.00361\n",
            "iter=16 err=0.00000 F=1.00000 target=144.96490 diff=0.00194\n",
            "iter=17 err=0.02941 F=0.99888 target=144.90246 diff=0.00043\n",
            "iter=18 err=0.00000 F=1.00000 target=144.75959 diff=0.00099\n",
            "iter=19 err=0.00000 F=1.00000 target=144.71727 diff=0.00029\n",
            "iter=20 err=0.00000 F=1.00000 target=144.66337 diff=0.00037\n",
            "iter=21 err=0.00000 F=1.00000 target=144.61349 diff=0.00034\n",
            "iter=22 err=0.00000 F=1.00000 target=144.62987 diff=0.00011\n",
            "iter=23 err=0.00000 F=1.00000 target=144.60060 diff=0.00020\n",
            "iter=24 err=0.00000 F=1.00000 target=144.59125 diff=0.00006\n",
            "iter=25 err=0.00000 F=1.00000 target=144.58619 diff=0.00004\n",
            "iter=26 err=0.00000 F=1.00000 target=144.58219 diff=0.00003\n",
            "iter=27 err=0.00000 F=1.00000 target=144.58059 diff=0.00001\n",
            "\n",
            "Done! writing model file ... \n",
            "model-ipadic.c1.0.f1.model is not a binary model. reopen it as text mode...\n",
            "reading seed/unk.def ... 40\n",
            "reading seed/dic.csv ... 4335\n",
            "emitting model-ipadic.c1.0.f1.dic/left-id.def/ model-ipadic.c1.0.f1.dic/right-id.def\n",
            "emitting model-ipadic.c1.0.f1.dic/unk.def ... 40\n",
            "emitting model-ipadic.c1.0.f1.dic/dic.csv ... 4335\n",
            "emitting matrix      : 100% |###########################################| \n",
            "copying seed/char.def to model-ipadic.c1.0.f1.dic/char.def\n",
            "copying seed/rewrite.def to model-ipadic.c1.0.f1.dic/rewrite.def\n",
            "copying seed/dicrc to model-ipadic.c1.0.f1.dic/dicrc\n",
            "copying seed/feature.def to model-ipadic.c1.0.f1.dic/feature.def\n",
            "copying model-ipadic.c1.0.f1.model to model-ipadic.c1.0.f1.dic/model.def\n",
            "\n",
            "done!\n",
            "model-ipadic.c1.0.f1.dic/pos-id.def is not found. minimum setting is used\n",
            "reading model-ipadic.c1.0.f1.dic/unk.def ... 40\n",
            "emitting double-array: 100% |###########################################| \n",
            "model-ipadic.c1.0.f1.dic/pos-id.def is not found. minimum setting is used\n",
            "reading model-ipadic.c1.0.f1.dic/dic.csv ... 4335\n",
            "emitting double-array: 100% |###########################################| \n",
            "reading model-ipadic.c1.0.f1.dic/matrix.def ... 346x346\n",
            "emitting matrix      : 100% |###########################################| \n",
            "\n",
            "done!\n",
            "              precision          recall         F\n",
            "LEVEL 0:    12.8959(57/442) 11.8998(57/479) 12.3779\n",
            "LEVEL 1:    12.2172(54/442) 11.2735(54/479) 11.7264\n",
            "LEVEL 2:    11.7647(52/442) 10.8559(52/479) 11.2921\n",
            "LEVEL 4:    11.7647(52/442) 10.8559(52/479) 11.2921\n",
            "PASS: run-cost-train.sh\n",
            "==================\n",
            "All 3 tests passed\n",
            "==================\n",
            "make[2]: Leaving directory '/tmp/mecab-0.996-ko-0.9.2/tests'\n",
            "make[1]: Leaving directory '/tmp/mecab-0.996-ko-0.9.2/tests'\n",
            "make[1]: Entering directory '/tmp/mecab-0.996-ko-0.9.2'\n",
            "make[1]: Leaving directory '/tmp/mecab-0.996-ko-0.9.2'\n",
            "Making install in src\n",
            "make[1]: Entering directory '/tmp/mecab-0.996-ko-0.9.2/src'\n",
            "make[2]: Entering directory '/tmp/mecab-0.996-ko-0.9.2/src'\n",
            "test -z \"/usr/local/lib\" || /bin/mkdir -p \"/usr/local/lib\"\n",
            " /bin/bash ../libtool   --mode=install /usr/bin/install -c   libmecab.la '/usr/local/lib'\n",
            "libtool: install: /usr/bin/install -c .libs/libmecab.so.2.0.0 /usr/local/lib/libmecab.so.2.0.0\n",
            "libtool: install: (cd /usr/local/lib && { ln -s -f libmecab.so.2.0.0 libmecab.so.2 || { rm -f libmecab.so.2 && ln -s libmecab.so.2.0.0 libmecab.so.2; }; })\n",
            "libtool: install: (cd /usr/local/lib && { ln -s -f libmecab.so.2.0.0 libmecab.so || { rm -f libmecab.so && ln -s libmecab.so.2.0.0 libmecab.so; }; })\n",
            "libtool: install: /usr/bin/install -c .libs/libmecab.lai /usr/local/lib/libmecab.la\n",
            "libtool: install: /usr/bin/install -c .libs/libmecab.a /usr/local/lib/libmecab.a\n",
            "libtool: install: chmod 644 /usr/local/lib/libmecab.a\n",
            "libtool: install: ranlib /usr/local/lib/libmecab.a\n",
            "libtool: finish: PATH=\"/opt/bin:/usr/local/nvidia/bin:/usr/local/cuda/bin:/usr/local/sbin:/usr/local/bin:/usr/sbin:/usr/bin:/sbin:/bin:/tools/node/bin:/tools/google-cloud-sdk/bin:/sbin\" ldconfig -n /usr/local/lib\n",
            "----------------------------------------------------------------------\n",
            "Libraries have been installed in:\n",
            "   /usr/local/lib\n",
            "\n",
            "If you ever happen to want to link against installed libraries\n",
            "in a given directory, LIBDIR, you must either use libtool, and\n",
            "specify the full pathname of the library, or use the `-LLIBDIR'\n",
            "flag during linking and do at least one of the following:\n",
            "   - add LIBDIR to the `LD_LIBRARY_PATH' environment variable\n",
            "     during execution\n",
            "   - add LIBDIR to the `LD_RUN_PATH' environment variable\n",
            "     during linking\n",
            "   - use the `-Wl,-rpath -Wl,LIBDIR' linker flag\n",
            "   - have your system administrator add LIBDIR to `/etc/ld.so.conf'\n",
            "\n",
            "See any operating system documentation about shared libraries for\n",
            "more information, such as the ld(1) and ld.so(8) manual pages.\n",
            "----------------------------------------------------------------------\n",
            "test -z \"/usr/local/bin\" || /bin/mkdir -p \"/usr/local/bin\"\n",
            "  /bin/bash ../libtool   --mode=install /usr/bin/install -c mecab '/usr/local/bin'\n",
            "libtool: install: /usr/bin/install -c .libs/mecab /usr/local/bin/mecab\n",
            "test -z \"/usr/local/libexec/mecab\" || /bin/mkdir -p \"/usr/local/libexec/mecab\"\n",
            "  /bin/bash ../libtool   --mode=install /usr/bin/install -c mecab-dict-index mecab-dict-gen mecab-cost-train mecab-system-eval mecab-test-gen '/usr/local/libexec/mecab'\n",
            "libtool: install: /usr/bin/install -c .libs/mecab-dict-index /usr/local/libexec/mecab/mecab-dict-index\n",
            "libtool: install: /usr/bin/install -c .libs/mecab-dict-gen /usr/local/libexec/mecab/mecab-dict-gen\n",
            "libtool: install: /usr/bin/install -c .libs/mecab-cost-train /usr/local/libexec/mecab/mecab-cost-train\n",
            "libtool: install: /usr/bin/install -c .libs/mecab-system-eval /usr/local/libexec/mecab/mecab-system-eval\n",
            "libtool: install: /usr/bin/install -c .libs/mecab-test-gen /usr/local/libexec/mecab/mecab-test-gen\n",
            "test -z \"/usr/local/include\" || /bin/mkdir -p \"/usr/local/include\"\n",
            " /usr/bin/install -c -m 644 mecab.h '/usr/local/include'\n",
            "make[2]: Leaving directory '/tmp/mecab-0.996-ko-0.9.2/src'\n",
            "make[1]: Leaving directory '/tmp/mecab-0.996-ko-0.9.2/src'\n",
            "Making install in man\n",
            "make[1]: Entering directory '/tmp/mecab-0.996-ko-0.9.2/man'\n",
            "make[2]: Entering directory '/tmp/mecab-0.996-ko-0.9.2/man'\n",
            "make[2]: Nothing to be done for 'install-exec-am'.\n",
            "test -z \"/usr/local/share/man/man1\" || /bin/mkdir -p \"/usr/local/share/man/man1\"\n",
            " /usr/bin/install -c -m 644 mecab.1 '/usr/local/share/man/man1'\n",
            "make[2]: Leaving directory '/tmp/mecab-0.996-ko-0.9.2/man'\n",
            "make[1]: Leaving directory '/tmp/mecab-0.996-ko-0.9.2/man'\n",
            "Making install in doc\n",
            "make[1]: Entering directory '/tmp/mecab-0.996-ko-0.9.2/doc'\n",
            "make[2]: Entering directory '/tmp/mecab-0.996-ko-0.9.2/doc'\n",
            "make[2]: Nothing to be done for 'install-exec-am'.\n",
            "make[2]: Nothing to be done for 'install-data-am'.\n",
            "make[2]: Leaving directory '/tmp/mecab-0.996-ko-0.9.2/doc'\n",
            "make[1]: Leaving directory '/tmp/mecab-0.996-ko-0.9.2/doc'\n",
            "Making install in tests\n",
            "make[1]: Entering directory '/tmp/mecab-0.996-ko-0.9.2/tests'\n",
            "make[2]: Entering directory '/tmp/mecab-0.996-ko-0.9.2/tests'\n",
            "make[2]: Nothing to be done for 'install-exec-am'.\n",
            "make[2]: Nothing to be done for 'install-data-am'.\n",
            "make[2]: Leaving directory '/tmp/mecab-0.996-ko-0.9.2/tests'\n",
            "make[1]: Leaving directory '/tmp/mecab-0.996-ko-0.9.2/tests'\n",
            "make[1]: Entering directory '/tmp/mecab-0.996-ko-0.9.2'\n",
            "make[2]: Entering directory '/tmp/mecab-0.996-ko-0.9.2'\n",
            "test -z \"/usr/local/bin\" || /bin/mkdir -p \"/usr/local/bin\"\n",
            " /usr/bin/install -c mecab-config '/usr/local/bin'\n",
            "test -z \"/usr/local/etc\" || /bin/mkdir -p \"/usr/local/etc\"\n",
            " /usr/bin/install -c -m 644 mecabrc '/usr/local/etc'\n",
            "make[2]: Leaving directory '/tmp/mecab-0.996-ko-0.9.2'\n",
            "make[1]: Leaving directory '/tmp/mecab-0.996-ko-0.9.2'\n",
            "/sbin/ldconfig.real: /usr/local/lib/python3.7/dist-packages/ideep4py/lib/libmkldnn.so.0 is not a symbolic link\n",
            "\n",
            "--2022-06-07 23:44:41--  https://www.dropbox.com/s/i8girnk5p80076c/mecab-ko-dic-2.1.1-20180720.tar.gz?dl=1\n",
            "Resolving www.dropbox.com (www.dropbox.com)... 162.125.85.18, 2620:100:6017:18::a27d:212\n",
            "Connecting to www.dropbox.com (www.dropbox.com)|162.125.85.18|:443... connected.\n",
            "HTTP request sent, awaiting response... 301 Moved Permanently\n",
            "Location: /s/dl/i8girnk5p80076c/mecab-ko-dic-2.1.1-20180720.tar.gz [following]\n",
            "--2022-06-07 23:44:42--  https://www.dropbox.com/s/dl/i8girnk5p80076c/mecab-ko-dic-2.1.1-20180720.tar.gz\n",
            "Reusing existing connection to www.dropbox.com:443.\n",
            "HTTP request sent, awaiting response... 302 Found\n",
            "Location: https://uc17ca7fe9dd07f9d25db3529049.dl.dropboxusercontent.com/cd/0/get/BmwGgTCra-1417fwUcMU4NAunrFCSrAzA6SjogSXYeIa8_ik5U7GBeBbNR1_1FZmzJlG_2DQgEPg4o7okrl9shUmoSTmV9ed0HLdunq6xrhx4AMHw1U0XpsWit61mHi-JnnJp9Oo1oi35XazrZCupQxz2butXE2ArhxtC-BF4uxDQRQRuKMxnnkjRcUzJlC_9ic/file?dl=1# [following]\n",
            "--2022-06-07 23:44:42--  https://uc17ca7fe9dd07f9d25db3529049.dl.dropboxusercontent.com/cd/0/get/BmwGgTCra-1417fwUcMU4NAunrFCSrAzA6SjogSXYeIa8_ik5U7GBeBbNR1_1FZmzJlG_2DQgEPg4o7okrl9shUmoSTmV9ed0HLdunq6xrhx4AMHw1U0XpsWit61mHi-JnnJp9Oo1oi35XazrZCupQxz2butXE2ArhxtC-BF4uxDQRQRuKMxnnkjRcUzJlC_9ic/file?dl=1\n",
            "Resolving uc17ca7fe9dd07f9d25db3529049.dl.dropboxusercontent.com (uc17ca7fe9dd07f9d25db3529049.dl.dropboxusercontent.com)... 162.125.85.15, 2620:100:6017:15::a27d:20f\n",
            "Connecting to uc17ca7fe9dd07f9d25db3529049.dl.dropboxusercontent.com (uc17ca7fe9dd07f9d25db3529049.dl.dropboxusercontent.com)|162.125.85.15|:443... connected.\n",
            "HTTP request sent, awaiting response... 200 OK\n",
            "Length: 49775061 (47M) [application/binary]\n",
            "Saving to: ‘mecab-ko-dic-2.1.1-20180720.tar.gz?dl=1’\n",
            "\n",
            "mecab-ko-dic-2.1.1- 100%[===================>]  47.47M  13.6MB/s    in 3.5s    \n",
            "\n",
            "2022-06-07 23:44:46 (13.6 MB/s) - ‘mecab-ko-dic-2.1.1-20180720.tar.gz?dl=1’ saved [49775061/49775061]\n",
            "\n",
            "Reading package lists... Done\n",
            "Building dependency tree       \n",
            "Reading state information... Done\n",
            "The following package was automatically installed and is no longer required:\n",
            "  libnvidia-common-460\n",
            "Use 'apt autoremove' to remove it.\n",
            "The following additional packages will be installed:\n",
            "  automake autotools-dev libsigsegv2 m4\n",
            "Suggested packages:\n",
            "  autoconf-archive gnu-standards autoconf-doc libtool gettext m4-doc\n",
            "The following NEW packages will be installed:\n",
            "  autoconf automake autotools-dev libsigsegv2 m4\n",
            "0 upgraded, 5 newly installed, 0 to remove and 70 not upgraded.\n",
            "Need to get 1,082 kB of archives.\n",
            "After this operation, 3,994 kB of additional disk space will be used.\n",
            "Get:1 http://archive.ubuntu.com/ubuntu bionic/main amd64 libsigsegv2 amd64 2.12-1 [14.7 kB]\n",
            "Get:2 http://archive.ubuntu.com/ubuntu bionic/main amd64 m4 amd64 1.4.18-1 [197 kB]\n",
            "Get:3 http://archive.ubuntu.com/ubuntu bionic/main amd64 autoconf all 2.69-11 [322 kB]\n",
            "Get:4 http://archive.ubuntu.com/ubuntu bionic/main amd64 autotools-dev all 20180224.1 [39.6 kB]\n",
            "Get:5 http://archive.ubuntu.com/ubuntu bionic/main amd64 automake all 1:1.15.1-3ubuntu2 [509 kB]\n",
            "Fetched 1,082 kB in 2s (449 kB/s)\n",
            "Selecting previously unselected package libsigsegv2:amd64.\n",
            "(Reading database ... 156208 files and directories currently installed.)\n",
            "Preparing to unpack .../libsigsegv2_2.12-1_amd64.deb ...\n",
            "Unpacking libsigsegv2:amd64 (2.12-1) ...\n",
            "Selecting previously unselected package m4.\n",
            "Preparing to unpack .../archives/m4_1.4.18-1_amd64.deb ...\n",
            "Unpacking m4 (1.4.18-1) ...\n",
            "Selecting previously unselected package autoconf.\n",
            "Preparing to unpack .../autoconf_2.69-11_all.deb ...\n",
            "Unpacking autoconf (2.69-11) ...\n",
            "Selecting previously unselected package autotools-dev.\n",
            "Preparing to unpack .../autotools-dev_20180224.1_all.deb ...\n",
            "Unpacking autotools-dev (20180224.1) ...\n",
            "Selecting previously unselected package automake.\n",
            "Preparing to unpack .../automake_1%3a1.15.1-3ubuntu2_all.deb ...\n",
            "Unpacking automake (1:1.15.1-3ubuntu2) ...\n",
            "Setting up libsigsegv2:amd64 (2.12-1) ...\n",
            "Setting up m4 (1.4.18-1) ...\n",
            "Setting up autotools-dev (20180224.1) ...\n",
            "Setting up autoconf (2.69-11) ...\n",
            "Setting up automake (1:1.15.1-3ubuntu2) ...\n",
            "update-alternatives: using /usr/bin/automake-1.15 to provide /usr/bin/automake (automake) in auto mode\n",
            "Processing triggers for libc-bin (2.27-3ubuntu1.3) ...\n",
            "/sbin/ldconfig.real: /usr/local/lib/python3.7/dist-packages/ideep4py/lib/libmkldnn.so.0 is not a symbolic link\n",
            "\n",
            "Processing triggers for man-db (2.8.3-2ubuntu0.1) ...\n",
            "mecab-ko-dic-2.1.1-20180720/\n",
            "mecab-ko-dic-2.1.1-20180720/configure\n",
            "mecab-ko-dic-2.1.1-20180720/COPYING\n",
            "mecab-ko-dic-2.1.1-20180720/autogen.sh\n",
            "mecab-ko-dic-2.1.1-20180720/Place-station.csv\n",
            "mecab-ko-dic-2.1.1-20180720/NNG.csv\n",
            "mecab-ko-dic-2.1.1-20180720/README\n",
            "mecab-ko-dic-2.1.1-20180720/EF.csv\n",
            "mecab-ko-dic-2.1.1-20180720/MAG.csv\n",
            "mecab-ko-dic-2.1.1-20180720/Preanalysis.csv\n",
            "mecab-ko-dic-2.1.1-20180720/NNB.csv\n",
            "mecab-ko-dic-2.1.1-20180720/Person-actor.csv\n",
            "mecab-ko-dic-2.1.1-20180720/VV.csv\n",
            "mecab-ko-dic-2.1.1-20180720/Makefile.in\n",
            "mecab-ko-dic-2.1.1-20180720/matrix.def\n",
            "mecab-ko-dic-2.1.1-20180720/EC.csv\n",
            "mecab-ko-dic-2.1.1-20180720/NNBC.csv\n",
            "mecab-ko-dic-2.1.1-20180720/clean\n",
            "mecab-ko-dic-2.1.1-20180720/ChangeLog\n",
            "mecab-ko-dic-2.1.1-20180720/J.csv\n",
            "mecab-ko-dic-2.1.1-20180720/.keep\n",
            "mecab-ko-dic-2.1.1-20180720/feature.def\n",
            "mecab-ko-dic-2.1.1-20180720/Foreign.csv\n",
            "mecab-ko-dic-2.1.1-20180720/XPN.csv\n",
            "mecab-ko-dic-2.1.1-20180720/EP.csv\n",
            "mecab-ko-dic-2.1.1-20180720/NR.csv\n",
            "mecab-ko-dic-2.1.1-20180720/left-id.def\n",
            "mecab-ko-dic-2.1.1-20180720/Place.csv\n",
            "mecab-ko-dic-2.1.1-20180720/Symbol.csv\n",
            "mecab-ko-dic-2.1.1-20180720/dicrc\n",
            "mecab-ko-dic-2.1.1-20180720/NP.csv\n",
            "mecab-ko-dic-2.1.1-20180720/ETM.csv\n",
            "mecab-ko-dic-2.1.1-20180720/IC.csv\n",
            "mecab-ko-dic-2.1.1-20180720/Place-address.csv\n",
            "mecab-ko-dic-2.1.1-20180720/Group.csv\n",
            "mecab-ko-dic-2.1.1-20180720/model.def\n",
            "mecab-ko-dic-2.1.1-20180720/XSN.csv\n",
            "mecab-ko-dic-2.1.1-20180720/INSTALL\n",
            "mecab-ko-dic-2.1.1-20180720/rewrite.def\n",
            "mecab-ko-dic-2.1.1-20180720/Inflect.csv\n",
            "mecab-ko-dic-2.1.1-20180720/configure.ac\n",
            "mecab-ko-dic-2.1.1-20180720/NNP.csv\n",
            "mecab-ko-dic-2.1.1-20180720/CoinedWord.csv\n",
            "mecab-ko-dic-2.1.1-20180720/XSV.csv\n",
            "mecab-ko-dic-2.1.1-20180720/pos-id.def\n",
            "mecab-ko-dic-2.1.1-20180720/Makefile.am\n",
            "mecab-ko-dic-2.1.1-20180720/unk.def\n",
            "mecab-ko-dic-2.1.1-20180720/missing\n",
            "mecab-ko-dic-2.1.1-20180720/VCP.csv\n",
            "mecab-ko-dic-2.1.1-20180720/install-sh\n",
            "mecab-ko-dic-2.1.1-20180720/Hanja.csv\n",
            "mecab-ko-dic-2.1.1-20180720/MAJ.csv\n",
            "mecab-ko-dic-2.1.1-20180720/XSA.csv\n",
            "mecab-ko-dic-2.1.1-20180720/Wikipedia.csv\n",
            "mecab-ko-dic-2.1.1-20180720/tools/\n",
            "mecab-ko-dic-2.1.1-20180720/tools/add-userdic.sh\n",
            "mecab-ko-dic-2.1.1-20180720/tools/mecab-bestn.sh\n",
            "mecab-ko-dic-2.1.1-20180720/tools/convert_for_using_store.sh\n",
            "mecab-ko-dic-2.1.1-20180720/user-dic/\n",
            "mecab-ko-dic-2.1.1-20180720/user-dic/nnp.csv\n",
            "mecab-ko-dic-2.1.1-20180720/user-dic/place.csv\n",
            "mecab-ko-dic-2.1.1-20180720/user-dic/person.csv\n",
            "mecab-ko-dic-2.1.1-20180720/user-dic/README.md\n",
            "mecab-ko-dic-2.1.1-20180720/NorthKorea.csv\n",
            "mecab-ko-dic-2.1.1-20180720/VX.csv\n",
            "mecab-ko-dic-2.1.1-20180720/right-id.def\n",
            "mecab-ko-dic-2.1.1-20180720/VA.csv\n",
            "mecab-ko-dic-2.1.1-20180720/char.def\n",
            "mecab-ko-dic-2.1.1-20180720/NEWS\n",
            "mecab-ko-dic-2.1.1-20180720/MM.csv\n",
            "mecab-ko-dic-2.1.1-20180720/ETN.csv\n",
            "mecab-ko-dic-2.1.1-20180720/AUTHORS\n",
            "mecab-ko-dic-2.1.1-20180720/Person.csv\n",
            "mecab-ko-dic-2.1.1-20180720/XR.csv\n",
            "mecab-ko-dic-2.1.1-20180720/VCN.csv\n",
            "Looking in current directory for macros.\n",
            "configure.ac:2: warning: AM_INIT_AUTOMAKE: two- and three-arguments forms are deprecated.  For more info, see:\n",
            "configure.ac:2: http://www.gnu.org/software/automake/manual/automake.html#Modernize-AM_005fINIT_005fAUTOMAKE-invocation\n",
            "checking for a BSD-compatible install... /usr/bin/install -c\n",
            "checking whether build environment is sane... yes\n",
            "/tmp/mecab-ko-dic-2.1.1-20180720/missing: Unknown `--is-lightweight' option\n",
            "Try `/tmp/mecab-ko-dic-2.1.1-20180720/missing --help' for more information\n",
            "configure: WARNING: 'missing' script is too old or missing\n",
            "checking for a thread-safe mkdir -p... /bin/mkdir -p\n",
            "checking for gawk... no\n",
            "checking for mawk... mawk\n",
            "checking whether make sets $(MAKE)... yes\n",
            "checking whether make supports nested variables... yes\n",
            "checking for mecab-config... /usr/local/bin/mecab-config\n",
            "checking that generated files are newer than configure... done\n",
            "configure: creating ./config.status\n",
            "config.status: creating Makefile\n",
            "/usr/local/libexec/mecab/mecab-dict-index -d . -o . -f UTF-8 -t UTF-8\n",
            "reading ./unk.def ... 13\n",
            "emitting double-array: 100% |###########################################| \n",
            "reading ./Preanalysis.csv ... 5\n",
            "reading ./XR.csv ... 3637\n",
            "reading ./Foreign.csv ... 11690\n",
            "reading ./VCN.csv ... 7\n",
            "reading ./CoinedWord.csv ... 148\n",
            "reading ./NNG.csv ... 208524\n",
            "reading ./ETN.csv ... 14\n",
            "reading ./VV.csv ... 7331\n",
            "reading ./Symbol.csv ... 16\n",
            "reading ./MM.csv ... 453\n",
            "reading ./Place.csv ... 30303\n",
            "reading ./EP.csv ... 51\n",
            "reading ./VX.csv ... 125\n",
            "reading ./NNBC.csv ... 677\n",
            "reading ./MAG.csv ... 14242\n",
            "reading ./XSN.csv ... 124\n",
            "reading ./Place-address.csv ... 19301\n",
            "reading ./Inflect.csv ... 44820\n",
            "reading ./Wikipedia.csv ... 36762\n",
            "reading ./ETM.csv ... 133\n",
            "reading ./IC.csv ... 1305\n",
            "reading ./EF.csv ... 1820\n",
            "reading ./MAJ.csv ... 240\n",
            "reading ./XSA.csv ... 19\n",
            "reading ./XPN.csv ... 83\n",
            "reading ./EC.csv ... 2547\n",
            "reading ./VA.csv ... 2360\n",
            "reading ./XSV.csv ... 23\n",
            "reading ./NP.csv ... 342\n",
            "reading ./NNP.csv ... 2371\n",
            "reading ./Person.csv ... 196459\n",
            "reading ./Hanja.csv ... 125750\n",
            "reading ./J.csv ... 416\n",
            "reading ./VCP.csv ... 9\n",
            "reading ./NorthKorea.csv ... 3\n",
            "reading ./Group.csv ... 3176\n",
            "reading ./Place-station.csv ... 1145\n",
            "reading ./NR.csv ... 482\n",
            "reading ./NNB.csv ... 140\n",
            "reading ./Person-actor.csv ... 99230\n",
            "emitting double-array: 100% |###########################################| \n",
            "reading ./matrix.def ... 3822x2693\n",
            "emitting matrix      : 100% |###########################################| \n",
            "\n",
            "done!\n",
            "echo To enable dictionary, rewrite /usr/local/etc/mecabrc as \\\"dicdir = /usr/local/lib/mecab/dic/mecab-ko-dic\\\"\n",
            "To enable dictionary, rewrite /usr/local/etc/mecabrc as \"dicdir = /usr/local/lib/mecab/dic/mecab-ko-dic\"\n",
            "make[1]: Entering directory '/tmp/mecab-ko-dic-2.1.1-20180720'\n",
            "make[1]: Nothing to be done for 'install-exec-am'.\n",
            " /bin/mkdir -p '/usr/local/lib/mecab/dic/mecab-ko-dic'\n",
            " /usr/bin/install -c -m 644 model.bin matrix.bin char.bin sys.dic unk.dic left-id.def right-id.def rewrite.def pos-id.def dicrc '/usr/local/lib/mecab/dic/mecab-ko-dic'\n",
            "make[1]: Leaving directory '/tmp/mecab-ko-dic-2.1.1-20180720'\n",
            "/sbin/ldconfig.real: /usr/local/lib/python3.7/dist-packages/ideep4py/lib/libmkldnn.so.0 is not a symbolic link\n",
            "\n",
            "Cloning into 'mecab-python-0.996'...\n",
            "Unpacking objects: 100% (17/17), done.\n",
            "running build\n",
            "running build_py\n",
            "creating build\n",
            "creating build/lib.linux-x86_64-3.7\n",
            "copying MeCab.py -> build/lib.linux-x86_64-3.7\n",
            "running build_ext\n",
            "building '_MeCab' extension\n",
            "creating build/temp.linux-x86_64-3.7\n",
            "x86_64-linux-gnu-gcc -pthread -Wno-unused-result -Wsign-compare -DNDEBUG -g -fwrapv -O2 -Wall -g -fstack-protector-strong -Wformat -Werror=format-security -g -fwrapv -O2 -g -fstack-protector-strong -Wformat -Werror=format-security -Wdate-time -D_FORTIFY_SOURCE=2 -fPIC -I/usr/local/include -I/usr/include/python3.7m -c MeCab_wrap.cxx -o build/temp.linux-x86_64-3.7/MeCab_wrap.o\n",
            "x86_64-linux-gnu-g++ -pthread -shared -Wl,-O1 -Wl,-Bsymbolic-functions -Wl,-Bsymbolic-functions -g -fwrapv -O2 -Wl,-Bsymbolic-functions -g -fwrapv -O2 -g -fstack-protector-strong -Wformat -Werror=format-security -Wdate-time -D_FORTIFY_SOURCE=2 build/temp.linux-x86_64-3.7/MeCab_wrap.o -L/usr/local/lib -lmecab -lstdc++ -o build/lib.linux-x86_64-3.7/_MeCab.cpython-37m-x86_64-linux-gnu.so\n",
            "running install\n",
            "running build\n",
            "running build_py\n",
            "running build_ext\n",
            "running install_lib\n",
            "copying build/lib.linux-x86_64-3.7/MeCab.py -> /usr/local/lib/python3.7/dist-packages\n",
            "copying build/lib.linux-x86_64-3.7/_MeCab.cpython-37m-x86_64-linux-gnu.so -> /usr/local/lib/python3.7/dist-packages\n",
            "byte-compiling /usr/local/lib/python3.7/dist-packages/MeCab.py to MeCab.cpython-37.pyc\n",
            "running install_egg_info\n",
            "Writing /usr/local/lib/python3.7/dist-packages/mecab_python-0.996_ko_0.9.2.egg-info\n",
            "Looking in indexes: https://pypi.org/simple, https://us-python.pkg.dev/colab-wheels/public/simple/\n",
            "Requirement already satisfied: konlpy in /usr/local/lib/python3.7/dist-packages (0.6.0)\n",
            "Requirement already satisfied: numpy>=1.6 in /usr/local/lib/python3.7/dist-packages (from konlpy) (1.21.6)\n",
            "Requirement already satisfied: lxml>=4.1.0 in /usr/local/lib/python3.7/dist-packages (from konlpy) (4.2.6)\n",
            "Requirement already satisfied: JPype1>=0.7.0 in /usr/local/lib/python3.7/dist-packages (from konlpy) (1.4.0)\n",
            "Requirement already satisfied: typing-extensions in /usr/local/lib/python3.7/dist-packages (from JPype1>=0.7.0->konlpy) (4.2.0)\n"
          ]
        }
      ]
    },
    {
      "cell_type": "code",
      "source": [
        "###PyKoSpacing 띄어쓰기 변환\n",
        "!pip install git+https://github.com/haven-jeon/PyKoSpacing.git"
      ],
      "metadata": {
        "colab": {
          "base_uri": "https://localhost:8080/",
          "height": 1000
        },
        "id": "EyIPVVNB06o7",
        "outputId": "07676b7a-07e0-467c-dca3-6fbe16b407b7"
      },
      "execution_count": null,
      "outputs": [
        {
          "output_type": "stream",
          "name": "stdout",
          "text": [
            "Looking in indexes: https://pypi.org/simple, https://us-python.pkg.dev/colab-wheels/public/simple/\n",
            "Collecting git+https://github.com/haven-jeon/PyKoSpacing.git\n",
            "  Cloning https://github.com/haven-jeon/PyKoSpacing.git to /tmp/pip-req-build-0g9aln92\n",
            "  Running command git clone -q https://github.com/haven-jeon/PyKoSpacing.git /tmp/pip-req-build-0g9aln92\n",
            "Collecting tensorflow==2.6.4\n",
            "  Downloading https://us-python.pkg.dev/colab-wheels/public/tensorflow/tensorflow-2.6.4%2Bzzzcolab20220516125453-cp37-cp37m-linux_x86_64.whl\n",
            "\u001b[K     - 570.3 MB 125.2 MB/s\n",
            "\u001b[?25hRequirement already satisfied: h5py==3.1.0 in /usr/local/lib/python3.7/dist-packages (from pykospacing==0.5) (3.1.0)\n",
            "Collecting argparse>=1.4.0\n",
            "  Downloading argparse-1.4.0-py2.py3-none-any.whl (23 kB)\n",
            "Requirement already satisfied: cached-property in /usr/local/lib/python3.7/dist-packages (from h5py==3.1.0->pykospacing==0.5) (1.5.2)\n",
            "Requirement already satisfied: numpy>=1.14.5 in /usr/local/lib/python3.7/dist-packages (from h5py==3.1.0->pykospacing==0.5) (1.21.6)\n",
            "Collecting gast==0.4.0\n",
            "  Downloading gast-0.4.0-py3-none-any.whl (9.8 kB)\n",
            "Requirement already satisfied: termcolor~=1.1.0 in /usr/local/lib/python3.7/dist-packages (from tensorflow==2.6.4->pykospacing==0.5) (1.1.0)\n",
            "Requirement already satisfied: astunparse~=1.6.3 in /usr/local/lib/python3.7/dist-packages (from tensorflow==2.6.4->pykospacing==0.5) (1.6.3)\n",
            "Requirement already satisfied: google-pasta~=0.2 in /usr/local/lib/python3.7/dist-packages (from tensorflow==2.6.4->pykospacing==0.5) (0.2.0)\n",
            "Collecting tensorboard<2.7,>=2.6.0\n",
            "  Downloading tensorboard-2.6.0-py3-none-any.whl (5.6 MB)\n",
            "\u001b[K     |████████████████████████████████| 5.6 MB 6.1 MB/s \n",
            "\u001b[?25hRequirement already satisfied: protobuf>=3.9.2 in /usr/local/lib/python3.7/dist-packages (from tensorflow==2.6.4->pykospacing==0.5) (3.17.3)\n",
            "Requirement already satisfied: opt-einsum~=3.3.0 in /usr/local/lib/python3.7/dist-packages (from tensorflow==2.6.4->pykospacing==0.5) (3.3.0)\n",
            "Requirement already satisfied: wheel~=0.35 in /usr/local/lib/python3.7/dist-packages (from tensorflow==2.6.4->pykospacing==0.5) (0.37.1)\n",
            "Collecting wrapt~=1.12.1\n",
            "  Downloading wrapt-1.12.1.tar.gz (27 kB)\n",
            "Collecting keras<2.7,>=2.6.0\n",
            "  Downloading keras-2.6.0-py2.py3-none-any.whl (1.3 MB)\n",
            "\u001b[K     |████████████████████████████████| 1.3 MB 69.7 MB/s \n",
            "\u001b[?25hCollecting clang~=5.0\n",
            "  Downloading clang-5.0.tar.gz (30 kB)\n",
            "Collecting absl-py~=0.10\n",
            "  Downloading absl_py-0.15.0-py3-none-any.whl (132 kB)\n",
            "\u001b[K     |████████████████████████████████| 132 kB 65.7 MB/s \n",
            "\u001b[?25hCollecting typing-extensions<3.11,>=3.7\n",
            "  Downloading typing_extensions-3.10.0.2-py3-none-any.whl (26 kB)\n",
            "Collecting tensorflow-estimator<2.7,>=2.6.0\n",
            "  Downloading tensorflow_estimator-2.6.0-py2.py3-none-any.whl (462 kB)\n",
            "\u001b[K     |████████████████████████████████| 462 kB 58.2 MB/s \n",
            "\u001b[?25hRequirement already satisfied: grpcio<2.0,>=1.37.0 in /usr/local/lib/python3.7/dist-packages (from tensorflow==2.6.4->pykospacing==0.5) (1.46.3)\n",
            "Collecting numpy>=1.14.5\n",
            "  Downloading numpy-1.19.5-cp37-cp37m-manylinux2010_x86_64.whl (14.8 MB)\n",
            "\u001b[K     |████████████████████████████████| 14.8 MB 56.4 MB/s \n",
            "\u001b[?25hRequirement already satisfied: six~=1.15.0 in /usr/local/lib/python3.7/dist-packages (from tensorflow==2.6.4->pykospacing==0.5) (1.15.0)\n",
            "Requirement already satisfied: keras-preprocessing~=1.1.2 in /usr/local/lib/python3.7/dist-packages (from tensorflow==2.6.4->pykospacing==0.5) (1.1.2)\n",
            "Collecting flatbuffers~=1.12.0\n",
            "  Downloading flatbuffers-1.12-py2.py3-none-any.whl (15 kB)\n",
            "Requirement already satisfied: setuptools>=41.0.0 in /usr/local/lib/python3.7/dist-packages (from tensorboard<2.7,>=2.6.0->tensorflow==2.6.4->pykospacing==0.5) (57.4.0)\n",
            "Requirement already satisfied: google-auth<2,>=1.6.3 in /usr/local/lib/python3.7/dist-packages (from tensorboard<2.7,>=2.6.0->tensorflow==2.6.4->pykospacing==0.5) (1.35.0)\n",
            "Requirement already satisfied: requests<3,>=2.21.0 in /usr/local/lib/python3.7/dist-packages (from tensorboard<2.7,>=2.6.0->tensorflow==2.6.4->pykospacing==0.5) (2.23.0)\n",
            "Requirement already satisfied: tensorboard-plugin-wit>=1.6.0 in /usr/local/lib/python3.7/dist-packages (from tensorboard<2.7,>=2.6.0->tensorflow==2.6.4->pykospacing==0.5) (1.8.1)\n",
            "Requirement already satisfied: werkzeug>=0.11.15 in /usr/local/lib/python3.7/dist-packages (from tensorboard<2.7,>=2.6.0->tensorflow==2.6.4->pykospacing==0.5) (1.0.1)\n",
            "Requirement already satisfied: google-auth-oauthlib<0.5,>=0.4.1 in /usr/local/lib/python3.7/dist-packages (from tensorboard<2.7,>=2.6.0->tensorflow==2.6.4->pykospacing==0.5) (0.4.6)\n",
            "Requirement already satisfied: tensorboard-data-server<0.7.0,>=0.6.0 in /usr/local/lib/python3.7/dist-packages (from tensorboard<2.7,>=2.6.0->tensorflow==2.6.4->pykospacing==0.5) (0.6.1)\n",
            "Requirement already satisfied: markdown>=2.6.8 in /usr/local/lib/python3.7/dist-packages (from tensorboard<2.7,>=2.6.0->tensorflow==2.6.4->pykospacing==0.5) (3.3.7)\n",
            "Requirement already satisfied: pyasn1-modules>=0.2.1 in /usr/local/lib/python3.7/dist-packages (from google-auth<2,>=1.6.3->tensorboard<2.7,>=2.6.0->tensorflow==2.6.4->pykospacing==0.5) (0.2.8)\n",
            "Requirement already satisfied: cachetools<5.0,>=2.0.0 in /usr/local/lib/python3.7/dist-packages (from google-auth<2,>=1.6.3->tensorboard<2.7,>=2.6.0->tensorflow==2.6.4->pykospacing==0.5) (4.2.4)\n",
            "Requirement already satisfied: rsa<5,>=3.1.4 in /usr/local/lib/python3.7/dist-packages (from google-auth<2,>=1.6.3->tensorboard<2.7,>=2.6.0->tensorflow==2.6.4->pykospacing==0.5) (4.8)\n",
            "Requirement already satisfied: requests-oauthlib>=0.7.0 in /usr/local/lib/python3.7/dist-packages (from google-auth-oauthlib<0.5,>=0.4.1->tensorboard<2.7,>=2.6.0->tensorflow==2.6.4->pykospacing==0.5) (1.3.1)\n",
            "Requirement already satisfied: importlib-metadata>=4.4 in /usr/local/lib/python3.7/dist-packages (from markdown>=2.6.8->tensorboard<2.7,>=2.6.0->tensorflow==2.6.4->pykospacing==0.5) (4.11.4)\n",
            "Requirement already satisfied: zipp>=0.5 in /usr/local/lib/python3.7/dist-packages (from importlib-metadata>=4.4->markdown>=2.6.8->tensorboard<2.7,>=2.6.0->tensorflow==2.6.4->pykospacing==0.5) (3.8.0)\n",
            "Requirement already satisfied: pyasn1<0.5.0,>=0.4.6 in /usr/local/lib/python3.7/dist-packages (from pyasn1-modules>=0.2.1->google-auth<2,>=1.6.3->tensorboard<2.7,>=2.6.0->tensorflow==2.6.4->pykospacing==0.5) (0.4.8)\n",
            "Requirement already satisfied: urllib3!=1.25.0,!=1.25.1,<1.26,>=1.21.1 in /usr/local/lib/python3.7/dist-packages (from requests<3,>=2.21.0->tensorboard<2.7,>=2.6.0->tensorflow==2.6.4->pykospacing==0.5) (1.24.3)\n",
            "Requirement already satisfied: certifi>=2017.4.17 in /usr/local/lib/python3.7/dist-packages (from requests<3,>=2.21.0->tensorboard<2.7,>=2.6.0->tensorflow==2.6.4->pykospacing==0.5) (2022.5.18.1)\n",
            "Requirement already satisfied: idna<3,>=2.5 in /usr/local/lib/python3.7/dist-packages (from requests<3,>=2.21.0->tensorboard<2.7,>=2.6.0->tensorflow==2.6.4->pykospacing==0.5) (2.10)\n",
            "Requirement already satisfied: chardet<4,>=3.0.2 in /usr/local/lib/python3.7/dist-packages (from requests<3,>=2.21.0->tensorboard<2.7,>=2.6.0->tensorflow==2.6.4->pykospacing==0.5) (3.0.4)\n",
            "Requirement already satisfied: oauthlib>=3.0.0 in /usr/local/lib/python3.7/dist-packages (from requests-oauthlib>=0.7.0->google-auth-oauthlib<0.5,>=0.4.1->tensorboard<2.7,>=2.6.0->tensorflow==2.6.4->pykospacing==0.5) (3.2.0)\n",
            "Building wheels for collected packages: pykospacing, clang, wrapt\n",
            "  Building wheel for pykospacing (setup.py) ... \u001b[?25l\u001b[?25hdone\n",
            "  Created wheel for pykospacing: filename=pykospacing-0.5-py3-none-any.whl size=2268580 sha256=a43d97f83c509ec621daf02aab37fffde2baeb0725a42a7ce52c0043748eb69e\n",
            "  Stored in directory: /tmp/pip-ephem-wheel-cache-q1pin08g/wheels/9b/93/81/a2a7dc8c66ede5bf30634d20635f32b95eac7ca2ea8844058b\n",
            "  Building wheel for clang (setup.py) ... \u001b[?25l\u001b[?25hdone\n",
            "  Created wheel for clang: filename=clang-5.0-py3-none-any.whl size=30694 sha256=ada7cc11990c8eb606abf0f32d7039c002dc12fcd15fceeaf6cceec13334d532\n",
            "  Stored in directory: /root/.cache/pip/wheels/98/91/04/971b4c587cf47ae952b108949b46926f426c02832d120a082a\n",
            "  Building wheel for wrapt (setup.py) ... \u001b[?25l\u001b[?25hdone\n",
            "  Created wheel for wrapt: filename=wrapt-1.12.1-cp37-cp37m-linux_x86_64.whl size=68713 sha256=9452e497af996d558555428961560b4b3894909f01ae8a71b368f897fee4f6b6\n",
            "  Stored in directory: /root/.cache/pip/wheels/62/76/4c/aa25851149f3f6d9785f6c869387ad82b3fd37582fa8147ac6\n",
            "Successfully built pykospacing clang wrapt\n",
            "Installing collected packages: typing-extensions, numpy, absl-py, wrapt, tensorflow-estimator, tensorboard, keras, gast, flatbuffers, clang, tensorflow, argparse, pykospacing\n",
            "  Attempting uninstall: typing-extensions\n",
            "    Found existing installation: typing-extensions 4.2.0\n",
            "    Uninstalling typing-extensions-4.2.0:\n",
            "      Successfully uninstalled typing-extensions-4.2.0\n",
            "  Attempting uninstall: numpy\n",
            "    Found existing installation: numpy 1.21.6\n",
            "    Uninstalling numpy-1.21.6:\n",
            "      Successfully uninstalled numpy-1.21.6\n",
            "  Attempting uninstall: absl-py\n",
            "    Found existing installation: absl-py 1.0.0\n",
            "    Uninstalling absl-py-1.0.0:\n",
            "      Successfully uninstalled absl-py-1.0.0\n",
            "  Attempting uninstall: wrapt\n",
            "    Found existing installation: wrapt 1.14.1\n",
            "    Uninstalling wrapt-1.14.1:\n",
            "      Successfully uninstalled wrapt-1.14.1\n",
            "  Attempting uninstall: tensorflow-estimator\n",
            "    Found existing installation: tensorflow-estimator 2.8.0\n",
            "    Uninstalling tensorflow-estimator-2.8.0:\n",
            "      Successfully uninstalled tensorflow-estimator-2.8.0\n",
            "  Attempting uninstall: tensorboard\n",
            "    Found existing installation: tensorboard 2.8.0\n",
            "    Uninstalling tensorboard-2.8.0:\n",
            "      Successfully uninstalled tensorboard-2.8.0\n",
            "  Attempting uninstall: keras\n",
            "    Found existing installation: keras 2.8.0\n",
            "    Uninstalling keras-2.8.0:\n",
            "      Successfully uninstalled keras-2.8.0\n",
            "  Attempting uninstall: gast\n",
            "    Found existing installation: gast 0.5.3\n",
            "    Uninstalling gast-0.5.3:\n",
            "      Successfully uninstalled gast-0.5.3\n",
            "  Attempting uninstall: flatbuffers\n",
            "    Found existing installation: flatbuffers 2.0\n",
            "    Uninstalling flatbuffers-2.0:\n",
            "      Successfully uninstalled flatbuffers-2.0\n",
            "  Attempting uninstall: tensorflow\n",
            "    Found existing installation: tensorflow 2.8.2+zzzcolab20220527125636\n",
            "    Uninstalling tensorflow-2.8.2+zzzcolab20220527125636:\n",
            "      Successfully uninstalled tensorflow-2.8.2+zzzcolab20220527125636\n",
            "\u001b[31mERROR: pip's dependency resolver does not currently take into account all the packages that are installed. This behaviour is the source of the following dependency conflicts.\n",
            "xarray-einstats 0.2.2 requires numpy>=1.21, but you have numpy 1.19.5 which is incompatible.\n",
            "datascience 0.10.6 requires folium==0.2.1, but you have folium 0.8.3 which is incompatible.\n",
            "albumentations 0.1.12 requires imgaug<0.2.7,>=0.2.5, but you have imgaug 0.2.9 which is incompatible.\u001b[0m\n",
            "Successfully installed absl-py-0.15.0 argparse-1.4.0 clang-5.0 flatbuffers-1.12 gast-0.4.0 keras-2.6.0 numpy-1.19.5 pykospacing-0.5 tensorboard-2.6.0 tensorflow-2.6.4+zzzcolab20220516125453 tensorflow-estimator-2.6.0 typing-extensions-3.10.0.2 wrapt-1.12.1\n"
          ]
        },
        {
          "output_type": "display_data",
          "data": {
            "application/vnd.colab-display-data+json": {
              "pip_warning": {
                "packages": [
                  "argparse",
                  "numpy",
                  "typing_extensions"
                ]
              }
            }
          },
          "metadata": {}
        }
      ]
    },
    {
      "cell_type": "code",
      "source": [
        "###Py-Hanspell 맞춤법 보정\n",
        "!pip install git+https://github.com/ssut/py-hanspell.git"
      ],
      "metadata": {
        "colab": {
          "base_uri": "https://localhost:8080/"
        },
        "id": "9yzbSDU_2AGn",
        "outputId": "8c4400ee-5d2c-4985-ff11-40b52ab4ed85"
      },
      "execution_count": null,
      "outputs": [
        {
          "output_type": "stream",
          "name": "stdout",
          "text": [
            "Looking in indexes: https://pypi.org/simple, https://us-python.pkg.dev/colab-wheels/public/simple/\n",
            "Collecting git+https://github.com/ssut/py-hanspell.git\n",
            "  Cloning https://github.com/ssut/py-hanspell.git to /tmp/pip-req-build-cy5gm2ce\n",
            "  Running command git clone -q https://github.com/ssut/py-hanspell.git /tmp/pip-req-build-cy5gm2ce\n",
            "Requirement already satisfied: requests in /usr/local/lib/python3.7/dist-packages (from py-hanspell==1.1) (2.23.0)\n",
            "Requirement already satisfied: chardet<4,>=3.0.2 in /usr/local/lib/python3.7/dist-packages (from requests->py-hanspell==1.1) (3.0.4)\n",
            "Requirement already satisfied: certifi>=2017.4.17 in /usr/local/lib/python3.7/dist-packages (from requests->py-hanspell==1.1) (2022.5.18.1)\n",
            "Requirement already satisfied: idna<3,>=2.5 in /usr/local/lib/python3.7/dist-packages (from requests->py-hanspell==1.1) (2.10)\n",
            "Requirement already satisfied: urllib3!=1.25.0,!=1.25.1,<1.26,>=1.21.1 in /usr/local/lib/python3.7/dist-packages (from requests->py-hanspell==1.1) (1.24.3)\n",
            "Building wheels for collected packages: py-hanspell\n",
            "  Building wheel for py-hanspell (setup.py) ... \u001b[?25l\u001b[?25hdone\n",
            "  Created wheel for py-hanspell: filename=py_hanspell-1.1-py3-none-any.whl size=4868 sha256=6a1773f99187eefc3673fec762c0701f900ef523e0f1115b97194a5e27298667\n",
            "  Stored in directory: /tmp/pip-ephem-wheel-cache-hdbgu7w4/wheels/ab/f5/7b/d4124bb329c905301baed80e2ae45aa14e824f62ebc3ec2cc4\n",
            "Successfully built py-hanspell\n",
            "Installing collected packages: py-hanspell\n",
            "Successfully installed py-hanspell-1.1\n"
          ]
        }
      ]
    },
    {
      "cell_type": "code",
      "source": [
        "#gensim 다운\n",
        "! pip install --upgrade gensim==3.8.3"
      ],
      "metadata": {
        "colab": {
          "base_uri": "https://localhost:8080/"
        },
        "id": "kWgICTmM9ZgA",
        "outputId": "1601d994-ea17-4ff1-8d52-b71a1595fb9c"
      },
      "execution_count": null,
      "outputs": [
        {
          "output_type": "stream",
          "name": "stdout",
          "text": [
            "Looking in indexes: https://pypi.org/simple, https://us-python.pkg.dev/colab-wheels/public/simple/\n",
            "Requirement already satisfied: gensim==3.8.3 in /usr/local/lib/python3.7/dist-packages (3.8.3)\n",
            "Requirement already satisfied: numpy>=1.11.3 in /usr/local/lib/python3.7/dist-packages (from gensim==3.8.3) (1.19.5)\n",
            "Requirement already satisfied: scipy>=0.18.1 in /usr/local/lib/python3.7/dist-packages (from gensim==3.8.3) (1.4.1)\n",
            "Requirement already satisfied: smart-open>=1.8.1 in /usr/local/lib/python3.7/dist-packages (from gensim==3.8.3) (6.0.0)\n",
            "Requirement already satisfied: six>=1.5.0 in /usr/local/lib/python3.7/dist-packages (from gensim==3.8.3) (1.15.0)\n"
          ]
        }
      ]
    },
    {
      "cell_type": "code",
      "source": [
        "!git pull origin master"
      ],
      "metadata": {
        "id": "tSnCgLk9JpLR",
        "colab": {
          "base_uri": "https://localhost:8080/"
        },
        "outputId": "91727002-8571-4755-98de-50a56f94a04e"
      },
      "execution_count": null,
      "outputs": [
        {
          "output_type": "stream",
          "name": "stdout",
          "text": [
            "fatal: not a git repository (or any of the parent directories): .git\n"
          ]
        }
      ]
    },
    {
      "cell_type": "code",
      "source": [
        "from google.colab import drive\n",
        "drive.mount(\"/content/drive\")"
      ],
      "metadata": {
        "colab": {
          "base_uri": "https://localhost:8080/"
        },
        "id": "_XZ6AiHZ6duY",
        "outputId": "a71dff08-7d6d-4078-d50f-5c3de21024c8"
      },
      "execution_count": null,
      "outputs": [
        {
          "output_type": "stream",
          "name": "stdout",
          "text": [
            "Mounted at /content/drive\n"
          ]
        }
      ]
    },
    {
      "cell_type": "code",
      "execution_count": null,
      "metadata": {
        "id": "31CG8Wy7S6-n"
      },
      "outputs": [],
      "source": [
        "import pandas as pd\n",
        "import numpy as np\n",
        "import matplotlib.pyplot as plt\n",
        "import tensorflow as tf\n",
        "import seaborn as sns\n",
        "import re\n",
        "import urllib.request\n",
        "from konlpy.tag import Okt #한글 형태소분석\n",
        "from konlpy.tag import Mecab #한글 형태소분석\n",
        "from pykospacing import Spacing #띄어쓰기\n",
        "from hanspell import spell_checker #맞춤법 보정기\n",
        "from tqdm import tqdm\n",
        "import gensim\n",
        "from gensim.models import KeyedVectors, Word2Vec\n",
        "from gensim.models.word2vec import Word2Vec\n",
        "from gensim.models.keyedvectors import Word2VecKeyedVectors\n",
        "from collections import Counter\n",
        "from tensorflow.keras.preprocessing.text import Tokenizer\n",
        "from tensorflow.keras.preprocessing.sequence import pad_sequences\n",
        "from tensorflow.keras.layers import Conv1D, GlobalMaxPooling1D, Embedding, Dense, LSTM, GRU, Dropout\n",
        "from tensorflow.keras.models import Sequential, load_model\n",
        "from tensorflow.keras.callbacks import EarlyStopping, ModelCheckpoint\n",
        "from tensorflow.keras.initializers import Constant"
      ]
    },
    {
      "cell_type": "markdown",
      "source": [
        "## STEP 1. 데이터 불러오기\n",
        "\n",
        "---\n",
        "이번엔 인터넷에서 바로 다운받아 사용하는 방법을 사용해보자:)!"
      ],
      "metadata": {
        "id": "-kly4FD7WrMC"
      }
    },
    {
      "cell_type": "code",
      "source": [
        "urllib.request.urlretrieve(\"https://raw.githubusercontent.com/e9t/nsmc/master/ratings_train.txt\", filename=\"ratings_train.txt\")\n",
        "urllib.request.urlretrieve(\"https://raw.githubusercontent.com/e9t/nsmc/master/ratings_test.txt\", filename=\"ratings_test.txt\")"
      ],
      "metadata": {
        "colab": {
          "base_uri": "https://localhost:8080/"
        },
        "id": "DFav-VbzWXmI",
        "outputId": "80c54d39-45f3-414b-9af0-e5759d626666"
      },
      "execution_count": null,
      "outputs": [
        {
          "output_type": "execute_result",
          "data": {
            "text/plain": [
              "('ratings_test.txt', <http.client.HTTPMessage at 0x7fdc55ca2790>)"
            ]
          },
          "metadata": {},
          "execution_count": 10
        }
      ]
    },
    {
      "cell_type": "code",
      "source": [
        "train_data = pd.read_table('ratings_train.txt')\n",
        "test_data = pd.read_table('ratings_test.txt')"
      ],
      "metadata": {
        "id": "CtEq490qWxsc"
      },
      "execution_count": null,
      "outputs": []
    },
    {
      "cell_type": "code",
      "source": [
        "print('트레인 모양{}, 테스트 모양{}'.format(train_data.shape, test_data.shape))"
      ],
      "metadata": {
        "colab": {
          "base_uri": "https://localhost:8080/"
        },
        "id": "bnsGBzoJWyw3",
        "outputId": "8efc2ea9-be85-4060-ceea-1a2981309fa8"
      },
      "execution_count": null,
      "outputs": [
        {
          "output_type": "stream",
          "name": "stdout",
          "text": [
            "트레인 모양(150000, 3), 테스트 모양(50000, 3)\n"
          ]
        }
      ]
    },
    {
      "cell_type": "code",
      "source": [
        "train_data.head()"
      ],
      "metadata": {
        "colab": {
          "base_uri": "https://localhost:8080/",
          "height": 206
        },
        "id": "uzNuIEusW_Ih",
        "outputId": "4b4b8d84-23c8-42a1-b24a-ca623a1c3c58"
      },
      "execution_count": null,
      "outputs": [
        {
          "output_type": "execute_result",
          "data": {
            "text/plain": [
              "         id                                           document  label\n",
              "0   9976970                                아 더빙.. 진짜 짜증나네요 목소리      0\n",
              "1   3819312                  흠...포스터보고 초딩영화줄....오버연기조차 가볍지 않구나      1\n",
              "2  10265843                                  너무재밓었다그래서보는것을추천한다      0\n",
              "3   9045019                      교도소 이야기구먼 ..솔직히 재미는 없다..평점 조정      0\n",
              "4   6483659  사이몬페그의 익살스런 연기가 돋보였던 영화!스파이더맨에서 늙어보이기만 했던 커스틴 ...      1"
            ],
            "text/html": [
              "\n",
              "  <div id=\"df-bcc6fd4c-e851-4272-9abb-0bd9d8ea6715\">\n",
              "    <div class=\"colab-df-container\">\n",
              "      <div>\n",
              "<style scoped>\n",
              "    .dataframe tbody tr th:only-of-type {\n",
              "        vertical-align: middle;\n",
              "    }\n",
              "\n",
              "    .dataframe tbody tr th {\n",
              "        vertical-align: top;\n",
              "    }\n",
              "\n",
              "    .dataframe thead th {\n",
              "        text-align: right;\n",
              "    }\n",
              "</style>\n",
              "<table border=\"1\" class=\"dataframe\">\n",
              "  <thead>\n",
              "    <tr style=\"text-align: right;\">\n",
              "      <th></th>\n",
              "      <th>id</th>\n",
              "      <th>document</th>\n",
              "      <th>label</th>\n",
              "    </tr>\n",
              "  </thead>\n",
              "  <tbody>\n",
              "    <tr>\n",
              "      <th>0</th>\n",
              "      <td>9976970</td>\n",
              "      <td>아 더빙.. 진짜 짜증나네요 목소리</td>\n",
              "      <td>0</td>\n",
              "    </tr>\n",
              "    <tr>\n",
              "      <th>1</th>\n",
              "      <td>3819312</td>\n",
              "      <td>흠...포스터보고 초딩영화줄....오버연기조차 가볍지 않구나</td>\n",
              "      <td>1</td>\n",
              "    </tr>\n",
              "    <tr>\n",
              "      <th>2</th>\n",
              "      <td>10265843</td>\n",
              "      <td>너무재밓었다그래서보는것을추천한다</td>\n",
              "      <td>0</td>\n",
              "    </tr>\n",
              "    <tr>\n",
              "      <th>3</th>\n",
              "      <td>9045019</td>\n",
              "      <td>교도소 이야기구먼 ..솔직히 재미는 없다..평점 조정</td>\n",
              "      <td>0</td>\n",
              "    </tr>\n",
              "    <tr>\n",
              "      <th>4</th>\n",
              "      <td>6483659</td>\n",
              "      <td>사이몬페그의 익살스런 연기가 돋보였던 영화!스파이더맨에서 늙어보이기만 했던 커스틴 ...</td>\n",
              "      <td>1</td>\n",
              "    </tr>\n",
              "  </tbody>\n",
              "</table>\n",
              "</div>\n",
              "      <button class=\"colab-df-convert\" onclick=\"convertToInteractive('df-bcc6fd4c-e851-4272-9abb-0bd9d8ea6715')\"\n",
              "              title=\"Convert this dataframe to an interactive table.\"\n",
              "              style=\"display:none;\">\n",
              "        \n",
              "  <svg xmlns=\"http://www.w3.org/2000/svg\" height=\"24px\"viewBox=\"0 0 24 24\"\n",
              "       width=\"24px\">\n",
              "    <path d=\"M0 0h24v24H0V0z\" fill=\"none\"/>\n",
              "    <path d=\"M18.56 5.44l.94 2.06.94-2.06 2.06-.94-2.06-.94-.94-2.06-.94 2.06-2.06.94zm-11 1L8.5 8.5l.94-2.06 2.06-.94-2.06-.94L8.5 2.5l-.94 2.06-2.06.94zm10 10l.94 2.06.94-2.06 2.06-.94-2.06-.94-.94-2.06-.94 2.06-2.06.94z\"/><path d=\"M17.41 7.96l-1.37-1.37c-.4-.4-.92-.59-1.43-.59-.52 0-1.04.2-1.43.59L10.3 9.45l-7.72 7.72c-.78.78-.78 2.05 0 2.83L4 21.41c.39.39.9.59 1.41.59.51 0 1.02-.2 1.41-.59l7.78-7.78 2.81-2.81c.8-.78.8-2.07 0-2.86zM5.41 20L4 18.59l7.72-7.72 1.47 1.35L5.41 20z\"/>\n",
              "  </svg>\n",
              "      </button>\n",
              "      \n",
              "  <style>\n",
              "    .colab-df-container {\n",
              "      display:flex;\n",
              "      flex-wrap:wrap;\n",
              "      gap: 12px;\n",
              "    }\n",
              "\n",
              "    .colab-df-convert {\n",
              "      background-color: #E8F0FE;\n",
              "      border: none;\n",
              "      border-radius: 50%;\n",
              "      cursor: pointer;\n",
              "      display: none;\n",
              "      fill: #1967D2;\n",
              "      height: 32px;\n",
              "      padding: 0 0 0 0;\n",
              "      width: 32px;\n",
              "    }\n",
              "\n",
              "    .colab-df-convert:hover {\n",
              "      background-color: #E2EBFA;\n",
              "      box-shadow: 0px 1px 2px rgba(60, 64, 67, 0.3), 0px 1px 3px 1px rgba(60, 64, 67, 0.15);\n",
              "      fill: #174EA6;\n",
              "    }\n",
              "\n",
              "    [theme=dark] .colab-df-convert {\n",
              "      background-color: #3B4455;\n",
              "      fill: #D2E3FC;\n",
              "    }\n",
              "\n",
              "    [theme=dark] .colab-df-convert:hover {\n",
              "      background-color: #434B5C;\n",
              "      box-shadow: 0px 1px 3px 1px rgba(0, 0, 0, 0.15);\n",
              "      filter: drop-shadow(0px 1px 2px rgba(0, 0, 0, 0.3));\n",
              "      fill: #FFFFFF;\n",
              "    }\n",
              "  </style>\n",
              "\n",
              "      <script>\n",
              "        const buttonEl =\n",
              "          document.querySelector('#df-bcc6fd4c-e851-4272-9abb-0bd9d8ea6715 button.colab-df-convert');\n",
              "        buttonEl.style.display =\n",
              "          google.colab.kernel.accessAllowed ? 'block' : 'none';\n",
              "\n",
              "        async function convertToInteractive(key) {\n",
              "          const element = document.querySelector('#df-bcc6fd4c-e851-4272-9abb-0bd9d8ea6715');\n",
              "          const dataTable =\n",
              "            await google.colab.kernel.invokeFunction('convertToInteractive',\n",
              "                                                     [key], {});\n",
              "          if (!dataTable) return;\n",
              "\n",
              "          const docLinkHtml = 'Like what you see? Visit the ' +\n",
              "            '<a target=\"_blank\" href=https://colab.research.google.com/notebooks/data_table.ipynb>data table notebook</a>'\n",
              "            + ' to learn more about interactive tables.';\n",
              "          element.innerHTML = '';\n",
              "          dataTable['output_type'] = 'display_data';\n",
              "          await google.colab.output.renderOutput(dataTable, element);\n",
              "          const docLink = document.createElement('div');\n",
              "          docLink.innerHTML = docLinkHtml;\n",
              "          element.appendChild(docLink);\n",
              "        }\n",
              "      </script>\n",
              "    </div>\n",
              "  </div>\n",
              "  "
            ]
          },
          "metadata": {},
          "execution_count": 13
        }
      ]
    },
    {
      "cell_type": "markdown",
      "source": [
        "## STEP 2. 데이터로더 구성\n",
        "\n",
        "---\n",
        "연습할때 사용한 데이터로더에서는 index -> word / word -> index 의 메서드를 다 알려줬지만, 여기선 직접 만들어야한다.  \n",
        "\n",
        "또한 이번에 다루게 될 nsmc 데이터셋은 전혀 가공되지 않은 텍스트 파일로 이루어져 있다.   \n",
        "\n",
        "이것을 읽어서 `imdb.data_loader()`와 동일하게 동작하는 나만의 `data_loader`를 만들어야한다.  \n",
        "\n",
        "\n",
        "\n",
        "**들어가야할 내용**으로는  \n",
        "- 데이터의 중복 제거\n",
        "- NaN 결측치 제거\n",
        "- 한국어 토크나이저로 토큰화\n",
        "- 불용어(Stopwords) 제거\n",
        "- 사전`word_to_index` 구성\n",
        "- 텍스트 스트링을 사전 인덱스 스트링으로 변환\n",
        "- `X_train`, `y_train`, `X_test`, `y_test`, `word_to_index` 리턴\n"
      ],
      "metadata": {
        "id": "V2VoiG6pXhn4"
      }
    },
    {
      "cell_type": "markdown",
      "source": [
        "### 1) 데이터 중복 및 결측치 제거"
      ],
      "metadata": {
        "id": "d3rBUadGYyue"
      }
    },
    {
      "cell_type": "code",
      "source": [
        "#########train_data 중복 유무 확인##########\n",
        "\n",
        "# document 열의 중복 유무 확인\n",
        "print('==================document 열 중복 확인======================')\n",
        "print(train_data['document'].value_counts())\n",
        "# label 열의 중복 유무 확인\n",
        "print('==================label 열 중복 확인======================')\n",
        "print(train_data['label'].value_counts())"
      ],
      "metadata": {
        "colab": {
          "base_uri": "https://localhost:8080/"
        },
        "id": "WFVzcGkNXDpi",
        "outputId": "f1b47e33-ea55-4411-90b5-f1c6c2fb14db"
      },
      "execution_count": null,
      "outputs": [
        {
          "output_type": "stream",
          "name": "stdout",
          "text": [
            "==================document 열 중복 확인======================\n",
            "굿                                                                                                  181\n",
            "good                                                                                                92\n",
            "최고                                                                                                  85\n",
            "쓰레기                                                                                                 79\n",
            "별로                                                                                                  66\n",
            "                                                                                                  ... \n",
            "이런거 만드는 색휘는 진짜 일부로 욕처묵고싶어서 환장한색휘인듯                                                                   1\n",
            "이영화 평점이 궁금해서 왔는데.너무높다..^^                                                                            1\n",
            "시청자들에게 사과하세여 제작진..낚시성 예고 지친다..보기싫음 말아라 하고 만듬?조세호씨 때문에 넘웃기게 보는데요 낚시그만하시고 예고와 본방이 이어지는 연출부탁드립니다..      1\n",
            "여태본 영화중 단연 최고                                                                                        1\n",
            "한국 영화 최초로 수간하는 내용이 담긴 영화                                                                             1\n",
            "Name: document, Length: 146182, dtype: int64\n",
            "==================label 열 중복 확인======================\n",
            "0    75173\n",
            "1    74827\n",
            "Name: label, dtype: int64\n"
          ]
        }
      ]
    },
    {
      "cell_type": "markdown",
      "source": [
        "document열의 중복을 확인했을 때,  \n",
        "굿, good, 최고, 쓰레기 등의 중복값이 있고, 제외하면 146,183(146,182+1)개의 data가 있는 것을 알 수 있다.  \n",
        "\n",
        "혹시 몰라 진행한 label에는 0, 1 외의 값은 없는 것을 확인했다. \n",
        "\n",
        "\n",
        "그럼 document의 중복을 삭제해주자!\n"
      ],
      "metadata": {
        "id": "leKM_nNSZjcl"
      }
    },
    {
      "cell_type": "code",
      "source": [
        "train_data.drop_duplicates(subset=['document'], inplace=True)"
      ],
      "metadata": {
        "id": "7DK_f1xdZ8Qd"
      },
      "execution_count": null,
      "outputs": []
    },
    {
      "cell_type": "code",
      "source": [
        "# 제외한 후 146,183개가 맞는지 확인하기\n",
        "print('총 샘플의 갯수:', len(train_data))"
      ],
      "metadata": {
        "colab": {
          "base_uri": "https://localhost:8080/"
        },
        "id": "VWGGOBrna2xe",
        "outputId": "f96207df-a7e6-4617-d6d6-9d5b60902a47"
      },
      "execution_count": null,
      "outputs": [
        {
          "output_type": "stream",
          "name": "stdout",
          "text": [
            "총 샘플의 갯수: 146183\n"
          ]
        }
      ]
    },
    {
      "cell_type": "markdown",
      "source": [
        "document와 label에 null값이 있는지 확인하자."
      ],
      "metadata": {
        "id": "x80E7lMmbhV7"
      }
    },
    {
      "cell_type": "code",
      "source": [
        "print(train_data.isnull().sum())"
      ],
      "metadata": {
        "colab": {
          "base_uri": "https://localhost:8080/"
        },
        "id": "uwPAmbdKbEvR",
        "outputId": "9a922def-963d-4292-fd98-e86cd53e7e86"
      },
      "execution_count": null,
      "outputs": [
        {
          "output_type": "stream",
          "name": "stdout",
          "text": [
            "id          0\n",
            "document    1\n",
            "label       0\n",
            "dtype: int64\n"
          ]
        }
      ]
    },
    {
      "cell_type": "code",
      "source": [
        "# Null값 열 확인\n",
        "train_data.loc[train_data['document'].isnull()]"
      ],
      "metadata": {
        "colab": {
          "base_uri": "https://localhost:8080/",
          "height": 81
        },
        "id": "Ve3QH56ouIQI",
        "outputId": "c0062c51-5ab5-4d8b-97e9-156f39a584b6"
      },
      "execution_count": null,
      "outputs": [
        {
          "output_type": "execute_result",
          "data": {
            "text/plain": [
              "            id document  label\n",
              "25857  2172111      NaN      1"
            ],
            "text/html": [
              "\n",
              "  <div id=\"df-2bfd31f5-64aa-4431-8f02-0701b993471c\">\n",
              "    <div class=\"colab-df-container\">\n",
              "      <div>\n",
              "<style scoped>\n",
              "    .dataframe tbody tr th:only-of-type {\n",
              "        vertical-align: middle;\n",
              "    }\n",
              "\n",
              "    .dataframe tbody tr th {\n",
              "        vertical-align: top;\n",
              "    }\n",
              "\n",
              "    .dataframe thead th {\n",
              "        text-align: right;\n",
              "    }\n",
              "</style>\n",
              "<table border=\"1\" class=\"dataframe\">\n",
              "  <thead>\n",
              "    <tr style=\"text-align: right;\">\n",
              "      <th></th>\n",
              "      <th>id</th>\n",
              "      <th>document</th>\n",
              "      <th>label</th>\n",
              "    </tr>\n",
              "  </thead>\n",
              "  <tbody>\n",
              "    <tr>\n",
              "      <th>25857</th>\n",
              "      <td>2172111</td>\n",
              "      <td>NaN</td>\n",
              "      <td>1</td>\n",
              "    </tr>\n",
              "  </tbody>\n",
              "</table>\n",
              "</div>\n",
              "      <button class=\"colab-df-convert\" onclick=\"convertToInteractive('df-2bfd31f5-64aa-4431-8f02-0701b993471c')\"\n",
              "              title=\"Convert this dataframe to an interactive table.\"\n",
              "              style=\"display:none;\">\n",
              "        \n",
              "  <svg xmlns=\"http://www.w3.org/2000/svg\" height=\"24px\"viewBox=\"0 0 24 24\"\n",
              "       width=\"24px\">\n",
              "    <path d=\"M0 0h24v24H0V0z\" fill=\"none\"/>\n",
              "    <path d=\"M18.56 5.44l.94 2.06.94-2.06 2.06-.94-2.06-.94-.94-2.06-.94 2.06-2.06.94zm-11 1L8.5 8.5l.94-2.06 2.06-.94-2.06-.94L8.5 2.5l-.94 2.06-2.06.94zm10 10l.94 2.06.94-2.06 2.06-.94-2.06-.94-.94-2.06-.94 2.06-2.06.94z\"/><path d=\"M17.41 7.96l-1.37-1.37c-.4-.4-.92-.59-1.43-.59-.52 0-1.04.2-1.43.59L10.3 9.45l-7.72 7.72c-.78.78-.78 2.05 0 2.83L4 21.41c.39.39.9.59 1.41.59.51 0 1.02-.2 1.41-.59l7.78-7.78 2.81-2.81c.8-.78.8-2.07 0-2.86zM5.41 20L4 18.59l7.72-7.72 1.47 1.35L5.41 20z\"/>\n",
              "  </svg>\n",
              "      </button>\n",
              "      \n",
              "  <style>\n",
              "    .colab-df-container {\n",
              "      display:flex;\n",
              "      flex-wrap:wrap;\n",
              "      gap: 12px;\n",
              "    }\n",
              "\n",
              "    .colab-df-convert {\n",
              "      background-color: #E8F0FE;\n",
              "      border: none;\n",
              "      border-radius: 50%;\n",
              "      cursor: pointer;\n",
              "      display: none;\n",
              "      fill: #1967D2;\n",
              "      height: 32px;\n",
              "      padding: 0 0 0 0;\n",
              "      width: 32px;\n",
              "    }\n",
              "\n",
              "    .colab-df-convert:hover {\n",
              "      background-color: #E2EBFA;\n",
              "      box-shadow: 0px 1px 2px rgba(60, 64, 67, 0.3), 0px 1px 3px 1px rgba(60, 64, 67, 0.15);\n",
              "      fill: #174EA6;\n",
              "    }\n",
              "\n",
              "    [theme=dark] .colab-df-convert {\n",
              "      background-color: #3B4455;\n",
              "      fill: #D2E3FC;\n",
              "    }\n",
              "\n",
              "    [theme=dark] .colab-df-convert:hover {\n",
              "      background-color: #434B5C;\n",
              "      box-shadow: 0px 1px 3px 1px rgba(0, 0, 0, 0.15);\n",
              "      filter: drop-shadow(0px 1px 2px rgba(0, 0, 0, 0.3));\n",
              "      fill: #FFFFFF;\n",
              "    }\n",
              "  </style>\n",
              "\n",
              "      <script>\n",
              "        const buttonEl =\n",
              "          document.querySelector('#df-2bfd31f5-64aa-4431-8f02-0701b993471c button.colab-df-convert');\n",
              "        buttonEl.style.display =\n",
              "          google.colab.kernel.accessAllowed ? 'block' : 'none';\n",
              "\n",
              "        async function convertToInteractive(key) {\n",
              "          const element = document.querySelector('#df-2bfd31f5-64aa-4431-8f02-0701b993471c');\n",
              "          const dataTable =\n",
              "            await google.colab.kernel.invokeFunction('convertToInteractive',\n",
              "                                                     [key], {});\n",
              "          if (!dataTable) return;\n",
              "\n",
              "          const docLinkHtml = 'Like what you see? Visit the ' +\n",
              "            '<a target=\"_blank\" href=https://colab.research.google.com/notebooks/data_table.ipynb>data table notebook</a>'\n",
              "            + ' to learn more about interactive tables.';\n",
              "          element.innerHTML = '';\n",
              "          dataTable['output_type'] = 'display_data';\n",
              "          await google.colab.output.renderOutput(dataTable, element);\n",
              "          const docLink = document.createElement('div');\n",
              "          docLink.innerHTML = docLinkHtml;\n",
              "          element.appendChild(docLink);\n",
              "        }\n",
              "      </script>\n",
              "    </div>\n",
              "  </div>\n",
              "  "
            ]
          },
          "metadata": {},
          "execution_count": 18
        }
      ]
    },
    {
      "cell_type": "code",
      "source": [
        "# Null 값 샘플 제거\n",
        "train_data = train_data.dropna()\n",
        "#null 값 제거 확인\n",
        "print(train_data.isnull().sum())"
      ],
      "metadata": {
        "colab": {
          "base_uri": "https://localhost:8080/"
        },
        "id": "TbJm2Q0svECg",
        "outputId": "9b8718a6-9558-4412-fd6b-198f925868da"
      },
      "execution_count": null,
      "outputs": [
        {
          "output_type": "stream",
          "name": "stdout",
          "text": [
            "id          0\n",
            "document    0\n",
            "label       0\n",
            "dtype: int64\n"
          ]
        }
      ]
    },
    {
      "cell_type": "code",
      "source": [
        "# 제외한 후 146,182개가 맞는지 확인하기\n",
        "print('총 샘플의 갯수:', len(train_data))"
      ],
      "metadata": {
        "colab": {
          "base_uri": "https://localhost:8080/"
        },
        "id": "iZJ-qw06vilW",
        "outputId": "e23fb379-0694-4583-d8b5-d18add60f322"
      },
      "execution_count": null,
      "outputs": [
        {
          "output_type": "stream",
          "name": "stdout",
          "text": [
            "총 샘플의 갯수: 146182\n"
          ]
        }
      ]
    },
    {
      "cell_type": "markdown",
      "source": [
        "### 2) 토큰화 등을 합친 함수 만들기\n",
        "\n",
        "---\n",
        "\n",
        "num_words는 한국인이 평균 1일 사용 단어수가 15,000~16,000개라고하니 거기에 맞춰 15,000개로 설정한다. "
      ],
      "metadata": {
        "id": "F1A5oNYMx5J6"
      }
    },
    {
      "cell_type": "code",
      "source": [
        "# tokenizer = Mecab()\n",
        "# #다운받은 stopwords  적용\n",
        "# with open('/content/drive/MyDrive/COLAB_data/EX-9/stopwords.txt', 'r',encoding='ISO-8859-1') as f: #우분투라 읽기 오류로 인해 'encoding='ISO-8859-1'추가\n",
        "#     list_file = f.readlines()\n",
        "# stopwords = list_file[0].split(\",\")\n",
        "\n",
        "\n",
        "# def load_data(train_data, test_data, num_words=15000):\n",
        "    \n",
        "#     #결측치 제거\n",
        "#     train_data.drop_duplicates(subset = ['document'], inplace = True)\n",
        "#     train_data = train_data.dropna()\n",
        "#     test_data.drop_duplicates(subset = ['document'], inplace = True)\n",
        "#     test_data = test_data.dropna()\n",
        "\n",
        "#     #토크나이져, 불용어 제거\n",
        "#     X_train = []\n",
        "#     for sentence in train_data['document']:\n",
        "#         sentence = re.sub(\"[^가-힣]\",\" \",sentence) #한글제외(ㅋㅋㅋ, ㅎㅎㅎㅎ 같은 것들도) 공백처리\n",
        "#         temp_x = tokenizer.morphs(sentence) #morphs : 형태소 추출\n",
        "#         temp_x = [word for word in temp_x if not word in stopwords] #불용어 제거\n",
        "#         X_train.append(temp_x)\n",
        "\n",
        "#     X_test = []\n",
        "#     for sentence in test_data['document']:\n",
        "#         sentence = re.sub(\"[^가-힣]\",\" \",sentence)\n",
        "#         temp_x = tokenizer.morphs(sentence)\n",
        "#         temp_x = [word for word in temp_x if not word in stopwords]\n",
        "#         X_test.append(temp_x)\n",
        "\n",
        "#     # 보캡만들기 \n",
        "#     words = np.concatenate(X_train).tolist() # 콘캡으로 합쳐주기\n",
        "#     counter = Counter(words)\n",
        "#     counter = counter.most_common(10000-3) #BOS, PAD, UNK 빼고 빈도순 정렬\n",
        "#     vocab = ['<PAD>', '<BOS>', '<UNK>'] + [key for key, num in counter] #BOS, PAD, UNK 값 수동 입력\n",
        "    \n",
        "#     #word to index 만들기 ('인덱스:단어' 조합 -> '단어:인덱스'로 변환)\n",
        "#     word_to_index = {word:index for index, word in enumerate(vocab)}\n",
        "\n",
        "#     #전체 문장 word_to_index로 리스트 만들어주기\n",
        "#     def wordlist_to_indexlist(wordlist):\n",
        "#         return [word_to_index[word] if word in word_to_index else word_to_index['<UNK>'] for word in wordlist]\n",
        "\n",
        "#     #text data -> index로 바꿔주기\n",
        "#     X_train = list(map(wordlist_to_indexlist, X_train))\n",
        "#     X_test = list(map(wordlist_to_indexlist, X_test))\n",
        "\n",
        "#     #X_train, y_train, X_test, y_test, word_to_index 리턴\n",
        "#     return X_train, np.array(list(train_data['label'])), X_test, np.array(list(test_data['label'])), word_to_index\n",
        "\n",
        "# #함수에서 각각 입력해주기\n",
        "# X_train_, y_train_, X_test_, y_test_, word_to_index = load_data(train_data, test_data) "
      ],
      "metadata": {
        "id": "t_2nJEeYvrSf"
      },
      "execution_count": null,
      "outputs": []
    },
    {
      "cell_type": "markdown",
      "source": [
        "### 번외) 하기 (1-1) ~ (3-1)까지 Mecab을 사용한 토크나이저를 통해 모델을 돌렸으나, 성능이 만족스럽지 못해 Okt로 바꾸고 형태소 분석을 더 자세히 수정하기로함\n",
        "\n",
        "[참고 블로그](https://haystar.tistory.com/11)"
      ],
      "metadata": {
        "id": "aNcmafnEvRYQ"
      }
    },
    {
      "cell_type": "code",
      "source": [
        "#토크나이저 변경\n",
        "tokenizer = Okt()\n",
        "#띄어쓰기 조정 \n",
        "spacing = Spacing()\n",
        "#다운받은 stopwords  적용\n",
        "with open('/content/drive/MyDrive/COLAB_data/EX-9/stopwords.txt', 'r',encoding='ISO-8859-1') as f:\n",
        "    list_file = f.readlines()\n",
        "stopwords = list_file[0].split(\",\")\n",
        "\n",
        "def load_data(train_data, test_data, num_words=15000):\n",
        "    \n",
        "    #결측치 제거\n",
        "    train_data.drop_duplicates(subset = ['document'], inplace = True)\n",
        "    train_data = train_data.dropna()\n",
        "    test_data.drop_duplicates(subset = ['document'], inplace = True)\n",
        "    test_data = test_data.dropna()\n",
        "\n",
        "    #정규화 처리 \n",
        "    X_train = []\n",
        "    for sentence in train_data['document']:\n",
        "        sentence = re.sub(\"[^가-힣]\",\" \",sentence) #한글제외(ㅋㅋㅋ, ㅎㅎㅎㅎ 같은 것들도) 공백처리\n",
        "        sentence = spacing(sentence) #띄어쓰기\n",
        "        spelled_sent = spell_checker.check(sentence) #맞춤법 검사\n",
        "        sentence = spelled_sent.checked #맞춤법 검사\n",
        "        temp_x = tokenizer.morphs(sentence) #morphs : 형태소 추출\n",
        "        temp_x = [word for word in temp_x if not word in stopwords] #불용어 제거\n",
        "        X_train.append(temp_x)\n",
        "\n",
        "    X_test = []\n",
        "    for sentence in test_data['document']:\n",
        "        sentence = re.sub(\"[^가-힣]\",\" \",sentence) #한글제외(ㅋㅋㅋ, ㅎㅎㅎㅎ 같은 것들도) 공백처리\n",
        "        sentence = spacing(sentence) #띄어쓰기\n",
        "        spelled_sent = spell_checker.check(sentence) #맞춤법 검사\n",
        "        sentence = spelled_sent.checked #맞춤법 검사\n",
        "        temp_x = tokenizer.morphs(sentence) #morphs : 형태소 추출\n",
        "        temp_x = [word for word in temp_x if not word in stopwords] #불용어 제거\n",
        "        X_test.append(temp_x)\n",
        "\n",
        "    # 보캡만들기 \n",
        "    words = np.concatenate(X_train).tolist() # 콘캡으로 합쳐주기\n",
        "    counter = Counter(words)\n",
        "    counter = counter.most_common(10000-3) #BOS, PAD, UNK 빼고 빈도순 정렬\n",
        "    vocab = ['<PAD>', '<BOS>', '<UNK>'] + [key for key, num in counter] #BOS, PAD, UNK 값 수동 입력\n",
        "    \n",
        "    #word to index 만들기 ('인덱스:단어' 조합 -> '단어:인덱스'로 변환)\n",
        "    word_to_index = {word:index for index, word in enumerate(vocab)}\n",
        "\n",
        "    #전체 문장 word_to_index로 리스트 만들어주기\n",
        "    def wordlist_to_indexlist(wordlist):\n",
        "        return [word_to_index[word] if word in word_to_index else word_to_index['<UNK>'] for word in wordlist]\n",
        "\n",
        "    #text data -> index로 바꿔주기\n",
        "    X_train = list(map(wordlist_to_indexlist, X_train))\n",
        "    X_test = list(map(wordlist_to_indexlist, X_test))\n",
        "\n",
        "    #X_train, y_train, X_test, y_test, word_to_index 리턴\n",
        "    return X_train, np.array(list(train_data['label'])), X_test, np.array(list(test_data['label'])), word_to_index\n",
        "\n",
        "#함수에서 각각 입력해주기\n",
        "X_train_, y_train_, X_test_, y_test_, word_to_index = load_data(train_data, test_data) \n"
      ],
      "metadata": {
        "id": "iUYvQednxvja"
      },
      "execution_count": null,
      "outputs": []
    },
    {
      "cell_type": "markdown",
      "source": [
        "index to word까지 만들어주기"
      ],
      "metadata": {
        "id": "2UjuUM1n8rrx"
      }
    },
    {
      "cell_type": "code",
      "source": [
        "index_to_word = {index:word for word, index in word_to_index.items()}"
      ],
      "metadata": {
        "id": "luh03PCI249a"
      },
      "execution_count": null,
      "outputs": []
    },
    {
      "cell_type": "markdown",
      "source": [
        "### save point"
      ],
      "metadata": {
        "id": "krsGd1Ku5rNn"
      }
    },
    {
      "cell_type": "code",
      "source": [
        "X_train = X_train_\n",
        "y_train = y_train_\n",
        "X_test = X_test_\n",
        "y_test = y_test_"
      ],
      "metadata": {
        "id": "gi7XjMB25x9o"
      },
      "execution_count": null,
      "outputs": []
    },
    {
      "cell_type": "markdown",
      "source": [
        "### 3) 인코더, 디코더로 들어갈 인덱스리스트 변환 함수 만들어주기\n",
        "---\n",
        "문장에 `<BOS>`, `<EOS>`, `<UNK>`넣어서 인덱스화 변환"
      ],
      "metadata": {
        "id": "5JcvOFjO_ICW"
      }
    },
    {
      "cell_type": "code",
      "source": [
        "# sentence랑 word_to_index를 활용하여 변환함수만들기\n",
        "def get_encoded_sentence(sentence, word_to_index):\n",
        "    return [word_to_index['<BOS>']]+[word_to_index[word] if word in word_to_index else word_to_index['UNK'] for word in sentence.split()]\n",
        "\n",
        "# 여러 문장 인코더 처리 함수\n",
        "def get_encoded_sentences(sentences, word_to_index):\n",
        "    return [get_encoded_sentence(sentence, word_to_index) for sentence in sentences]\n",
        "\n",
        "# 디코더 함수(sentence)\n",
        "def get_decoded_sentence(encoded_sentence, index_to_word):\n",
        "    return ' '.join(index_to_word[index] if index in index_to_word else '<UNK>' for index in encoded_sentence[1:]) #<BOS>제외\n",
        "\n",
        "# 여러 문장용 디코더\n",
        "def get_decoded_sentences(encoded_sentences, index_to_word):\n",
        "    return [get_decoded_sentence(encoded_sentences, index_to_word) for encoded_sentence in encoded_sentences]"
      ],
      "metadata": {
        "id": "6sYPOb7r8vCo"
      },
      "execution_count": null,
      "outputs": []
    },
    {
      "cell_type": "markdown",
      "source": [
        "## STEP 3. 모델 구성을 위한 데이터 분석 및 가공\n",
        "\n",
        "---\n",
        "합리적인 데이터셋 maxlen 설정, padding 추가해서 데이터셋"
      ],
      "metadata": {
        "id": "EJT-WJJwC2qk"
      }
    },
    {
      "cell_type": "markdown",
      "source": [
        "### 1) maxlen 설정"
      ],
      "metadata": {
        "id": "8qiQTr7QLRE5"
      }
    },
    {
      "cell_type": "code",
      "source": [
        "total_data_list = X_train + X_test\n",
        "\n",
        "num_sentence = [len(data_list) for data_list in total_data_list]\n",
        "num_sentence = np.array(num_sentence)\n",
        "\n",
        "print('리뷰의 평균 길이: {}'.format(np.mean(num_sentence)))"
      ],
      "metadata": {
        "id": "Fq3hiL2WHw3q",
        "colab": {
          "base_uri": "https://localhost:8080/"
        },
        "outputId": "55e23130-d071-457b-a382-462ca0ca5879"
      },
      "execution_count": null,
      "outputs": [
        {
          "output_type": "stream",
          "name": "stdout",
          "text": [
            "리뷰의 평균 길이: 16.306590081857692\n"
          ]
        }
      ]
    },
    {
      "cell_type": "code",
      "source": [
        "print('리뷰의 평균 길이: {}'.format(np.mean(num_sentence)))\n",
        "print('리뷰의 최대길이: {}'.format(np.max(num_sentence)))\n",
        "print('문장길이 표준편차 : {} '.format(np.std(num_sentence)))\n",
        "\n",
        "plt.subplot(1,2,1)\n",
        "plt.boxplot(num_sentence)\n",
        "plt.subplot(1,2,2)\n",
        "plt.hist(num_sentence, bins=50)\n",
        "sns.distplot(num_sentence)\n",
        "plt.show()\n"
      ],
      "metadata": {
        "id": "mJc_tzrlHvZr",
        "colab": {
          "base_uri": "https://localhost:8080/",
          "height": 372
        },
        "outputId": "b8466560-3510-4f9e-d65c-e2cafd45cf78"
      },
      "execution_count": null,
      "outputs": [
        {
          "output_type": "stream",
          "name": "stdout",
          "text": [
            "리뷰의 평균 길이: 16.306590081857692\n",
            "리뷰의 최대길이: 95\n",
            "문장길이 표준편차 : 13.978742332039293 \n"
          ]
        },
        {
          "output_type": "stream",
          "name": "stderr",
          "text": [
            "/usr/local/lib/python3.7/dist-packages/seaborn/distributions.py:2619: FutureWarning: `distplot` is a deprecated function and will be removed in a future version. Please adapt your code to use either `displot` (a figure-level function with similar flexibility) or `histplot` (an axes-level function for histograms).\n",
            "  warnings.warn(msg, FutureWarning)\n"
          ]
        },
        {
          "output_type": "display_data",
          "data": {
            "text/plain": [
              "<Figure size 432x288 with 2 Axes>"
            ],
            "image/png": "[encoded data removed]"
          },
          "metadata": {
            "needs_background": "light"
          }
        }
      ]
    },
    {
      "cell_type": "markdown",
      "source": [
        "리뷰의 길이가 많이 길지 않고, 리뷰의 길이가 길수록 좋은 데이터라는 생각으로 모두 가져가기로 결정!"
      ],
      "metadata": {
        "id": "wwn0JHGpI3We"
      }
    },
    {
      "cell_type": "markdown",
      "source": [
        "### 2) X_train, X_test Padding 시키기\n",
        "\n",
        "---\n",
        "나중에 RNN할것을 염두에 두고 패딩을 PRE에 줘본다.\n",
        "\n",
        "word vector dim은 보통 300~400 사이즈를 준다고 하니, 300으로 설정한다."
      ],
      "metadata": {
        "id": "N99QZ7AfLT1e"
      }
    },
    {
      "cell_type": "code",
      "source": [
        "#maxlen은 앞서구한 최대값 116으로 넣어준다.\n",
        "maxlen = int(np.max(num_sentence))\n",
        "\n",
        "X_train = tf.keras.preprocessing.sequence.pad_sequences(X_train,\n",
        "                                                        value = word_to_index['<PAD>'],\n",
        "                                                        padding = 'pre',\n",
        "                                                        maxlen = maxlen)\n",
        "\n",
        "X_test = tf.keras.preprocessing.sequence.pad_sequences(X_test,\n",
        "                                                       value = word_to_index['<PAD>'],\n",
        "                                                       padding = 'pre',\n",
        "                                                       maxlen = maxlen)\n",
        "\n",
        "print('패딩 적용한 shape : X_train{}, X_test{}'.format(X_train.shape, X_test.shape))"
      ],
      "metadata": {
        "id": "prgkfdOIIusT",
        "colab": {
          "base_uri": "https://localhost:8080/"
        },
        "outputId": "d1856808-9f8a-4ddd-f4d9-8796ca654384"
      },
      "execution_count": null,
      "outputs": [
        {
          "output_type": "stream",
          "name": "stdout",
          "text": [
            "패딩 적용한 shape : X_train(146182, 95), X_test(49157, 95)\n"
          ]
        }
      ]
    },
    {
      "cell_type": "code",
      "source": [
        "print('shape : X_train{}, X_test{}'.format(X_train.shape, X_test.shape))\n",
        "print('shape : y_train{}, y_test{}'.format(y_train.shape, y_test.shape))"
      ],
      "metadata": {
        "id": "udfyeEZhIbIl",
        "colab": {
          "base_uri": "https://localhost:8080/"
        },
        "outputId": "4fb37445-55ed-433f-81ca-0c6f700d32c7"
      },
      "execution_count": null,
      "outputs": [
        {
          "output_type": "stream",
          "name": "stdout",
          "text": [
            "shape : X_train(146182, 95), X_test(49157, 95)\n",
            "shape : y_train(146182,), y_test(49157,)\n"
          ]
        }
      ]
    },
    {
      "cell_type": "markdown",
      "source": [
        "## STEP 4. 모델구성 및 validation set 구성\n",
        "\n",
        "---\n",
        "모델은 3가지 이상 다양하게 구성해보자"
      ],
      "metadata": {
        "id": "0YDXRXU_SYEg"
      }
    },
    {
      "cell_type": "markdown",
      "source": [
        "### 1) validation set 나누기\n",
        "\n",
        "---\n",
        "validation은 train의 20%로 설정"
      ],
      "metadata": {
        "id": "1zWSy0znSh_C"
      }
    },
    {
      "cell_type": "code",
      "source": [
        "val_num = int(len(X_train) * 0.2)\n",
        "X_val = X_train[:val_num]\n",
        "part_X_train = X_train[val_num:]\n",
        "y_val = y_train[:val_num]\n",
        "part_y_train = y_train[val_num:]\n",
        "\n",
        "print('총 데이터 갯수 : {}'.format(len(X_train)))\n",
        "print('validation number : {}'.format(val_num))\n",
        "print('나눠준 데이터 셋 모양 : x_train{}, x_val{}, y_train{}, y_val{}'.format(part_X_train.shape, X_val.shape, part_y_train.shape, y_val.shape))"
      ],
      "metadata": {
        "id": "9TY5u-mzJLsE",
        "colab": {
          "base_uri": "https://localhost:8080/"
        },
        "outputId": "97e03499-a4a7-4f61-e255-7e1b6ef98d83"
      },
      "execution_count": null,
      "outputs": [
        {
          "output_type": "stream",
          "name": "stdout",
          "text": [
            "총 데이터 갯수 : 146182\n",
            "validation number : 29236\n",
            "나눠준 데이터 셋 모양 : x_train(116946, 95), x_val(29236, 95), y_train(116946,), y_val(29236,)\n"
          ]
        }
      ]
    },
    {
      "cell_type": "markdown",
      "source": [
        "###2) 모델 구성하기\n",
        "---\n",
        " - vocab_size = 15000 \n",
        " -  word_vector_dim = 256\n",
        " -  모델 구성\n",
        "    - (1-1) NLP쪽 모델만 사용한 LSTM 모델\n",
        "    - (1-2) NLP쪽 모델만 사용한 GRU 모델\n",
        "    - (2) 1D CNN을 이용한 모델\n",
        "    - (3) 1D CNN + LSTM 결합 모델\n",
        "- optimizer : adam (가장 보편적으로 사용되는 adam 사용)"
      ],
      "metadata": {
        "id": "K4JDQclochbn"
      }
    },
    {
      "cell_type": "markdown",
      "source": [
        "#### (1-1) NLP쪽 모델만 사용한 LSTM 모델"
      ],
      "metadata": {
        "id": "Yoj_wT-3t_dT"
      }
    },
    {
      "cell_type": "markdown",
      "source": [
        "![스크린샷, 2022-06-07 18-10-52.png](data:image/png;base64,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)"
      ],
      "metadata": {
        "id": "omiNJt0UbzCj"
      }
    },
    {
      "cell_type": "code",
      "source": [
        "vocab_size = 15000\n",
        "word_vector_dim = 256\n",
        "hidden_units = 128\n",
        "\n",
        "model_1 = tf.keras.Sequential()\n",
        "#임베딩층\n",
        "model_1.add(tf.keras.layers.Embedding(vocab_size, word_vector_dim, input_shape = (None, )))\n",
        "#LSTM층\n",
        "model_1.add(tf.keras.layers.LSTM(hidden_units))\n",
        "model_1.add(tf.keras.layers.Dense(8, activation = 'relu'))\n",
        "model_1.add(tf.keras.layers.Dense(1, activation = 'sigmoid'))\n"
      ],
      "metadata": {
        "id": "2pehs_Zqmiuj"
      },
      "execution_count": null,
      "outputs": []
    },
    {
      "cell_type": "code",
      "source": [
        "model_1.summary()"
      ],
      "metadata": {
        "id": "Hwr4hiExS1Sg",
        "colab": {
          "base_uri": "https://localhost:8080/"
        },
        "outputId": "ed4ce59d-ac4c-4311-f20b-361851279182"
      },
      "execution_count": null,
      "outputs": [
        {
          "output_type": "stream",
          "name": "stdout",
          "text": [
            "Model: \"sequential\"\n",
            "_________________________________________________________________\n",
            "Layer (type)                 Output Shape              Param #   \n",
            "=================================================================\n",
            "embedding (Embedding)        (None, None, 256)         3840000   \n",
            "_________________________________________________________________\n",
            "lstm (LSTM)                  (None, 128)               197120    \n",
            "_________________________________________________________________\n",
            "dense (Dense)                (None, 8)                 1032      \n",
            "_________________________________________________________________\n",
            "dense_1 (Dense)              (None, 1)                 9         \n",
            "=================================================================\n",
            "Total params: 4,038,161\n",
            "Trainable params: 4,038,161\n",
            "Non-trainable params: 0\n",
            "_________________________________________________________________\n"
          ]
        }
      ]
    },
    {
      "cell_type": "code",
      "source": [
        "tf.keras.utils.plot_model(model_1)"
      ],
      "metadata": {
        "id": "Q1mg0rNBtydi",
        "colab": {
          "base_uri": "https://localhost:8080/",
          "height": 466
        },
        "outputId": "24fe942a-8754-4c80-96ca-f787afd9338d"
      },
      "execution_count": null,
      "outputs": [
        {
          "output_type": "execute_result",
          "data": {
            "text/plain": [
              "<IPython.core.display.Image object>"
            ],
            "image/png": "[encoded data removed]"
          },
          "metadata": {},
          "execution_count": 31
        }
      ]
    },
    {
      "cell_type": "markdown",
      "source": [
        "LSTM층 1개, dense층 2개를 사용한 모델을 생성했다.  \n",
        "이제 컴파일해서 돌려보자!"
      ],
      "metadata": {
        "id": "sL6Kkd9Ls6K0"
      }
    },
    {
      "cell_type": "markdown",
      "source": [
        "##STEP 4. 모델훈련 개시"
      ],
      "metadata": {
        "id": "UhZBO-da__CO"
      }
    },
    {
      "cell_type": "code",
      "source": [
        "es = EarlyStopping(monitor = 'val_loss', mode = 'min', verbose = 1, patience = 4)\n",
        "mc = ModelCheckpoint('best_model.h5', monitor='val_accuracy', mode='max', verbose=1, save_best_only=True)\n",
        "\n",
        "epochs = 20\n",
        "\n",
        "model_1.compile(optimizer = 'adam', loss = 'binary_crossentropy', metrics = ['accuracy'])\n",
        "history_1 = model_1.fit(part_X_train,\n",
        "                      part_y_train,\n",
        "                      epochs = epochs,\n",
        "                      callbacks = [es, mc],\n",
        "                      batch_size = 512,\n",
        "                      validation_data = (X_val, y_val))"
      ],
      "metadata": {
        "id": "trdQm_YNuYRR",
        "colab": {
          "base_uri": "https://localhost:8080/"
        },
        "outputId": "8618546e-ade4-4999-a0c6-4c2e7c9f01db"
      },
      "execution_count": null,
      "outputs": [
        {
          "output_type": "stream",
          "name": "stdout",
          "text": [
            "Epoch 1/20\n",
            "229/229 [==============================] - 11s 27ms/step - loss: 0.4303 - accuracy: 0.7997 - val_loss: 0.3498 - val_accuracy: 0.8440\n",
            "\n",
            "Epoch 00001: val_accuracy improved from -inf to 0.84399, saving model to best_model.h5\n",
            "Epoch 2/20\n",
            "229/229 [==============================] - 6s 24ms/step - loss: 0.3268 - accuracy: 0.8580 - val_loss: 0.3408 - val_accuracy: 0.8472\n",
            "\n",
            "Epoch 00002: val_accuracy improved from 0.84399 to 0.84724, saving model to best_model.h5\n",
            "Epoch 3/20\n",
            "229/229 [==============================] - 6s 25ms/step - loss: 0.2922 - accuracy: 0.8728 - val_loss: 0.3424 - val_accuracy: 0.8480\n",
            "\n",
            "Epoch 00003: val_accuracy improved from 0.84724 to 0.84803, saving model to best_model.h5\n",
            "Epoch 4/20\n",
            "229/229 [==============================] - 6s 25ms/step - loss: 0.2626 - accuracy: 0.8857 - val_loss: 0.3522 - val_accuracy: 0.8507\n",
            "\n",
            "Epoch 00004: val_accuracy improved from 0.84803 to 0.85073, saving model to best_model.h5\n",
            "Epoch 5/20\n",
            "229/229 [==============================] - 6s 25ms/step - loss: 0.2369 - accuracy: 0.8972 - val_loss: 0.3720 - val_accuracy: 0.8501\n",
            "\n",
            "Epoch 00005: val_accuracy did not improve from 0.85073\n",
            "Epoch 6/20\n",
            "229/229 [==============================] - 6s 26ms/step - loss: 0.2163 - accuracy: 0.9067 - val_loss: 0.3978 - val_accuracy: 0.8494\n",
            "\n",
            "Epoch 00006: val_accuracy did not improve from 0.85073\n",
            "Epoch 00006: early stopping\n"
          ]
        }
      ]
    },
    {
      "cell_type": "code",
      "source": [
        "loaded_model_1 = load_model('best_model.h5')\n",
        "print(\"\\n 테스트 정확도: %.4f\" % (loaded_model_1.evaluate(X_test, y_test)[1]))"
      ],
      "metadata": {
        "id": "YPsn3ruDG4Xs",
        "colab": {
          "base_uri": "https://localhost:8080/"
        },
        "outputId": "85a43ddf-c629-4973-865e-cdb5d7d65f10"
      },
      "execution_count": null,
      "outputs": [
        {
          "output_type": "stream",
          "name": "stdout",
          "text": [
            "1537/1537 [==============================] - 6s 3ms/step - loss: 0.3562 - accuracy: 0.8469\n",
            "\n",
            " 테스트 정확도: 0.8469\n"
          ]
        }
      ]
    },
    {
      "cell_type": "code",
      "source": [
        "results = model_1.evaluate(X_test,  y_test, verbose=2)\n",
        "\n",
        "print(results)"
      ],
      "metadata": {
        "id": "DLgxS8kubIly",
        "colab": {
          "base_uri": "https://localhost:8080/"
        },
        "outputId": "1bfb35f1-34ef-4182-b78f-6152c99eb908"
      },
      "execution_count": null,
      "outputs": [
        {
          "output_type": "stream",
          "name": "stdout",
          "text": [
            "1537/1537 - 4s - loss: 0.3986 - accuracy: 0.8464\n",
            "[0.3985878825187683, 0.8464104533195496]\n"
          ]
        }
      ]
    },
    {
      "cell_type": "code",
      "source": [
        "history_1_dict = history_1.history\n",
        "print(history_1_dict.keys()) "
      ],
      "metadata": {
        "id": "yjJWEn7Py1J1",
        "colab": {
          "base_uri": "https://localhost:8080/"
        },
        "outputId": "3a0887d9-9b05-4be3-c9a9-f6d1230fe0ea"
      },
      "execution_count": null,
      "outputs": [
        {
          "output_type": "stream",
          "name": "stdout",
          "text": [
            "dict_keys(['loss', 'accuracy', 'val_loss', 'val_accuracy'])\n"
          ]
        }
      ]
    },
    {
      "cell_type": "markdown",
      "source": [
        "## STEP 6. Loss, Accuracy 그래프 시각화"
      ],
      "metadata": {
        "id": "Oq3JukpDAJst"
      }
    },
    {
      "cell_type": "code",
      "source": [
        "acc = history_1_dict['accuracy']\n",
        "val_acc = history_1_dict['val_accuracy']\n",
        "loss = history_1_dict['loss']\n",
        "val_loss = history_1_dict['val_loss']\n",
        "\n",
        "epochs = range(1, len(acc) + 1)\n",
        "\n",
        "# \"bo\"는 \"파란색 점\"입니다\n",
        "plt.plot(epochs, loss, 'bo', label='Training loss')\n",
        "# b는 \"파란 실선\"입니다\n",
        "plt.plot(epochs, val_loss, 'r', label='Validation loss')\n",
        "plt.title('(1-1) Training and validation loss')\n",
        "plt.xlabel('Epochs')\n",
        "plt.ylabel('Loss')\n",
        "plt.legend()\n",
        "\n",
        "plt.show()"
      ],
      "metadata": {
        "id": "2ivQAMMZ-kbY",
        "colab": {
          "base_uri": "https://localhost:8080/",
          "height": 295
        },
        "outputId": "10492fbb-291a-44bd-d6b9-c18ed7d50c15"
      },
      "execution_count": null,
      "outputs": [
        {
          "output_type": "display_data",
          "data": {
            "text/plain": [
              "<Figure size 432x288 with 1 Axes>"
            ],
            "image/png": "[encoded data removed]"
          },
          "metadata": {
            "needs_background": "light"
          }
        }
      ]
    },
    {
      "cell_type": "markdown",
      "source": [
        "epochs 2회 이상부터 과적합이 되는 것을 알 수 있다. "
      ],
      "metadata": {
        "id": "_WrTimHzFObK"
      }
    },
    {
      "cell_type": "code",
      "source": [
        "plt.clf()   # 그림을 초기화합니다\n",
        "\n",
        "plt.plot(epochs, acc, 'bo', label='Training acc')\n",
        "plt.plot(epochs, val_acc, 'r', label='Validation acc')\n",
        "plt.title('(1-1) Training and validation loss')\n",
        "plt.xlabel('Epochs')\n",
        "plt.ylabel('Accuracy')\n",
        "plt.legend()\n",
        "\n",
        "plt.show()"
      ],
      "metadata": {
        "id": "hzuu1gsk-zfJ",
        "colab": {
          "base_uri": "https://localhost:8080/",
          "height": 295
        },
        "outputId": "c04f4c88-7d19-44cf-cce8-f604d92ca790"
      },
      "execution_count": null,
      "outputs": [
        {
          "output_type": "display_data",
          "data": {
            "text/plain": [
              "<Figure size 432x288 with 1 Axes>"
            ],
            "image/png": "[encoded data removed]"
          },
          "metadata": {
            "needs_background": "light"
          }
        }
      ]
    },
    {
      "cell_type": "markdown",
      "source": [
        "정확도 또한 epochs를 지날수록 점점 감소하여 과적합이 되고 있음을 알 수 있다."
      ],
      "metadata": {
        "id": "MI0blxwnFYHT"
      }
    },
    {
      "cell_type": "markdown",
      "source": [
        "#### (1-2) NLP쪽 모델만 사용한 GRU 모델"
      ],
      "metadata": {
        "id": "i_q0of6dA3YV"
      }
    },
    {
      "cell_type": "code",
      "source": [
        "vocab_size = 15000\n",
        "word_vector_dim = 256\n",
        "hidden_units = 128\n",
        "\n",
        "model_2 = tf.keras.Sequential()\n",
        "#임베딩층\n",
        "model_2.add(tf.keras.layers.Embedding(vocab_size, word_vector_dim, input_shape = (None, )))\n",
        "#GRU층\n",
        "model_2.add(tf.keras.layers.GRU(hidden_units))\n",
        "model_2.add(tf.keras.layers.Dense(8, activation = 'relu'))\n",
        "model_2.add(tf.keras.layers.Dense(1, activation = 'sigmoid'))"
      ],
      "metadata": {
        "id": "WGkFX0OPGMhk"
      },
      "execution_count": null,
      "outputs": []
    },
    {
      "cell_type": "code",
      "source": [
        "model_2.summary()\n",
        "tf.keras.utils.plot_model(model_2)"
      ],
      "metadata": {
        "id": "K-jsrRNtLRez",
        "colab": {
          "base_uri": "https://localhost:8080/",
          "height": 744
        },
        "outputId": "62880598-ba03-4f1d-a22d-3087de8a204d"
      },
      "execution_count": null,
      "outputs": [
        {
          "output_type": "stream",
          "name": "stdout",
          "text": [
            "Model: \"sequential_1\"\n",
            "_________________________________________________________________\n",
            "Layer (type)                 Output Shape              Param #   \n",
            "=================================================================\n",
            "embedding_1 (Embedding)      (None, None, 256)         3840000   \n",
            "_________________________________________________________________\n",
            "gru (GRU)                    (None, 128)               148224    \n",
            "_________________________________________________________________\n",
            "dense_2 (Dense)              (None, 8)                 1032      \n",
            "_________________________________________________________________\n",
            "dense_3 (Dense)              (None, 1)                 9         \n",
            "=================================================================\n",
            "Total params: 3,989,265\n",
            "Trainable params: 3,989,265\n",
            "Non-trainable params: 0\n",
            "_________________________________________________________________\n"
          ]
        },
        {
          "output_type": "execute_result",
          "data": {
            "text/plain": [
              "<IPython.core.display.Image object>"
            ],
            "image/png": "[encoded data removed]"
          },
          "metadata": {},
          "execution_count": 45
        }
      ]
    },
    {
      "cell_type": "code",
      "source": [
        "es = EarlyStopping(monitor = 'val_loss', mode = 'min', verbose = 1, patience = 4)\n",
        "mc = ModelCheckpoint('best_model.h5', monitor='val_accuracy', mode='max', verbose=1, save_best_only=True)\n",
        "\n",
        "epochs = 20\n",
        "\n",
        "model_2.compile(optimizer = 'adam', loss = 'binary_crossentropy', metrics = ['accuracy'])\n",
        "history_2 = model_2.fit(part_X_train,\n",
        "                      part_y_train,\n",
        "                      epochs = epochs,\n",
        "                      callbacks = [es, mc],\n",
        "                      batch_size = 512,\n",
        "                      validation_data = (X_val, y_val))"
      ],
      "metadata": {
        "id": "kdBR9D2TLVuD",
        "colab": {
          "base_uri": "https://localhost:8080/"
        },
        "outputId": "0a0056a3-cbc1-4605-f4cc-4d38c09a1d2a"
      },
      "execution_count": null,
      "outputs": [
        {
          "output_type": "stream",
          "name": "stdout",
          "text": [
            "Epoch 1/20\n",
            "229/229 [==============================] - 6s 22ms/step - loss: 0.4577 - accuracy: 0.7835 - val_loss: 0.3552 - val_accuracy: 0.8427\n",
            "\n",
            "Epoch 00001: val_accuracy improved from -inf to 0.84266, saving model to best_model.h5\n",
            "Epoch 2/20\n",
            "229/229 [==============================] - 5s 20ms/step - loss: 0.3286 - accuracy: 0.8579 - val_loss: 0.3396 - val_accuracy: 0.8500\n",
            "\n",
            "Epoch 00002: val_accuracy improved from 0.84266 to 0.84998, saving model to best_model.h5\n",
            "Epoch 3/20\n",
            "229/229 [==============================] - 5s 21ms/step - loss: 0.2914 - accuracy: 0.8758 - val_loss: 0.3330 - val_accuracy: 0.8541\n",
            "\n",
            "Epoch 00003: val_accuracy improved from 0.84998 to 0.85408, saving model to best_model.h5\n",
            "Epoch 4/20\n",
            "229/229 [==============================] - 5s 20ms/step - loss: 0.2638 - accuracy: 0.8895 - val_loss: 0.3483 - val_accuracy: 0.8524\n",
            "\n",
            "Epoch 00004: val_accuracy did not improve from 0.85408\n",
            "Epoch 5/20\n",
            "229/229 [==============================] - 5s 20ms/step - loss: 0.2385 - accuracy: 0.9003 - val_loss: 0.3576 - val_accuracy: 0.8514\n",
            "\n",
            "Epoch 00005: val_accuracy did not improve from 0.85408\n",
            "Epoch 6/20\n",
            "229/229 [==============================] - 5s 22ms/step - loss: 0.2169 - accuracy: 0.9095 - val_loss: 0.3847 - val_accuracy: 0.8484\n",
            "\n",
            "Epoch 00006: val_accuracy did not improve from 0.85408\n",
            "Epoch 7/20\n",
            "229/229 [==============================] - 5s 21ms/step - loss: 0.1963 - accuracy: 0.9188 - val_loss: 0.4107 - val_accuracy: 0.8470\n",
            "\n",
            "Epoch 00007: val_accuracy did not improve from 0.85408\n",
            "Epoch 00007: early stopping\n"
          ]
        }
      ]
    },
    {
      "cell_type": "code",
      "source": [
        "loaded_model_2 = load_model('best_model.h5')\n",
        "print(\"\\n 테스트 정확도: %.4f\" % (loaded_model_2.evaluate(X_test, y_test)[1]))"
      ],
      "metadata": {
        "id": "hNX76y-WL7A9",
        "colab": {
          "base_uri": "https://localhost:8080/"
        },
        "outputId": "1b8bf296-61f1-406c-94eb-cb6efa1a9369"
      },
      "execution_count": null,
      "outputs": [
        {
          "output_type": "stream",
          "name": "stdout",
          "text": [
            "1537/1537 [==============================] - 5s 3ms/step - loss: 0.3405 - accuracy: 0.8501\n",
            "\n",
            " 테스트 정확도: 0.8501\n"
          ]
        }
      ]
    },
    {
      "cell_type": "code",
      "source": [
        "results = model_2.evaluate(X_test,  y_test, verbose=2)\n",
        "\n",
        "print(results)"
      ],
      "metadata": {
        "id": "VVaBh_F1N-2Q",
        "colab": {
          "base_uri": "https://localhost:8080/"
        },
        "outputId": "b1960294-1abc-4ca5-b0cf-be1e3ec5bf49"
      },
      "execution_count": null,
      "outputs": [
        {
          "output_type": "stream",
          "name": "stdout",
          "text": [
            "1537/1537 - 4s - loss: 0.4117 - accuracy: 0.8427\n",
            "[0.41165655851364136, 0.842687726020813]\n"
          ]
        }
      ]
    },
    {
      "cell_type": "code",
      "source": [
        "history_2_dict = history_2.history\n",
        "print(history_2_dict.keys()) "
      ],
      "metadata": {
        "id": "lJn96r4rMCPE",
        "colab": {
          "base_uri": "https://localhost:8080/"
        },
        "outputId": "12b9fe8c-e496-4c98-fa56-5e2aaa622666"
      },
      "execution_count": null,
      "outputs": [
        {
          "output_type": "stream",
          "name": "stdout",
          "text": [
            "dict_keys(['loss', 'accuracy', 'val_loss', 'val_accuracy'])\n"
          ]
        }
      ]
    },
    {
      "cell_type": "code",
      "source": [
        "acc = history_2_dict['accuracy']\n",
        "val_acc = history_2_dict['val_accuracy']\n",
        "loss = history_2_dict['loss']\n",
        "val_loss = history_2_dict['val_loss']\n",
        "\n",
        "epochs = range(1, len(acc) + 1)\n",
        "\n",
        "plt.plot(epochs, loss, 'bo', label='Training loss')\n",
        "plt.plot(epochs, val_loss, 'r', label='Validation loss')\n",
        "plt.title('(1-2) Training and validation loss')\n",
        "plt.xlabel('Epochs')\n",
        "plt.ylabel('Loss')\n",
        "plt.legend()\n",
        "\n",
        "plt.show()"
      ],
      "metadata": {
        "id": "PK8zjBSBMtFA",
        "colab": {
          "base_uri": "https://localhost:8080/",
          "height": 295
        },
        "outputId": "741b2e61-6264-40fc-b461-62e6b475ba9d"
      },
      "execution_count": null,
      "outputs": [
        {
          "output_type": "display_data",
          "data": {
            "text/plain": [
              "<Figure size 432x288 with 1 Axes>"
            ],
            "image/png": "[encoded data removed]"
          },
          "metadata": {
            "needs_background": "light"
          }
        }
      ]
    },
    {
      "cell_type": "code",
      "source": [
        "plt.clf()   # 그림을 초기화합니다\n",
        "\n",
        "plt.plot(epochs, acc, 'bo', label='Training acc')\n",
        "plt.plot(epochs, val_acc, 'r', label='Validation acc')\n",
        "plt.title('(1-2) Training and validation loss')\n",
        "plt.xlabel('Epochs')\n",
        "plt.ylabel('Accuracy')\n",
        "plt.legend()\n",
        "\n",
        "plt.show()"
      ],
      "metadata": {
        "id": "tLtizeDXMyHG",
        "colab": {
          "base_uri": "https://localhost:8080/",
          "height": 295
        },
        "outputId": "a5e14259-6c1c-47b7-f768-9c039f8874bd"
      },
      "execution_count": null,
      "outputs": [
        {
          "output_type": "display_data",
          "data": {
            "text/plain": [
              "<Figure size 432x288 with 1 Axes>"
            ],
            "image/png": "[encoded data removed]"
          },
          "metadata": {
            "needs_background": "light"
          }
        }
      ]
    },
    {
      "cell_type": "markdown",
      "source": [
        "여기서도 2회가 지나면 로스는 증가하고 정확도가 감소하여 과적합이 진행되는 것을 알 수 있다. "
      ],
      "metadata": {
        "id": "y75gwWrHF7BQ"
      }
    },
    {
      "cell_type": "markdown",
      "source": [
        "#### (2) 1D CNN을 이용한 모델\n",
        "---\n",
        "Conv1D, Maxpooling 1D, global Maxpooling 등을 사용하여 모델 세워보기"
      ],
      "metadata": {
        "id": "sP7_acMIOfhn"
      }
    },
    {
      "cell_type": "markdown",
      "source": [
        "![스크린샷, 2022-06-07 18-10-34.png](data:image/png;base64,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)"
      ],
      "metadata": {
        "id": "2HKTjlombY-J"
      }
    },
    {
      "cell_type": "code",
      "source": [
        "embedding_dim = 256 # 임베딩 벡터의 차원\n",
        "dropout_ratio = 0.3 # 드롭아웃 비율\n",
        "num_filters = 256 # 커널의 수\n",
        "kernel_size = 3 # 커널의 크기\n",
        "hidden_units = 128 # 뉴런의 수\n",
        "vocab_size = 15000\n",
        "\n",
        "model_3 = Sequential()\n",
        "model_3.add(Embedding(vocab_size, embedding_dim))\n",
        "model_3.add(Dropout(dropout_ratio))\n",
        "model_3.add(Conv1D(num_filters, kernel_size, padding='valid', activation='relu'))\n",
        "model_3.add(GlobalMaxPooling1D())\n",
        "model_3.add(Dense(hidden_units, activation='relu'))\n",
        "model_3.add(Dropout(dropout_ratio))\n",
        "model_3.add(Dense(1, activation='sigmoid'))\n",
        "\n",
        "model_3.summary()"
      ],
      "metadata": {
        "id": "YiAn8F8PO1X3",
        "colab": {
          "base_uri": "https://localhost:8080/"
        },
        "outputId": "5d9c5cf1-b5ad-4c32-c5c9-363669a565b3"
      },
      "execution_count": null,
      "outputs": [
        {
          "output_type": "stream",
          "name": "stdout",
          "text": [
            "Model: \"sequential_2\"\n",
            "_________________________________________________________________\n",
            "Layer (type)                 Output Shape              Param #   \n",
            "=================================================================\n",
            "embedding_2 (Embedding)      (None, None, 256)         3840000   \n",
            "_________________________________________________________________\n",
            "dropout (Dropout)            (None, None, 256)         0         \n",
            "_________________________________________________________________\n",
            "conv1d (Conv1D)              (None, None, 256)         196864    \n",
            "_________________________________________________________________\n",
            "global_max_pooling1d (Global (None, 256)               0         \n",
            "_________________________________________________________________\n",
            "dense_4 (Dense)              (None, 128)               32896     \n",
            "_________________________________________________________________\n",
            "dropout_1 (Dropout)          (None, 128)               0         \n",
            "_________________________________________________________________\n",
            "dense_5 (Dense)              (None, 1)                 129       \n",
            "=================================================================\n",
            "Total params: 4,069,889\n",
            "Trainable params: 4,069,889\n",
            "Non-trainable params: 0\n",
            "_________________________________________________________________\n"
          ]
        }
      ]
    },
    {
      "cell_type": "code",
      "source": [
        "tf.keras.utils.plot_model(model_3)"
      ],
      "metadata": {
        "id": "4xzmz5BMO6Ip",
        "colab": {
          "base_uri": "https://localhost:8080/",
          "height": 758
        },
        "outputId": "9102e1be-4975-4b11-cb59-b86883c9268e"
      },
      "execution_count": null,
      "outputs": [
        {
          "output_type": "execute_result",
          "data": {
            "text/plain": [
              "<IPython.core.display.Image object>"
            ],
            "image/png": "[encoded data removed]"
          },
          "metadata": {},
          "execution_count": 60
        }
      ]
    },
    {
      "cell_type": "markdown",
      "source": [
        "조금 더 깊게 보기위해 Conv 1회 후max pooling으로 정리해준 후, Conv를 1회 더 진행하고 global max pooling으로 정리해 주었다.   \n",
        "그리고 중간중간 DropOut을 넣어 과적합을 방지했다.  \n",
        "과연 과적합에서 좀 더 자유로울 것인가..."
      ],
      "metadata": {
        "id": "MZzRoU_3GPZs"
      }
    },
    {
      "cell_type": "code",
      "source": [
        "es = EarlyStopping(monitor = 'val_loss', mode = 'min', verbose = 1, patience = 4)\n",
        "mc = ModelCheckpoint('best_model.h5', monitor='val_accuracy', mode='max', verbose=1, save_best_only=True)\n",
        "\n",
        "epochs = 20\n",
        "\n",
        "model_3.compile(optimizer = 'adam', loss = 'binary_crossentropy', metrics = ['accuracy'])\n",
        "history_3 = model_3.fit(part_X_train,\n",
        "                      part_y_train,\n",
        "                      epochs = epochs,\n",
        "                      callbacks = [es, mc],\n",
        "                      batch_size = 512,\n",
        "                      validation_data = (X_val, y_val))"
      ],
      "metadata": {
        "id": "Z6t4gzqCPYmK",
        "colab": {
          "base_uri": "https://localhost:8080/"
        },
        "outputId": "bfd003c2-b02d-45ae-91b1-edc5b0dd4597"
      },
      "execution_count": null,
      "outputs": [
        {
          "output_type": "stream",
          "name": "stdout",
          "text": [
            "Epoch 1/20\n",
            "229/229 [==============================] - 12s 22ms/step - loss: 0.4238 - accuracy: 0.7989 - val_loss: 0.3390 - val_accuracy: 0.8499\n",
            "\n",
            "Epoch 00001: val_accuracy improved from -inf to 0.84991, saving model to best_model.h5\n",
            "Epoch 2/20\n",
            "229/229 [==============================] - 5s 22ms/step - loss: 0.3046 - accuracy: 0.8721 - val_loss: 0.3260 - val_accuracy: 0.8562\n",
            "\n",
            "Epoch 00002: val_accuracy improved from 0.84991 to 0.85620, saving model to best_model.h5\n",
            "Epoch 3/20\n",
            "229/229 [==============================] - 5s 22ms/step - loss: 0.2472 - accuracy: 0.9010 - val_loss: 0.3301 - val_accuracy: 0.8603\n",
            "\n",
            "Epoch 00003: val_accuracy improved from 0.85620 to 0.86028, saving model to best_model.h5\n",
            "Epoch 4/20\n",
            "229/229 [==============================] - 5s 22ms/step - loss: 0.1923 - accuracy: 0.9262 - val_loss: 0.3596 - val_accuracy: 0.8574\n",
            "\n",
            "Epoch 00004: val_accuracy did not improve from 0.86028\n",
            "Epoch 5/20\n",
            "229/229 [==============================] - 5s 22ms/step - loss: 0.1455 - accuracy: 0.9453 - val_loss: 0.3911 - val_accuracy: 0.8557\n",
            "\n",
            "Epoch 00005: val_accuracy did not improve from 0.86028\n",
            "Epoch 6/20\n",
            "229/229 [==============================] - 5s 22ms/step - loss: 0.1121 - accuracy: 0.9586 - val_loss: 0.4348 - val_accuracy: 0.8542\n",
            "\n",
            "Epoch 00006: val_accuracy did not improve from 0.86028\n",
            "Epoch 00006: early stopping\n"
          ]
        }
      ]
    },
    {
      "cell_type": "code",
      "source": [
        "loaded_model_3 = load_model('best_model.h5')\n",
        "print(\"\\n 테스트 정확도: %.4f\" % (loaded_model_3.evaluate(X_test, y_test)[1]))"
      ],
      "metadata": {
        "id": "Bt5K4cxWPgrd",
        "colab": {
          "base_uri": "https://localhost:8080/"
        },
        "outputId": "30e80fe2-4d8f-484a-ef38-ea51150708d7"
      },
      "execution_count": null,
      "outputs": [
        {
          "output_type": "stream",
          "name": "stdout",
          "text": [
            "1537/1537 [==============================] - 3s 2ms/step - loss: 0.3426 - accuracy: 0.8554\n",
            "\n",
            " 테스트 정확도: 0.8554\n"
          ]
        }
      ]
    },
    {
      "cell_type": "code",
      "source": [
        "results = model_3.evaluate(X_test,  y_test, verbose=2)\n",
        "\n",
        "print(results)"
      ],
      "metadata": {
        "id": "9JbMjnWAPkTJ",
        "colab": {
          "base_uri": "https://localhost:8080/"
        },
        "outputId": "ff1b8f3b-a638-4a84-b822-d2238db3a62f"
      },
      "execution_count": null,
      "outputs": [
        {
          "output_type": "stream",
          "name": "stdout",
          "text": [
            "1537/1537 - 2s - loss: 0.4628 - accuracy: 0.8455\n",
            "[0.4627718925476074, 0.8454747200012207]\n"
          ]
        }
      ]
    },
    {
      "cell_type": "code",
      "source": [
        "history_3_dict = history_3.history\n",
        "print(history_3_dict.keys()) "
      ],
      "metadata": {
        "id": "1eA9DCemPpMy",
        "colab": {
          "base_uri": "https://localhost:8080/"
        },
        "outputId": "41d85cb9-dff7-4593-d2da-60507539c526"
      },
      "execution_count": null,
      "outputs": [
        {
          "output_type": "stream",
          "name": "stdout",
          "text": [
            "dict_keys(['loss', 'accuracy', 'val_loss', 'val_accuracy'])\n"
          ]
        }
      ]
    },
    {
      "cell_type": "code",
      "source": [
        "acc = history_3_dict['accuracy']\n",
        "val_acc = history_3_dict['val_accuracy']\n",
        "loss = history_3_dict['loss']\n",
        "val_loss = history_3_dict['val_loss']\n",
        "\n",
        "epochs = range(1, len(acc) + 1)\n",
        "\n",
        "plt.plot(epochs, loss, 'bo', label='Training loss')\n",
        "plt.plot(epochs, val_loss, 'r', label='Validation loss')\n",
        "plt.title('(2) Training and validation loss')\n",
        "plt.xlabel('Epochs')\n",
        "plt.ylabel('Loss')\n",
        "plt.legend()\n",
        "\n",
        "plt.show()"
      ],
      "metadata": {
        "id": "ne0okpe-Pu6E",
        "colab": {
          "base_uri": "https://localhost:8080/",
          "height": 295
        },
        "outputId": "03c72dc2-a18c-4c56-916b-fd4483def6f6"
      },
      "execution_count": null,
      "outputs": [
        {
          "output_type": "display_data",
          "data": {
            "text/plain": [
              "<Figure size 432x288 with 1 Axes>"
            ],
            "image/png": "[encoded data removed]"
          },
          "metadata": {
            "needs_background": "light"
          }
        }
      ]
    },
    {
      "cell_type": "code",
      "source": [
        "plt.clf() \n",
        "\n",
        "plt.plot(epochs, acc, 'bo', label='Training acc')\n",
        "plt.plot(epochs, val_acc, 'r', label='Validation acc')\n",
        "plt.title('(2) Training and validation loss')\n",
        "plt.xlabel('Epochs')\n",
        "plt.ylabel('Accuracy')\n",
        "plt.legend()\n",
        "\n",
        "plt.show()"
      ],
      "metadata": {
        "id": "rF7L3ceHP0OD",
        "colab": {
          "base_uri": "https://localhost:8080/",
          "height": 295
        },
        "outputId": "c05d738d-3af7-4be9-e542-1d41ab4bf831"
      },
      "execution_count": null,
      "outputs": [
        {
          "output_type": "display_data",
          "data": {
            "text/plain": [
              "<Figure size 432x288 with 1 Axes>"
            ],
            "image/png": "[encoded data removed]"
          },
          "metadata": {
            "needs_background": "light"
          }
        }
      ]
    },
    {
      "cell_type": "markdown",
      "source": [
        "워낙 자료가 적기도해서 그런가... Dropout을 사용해도 epoch 2회 이상가면 과적합이 이뤄지는게 보인다...흑"
      ],
      "metadata": {
        "id": "rHPEYCrHIuHi"
      }
    },
    {
      "cell_type": "markdown",
      "source": [
        "### (3) 1D CNN + LSTM 결합 모델 \n",
        "\n",
        "---\n",
        "\n",
        "CNN-LSTM Model로 미세먼지 예측같은 시계열 예측, 쇼핑 아이템 추천 서비스, 에너지 수요예측 등 다양한 연구가 진행되고 있는 것을 확인했다.   \n",
        "아무래도 앞요소들과의 관계를 고려하는 LSTM, RNN등이 사용되다보니 시계열 예측쪽에서 유의미한 연구가 많이 나오는 것 같다.   \n",
        "CNN-LSTM 모델은 word embedding(vector)을 input으로 넣어 convolution layer와 max pooling layer를 통과해 local feature을 추출하고, LSTM 모델을 사용해 공간적인 feature을 연속적으로 통합하는 방식으로 일반적인 NN(Neural Network) 모델보다 훨씬 더 뛰어난 성능을 보인다.  \n",
        "\n",
        "CNN 모델은 입력된 텍스트를 여러 영역으로 나누어 특정 지역의 정보를 추출할 수는 있지만 긴 문장에서는 단어 간의 의존성을 파악하지 못하는데, CNN 모델과 LSTM 모델을 결합해 문장 내의 지역 정보를 순차적으로 통합하면 이러한 한계를 해결할 수 있다고한다. \n",
        "\n",
        "[Naver O2 관련내용](https://d2.naver.com/helloworld/1264836?fbclid=IwAR1__yoPP5hCJsLaf9FDifFg4v55RTBDQPPHzsmsAxIczpci4zHsojVJ4e0)  \n",
        "\n",
        "[논문-Dimensional Sentiment Analysis Using a Regional CNN-LSTM Model](https://aclanthology.org/P16-2037.pdf)\n",
        "\n",
        "![스크린샷, 2022-06-07 19-04-26.png](data:image/png;base64,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)"
      ],
      "metadata": {
        "id": "5YW0wC8HoDeg"
      }
    },
    {
      "cell_type": "markdown",
      "source": [
        "[CNN_LSTM 자료](https://colab.research.google.com/github/Pseudo-Lab/Tutorial-Book/blob/master/book/chapters/time-series/Ch5-CNN-LSTM.ipynb#scrollTo=HJuGI3_sJ2xx)\n",
        "\n",
        "[CNN-LSTM 리뷰감성분석](https://www.koreascience.or.kr/article/JAKO201909358629867.pdf)\n",
        "\n",
        "[wiki docs - CNN으로 리뷰 분류](https://wikidocs.net/80783)  \n",
        "상기 자료들을 참고하여 모델을 제작함"
      ],
      "metadata": {
        "id": "vTUia9CZtLuR"
      }
    },
    {
      "cell_type": "code",
      "source": [
        "vocab_size = 15000\n",
        "word_vector_dim = 256\n",
        "hidden_units = 128 # 뉴런의 수\n",
        "dropout_ratio = 0.25 # 드롭아웃 비율\n",
        "num_filters = 256 # 커널의 수\n",
        "kernel_size = 3 # 커널의 크기\n",
        "\n",
        "model_4 = tf.keras.Sequential()\n",
        "#임베딩층\n",
        "model_4.add(tf.keras.layers.Embedding(vocab_size, word_vector_dim, input_shape = (None, )))\n",
        "#CNN층\n",
        "model_4.add(tf.keras.layers.Conv1D(num_filters, kernel_size, activation='relu'))\n",
        "model_4.add(Dropout(0.25))\n",
        "model_4.add(tf.keras.layers.MaxPooling1D())\n",
        "#25% Drop out 삽입하여 LSTM 반복학습을 유지할 수 있도록 함\n",
        "model_4.add(Dropout(0.25))\n",
        "#LSTM층\n",
        "model_4.add(tf.keras.layers.LSTM(hidden_units))\n",
        "#25% Drop out 삽입하여 LSTM 반복학습을 유지할 수 있도록 함\n",
        "model_4.add(Dropout(0.25))\n",
        "model_4.add(tf.keras.layers.Dense(8, activation = 'relu'))\n",
        "model_4.add(tf.keras.layers.Dense(1, activation = 'sigmoid'))\n",
        "\n",
        "model_4.summary()"
      ],
      "metadata": {
        "id": "IlsSrKIet1oK",
        "colab": {
          "base_uri": "https://localhost:8080/"
        },
        "outputId": "6ca20bd1-9f16-48fc-df11-3d91a743186f"
      },
      "execution_count": null,
      "outputs": [
        {
          "output_type": "stream",
          "name": "stdout",
          "text": [
            "Model: \"sequential_3\"\n",
            "_________________________________________________________________\n",
            "Layer (type)                 Output Shape              Param #   \n",
            "=================================================================\n",
            "embedding_3 (Embedding)      (None, None, 256)         3840000   \n",
            "_________________________________________________________________\n",
            "conv1d_1 (Conv1D)            (None, None, 256)         196864    \n",
            "_________________________________________________________________\n",
            "dropout_2 (Dropout)          (None, None, 256)         0         \n",
            "_________________________________________________________________\n",
            "max_pooling1d (MaxPooling1D) (None, None, 256)         0         \n",
            "_________________________________________________________________\n",
            "dropout_3 (Dropout)          (None, None, 256)         0         \n",
            "_________________________________________________________________\n",
            "lstm_1 (LSTM)                (None, 128)               197120    \n",
            "_________________________________________________________________\n",
            "dropout_4 (Dropout)          (None, 128)               0         \n",
            "_________________________________________________________________\n",
            "dense_6 (Dense)              (None, 8)                 1032      \n",
            "_________________________________________________________________\n",
            "dense_7 (Dense)              (None, 1)                 9         \n",
            "=================================================================\n",
            "Total params: 4,235,025\n",
            "Trainable params: 4,235,025\n",
            "Non-trainable params: 0\n",
            "_________________________________________________________________\n"
          ]
        }
      ]
    },
    {
      "cell_type": "code",
      "source": [
        "tf.keras.utils.plot_model(model_4)"
      ],
      "metadata": {
        "id": "hB9pFNSpKTBm",
        "colab": {
          "base_uri": "https://localhost:8080/",
          "height": 953
        },
        "outputId": "9d1a6162-a106-46b0-a940-e4e0635f138d"
      },
      "execution_count": null,
      "outputs": [
        {
          "output_type": "execute_result",
          "data": {
            "text/plain": [
              "<IPython.core.display.Image object>"
            ],
            "image/png": "[encoded data removed]"
          },
          "metadata": {},
          "execution_count": 75
        }
      ]
    },
    {
      "cell_type": "markdown",
      "source": [
        "\"Conv 1회 - Maxpooling - Dropout\"까지의 CNN 구조와  \n",
        "\"LSTM - Dropout - Dense\" 로 이어지는   \n",
        "**CNN - LSTM의 구조를 완성**하였다.   \n",
        "\n",
        "과연 이 모델은 어떻게 결과를 내줄지 너무 궁금하다:)!!"
      ],
      "metadata": {
        "id": "WJX74AWYKiq7"
      }
    },
    {
      "cell_type": "code",
      "source": [
        "es = EarlyStopping(monitor = 'val_loss', mode = 'min', verbose = 1, patience = 4)\n",
        "mc = ModelCheckpoint('best_model.h5', monitor='val_accuracy', mode='max', verbose=1, save_best_only=True)\n",
        "\n",
        "epochs = 20\n",
        "\n",
        "model_4.compile(optimizer = 'adam', loss = 'binary_crossentropy', metrics = ['accuracy'])\n",
        "history_4 = model_4.fit(part_X_train,\n",
        "                      part_y_train,\n",
        "                      epochs = epochs,\n",
        "                      callbacks = [es, mc],\n",
        "                      batch_size = 512,\n",
        "                      validation_data = (X_val, y_val))"
      ],
      "metadata": {
        "id": "WdABdI55K9YT",
        "colab": {
          "base_uri": "https://localhost:8080/"
        },
        "outputId": "ae74eb66-bb4f-4158-f591-63959be62514"
      },
      "execution_count": null,
      "outputs": [
        {
          "output_type": "stream",
          "name": "stdout",
          "text": [
            "Epoch 1/20\n",
            "229/229 [==============================] - 9s 34ms/step - loss: 0.4279 - accuracy: 0.7937 - val_loss: 0.3615 - val_accuracy: 0.8364\n",
            "\n",
            "Epoch 00001: val_accuracy improved from -inf to 0.83643, saving model to best_model.h5\n",
            "Epoch 2/20\n",
            "229/229 [==============================] - 7s 33ms/step - loss: 0.3288 - accuracy: 0.8547 - val_loss: 0.3559 - val_accuracy: 0.8387\n",
            "\n",
            "Epoch 00002: val_accuracy improved from 0.83643 to 0.83866, saving model to best_model.h5\n",
            "Epoch 3/20\n",
            "229/229 [==============================] - 7s 33ms/step - loss: 0.2875 - accuracy: 0.8754 - val_loss: 0.3579 - val_accuracy: 0.8377\n",
            "\n",
            "Epoch 00003: val_accuracy did not improve from 0.83866\n",
            "Epoch 4/20\n",
            "229/229 [==============================] - 7s 33ms/step - loss: 0.2505 - accuracy: 0.8943 - val_loss: 0.3736 - val_accuracy: 0.8387\n",
            "\n",
            "Epoch 00004: val_accuracy improved from 0.83866 to 0.83873, saving model to best_model.h5\n",
            "Epoch 5/20\n",
            "229/229 [==============================] - 7s 33ms/step - loss: 0.2169 - accuracy: 0.9103 - val_loss: 0.3958 - val_accuracy: 0.8364\n",
            "\n",
            "Epoch 00005: val_accuracy did not improve from 0.83873\n",
            "Epoch 6/20\n",
            "229/229 [==============================] - 7s 33ms/step - loss: 0.1859 - accuracy: 0.9235 - val_loss: 0.4400 - val_accuracy: 0.8349\n",
            "\n",
            "Epoch 00006: val_accuracy did not improve from 0.83873\n",
            "Epoch 00006: early stopping\n"
          ]
        }
      ]
    },
    {
      "cell_type": "code",
      "source": [
        "loaded_model_4 = load_model('best_model.h5')\n",
        "print(\"\\n 테스트 정확도: %.4f\" % (loaded_model_4.evaluate(X_test, y_test)[1]))"
      ],
      "metadata": {
        "id": "1Li5Q-VXLJ7g",
        "colab": {
          "base_uri": "https://localhost:8080/"
        },
        "outputId": "0f1bdceb-6ba1-4f1b-816b-825874d37d40"
      },
      "execution_count": null,
      "outputs": [
        {
          "output_type": "stream",
          "name": "stdout",
          "text": [
            "1537/1537 [==============================] - 5s 3ms/step - loss: 0.3789 - accuracy: 0.8357\n",
            "\n",
            " 테스트 정확도: 0.8357\n"
          ]
        }
      ]
    },
    {
      "cell_type": "code",
      "source": [
        "results = model_4.evaluate(X_test,  y_test, verbose=2)\n",
        "\n",
        "print(results)"
      ],
      "metadata": {
        "id": "CU8NVYLVLMuK",
        "colab": {
          "base_uri": "https://localhost:8080/"
        },
        "outputId": "035f9426-cf3b-4da6-cb5b-3e0549e0cf6f"
      },
      "execution_count": null,
      "outputs": [
        {
          "output_type": "stream",
          "name": "stdout",
          "text": [
            "1537/1537 - 3s - loss: 0.4439 - accuracy: 0.8304\n",
            "[0.4438924789428711, 0.8303802013397217]\n"
          ]
        }
      ]
    },
    {
      "cell_type": "code",
      "source": [
        "history_4_dict = history_4.history\n",
        "print(history_4_dict.keys()) "
      ],
      "metadata": {
        "id": "Ag0_OhWBLPid",
        "colab": {
          "base_uri": "https://localhost:8080/"
        },
        "outputId": "442fb7ef-26f8-4a57-ea16-a3233f288619"
      },
      "execution_count": null,
      "outputs": [
        {
          "output_type": "stream",
          "name": "stdout",
          "text": [
            "dict_keys(['loss', 'accuracy', 'val_loss', 'val_accuracy'])\n"
          ]
        }
      ]
    },
    {
      "cell_type": "code",
      "source": [
        "acc = history_4_dict['accuracy']\n",
        "val_acc = history_4_dict['val_accuracy']\n",
        "loss = history_4_dict['loss']\n",
        "val_loss = history_4_dict['val_loss']\n",
        "\n",
        "epochs = range(1, len(acc) + 1)\n",
        "\n",
        "plt.plot(epochs, loss, 'bo', label='Training loss')\n",
        "plt.plot(epochs, val_loss, 'r', label='Validation loss')\n",
        "plt.title('(2) Training and validation loss')\n",
        "plt.xlabel('Epochs')\n",
        "plt.ylabel('Loss')\n",
        "plt.legend()\n",
        "\n",
        "plt.show()"
      ],
      "metadata": {
        "id": "B-BqkruVLUbl",
        "colab": {
          "base_uri": "https://localhost:8080/",
          "height": 295
        },
        "outputId": "d0821b0b-dd39-482a-cb3f-068cd7220876"
      },
      "execution_count": null,
      "outputs": [
        {
          "output_type": "display_data",
          "data": {
            "text/plain": [
              "<Figure size 432x288 with 1 Axes>"
            ],
            "image/png": "[encoded data removed]"
          },
          "metadata": {
            "needs_background": "light"
          }
        }
      ]
    },
    {
      "cell_type": "code",
      "source": [
        "plt.clf() \n",
        "\n",
        "plt.plot(epochs, acc, 'bo', label='Training acc')\n",
        "plt.plot(epochs, val_acc, 'r', label='Validation acc')\n",
        "plt.title('(2) Training and validation loss')\n",
        "plt.xlabel('Epochs')\n",
        "plt.ylabel('Accuracy')\n",
        "plt.legend()\n",
        "\n",
        "plt.show()"
      ],
      "metadata": {
        "id": "bUnqRsm_LX5B",
        "colab": {
          "base_uri": "https://localhost:8080/",
          "height": 295
        },
        "outputId": "7c4e6b59-bf34-4ee5-a36b-0eb1d9c23b57"
      },
      "execution_count": null,
      "outputs": [
        {
          "output_type": "display_data",
          "data": {
            "text/plain": [
              "<Figure size 432x288 with 1 Axes>"
            ],
            "image/png": "[encoded data removed]"
          },
          "metadata": {
            "needs_background": "light"
          }
        }
      ]
    },
    {
      "cell_type": "markdown",
      "source": [
        "두둥탁!!!!!!!!!!!!!!!!!!!  \n",
        "\n",
        "논문에는 **CNN-LSTM 모델의 성능이 단일 모델보다 좋다**고 했는데 반대로 나와버렸다...?\n",
        "\n",
        "아.... 이렇게 섞었는데도 2회를 넘지못하다니...?  \n",
        "진짜 모델이 너무 어려워서 과적합이 일어난걸까??  \n",
        "워드 벡터를 좀 줄이면 모델이 가벼워질까...?  \n",
        "이거롤 한번만 다시 시도해보고 넘어가자......후....."
      ],
      "metadata": {
        "id": "4J6qe86FLgt5"
      }
    },
    {
      "cell_type": "markdown",
      "source": [
        "### (3-1) 1D CNN + LSTM 결합 모델 - word vector dim, 모델 복잡도 낮춤\n",
        "\n",
        "---\n",
        "\n",
        "- word vector dim값 : 256 -> 64  \n",
        "- num_filters 값 : 256 -> 128  \n",
        "확실한 차이를 확인하기위해 복합적으로 확 낮춰주었다.  "
      ],
      "metadata": {
        "id": "iNnMnR2CMw8W"
      }
    },
    {
      "cell_type": "code",
      "source": [
        "vocab_size = 10000\n",
        "word_vector_dim = 64\n",
        "hidden_units = 128 # 뉴런의 수\n",
        "dropout_ratio = 0.25 # 드롭아웃 비율\n",
        "num_filters = 128 # 커널의 수\n",
        "kernel_size = 3 # 커널의 크기\n",
        "\n",
        "model_5 = tf.keras.Sequential()\n",
        "#임베딩층\n",
        "model_5.add(tf.keras.layers.Embedding(vocab_size, word_vector_dim, input_shape = (None, )))\n",
        "#CNN층\n",
        "model_5.add(tf.keras.layers.Conv1D(num_filters, kernel_size, activation='relu'))\n",
        "model_5.add(Dropout(0.25))\n",
        "model_5.add(tf.keras.layers.MaxPooling1D())\n",
        "#25% Drop out 삽입하여 LSTM 반복학습을 유지할 수 있도록 함\n",
        "model_5.add(Dropout(0.25))\n",
        "#LSTM층\n",
        "model_5.add(tf.keras.layers.LSTM(hidden_units))\n",
        "#25% Drop out 삽입하여 LSTM 반복학습을 유지할 수 있도록 함\n",
        "model_5.add(Dropout(0.25))\n",
        "model_5.add(tf.keras.layers.Dense(8, activation = 'relu'))\n",
        "model_5.add(tf.keras.layers.Dense(1, activation = 'sigmoid'))\n",
        "\n",
        "model_5.summary()"
      ],
      "metadata": {
        "id": "jBCtQU3VM9HR",
        "colab": {
          "base_uri": "https://localhost:8080/"
        },
        "outputId": "2d8aa488-2375-456a-e013-8493ce6792fd"
      },
      "execution_count": null,
      "outputs": [
        {
          "output_type": "stream",
          "name": "stdout",
          "text": [
            "Model: \"sequential_4\"\n",
            "_________________________________________________________________\n",
            "Layer (type)                 Output Shape              Param #   \n",
            "=================================================================\n",
            "embedding_4 (Embedding)      (None, None, 64)          640000    \n",
            "_________________________________________________________________\n",
            "conv1d_2 (Conv1D)            (None, None, 128)         24704     \n",
            "_________________________________________________________________\n",
            "dropout_5 (Dropout)          (None, None, 128)         0         \n",
            "_________________________________________________________________\n",
            "max_pooling1d_1 (MaxPooling1 (None, None, 128)         0         \n",
            "_________________________________________________________________\n",
            "dropout_6 (Dropout)          (None, None, 128)         0         \n",
            "_________________________________________________________________\n",
            "lstm_2 (LSTM)                (None, 128)               131584    \n",
            "_________________________________________________________________\n",
            "dropout_7 (Dropout)          (None, 128)               0         \n",
            "_________________________________________________________________\n",
            "dense_8 (Dense)              (None, 8)                 1032      \n",
            "_________________________________________________________________\n",
            "dense_9 (Dense)              (None, 1)                 9         \n",
            "=================================================================\n",
            "Total params: 797,329\n",
            "Trainable params: 797,329\n",
            "Non-trainable params: 0\n",
            "_________________________________________________________________\n"
          ]
        }
      ]
    },
    {
      "cell_type": "code",
      "source": [
        "es = EarlyStopping(monitor = 'val_loss', mode = 'min', verbose = 1, patience = 4)\n",
        "mc = ModelCheckpoint('best_model.h5', monitor='val_accuracy', mode='max', verbose=1, save_best_only=True)\n",
        "\n",
        "epochs = 20\n",
        "\n",
        "model_5.compile(optimizer = 'adam', loss = 'binary_crossentropy', metrics = ['accuracy'])\n",
        "history_5 = model_5.fit(part_X_train,\n",
        "                      part_y_train,\n",
        "                      epochs = epochs,\n",
        "                      callbacks = [es, mc],\n",
        "                      batch_size = 512,\n",
        "                      validation_data = (X_val, y_val))"
      ],
      "metadata": {
        "id": "lciC-ZRLOEsp",
        "colab": {
          "base_uri": "https://localhost:8080/"
        },
        "outputId": "26617a6f-d31f-432b-f8a8-4de163d8dac0"
      },
      "execution_count": null,
      "outputs": [
        {
          "output_type": "stream",
          "name": "stdout",
          "text": [
            "Epoch 1/20\n",
            "229/229 [==============================] - 6s 19ms/step - loss: 0.4883 - accuracy: 0.7377 - val_loss: 0.3751 - val_accuracy: 0.8286\n",
            "\n",
            "Epoch 00001: val_accuracy improved from -inf to 0.82857, saving model to best_model.h5\n",
            "Epoch 2/20\n",
            "229/229 [==============================] - 4s 18ms/step - loss: 0.3506 - accuracy: 0.8434 - val_loss: 0.3643 - val_accuracy: 0.8333\n",
            "\n",
            "Epoch 00002: val_accuracy improved from 0.82857 to 0.83329, saving model to best_model.h5\n",
            "Epoch 3/20\n",
            "229/229 [==============================] - 4s 17ms/step - loss: 0.3208 - accuracy: 0.8588 - val_loss: 0.3601 - val_accuracy: 0.8363\n",
            "\n",
            "Epoch 00003: val_accuracy improved from 0.83329 to 0.83633, saving model to best_model.h5\n",
            "Epoch 4/20\n",
            "229/229 [==============================] - 4s 17ms/step - loss: 0.2957 - accuracy: 0.8720 - val_loss: 0.3655 - val_accuracy: 0.8371\n",
            "\n",
            "Epoch 00004: val_accuracy improved from 0.83633 to 0.83708, saving model to best_model.h5\n",
            "Epoch 5/20\n",
            "229/229 [==============================] - 4s 17ms/step - loss: 0.2726 - accuracy: 0.8830 - val_loss: 0.3878 - val_accuracy: 0.8345\n",
            "\n",
            "Epoch 00005: val_accuracy did not improve from 0.83708\n",
            "Epoch 6/20\n",
            "229/229 [==============================] - 4s 17ms/step - loss: 0.2515 - accuracy: 0.8933 - val_loss: 0.3968 - val_accuracy: 0.8331\n",
            "\n",
            "Epoch 00006: val_accuracy did not improve from 0.83708\n",
            "Epoch 7/20\n",
            "229/229 [==============================] - 4s 17ms/step - loss: 0.2341 - accuracy: 0.9019 - val_loss: 0.4132 - val_accuracy: 0.8329\n",
            "\n",
            "Epoch 00007: val_accuracy did not improve from 0.83708\n",
            "Epoch 00007: early stopping\n"
          ]
        }
      ]
    },
    {
      "cell_type": "code",
      "source": [
        "loaded_model_5 = load_model('best_model.h5')\n",
        "print(\"\\n 테스트 정확도: %.4f\" % (loaded_model_5.evaluate(X_test, y_test)[1]))\n",
        "\n",
        "results = model_5.evaluate(X_test,  y_test, verbose=2)\n",
        "\n",
        "print(results)"
      ],
      "metadata": {
        "id": "ChesW0HJON-h",
        "colab": {
          "base_uri": "https://localhost:8080/"
        },
        "outputId": "fc7ba4ce-5b35-454d-cfaa-dd6577ae47cb"
      },
      "execution_count": null,
      "outputs": [
        {
          "output_type": "stream",
          "name": "stdout",
          "text": [
            "1537/1537 [==============================] - 4s 3ms/step - loss: 0.3714 - accuracy: 0.8329\n",
            "\n",
            " 테스트 정확도: 0.8329\n",
            "1537/1537 - 3s - loss: 0.4193 - accuracy: 0.8301\n",
            "[0.41930845379829407, 0.8300547003746033]\n"
          ]
        }
      ]
    },
    {
      "cell_type": "code",
      "source": [
        "history_5_dict = history_5.history\n",
        "\n",
        "acc = history_5_dict['accuracy']\n",
        "val_acc = history_5_dict['val_accuracy']\n",
        "loss = history_5_dict['loss']\n",
        "val_loss = history_5_dict['val_loss']\n",
        "\n",
        "epochs = range(1, len(acc) + 1)\n",
        "\n",
        "plt.plot(epochs, loss, 'bo', label='Training loss')\n",
        "plt.plot(epochs, val_loss, 'r', label='Validation loss')\n",
        "plt.title('(2) Training and validation loss')\n",
        "plt.xlabel('Epochs')\n",
        "plt.ylabel('Loss')\n",
        "plt.legend()\n",
        "\n",
        "plt.show()"
      ],
      "metadata": {
        "id": "4nz8cl8eOj9i",
        "colab": {
          "base_uri": "https://localhost:8080/",
          "height": 295
        },
        "outputId": "a6b92100-3899-4e84-8257-0589a83c8e41"
      },
      "execution_count": null,
      "outputs": [
        {
          "output_type": "display_data",
          "data": {
            "text/plain": [
              "<Figure size 432x288 with 1 Axes>"
            ],
            "image/png": "[encoded data removed]"
          },
          "metadata": {
            "needs_background": "light"
          }
        }
      ]
    },
    {
      "cell_type": "code",
      "source": [
        "plt.clf() \n",
        "\n",
        "plt.plot(epochs, acc, 'bo', label='Training acc')\n",
        "plt.plot(epochs, val_acc, 'r', label='Validation acc')\n",
        "plt.title('(2) Training and validation loss')\n",
        "plt.xlabel('Epochs')\n",
        "plt.ylabel('Accuracy')\n",
        "plt.legend()\n",
        "\n",
        "plt.show()"
      ],
      "metadata": {
        "id": "2ZLM1SiBOmc1",
        "colab": {
          "base_uri": "https://localhost:8080/",
          "height": 295
        },
        "outputId": "2fdc58de-2292-4868-d909-eab2bb63d788"
      },
      "execution_count": null,
      "outputs": [
        {
          "output_type": "display_data",
          "data": {
            "text/plain": [
              "<Figure size 432x288 with 1 Axes>"
            ],
            "image/png": "[encoded data removed]"
          },
          "metadata": {
            "needs_background": "light"
          }
        }
      ]
    },
    {
      "cell_type": "markdown",
      "source": [
        "그래프가 살짝 완만해지긴 했으나 결과적으로는 동일한 모습이다.....흠...........흑......"
      ],
      "metadata": {
        "id": "Ty373nCROycq"
      }
    },
    {
      "cell_type": "markdown",
      "source": [
        "## STEP 7. 학습된 Embedding 레이어 분석\n",
        "---\n",
        "**(1-1) NLP쪽 모델만 사용한 LSTM 모델**  \n",
        " - loss: 0.4309 - accuracy: 0.8399 \n",
        " - 테스트 정확도: 0.8497 로 생각보다 약한 결과가 나왔다. \n",
        " - 또한 epochs 2회만에 val_loss가 증가하며 과적합된 모습을 볼 수 있었다.(이걸 어떻게 해결해야하는지 모르겠음... 드롭아웃하면 핵심단어가 빠질 수도 있어서 안될것 같기도 한데..)\n",
        "\n",
        "**(1-2) NLP쪽 모델만 사용한 GRU 모델**\n",
        " - loss: 0.4467 - accuracy: 0.8404\n",
        " - 테스트 정확도: 0.849\n",
        " - **모델의 복잡도가 높으면 학습에서 본 데이터를 너무 따라가는 경향이 있다**고 하는데, 이 경우에도 2회 이상이되면 과적합되는 것을보아 각각의 모델들이 너무 복잡해서? 바로 과적합이 되는 것 같다.\n",
        " - LSTM이나 GRU나 방식이 유사해서 그런지 결과값에서 크게 다른점은 보이지 않고 유사하다. \n",
        "\n",
        "**(2) 1D CNN 등을 이용한 모델**\n",
        " - loss: 0.4928 - accuracy: 0.8468\n",
        " - 테스트 정확도: 0.8567\n",
        " - 앞서 진행한 두개와 비교해보면, (1-1)보단 못하지만, (1-2)보다는 loss율도 낮고 정확도가 높아 이 경우엔 1D CNN을 이용한 모델도 좋은 결과를 이끌어 냄을 확인했다. \n",
        " - 그럼 두개를 섞은 모델에서는 더 좋은 결과를 나타낼지 궁금하다^0^!\n",
        "\n",
        "**(3) 1D CNN + LSTM 결합 모델**\n",
        " - loss: 0.4757 - accuracy: 0.8267\n",
        " - 테스트 정확도: 0.8352\n",
        " - 상기 3가지의 경우보다도 정확도가 떨어지는 것이 보인다. 또한 다른 모델과 동일하게 epoch가 2회이상 진행되면 과적합이 이뤄지는 것으로 보아,,, 모델의 복잡도가 문제인 것 같아 동일한 모델에서 word vector dim을 확 낮춰 다시 진행해보기로 하였다.   \n",
        "\n",
        "\n",
        "**(3-1) 1D CNN + LSTM 결합 모델 - word vector dim 낮춤**\n",
        " - loss: 0.4358 - accuracy: 0.8261 \n",
        " - 테스트 정확도: 0.8329\n",
        " - 워드 벡터를 낮춰 더 확실하게 넣어줬음에도 3번과 비슷한 결과를 보여줬다...  \n",
        " - 형태소를 제대로 짤라주지 않아 생긴 문제인가 싶어 토크나이저를 좀 더 신경써서 진행한 후 다시해보기로 함.  \n",
        "\n",
        " \n"
      ],
      "metadata": {
        "id": "klsD3wet_mpK"
      }
    },
    {
      "cell_type": "code",
      "source": [
        "# 단어의 특성을 저차원 벡터값으로 표현할 수 있는 워드 임베딩(word embedding) 기법\n",
        "embedding_layer = model_5.layers[0]            # 1D CNN + LSTM 결합 모델로 분석\n",
        "weights = embedding_layer.get_weights()[0]\n",
        "print(weights.shape)    # shape: (vocab_size, embedding_dim)"
      ],
      "metadata": {
        "id": "BlAh9oo1Ht8J",
        "colab": {
          "base_uri": "https://localhost:8080/"
        },
        "outputId": "ec3a8341-42b8-484b-fa1b-7054aabdbc2e"
      },
      "execution_count": null,
      "outputs": [
        {
          "output_type": "stream",
          "name": "stdout",
          "text": [
            "(10000, 64)\n"
          ]
        }
      ]
    },
    {
      "cell_type": "code",
      "source": [
        "# 학습한 Embedding 파라미터를 파일에 써서 저장합니다. \n",
        "word2vec_file_path = '/content/drive/MyDrive/COLAB_data/EX-9/word2vec_re.txt'\n",
        "f = open(word2vec_file_path, 'w')\n",
        "vocab_size = 10000\n",
        "f.write('{} {}\\n'.format(vocab_size-3, word_vector_dim))\n",
        "\n",
        "# 단어 개수(에서 특수문자 3개는 제외하고)만큼의 워드 벡터를 파일에 기록합니다. \n",
        "temp_vectors = model_5.get_weights()[0]\n",
        "for i in range(3, vocab_size):\n",
        "    f.write('{} {}\\n'.format(index_to_word[i], ' '.join(map(str, list(temp_vectors[i, :])))))\n",
        "f.close()"
      ],
      "metadata": {
        "id": "RVZB2z_hH9kO"
      },
      "execution_count": null,
      "outputs": []
    },
    {
      "cell_type": "code",
      "source": [
        "# word_vectors = Word2VecKeyedVectors.load_word2vec_format(word2vec_file_path, encoding='ISO-8859-1', binary=True)\n",
        "word_vectors = Word2VecKeyedVectors.load_word2vec_format(word2vec_file_path, binary = False)\n",
        "\n",
        "# word_vectors = model_4.wv.save_word2vec_format(word2vec_file_path, binary=False)\n",
        "\n",
        "##########제발 이거 보시는 분 해결 방법 좀 알려주세요ㅜㅜㅜㅜㅜ##############\n",
        "\n",
        "\n",
        "vector = word_vectors['즐거움']\n",
        "vector"
      ],
      "metadata": {
        "id": "QEOdVWp7IUEJ",
        "colab": {
          "base_uri": "https://localhost:8080/",
          "height": 436
        },
        "outputId": "c2aa0384-7a0d-40f9-c8ce-e705770b8f7e"
      },
      "execution_count": null,
      "outputs": [
        {
          "output_type": "error",
          "ename": "ValueError",
          "evalue": "ignored",
          "traceback": [
            "\u001b[0;31m---------------------------------------------------------------------------\u001b[0m",
            "\u001b[0;31mValueError\u001b[0m                                Traceback (most recent call last)",
            "\u001b[0;32m<ipython-input-216-06c3f182195c>\u001b[0m in \u001b[0;36m<module>\u001b[0;34m()\u001b[0m\n\u001b[1;32m      1\u001b[0m \u001b[0;31m# word_vectors = Word2VecKeyedVectors.load_word2vec_format(word2vec_file_path, encoding='ISO-8859-1', binary=True)\u001b[0m\u001b[0;34m\u001b[0m\u001b[0;34m\u001b[0m\u001b[0;34m\u001b[0m\u001b[0m\n\u001b[0;32m----> 2\u001b[0;31m \u001b[0mword_vectors\u001b[0m \u001b[0;34m=\u001b[0m \u001b[0mWord2VecKeyedVectors\u001b[0m\u001b[0;34m.\u001b[0m\u001b[0mload_word2vec_format\u001b[0m\u001b[0;34m(\u001b[0m\u001b[0mword2vec_file_path\u001b[0m\u001b[0;34m,\u001b[0m \u001b[0mbinary\u001b[0m \u001b[0;34m=\u001b[0m \u001b[0;32mFalse\u001b[0m\u001b[0;34m)\u001b[0m\u001b[0;34m\u001b[0m\u001b[0;34m\u001b[0m\u001b[0m\n\u001b[0m\u001b[1;32m      3\u001b[0m \u001b[0;34m\u001b[0m\u001b[0m\n\u001b[1;32m      4\u001b[0m \u001b[0;31m# word_vectors = model_4.wv.save_word2vec_format(word2vec_file_path, binary=False)\u001b[0m\u001b[0;34m\u001b[0m\u001b[0;34m\u001b[0m\u001b[0;34m\u001b[0m\u001b[0m\n\u001b[1;32m      5\u001b[0m \u001b[0;34m\u001b[0m\u001b[0m\n",
            "\u001b[0;32m/usr/local/lib/python3.7/dist-packages/gensim/models/keyedvectors.py\u001b[0m in \u001b[0;36mload_word2vec_format\u001b[0;34m(cls, fname, fvocab, binary, encoding, unicode_errors, limit, datatype)\u001b[0m\n\u001b[1;32m   1436\u001b[0m \u001b[0;34m\u001b[0m\u001b[0m\n\u001b[1;32m   1437\u001b[0m \u001b[0;34m\u001b[0m\u001b[0m\n\u001b[0;32m-> 1438\u001b[0;31m \u001b[0;32mclass\u001b[0m \u001b[0mWordEmbeddingSimilarityIndex\u001b[0m\u001b[0;34m(\u001b[0m\u001b[0mTermSimilarityIndex\u001b[0m\u001b[0;34m)\u001b[0m\u001b[0;34m:\u001b[0m\u001b[0;34m\u001b[0m\u001b[0;34m\u001b[0m\u001b[0m\n\u001b[0m\u001b[1;32m   1439\u001b[0m     \"\"\"\n\u001b[1;32m   1440\u001b[0m     \u001b[0mComputes\u001b[0m \u001b[0mcosine\u001b[0m \u001b[0msimilarities\u001b[0m \u001b[0mbetween\u001b[0m \u001b[0mword\u001b[0m \u001b[0membeddings\u001b[0m \u001b[0;32mand\u001b[0m \u001b[0mretrieves\u001b[0m \u001b[0mthe\u001b[0m \u001b[0mclosest\u001b[0m \u001b[0mword\u001b[0m \u001b[0membeddings\u001b[0m\u001b[0;34m\u001b[0m\u001b[0;34m\u001b[0m\u001b[0m\n",
            "\u001b[0;32m/usr/local/lib/python3.7/dist-packages/gensim/models/utils_any2vec.py\u001b[0m in \u001b[0;36m_load_word2vec_format\u001b[0;34m(cls, fname, fvocab, binary, encoding, unicode_errors, limit, datatype)\u001b[0m\n\u001b[1;32m    219\u001b[0m         \u001b[0;32mif\u001b[0m \u001b[0mlen\u001b[0m\u001b[0;34m(\u001b[0m\u001b[0mparts\u001b[0m\u001b[0;34m)\u001b[0m \u001b[0;34m!=\u001b[0m \u001b[0mvector_size\u001b[0m \u001b[0;34m+\u001b[0m \u001b[0;36m1\u001b[0m\u001b[0;34m:\u001b[0m\u001b[0;34m\u001b[0m\u001b[0;34m\u001b[0m\u001b[0m\n\u001b[1;32m    220\u001b[0m             \u001b[0;32mraise\u001b[0m \u001b[0mValueError\u001b[0m\u001b[0;34m(\u001b[0m\u001b[0;34m\"invalid vector on line %s (is this really the text format?)\"\u001b[0m \u001b[0;34m%\u001b[0m \u001b[0mline_no\u001b[0m\u001b[0;34m)\u001b[0m\u001b[0;34m\u001b[0m\u001b[0;34m\u001b[0m\u001b[0m\n\u001b[0;32m--> 221\u001b[0;31m         \u001b[0mword\u001b[0m\u001b[0;34m,\u001b[0m \u001b[0mweights\u001b[0m \u001b[0;34m=\u001b[0m \u001b[0mparts\u001b[0m\u001b[0;34m[\u001b[0m\u001b[0;36m0\u001b[0m\u001b[0;34m]\u001b[0m\u001b[0;34m,\u001b[0m \u001b[0;34m[\u001b[0m\u001b[0mdatatype\u001b[0m\u001b[0;34m(\u001b[0m\u001b[0mx\u001b[0m\u001b[0;34m)\u001b[0m \u001b[0;32mfor\u001b[0m \u001b[0mx\u001b[0m \u001b[0;32min\u001b[0m \u001b[0mparts\u001b[0m\u001b[0;34m[\u001b[0m\u001b[0;36m1\u001b[0m\u001b[0;34m:\u001b[0m\u001b[0;34m]\u001b[0m\u001b[0;34m]\u001b[0m\u001b[0;34m\u001b[0m\u001b[0;34m\u001b[0m\u001b[0m\n\u001b[0m\u001b[1;32m    222\u001b[0m         \u001b[0m_add_word_to_result\u001b[0m\u001b[0;34m(\u001b[0m\u001b[0mresult\u001b[0m\u001b[0;34m,\u001b[0m \u001b[0mcounts\u001b[0m\u001b[0;34m,\u001b[0m \u001b[0mword\u001b[0m\u001b[0;34m,\u001b[0m \u001b[0mweights\u001b[0m\u001b[0;34m,\u001b[0m \u001b[0mvocab_size\u001b[0m\u001b[0;34m)\u001b[0m\u001b[0;34m\u001b[0m\u001b[0;34m\u001b[0m\u001b[0m\n\u001b[1;32m    223\u001b[0m \u001b[0;34m\u001b[0m\u001b[0m\n",
            "\u001b[0;31mValueError\u001b[0m: invalid vector on line 0 (is this really the text format?)"
          ]
        }
      ]
    },
    {
      "cell_type": "code",
      "source": [
        "# 단어를 하나 주고 그와 가장 유사한 단어와 그 유사도를 확인하는 방법\n",
        "word_vectors.similar_by_word(\"즐거움\")"
      ],
      "metadata": {
        "id": "AxLTzaYoIju6",
        "colab": {
          "base_uri": "https://localhost:8080/",
          "height": 387
        },
        "outputId": "055491cc-6edd-4af2-c4d9-149c5799deb8"
      },
      "execution_count": null,
      "outputs": [
        {
          "output_type": "stream",
          "name": "stderr",
          "text": [
            "/usr/local/lib/python3.7/dist-packages/gensim/models/keyedvectors.py:1366: RuntimeWarning: overflow encountered in square\n",
            "  self.vectors_norm = (self.vectors / sqrt((self.vectors ** 2).sum(-1))[..., newaxis]).astype(REAL)\n"
          ]
        },
        {
          "output_type": "error",
          "ename": "KeyError",
          "evalue": "ignored",
          "traceback": [
            "\u001b[0;31m---------------------------------------------------------------------------\u001b[0m",
            "\u001b[0;31mKeyError\u001b[0m                                  Traceback (most recent call last)",
            "\u001b[0;32m<ipython-input-152-73d04c080328>\u001b[0m in \u001b[0;36m<module>\u001b[0;34m()\u001b[0m\n\u001b[1;32m      1\u001b[0m \u001b[0;31m# 단어를 하나 주고 그와 가장 유사한 단어와 그 유사도를 확인하는 방법\u001b[0m\u001b[0;34m\u001b[0m\u001b[0;34m\u001b[0m\u001b[0;34m\u001b[0m\u001b[0m\n\u001b[0;32m----> 2\u001b[0;31m \u001b[0mword_vectors\u001b[0m\u001b[0;34m.\u001b[0m\u001b[0msimilar_by_word\u001b[0m\u001b[0;34m(\u001b[0m\u001b[0;34m\"즐거움\"\u001b[0m\u001b[0;34m)\u001b[0m\u001b[0;34m\u001b[0m\u001b[0;34m\u001b[0m\u001b[0m\n\u001b[0m",
            "\u001b[0;32m/usr/local/lib/python3.7/dist-packages/gensim/models/keyedvectors.py\u001b[0m in \u001b[0;36msimilar_by_word\u001b[0;34m(self, word, topn, restrict_vocab)\u001b[0m\n\u001b[1;32m    570\u001b[0m \u001b[0;34m\u001b[0m\u001b[0m\n\u001b[1;32m    571\u001b[0m         \"\"\"\n\u001b[0;32m--> 572\u001b[0;31m         \u001b[0;32mreturn\u001b[0m \u001b[0mself\u001b[0m\u001b[0;34m.\u001b[0m\u001b[0mmost_similar\u001b[0m\u001b[0;34m(\u001b[0m\u001b[0mpositive\u001b[0m\u001b[0;34m=\u001b[0m\u001b[0;34m[\u001b[0m\u001b[0mword\u001b[0m\u001b[0;34m]\u001b[0m\u001b[0;34m,\u001b[0m \u001b[0mtopn\u001b[0m\u001b[0;34m=\u001b[0m\u001b[0mtopn\u001b[0m\u001b[0;34m,\u001b[0m \u001b[0mrestrict_vocab\u001b[0m\u001b[0;34m=\u001b[0m\u001b[0mrestrict_vocab\u001b[0m\u001b[0;34m)\u001b[0m\u001b[0;34m\u001b[0m\u001b[0;34m\u001b[0m\u001b[0m\n\u001b[0m\u001b[1;32m    573\u001b[0m \u001b[0;34m\u001b[0m\u001b[0m\n\u001b[1;32m    574\u001b[0m     \u001b[0;32mdef\u001b[0m \u001b[0msimilar_by_vector\u001b[0m\u001b[0;34m(\u001b[0m\u001b[0mself\u001b[0m\u001b[0;34m,\u001b[0m \u001b[0mvector\u001b[0m\u001b[0;34m,\u001b[0m \u001b[0mtopn\u001b[0m\u001b[0;34m=\u001b[0m\u001b[0;36m10\u001b[0m\u001b[0;34m,\u001b[0m \u001b[0mrestrict_vocab\u001b[0m\u001b[0;34m=\u001b[0m\u001b[0;32mNone\u001b[0m\u001b[0;34m)\u001b[0m\u001b[0;34m:\u001b[0m\u001b[0;34m\u001b[0m\u001b[0;34m\u001b[0m\u001b[0m\n",
            "\u001b[0;32m/usr/local/lib/python3.7/dist-packages/gensim/models/keyedvectors.py\u001b[0m in \u001b[0;36mmost_similar\u001b[0;34m(self, positive, negative, topn, restrict_vocab, indexer)\u001b[0m\n\u001b[1;32m    529\u001b[0m                 \u001b[0mmean\u001b[0m\u001b[0;34m.\u001b[0m\u001b[0mappend\u001b[0m\u001b[0;34m(\u001b[0m\u001b[0mweight\u001b[0m \u001b[0;34m*\u001b[0m \u001b[0mword\u001b[0m\u001b[0;34m)\u001b[0m\u001b[0;34m\u001b[0m\u001b[0;34m\u001b[0m\u001b[0m\n\u001b[1;32m    530\u001b[0m             \u001b[0;32melse\u001b[0m\u001b[0;34m:\u001b[0m\u001b[0;34m\u001b[0m\u001b[0;34m\u001b[0m\u001b[0m\n\u001b[0;32m--> 531\u001b[0;31m                 \u001b[0mmean\u001b[0m\u001b[0;34m.\u001b[0m\u001b[0mappend\u001b[0m\u001b[0;34m(\u001b[0m\u001b[0mweight\u001b[0m \u001b[0;34m*\u001b[0m \u001b[0mself\u001b[0m\u001b[0;34m.\u001b[0m\u001b[0mword_vec\u001b[0m\u001b[0;34m(\u001b[0m\u001b[0mword\u001b[0m\u001b[0;34m,\u001b[0m \u001b[0muse_norm\u001b[0m\u001b[0;34m=\u001b[0m\u001b[0;32mTrue\u001b[0m\u001b[0;34m)\u001b[0m\u001b[0;34m)\u001b[0m\u001b[0;34m\u001b[0m\u001b[0;34m\u001b[0m\u001b[0m\n\u001b[0m\u001b[1;32m    532\u001b[0m                 \u001b[0;32mif\u001b[0m \u001b[0mword\u001b[0m \u001b[0;32min\u001b[0m \u001b[0mself\u001b[0m\u001b[0;34m.\u001b[0m\u001b[0mvocab\u001b[0m\u001b[0;34m:\u001b[0m\u001b[0;34m\u001b[0m\u001b[0;34m\u001b[0m\u001b[0m\n\u001b[1;32m    533\u001b[0m                     \u001b[0mall_words\u001b[0m\u001b[0;34m.\u001b[0m\u001b[0madd\u001b[0m\u001b[0;34m(\u001b[0m\u001b[0mself\u001b[0m\u001b[0;34m.\u001b[0m\u001b[0mvocab\u001b[0m\u001b[0;34m[\u001b[0m\u001b[0mword\u001b[0m\u001b[0;34m]\u001b[0m\u001b[0;34m.\u001b[0m\u001b[0mindex\u001b[0m\u001b[0;34m)\u001b[0m\u001b[0;34m\u001b[0m\u001b[0;34m\u001b[0m\u001b[0m\n",
            "\u001b[0;32m/usr/local/lib/python3.7/dist-packages/gensim/models/keyedvectors.py\u001b[0m in \u001b[0;36mword_vec\u001b[0;34m(self, word, use_norm)\u001b[0m\n\u001b[1;32m    450\u001b[0m             \u001b[0;32mreturn\u001b[0m \u001b[0mresult\u001b[0m\u001b[0;34m\u001b[0m\u001b[0;34m\u001b[0m\u001b[0m\n\u001b[1;32m    451\u001b[0m         \u001b[0;32melse\u001b[0m\u001b[0;34m:\u001b[0m\u001b[0;34m\u001b[0m\u001b[0;34m\u001b[0m\u001b[0m\n\u001b[0;32m--> 452\u001b[0;31m             \u001b[0;32mraise\u001b[0m \u001b[0mKeyError\u001b[0m\u001b[0;34m(\u001b[0m\u001b[0;34m\"word '%s' not in vocabulary\"\u001b[0m \u001b[0;34m%\u001b[0m \u001b[0mword\u001b[0m\u001b[0;34m)\u001b[0m\u001b[0;34m\u001b[0m\u001b[0;34m\u001b[0m\u001b[0m\n\u001b[0m\u001b[1;32m    453\u001b[0m \u001b[0;34m\u001b[0m\u001b[0m\n\u001b[1;32m    454\u001b[0m     \u001b[0;32mdef\u001b[0m \u001b[0mget_vector\u001b[0m\u001b[0;34m(\u001b[0m\u001b[0mself\u001b[0m\u001b[0;34m,\u001b[0m \u001b[0mword\u001b[0m\u001b[0;34m)\u001b[0m\u001b[0;34m:\u001b[0m\u001b[0;34m\u001b[0m\u001b[0;34m\u001b[0m\u001b[0m\n",
            "\u001b[0;31mKeyError\u001b[0m: \"word '즐거움' not in vocabulary\""
          ]
        }
      ]
    },
    {
      "cell_type": "markdown",
      "source": [
        "## STEP 8. 한국어 Word2Vec 임베딩 활용하여 성능 개선\n",
        "---\n",
        "Word2Vec 임베딩을 활용해서 모델의 성능을 개선해보자!\n"
      ],
      "metadata": {
        "id": "nVMMGEtt60OE"
      }
    },
    {
      "cell_type": "markdown",
      "source": [
        "### 1) Word2Vec 모델 가져오기\n",
        "\n",
        "---\n",
        "해당 모델은 [박규병님의 공개된 모델](https://github.com/Kyubyong/wordvectors)을 사용하였다."
      ],
      "metadata": {
        "id": "Xmi4x8Ug7CsV"
      }
    },
    {
      "cell_type": "code",
      "source": [
        "word2vec_path = '/content/drive/MyDrive/COLAB_data/EX-9/ko.bin'\n",
        "word2vec = Word2Vec.load(word2vec_path)\n",
        "\n",
        "vector = word2vec['영화']\n",
        "vector"
      ],
      "metadata": {
        "id": "KRysaZz1q2D2",
        "colab": {
          "base_uri": "https://localhost:8080/"
        },
        "outputId": "6fb6f5b1-2fcc-4182-e350-ab99fd831f91"
      },
      "execution_count": null,
      "outputs": [
        {
          "output_type": "stream",
          "name": "stderr",
          "text": [
            "/usr/local/lib/python3.7/dist-packages/ipykernel_launcher.py:4: DeprecationWarning: Call to deprecated `__getitem__` (Method will be removed in 4.0.0, use self.wv.__getitem__() instead).\n",
            "  after removing the cwd from sys.path.\n"
          ]
        },
        {
          "output_type": "execute_result",
          "data": {
            "text/plain": [
              "array([-1.7577837 , -1.0874279 ,  1.5300866 , -0.1115231 , -0.37980682,\n",
              "        1.4828517 ,  1.3180419 ,  0.11094163,  0.7430535 , -0.45461136,\n",
              "        0.58841336,  0.5763913 ,  1.210707  ,  1.3132795 , -0.86962503,\n",
              "       -0.18507595, -0.47440064,  1.5100725 ,  1.0965794 ,  1.0600823 ,\n",
              "       -0.27457932, -0.70003706,  2.3117511 ,  1.4944884 ,  0.25560892,\n",
              "       -2.866659  , -0.28312334,  0.34263936, -0.67723423,  0.71714777,\n",
              "        0.25549442,  0.71732044, -0.13262457,  0.01792452, -0.3184774 ,\n",
              "        0.5271619 ,  0.7561084 , -2.1247065 ,  1.061429  , -0.21065854,\n",
              "        0.6877343 , -1.4956383 ,  0.60346967, -2.6955893 ,  0.37694618,\n",
              "       -1.0164185 ,  0.5430663 ,  0.1200121 , -2.6315718 ,  0.6216742 ,\n",
              "        1.1583976 , -2.5385962 ,  1.326312  , -0.10284371, -0.0286147 ,\n",
              "       -0.9132947 ,  0.7647564 ,  0.79202783, -1.8625957 , -0.7418395 ,\n",
              "        0.5884277 , -0.9917992 , -0.62114453,  1.5367815 , -0.6628939 ,\n",
              "        0.6712103 ,  0.12914915,  0.21228492,  0.9017655 , -0.25083402,\n",
              "        0.71500814,  0.08644514,  0.59993285,  0.5766137 ,  0.64095974,\n",
              "        0.47888306, -2.8426213 , -2.8502681 , -0.140544  , -1.5917364 ,\n",
              "        0.26691505,  0.59476066,  0.85868204,  1.0322351 ,  0.25671318,\n",
              "       -0.34831643,  1.752927  , -0.21967097, -0.77352476,  1.6995213 ,\n",
              "        1.3996491 , -0.9419836 ,  0.85996443, -1.8812876 , -2.5428605 ,\n",
              "        0.39351937, -1.2882805 ,  0.56548136,  1.006273  ,  1.2217585 ,\n",
              "        3.5744793 ,  1.717737  ,  1.6917158 , -2.2176905 , -0.3167447 ,\n",
              "        1.2449    , -1.255284  , -2.1539652 , -1.096709  , -0.74976933,\n",
              "       -0.16744931, -1.8507233 ,  2.1861036 , -0.05389732,  1.038033  ,\n",
              "        0.33730686, -1.4647075 , -1.264041  ,  0.25509247,  0.0622906 ,\n",
              "        0.27852032, -0.52661455,  0.8529616 ,  0.58257025, -0.57665855,\n",
              "        1.3990631 ,  0.28237963,  1.6566037 ,  1.9912103 ,  0.63888913,\n",
              "        0.7732426 , -1.3757724 ,  0.17209321, -0.2433672 ,  0.6328291 ,\n",
              "        1.486971  ,  2.3435354 , -1.7037928 ,  3.1944559 , -1.9049606 ,\n",
              "       -0.51309574,  0.79082954, -1.4480313 , -0.68631476,  0.62008876,\n",
              "       -2.3400223 , -0.5785594 ,  0.5270694 ,  3.0061607 , -1.3661511 ,\n",
              "       -2.7953272 , -1.1794031 , -0.27734265,  0.71130925, -0.06620383,\n",
              "        0.33663416,  0.7204997 , -0.923218  , -2.1603265 , -0.8904896 ,\n",
              "       -1.4137112 , -0.4189144 ,  0.42834592,  1.8104875 , -1.8274456 ,\n",
              "       -0.26700613,  0.7743727 ,  0.80048114,  1.1333636 ,  3.2746978 ,\n",
              "       -0.0188297 ,  0.9245737 , -0.1246058 , -0.5802861 , -0.01926111,\n",
              "        1.05892   , -1.4247856 ,  1.0689156 ,  2.5728712 , -1.294882  ,\n",
              "        0.74771804,  1.3066916 , -1.3213431 ,  1.6501019 , -0.12401557,\n",
              "        0.96340084,  0.26050946,  1.3826336 , -0.02877662,  2.3431563 ,\n",
              "       -0.26337367,  1.9162012 , -0.77454543,  1.7392642 ,  0.08038983,\n",
              "       -0.60325927,  0.29508227,  0.4812675 ,  0.5271086 ,  0.94171894],\n",
              "      dtype=float32)"
            ]
          },
          "metadata": {},
          "execution_count": 218
        }
      ]
    },
    {
      "cell_type": "code",
      "source": [
        "# 제시한 단어에 맞춰 유사한 단어&유사도를 확인\n",
        "word2vec.similar_by_word(\"재미\")"
      ],
      "metadata": {
        "id": "M70oWC3q_JtO",
        "colab": {
          "base_uri": "https://localhost:8080/"
        },
        "outputId": "5a7271f5-6616-47dc-8a98-671f3fc8f33a"
      },
      "execution_count": null,
      "outputs": [
        {
          "output_type": "stream",
          "name": "stderr",
          "text": [
            "/usr/local/lib/python3.7/dist-packages/ipykernel_launcher.py:2: DeprecationWarning: Call to deprecated `similar_by_word` (Method will be removed in 4.0.0, use self.wv.similar_by_word() instead).\n",
            "  \n"
          ]
        },
        {
          "output_type": "execute_result",
          "data": {
            "text/plain": [
              "[('취미', 0.5857348442077637),\n",
              " ('유머', 0.5140613913536072),\n",
              " ('매력', 0.5105490684509277),\n",
              " ('흥미', 0.4988338351249695),\n",
              " ('공짜', 0.4960595667362213),\n",
              " ('일자리', 0.49294644594192505),\n",
              " ('즐거움', 0.48700767755508423),\n",
              " ('비애', 0.4836210310459137),\n",
              " ('관객', 0.48286449909210205),\n",
              " ('향수', 0.4823310971260071)]"
            ]
          },
          "metadata": {},
          "execution_count": 219
        }
      ]
    },
    {
      "cell_type": "markdown",
      "source": [
        "### 2) Embdding Matrix"
      ],
      "metadata": {
        "id": "CLR2FuYbN5p-"
      }
    },
    {
      "cell_type": "code",
      "source": [
        "vocab_size = 10000    # 어휘 사전의 크기입니다(10,000개의 단어)\n",
        "word_vector_dim = 200  # 워드 벡터의 차원수 (변경가능한 하이퍼파라미터)\n",
        "\n",
        "embedding_matrix = np.random.rand(vocab_size, word_vector_dim)\n",
        "\n",
        "# embedding_matrix에 Word2Vec 워드벡터를 단어 하나씩마다 차례차례 카피한다.\n",
        "for i in range(3, vocab_size):\n",
        "    if index_to_word[i] in word2vec:\n",
        "        embedding_matrix[i] = word2vec[index_to_word[i]]"
      ],
      "metadata": {
        "id": "CNGVKSzyN0zj",
        "colab": {
          "base_uri": "https://localhost:8080/"
        },
        "outputId": "6de19bdd-766e-4595-f3a0-3519f2fcdfa7"
      },
      "execution_count": null,
      "outputs": [
        {
          "output_type": "stream",
          "name": "stderr",
          "text": [
            "/usr/local/lib/python3.7/dist-packages/ipykernel_launcher.py:8: DeprecationWarning: Call to deprecated `__contains__` (Method will be removed in 4.0.0, use self.wv.__contains__() instead).\n",
            "  \n",
            "/usr/local/lib/python3.7/dist-packages/ipykernel_launcher.py:9: DeprecationWarning: Call to deprecated `__getitem__` (Method will be removed in 4.0.0, use self.wv.__getitem__() instead).\n",
            "  if __name__ == '__main__':\n"
          ]
        }
      ]
    },
    {
      "cell_type": "markdown",
      "source": [
        "### 3) 학습된 Word2Vec 모델 사용"
      ],
      "metadata": {
        "id": "cTRA3PWrOMPY"
      }
    },
    {
      "cell_type": "code",
      "source": [
        "# 모델 구성\n",
        "model_6 = tf.keras.Sequential()\n",
        "model_6.add(tf.keras.layers.Embedding(vocab_size, \n",
        "                                 word_vector_dim, \n",
        "                                 embeddings_initializer=Constant(embedding_matrix),  # 카피한 임베딩을 여기서 활용\n",
        "                                 input_length=maxlen, \n",
        "                                 trainable=True))   # trainable을 True로 주면 Fine-tuning\n",
        "model_6.add(tf.keras.layers.Conv1D(num_filters, kernel_size, activation='relu'))\n",
        "model_6.add(Dropout(0.25))\n",
        "model_6.add(tf.keras.layers.MaxPooling1D())\n",
        "#25% Drop out 삽입하여 LSTM 반복학습을 유지할 수 있도록 함\n",
        "model_6.add(Dropout(0.25))\n",
        "#LSTM층\n",
        "model_6.add(tf.keras.layers.LSTM(hidden_units))\n",
        "#25% Drop out 삽입하여 LSTM 반복학습을 유지할 수 있도록 함\n",
        "model_6.add(Dropout(0.25))\n",
        "model_6.add(tf.keras.layers.Dense(8, activation = 'relu'))\n",
        "model_6.add(tf.keras.layers.Dense(1, activation = 'sigmoid'))\n",
        "\n",
        "model_6.summary()"
      ],
      "metadata": {
        "id": "fFdzlIu0OPc3",
        "colab": {
          "base_uri": "https://localhost:8080/"
        },
        "outputId": "fab7613e-9f13-43f8-8d04-fee3b4819194"
      },
      "execution_count": null,
      "outputs": [
        {
          "output_type": "stream",
          "name": "stdout",
          "text": [
            "Model: \"sequential_15\"\n",
            "_________________________________________________________________\n",
            "Layer (type)                 Output Shape              Param #   \n",
            "=================================================================\n",
            "embedding_15 (Embedding)     (None, 95, 200)           2000000   \n",
            "_________________________________________________________________\n",
            "conv1d_3 (Conv1D)            (None, 93, 128)           76928     \n",
            "_________________________________________________________________\n",
            "dropout_8 (Dropout)          (None, 93, 128)           0         \n",
            "_________________________________________________________________\n",
            "max_pooling1d_2 (MaxPooling1 (None, 46, 128)           0         \n",
            "_________________________________________________________________\n",
            "dropout_9 (Dropout)          (None, 46, 128)           0         \n",
            "_________________________________________________________________\n",
            "lstm_3 (LSTM)                (None, 128)               131584    \n",
            "_________________________________________________________________\n",
            "dropout_10 (Dropout)         (None, 128)               0         \n",
            "_________________________________________________________________\n",
            "dense_10 (Dense)             (None, 8)                 1032      \n",
            "_________________________________________________________________\n",
            "dense_11 (Dense)             (None, 1)                 9         \n",
            "=================================================================\n",
            "Total params: 2,209,553\n",
            "Trainable params: 2,209,553\n",
            "Non-trainable params: 0\n",
            "_________________________________________________________________\n"
          ]
        }
      ]
    },
    {
      "cell_type": "code",
      "source": [
        "tf.keras.utils.plot_model(model_6)"
      ],
      "metadata": {
        "id": "qvrUl7bnPcHr",
        "colab": {
          "base_uri": "https://localhost:8080/",
          "height": 953
        },
        "outputId": "f89a02ea-da50-479a-c787-cb7dc0622f21"
      },
      "execution_count": null,
      "outputs": [
        {
          "output_type": "execute_result",
          "data": {
            "text/plain": [
              "<IPython.core.display.Image object>"
            ],
            "image/png": "[encoded data removed]"
          },
          "metadata": {},
          "execution_count": 222
        }
      ]
    },
    {
      "cell_type": "code",
      "source": [
        "#학습시작\n",
        "es = EarlyStopping(monitor = 'val_loss', mode = 'min', verbose = 1, patience = 4)\n",
        "mc = ModelCheckpoint('best_model.h5', monitor='val_accuracy', mode='max', verbose=1, save_best_only=True)\n",
        "\n",
        "epochs = 20\n",
        "\n",
        "model_6.compile(optimizer = 'adam', loss = 'binary_crossentropy', metrics = ['accuracy'])\n",
        "history_6 = model_6.fit(part_X_train,\n",
        "                      part_y_train,\n",
        "                      epochs = epochs,\n",
        "                      callbacks = [es, mc],\n",
        "                      batch_size = 512,\n",
        "                      validation_data = (X_val, y_val))"
      ],
      "metadata": {
        "id": "8dY41kqWPf4E",
        "colab": {
          "base_uri": "https://localhost:8080/"
        },
        "outputId": "b85dab47-aec8-4782-dd71-356599355b38"
      },
      "execution_count": null,
      "outputs": [
        {
          "output_type": "stream",
          "name": "stdout",
          "text": [
            "Epoch 1/20\n",
            "229/229 [==============================] - 9s 31ms/step - loss: 0.5329 - accuracy: 0.7223 - val_loss: 0.4237 - val_accuracy: 0.8022\n",
            "\n",
            "Epoch 00001: val_accuracy improved from -inf to 0.80216, saving model to best_model.h5\n",
            "Epoch 2/20\n",
            "229/229 [==============================] - 5s 24ms/step - loss: 0.4024 - accuracy: 0.8148 - val_loss: 0.4000 - val_accuracy: 0.8132\n",
            "\n",
            "Epoch 00002: val_accuracy improved from 0.80216 to 0.81321, saving model to best_model.h5\n",
            "Epoch 3/20\n",
            "229/229 [==============================] - 5s 23ms/step - loss: 0.3563 - accuracy: 0.8389 - val_loss: 0.3517 - val_accuracy: 0.8412\n",
            "\n",
            "Epoch 00003: val_accuracy improved from 0.81321 to 0.84115, saving model to best_model.h5\n",
            "Epoch 4/20\n",
            "229/229 [==============================] - 5s 23ms/step - loss: 0.3291 - accuracy: 0.8534 - val_loss: 0.3847 - val_accuracy: 0.8328\n",
            "\n",
            "Epoch 00004: val_accuracy did not improve from 0.84115\n",
            "Epoch 5/20\n",
            "229/229 [==============================] - 5s 23ms/step - loss: 0.3129 - accuracy: 0.8618 - val_loss: 0.3479 - val_accuracy: 0.8460\n",
            "\n",
            "Epoch 00005: val_accuracy improved from 0.84115 to 0.84598, saving model to best_model.h5\n",
            "Epoch 6/20\n",
            "229/229 [==============================] - 5s 23ms/step - loss: 0.2994 - accuracy: 0.8684 - val_loss: 0.3541 - val_accuracy: 0.8441\n",
            "\n",
            "Epoch 00006: val_accuracy did not improve from 0.84598\n",
            "Epoch 7/20\n",
            "229/229 [==============================] - 5s 23ms/step - loss: 0.2892 - accuracy: 0.8743 - val_loss: 0.3560 - val_accuracy: 0.8480\n",
            "\n",
            "Epoch 00007: val_accuracy improved from 0.84598 to 0.84803, saving model to best_model.h5\n",
            "Epoch 8/20\n",
            "229/229 [==============================] - 5s 23ms/step - loss: 0.2770 - accuracy: 0.8798 - val_loss: 0.3511 - val_accuracy: 0.8464\n",
            "\n",
            "Epoch 00008: val_accuracy did not improve from 0.84803\n",
            "Epoch 9/20\n",
            "229/229 [==============================] - 5s 23ms/step - loss: 0.2687 - accuracy: 0.8835 - val_loss: 0.3599 - val_accuracy: 0.8457\n",
            "\n",
            "Epoch 00009: val_accuracy did not improve from 0.84803\n",
            "Epoch 00009: early stopping\n"
          ]
        }
      ]
    },
    {
      "cell_type": "code",
      "source": [
        "loaded_model_6 = load_model('best_model.h5')\n",
        "print(\"\\n 테스트 정확도: %.4f\" % (loaded_model_6.evaluate(X_test, y_test)[1]))\n",
        "\n",
        "results = model_6.evaluate(X_test,  y_test, verbose=2)\n",
        "\n",
        "print(results)"
      ],
      "metadata": {
        "id": "5oJre1MePqUK",
        "colab": {
          "base_uri": "https://localhost:8080/"
        },
        "outputId": "5f48cb26-79c4-4deb-bbb1-6a42f9d92426"
      },
      "execution_count": null,
      "outputs": [
        {
          "output_type": "stream",
          "name": "stdout",
          "text": [
            "1537/1537 [==============================] - 7s 4ms/step - loss: 0.3672 - accuracy: 0.8435\n",
            "\n",
            " 테스트 정확도: 0.8435\n",
            "1537/1537 - 4s - loss: 0.3706 - accuracy: 0.8453\n",
            "[0.3705868124961853, 0.8452916145324707]\n"
          ]
        }
      ]
    },
    {
      "cell_type": "code",
      "source": [
        "history_6_dict = history_6.history\n",
        "\n",
        "acc = history_6_dict['accuracy']\n",
        "val_acc = history_6_dict['val_accuracy']\n",
        "loss = history_6_dict['loss']\n",
        "val_loss = history_6_dict['val_loss']\n",
        "\n",
        "epochs = range(1, len(acc) + 1)\n",
        "\n",
        "plt.plot(epochs, loss, 'bo', label='Training loss')\n",
        "plt.plot(epochs, val_loss, 'r', label='Validation loss')\n",
        "plt.title('(Word2Vec) Training and validation loss')\n",
        "plt.xlabel('Epochs')\n",
        "plt.ylabel('Loss')\n",
        "plt.legend()\n",
        "\n",
        "plt.show()"
      ],
      "metadata": {
        "id": "Tex1uk4UPtRR",
        "colab": {
          "base_uri": "https://localhost:8080/",
          "height": 295
        },
        "outputId": "ad826cf0-0a4f-4a51-e3b7-c4213bab3a8b"
      },
      "execution_count": null,
      "outputs": [
        {
          "output_type": "display_data",
          "data": {
            "text/plain": [
              "<Figure size 432x288 with 1 Axes>"
            ],
            "image/png": "[encoded data removed]"
          },
          "metadata": {
            "needs_background": "light"
          }
        }
      ]
    },
    {
      "cell_type": "code",
      "source": [
        "plt.clf() \n",
        "\n",
        "plt.plot(epochs, acc, 'bo', label='Training acc')\n",
        "plt.plot(epochs, val_acc, 'r', label='Validation acc')\n",
        "plt.title('(Word2Vec) Training and validation loss')\n",
        "plt.xlabel('Epochs')\n",
        "plt.ylabel('Accuracy')\n",
        "plt.legend()\n",
        "\n",
        "plt.show()"
      ],
      "metadata": {
        "id": "1Kkg0FREQKm0",
        "colab": {
          "base_uri": "https://localhost:8080/",
          "height": 295
        },
        "outputId": "ac3d42da-997d-4d06-bf28-e86b3c4c2b78"
      },
      "execution_count": null,
      "outputs": [
        {
          "output_type": "display_data",
          "data": {
            "text/plain": [
              "<Figure size 432x288 with 1 Axes>"
            ],
            "image/png": "[encoded data removed]"
          },
          "metadata": {
            "needs_background": "light"
          }
        }
      ]
    },
    {
      "cell_type": "markdown",
      "source": [
        "- 테스트 정확도: 0.8435\n",
        "- loss: 0.3706 - accuracy: 0.8453\n",
        "- 상기 정확도를 보니, 가지고 온 Word2Vec도 크게 유의미한 값을 내진 못했다.\n",
        "- 하지만 그래도 그래프 상으로 epoch 3회까지 학습이 진행된것을 보아 학습은 잘 진행된 것 같다. 처음 해본 Word2Vec였으니 다음엔 더 큰 데이터를 가지고 처리해서 비교해보고 싶다. "
      ],
      "metadata": {
        "id": "4-xtDvzT_DeD"
      }
    },
    {
      "cell_type": "markdown",
      "source": [
        "## 회고\n",
        "----\n",
        "- 계속 과적합이 반복되는데, 각 모델이 어떻게 돌아가는지 확실하게 이해하지 못하고 진행하니까 오류가 나더라도 어떻게 수정해야할지 몰라서 답답했다. **모델별로 정리해서 블로그에 올려야겠다.**  \n",
        "- 그동안 **코드를 복붙하고 보면서 이해하는 식으로 진행했었는데, 그건 공부를 하는게 아니라 그냥 코드를 읽고 있었다**는걸 알았다. 이번에 진행하면서 `<BOS>`, `<EOS>`를 붙여야하는데 어디서 해야하는지 모르겠으니 그동안 NLP를 2번이나 진행했는데 이것도 안되나,, 스스로에게 조금 화가났다..  \n",
        "- 또 관련해서 **컴퓨터 자료구조의 공부 필요성**을 느낀게 자꾸 list라 split이 안된다고 하는데 이걸 어떤식으로 해결을 해야 기존 구조를 건들이지 않으면서 오류를 해결할 수 있을까 여러 시도를 해보다가 결국 못한게 속상하다...  \n",
        "- 그래도 NLP 모델들의 예측 방법을 알고있으니 이번 과제에선 시작과 끝이 없어도 됨을 알고 그냥 진행했다.  \n",
        "- 이번엔 코드를 계속 직접 쓰면서 진행했는데 확실히 전보다 손에 익어가고 스스로 생각하면서 하게 된다. 앞으로도 시간이 조금 더 걸리더라도 이런식으로 진행해야겠다. 그리고 무조건 이게 맞겠지 믿고 쓰는게 아니라, 이게 맞는지 스스로 확인하고 내 방식을 우선적으로 사용해보자.   \n",
        "- 이번 과제에서 CNN과 RNN을 같이 쓰는 모델을 만들어봤는데, 여러 논문들과 사이트를 보면서 아 저걸 저렇게도 쓸 수 있구나 생각이 들었다. 무조건 CNN 이니까 이미지처리에만 써야지! RNN이니까 NLP에만 써야지! 이게 아니라 **각 모델의 동작 구조를 이해하는게 먼저고 그 이해를 바탕으로 내가 원하는 곳에 사용하면 더 좋은 성과를 낼 수 있다**는 것을 알게 된 회차였다.  \n",
        "앞으로도 모델을 공부해도 **분야에 국한되는것이 아니라 다양하게 응용해볼 수 있도록 생각의 벽을 두지 말아야겠다.**\n",
        "- 그리고 이번 과제 때 이런 저런 시도를 해보려고 해서 그런지 오류가 많이 났었는데, 이번엔 시간이 촉박해서 오류들 빨리 없애야하는데,, 하고 구글링한 값을 바로바로 채워넣어 오류 없애기에 급급했던 것 같다. 사실 이런 오류들을 통해서 하나하나 자세히 이해하고 오류가 난 이유들을 이해해야 다음엔 이런 일이 발생하지 않도록 방지할 수 있을텐데, 다음엔 시간적 여유를 갖고 진행을 하든 제출에 의미보다 오류를 이해하는 것에 더 집중해서 해결 할 수 있도록 해야겠다. **오류를 통해 배울 수 있도록.**"
      ],
      "metadata": {
        "id": "mw3zf_zWQK6d"
      }
    },
    {
      "cell_type": "code",
      "source": [
        ""
      ],
      "metadata": {
        "id": "E9bN2LoZrNxn"
      },
      "execution_count": null,
      "outputs": []
    }
  ]
}