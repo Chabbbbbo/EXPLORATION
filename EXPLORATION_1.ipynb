{
  "nbformat": 4,
  "nbformat_minor": 0,
  "metadata": {
    "colab": {
      "name": "EXPLORATION 1.ipynb",
      "provenance": [],
      "collapsed_sections": [],
      "authorship_tag": "ABX9TyP87oOgKBnVU2oBRAjiZG3L",
      "include_colab_link": true
    },
    "kernelspec": {
      "name": "python3",
      "display_name": "Python 3"
    },
    "language_info": {
      "name": "python"
    }
  },
  "cells": [
    {
      "cell_type": "markdown",
      "metadata": {
        "id": "view-in-github",
        "colab_type": "text"
      },
      "source": [
        "<a href=\"https://colab.research.google.com/github/Chabbbbbo/EXPLORATION/blob/main/EXPLORATION_1.ipynb\" target=\"_parent\"><img src=\"https://colab.research.google.com/assets/colab-badge.svg\" alt=\"Open In Colab\"/></a>"
      ]
    },
    {
      "cell_type": "code",
      "execution_count": null,
      "metadata": {
        "id": "CaLT4moXqphQ"
      },
      "outputs": [],
      "source": [
        "#데이터 불러오기\n",
        "from sklearn.datasets import load_digits\n",
        "from sklearn.model_selection import train_test_split\n",
        "from sklearn.metrics import classification_report\n",
        "\n",
        "#데이터 준비 및 정보확인\n",
        "digits= load_digits()\n",
        "print(dir(digits))\n",
        "\n",
        "#데이터 이해하기 \n",
        "digits_data = digits.data #Feature Data 저장\n",
        "digits_label = digits.target #Label Data 저장\n",
        "print(digits.target_names) #Target Names 출력\n",
        "print(digits.DESCR) #데이터 describe 해보기\n",
        "\n",
        "#Train, test 데이터 분리\n",
        "X_train, X_test, y_train, y_test = train_test_split(digits_data, digits_label, test_size=0.2)\n",
        "\n",
        "\n"
      ]
    },
    {
      "cell_type": "code",
      "source": [
        "#1) Decision Tree\n",
        "from sklearn.tree import DecisionTreeClassifier\n",
        "decision_tree = DecisionTreeClassifier(random_state=32)\n",
        "decision_tree.fit(X_train, y_train)\n",
        "\n",
        "y_pred = decision_tree.predict(X_test)\n",
        "\n",
        "print(classification_report(y_test, y_pred))\n"
      ],
      "metadata": {
        "colab": {
          "base_uri": "https://localhost:8080/"
        },
        "id": "WjBhlAoMtmWP",
        "outputId": "32d9eeb2-41a0-4d65-913b-585bdf09df00"
      },
      "execution_count": null,
      "outputs": [
        {
          "output_type": "stream",
          "name": "stdout",
          "text": [
            "              precision    recall  f1-score   support\n",
            "\n",
            "           0       0.94      0.94      0.94        36\n",
            "           1       0.79      0.74      0.76        35\n",
            "           2       0.67      0.83      0.74        24\n",
            "           3       0.78      0.80      0.79        35\n",
            "           4       0.84      0.84      0.84        43\n",
            "           5       0.93      0.93      0.93        40\n",
            "           6       0.91      0.86      0.89        36\n",
            "           7       0.89      0.82      0.85        39\n",
            "           8       0.67      0.79      0.72        33\n",
            "           9       0.85      0.72      0.78        39\n",
            "\n",
            "    accuracy                           0.83       360\n",
            "   macro avg       0.83      0.83      0.82       360\n",
            "weighted avg       0.83      0.83      0.83       360\n",
            "\n"
          ]
        }
      ]
    },
    {
      "cell_type": "code",
      "source": [
        "#2) Random Forest\n",
        "from sklearn.ensemble import RandomForestClassifier\n",
        "\n",
        "randomforest = RandomForestClassifier(random_state=32)\n",
        "randomforest.fit(X_train, y_train)\n",
        "\n",
        "y_pred = randomforest.predict(X_test)\n",
        "\n",
        "print(classification_report(y_test, y_pred))"
      ],
      "metadata": {
        "colab": {
          "base_uri": "https://localhost:8080/"
        },
        "id": "ntFcibbRwtwc",
        "outputId": "ef2d911b-c480-4c8c-aa6f-6b057b9e2fdb"
      },
      "execution_count": null,
      "outputs": [
        {
          "output_type": "stream",
          "name": "stdout",
          "text": [
            "              precision    recall  f1-score   support\n",
            "\n",
            "           0       0.97      0.97      0.97        36\n",
            "           1       0.92      1.00      0.96        35\n",
            "           2       0.96      1.00      0.98        24\n",
            "           3       1.00      0.94      0.97        35\n",
            "           4       0.98      0.98      0.98        43\n",
            "           5       0.95      0.97      0.96        40\n",
            "           6       1.00      0.94      0.97        36\n",
            "           7       0.93      1.00      0.96        39\n",
            "           8       0.97      0.88      0.92        33\n",
            "           9       0.97      0.95      0.96        39\n",
            "\n",
            "    accuracy                           0.96       360\n",
            "   macro avg       0.97      0.96      0.96       360\n",
            "weighted avg       0.97      0.96      0.96       360\n",
            "\n"
          ]
        }
      ]
    },
    {
      "cell_type": "code",
      "source": [
        "#3) SVM\n",
        "from sklearn import svm\n",
        "svm_model = svm.SVC()\n",
        "\n",
        "svm_model.fit(X_train, y_train)\n",
        "y_pred = svm_model.predict(X_test)\n",
        "\n",
        "print(classification_report(y_test, y_pred))"
      ],
      "metadata": {
        "colab": {
          "base_uri": "https://localhost:8080/"
        },
        "id": "Hp5ciwYrxcDf",
        "outputId": "e432f258-6d05-4d8d-e2bf-9961fca253a3"
      },
      "execution_count": null,
      "outputs": [
        {
          "output_type": "stream",
          "name": "stdout",
          "text": [
            "              precision    recall  f1-score   support\n",
            "\n",
            "           0       1.00      1.00      1.00        36\n",
            "           1       0.95      1.00      0.97        35\n",
            "           2       1.00      1.00      1.00        24\n",
            "           3       1.00      0.97      0.99        35\n",
            "           4       1.00      0.98      0.99        43\n",
            "           5       0.97      0.97      0.97        40\n",
            "           6       1.00      1.00      1.00        36\n",
            "           7       0.95      1.00      0.97        39\n",
            "           8       0.97      0.94      0.95        33\n",
            "           9       0.97      0.95      0.96        39\n",
            "\n",
            "    accuracy                           0.98       360\n",
            "   macro avg       0.98      0.98      0.98       360\n",
            "weighted avg       0.98      0.98      0.98       360\n",
            "\n"
          ]
        }
      ]
    },
    {
      "cell_type": "code",
      "source": [
        "# 4)SGD Classifier\n",
        "from sklearn.linear_model import SGDClassifier\n",
        "sgd_model = SGDClassifier()\n",
        "\n",
        "sgd_model.fit(X_train, y_train)\n",
        "y_pred = sgd_model.predict(X_test)\n",
        "\n",
        "print(classification_report(y_test, y_pred))"
      ],
      "metadata": {
        "colab": {
          "base_uri": "https://localhost:8080/"
        },
        "id": "DRmnbMoU1OHo",
        "outputId": "da01167a-cb62-4236-ea75-7334edffcced"
      },
      "execution_count": null,
      "outputs": [
        {
          "output_type": "stream",
          "name": "stdout",
          "text": [
            "              precision    recall  f1-score   support\n",
            "\n",
            "           0       1.00      0.97      0.99        36\n",
            "           1       0.89      0.89      0.89        35\n",
            "           2       1.00      1.00      1.00        24\n",
            "           3       0.94      0.97      0.96        35\n",
            "           4       0.93      0.98      0.95        43\n",
            "           5       0.95      0.97      0.96        40\n",
            "           6       1.00      0.94      0.97        36\n",
            "           7       1.00      0.92      0.96        39\n",
            "           8       0.76      0.85      0.80        33\n",
            "           9       0.97      0.92      0.95        39\n",
            "\n",
            "    accuracy                           0.94       360\n",
            "   macro avg       0.94      0.94      0.94       360\n",
            "weighted avg       0.94      0.94      0.94       360\n",
            "\n"
          ]
        }
      ]
    },
    {
      "cell_type": "code",
      "source": [
        "# 5)Logistic Regression\n",
        "from sklearn.linear_model import LogisticRegression\n",
        "logistic_model = LogisticRegression()\n",
        "\n",
        "logistic_model.fit(X_train, y_train)\n",
        "y_pred = logistic_model.predict(X_test)\n",
        "\n",
        "print(classification_report(y_test, y_pred))"
      ],
      "metadata": {
        "colab": {
          "base_uri": "https://localhost:8080/"
        },
        "id": "5wec93ex1acK",
        "outputId": "01e328fa-4e9b-4871-9578-44c828827fea"
      },
      "execution_count": null,
      "outputs": [
        {
          "output_type": "stream",
          "name": "stdout",
          "text": [
            "              precision    recall  f1-score   support\n",
            "\n",
            "           0       0.97      0.97      0.97        36\n",
            "           1       0.85      0.97      0.91        35\n",
            "           2       0.92      0.96      0.94        24\n",
            "           3       1.00      1.00      1.00        35\n",
            "           4       0.98      0.95      0.96        43\n",
            "           5       0.95      0.95      0.95        40\n",
            "           6       1.00      0.94      0.97        36\n",
            "           7       1.00      0.97      0.99        39\n",
            "           8       0.88      0.85      0.86        33\n",
            "           9       0.95      0.92      0.94        39\n",
            "\n",
            "    accuracy                           0.95       360\n",
            "   macro avg       0.95      0.95      0.95       360\n",
            "weighted avg       0.95      0.95      0.95       360\n",
            "\n"
          ]
        },
        {
          "output_type": "stream",
          "name": "stderr",
          "text": [
            "/usr/local/lib/python3.7/dist-packages/sklearn/linear_model/_logistic.py:818: ConvergenceWarning: lbfgs failed to converge (status=1):\n",
            "STOP: TOTAL NO. of ITERATIONS REACHED LIMIT.\n",
            "\n",
            "Increase the number of iterations (max_iter) or scale the data as shown in:\n",
            "    https://scikit-learn.org/stable/modules/preprocessing.html\n",
            "Please also refer to the documentation for alternative solver options:\n",
            "    https://scikit-learn.org/stable/modules/linear_model.html#logistic-regression\n",
            "  extra_warning_msg=_LOGISTIC_SOLVER_CONVERGENCE_MSG,\n"
          ]
        }
      ]
    },
    {
      "cell_type": "code",
      "source": [
        "#모델 평가 \n",
        "#해당 분류는 이진분류가 아니기 때문에, \n",
        "#정확도가 0.98로 가장 높은 SVM을 사용해서 평가하는것이 좋다고 생각됨"
      ],
      "metadata": {
        "id": "nh0pcivx1neq"
      },
      "execution_count": null,
      "outputs": []
    }
  ]
}