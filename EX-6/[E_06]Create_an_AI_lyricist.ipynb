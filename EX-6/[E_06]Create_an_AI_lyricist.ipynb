{
  "nbformat": 4,
  "nbformat_minor": 0,
  "metadata": {
    "colab": {
      "name": "[E-06]Create an AI lyricist.ipynb의 사본",
      "provenance": [],
      "collapsed_sections": [],
      "machine_shape": "hm",
      "toc_visible": true
    },
    "kernelspec": {
      "name": "python3",
      "display_name": "Python 3"
    },
    "language_info": {
      "name": "python"
    },
    "accelerator": "GPU"
  },
  "cells": [
    {
      "cell_type": "markdown",
      "source": [
        "## 0. 사용할 라이브러리 불러오기"
      ],
      "metadata": {
        "id": "h8moRhBOnv8i"
      }
    },
    {
      "cell_type": "code",
      "source": [
        "from google.colab import drive\n",
        "drive.mount(\"/content/drive\")"
      ],
      "metadata": {
        "colab": {
          "base_uri": "https://localhost:8080/"
        },
        "id": "wdKv1cUT5VhT",
        "outputId": "06e680d5-9f1b-4546-e4ff-f771ce13d41e"
      },
      "execution_count": 1,
      "outputs": [
        {
          "output_type": "stream",
          "name": "stdout",
          "text": [
            "Mounted at /content/drive\n"
          ]
        }
      ]
    },
    {
      "cell_type": "code",
      "execution_count": 2,
      "metadata": {
        "id": "Lx-8lanWkKpm"
      },
      "outputs": [],
      "source": [
        "import glob\n",
        "import tensorflow as tf\n",
        "import re\n",
        "from sklearn.model_selection import train_test_split\n",
        "import matplotlib.pyplot as plt"
      ]
    },
    {
      "cell_type": "markdown",
      "source": [
        "### Step 1. 데이터 읽어오기\n",
        "---\n",
        "txt 파일로 저장되어 있는 가사들이 담긴 폴더를 불러온다. 이때 glob을 활용하여 한번에 txt 파일들을 불러 올 수 있다.  \n",
        " "
      ],
      "metadata": {
        "id": "yhdf6U-b1xN6"
      }
    },
    {
      "cell_type": "code",
      "source": [
        "\n",
        "txt_file_path = '/content/drive/MyDrive/COLAB_data/lyrics/*'\n",
        "\n",
        "txt_list = glob.glob(txt_file_path)\n",
        "\n",
        "raw_corpus = []\n",
        "\n",
        "# 여러개의 txt 파일을 모두 읽어서 raw_corpus 에 담기\n",
        "for txt_file in txt_list:\n",
        "    with open(txt_file, \"r\") as f:\n",
        "        raw = f.read().splitlines()\n",
        "        raw_corpus.extend(raw)\n",
        "\n",
        "print(\"데이터 크기:\", len(raw_corpus))\n",
        "print(\"Examples:\\n\", raw_corpus[:3])"
      ],
      "metadata": {
        "id": "V3uMAP7lnmbs",
        "colab": {
          "base_uri": "https://localhost:8080/"
        },
        "outputId": "c05d7b76-cc9b-4997-c260-5b90903749a2"
      },
      "execution_count": 3,
      "outputs": [
        {
          "output_type": "stream",
          "name": "stdout",
          "text": [
            "데이터 크기: 187088\n",
            "Examples:\n",
            " ['Build your dreams to the stars above', 'But when you need someone to love', \"Don't go to strangers, darling, come to me Play with fire till your fingers burn\"]\n"
          ]
        }
      ]
    },
    {
      "cell_type": "markdown",
      "source": [
        "raw_corpus의 크기가 187,088개로 187,088 개의 가사줄이 입력되어 있는 것을 확인할 수 있다.  \n",
        "\n",
        "\n",
        "- 참고 :splitlines()은 줄단위로 문자열을 리스트화 하는 함수 [splitlines()관련](https://m.blog.naver.com/PostView.naver?isHttpsRedirect=true&blogId=debolm74&logNo=221953881991)\n"
      ],
      "metadata": {
        "id": "_mDQD8WP7Z7p"
      }
    },
    {
      "cell_type": "markdown",
      "source": [
        "### Step 2. 데이터 정제\n",
        "---\n",
        "`preprocess_sentence()` 함수를 활용해 데이터를 정제하기.  \n",
        "\n",
        "추가로 너무 긴 문장은 과도한 padding을 생성하므로 제거하기로 한다.  \n",
        "너무 긴 문장은 노래 작사에도 어울리지 않는다고 한다.   \n",
        "\n",
        "-> 이번엔 문장을 토큰화 했을 때 **토큰의 개수가 15개를 넘어가는 문장을 학습 데이터에서 제외**해보자. "
      ],
      "metadata": {
        "id": "9JvXMGuj6Ka3"
      }
    },
    {
      "cell_type": "code",
      "source": [
        "def preprocess_sentence(sentence):\n",
        "    sentence = sentence.lower().strip() \n",
        "    sentence = re.sub(r\"([?.!,¿])\", r\" \\1 \", sentence) \n",
        "    sentence = re.sub(r'[\" \"]+', \" \", sentence) \n",
        "    sentence = re.sub(r\"[^a-zA-Z?.!,¿]+\", \" \", sentence) \n",
        "    sentence = sentence.strip() \n",
        "    sentence = '<start> ' + sentence + ' <end>' \n",
        "    return sentence"
      ],
      "metadata": {
        "id": "3tUwJWyL6B0N"
      },
      "execution_count": null,
      "outputs": []
    },
    {
      "cell_type": "code",
      "source": [
        "#잘 작동하는지 확인하기\n",
        "print(preprocess_sentence(\"This @_is ;;;sample        sentence.\"))"
      ],
      "metadata": {
        "colab": {
          "base_uri": "https://localhost:8080/"
        },
        "id": "6XjvLZoKS7Uw",
        "outputId": "bb774988-1a21-45af-feb3-9d7bc7656d27"
      },
      "execution_count": null,
      "outputs": [
        {
          "output_type": "stream",
          "name": "stdout",
          "text": [
            "<start> this is sample sentence . <end>\n"
          ]
        }
      ]
    },
    {
      "cell_type": "code",
      "source": [
        "# 정제된 문장을 담을 곳\n",
        "corpus = []\n",
        "\n",
        "for sentence in raw_corpus:\n",
        "    # 혹시 길이가 0인 문장이 있을 수 있으니 길이 0인 문장은 제외하자\n",
        "    if len(sentence) == 0: continue\n",
        "    \n",
        "    # 정제를 하고 담아주세요\n",
        "    preprocessed_sentence = preprocess_sentence(sentence)\n",
        "    corpus.append(preprocessed_sentence)\n",
        "        \n",
        "# 정제된 결과를 10개만 확인해보죠\n",
        "corpus[:15]"
      ],
      "metadata": {
        "id": "S5vAdeE0Sgtu",
        "colab": {
          "base_uri": "https://localhost:8080/"
        },
        "outputId": "d40954fd-359e-4f09-c9fc-a259b927e474"
      },
      "execution_count": null,
      "outputs": [
        {
          "output_type": "execute_result",
          "data": {
            "text/plain": [
              "['<start> build your dreams to the stars above <end>',\n",
              " '<start> but when you need someone to love <end>',\n",
              " '<start> don t go to strangers , darling , come to me play with fire till your fingers burn <end>',\n",
              " '<start> and when there s no place for you to turn <end>',\n",
              " '<start> don t go to strangers , darling , come to me for , when you hear a call to follow your heart <end>',\n",
              " '<start> you ll follow your heart i know <end>',\n",
              " '<start> i ve been through it all , for i m an old hand <end>',\n",
              " '<start> and i ll understand if you go so <end>',\n",
              " '<start> make your mark for your friends to see <end>',\n",
              " '<start> but when you need more than company <end>',\n",
              " '<start> don t go to strangers , darling , come to me tonight you re mine , completely <end>',\n",
              " '<start> you give your soul so sweetly <end>',\n",
              " '<start> tonight the light of love is in your eyes <end>',\n",
              " '<start> will you love me tomorrow is this a lasting treasure <end>',\n",
              " '<start> or just a moment s pleasure <end>']"
            ]
          },
          "metadata": {},
          "execution_count": 135
        }
      ]
    },
    {
      "cell_type": "markdown",
      "source": [
        "정제된 결과를 보니,  \n",
        "- he s, i d don t 같이 '가 빠져 단어의 의미가 이상하게 출력되는 것들이 보인다. 나는 단어별로 의미를 넣어 공부하게 시키고 싶기 때문에 [']는 제거하지 않기로 한다. \n",
        "\n",
        "`preprocess_sentence()`를 수정해 본다.  \n",
        "\n",
        "※ 근데 생각해보면 '를 포함하면 she is 와 she's 는 she라는 같은 단어의 변형인데 아예 다르게 보니까 she에 대한 학습이 덜 될 것 같다.  \n",
        "-> 이 상태로 한번 돌려보고 이후 뒤에 원래 함수로 다시 돌려봐야겠다."
      ],
      "metadata": {
        "id": "2JoOqTIjVhLG"
      }
    },
    {
      "cell_type": "code",
      "source": [
        "def preprocess_sentence(sentence):\n",
        "    sentence = sentence.lower().strip() \n",
        "    sentence = re.sub(r\"([?.!,¿])\", r\" \\1 \", sentence) \n",
        "    sentence = re.sub(r'[\" \"]+', \" \", sentence) \n",
        "    sentence = re.sub(r\"[^a-zA-Z?.!,¿']+\", \" \", sentence) \n",
        "    sentence = sentence.strip() \n",
        "    sentence = '<start> ' + sentence + ' <end>' \n",
        "    return sentence"
      ],
      "metadata": {
        "id": "Dx9VUd1vAe4t"
      },
      "execution_count": null,
      "outputs": []
    },
    {
      "cell_type": "code",
      "source": [
        "# 정제된 문장을 담을 곳\n",
        "corpus = []\n",
        "\n",
        "for sentence in raw_corpus:\n",
        "    \n",
        "    # 정제를 하고 담아주세요\n",
        "    preprocessed_sentence = preprocess_sentence(sentence)\n",
        "\n",
        "    if preprocessed_sentence.count(' ') >= 14: continue\n",
        "\n",
        "    corpus.append(preprocessed_sentence)\n",
        "\n",
        "# 정제된 결과를 10개만 확인해보죠\n",
        "corpus[:10]"
      ],
      "metadata": {
        "colab": {
          "base_uri": "https://localhost:8080/"
        },
        "id": "8zAshaTeWBsX",
        "outputId": "83a48e1f-6cd2-42c8-be09-e573a37f1d5e"
      },
      "execution_count": null,
      "outputs": [
        {
          "output_type": "execute_result",
          "data": {
            "text/plain": [
              "['<start> build your dreams to the stars above <end>',\n",
              " '<start> but when you need someone to love <end>',\n",
              " \"<start> and when there's no place for you to turn <end>\",\n",
              " \"<start> you'll follow your heart i know <end>\",\n",
              " \"<start> i've been through it all , for i'm an old hand <end>\",\n",
              " \"<start> and i'll understand if you go so <end>\",\n",
              " '<start> make your mark for your friends to see <end>',\n",
              " '<start> but when you need more than company <end>',\n",
              " '<start> you give your soul so sweetly <end>',\n",
              " '<start> tonight the light of love is in your eyes <end>']"
            ]
          },
          "metadata": {},
          "execution_count": 23
        }
      ]
    },
    {
      "cell_type": "markdown",
      "source": [
        "깔끔한 데이터를 얻어낸 것 같다!  \n",
        "\n",
        "※ 단어의 갯수는 빈칸의 갯수보다 1개 더 많으니까 ' '의 수를 14 이상으로 조절하였다.   \n",
        "\n",
        "이제 tokenize를 진행해보자!"
      ],
      "metadata": {
        "id": "dvbI2XQyWgSJ"
      }
    },
    {
      "cell_type": "markdown",
      "source": [
        "### Step 3. 평가 데이터셋 분리\n",
        "---\n",
        "훈련 데이터와 평가 데이터를 분리하기  \n",
        "\n",
        "    1) tokenize() 함수로 데이터를 Tensor로 변환  \n",
        "    2) sklearn 모듈의 train_test_split() 함수를 사용해 훈련 데이터와 평가 데이터를 분리    \n",
        "    3) 단어장의 크기는 12,000 이상으로 설정  \n",
        "    4) 총 데이터의 20% 를 평가 데이터셋으로 사용  \n",
        "\n",
        "\n",
        "- 단어장의 크기는 미국인 20세의 평균 단어 수가 약 42,000개라고 하니 42,000을 넣어보자"
      ],
      "metadata": {
        "id": "MTisMGVLc2VI"
      }
    },
    {
      "cell_type": "code",
      "source": [
        "def tokenize(corpus):\n",
        "    tokenizer = tf.keras.preprocessing.text.Tokenizer(\n",
        "        num_words=42000, \n",
        "        filters=' ',\n",
        "        oov_token=\"<unk>\"\n",
        "    )\n",
        "    # corpus를 이용해 tokenizer 내부의 단어장을 완성합니다\n",
        "    tokenizer.fit_on_texts(corpus)\n",
        "\n",
        "    # 준비한 tokenizer를 이용해 corpus를 Tensor로 변환합니다\n",
        "    tensor = tokenizer.texts_to_sequences(corpus)   \n",
        "    # 입력 데이터의 시퀀스 길이를 일정하게 맞춰줍니다\n",
        "    tensor = tf.keras.preprocessing.sequence.pad_sequences(tensor, padding='post')  \n",
        "    \n",
        "    print(tensor,tokenizer)\n",
        "    return tensor, tokenizer\n",
        "\n",
        "tensor, tokenizer = tokenize(corpus)"
      ],
      "metadata": {
        "id": "wSHDFuwdBWU9",
        "colab": {
          "base_uri": "https://localhost:8080/"
        },
        "outputId": "a4ae1b98-7c52-494c-8d12-96710eb522ef"
      },
      "execution_count": 7,
      "outputs": [
        {
          "output_type": "stream",
          "name": "stdout",
          "text": [
            "[[    2  1423    17 ...     0     0     0]\n",
            " [    2    31    41 ...     0     0     0]\n",
            " [    2     8    41 ...     0     0     0]\n",
            " ...\n",
            " [    2    28    17 ...     4 18184     3]\n",
            " [    2   351    17 ...   159     3     0]\n",
            " [    2    37   131 ...     0     0     0]] <keras_preprocessing.text.Tokenizer object at 0x7f88df3ecf50>\n"
          ]
        }
      ]
    },
    {
      "cell_type": "code",
      "source": [
        "#tokenizer에 단어 사전이 어떻게 구축되었는지 한번 보자\n",
        "for idx in tokenizer.index_word:\n",
        "    print(idx, \":\", tokenizer.index_word[idx])\n",
        "\n",
        "    if idx >= 10: break"
      ],
      "metadata": {
        "colab": {
          "base_uri": "https://localhost:8080/"
        },
        "id": "0YSUcO7nXWPJ",
        "outputId": "b18ecfa5-39a0-474b-e5bf-594d46058f45"
      },
      "execution_count": null,
      "outputs": [
        {
          "output_type": "stream",
          "name": "stdout",
          "text": [
            "1 : <unk>\n",
            "2 : <start>\n",
            "3 : <end>\n",
            "4 : ,\n",
            "5 : the\n",
            "6 : i\n",
            "7 : you\n",
            "8 : and\n",
            "9 : a\n",
            "10 : to\n"
          ]
        }
      ]
    },
    {
      "cell_type": "markdown",
      "source": [
        "단어장은 `fit_on_texts()`를 사용하여, 그 ()안에 들어간 문장들의 빈도수에 따라 숫자를 메긴다고 한다.  \n",
        "신기하군..."
      ],
      "metadata": {
        "id": "Y_-tFghjdfxX"
      }
    },
    {
      "cell_type": "code",
      "source": [
        "#생성된 텐서 데이터를 3번째 행, 15번째 열까지만 출력해보기(15이상은 짤랐으니까)\n",
        "print(tensor[:3, :15])"
      ],
      "metadata": {
        "colab": {
          "base_uri": "https://localhost:8080/"
        },
        "id": "kIVK2pRtWfQy",
        "outputId": "b8bb43ee-c298-4cf2-9287-3d893f5d4778"
      },
      "execution_count": null,
      "outputs": [
        {
          "output_type": "stream",
          "name": "stdout",
          "text": [
            "[[   2 1423   17  378   10    5  628  684    3    0    0    0    0    0]\n",
            " [   2   31   41    7   87  341   10   33    3    0    0    0    0    0]\n",
            " [   2    8   41  167   36  248   26    7   10  200    3    0    0    0]]\n"
          ]
        }
      ]
    },
    {
      "cell_type": "markdown",
      "source": [
        "역시나 첫번째가 `<start>`로 고정되어 있어 처음 숫자가 2이고,  \n",
        "마지막이 `<end>`라 끝이 3이고 나머지는 padding으로 0인것을 확인했다.  \n",
        "\n",
        "이제 준비한 데이터들은 전처리를 마쳤으니, train 과 test 자료로 나눠서 입력해보도록 하자."
      ],
      "metadata": {
        "id": "JnsRwjtoXNAR"
      }
    },
    {
      "cell_type": "code",
      "source": [
        "# tensor에서 마지막 토큰을 잘라내서 소스 문장을 생성합니다\n",
        "# 마지막 토큰은 <end>가 아니라 <pad>일 가능성이 높습니다.\n",
        "X = tensor[:, :-1]  \n",
        "# tensor에서 <start>를 잘라내서 타겟 문장을 생성합니다.\n",
        "y = tensor[:, 1:]    \n",
        "\n",
        "print(X[0])\n",
        "print(y[0])"
      ],
      "metadata": {
        "colab": {
          "base_uri": "https://localhost:8080/"
        },
        "id": "UXm8wGasXK4P",
        "outputId": "20fef035-c1c6-43b9-ce82-ed83696eb9e7"
      },
      "execution_count": null,
      "outputs": [
        {
          "output_type": "stream",
          "name": "stdout",
          "text": [
            "[   2 1423   17  378   10    5  628  684    3    0    0    0    0]\n",
            "[1423   17  378   10    5  628  684    3    0    0    0    0    0]\n"
          ]
        }
      ]
    },
    {
      "cell_type": "code",
      "source": [
        "#trainning 데이터와 validation 데이터로 분리하기\n",
        "\n",
        "enc_train, enc_val, dec_train, dec_val = train_test_split(X, y, test_size=0.2, random_state=50)\n",
        "\n",
        "#잘 나눠졌는지 확인\n",
        "print(enc_train.shape, dec_train.shape)\n",
        "print(enc_val.shape, dec_val.shape)"
      ],
      "metadata": {
        "colab": {
          "base_uri": "https://localhost:8080/"
        },
        "id": "C0SvBi36fxJL",
        "outputId": "f6b6366d-af41-472c-ced0-5cac58c51fd3"
      },
      "execution_count": null,
      "outputs": [
        {
          "output_type": "stream",
          "name": "stdout",
          "text": [
            "(131640, 13) (131640, 13)\n",
            "(32910, 13) (32910, 13)\n"
          ]
        }
      ]
    },
    {
      "cell_type": "markdown",
      "source": [
        "토큰화 했을 때 토큰의 개수가 15개를 넘어가는 문장을 삭제하고,  \n",
        "x, y로 나눌때 한 칸씩 지웠으니 단어의 길이가 13개가 되어 데이터의 모양이 (n, 13)이 되는 것을 확인했다."
      ],
      "metadata": {
        "id": "f8tchazgdH0y"
      }
    },
    {
      "cell_type": "code",
      "source": [
        "BUFFER_SIZE = len(enc_train)\n",
        "BATCH_SIZE = 256\n",
        "steps_per_epoch = len(enc_train) // BATCH_SIZE\n",
        "\n",
        "# tokenizer가 구축한 단어사전 내 42,000개와, 여기 포함되지 않은 0:<pad>를 포함하여 7001개\n",
        "VOCAB_SIZE = tokenizer.num_words + 1   \n",
        "\n",
        "# 준비한 데이터 소스로부터 데이터셋 만들기\n",
        "dataset = tf.data.Dataset.from_tensor_slices((enc_train, dec_train))\n",
        "dataset = dataset.shuffle(BUFFER_SIZE)\n",
        "dataset = dataset.batch(BATCH_SIZE, drop_remainder=True) \n",
        "#drop_remainder= batch size에 도달하면 나머지 데이터는 버림 \n",
        "dataset"
      ],
      "metadata": {
        "colab": {
          "base_uri": "https://localhost:8080/"
        },
        "id": "k_VeYZf1YdDH",
        "outputId": "5537385e-60cb-47a1-d527-37e91c1e1796"
      },
      "execution_count": null,
      "outputs": [
        {
          "output_type": "execute_result",
          "data": {
            "text/plain": [
              "<BatchDataset element_spec=(TensorSpec(shape=(256, 13), dtype=tf.int32, name=None), TensorSpec(shape=(256, 13), dtype=tf.int32, name=None))>"
            ]
          },
          "metadata": {},
          "execution_count": 29
        }
      ]
    },
    {
      "cell_type": "markdown",
      "source": [
        "### Step 4. 인공지능 만들기\n",
        "---\n",
        "모델의 Embedding Size와 Hidden Size를 조절하며 10 Epoch 안에 **val_loss 값을 2.2 수준**으로 줄일 수 있는 모델을 설계해보기   \n",
        "\n",
        "우선 Embedding Size와 Hidden Size는 이론시 진행했던 사이즈를 넣어 돌려본 후 수정해보도록 하자.\n"
      ],
      "metadata": {
        "id": "kW1hYcZ6ekGY"
      }
    },
    {
      "cell_type": "code",
      "source": [
        "class TextGenerator(tf.keras.Model):\n",
        "    def __init__(self, vocab_size, embedding_size, hidden_size):\n",
        "        super().__init__()\n",
        "        \n",
        "        self.embedding = tf.keras.layers.Embedding(vocab_size, embedding_size)\n",
        "        self.rnn_1 = tf.keras.layers.LSTM(hidden_size, return_sequences=True)\n",
        "        self.rnn_2 = tf.keras.layers.LSTM(hidden_size, return_sequences=True)\n",
        "        self.linear = tf.keras.layers.Dense(vocab_size)\n",
        "        \n",
        "    def call(self, x):\n",
        "        out = self.embedding(x)\n",
        "        out = self.rnn_1(out)\n",
        "        out = self.rnn_2(out)\n",
        "        out = self.linear(out)\n",
        "        \n",
        "        return out\n",
        "    \n",
        "embedding_size = 256\n",
        "hidden_size = 1024\n",
        "model = TextGenerator(tokenizer.num_words + 1, embedding_size , hidden_size)"
      ],
      "metadata": {
        "id": "UbOzmx46fGmF"
      },
      "execution_count": 19,
      "outputs": []
    },
    {
      "cell_type": "markdown",
      "source": [
        "이제 데이터셋의 1배치만 불러와서 컴퓨터에게 사이즈를 알려줍시다."
      ],
      "metadata": {
        "id": "g7R50CG9w0KJ"
      }
    },
    {
      "cell_type": "code",
      "source": [
        "for src_enc_train, dec_train in dataset.take(1): break\n",
        "\n",
        "model(src_enc_train)"
      ],
      "metadata": {
        "colab": {
          "base_uri": "https://localhost:8080/"
        },
        "id": "zcT1qWp1hBpC",
        "outputId": "51f878f9-d649-4621-aa1d-135c8e4c8617"
      },
      "execution_count": null,
      "outputs": [
        {
          "output_type": "execute_result",
          "data": {
            "text/plain": [
              "<tf.Tensor: shape=(256, 13, 42001), dtype=float32, numpy=\n",
              "array([[[ 6.02146283e-05, -9.25729910e-05,  9.05130801e-05, ...,\n",
              "          5.15796601e-05, -2.49478635e-05, -1.04455299e-04],\n",
              "        [-1.56203227e-04, -2.40075664e-04,  2.02799492e-04, ...,\n",
              "          1.08062886e-04, -1.73312277e-04, -8.60768996e-05],\n",
              "        [-2.13231076e-04, -3.93638416e-04,  2.73368671e-04, ...,\n",
              "          5.83318215e-05, -1.75069421e-04, -1.31604029e-04],\n",
              "        ...,\n",
              "        [ 2.23257623e-04,  1.73658424e-04,  4.70407977e-05, ...,\n",
              "         -2.82316556e-04, -4.16342518e-05, -1.34513766e-05],\n",
              "        [ 2.74100661e-04,  1.17327712e-04,  1.62154378e-04, ...,\n",
              "         -4.64242243e-04, -4.19122807e-05, -6.22044172e-05],\n",
              "        [ 2.33111059e-04, -1.42285817e-05,  3.58206365e-04, ...,\n",
              "         -5.90870855e-04, -1.08271728e-04, -1.70958549e-04]],\n",
              "\n",
              "       [[ 6.02146283e-05, -9.25729910e-05,  9.05130801e-05, ...,\n",
              "          5.15796601e-05, -2.49478635e-05, -1.04455299e-04],\n",
              "        [ 3.67005632e-05, -1.47057406e-04,  1.09776513e-04, ...,\n",
              "          5.26156655e-05, -1.23961698e-04, -1.12063404e-04],\n",
              "        [ 4.48440151e-05, -1.31700872e-04,  5.64030779e-05, ...,\n",
              "         -7.61584161e-05, -3.15911311e-04, -1.01563819e-04],\n",
              "        ...,\n",
              "        [-5.88891504e-04, -9.67869710e-04,  1.02201256e-03, ...,\n",
              "         -6.06149726e-04, -6.53286872e-04, -9.60817270e-04],\n",
              "        [-6.56538410e-04, -1.06655981e-03,  1.11345970e-03, ...,\n",
              "         -4.89382946e-04, -7.16342765e-04, -1.11412082e-03],\n",
              "        [-7.07692816e-04, -1.14783098e-03,  1.18569692e-03, ...,\n",
              "         -3.69311369e-04, -7.83753756e-04, -1.25938945e-03]],\n",
              "\n",
              "       [[ 6.02146283e-05, -9.25729910e-05,  9.05130801e-05, ...,\n",
              "          5.15796601e-05, -2.49478635e-05, -1.04455299e-04],\n",
              "        [ 1.27833060e-04, -2.75916595e-04,  2.27303419e-04, ...,\n",
              "         -2.26514185e-05,  3.88463159e-05, -1.14563620e-04],\n",
              "        [ 1.95702494e-04, -4.32094559e-04,  4.38866031e-04, ...,\n",
              "         -3.03892612e-05,  1.40959732e-04, -9.83642458e-05],\n",
              "        ...,\n",
              "        [-2.79224827e-04, -1.34347021e-04,  7.13109854e-04, ...,\n",
              "         -8.52222845e-04, -4.10434383e-04, -1.82212054e-04],\n",
              "        [-3.77570017e-04, -2.04488053e-04,  8.44959693e-04, ...,\n",
              "         -9.10919975e-04, -5.54347876e-04, -3.25460365e-04],\n",
              "        [-4.72930813e-04, -2.98751605e-04,  9.69203247e-04, ...,\n",
              "         -9.01177234e-04, -6.81206235e-04, -4.90265898e-04]],\n",
              "\n",
              "       ...,\n",
              "\n",
              "       [[ 6.02146283e-05, -9.25729910e-05,  9.05130801e-05, ...,\n",
              "          5.15796601e-05, -2.49478635e-05, -1.04455299e-04],\n",
              "        [-8.31036050e-06, -1.06433828e-04,  1.98488880e-04, ...,\n",
              "         -7.16000504e-05,  9.13856929e-05, -2.68248346e-04],\n",
              "        [-5.28258242e-05, -7.00134478e-05,  3.12600721e-04, ...,\n",
              "         -1.35062626e-04,  3.60052596e-04, -4.25420003e-04],\n",
              "        ...,\n",
              "        [-2.95375154e-04, -7.64659664e-04,  1.16957433e-03, ...,\n",
              "         -8.53797654e-04, -2.55677209e-04, -8.53107136e-04],\n",
              "        [-4.07309650e-04, -8.75954574e-04,  1.28560246e-03, ...,\n",
              "         -7.72922067e-04, -4.02637437e-04, -9.70553025e-04],\n",
              "        [-5.05876378e-04, -9.71047557e-04,  1.37659267e-03, ...,\n",
              "         -6.66003849e-04, -5.33586135e-04, -1.09398074e-03]],\n",
              "\n",
              "       [[ 6.02146283e-05, -9.25729910e-05,  9.05130801e-05, ...,\n",
              "          5.15796601e-05, -2.49478635e-05, -1.04455299e-04],\n",
              "        [ 2.76287668e-04, -2.55210707e-05,  3.09285751e-05, ...,\n",
              "          1.95862420e-04,  2.49381301e-05, -1.23617501e-04],\n",
              "        [ 4.94327396e-04,  7.82370716e-06, -2.44615103e-06, ...,\n",
              "          3.05661262e-04,  5.91242861e-05, -1.49012776e-04],\n",
              "        ...,\n",
              "        [ 1.78919086e-04, -2.63009832e-04,  7.91787868e-04, ...,\n",
              "         -8.14710336e-04, -4.19045449e-04, -6.45387336e-04],\n",
              "        [ 2.31833037e-05, -4.04491031e-04,  9.46676009e-04, ...,\n",
              "         -7.68211088e-04, -4.99856833e-04, -7.92850100e-04],\n",
              "        [-1.19567776e-04, -5.41807967e-04,  1.07740739e-03, ...,\n",
              "         -6.81526377e-04, -5.82807057e-04, -9.39750287e-04]],\n",
              "\n",
              "       [[ 6.02146283e-05, -9.25729910e-05,  9.05130801e-05, ...,\n",
              "          5.15796601e-05, -2.49478635e-05, -1.04455299e-04],\n",
              "        [-1.66374211e-05, -1.29479798e-04,  4.20646356e-05, ...,\n",
              "         -2.35390889e-05,  1.17301395e-04, -8.64246394e-05],\n",
              "        [-3.22310807e-04, -2.11007384e-04, -1.01605809e-04, ...,\n",
              "         -3.19923529e-05,  2.10457947e-04, -6.67631830e-05],\n",
              "        ...,\n",
              "        [ 2.78698630e-04,  1.29726131e-05,  2.70933553e-04, ...,\n",
              "          2.40652880e-05,  2.88359035e-04,  5.66371018e-05],\n",
              "        [ 2.22606002e-04, -4.36952578e-05,  4.21361125e-04, ...,\n",
              "         -1.35806127e-04,  2.14488668e-04, -8.49181561e-06],\n",
              "        [ 9.60491088e-05, -1.64930971e-04,  6.18951221e-04, ...,\n",
              "         -2.78763997e-04,  1.04419974e-04, -1.28051513e-04]]],\n",
              "      dtype=float32)>"
            ]
          },
          "metadata": {},
          "execution_count": 32
        }
      ]
    },
    {
      "cell_type": "markdown",
      "source": [
        "배치만 넣어보니 tf.Tensor의 shape이 (256, 13, 42001)로,  \n",
        "제시한 embedding 사이즈 256, 토큰의 갯수 13, 글자 수+0 42001으로 알맞게 변형된 것을 확인할 수 있습니다.  \n",
        "\n",
        "이제 사이즈를 알았으니 컴퓨터가 모델을 서머리할 수 있겠죠?? 확인해봅시다. "
      ],
      "metadata": {
        "id": "37CYl6sUeDuZ"
      }
    },
    {
      "cell_type": "code",
      "source": [
        "#모델 서머리!\n",
        "model.summary()"
      ],
      "metadata": {
        "colab": {
          "base_uri": "https://localhost:8080/"
        },
        "id": "VOa4vjsLhZ6j",
        "outputId": "b04f66cf-451f-4e9b-ee08-96d0b642f37b"
      },
      "execution_count": null,
      "outputs": [
        {
          "output_type": "stream",
          "name": "stdout",
          "text": [
            "Model: \"text_generator_3\"\n",
            "_________________________________________________________________\n",
            " Layer (type)                Output Shape              Param #   \n",
            "=================================================================\n",
            " embedding_3 (Embedding)     multiple                  10752256  \n",
            "                                                                 \n",
            " lstm_6 (LSTM)               multiple                  5246976   \n",
            "                                                                 \n",
            " lstm_7 (LSTM)               multiple                  8392704   \n",
            "                                                                 \n",
            " dense_3 (Dense)             multiple                  43051025  \n",
            "                                                                 \n",
            "=================================================================\n",
            "Total params: 67,442,961\n",
            "Trainable params: 67,442,961\n",
            "Non-trainable params: 0\n",
            "_________________________________________________________________\n"
          ]
        }
      ]
    },
    {
      "cell_type": "markdown",
      "source": [
        "확실히 글자 수를 기존 7,000 -> 42,000으로 증가시켜서 그런지 토탈 파라미터값이 3배정도(22,607,961 -> 67,442,961)증가된 것을 볼 수 있다."
      ],
      "metadata": {
        "id": "uc7EkFCNhfCj"
      }
    },
    {
      "cell_type": "code",
      "source": [
        "#모델 학습시키기\n",
        "optimizer = tf.keras.optimizers.Adam()\n",
        "#Loss\n",
        "loss = tf.keras.losses.SparseCategoricalCrossentropy(\n",
        "    from_logits=True, reduction='none')\n",
        "\n",
        "model.compile(loss=loss, optimizer=optimizer)\n",
        "history = model.fit(dataset, epochs=10, validation_data = (enc_val, dec_val))"
      ],
      "metadata": {
        "colab": {
          "base_uri": "https://localhost:8080/"
        },
        "id": "Bkk7M3h9bRmP",
        "outputId": "e10a5e2f-fbae-46fa-8bba-b5d3993acd49"
      },
      "execution_count": null,
      "outputs": [
        {
          "output_type": "stream",
          "name": "stdout",
          "text": [
            "Epoch 1/10\n",
            "514/514 [==============================] - 109s 205ms/step - loss: 3.7202 - val_loss: 3.2335\n",
            "Epoch 2/10\n",
            "514/514 [==============================] - 104s 203ms/step - loss: 3.0932 - val_loss: 3.0437\n",
            "Epoch 3/10\n",
            "514/514 [==============================] - 104s 203ms/step - loss: 2.9079 - val_loss: 2.9369\n",
            "Epoch 4/10\n",
            "514/514 [==============================] - 105s 203ms/step - loss: 2.7701 - val_loss: 2.8622\n",
            "Epoch 5/10\n",
            "514/514 [==============================] - 104s 203ms/step - loss: 2.6477 - val_loss: 2.7988\n",
            "Epoch 6/10\n",
            "514/514 [==============================] - 104s 203ms/step - loss: 2.5319 - val_loss: 2.7445\n",
            "Epoch 7/10\n",
            "514/514 [==============================] - 104s 203ms/step - loss: 2.4219 - val_loss: 2.6959\n",
            "Epoch 8/10\n",
            "514/514 [==============================] - 104s 203ms/step - loss: 2.3170 - val_loss: 2.6579\n",
            "Epoch 9/10\n",
            "514/514 [==============================] - 104s 203ms/step - loss: 2.2200 - val_loss: 2.6237\n",
            "Epoch 10/10\n",
            "514/514 [==============================] - 104s 203ms/step - loss: 2.1303 - val_loss: 2.5977\n"
          ]
        }
      ]
    },
    {
      "cell_type": "markdown",
      "source": [
        "학습을 시켜보니,   \n",
        "train의 loss 값은 3.7 -> 2.1 까지 낮아지는 반면,   \n",
        "validation의 loss 값은 3.2 ->2.6 으로 낮아져 루브릭 기준인 2.2 까지 낮아지지 않았다.  \n",
        "\n",
        "시각화해서 한번 확인해볼까?"
      ],
      "metadata": {
        "id": "UhJ_iQwVe0gt"
      }
    },
    {
      "cell_type": "code",
      "source": [
        "#그래프 시각화\n",
        "plt.figure(figsize=(15,5)) \n",
        "plt.plot(history.history['loss'], label='loss') \n",
        "plt.plot(history.history['val_loss'], label='val_loss') \n",
        "plt.hlines(2.2,0,10, color=\"red\", label='goal')\n",
        "plt.legend() \n",
        "plt.show()"
      ],
      "metadata": {
        "colab": {
          "base_uri": "https://localhost:8080/",
          "height": 320
        },
        "id": "_5qniXCfxSc9",
        "outputId": "b8302a84-123b-4ec3-924a-c26e5fdaa33f"
      },
      "execution_count": null,
      "outputs": [
        {
          "output_type": "display_data",
          "data": {
            "text/plain": [
              "<Figure size 1080x360 with 1 Axes>"
            ],
            "image/png": "[encoded data removed]"
          },
          "metadata": {
            "needs_background": "light"
          }
        }
      ]
    },
    {
      "cell_type": "markdown",
      "source": [
        "시각화를 하고 보니,   \n",
        "loss, val_loss 값 모두 1번의 급격한 감소 이후 완만하게 감소하는 추세를 보였으며,   \n",
        "loss는 2.1까지 내려가 목표인 2.2 이하로 떨어졌지만, val_loss는 소폭 감소하며 목표인 2.2까지 떨어지지 못했다.  \n",
        "\n",
        "하지만 그래프를 보아 과적합은 이뤄지지 않았으니 다른 부분을 조정하여 val_loss 값을 낮춰보자."
      ],
      "metadata": {
        "id": "nsEoFOw75LYY"
      }
    },
    {
      "cell_type": "markdown",
      "source": [
        "## 추후 진행 내용 \n",
        "    1) 데이터 정제시 ' 제외하고 다시 학습시켜보기\n",
        "    2) embedding size 증가하여 돌려보기  \n",
        "    3) hidden layer 증가하여 돌려보기  \n",
        "    4) 다른 변경할 수 있을만한? 것들 넣어서 돌려보기 \n",
        "    추가) 길이 긴 문장 제외하지 않고 돌려보기 \n",
        "\n",
        "상기 내용을 순차적으로 진행해보면서 과적합이 일어나지 않도록 설계해보자.\n",
        "\n",
        "---"
      ],
      "metadata": {
        "id": "0UF2iQ7ggc8a"
      }
    },
    {
      "cell_type": "markdown",
      "source": [
        "### 1) 데이터 정제시 ' 제외하고 다시 학습시켜보기  \n",
        "- preprocess_sentence 함수 정의시 ' 까지 제외하고 데이터를 넣어보자."
      ],
      "metadata": {
        "id": "SWkYb4VShY_w"
      }
    },
    {
      "cell_type": "code",
      "source": [
        "def preprocess_sentence(sentence):\n",
        "    sentence = sentence.lower().strip() \n",
        "    sentence = re.sub(r\"([?.!,¿])\", r\" \\1 \", sentence) \n",
        "    sentence = re.sub(r'[\" \"]+', \" \", sentence) \n",
        "    sentence = re.sub(r\"[^a-zA-Z?.!,¿]+\", \" \", sentence) \n",
        "    sentence = sentence.strip() \n",
        "    sentence = '<start> ' + sentence + ' <end>' \n",
        "    return sentence"
      ],
      "metadata": {
        "id": "EtGHEpEFhYLS"
      },
      "execution_count": null,
      "outputs": []
    },
    {
      "cell_type": "code",
      "source": [
        "corpus = []\n",
        "\n",
        "for sentence in raw_corpus:\n",
        "    \n",
        "    # 정제를 하고 담아주세요\n",
        "    preprocessed_sentence = preprocess_sentence(sentence)\n",
        "\n",
        "    if preprocessed_sentence.count(' ') >= 14: continue\n",
        "\n",
        "    corpus.append(preprocessed_sentence)\n",
        "\n",
        "# 정제된 결과를 10개만 확인해보죠\n",
        "corpus[:10]"
      ],
      "metadata": {
        "colab": {
          "base_uri": "https://localhost:8080/"
        },
        "id": "Q9IUWZs8hrCp",
        "outputId": "a85c172d-ff18-4fe5-dd38-b64943b9bc95"
      },
      "execution_count": null,
      "outputs": [
        {
          "output_type": "execute_result",
          "data": {
            "text/plain": [
              "['<start> build your dreams to the stars above <end>',\n",
              " '<start> but when you need someone to love <end>',\n",
              " '<start> and when there s no place for you to turn <end>',\n",
              " '<start> you ll follow your heart i know <end>',\n",
              " '<start> and i ll understand if you go so <end>',\n",
              " '<start> make your mark for your friends to see <end>',\n",
              " '<start> but when you need more than company <end>',\n",
              " '<start> you give your soul so sweetly <end>',\n",
              " '<start> tonight the light of love is in your eyes <end>',\n",
              " '<start> will you love me tomorrow is this a lasting treasure <end>']"
            ]
          },
          "metadata": {},
          "execution_count": 6
        }
      ]
    },
    {
      "cell_type": "code",
      "source": [
        "def tokenize(corpus):\n",
        "    tokenizer = tf.keras.preprocessing.text.Tokenizer(\n",
        "        num_words=42000, \n",
        "        filters=' ',\n",
        "        oov_token=\"<unk>\"\n",
        "    )\n",
        "    # corpus를 이용해 tokenizer 내부의 단어장을 완성합니다\n",
        "    tokenizer.fit_on_texts(corpus)\n",
        "\n",
        "    # 준비한 tokenizer를 이용해 corpus를 Tensor로 변환합니다\n",
        "    tensor = tokenizer.texts_to_sequences(corpus)   \n",
        "    # 입력 데이터의 시퀀스 길이를 일정하게 맞춰줍니다\n",
        "    tensor = tf.keras.preprocessing.sequence.pad_sequences(tensor, padding='post')  \n",
        "    \n",
        "    print(tensor,tokenizer)\n",
        "    return tensor, tokenizer\n",
        "\n",
        "tensor, tokenizer = tokenize(corpus)"
      ],
      "metadata": {
        "colab": {
          "base_uri": "https://localhost:8080/"
        },
        "id": "jp9gRjgUh07z",
        "outputId": "6f9950f8-889b-4024-a60b-c8b2a3be534e"
      },
      "execution_count": null,
      "outputs": [
        {
          "output_type": "stream",
          "name": "stdout",
          "text": [
            "[[    2  1386    19 ...     0     0     0]\n",
            " [    2    33    45 ...     0     0     0]\n",
            " [    2     8    45 ...     3     0     0]\n",
            " ...\n",
            " [    2    30    19 ...     5 17293     3]\n",
            " [    2   346    19 ...   159     3     0]\n",
            " [    2    41   130 ...     0     0     0]] <keras_preprocessing.text.Tokenizer object at 0x7f311883a190>\n"
          ]
        }
      ]
    },
    {
      "cell_type": "code",
      "source": [
        "#tokenizer에 단어 사전이 어떻게 구축되었는지 한번 보자\n",
        "for idx in tokenizer.index_word:\n",
        "    print(idx, \":\", tokenizer.index_word[idx])\n",
        "    if idx >= 10: break"
      ],
      "metadata": {
        "colab": {
          "base_uri": "https://localhost:8080/"
        },
        "id": "Ft1LAJFeh6Uo",
        "outputId": "046203e1-1b44-46fc-c31e-b36a7ed3b8a8"
      },
      "execution_count": null,
      "outputs": [
        {
          "output_type": "stream",
          "name": "stdout",
          "text": [
            "1 : <unk>\n",
            "2 : <start>\n",
            "3 : <end>\n",
            "4 : i\n",
            "5 : ,\n",
            "6 : the\n",
            "7 : you\n",
            "8 : and\n",
            "9 : a\n",
            "10 : to\n"
          ]
        }
      ]
    },
    {
      "cell_type": "markdown",
      "source": [
        "확실히 '로 (대부분의) 주어를 구분시켜주니 i의 순위가 높아진 것을 확인할 수 있으며, 주어 i의 학습이 더 정확하게 될 것을 예측 할 수 있다."
      ],
      "metadata": {
        "id": "u1IURyasmep5"
      }
    },
    {
      "cell_type": "code",
      "source": [
        "X = tensor[:, :-1]  \n",
        "y = tensor[:, 1:]    \n",
        "\n",
        "enc_train, enc_val, dec_train, dec_val = train_test_split(X, y, test_size=0.2, random_state=50)\n",
        "\n",
        "#잘 나눠졌는지 확인\n",
        "print(enc_train.shape, dec_train.shape)\n",
        "print(enc_val.shape, dec_val.shape)"
      ],
      "metadata": {
        "colab": {
          "base_uri": "https://localhost:8080/"
        },
        "id": "eGwCeLsZiN9X",
        "outputId": "eb77502d-a499-4d1e-dfba-5cc6c5f10140"
      },
      "execution_count": null,
      "outputs": [
        {
          "output_type": "stream",
          "name": "stdout",
          "text": [
            "(129040, 13) (129040, 13)\n",
            "(32260, 13) (32260, 13)\n"
          ]
        }
      ]
    },
    {
      "cell_type": "code",
      "source": [
        "BUFFER_SIZE = len(enc_train)\n",
        "BATCH_SIZE = 256\n",
        "steps_per_epoch = len(enc_train) // BATCH_SIZE\n",
        "\n",
        "# tokenizer가 구축한 단어사전 내 42,000개와, 여기 포함되지 않은 0:<pad>를 포함하여 7001개\n",
        "VOCAB_SIZE = tokenizer.num_words + 1   \n",
        "\n",
        "# 준비한 데이터 소스로부터 데이터셋 만들기\n",
        "dataset = tf.data.Dataset.from_tensor_slices((enc_train, dec_train))\n",
        "dataset = dataset.shuffle(BUFFER_SIZE)\n",
        "dataset = dataset.batch(BATCH_SIZE, drop_remainder=True) \n",
        "#drop_remainder= batch size에 도달하면 나머지 데이터는 버림 \n",
        "dataset"
      ],
      "metadata": {
        "colab": {
          "base_uri": "https://localhost:8080/"
        },
        "id": "jEC-pl3hiS5s",
        "outputId": "6ad363b8-1f2b-4698-8082-d5526ee10be4"
      },
      "execution_count": null,
      "outputs": [
        {
          "output_type": "execute_result",
          "data": {
            "text/plain": [
              "<BatchDataset element_spec=(TensorSpec(shape=(256, 13), dtype=tf.int32, name=None), TensorSpec(shape=(256, 13), dtype=tf.int32, name=None))>"
            ]
          },
          "metadata": {},
          "execution_count": 10
        }
      ]
    },
    {
      "cell_type": "code",
      "source": [
        "embedding_size = 256\n",
        "hidden_size = 1024\n",
        "model = TextGenerator(tokenizer.num_words + 1, embedding_size , hidden_size)"
      ],
      "metadata": {
        "id": "ZSgELGGPiXog"
      },
      "execution_count": null,
      "outputs": []
    },
    {
      "cell_type": "code",
      "source": [
        "for src_enc_train, dec_train in dataset.take(1): break\n",
        "\n",
        "model(src_enc_train)"
      ],
      "metadata": {
        "colab": {
          "base_uri": "https://localhost:8080/"
        },
        "id": "5_JZQvYhL2M8",
        "outputId": "6c03ef1a-e1e9-4c0b-b0b0-492bb35415f9"
      },
      "execution_count": null,
      "outputs": [
        {
          "output_type": "execute_result",
          "data": {
            "text/plain": [
              "<tf.Tensor: shape=(256, 13, 42001), dtype=float32, numpy=\n",
              "array([[[-5.01902468e-05,  1.85840420e-07,  6.98158401e-05, ...,\n",
              "          2.04162585e-04,  7.27520091e-05,  7.25732461e-05],\n",
              "        [-1.42609308e-04, -5.66181916e-05,  2.35840023e-04, ...,\n",
              "          3.24946188e-04,  1.80370873e-04,  2.60918081e-04],\n",
              "        [-1.55301910e-04, -1.97684494e-05,  3.26929119e-04, ...,\n",
              "          1.75514986e-04,  9.55881405e-05,  3.41131585e-04],\n",
              "        ...,\n",
              "        [ 3.91229405e-04, -5.98477840e-04, -9.00096638e-05, ...,\n",
              "         -6.50451868e-04, -1.34475675e-04, -2.22139963e-04],\n",
              "        [ 3.57642333e-04, -3.96573276e-04,  9.57768134e-06, ...,\n",
              "         -6.12887903e-04, -1.05811494e-04, -2.48287368e-04],\n",
              "        [ 3.45440611e-04, -1.79050781e-04,  9.01644671e-05, ...,\n",
              "         -5.28040226e-04, -1.02925274e-04, -2.64716044e-04]],\n",
              "\n",
              "       [[-5.01902468e-05,  1.85840420e-07,  6.98158401e-05, ...,\n",
              "          2.04162585e-04,  7.27520091e-05,  7.25732461e-05],\n",
              "        [-1.01200822e-04,  8.96748304e-07,  3.43168140e-05, ...,\n",
              "          3.11034994e-04,  3.21148582e-05,  1.69911436e-04],\n",
              "        [ 5.24921634e-05, -1.91067738e-05,  7.85638895e-06, ...,\n",
              "          2.78828753e-04, -1.28942702e-04,  2.40219364e-04],\n",
              "        ...,\n",
              "        [-3.61410290e-04, -4.83246113e-04, -8.73453464e-05, ...,\n",
              "          3.13642522e-04, -5.62836431e-05,  8.94482655e-05],\n",
              "        [-2.92981538e-04, -4.37374896e-04, -2.36437882e-05, ...,\n",
              "          3.89544148e-04, -2.80080785e-05,  5.87497816e-05],\n",
              "        [-2.06902274e-04, -3.24665569e-04,  4.11049950e-05, ...,\n",
              "          4.62076132e-04, -3.20288309e-05,  5.87794566e-05]],\n",
              "\n",
              "       [[-5.01902468e-05,  1.85840420e-07,  6.98158401e-05, ...,\n",
              "          2.04162585e-04,  7.27520091e-05,  7.25732461e-05],\n",
              "        [-1.14272763e-04, -5.74298974e-05,  2.73390411e-04, ...,\n",
              "          2.42477850e-04,  1.04163817e-04,  2.78946663e-05],\n",
              "        [-2.39769157e-04, -7.59313707e-06,  4.11802554e-04, ...,\n",
              "          2.64033937e-04,  1.29428459e-04, -3.98550437e-05],\n",
              "        ...,\n",
              "        [ 2.07738718e-04,  5.85365226e-04,  6.79237710e-04, ...,\n",
              "          8.50674638e-04, -1.63996738e-05, -7.51643674e-05],\n",
              "        [ 3.23544955e-04,  6.23165281e-04,  6.52020215e-04, ...,\n",
              "          9.58770514e-04, -6.83144608e-05, -1.01640908e-04],\n",
              "        [ 4.28429455e-04,  6.48365763e-04,  6.30301307e-04, ...,\n",
              "          1.06234162e-03, -1.17249234e-04, -1.30406785e-04]],\n",
              "\n",
              "       ...,\n",
              "\n",
              "       [[-5.01902468e-05,  1.85840420e-07,  6.98158401e-05, ...,\n",
              "          2.04162585e-04,  7.27520091e-05,  7.25732461e-05],\n",
              "        [-9.44001949e-05,  1.10476651e-06,  2.31183745e-04, ...,\n",
              "          3.22217587e-04,  2.37960179e-04,  4.96103021e-05],\n",
              "        [-1.13123097e-04,  7.37253358e-05,  3.59720492e-04, ...,\n",
              "          3.83046427e-04,  2.55756051e-04,  5.89221090e-05],\n",
              "        ...,\n",
              "        [ 5.15889493e-04,  6.40938990e-04,  5.34751685e-04, ...,\n",
              "          1.02610153e-03, -2.19510548e-04, -9.30356982e-05],\n",
              "        [ 5.92068362e-04,  6.51177019e-04,  5.35324914e-04, ...,\n",
              "          1.12386490e-03, -2.58055225e-04, -1.27875246e-04],\n",
              "        [ 6.57448429e-04,  6.53751718e-04,  5.38728607e-04, ...,\n",
              "          1.21528876e-03, -2.92161450e-04, -1.60799638e-04]],\n",
              "\n",
              "       [[-5.01902468e-05,  1.85840420e-07,  6.98158401e-05, ...,\n",
              "          2.04162585e-04,  7.27520091e-05,  7.25732461e-05],\n",
              "        [-1.68794970e-04,  1.28705024e-05,  1.30064567e-04, ...,\n",
              "          2.43592440e-04,  3.30215640e-04,  1.37374867e-04],\n",
              "        [-2.30991573e-04,  1.29010106e-04,  1.72089844e-04, ...,\n",
              "          2.47242453e-04,  5.64447138e-04,  1.42477002e-04],\n",
              "        ...,\n",
              "        [-2.07717821e-04,  1.37090654e-04,  3.33831558e-04, ...,\n",
              "          3.74214251e-05,  5.01034607e-04,  7.95701577e-04],\n",
              "        [-2.28960082e-04,  2.51879625e-04,  4.33852343e-04, ...,\n",
              "         -1.61110380e-04,  6.27988717e-04,  8.44111026e-04],\n",
              "        [-9.58695018e-05,  4.02642414e-04,  5.00667782e-04, ...,\n",
              "         -2.28489211e-04,  6.78247539e-04,  8.75031052e-04]],\n",
              "\n",
              "       [[-5.01902468e-05,  1.85840420e-07,  6.98158401e-05, ...,\n",
              "          2.04162585e-04,  7.27520091e-05,  7.25732461e-05],\n",
              "        [-1.46543083e-04,  3.06403376e-06,  9.93444992e-05, ...,\n",
              "          2.65647570e-04,  1.37071635e-04,  9.67037849e-05],\n",
              "        [ 2.84378366e-05, -8.25066527e-05,  5.71562632e-05, ...,\n",
              "          2.10849699e-04,  1.54478475e-04,  7.05136626e-05],\n",
              "        ...,\n",
              "        [ 4.26074082e-04, -4.93610220e-04,  2.54496845e-04, ...,\n",
              "         -2.79700878e-04,  1.88606660e-04, -4.07281514e-05],\n",
              "        [ 5.62185014e-04, -3.08561837e-04,  4.01434430e-04, ...,\n",
              "         -4.29142587e-04,  2.29740821e-04, -9.49328823e-05],\n",
              "        [ 5.81930566e-04, -1.98389927e-04,  5.28072182e-04, ...,\n",
              "         -4.89963219e-04,  4.10014822e-04, -1.84455610e-04]]],\n",
              "      dtype=float32)>"
            ]
          },
          "metadata": {},
          "execution_count": 55
        }
      ]
    },
    {
      "cell_type": "code",
      "source": [
        "#모델 학습시키기_재도전 1번째\n",
        "optimizer = tf.keras.optimizers.Adam()\n",
        "#Loss\n",
        "loss = tf.keras.losses.SparseCategoricalCrossentropy(\n",
        "    from_logits=True, reduction='none')\n",
        "\n",
        "model.compile(loss=loss, optimizer=optimizer)\n",
        "\n",
        "history_1 = model.fit(dataset, epochs=10, validation_data = (enc_val, dec_val))"
      ],
      "metadata": {
        "colab": {
          "base_uri": "https://localhost:8080/"
        },
        "id": "AXlZ9yD1ibk8",
        "outputId": "f51b5135-b296-4d65-ca29-dfd6b8e44e9d"
      },
      "execution_count": null,
      "outputs": [
        {
          "output_type": "stream",
          "name": "stdout",
          "text": [
            "Epoch 1/10\n",
            "504/504 [==============================] - 106s 205ms/step - loss: 3.8115 - val_loss: 3.2926\n",
            "Epoch 2/10\n",
            "504/504 [==============================] - 102s 203ms/step - loss: 3.1353 - val_loss: 3.0724\n",
            "Epoch 3/10\n",
            "504/504 [==============================] - 102s 203ms/step - loss: 2.9455 - val_loss: 2.9571\n",
            "Epoch 4/10\n",
            "504/504 [==============================] - 102s 203ms/step - loss: 2.8073 - val_loss: 2.8761\n",
            "Epoch 5/10\n",
            "504/504 [==============================] - 102s 203ms/step - loss: 2.6893 - val_loss: 2.8084\n",
            "Epoch 6/10\n",
            "504/504 [==============================] - 102s 202ms/step - loss: 2.5804 - val_loss: 2.7542\n",
            "Epoch 7/10\n",
            "504/504 [==============================] - 102s 203ms/step - loss: 2.4760 - val_loss: 2.7021\n",
            "Epoch 8/10\n",
            "504/504 [==============================] - 102s 202ms/step - loss: 2.3756 - val_loss: 2.6636\n",
            "Epoch 9/10\n",
            "504/504 [==============================] - 102s 202ms/step - loss: 2.2793 - val_loss: 2.6227\n",
            "Epoch 10/10\n",
            "504/504 [==============================] - 102s 203ms/step - loss: 2.1893 - val_loss: 2.5935\n"
          ]
        }
      ]
    },
    {
      "cell_type": "code",
      "source": [
        "#그래프 시각화\n",
        "plt.figure(figsize=(15,5)) \n",
        "plt.plot(history_1.history['loss'], label='loss') \n",
        "plt.plot(history_1.history['val_loss'], label='val_loss') \n",
        "plt.hlines(2.2,0,10, color=\"red\", label='goal')\n",
        "plt.legend() \n",
        "plt.show()"
      ],
      "metadata": {
        "colab": {
          "base_uri": "https://localhost:8080/",
          "height": 320
        },
        "id": "3QKI49PJNNMH",
        "outputId": "7e3c5410-13f3-4f5a-ee9e-a9544030a1ce"
      },
      "execution_count": null,
      "outputs": [
        {
          "output_type": "display_data",
          "data": {
            "text/plain": [
              "<Figure size 1080x360 with 1 Axes>"
            ],
            "image/png": "[encoded data removed]"
          },
          "metadata": {
            "needs_background": "light"
          }
        }
      ]
    },
    {
      "cell_type": "markdown",
      "source": [
        "1) 데이터 정제시 ' 제외하고 다시 학습시켜보니,\n",
        "- loss, val_loss 값 모두 첫번째와 비슷하게 3.8 -> 2.1 (이전 : 3.7 -> 2.1 ), val_loss는 3.2 -> 2.5 (이전 : 3.2 ->2.6)감소되는 추세를 보였다.   \n",
        "- `'`를 제외한 결과가 특별히 다르지 않았으며 단어별 정확한 학습을 시키기 위해 앞으로 2) ~ 추가) 까지 진행할 때도 `'`를 제외하고 데이터 처리를 해보도록 하자!\n",
        "\n",
        "---"
      ],
      "metadata": {
        "id": "6MeV5VmhkVfT"
      }
    },
    {
      "cell_type": "markdown",
      "source": [
        "### 2) embedding size 증가하여 돌려보기  \n",
        "- 기존 embedding_size = 256에서 512 로 2배 늘림"
      ],
      "metadata": {
        "id": "8L4uHbBfljlr"
      }
    },
    {
      "cell_type": "code",
      "source": [
        "embedding_size = 512\n",
        "hidden_size = 1024\n",
        "model = TextGenerator(tokenizer.num_words + 1, embedding_size , hidden_size)"
      ],
      "metadata": {
        "id": "KDK31HOOmJ8W"
      },
      "execution_count": null,
      "outputs": []
    },
    {
      "cell_type": "code",
      "source": [
        "for src_enc_train, dec_train in dataset.take(1): break\n",
        "\n",
        "model(src_enc_train)"
      ],
      "metadata": {
        "colab": {
          "base_uri": "https://localhost:8080/"
        },
        "id": "Dc99sG8m1B9a",
        "outputId": "18f841af-ca11-450b-ef3d-bbdc1eadf83c"
      },
      "execution_count": null,
      "outputs": [
        {
          "output_type": "execute_result",
          "data": {
            "text/plain": [
              "<tf.Tensor: shape=(256, 13, 42001), dtype=float32, numpy=\n",
              "array([[[ 6.95777708e-05, -7.49619867e-05, -1.05386134e-04, ...,\n",
              "          1.18071475e-04, -2.03238058e-04,  1.57719842e-04],\n",
              "        [ 1.48362320e-04, -4.31669650e-05, -2.83305126e-04, ...,\n",
              "          1.99377087e-06, -4.02617734e-04,  4.52123932e-04],\n",
              "        [ 1.71986117e-04,  2.89765303e-04, -2.89339601e-04, ...,\n",
              "         -1.66553058e-04, -3.38949496e-04,  3.18485749e-04],\n",
              "        ...,\n",
              "        [ 5.08209981e-04,  1.10813518e-04,  5.12705068e-04, ...,\n",
              "         -5.10956743e-04, -9.64837498e-04,  6.61838218e-04],\n",
              "        [ 3.40440398e-04,  2.36203428e-04,  5.49868157e-04, ...,\n",
              "         -4.10400884e-04, -1.03054754e-03,  8.71616707e-04],\n",
              "        [ 4.77154477e-04,  2.13364910e-04,  6.15742872e-04, ...,\n",
              "         -4.36709350e-04, -8.44056834e-04,  8.42386391e-04]],\n",
              "\n",
              "       [[ 6.95777708e-05, -7.49619867e-05, -1.05386134e-04, ...,\n",
              "          1.18071475e-04, -2.03238058e-04,  1.57719842e-04],\n",
              "        [-5.57886888e-05, -9.48375382e-05, -2.27692071e-04, ...,\n",
              "         -1.96060082e-05, -7.90864869e-05,  3.31817660e-04],\n",
              "        [ 5.47526470e-05,  4.64720906e-05, -1.01492296e-04, ...,\n",
              "         -2.24350239e-04,  1.95244225e-04,  4.31965716e-04],\n",
              "        ...,\n",
              "        [ 7.02725665e-04,  2.73606012e-04, -1.03154169e-04, ...,\n",
              "         -1.06043287e-03, -5.30172954e-04,  2.27579832e-04],\n",
              "        [ 8.10506172e-04,  2.28222911e-04,  1.86428842e-05, ...,\n",
              "         -1.06546353e-03, -3.92954942e-04,  1.32141373e-04],\n",
              "        [ 1.03490334e-03,  1.24065875e-04,  1.11784517e-04, ...,\n",
              "         -1.11274223e-03, -1.47582643e-04, -7.76002416e-05]],\n",
              "\n",
              "       [[ 6.95777708e-05, -7.49619867e-05, -1.05386134e-04, ...,\n",
              "          1.18071475e-04, -2.03238058e-04,  1.57719842e-04],\n",
              "        [ 1.94318171e-04,  8.34703951e-06, -2.07030564e-04, ...,\n",
              "          1.22920319e-04, -2.95412901e-04,  1.72059299e-04],\n",
              "        [ 3.34799552e-04,  1.72226035e-04, -1.88375838e-04, ...,\n",
              "         -2.62928643e-05, -1.57892209e-04,  1.43398211e-04],\n",
              "        ...,\n",
              "        [ 2.98561150e-04,  6.78153243e-04,  4.27239604e-04, ...,\n",
              "          6.07739144e-04, -9.81474877e-04,  5.62829373e-04],\n",
              "        [ 1.59243762e-04,  4.98523004e-04,  2.41121408e-04, ...,\n",
              "          4.72792977e-04, -1.00528321e-03,  6.54501666e-04],\n",
              "        [-1.08796638e-04,  4.16599156e-04,  2.20781396e-04, ...,\n",
              "          4.23233461e-04, -9.94345639e-04,  7.20208453e-04]],\n",
              "\n",
              "       ...,\n",
              "\n",
              "       [[ 6.95777708e-05, -7.49619867e-05, -1.05386134e-04, ...,\n",
              "          1.18071475e-04, -2.03238058e-04,  1.57719842e-04],\n",
              "        [ 3.03412933e-04,  7.14340013e-06,  1.11694935e-05, ...,\n",
              "          4.86642130e-05, -1.25861057e-04,  2.68947566e-04],\n",
              "        [ 5.26118500e-04, -1.10322981e-04,  1.33387075e-04, ...,\n",
              "          2.46512100e-05, -1.68902203e-04,  3.86227795e-04],\n",
              "        ...,\n",
              "        [ 2.62816204e-04, -2.23650437e-04,  8.75222904e-04, ...,\n",
              "         -5.17153414e-04,  2.01036615e-04, -5.20179339e-04],\n",
              "        [ 6.13632845e-04, -3.02492816e-04,  9.05099500e-04, ...,\n",
              "         -6.98526215e-04,  4.65941732e-04, -8.85076297e-04],\n",
              "        [ 9.35834192e-04, -3.81338265e-04,  9.17834113e-04, ...,\n",
              "         -8.83116736e-04,  6.90921093e-04, -1.24729250e-03]],\n",
              "\n",
              "       [[ 6.95777708e-05, -7.49619867e-05, -1.05386134e-04, ...,\n",
              "          1.18071475e-04, -2.03238058e-04,  1.57719842e-04],\n",
              "        [ 2.16740911e-04, -1.81946671e-04, -2.51159043e-04, ...,\n",
              "          1.67517341e-04, -1.49650295e-04,  2.99245468e-04],\n",
              "        [ 2.65846582e-04, -1.98985334e-04, -2.18904243e-04, ...,\n",
              "          3.45054781e-04, -2.07232311e-04,  2.12102546e-04],\n",
              "        ...,\n",
              "        [ 1.58022414e-03, -2.13151739e-04,  5.71296841e-04, ...,\n",
              "          2.37911227e-04,  1.57630816e-03, -9.71939065e-04],\n",
              "        [ 1.80680526e-03, -3.19515268e-04,  5.90630341e-04, ...,\n",
              "         -7.15974238e-06,  1.66608859e-03, -1.25366636e-03],\n",
              "        [ 1.99044356e-03, -4.02732781e-04,  6.04889588e-04, ...,\n",
              "         -2.57421518e-04,  1.72602013e-03, -1.53631566e-03]],\n",
              "\n",
              "       [[ 6.95777708e-05, -7.49619867e-05, -1.05386134e-04, ...,\n",
              "          1.18071475e-04, -2.03238058e-04,  1.57719842e-04],\n",
              "        [ 1.63307035e-04, -8.98925282e-05, -1.89384038e-04, ...,\n",
              "          1.96389592e-04, -6.28720081e-05,  3.09920113e-04],\n",
              "        [ 1.08535154e-04, -1.57702263e-04, -2.21235532e-04, ...,\n",
              "          1.12119567e-04,  6.67652785e-05,  3.74338182e-04],\n",
              "        ...,\n",
              "        [ 6.04315137e-04,  4.11406014e-04,  5.56480605e-04, ...,\n",
              "          3.35357036e-04,  2.19580310e-04,  1.22626530e-04],\n",
              "        [ 8.93501507e-04,  2.97300430e-04,  5.86489157e-04, ...,\n",
              "          1.29691980e-04,  3.65688116e-04, -1.86962629e-04],\n",
              "        [ 1.21887459e-03,  1.47688595e-04,  5.95142716e-04, ...,\n",
              "         -9.23349508e-05,  5.28354081e-04, -5.33731771e-04]]],\n",
              "      dtype=float32)>"
            ]
          },
          "metadata": {},
          "execution_count": 59
        }
      ]
    },
    {
      "cell_type": "code",
      "source": [
        "#모델 서머리!\n",
        "model.summary()"
      ],
      "metadata": {
        "colab": {
          "base_uri": "https://localhost:8080/"
        },
        "id": "R9hmBi3j05Kw",
        "outputId": "2f1f6385-cb15-4737-ee80-9589ecaac693"
      },
      "execution_count": null,
      "outputs": [
        {
          "output_type": "stream",
          "name": "stdout",
          "text": [
            "Model: \"text_generator_5\"\n",
            "_________________________________________________________________\n",
            " Layer (type)                Output Shape              Param #   \n",
            "=================================================================\n",
            " embedding_5 (Embedding)     multiple                  21504512  \n",
            "                                                                 \n",
            " lstm_10 (LSTM)              multiple                  6295552   \n",
            "                                                                 \n",
            " lstm_11 (LSTM)              multiple                  8392704   \n",
            "                                                                 \n",
            " dense_5 (Dense)             multiple                  43051025  \n",
            "                                                                 \n",
            "=================================================================\n",
            "Total params: 79,243,793\n",
            "Trainable params: 79,243,793\n",
            "Non-trainable params: 0\n",
            "_________________________________________________________________\n"
          ]
        }
      ]
    },
    {
      "cell_type": "markdown",
      "source": [
        "**Total params: 67,442,961 -> 79,243,793**  \n",
        "우선 total para~의 값이 약 12백만개 증가한 것을 확인했다.  \n",
        "숫자가 증가한만큼 loss값이 감소해주길 기대하며 학습을 시켜보자!"
      ],
      "metadata": {
        "id": "EB0o5tCN1fdJ"
      }
    },
    {
      "cell_type": "code",
      "source": [
        "#모델 학습시키기_재도전 2번째!\n",
        "optimizer = tf.keras.optimizers.Adam()\n",
        "#Loss\n",
        "loss = tf.keras.losses.SparseCategoricalCrossentropy(\n",
        "    from_logits=True, reduction='none')\n",
        "\n",
        "model.compile(loss=loss, optimizer=optimizer)\n",
        "history_2 = model.fit(dataset, epochs=10, validation_data = (enc_val, dec_val))"
      ],
      "metadata": {
        "colab": {
          "base_uri": "https://localhost:8080/"
        },
        "id": "Rh9dUSyF00df",
        "outputId": "eb23151b-5dde-42fe-f60f-55c777dc3834"
      },
      "execution_count": null,
      "outputs": [
        {
          "output_type": "stream",
          "name": "stdout",
          "text": [
            "Epoch 1/10\n",
            "504/504 [==============================] - 109s 210ms/step - loss: 3.7499 - val_loss: 3.2982\n",
            "Epoch 2/10\n",
            "504/504 [==============================] - 105s 208ms/step - loss: 3.1347 - val_loss: 3.0710\n",
            "Epoch 3/10\n",
            "504/504 [==============================] - 105s 208ms/step - loss: 2.9436 - val_loss: 2.9633\n",
            "Epoch 4/10\n",
            "504/504 [==============================] - 105s 208ms/step - loss: 2.8118 - val_loss: 2.8823\n",
            "Epoch 5/10\n",
            "504/504 [==============================] - 105s 208ms/step - loss: 2.6984 - val_loss: 2.8213\n",
            "Epoch 6/10\n",
            "504/504 [==============================] - 105s 208ms/step - loss: 2.5950 - val_loss: 2.7689\n",
            "Epoch 7/10\n",
            "504/504 [==============================] - 105s 208ms/step - loss: 2.4977 - val_loss: 2.7223\n",
            "Epoch 8/10\n",
            "504/504 [==============================] - 105s 208ms/step - loss: 2.4057 - val_loss: 2.6845\n",
            "Epoch 9/10\n",
            "504/504 [==============================] - 105s 208ms/step - loss: 2.3180 - val_loss: 2.6512\n",
            "Epoch 10/10\n",
            "504/504 [==============================] - 105s 208ms/step - loss: 2.2356 - val_loss: 2.6243\n"
          ]
        }
      ]
    },
    {
      "cell_type": "code",
      "source": [
        "#그래프 시각화\n",
        "plt.figure(figsize=(15,5)) \n",
        "plt.plot(history_2.history['loss'], label='loss') \n",
        "plt.plot(history_2.history['val_loss'], label='val_loss') \n",
        "plt.hlines(2.2,0,10, color=\"red\", label='goal')\n",
        "plt.legend() \n",
        "plt.show()"
      ],
      "metadata": {
        "colab": {
          "base_uri": "https://localhost:8080/",
          "height": 320
        },
        "id": "y0R9AMAG78Tl",
        "outputId": "b006920a-666a-49af-bf54-4f831fb5ae2d"
      },
      "execution_count": null,
      "outputs": [
        {
          "output_type": "display_data",
          "data": {
            "text/plain": [
              "<Figure size 1080x360 with 1 Axes>"
            ],
            "image/png": "[encoded data removed]"
          },
          "metadata": {
            "needs_background": "light"
          }
        }
      ]
    },
    {
      "cell_type": "markdown",
      "source": [
        "띠로리.... 기대와 다르게 오히려 1,2째보다 못한 loss 값을 출력했다.... 주어진 값들에 비해 embedding size가 커서 모델이 학습을 잘하지 못한 모습인듯하다.  \n",
        "\n",
        "그럼 embedding size를 256으로 고정하고 hidden layer를 증가시켜 다시 학습시켜보자.\n",
        "\n",
        "---"
      ],
      "metadata": {
        "id": "neNo9QTb4a-b"
      }
    },
    {
      "cell_type": "markdown",
      "source": [
        "### 3) hidden layer 증가하여 돌려보기  \n",
        "- 기존 1024 -> 2048"
      ],
      "metadata": {
        "id": "YPiKfDC2DN51"
      }
    },
    {
      "cell_type": "code",
      "source": [
        "embedding_size = 256\n",
        "hidden_size = 2048\n",
        "model = TextGenerator(tokenizer.num_words + 1, embedding_size , hidden_size)"
      ],
      "metadata": {
        "id": "aaieLgfl6c1y"
      },
      "execution_count": null,
      "outputs": []
    },
    {
      "cell_type": "code",
      "source": [
        "for src_enc_train, dec_train in dataset.take(1): break\n",
        "\n",
        "model(src_enc_train)"
      ],
      "metadata": {
        "colab": {
          "base_uri": "https://localhost:8080/"
        },
        "id": "Q9PhsLSB6cxg",
        "outputId": "ebd2896f-594b-4974-c201-0b9b2df1e6e1"
      },
      "execution_count": null,
      "outputs": [
        {
          "output_type": "execute_result",
          "data": {
            "text/plain": [
              "<tf.Tensor: shape=(256, 13, 42001), dtype=float32, numpy=\n",
              "array([[[ 3.43971951e-05, -3.64516927e-05,  1.22247307e-04, ...,\n",
              "         -2.51088954e-06,  6.31559524e-05,  9.30493479e-05],\n",
              "        [ 3.54978656e-05, -1.96789842e-05,  1.73105640e-04, ...,\n",
              "          1.70215790e-04,  1.36425602e-04,  6.84368206e-05],\n",
              "        [ 5.65494993e-05,  1.06066480e-04,  2.38032953e-04, ...,\n",
              "          2.28866804e-04,  1.91272382e-04, -3.04550067e-05],\n",
              "        ...,\n",
              "        [-8.80102525e-05, -4.90243838e-05, -3.20960127e-04, ...,\n",
              "         -3.73417482e-04, -1.28214146e-04, -4.59067058e-04],\n",
              "        [ 1.07719403e-04, -4.67447826e-05, -1.31436376e-04, ...,\n",
              "         -3.59150843e-04, -6.61479426e-05, -7.06114166e-04],\n",
              "        [ 1.14205490e-04, -2.19526355e-05, -1.48702757e-05, ...,\n",
              "         -2.37144093e-04, -1.37515293e-04, -8.02792551e-04]],\n",
              "\n",
              "       [[ 3.43971951e-05, -3.64516927e-05,  1.22247307e-04, ...,\n",
              "         -2.51088954e-06,  6.31559524e-05,  9.30493479e-05],\n",
              "        [ 4.00869394e-05, -1.79380761e-04,  1.60107404e-04, ...,\n",
              "          1.70676125e-04,  1.51391345e-04,  1.30704386e-04],\n",
              "        [ 2.05212520e-04, -1.87349768e-04,  2.12247556e-04, ...,\n",
              "          2.56099825e-04,  2.36465392e-04,  2.61563371e-04],\n",
              "        ...,\n",
              "        [ 3.53204261e-04, -5.16802720e-05,  4.75904846e-04, ...,\n",
              "         -1.52823719e-04,  9.60235921e-05,  7.44650097e-05],\n",
              "        [ 2.26889475e-04,  3.33734679e-05,  4.80738701e-04, ...,\n",
              "         -4.49213810e-04, -3.75699165e-05, -1.50219857e-04],\n",
              "        [ 7.22654368e-05,  1.31824607e-04,  5.15231164e-04, ...,\n",
              "         -7.61840725e-04, -1.30712069e-04, -3.72229959e-04]],\n",
              "\n",
              "       [[ 3.43971951e-05, -3.64516927e-05,  1.22247307e-04, ...,\n",
              "         -2.51088954e-06,  6.31559524e-05,  9.30493479e-05],\n",
              "        [ 2.22715622e-04, -5.86728456e-05,  1.90997627e-04, ...,\n",
              "          4.41656848e-05, -1.47003338e-05,  2.90342490e-04],\n",
              "        [ 3.28740192e-04,  7.00840465e-05,  1.78980801e-04, ...,\n",
              "          1.34782167e-04, -8.02262275e-06,  3.57374927e-04],\n",
              "        ...,\n",
              "        [-1.14742666e-04,  6.52553921e-04, -8.72278542e-05, ...,\n",
              "         -1.51886765e-04,  3.32902273e-04,  2.87888339e-04],\n",
              "        [-1.45456186e-04,  5.61388035e-04, -4.24195096e-05, ...,\n",
              "         -3.53340700e-04,  2.23287832e-04,  8.41135552e-05],\n",
              "        [-2.44241266e-04,  4.99864400e-04,  2.09759110e-05, ...,\n",
              "         -4.10484237e-04,  1.27806154e-04,  1.14131006e-04]],\n",
              "\n",
              "       ...,\n",
              "\n",
              "       [[ 3.43971951e-05, -3.64516927e-05,  1.22247307e-04, ...,\n",
              "         -2.51088954e-06,  6.31559524e-05,  9.30493479e-05],\n",
              "        [ 5.05067292e-05, -6.06022149e-06,  1.83950833e-04, ...,\n",
              "          3.93682894e-05,  8.53242018e-05,  1.87427562e-04],\n",
              "        [ 4.49257932e-05, -9.44687345e-05,  1.48200430e-04, ...,\n",
              "          1.04322316e-04,  8.49241114e-05,  2.30277990e-04],\n",
              "        ...,\n",
              "        [-5.14099782e-04, -1.09101209e-04, -4.73742082e-04, ...,\n",
              "          2.59028020e-04,  3.78479337e-04,  3.27266025e-04],\n",
              "        [-6.16034376e-04, -1.07395397e-04, -4.22337966e-04, ...,\n",
              "          1.18112206e-04,  2.72856385e-04,  1.67351231e-04],\n",
              "        [-7.03266822e-04, -6.90508023e-05, -3.28777853e-04, ...,\n",
              "         -1.38938572e-04,  1.62752069e-04, -8.03741059e-05]],\n",
              "\n",
              "       [[ 3.43971951e-05, -3.64516927e-05,  1.22247307e-04, ...,\n",
              "         -2.51088954e-06,  6.31559524e-05,  9.30493479e-05],\n",
              "        [-4.08399028e-05, -4.72572137e-05,  1.86409103e-04, ...,\n",
              "          9.30610113e-05,  1.23473671e-06,  1.08266344e-04],\n",
              "        [-1.14529896e-04, -4.19687312e-05,  2.24633783e-04, ...,\n",
              "         -2.70375531e-05, -1.00817539e-04, -5.75976446e-05],\n",
              "        ...,\n",
              "        [-8.63403606e-04,  4.64717421e-04,  9.18037782e-04, ...,\n",
              "         -1.75085291e-03, -1.80189672e-04, -1.44424825e-03],\n",
              "        [-8.94177298e-04,  5.08652243e-04,  1.00323174e-03, ...,\n",
              "         -1.84999406e-03, -1.51951856e-04, -1.51224062e-03],\n",
              "        [-9.09288879e-04,  5.43109898e-04,  1.07792648e-03, ...,\n",
              "         -1.92774285e-03, -1.26928819e-04, -1.56712369e-03]],\n",
              "\n",
              "       [[ 3.43971951e-05, -3.64516927e-05,  1.22247307e-04, ...,\n",
              "         -2.51088954e-06,  6.31559524e-05,  9.30493479e-05],\n",
              "        [ 3.17884151e-05, -1.17606127e-04,  2.55106890e-04, ...,\n",
              "         -8.09615012e-05,  8.48433629e-05,  9.95791634e-05],\n",
              "        [ 3.19367937e-05, -9.38777230e-05,  2.53421953e-04, ...,\n",
              "         -1.99311107e-04, -5.02499097e-05,  1.09946865e-04],\n",
              "        ...,\n",
              "        [ 1.99304297e-04, -2.06506429e-05, -4.07982821e-04, ...,\n",
              "         -2.03995645e-04,  8.67755385e-04,  3.50756571e-04],\n",
              "        [ 1.02448161e-04, -7.79004258e-05, -4.30231536e-04, ...,\n",
              "         -2.51586083e-04,  8.86956521e-04,  4.74154891e-04],\n",
              "        [-2.14019519e-06, -1.30464439e-04, -4.04941413e-04, ...,\n",
              "         -4.66932106e-04,  7.94976251e-04,  3.64543695e-04]]],\n",
              "      dtype=float32)>"
            ]
          },
          "metadata": {},
          "execution_count": 64
        }
      ]
    },
    {
      "cell_type": "code",
      "source": [
        "#모델 서머리!\n",
        "model.summary()"
      ],
      "metadata": {
        "colab": {
          "base_uri": "https://localhost:8080/"
        },
        "id": "igTPTdAs6cMj",
        "outputId": "5b695be2-b6fb-4070-82eb-2a60f7d1c404"
      },
      "execution_count": null,
      "outputs": [
        {
          "output_type": "stream",
          "name": "stdout",
          "text": [
            "Model: \"text_generator_6\"\n",
            "_________________________________________________________________\n",
            " Layer (type)                Output Shape              Param #   \n",
            "=================================================================\n",
            " embedding_6 (Embedding)     multiple                  10752256  \n",
            "                                                                 \n",
            " lstm_12 (LSTM)              multiple                  18882560  \n",
            "                                                                 \n",
            " lstm_13 (LSTM)              multiple                  33562624  \n",
            "                                                                 \n",
            " dense_6 (Dense)             multiple                  86060049  \n",
            "                                                                 \n",
            "=================================================================\n",
            "Total params: 149,257,489\n",
            "Trainable params: 149,257,489\n",
            "Non-trainable params: 0\n",
            "_________________________________________________________________\n"
          ]
        }
      ]
    },
    {
      "cell_type": "markdown",
      "source": [
        "**Total params: 67,442,961 -> 149,257,489**\n",
        "파라미터가 약 2배 이상 증가하였다.   \n",
        "embedding size를 증가했던것보다 hidden size를 증가한게 더 효과가 좋은 것 같다.   \n",
        "\n",
        "적절한 embedding size에서 더 자세히 뜯어보며 분류하니 확실히 좋은 값이 나오지 않을까 생각이 드는데 과연 결과는 어떻게 될지 궁금하다."
      ],
      "metadata": {
        "id": "6MIH60jH6yJK"
      }
    },
    {
      "cell_type": "code",
      "source": [
        "#모델 학습시키기_재도전 3번째 \n",
        "optimizer = tf.keras.optimizers.Adam()\n",
        "#Loss\n",
        "loss = tf.keras.losses.SparseCategoricalCrossentropy(\n",
        "    from_logits=True, reduction='none')\n",
        "\n",
        "model.compile(loss=loss, optimizer=optimizer)\n",
        "history_3 = model.fit(dataset, epochs=10, validation_data = (enc_val, dec_val))"
      ],
      "metadata": {
        "colab": {
          "base_uri": "https://localhost:8080/"
        },
        "id": "cy1h-U5R7nyL",
        "outputId": "b72d0e69-d92f-4487-d162-de45c4fe681a"
      },
      "execution_count": null,
      "outputs": [
        {
          "output_type": "stream",
          "name": "stdout",
          "text": [
            "Epoch 1/10\n",
            "504/504 [==============================] - 223s 437ms/step - loss: 3.4329 - val_loss: 3.1132\n",
            "Epoch 2/10\n",
            "504/504 [==============================] - 220s 436ms/step - loss: 2.9698 - val_loss: 2.9410\n",
            "Epoch 3/10\n",
            "504/504 [==============================] - 220s 436ms/step - loss: 2.7759 - val_loss: 2.8300\n",
            "Epoch 4/10\n",
            "504/504 [==============================] - 220s 436ms/step - loss: 2.6069 - val_loss: 2.7421\n",
            "Epoch 5/10\n",
            "504/504 [==============================] - 220s 436ms/step - loss: 2.4535 - val_loss: 2.6825\n",
            "Epoch 6/10\n",
            "504/504 [==============================] - 220s 436ms/step - loss: 2.3144 - val_loss: 2.6248\n",
            "Epoch 7/10\n",
            "504/504 [==============================] - 220s 436ms/step - loss: 2.1883 - val_loss: 2.5828\n",
            "Epoch 8/10\n",
            "504/504 [==============================] - 220s 436ms/step - loss: 2.0719 - val_loss: 2.5479\n",
            "Epoch 9/10\n",
            "504/504 [==============================] - 220s 436ms/step - loss: 1.9636 - val_loss: 2.5207\n",
            "Epoch 10/10\n",
            "504/504 [==============================] - 220s 436ms/step - loss: 1.8604 - val_loss: 2.4981\n"
          ]
        }
      ]
    },
    {
      "cell_type": "code",
      "source": [
        "#그래프 시각화\n",
        "plt.figure(figsize=(15,5)) \n",
        "plt.plot(history_3.history['loss'], label='loss') \n",
        "plt.plot(history_3.history['val_loss'], label='val_loss') \n",
        "plt.hlines(2.2,0,10, color=\"red\", label='goal')\n",
        "plt.legend() \n",
        "plt.show()"
      ],
      "metadata": {
        "colab": {
          "base_uri": "https://localhost:8080/",
          "height": 320
        },
        "id": "yHtPzbNjCZS6",
        "outputId": "c6dc1cd7-e072-481c-a634-b7e898fba788"
      },
      "execution_count": null,
      "outputs": [
        {
          "output_type": "display_data",
          "data": {
            "text/plain": [
              "<Figure size 1080x360 with 1 Axes>"
            ],
            "image/png": "[encoded data removed]"
          },
          "metadata": {
            "needs_background": "light"
          }
        }
      ]
    },
    {
      "cell_type": "markdown",
      "source": [
        "그래도 loss 값은 1.8까지 내려가 상당히 줄어든 모습이다. 확실히 hidden layer를 올려서 자세히 보니 더 강하게 학습을 한것같다.  \n",
        "그래도 val_loss는 2.4에서 머무는데,,,, 2.2는 도달할 수 없는 통곡의 벽인가.......... 후,,.,.,.,.,.,  \n",
        "\n",
        "\n",
        "---"
      ],
      "metadata": {
        "id": "P4HZptedK3P9"
      }
    },
    {
      "cell_type": "markdown",
      "source": [
        "### 3-1) embedding & hidden layer 증가 콤보!\n",
        "\n",
        "- 혹시 모르니 둘다 2배씩 증가시켜서 한번 돌려보자!  \n",
        "- embedding_size : 256 -> 512 \n",
        "- hidden layer :  1024 -> 2048"
      ],
      "metadata": {
        "id": "wXzCEr1JOX0n"
      }
    },
    {
      "cell_type": "code",
      "source": [
        "embedding_size = 512\n",
        "hidden_size = 2048\n",
        "model = TextGenerator(tokenizer.num_words + 1, embedding_size , hidden_size)"
      ],
      "metadata": {
        "id": "AiHsOAQ8OzbZ"
      },
      "execution_count": null,
      "outputs": []
    },
    {
      "cell_type": "code",
      "source": [
        "for src_enc_train, dec_train in dataset.take(1): break\n",
        "\n",
        "model(src_enc_train)"
      ],
      "metadata": {
        "colab": {
          "base_uri": "https://localhost:8080/"
        },
        "id": "m-4pOSI3O2Lv",
        "outputId": "3ed1f204-656c-4a29-9ba2-a0e23d012dba"
      },
      "execution_count": null,
      "outputs": [
        {
          "output_type": "execute_result",
          "data": {
            "text/plain": [
              "<tf.Tensor: shape=(256, 13, 42001), dtype=float32, numpy=\n",
              "array([[[ 3.84114137e-05, -9.34963173e-05,  5.82608709e-06, ...,\n",
              "          8.22806760e-05,  1.13448907e-04,  1.29264226e-04],\n",
              "        [ 5.65672126e-05, -8.47801566e-05,  1.32329253e-04, ...,\n",
              "          1.42117773e-04,  3.06787580e-04,  1.86348785e-04],\n",
              "        [ 1.32787909e-06, -5.57075145e-05,  1.36533679e-04, ...,\n",
              "          3.57909652e-04,  2.33446321e-04,  3.33561708e-04],\n",
              "        ...,\n",
              "        [-1.20302640e-04,  7.63419317e-04,  7.02634628e-04, ...,\n",
              "          1.34939619e-03, -1.66582220e-04,  3.08641233e-04],\n",
              "        [-4.26808372e-04,  6.88918168e-04,  6.21374696e-04, ...,\n",
              "          1.18735631e-03, -8.95213161e-05,  1.80879448e-04],\n",
              "        [-6.89721375e-04,  6.14700315e-04,  5.27065189e-04, ...,\n",
              "          9.82603757e-04,  1.25429442e-05,  5.28531127e-05]],\n",
              "\n",
              "       [[ 3.84114137e-05, -9.34963173e-05,  5.82608709e-06, ...,\n",
              "          8.22806760e-05,  1.13448907e-04,  1.29264226e-04],\n",
              "        [ 3.33688338e-04, -1.87834230e-04, -1.98271173e-05, ...,\n",
              "          1.53141984e-04,  2.20265472e-04,  5.52361817e-05],\n",
              "        [ 2.94630940e-04, -2.22018498e-04,  7.27713123e-05, ...,\n",
              "          2.84251379e-04,  2.61770474e-04,  3.99264718e-05],\n",
              "        ...,\n",
              "        [ 5.78033796e-04, -5.87589049e-04,  1.23238278e-04, ...,\n",
              "          1.26407294e-05, -1.20471683e-04, -1.09282722e-04],\n",
              "        [ 8.21395486e-04, -5.85427333e-04, -1.51095910e-05, ...,\n",
              "          2.98620525e-05, -1.02633945e-04, -1.94100765e-04],\n",
              "        [ 8.91762902e-04, -5.04377589e-04, -1.06950421e-04, ...,\n",
              "          1.90806619e-04, -1.81884359e-04, -4.54417052e-04]],\n",
              "\n",
              "       [[ 3.84114137e-05, -9.34963173e-05,  5.82608709e-06, ...,\n",
              "          8.22806760e-05,  1.13448907e-04,  1.29264226e-04],\n",
              "        [ 1.76900474e-04, -8.99855586e-05,  5.34965111e-05, ...,\n",
              "          6.37906705e-05,  5.53505997e-05,  6.20420178e-05],\n",
              "        [ 4.92894789e-04, -1.84798642e-04,  1.35664319e-04, ...,\n",
              "          1.24354876e-04, -1.92130494e-04, -7.98347173e-05],\n",
              "        ...,\n",
              "        [-9.81442281e-05,  6.70687645e-04,  3.17330734e-04, ...,\n",
              "         -7.44421501e-04, -6.02757791e-04,  8.78248757e-05],\n",
              "        [-8.34655002e-05,  3.71946895e-04,  4.24573955e-04, ...,\n",
              "         -6.45766035e-04, -6.16280187e-04,  1.34289963e-04],\n",
              "        [ 7.81588096e-05,  3.50519578e-04,  3.72092007e-04, ...,\n",
              "         -5.63181355e-04, -5.61693159e-04,  3.40554107e-04]],\n",
              "\n",
              "       ...,\n",
              "\n",
              "       [[ 3.84114137e-05, -9.34963173e-05,  5.82608709e-06, ...,\n",
              "          8.22806760e-05,  1.13448907e-04,  1.29264226e-04],\n",
              "        [ 1.95304074e-05, -2.20738075e-04, -7.71100531e-05, ...,\n",
              "          2.09283712e-06,  2.24535048e-04,  2.99132051e-04],\n",
              "        [ 2.55258521e-04, -4.14149283e-04, -1.21184654e-04, ...,\n",
              "         -6.59498473e-05,  3.41274979e-04,  4.39171883e-04],\n",
              "        ...,\n",
              "        [-5.65830444e-04, -4.62362223e-04,  9.08106449e-04, ...,\n",
              "         -2.35727784e-04,  6.14880410e-04,  1.72375818e-04],\n",
              "        [-7.62222684e-04, -7.07924250e-04,  8.81157117e-04, ...,\n",
              "         -8.97879727e-05,  4.52224776e-04, -3.17524769e-04],\n",
              "        [-1.04851427e-03, -7.44728954e-04,  8.49349657e-04, ...,\n",
              "         -3.81676800e-05,  3.93849768e-04, -5.65894006e-04]],\n",
              "\n",
              "       [[ 3.84114137e-05, -9.34963173e-05,  5.82608709e-06, ...,\n",
              "          8.22806760e-05,  1.13448907e-04,  1.29264226e-04],\n",
              "        [ 5.65672126e-05, -8.47801566e-05,  1.32329253e-04, ...,\n",
              "          1.42117773e-04,  3.06787580e-04,  1.86348785e-04],\n",
              "        [ 2.91771012e-05,  3.85858802e-05,  1.68599712e-04, ...,\n",
              "          2.64882081e-04,  1.88024802e-04,  1.72307773e-04],\n",
              "        ...,\n",
              "        [-9.21601255e-04,  8.23436712e-04,  6.70368783e-04, ...,\n",
              "          5.97481403e-06, -3.18692502e-04,  2.23639363e-04],\n",
              "        [-1.09363720e-03,  9.03277774e-04,  6.43856765e-04, ...,\n",
              "         -4.47110142e-05, -1.99613904e-04,  1.93451822e-04],\n",
              "        [-1.33895944e-03,  8.61071690e-04,  5.31986530e-04, ...,\n",
              "          2.67286905e-05, -1.14348135e-04,  1.10558089e-04]],\n",
              "\n",
              "       [[ 3.84114137e-05, -9.34963173e-05,  5.82608709e-06, ...,\n",
              "          8.22806760e-05,  1.13448907e-04,  1.29264226e-04],\n",
              "        [ 2.29690791e-04, -2.75473576e-04, -1.34577676e-05, ...,\n",
              "          7.99553745e-05,  2.13997773e-04,  3.67885572e-04],\n",
              "        [ 2.89103249e-04, -2.92570650e-04,  8.51298610e-05, ...,\n",
              "          9.37216028e-05,  3.71478556e-04,  5.06709737e-04],\n",
              "        ...,\n",
              "        [-6.11851981e-04, -3.54571617e-04, -2.60607951e-04, ...,\n",
              "         -3.72557624e-05,  3.05843656e-04, -2.38479770e-04],\n",
              "        [-8.47851858e-04, -2.83689500e-04, -2.81463435e-04, ...,\n",
              "         -1.22364247e-04,  2.71280151e-04, -2.61421810e-04],\n",
              "        [-1.05420651e-03, -2.16266504e-04, -2.89245450e-04, ...,\n",
              "         -2.18832385e-04,  2.98625004e-04, -2.77249288e-04]]],\n",
              "      dtype=float32)>"
            ]
          },
          "metadata": {},
          "execution_count": 15
        }
      ]
    },
    {
      "cell_type": "code",
      "source": [
        "#모델 서머리!\n",
        "model.summary()"
      ],
      "metadata": {
        "colab": {
          "base_uri": "https://localhost:8080/"
        },
        "id": "Y1zBP_1QO38v",
        "outputId": "e1ce98e8-2872-4f06-e34f-52e579d0c366"
      },
      "execution_count": null,
      "outputs": [
        {
          "output_type": "stream",
          "name": "stdout",
          "text": [
            "Model: \"text_generator_1\"\n",
            "_________________________________________________________________\n",
            " Layer (type)                Output Shape              Param #   \n",
            "=================================================================\n",
            " embedding_1 (Embedding)     multiple                  21504512  \n",
            "                                                                 \n",
            " lstm_2 (LSTM)               multiple                  20979712  \n",
            "                                                                 \n",
            " lstm_3 (LSTM)               multiple                  33562624  \n",
            "                                                                 \n",
            " dense_1 (Dense)             multiple                  86060049  \n",
            "                                                                 \n",
            "=================================================================\n",
            "Total params: 162,106,897\n",
            "Trainable params: 162,106,897\n",
            "Non-trainable params: 0\n",
            "_________________________________________________________________\n"
          ]
        }
      ]
    },
    {
      "cell_type": "markdown",
      "source": [
        "**Total params: 149,257,489 -> 162,106,897**\n",
        "\n",
        "토탈 파라미터가 약 2천만개 증가한 것을 알 수 있다... 이정도면 돼야하는거아닐까...."
      ],
      "metadata": {
        "id": "9G_eXqYzP45A"
      }
    },
    {
      "cell_type": "code",
      "source": [
        "#모델 학습시키기_재도전 3.1번째 \n",
        "optimizer = tf.keras.optimizers.Adam()\n",
        "#Loss\n",
        "loss = tf.keras.losses.SparseCategoricalCrossentropy(\n",
        "    from_logits=True, reduction='none')\n",
        "\n",
        "model.compile(loss=loss, optimizer=optimizer)\n",
        "history_3_1 = model.fit(dataset, epochs=10, validation_data = (enc_val, dec_val))"
      ],
      "metadata": {
        "colab": {
          "base_uri": "https://localhost:8080/"
        },
        "id": "IBDXuOFPO9F_",
        "outputId": "664eb010-cfec-4f2e-a8ed-b3a4f12eb26a"
      },
      "execution_count": null,
      "outputs": [
        {
          "output_type": "stream",
          "name": "stdout",
          "text": [
            "Epoch 1/10\n",
            "504/504 [==============================] - 228s 447ms/step - loss: 3.5333 - val_loss: 3.1278\n",
            "Epoch 2/10\n",
            "504/504 [==============================] - 224s 445ms/step - loss: 2.9802 - val_loss: 2.9448\n",
            "Epoch 3/10\n",
            "504/504 [==============================] - 224s 445ms/step - loss: 2.7755 - val_loss: 2.8267\n",
            "Epoch 4/10\n",
            "504/504 [==============================] - 224s 444ms/step - loss: 2.6066 - val_loss: 2.7417\n",
            "Epoch 5/10\n",
            "504/504 [==============================] - 224s 444ms/step - loss: 2.4531 - val_loss: 2.6700\n",
            "Epoch 6/10\n",
            "504/504 [==============================] - 224s 444ms/step - loss: 2.3079 - val_loss: 2.6125\n",
            "Epoch 7/10\n",
            "504/504 [==============================] - 224s 445ms/step - loss: 2.1707 - val_loss: 2.5663\n",
            "Epoch 8/10\n",
            "504/504 [==============================] - 224s 444ms/step - loss: 2.0426 - val_loss: 2.5242\n",
            "Epoch 9/10\n",
            "504/504 [==============================] - 224s 444ms/step - loss: 1.9222 - val_loss: 2.4927\n",
            "Epoch 10/10\n",
            "504/504 [==============================] - 224s 444ms/step - loss: 1.8079 - val_loss: 2.4683\n"
          ]
        }
      ]
    },
    {
      "cell_type": "code",
      "source": [
        "#그래프 시각화\n",
        "plt.figure(figsize=(15,5)) \n",
        "plt.plot(history_3_1.history['loss'], label='loss') \n",
        "plt.plot(history_3_1.history['val_loss'], label='val_loss') \n",
        "plt.hlines(2.2,0,10, color=\"red\", label='goal')\n",
        "plt.legend() \n",
        "plt.show()"
      ],
      "metadata": {
        "colab": {
          "base_uri": "https://localhost:8080/",
          "height": 320
        },
        "id": "uPoFwzUBi9om",
        "outputId": "d9e939eb-6134-4a4a-9083-b5304134b91e"
      },
      "execution_count": null,
      "outputs": [
        {
          "output_type": "display_data",
          "data": {
            "text/plain": [
              "<Figure size 1080x360 with 1 Axes>"
            ],
            "image/png": "[encoded data removed]"
          },
          "metadata": {
            "needs_background": "light"
          }
        }
      ]
    },
    {
      "cell_type": "markdown",
      "source": [
        "아까와 같은 2.4쯤에서 val_loss가 낮아지지 않는다...  \n",
        "\n",
        "흠....  그럼 진행하려고 했던 다른 것들을 변경해보자..\n",
        "\n",
        "---"
      ],
      "metadata": {
        "id": "_x2t40YskIBL"
      }
    },
    {
      "cell_type": "markdown",
      "source": [
        "### 4) 다른 변경할 수 있을만한 것들 넣어서 돌려보기 \n",
        "\n",
        "다른 값들 중 어떤 것을 변경해 볼 수 있을까 검색하다 overfitting을 방지하는 방법으로 **batch size를 변경해보는 것도 좋다**는 내용을 봤다.  \n",
        "\n",
        "이전에 학습안정화가 안되던 때엔 batch size를 작게하는 것이 의외의 효과(부정확한 gradient가 계산되어 cost function 공간에서 오히려 local minimum을 뛰어넘음)를 불러왔지만,  \n",
        "지금은 Adam 등의 기법을 사용하여 학습 안정화가 잘되는 경우가 많아 batch size를 키워도 local minima에 빠지지 않고 global로 잘 수렴한다고 한다.  \n",
        "\n",
        "따라서 최근엔 batch size를 크게 넣을 수록 좋다는 내용을 확인하여 **batch size를 2배 증가**시켜보려고 한다.  \n",
        "\n",
        "- batch size를 256 -> 512로 2배 증가 \n",
        "- 앞서 진행한 결과 값이 좋아 hidden layer도 2048로 2배 증가\n",
        "\n",
        "---\n",
        "\n",
        "상기 방법으로 진행하려 했으나, batch도 그렇고 각각의 사이즈가 너무 커서그런지 코랩에서 오류가 난다...  \n",
        "\n",
        "그래서 다른 대안으로 토크나이저에서 단어를 너무 자세하게 세분화 시켜서 경향을 내기 어려운걸까? 생각이 들어 단어 수를 줄여서 진행해보려고한다...\n",
        "\n",
        "- num word : 42,000 -> 20,000 으로 감소 후 진행"
      ],
      "metadata": {
        "id": "tB30Qz-77r2s"
      }
    },
    {
      "cell_type": "code",
      "source": [
        "def tokenize(corpus):\n",
        "    tokenizer = tf.keras.preprocessing.text.Tokenizer(\n",
        "        num_words=20000, \n",
        "        filters=' ',\n",
        "        oov_token=\"<unk>\"\n",
        "    )\n",
        "    # corpus를 이용해 tokenizer 내부의 단어장을 완성합니다\n",
        "    tokenizer.fit_on_texts(corpus)\n",
        "\n",
        "    # 준비한 tokenizer를 이용해 corpus를 Tensor로 변환합니다\n",
        "    tensor = tokenizer.texts_to_sequences(corpus)   \n",
        "    # 입력 데이터의 시퀀스 길이를 일정하게 맞춰줍니다\n",
        "    tensor = tf.keras.preprocessing.sequence.pad_sequences(tensor, padding='post')  \n",
        "    \n",
        "    print(tensor,tokenizer)\n",
        "    return tensor, tokenizer\n",
        "\n",
        "tensor, tokenizer = tokenize(corpus)"
      ],
      "metadata": {
        "colab": {
          "base_uri": "https://localhost:8080/"
        },
        "id": "CEGsIUJ9lfPU",
        "outputId": "e4365769-361c-4c84-ec69-a478fb6f6db6"
      },
      "execution_count": null,
      "outputs": [
        {
          "output_type": "stream",
          "name": "stdout",
          "text": [
            "[[    2  1386    19 ...     0     0     0]\n",
            " [    2    33    45 ...     0     0     0]\n",
            " [    2     8    45 ...     3     0     0]\n",
            " ...\n",
            " [    2    30    19 ...     5 17293     3]\n",
            " [    2   346    19 ...   159     3     0]\n",
            " [    2    41   130 ...     0     0     0]] <keras_preprocessing.text.Tokenizer object at 0x7f3117a749d0>\n"
          ]
        }
      ]
    },
    {
      "cell_type": "code",
      "source": [
        "#tokenizer에 단어 사전이 어떻게 구축되었는지 한번 보자\n",
        "for idx in tokenizer.index_word:\n",
        "    print(idx, \":\", tokenizer.index_word[idx])\n",
        "\n",
        "    if idx >= 10: break"
      ],
      "metadata": {
        "colab": {
          "base_uri": "https://localhost:8080/"
        },
        "id": "HyvaxAVklzLh",
        "outputId": "760d54fd-304e-4262-ff40-ae1786f511c1"
      },
      "execution_count": null,
      "outputs": [
        {
          "output_type": "stream",
          "name": "stdout",
          "text": [
            "1 : <unk>\n",
            "2 : <start>\n",
            "3 : <end>\n",
            "4 : i\n",
            "5 : ,\n",
            "6 : the\n",
            "7 : you\n",
            "8 : and\n",
            "9 : a\n",
            "10 : to\n"
          ]
        }
      ]
    },
    {
      "cell_type": "markdown",
      "source": [
        "20,001 ~ 40,000 까지의 단어가 없어져서 그런지 상위 10개의 단어는 변함이 없다."
      ],
      "metadata": {
        "id": "DjATPoqVl0uK"
      }
    },
    {
      "cell_type": "code",
      "source": [
        "#생성된 텐서 데이터를 3번째 행, 15번째 열까지만 출력해보기(15이상은 짤랐으니까)\n",
        "print(tensor[:3, :15])"
      ],
      "metadata": {
        "colab": {
          "base_uri": "https://localhost:8080/"
        },
        "id": "ImrgX3k5mBvS",
        "outputId": "b0867942-ce87-4ea0-80b3-51b2d87761b7"
      },
      "execution_count": null,
      "outputs": [
        {
          "output_type": "stream",
          "name": "stdout",
          "text": [
            "[[   2 1386   19  364   10    6  610  659    3    0    0    0    0    0]\n",
            " [   2   33   45    7   93  321   10   36    3    0    0    0    0    0]\n",
            " [   2    8   45   61   17   40  245   28    7   10  199    3    0    0]]\n"
          ]
        }
      ]
    },
    {
      "cell_type": "code",
      "source": [
        "\n",
        "X = tensor[:, :-1]  \n",
        "y = tensor[:, 1:]    \n",
        "\n",
        "print(X[0])\n",
        "print(y[0])"
      ],
      "metadata": {
        "colab": {
          "base_uri": "https://localhost:8080/"
        },
        "id": "lSR8FOGlmHOu",
        "outputId": "31e4eb53-43e5-433b-df3e-a3348d4033c0"
      },
      "execution_count": null,
      "outputs": [
        {
          "output_type": "stream",
          "name": "stdout",
          "text": [
            "[   2 1386   19  364   10    6  610  659    3    0    0    0    0]\n",
            "[1386   19  364   10    6  610  659    3    0    0    0    0    0]\n"
          ]
        }
      ]
    },
    {
      "cell_type": "code",
      "source": [
        "#trainning 데이터와 validation 데이터로 분리하기\n",
        "\n",
        "enc_train, enc_val, dec_train, dec_val = train_test_split(X, y, test_size=0.2, random_state=50)\n",
        "\n",
        "#잘 나눠졌는지 확인\n",
        "print(enc_train.shape, dec_train.shape)\n",
        "print(enc_val.shape, dec_val.shape)"
      ],
      "metadata": {
        "colab": {
          "base_uri": "https://localhost:8080/"
        },
        "id": "KSjFq6GgmMWU",
        "outputId": "62cbf711-7c7c-4ad2-b5fe-3a570d1c4d60"
      },
      "execution_count": null,
      "outputs": [
        {
          "output_type": "stream",
          "name": "stdout",
          "text": [
            "(129040, 13) (129040, 13)\n",
            "(32260, 13) (32260, 13)\n"
          ]
        }
      ]
    },
    {
      "cell_type": "code",
      "source": [
        "BUFFER_SIZE = len(enc_train)\n",
        "BATCH_SIZE = 256\n",
        "steps_per_epoch = len(enc_train) // BATCH_SIZE\n",
        "\n",
        "# tokenizer가 구축한 단어사전 내 42,000개와, 여기 포함되지 않은 0:<pad>를 포함하여 7001개\n",
        "VOCAB_SIZE = tokenizer.num_words + 1   \n",
        "\n",
        "# 준비한 데이터 소스로부터 데이터셋 만들기\n",
        "dataset = tf.data.Dataset.from_tensor_slices((enc_train, dec_train))\n",
        "dataset = dataset.shuffle(BUFFER_SIZE)\n",
        "dataset = dataset.batch(BATCH_SIZE, drop_remainder=True) \n",
        "#drop_remainder= batch size에 도달하면 나머지 데이터는 버림 \n",
        "dataset"
      ],
      "metadata": {
        "colab": {
          "base_uri": "https://localhost:8080/"
        },
        "id": "uOWmLxQeEa06",
        "outputId": "892a6181-ab9f-4582-d6de-aa27d3308fe3"
      },
      "execution_count": null,
      "outputs": [
        {
          "output_type": "execute_result",
          "data": {
            "text/plain": [
              "<BatchDataset element_spec=(TensorSpec(shape=(256, 13), dtype=tf.int32, name=None), TensorSpec(shape=(256, 13), dtype=tf.int32, name=None))>"
            ]
          },
          "metadata": {},
          "execution_count": 25
        }
      ]
    },
    {
      "cell_type": "code",
      "source": [
        "embedding_size = 512\n",
        "hidden_size = 2048\n",
        "model = TextGenerator(tokenizer.num_words + 1, embedding_size , hidden_size)"
      ],
      "metadata": {
        "id": "vBYvYncPEsEd"
      },
      "execution_count": null,
      "outputs": []
    },
    {
      "cell_type": "code",
      "source": [
        "for src_enc_train, dec_train in dataset.take(1): break\n",
        "\n",
        "model(src_enc_train)"
      ],
      "metadata": {
        "colab": {
          "base_uri": "https://localhost:8080/"
        },
        "id": "x8izchY1EvKL",
        "outputId": "6527200d-8d23-463e-8084-7d6f5a678093"
      },
      "execution_count": null,
      "outputs": [
        {
          "output_type": "execute_result",
          "data": {
            "text/plain": [
              "<tf.Tensor: shape=(256, 13, 20001), dtype=float32, numpy=\n",
              "array([[[ 1.19235818e-04,  1.01345162e-04,  2.00276409e-04, ...,\n",
              "         -3.66671215e-04, -1.71832377e-04,  3.20997278e-05],\n",
              "        [ 4.13316302e-04,  2.16611166e-04,  8.73483659e-05, ...,\n",
              "         -3.22859065e-04, -4.24907330e-06,  4.19376709e-04],\n",
              "        [ 6.04696164e-04,  5.71831246e-04, -1.58701951e-04, ...,\n",
              "         -6.80299534e-04, -9.31715567e-06,  5.67031559e-04],\n",
              "        ...,\n",
              "        [ 1.52700942e-03,  7.36447866e-04,  7.06914579e-04, ...,\n",
              "         -9.10080271e-04, -1.02184968e-04,  7.23354518e-04],\n",
              "        [ 1.33512565e-03,  6.44317653e-04,  9.31752613e-04, ...,\n",
              "         -1.07867748e-03, -4.32375877e-04,  5.28819161e-04],\n",
              "        [ 9.77800926e-04,  8.03411647e-04,  1.10986596e-03, ...,\n",
              "         -1.34775473e-03, -7.33503723e-04, -8.50686547e-07]],\n",
              "\n",
              "       [[ 1.19235818e-04,  1.01345162e-04,  2.00276409e-04, ...,\n",
              "         -3.66671215e-04, -1.71832377e-04,  3.20997278e-05],\n",
              "        [-1.16434814e-04,  2.54857499e-04,  1.28534230e-04, ...,\n",
              "         -3.67428089e-04, -5.60410612e-04, -2.21914554e-04],\n",
              "        [-2.06191791e-04,  5.69649565e-04,  2.38491135e-04, ...,\n",
              "         -3.49618902e-04, -7.96611770e-04, -2.72835023e-04],\n",
              "        ...,\n",
              "        [-8.41765839e-04,  2.35285680e-03,  1.09507854e-03, ...,\n",
              "         -1.25097507e-03, -1.27297814e-03, -2.77082715e-03],\n",
              "        [-8.95415375e-04,  2.68064928e-03,  1.55795063e-03, ...,\n",
              "         -1.46093033e-03, -1.27240724e-03, -3.31082451e-03],\n",
              "        [-9.62470658e-04,  2.96617765e-03,  2.05216231e-03, ...,\n",
              "         -1.61938090e-03, -1.27744360e-03, -3.80396890e-03]],\n",
              "\n",
              "       [[ 1.19235818e-04,  1.01345162e-04,  2.00276409e-04, ...,\n",
              "         -3.66671215e-04, -1.71832377e-04,  3.20997278e-05],\n",
              "        [ 3.34903074e-04, -3.32131640e-05,  8.91240852e-05, ...,\n",
              "         -6.45349792e-04, -2.72367062e-04, -3.36812191e-05],\n",
              "        [ 3.92755086e-04, -6.11849973e-05,  5.96536956e-05, ...,\n",
              "         -7.17671530e-04, -3.95227282e-04, -7.00436358e-05],\n",
              "        ...,\n",
              "        [ 6.35396456e-04,  1.24853570e-03,  1.22247278e-04, ...,\n",
              "         -9.50612884e-04, -3.07530107e-04, -1.99221191e-03],\n",
              "        [ 4.02514008e-04,  1.69840991e-03,  5.67619922e-04, ...,\n",
              "         -1.20295910e-03, -3.74830124e-04, -2.41969991e-03],\n",
              "        [ 1.29736189e-04,  2.12130067e-03,  1.06223172e-03, ...,\n",
              "         -1.41266081e-03, -4.75041772e-04, -2.85445317e-03]],\n",
              "\n",
              "       ...,\n",
              "\n",
              "       [[ 1.19235818e-04,  1.01345162e-04,  2.00276409e-04, ...,\n",
              "         -3.66671215e-04, -1.71832377e-04,  3.20997278e-05],\n",
              "        [ 3.46750137e-04,  2.22067349e-04,  3.51371331e-04, ...,\n",
              "         -5.39424655e-04, -5.01526112e-04,  3.27754853e-04],\n",
              "        [ 7.03859376e-04,  2.25853582e-04,  4.71444655e-04, ...,\n",
              "         -4.01018333e-04, -6.39124599e-04,  2.86654831e-04],\n",
              "        ...,\n",
              "        [ 1.41666317e-03,  6.64353603e-04, -5.54679194e-04, ...,\n",
              "         -5.52664060e-05,  1.36543444e-04, -5.39077097e-04],\n",
              "        [ 1.06374780e-03,  1.13055774e-03, -2.19560534e-04, ...,\n",
              "         -3.81480117e-04,  6.42633822e-05, -1.12255360e-03],\n",
              "        [ 6.80504309e-04,  1.61690416e-03,  2.15164531e-04, ...,\n",
              "         -6.86849642e-04, -5.56133418e-05, -1.73085206e-03]],\n",
              "\n",
              "       [[ 1.19235818e-04,  1.01345162e-04,  2.00276409e-04, ...,\n",
              "         -3.66671215e-04, -1.71832377e-04,  3.20997278e-05],\n",
              "        [ 1.20921162e-04,  5.38766435e-05,  4.62260505e-04, ...,\n",
              "         -8.47199990e-04, -3.08802933e-04,  2.55187973e-04],\n",
              "        [ 2.10711478e-05, -1.80852920e-04,  5.83371904e-04, ...,\n",
              "         -1.30159513e-03, -2.40949885e-04,  2.15436390e-04],\n",
              "        ...,\n",
              "        [-5.92398515e-04,  1.83461746e-03,  2.00464576e-03, ...,\n",
              "         -1.54787698e-03, -8.96136044e-04, -2.86725326e-03],\n",
              "        [-7.62895972e-04,  2.28121853e-03,  2.41589383e-03, ...,\n",
              "         -1.57794321e-03, -9.71679168e-04, -3.41771776e-03],\n",
              "        [-9.23515763e-04,  2.66084122e-03,  2.84927478e-03, ...,\n",
              "         -1.59267406e-03, -1.04890193e-03, -3.91851785e-03]],\n",
              "\n",
              "       [[ 1.19235818e-04,  1.01345162e-04,  2.00276409e-04, ...,\n",
              "         -3.66671215e-04, -1.71832377e-04,  3.20997278e-05],\n",
              "        [ 5.54218132e-04,  8.36277250e-05,  2.24220319e-04, ...,\n",
              "         -5.97351929e-04, -2.67354790e-05,  2.82691399e-05],\n",
              "        [ 6.62644627e-04, -3.62575047e-05, -3.10241157e-05, ...,\n",
              "         -4.96112101e-04, -1.33036010e-05, -1.89760758e-04],\n",
              "        ...,\n",
              "        [ 1.09234697e-03,  1.29003823e-03, -1.47738265e-05, ...,\n",
              "         -3.54485419e-05,  5.67890995e-04, -2.34955107e-03],\n",
              "        [ 8.26629926e-04,  1.68887340e-03,  4.75606997e-04, ...,\n",
              "         -4.56924288e-04,  3.70014604e-04, -2.94065569e-03],\n",
              "        [ 5.28750126e-04,  2.07270542e-03,  1.00876763e-03, ...,\n",
              "         -8.27565149e-04,  1.53146160e-04, -3.48764984e-03]]],\n",
              "      dtype=float32)>"
            ]
          },
          "metadata": {},
          "execution_count": 27
        }
      ]
    },
    {
      "cell_type": "code",
      "source": [
        "#모델 서머리!\n",
        "model.summary()"
      ],
      "metadata": {
        "colab": {
          "base_uri": "https://localhost:8080/"
        },
        "id": "ltMVqSdMEwlq",
        "outputId": "48c1b222-4393-4e95-e6d7-62ee5dc98a7d"
      },
      "execution_count": null,
      "outputs": [
        {
          "output_type": "stream",
          "name": "stdout",
          "text": [
            "Model: \"text_generator_2\"\n",
            "_________________________________________________________________\n",
            " Layer (type)                Output Shape              Param #   \n",
            "=================================================================\n",
            " embedding_2 (Embedding)     multiple                  10240512  \n",
            "                                                                 \n",
            " lstm_4 (LSTM)               multiple                  20979712  \n",
            "                                                                 \n",
            " lstm_5 (LSTM)               multiple                  33562624  \n",
            "                                                                 \n",
            " dense_2 (Dense)             multiple                  40982049  \n",
            "                                                                 \n",
            "=================================================================\n",
            "Total params: 105,764,897\n",
            "Trainable params: 105,764,897\n",
            "Non-trainable params: 0\n",
            "_________________________________________________________________\n"
          ]
        }
      ]
    },
    {
      "cell_type": "markdown",
      "source": [
        "단어집의 수가 적어져서 간편해졌는지 Total params가 162,106,897 -> 105,764,897 로 감소했다."
      ],
      "metadata": {
        "id": "8q7stw4LmZfD"
      }
    },
    {
      "cell_type": "code",
      "source": [
        "#모델 학습시키기_재도전 4번째\n",
        "optimizer = tf.keras.optimizers.Adam()\n",
        "#Loss\n",
        "loss = tf.keras.losses.SparseCategoricalCrossentropy(\n",
        "    from_logits=True, reduction='none')\n",
        "\n",
        "model.compile(loss=loss, optimizer=optimizer)\n",
        "history_4 = model.fit(dataset, epochs=10, validation_data = (enc_val, dec_val))"
      ],
      "metadata": {
        "colab": {
          "base_uri": "https://localhost:8080/"
        },
        "id": "bJGmn4-bEys8",
        "outputId": "1f9bb461-7314-4a53-9937-e2f59a63bd2f"
      },
      "execution_count": null,
      "outputs": [
        {
          "output_type": "stream",
          "name": "stdout",
          "text": [
            "Epoch 1/10\n",
            "504/504 [==============================] - 158s 307ms/step - loss: 3.4084 - val_loss: 3.0590\n",
            "Epoch 2/10\n",
            "504/504 [==============================] - 154s 306ms/step - loss: 2.9186 - val_loss: 2.8688\n",
            "Epoch 3/10\n",
            "504/504 [==============================] - 154s 306ms/step - loss: 2.7102 - val_loss: 2.7357\n",
            "Epoch 4/10\n",
            "504/504 [==============================] - 154s 306ms/step - loss: 2.5202 - val_loss: 2.6313\n",
            "Epoch 5/10\n",
            "504/504 [==============================] - 154s 306ms/step - loss: 2.3335 - val_loss: 2.5362\n",
            "Epoch 6/10\n",
            "504/504 [==============================] - 154s 305ms/step - loss: 2.1456 - val_loss: 2.4588\n",
            "Epoch 7/10\n",
            "504/504 [==============================] - 154s 306ms/step - loss: 1.9616 - val_loss: 2.3914\n",
            "Epoch 8/10\n",
            "504/504 [==============================] - 154s 306ms/step - loss: 1.7823 - val_loss: 2.3402\n",
            "Epoch 9/10\n",
            "504/504 [==============================] - 154s 306ms/step - loss: 1.6108 - val_loss: 2.2980\n",
            "Epoch 10/10\n",
            "504/504 [==============================] - 154s 306ms/step - loss: 1.4521 - val_loss: 2.2700\n"
          ]
        }
      ]
    },
    {
      "cell_type": "code",
      "source": [
        "#그래프 시각화\n",
        "plt.figure(figsize=(15,5)) \n",
        "plt.plot(history_4.history['loss'], label='loss') \n",
        "plt.plot(history_4.history['val_loss'], label='val_loss') \n",
        "plt.hlines(2.20,0,10, color=\"red\", label='goal')\n",
        "plt.legend() \n",
        "plt.show()"
      ],
      "metadata": {
        "colab": {
          "base_uri": "https://localhost:8080/",
          "height": 323
        },
        "id": "EcMPEh4AE1nU",
        "outputId": "c6ef2059-1e4a-42c4-8662-f52498683187"
      },
      "execution_count": null,
      "outputs": [
        {
          "output_type": "display_data",
          "data": {
            "text/plain": [
              "<Figure size 1080x360 with 1 Axes>"
            ],
            "image/png": "[encoded data removed]"
          },
          "metadata": {
            "needs_background": "light"
          }
        }
      ]
    },
    {
      "cell_type": "markdown",
      "source": [
        "ㅇㅏ..... 좁혀질듯 좁혀지지않는 저 거리.....  \n",
        "\n",
        "그래도 loss 자체도 1.4대로 가장 낮고, val_loss가 꽤나 좁혀진 것으로 보아 **단어집모음에서 단어를 얼마나 깔끔하게 정리하는지**가 학습에 큰 도움이 되는 것 같다. \n",
        "\n",
        "또한 재미삼아 뽑아본 가사에서 ~ s 같은게 들어가지 않은 것으로 보아 '를 기준으로 자른것은 무의미한 것 같다는 생각이 든다.\n",
        "\n",
        "그럼 마지막으로 `'`를 삭제하지 않고 의미 별로 모아서 한번 단어를 잘라보자.\n",
        "\n",
        "---\n"
      ],
      "metadata": {
        "id": "IMGnI-8qstM7"
      }
    },
    {
      "cell_type": "markdown",
      "source": [
        "### 5) ' 포함하고 embedding & hidden layer 2배 증가\n",
        "- 데이터 정제 변경\n",
        "- num word : 42,000 -> 20,000\n",
        "- embedding_size : 256 -> 512 \n",
        "- hidden layer :  1024 -> 2048"
      ],
      "metadata": {
        "id": "SH1xmJELvHDP"
      }
    },
    {
      "cell_type": "code",
      "source": [
        "def preprocess_sentence(sentence):\n",
        "    sentence = sentence.lower().strip() \n",
        "    sentence = re.sub(r\"([?.!,¿])\", r\" \\1 \", sentence) \n",
        "    sentence = re.sub(r'[\" \"]+', \" \", sentence) \n",
        "    sentence = re.sub(r\"[^a-zA-Z?.!,¿']+\", \" \", sentence) \n",
        "    sentence = sentence.strip() \n",
        "    sentence = '<start> ' + sentence + ' <end>' \n",
        "    return sentence"
      ],
      "metadata": {
        "id": "1EWnPWoeu8ad"
      },
      "execution_count": 8,
      "outputs": []
    },
    {
      "cell_type": "code",
      "source": [
        "# 정제된 문장을 담을 곳\n",
        "corpus = []\n",
        "\n",
        "for sentence in raw_corpus:\n",
        "    \n",
        "    # 정제를 하고 담아주세요\n",
        "    preprocessed_sentence = preprocess_sentence(sentence)\n",
        "\n",
        "    if preprocessed_sentence.count(' ') >= 14: continue\n",
        "\n",
        "    corpus.append(preprocessed_sentence)\n",
        "\n",
        "# 정제된 결과를 10개만 확인해보죠\n",
        "corpus[:10]"
      ],
      "metadata": {
        "colab": {
          "base_uri": "https://localhost:8080/"
        },
        "id": "YaSECj6Ivdte",
        "outputId": "4baccbd9-3267-4fed-f2aa-97e8124642c3"
      },
      "execution_count": 9,
      "outputs": [
        {
          "output_type": "execute_result",
          "data": {
            "text/plain": [
              "['<start> build your dreams to the stars above <end>',\n",
              " '<start> but when you need someone to love <end>',\n",
              " \"<start> and when there's no place for you to turn <end>\",\n",
              " \"<start> you'll follow your heart i know <end>\",\n",
              " \"<start> i've been through it all , for i'm an old hand <end>\",\n",
              " \"<start> and i'll understand if you go so <end>\",\n",
              " '<start> make your mark for your friends to see <end>',\n",
              " '<start> but when you need more than company <end>',\n",
              " '<start> you give your soul so sweetly <end>',\n",
              " '<start> tonight the light of love is in your eyes <end>']"
            ]
          },
          "metadata": {},
          "execution_count": 9
        }
      ]
    },
    {
      "cell_type": "markdown",
      "source": [
        "역시 there's, i'll, i'm 등 의미가 더 정확하게 뽑히는 것을 알 수 있다. "
      ],
      "metadata": {
        "id": "1IIEBGlmvfac"
      }
    },
    {
      "cell_type": "code",
      "source": [
        "def tokenize(corpus):\n",
        "    tokenizer = tf.keras.preprocessing.text.Tokenizer(\n",
        "        num_words=20000, \n",
        "        filters=' ',\n",
        "        oov_token=\"<unk>\"\n",
        "    )\n",
        "    # corpus를 이용해 tokenizer 내부의 단어장을 완성합니다\n",
        "    tokenizer.fit_on_texts(corpus)\n",
        "\n",
        "    # 준비한 tokenizer를 이용해 corpus를 Tensor로 변환합니다\n",
        "    tensor = tokenizer.texts_to_sequences(corpus)   \n",
        "    # 입력 데이터의 시퀀스 길이를 일정하게 맞춰줍니다\n",
        "    tensor = tf.keras.preprocessing.sequence.pad_sequences(tensor, padding='post')  \n",
        "    \n",
        "    print(tensor,tokenizer)\n",
        "    return tensor, tokenizer\n",
        "\n",
        "tensor, tokenizer = tokenize(corpus)"
      ],
      "metadata": {
        "colab": {
          "base_uri": "https://localhost:8080/"
        },
        "id": "eo1yTa1HwfDe",
        "outputId": "6b6ff756-46d3-47aa-a7e3-b4dcf8445a65"
      },
      "execution_count": 10,
      "outputs": [
        {
          "output_type": "stream",
          "name": "stdout",
          "text": [
            "[[    2  1423    17 ...     0     0     0]\n",
            " [    2    31    41 ...     0     0     0]\n",
            " [    2     8    41 ...     0     0     0]\n",
            " ...\n",
            " [    2    28    17 ...     4 18184     3]\n",
            " [    2   351    17 ...   159     3     0]\n",
            " [    2    37   131 ...     0     0     0]] <keras_preprocessing.text.Tokenizer object at 0x7f88df3ec410>\n"
          ]
        }
      ]
    },
    {
      "cell_type": "code",
      "source": [
        "#tokenizer에 단어 사전이 어떻게 구축되었는지 한번 보자\n",
        "for idx in tokenizer.index_word:\n",
        "    print(idx, \":\", tokenizer.index_word[idx])\n",
        "\n",
        "    if idx >= 10: break"
      ],
      "metadata": {
        "colab": {
          "base_uri": "https://localhost:8080/"
        },
        "id": "ts-NtPlFwjuX",
        "outputId": "c1ba6c19-a451-42ca-832d-e13aab142fb5"
      },
      "execution_count": 11,
      "outputs": [
        {
          "output_type": "stream",
          "name": "stdout",
          "text": [
            "1 : <unk>\n",
            "2 : <start>\n",
            "3 : <end>\n",
            "4 : ,\n",
            "5 : the\n",
            "6 : i\n",
            "7 : you\n",
            "8 : and\n",
            "9 : a\n",
            "10 : to\n"
          ]
        }
      ]
    },
    {
      "cell_type": "markdown",
      "source": [
        "확실히 i의 순서가 낮아진 것을 보아 단어 사전은 의도한 대로 구축된 것 같다."
      ],
      "metadata": {
        "id": "AAq18GWDwluw"
      }
    },
    {
      "cell_type": "code",
      "source": [
        "X = tensor[:, :-1]  \n",
        "y = tensor[:, 1:]    \n",
        "\n",
        "print(X[0])\n",
        "print(y[0])"
      ],
      "metadata": {
        "colab": {
          "base_uri": "https://localhost:8080/"
        },
        "id": "l7QfQlVQwx5I",
        "outputId": "1b7a8adb-6652-479c-e3a8-673f7e110648"
      },
      "execution_count": 12,
      "outputs": [
        {
          "output_type": "stream",
          "name": "stdout",
          "text": [
            "[   2 1423   17  378   10    5  628  684    3    0    0    0    0]\n",
            "[1423   17  378   10    5  628  684    3    0    0    0    0    0]\n"
          ]
        }
      ]
    },
    {
      "cell_type": "code",
      "source": [
        "enc_train, enc_val, dec_train, dec_val = train_test_split(X, y, test_size=0.2, random_state=10)\n",
        "\n",
        "#잘 나눠졌는지 확인\n",
        "print(enc_train.shape, dec_train.shape)\n",
        "print(enc_val.shape, dec_val.shape)"
      ],
      "metadata": {
        "colab": {
          "base_uri": "https://localhost:8080/"
        },
        "id": "eRWryjTDw0uh",
        "outputId": "21814dbe-99ae-428a-ca4c-dd00a03fbad0"
      },
      "execution_count": 15,
      "outputs": [
        {
          "output_type": "stream",
          "name": "stdout",
          "text": [
            "(131640, 13) (131640, 13)\n",
            "(32910, 13) (32910, 13)\n"
          ]
        }
      ]
    },
    {
      "cell_type": "code",
      "source": [
        "BUFFER_SIZE = len(enc_train)\n",
        "BATCH_SIZE = 256\n",
        "steps_per_epoch = len(enc_train) // BATCH_SIZE\n",
        "\n",
        "# tokenizer가 구축한 단어사전 내 42,000개와, 여기 포함되지 않은 0:<pad>를 포함하여 7001개\n",
        "VOCAB_SIZE = tokenizer.num_words + 1   \n",
        "\n",
        "# 준비한 데이터 소스로부터 데이터셋 만들기\n",
        "dataset = tf.data.Dataset.from_tensor_slices((enc_train, dec_train))\n",
        "dataset = dataset.shuffle(BUFFER_SIZE)\n",
        "dataset = dataset.batch(BATCH_SIZE, drop_remainder=True) \n",
        "#drop_remainder= batch size에 도달하면 나머지 데이터는 버림 \n",
        "dataset"
      ],
      "metadata": {
        "colab": {
          "base_uri": "https://localhost:8080/"
        },
        "id": "LhyXTciVw4ZZ",
        "outputId": "3b2e972c-887d-4a3b-ad82-6fbc6cf18713"
      },
      "execution_count": 16,
      "outputs": [
        {
          "output_type": "execute_result",
          "data": {
            "text/plain": [
              "<BatchDataset element_spec=(TensorSpec(shape=(256, 13), dtype=tf.int32, name=None), TensorSpec(shape=(256, 13), dtype=tf.int32, name=None))>"
            ]
          },
          "metadata": {},
          "execution_count": 16
        }
      ]
    },
    {
      "cell_type": "code",
      "source": [
        "embedding_size = 512\n",
        "hidden_size = 2048\n",
        "model = TextGenerator(tokenizer.num_words + 1, embedding_size , hidden_size)"
      ],
      "metadata": {
        "id": "z5QO8-jzv411"
      },
      "execution_count": 20,
      "outputs": []
    },
    {
      "cell_type": "code",
      "source": [
        "for src_enc_train, dec_train in dataset.take(1): break\n",
        "\n",
        "model(src_enc_train)"
      ],
      "metadata": {
        "colab": {
          "base_uri": "https://localhost:8080/"
        },
        "id": "5aet61lvv7Z0",
        "outputId": "e545bff4-ab78-42ca-c071-b504ec1adc1e"
      },
      "execution_count": 21,
      "outputs": [
        {
          "output_type": "execute_result",
          "data": {
            "text/plain": [
              "<tf.Tensor: shape=(256, 13, 20001), dtype=float32, numpy=\n",
              "array([[[-1.43233410e-04, -1.35931768e-04, -8.84557303e-05, ...,\n",
              "          3.99994344e-04, -1.13961745e-04, -2.26097574e-04],\n",
              "        [-4.41243137e-05,  4.33140231e-05,  1.14767834e-04, ...,\n",
              "          7.51445012e-04, -8.76506238e-05, -4.58382943e-04],\n",
              "        [ 1.13305279e-04,  1.45594269e-04,  1.24603903e-04, ...,\n",
              "          8.16217973e-04, -7.06700885e-05, -5.71363198e-04],\n",
              "        ...,\n",
              "        [-3.04013665e-04, -2.02951342e-04,  7.80078641e-04, ...,\n",
              "         -6.32002659e-04, -1.09833688e-03, -1.60829839e-03],\n",
              "        [-2.35595784e-04, -6.39248581e-04,  7.45243509e-04, ...,\n",
              "         -7.08063832e-04, -1.26043148e-03, -1.64116337e-03],\n",
              "        [-3.41792969e-04, -1.11595041e-03,  4.52456909e-04, ...,\n",
              "         -9.58714227e-04, -1.22337532e-03, -1.68897735e-03]],\n",
              "\n",
              "       [[-1.43233410e-04, -1.35931768e-04, -8.84557303e-05, ...,\n",
              "          3.99994344e-04, -1.13961745e-04, -2.26097574e-04],\n",
              "        [-4.41243137e-05,  4.33140231e-05,  1.14767834e-04, ...,\n",
              "          7.51445012e-04, -8.76506238e-05, -4.58382943e-04],\n",
              "        [-1.47433544e-04,  1.35135138e-04,  3.13347206e-04, ...,\n",
              "          9.06296656e-04, -1.88065766e-04, -4.81214607e-04],\n",
              "        ...,\n",
              "        [-4.54554247e-04,  1.26887346e-03,  3.27781338e-04, ...,\n",
              "          1.30664499e-03, -9.18407110e-04,  3.49421898e-04],\n",
              "        [-7.89743150e-04,  1.31081010e-03,  6.64119259e-04, ...,\n",
              "          1.40948663e-03, -8.73362354e-04,  6.61911792e-04],\n",
              "        [-1.13180769e-03,  1.33084261e-03,  1.00376178e-03, ...,\n",
              "          1.49600778e-03, -8.03834177e-04,  9.33756353e-04]],\n",
              "\n",
              "       [[-1.43233410e-04, -1.35931768e-04, -8.84557303e-05, ...,\n",
              "          3.99994344e-04, -1.13961745e-04, -2.26097574e-04],\n",
              "        [-4.07293584e-04, -2.50695768e-04, -3.88032029e-04, ...,\n",
              "          8.85582645e-04,  2.62377929e-04, -4.36661910e-04],\n",
              "        [-2.84665381e-04, -4.55761387e-04, -6.91141933e-04, ...,\n",
              "          1.26301509e-03,  5.52692276e-04, -9.30573733e-04],\n",
              "        ...,\n",
              "        [ 1.55447124e-04, -1.19974487e-03, -8.55813851e-04, ...,\n",
              "          8.80535634e-04,  3.69807123e-04, -5.50571826e-07],\n",
              "        [ 2.74812046e-04, -1.12176093e-03, -1.09757006e-03, ...,\n",
              "          3.24387802e-04,  1.15230641e-05, -1.48135441e-04],\n",
              "        [ 2.30167905e-04, -1.14514399e-03, -1.35434396e-03, ...,\n",
              "         -2.62830727e-04, -2.08204685e-04, -2.80838925e-04]],\n",
              "\n",
              "       ...,\n",
              "\n",
              "       [[-1.43233410e-04, -1.35931768e-04, -8.84557303e-05, ...,\n",
              "          3.99994344e-04, -1.13961745e-04, -2.26097574e-04],\n",
              "        [-3.45749664e-04, -1.52623092e-04, -1.53427696e-04, ...,\n",
              "          5.88600640e-04,  6.72600945e-05, -2.39280605e-04],\n",
              "        [ 1.37030569e-04,  4.16625589e-05, -4.74989851e-04, ...,\n",
              "          9.26286157e-04,  1.34409696e-04, -4.99601418e-04],\n",
              "        ...,\n",
              "        [-4.96901805e-04,  1.40535214e-03,  1.59253948e-04, ...,\n",
              "          7.25435268e-04, -1.96391949e-04,  6.51728478e-04],\n",
              "        [-8.32971185e-04,  1.50573160e-03,  4.70284373e-04, ...,\n",
              "          8.35472136e-04, -2.47557677e-04,  8.92756623e-04],\n",
              "        [-1.17147388e-03,  1.56663405e-03,  7.92137405e-04, ...,\n",
              "          9.57680400e-04, -2.60959234e-04,  1.10705325e-03]],\n",
              "\n",
              "       [[-1.43233410e-04, -1.35931768e-04, -8.84557303e-05, ...,\n",
              "          3.99994344e-04, -1.13961745e-04, -2.26097574e-04],\n",
              "        [-4.41243137e-05,  4.33140231e-05,  1.14767834e-04, ...,\n",
              "          7.51445012e-04, -8.76506238e-05, -4.58382943e-04],\n",
              "        [-7.20307944e-05, -3.44570230e-06,  1.62001234e-04, ...,\n",
              "          7.92278850e-04,  8.05462769e-05, -5.87690098e-04],\n",
              "        ...,\n",
              "        [ 1.04791985e-03,  1.49653666e-03, -1.04707747e-03, ...,\n",
              "          3.71912029e-04, -5.86419883e-05, -1.31173525e-03],\n",
              "        [ 7.99918605e-04,  1.70397386e-03, -9.93412104e-04, ...,\n",
              "          5.00694732e-04, -2.08028228e-04, -9.89272026e-04],\n",
              "        [ 4.70424973e-04,  1.87058223e-03, -8.13459104e-04, ...,\n",
              "          6.93099748e-04, -3.09171010e-04, -5.71996614e-04]],\n",
              "\n",
              "       [[-1.43233410e-04, -1.35931768e-04, -8.84557303e-05, ...,\n",
              "          3.99994344e-04, -1.13961745e-04, -2.26097574e-04],\n",
              "        [-2.31914470e-04, -3.36915575e-04, -1.65997204e-04, ...,\n",
              "          4.63281700e-04, -2.46155891e-04, -3.19509563e-04],\n",
              "        [-3.20847321e-04, -3.20983730e-04, -3.41632782e-04, ...,\n",
              "          2.93652061e-04, -4.13559028e-04, -8.29763812e-05],\n",
              "        ...,\n",
              "        [-4.13084839e-04,  8.66896589e-04,  7.64016877e-05, ...,\n",
              "          1.54618319e-04, -9.00971470e-04,  6.90961024e-05],\n",
              "        [-6.92976872e-04,  1.04398548e-03,  3.95519368e-04, ...,\n",
              "          3.94131668e-04, -8.38797423e-04,  3.85563791e-04],\n",
              "        [-9.95398499e-04,  1.18085661e-03,  7.25117687e-04, ...,\n",
              "          6.21424057e-04, -7.58104899e-04,  6.77503529e-04]]],\n",
              "      dtype=float32)>"
            ]
          },
          "metadata": {},
          "execution_count": 21
        }
      ]
    },
    {
      "cell_type": "code",
      "source": [
        "#모델 서머리!\n",
        "model.summary()"
      ],
      "metadata": {
        "colab": {
          "base_uri": "https://localhost:8080/"
        },
        "id": "APbKJokov-UY",
        "outputId": "d77c3fab-cf03-4e85-f9ec-a74b24e1396f"
      },
      "execution_count": 22,
      "outputs": [
        {
          "output_type": "stream",
          "name": "stdout",
          "text": [
            "Model: \"text_generator_1\"\n",
            "_________________________________________________________________\n",
            " Layer (type)                Output Shape              Param #   \n",
            "=================================================================\n",
            " embedding_1 (Embedding)     multiple                  10240512  \n",
            "                                                                 \n",
            " lstm_2 (LSTM)               multiple                  20979712  \n",
            "                                                                 \n",
            " lstm_3 (LSTM)               multiple                  33562624  \n",
            "                                                                 \n",
            " dense_1 (Dense)             multiple                  40982049  \n",
            "                                                                 \n",
            "=================================================================\n",
            "Total params: 105,764,897\n",
            "Trainable params: 105,764,897\n",
            "Non-trainable params: 0\n",
            "_________________________________________________________________\n"
          ]
        }
      ]
    },
    {
      "cell_type": "markdown",
      "source": [
        "역시 layer에선 큰 변화를 주지 않아서 그런지 Total param은 105,764,897로 변함이 없다."
      ],
      "metadata": {
        "id": "yvq858g_wMkx"
      }
    },
    {
      "cell_type": "code",
      "source": [
        "#모델 학습시키기_재도전 5번째...!\n",
        "optimizer = tf.keras.optimizers.Adam()\n",
        "#Loss\n",
        "loss = tf.keras.losses.SparseCategoricalCrossentropy(\n",
        "    from_logits=True, reduction='none')\n",
        "\n",
        "model.compile(loss=loss, optimizer=optimizer)\n",
        "history_5 = model.fit(dataset, epochs=10, validation_data = (enc_val, dec_val))"
      ],
      "metadata": {
        "colab": {
          "base_uri": "https://localhost:8080/"
        },
        "id": "4V-cCQIswE44",
        "outputId": "d206bf62-231c-4141-c14d-9d4bb340895e"
      },
      "execution_count": 24,
      "outputs": [
        {
          "output_type": "stream",
          "name": "stdout",
          "text": [
            "Epoch 1/10\n",
            "514/514 [==============================] - 160s 306ms/step - loss: 2.9765 - val_loss: 2.8899\n",
            "Epoch 2/10\n",
            "514/514 [==============================] - 157s 305ms/step - loss: 2.6919 - val_loss: 2.7149\n",
            "Epoch 3/10\n",
            "514/514 [==============================] - 157s 305ms/step - loss: 2.4126 - val_loss: 2.5772\n",
            "Epoch 4/10\n",
            "514/514 [==============================] - 157s 305ms/step - loss: 2.1370 - val_loss: 2.4779\n",
            "Epoch 5/10\n",
            "514/514 [==============================] - 157s 305ms/step - loss: 1.8858 - val_loss: 2.4105\n",
            "Epoch 6/10\n",
            "514/514 [==============================] - 157s 305ms/step - loss: 1.6647 - val_loss: 2.3644\n",
            "Epoch 7/10\n",
            "514/514 [==============================] - 157s 305ms/step - loss: 1.4749 - val_loss: 2.3412\n",
            "Epoch 8/10\n",
            "514/514 [==============================] - 157s 305ms/step - loss: 1.3184 - val_loss: 2.3333\n",
            "Epoch 9/10\n",
            "514/514 [==============================] - 157s 305ms/step - loss: 1.1956 - val_loss: 2.3428\n",
            "Epoch 10/10\n",
            "514/514 [==============================] - 157s 305ms/step - loss: 1.1068 - val_loss: 2.3538\n"
          ]
        }
      ]
    },
    {
      "cell_type": "code",
      "source": [
        "#그래프 시각화\n",
        "plt.figure(figsize=(15,5)) \n",
        "plt.plot(history_5.history['loss'], label='loss') \n",
        "plt.plot(history_5.history['val_loss'], label='val_loss') \n",
        "plt.hlines(2.20,0,10, color=\"red\", label='goal')\n",
        "plt.legend() \n",
        "plt.show()"
      ],
      "metadata": {
        "colab": {
          "base_uri": "https://localhost:8080/",
          "height": 320
        },
        "id": "TV4FO4r6xION",
        "outputId": "15973106-1a11-4c04-9a7e-0ff9dd79348b"
      },
      "execution_count": 25,
      "outputs": [
        {
          "output_type": "display_data",
          "data": {
            "text/plain": [
              "<Figure size 1080x360 with 1 Axes>"
            ],
            "image/png": "[encoded data removed]"
          },
          "metadata": {
            "needs_background": "light"
          }
        }
      ]
    },
    {
      "cell_type": "markdown",
      "source": [
        "train loss는 1.1 까지 내려가며 확실히 학습이 잘된 것 같은데, val_loss는 2.3까지 밖에 내려가지 않는다... 왜때문이지??  \n",
        "valiidation data 20%로 잘 부여해 준 것 같긴한데,, 쉽지 않다..  \n",
        "다음엔 토큰을 15개 이상은 제외 시켰는데, 좀 더 학습량을 늘리기 위해 토큰양 17이상을 제외하는 걸로 바꿔서 진행해보려고 한다. "
      ],
      "metadata": {
        "id": "jHq0rlIHBRMx"
      }
    },
    {
      "cell_type": "markdown",
      "source": [
        "### 6) 문장 제외 토큰 갯수 늘리기\n",
        "- 15개 이상 삭제 -> 17개 이상 삭제   \n",
        "(start, end 제외 15단어로 생각)\n",
        "\n",
        "이걸로 어느정도의 학습량을 증가할 수 있을진 모르겠지만 우선 진행해보자. "
      ],
      "metadata": {
        "id": "xf3ApyU-B_Db"
      }
    },
    {
      "cell_type": "code",
      "source": [
        "txt_file_path = '/content/drive/MyDrive/COLAB_data/lyrics/*'\n",
        "\n",
        "txt_list = glob.glob(txt_file_path)\n",
        "\n",
        "raw_corpus = []\n",
        "\n",
        "# 여러개의 txt 파일을 모두 읽어서 raw_corpus 에 담기\n",
        "for txt_file in txt_list:\n",
        "    with open(txt_file, \"r\") as f:\n",
        "        raw = f.read().splitlines()\n",
        "        raw_corpus.extend(raw)\n",
        "\n",
        "print(\"데이터 크기:\", len(raw_corpus))\n",
        "print(\"Examples:\\n\", raw_corpus[:3])"
      ],
      "metadata": {
        "colab": {
          "base_uri": "https://localhost:8080/"
        },
        "id": "2PgaHiscCkE5",
        "outputId": "7573e740-ad57-41cc-f49c-f6817e7c27e6"
      },
      "execution_count": 26,
      "outputs": [
        {
          "output_type": "stream",
          "name": "stdout",
          "text": [
            "데이터 크기: 187088\n",
            "Examples:\n",
            " ['Build your dreams to the stars above', 'But when you need someone to love', \"Don't go to strangers, darling, come to me Play with fire till your fingers burn\"]\n"
          ]
        }
      ]
    },
    {
      "cell_type": "code",
      "source": [
        "def preprocess_sentence(sentence):\n",
        "    sentence = sentence.lower().strip() \n",
        "    sentence = re.sub(r\"([?.!,¿])\", r\" \\1 \", sentence) \n",
        "    sentence = re.sub(r'[\" \"]+', \" \", sentence) \n",
        "    sentence = re.sub(r\"[^a-zA-Z?.!,¿']+\", \" \", sentence) \n",
        "    sentence = sentence.strip() \n",
        "    sentence = '<start> ' + sentence + ' <end>' \n",
        "    return sentence"
      ],
      "metadata": {
        "id": "Dg7tbCmmBNlb"
      },
      "execution_count": 27,
      "outputs": []
    },
    {
      "cell_type": "code",
      "source": [
        "# 정제된 문장을 담을 곳\n",
        "corpus = []\n",
        "\n",
        "for sentence in raw_corpus:\n",
        "    \n",
        "    preprocessed_sentence = preprocess_sentence(sentence)\n",
        "\n",
        "    if preprocessed_sentence.count(' ') >= 16: continue\n",
        "\n",
        "    corpus.append(preprocessed_sentence)\n",
        "\n",
        "#10개 확인\n",
        "corpus[:10]"
      ],
      "metadata": {
        "colab": {
          "base_uri": "https://localhost:8080/"
        },
        "id": "rqmtigXsCypj",
        "outputId": "ecdff207-0eb8-4e22-c61e-0636b3c78d09"
      },
      "execution_count": 28,
      "outputs": [
        {
          "output_type": "execute_result",
          "data": {
            "text/plain": [
              "['<start> build your dreams to the stars above <end>',\n",
              " '<start> but when you need someone to love <end>',\n",
              " \"<start> and when there's no place for you to turn <end>\",\n",
              " \"<start> you'll follow your heart i know <end>\",\n",
              " \"<start> i've been through it all , for i'm an old hand <end>\",\n",
              " \"<start> and i'll understand if you go so <end>\",\n",
              " '<start> make your mark for your friends to see <end>',\n",
              " '<start> but when you need more than company <end>',\n",
              " '<start> you give your soul so sweetly <end>',\n",
              " '<start> tonight the light of love is in your eyes <end>']"
            ]
          },
          "metadata": {},
          "execution_count": 28
        }
      ]
    },
    {
      "cell_type": "code",
      "source": [
        "def tokenize(corpus):\n",
        "    tokenizer = tf.keras.preprocessing.text.Tokenizer(\n",
        "        num_words=20000, \n",
        "        filters=' ',\n",
        "        oov_token=\"<unk>\"\n",
        "    )\n",
        "    # corpus를 이용해 tokenizer 내부의 단어장을 완성합니다\n",
        "    tokenizer.fit_on_texts(corpus)\n",
        "\n",
        "    # 준비한 tokenizer를 이용해 corpus를 Tensor로 변환합니다\n",
        "    tensor = tokenizer.texts_to_sequences(corpus)   \n",
        "    # 입력 데이터의 시퀀스 길이를 일정하게 맞춰줍니다\n",
        "    tensor = tf.keras.preprocessing.sequence.pad_sequences(tensor, padding='post')  \n",
        "    \n",
        "    print(tensor,tokenizer)\n",
        "    return tensor, tokenizer\n",
        "\n",
        "tensor, tokenizer = tokenize(corpus)"
      ],
      "metadata": {
        "colab": {
          "base_uri": "https://localhost:8080/"
        },
        "id": "jdENcSWsC8Bb",
        "outputId": "a273d603-652a-4e32-d333-27e115ada5d4"
      },
      "execution_count": 29,
      "outputs": [
        {
          "output_type": "stream",
          "name": "stdout",
          "text": [
            "[[   2 1420   18 ...    0    0    0]\n",
            " [   2   30   42 ...    0    0    0]\n",
            " [   2    8   42 ...    0    0    0]\n",
            " ...\n",
            " [   2   28   18 ...    3    0    0]\n",
            " [   2  343   18 ...    0    0    0]\n",
            " [   2   37  132 ...    0    0    0]] <keras_preprocessing.text.Tokenizer object at 0x7f88dd89dc90>\n"
          ]
        }
      ]
    },
    {
      "cell_type": "code",
      "source": [
        "#tokenizer에 단어 사전이 어떻게 구축되었는지 한번 보자\n",
        "for idx in tokenizer.index_word:\n",
        "    print(idx, \":\", tokenizer.index_word[idx])\n",
        "\n",
        "    if idx >= 10: break"
      ],
      "metadata": {
        "colab": {
          "base_uri": "https://localhost:8080/"
        },
        "id": "60CXPVb0C-nh",
        "outputId": "b2864635-dd2e-414f-f176-c3916a0438d6"
      },
      "execution_count": 30,
      "outputs": [
        {
          "output_type": "stream",
          "name": "stdout",
          "text": [
            "1 : <unk>\n",
            "2 : <start>\n",
            "3 : <end>\n",
            "4 : ,\n",
            "5 : the\n",
            "6 : i\n",
            "7 : you\n",
            "8 : and\n",
            "9 : a\n",
            "10 : to\n"
          ]
        }
      ]
    },
    {
      "cell_type": "code",
      "source": [
        "X = tensor[:, :-1]  \n",
        "y = tensor[:, 1:]    \n",
        "\n",
        "print(X[0])\n",
        "print(y[0])"
      ],
      "metadata": {
        "colab": {
          "base_uri": "https://localhost:8080/"
        },
        "id": "HgATxK16DDix",
        "outputId": "82bd76cd-aa0c-48f2-fea4-dde24366b2d1"
      },
      "execution_count": 31,
      "outputs": [
        {
          "output_type": "stream",
          "name": "stdout",
          "text": [
            "[   2 1420   18  392   10    5  643  699    3    0    0    0    0    0\n",
            "    0]\n",
            "[1420   18  392   10    5  643  699    3    0    0    0    0    0    0\n",
            "    0]\n"
          ]
        }
      ]
    },
    {
      "cell_type": "code",
      "source": [
        "enc_train, enc_val, dec_train, dec_val = train_test_split(X, y, test_size=0.2, random_state=10)\n",
        "\n",
        "#잘 나눠졌는지 확인\n",
        "print(enc_train.shape, dec_train.shape)\n",
        "print(enc_val.shape, dec_val.shape)"
      ],
      "metadata": {
        "colab": {
          "base_uri": "https://localhost:8080/"
        },
        "id": "WZtE1oQrDGsf",
        "outputId": "2966851c-266c-476f-a0c3-63f968bd6df2"
      },
      "execution_count": 32,
      "outputs": [
        {
          "output_type": "stream",
          "name": "stdout",
          "text": [
            "(139084, 15) (139084, 15)\n",
            "(34771, 15) (34771, 15)\n"
          ]
        }
      ]
    },
    {
      "cell_type": "code",
      "source": [
        "BUFFER_SIZE = len(enc_train)\n",
        "BATCH_SIZE = 256\n",
        "steps_per_epoch = len(enc_train) // BATCH_SIZE\n",
        "\n",
        "# tokenizer가 구축한 단어사전 내 42,000개와, 여기 포함되지 않은 0:<pad>를 포함하여 7001개\n",
        "VOCAB_SIZE = tokenizer.num_words + 1   \n",
        "\n",
        "# 준비한 데이터 소스로부터 데이터셋 만들기\n",
        "dataset = tf.data.Dataset.from_tensor_slices((enc_train, dec_train))\n",
        "dataset = dataset.shuffle(BUFFER_SIZE)\n",
        "dataset = dataset.batch(BATCH_SIZE, drop_remainder=True) \n",
        "#drop_remainder= batch size에 도달하면 나머지 데이터는 버림 \n",
        "dataset"
      ],
      "metadata": {
        "colab": {
          "base_uri": "https://localhost:8080/"
        },
        "id": "XG-86M0DDI6v",
        "outputId": "2f2bdf96-764a-4df5-f64b-990469919117"
      },
      "execution_count": 33,
      "outputs": [
        {
          "output_type": "execute_result",
          "data": {
            "text/plain": [
              "<BatchDataset element_spec=(TensorSpec(shape=(256, 15), dtype=tf.int32, name=None), TensorSpec(shape=(256, 15), dtype=tf.int32, name=None))>"
            ]
          },
          "metadata": {},
          "execution_count": 33
        }
      ]
    },
    {
      "cell_type": "code",
      "source": [
        "embedding_size = 512\n",
        "hidden_size = 2048\n",
        "model = TextGenerator(tokenizer.num_words + 1, embedding_size , hidden_size)"
      ],
      "metadata": {
        "id": "3RpjUJZuDL_g"
      },
      "execution_count": 34,
      "outputs": []
    },
    {
      "cell_type": "code",
      "source": [
        "for src_enc_train, dec_train in dataset.take(1): break\n",
        "\n",
        "model(src_enc_train)"
      ],
      "metadata": {
        "colab": {
          "base_uri": "https://localhost:8080/"
        },
        "id": "RClunNDYDPj7",
        "outputId": "9ce67d35-c5b1-4695-a023-175dcc36e38a"
      },
      "execution_count": 35,
      "outputs": [
        {
          "output_type": "execute_result",
          "data": {
            "text/plain": [
              "<tf.Tensor: shape=(256, 15, 20001), dtype=float32, numpy=\n",
              "array([[[-2.18610003e-04,  1.32109111e-04, -1.02970218e-04, ...,\n",
              "         -5.68660971e-06,  2.44730327e-04, -7.16826835e-05],\n",
              "        [-1.14732502e-04,  1.17803414e-04,  6.28373818e-05, ...,\n",
              "          3.31839867e-04,  5.19757567e-04, -1.71868567e-04],\n",
              "        [-3.35944642e-04, -1.92050647e-04,  9.26405701e-05, ...,\n",
              "          5.73359313e-04,  6.63640792e-04, -1.31259061e-04],\n",
              "        ...,\n",
              "        [ 1.21421774e-03, -4.83805954e-04,  9.51139140e-04, ...,\n",
              "          1.05055526e-03,  3.63089406e-04, -2.53003323e-04],\n",
              "        [ 1.41768903e-03, -8.19977082e-04,  9.92167741e-04, ...,\n",
              "          1.54535775e-03,  5.64692484e-04, -5.84479072e-04],\n",
              "        [ 1.62727281e-03, -1.14102731e-03,  9.44383617e-04, ...,\n",
              "          2.02808389e-03,  8.19512876e-04, -9.25715372e-04]],\n",
              "\n",
              "       [[-2.18610003e-04,  1.32109111e-04, -1.02970218e-04, ...,\n",
              "         -5.68660971e-06,  2.44730327e-04, -7.16826835e-05],\n",
              "        [-6.46910339e-04,  9.67698506e-05, -3.38669750e-04, ...,\n",
              "          2.18447851e-04,  1.91681465e-04,  1.06591215e-04],\n",
              "        [-6.67628483e-04, -4.08561827e-05, -6.16521051e-04, ...,\n",
              "          4.58463823e-04,  1.07981221e-04,  3.50125978e-04],\n",
              "        ...,\n",
              "        [ 1.22190849e-03, -1.97555567e-03, -1.60555865e-04, ...,\n",
              "          3.83842108e-03,  2.61054980e-03, -1.64797390e-03],\n",
              "        [ 1.49473210e-03, -2.02505407e-03, -2.04563301e-04, ...,\n",
              "          3.88400164e-03,  2.85627018e-03, -1.82766945e-03],\n",
              "        [ 1.73472997e-03, -2.05732184e-03, -2.54775223e-04, ...,\n",
              "          3.88798444e-03,  3.06780520e-03, -1.95824471e-03]],\n",
              "\n",
              "       [[-2.18610003e-04,  1.32109111e-04, -1.02970218e-04, ...,\n",
              "         -5.68660971e-06,  2.44730327e-04, -7.16826835e-05],\n",
              "        [-8.49327946e-04,  2.25456650e-04, -1.21821089e-04, ...,\n",
              "          2.27156197e-05,  2.39385554e-04, -5.15298489e-05],\n",
              "        [-1.40297413e-03,  3.53465934e-04, -2.56355648e-04, ...,\n",
              "          1.45326558e-04,  1.91323139e-04, -7.95736705e-05],\n",
              "        ...,\n",
              "        [ 1.89093422e-04, -2.35332362e-03, -3.51765950e-04, ...,\n",
              "          2.98919482e-03,  1.00105139e-03, -6.14277727e-04],\n",
              "        [ 5.14535117e-04, -2.45956075e-03, -2.75186438e-04, ...,\n",
              "          3.39300605e-03,  1.39187172e-03, -9.62572405e-04],\n",
              "        [ 8.13883555e-04, -2.51072086e-03, -2.43775808e-04, ...,\n",
              "          3.68920295e-03,  1.76113495e-03, -1.27881905e-03]],\n",
              "\n",
              "       ...,\n",
              "\n",
              "       [[-2.18610003e-04,  1.32109111e-04, -1.02970218e-04, ...,\n",
              "         -5.68660971e-06,  2.44730327e-04, -7.16826835e-05],\n",
              "        [-5.13588195e-04,  3.30810464e-04, -6.45915497e-05, ...,\n",
              "          5.09102101e-05,  3.08456802e-04, -1.30258879e-04],\n",
              "        [-3.88785586e-04,  1.46876831e-04,  2.64057831e-04, ...,\n",
              "          4.48200648e-04,  3.38155136e-04,  7.70075203e-05],\n",
              "        ...,\n",
              "        [ 1.75292662e-03, -1.08189892e-03,  2.24402364e-04, ...,\n",
              "          3.41163739e-03,  1.50895317e-03, -1.34429219e-03],\n",
              "        [ 1.92184851e-03, -1.31360581e-03,  1.52543609e-04, ...,\n",
              "          3.65313003e-03,  1.88308186e-03, -1.64695014e-03],\n",
              "        [ 2.06949655e-03, -1.49928872e-03,  7.18612791e-05, ...,\n",
              "          3.82207474e-03,  2.22902675e-03, -1.89542340e-03]],\n",
              "\n",
              "       [[-2.18610003e-04,  1.32109111e-04, -1.02970218e-04, ...,\n",
              "         -5.68660971e-06,  2.44730327e-04, -7.16826835e-05],\n",
              "        [-3.08270042e-04,  3.14412289e-04, -1.96979396e-04, ...,\n",
              "          4.61788659e-05,  2.10602186e-04,  9.62113845e-05],\n",
              "        [-4.59401926e-04,  7.88092322e-04, -8.10450583e-05, ...,\n",
              "          2.83752393e-04,  3.97379947e-04,  9.03846085e-05],\n",
              "        ...,\n",
              "        [ 1.71517977e-03, -1.69872202e-03, -1.74799745e-04, ...,\n",
              "          4.11873311e-03,  2.93260021e-03, -1.87968637e-03],\n",
              "        [ 1.90034474e-03, -1.82053237e-03, -2.88658892e-04, ...,\n",
              "          4.16970905e-03,  3.08725424e-03, -2.00494356e-03],\n",
              "        [ 2.06171698e-03, -1.91253214e-03, -3.88423476e-04, ...,\n",
              "          4.17007878e-03,  3.22534400e-03, -2.09239032e-03]],\n",
              "\n",
              "       [[-2.18610003e-04,  1.32109111e-04, -1.02970218e-04, ...,\n",
              "         -5.68660971e-06,  2.44730327e-04, -7.16826835e-05],\n",
              "        [-2.68270262e-04,  2.51135702e-04, -1.16356910e-04, ...,\n",
              "         -6.32313822e-05,  4.84809891e-04, -2.04721917e-04],\n",
              "        [-3.56807468e-05,  1.81610871e-04, -3.02338594e-04, ...,\n",
              "          8.37833286e-05,  5.58435975e-04, -1.36302013e-04],\n",
              "        ...,\n",
              "        [ 1.79794803e-03, -8.41286266e-04, -6.52627132e-05, ...,\n",
              "          3.86158586e-03,  1.98085653e-03, -9.21559928e-04],\n",
              "        [ 1.90173008e-03, -1.12546631e-03, -7.54405555e-05, ...,\n",
              "          4.14853403e-03,  2.25610263e-03, -1.24574918e-03],\n",
              "        [ 1.99187617e-03, -1.36638945e-03, -1.13878181e-04, ...,\n",
              "          4.33476176e-03,  2.52107764e-03, -1.53287861e-03]]],\n",
              "      dtype=float32)>"
            ]
          },
          "metadata": {},
          "execution_count": 35
        }
      ]
    },
    {
      "cell_type": "code",
      "source": [
        "#모델 서머리!\n",
        "model.summary()"
      ],
      "metadata": {
        "colab": {
          "base_uri": "https://localhost:8080/"
        },
        "id": "zhk-j14dDS0p",
        "outputId": "f89edac9-b531-4a7b-9d21-3d29185c3efa"
      },
      "execution_count": 36,
      "outputs": [
        {
          "output_type": "stream",
          "name": "stdout",
          "text": [
            "Model: \"text_generator_2\"\n",
            "_________________________________________________________________\n",
            " Layer (type)                Output Shape              Param #   \n",
            "=================================================================\n",
            " embedding_2 (Embedding)     multiple                  10240512  \n",
            "                                                                 \n",
            " lstm_4 (LSTM)               multiple                  20979712  \n",
            "                                                                 \n",
            " lstm_5 (LSTM)               multiple                  33562624  \n",
            "                                                                 \n",
            " dense_2 (Dense)             multiple                  40982049  \n",
            "                                                                 \n",
            "=================================================================\n",
            "Total params: 105,764,897\n",
            "Trainable params: 105,764,897\n",
            "Non-trainable params: 0\n",
            "_________________________________________________________________\n"
          ]
        }
      ]
    },
    {
      "cell_type": "markdown",
      "source": [
        "음 토탈 파라미터의 값은 변함이 없다."
      ],
      "metadata": {
        "id": "FJkKcZgCDVKo"
      }
    },
    {
      "cell_type": "code",
      "source": [
        "#모델 학습시키기_재도전 6번째...!\n",
        "optimizer = tf.keras.optimizers.Adam()\n",
        "#Loss\n",
        "loss = tf.keras.losses.SparseCategoricalCrossentropy(\n",
        "    from_logits=True, reduction='none')\n",
        "\n",
        "model.compile(loss=loss, optimizer=optimizer)\n",
        "history_6 = model.fit(dataset, epochs=10, validation_data = (enc_val, dec_val))"
      ],
      "metadata": {
        "colab": {
          "base_uri": "https://localhost:8080/"
        },
        "id": "kxqRIxsBDY5N",
        "outputId": "954611d0-e594-43d2-9884-19312690b3f4"
      },
      "execution_count": 37,
      "outputs": [
        {
          "output_type": "stream",
          "name": "stdout",
          "text": [
            "Epoch 1/10\n",
            "543/543 [==============================] - 191s 348ms/step - loss: 3.2549 - val_loss: 2.9325\n",
            "Epoch 2/10\n",
            "543/543 [==============================] - 189s 348ms/step - loss: 2.7977 - val_loss: 2.7426\n",
            "Epoch 3/10\n",
            "543/543 [==============================] - 189s 348ms/step - loss: 2.6253 - val_loss: 2.6237\n",
            "Epoch 4/10\n",
            "543/543 [==============================] - 189s 348ms/step - loss: 2.4813 - val_loss: 2.5301\n",
            "Epoch 5/10\n",
            "543/543 [==============================] - 189s 348ms/step - loss: 2.3444 - val_loss: 2.4480\n",
            "Epoch 6/10\n",
            "543/543 [==============================] - 189s 348ms/step - loss: 2.2050 - val_loss: 2.3755\n",
            "Epoch 7/10\n",
            "543/543 [==============================] - 189s 348ms/step - loss: 2.0641 - val_loss: 2.3126\n",
            "Epoch 8/10\n",
            "543/543 [==============================] - 189s 348ms/step - loss: 1.9222 - val_loss: 2.2562\n",
            "Epoch 9/10\n",
            "543/543 [==============================] - 189s 348ms/step - loss: 1.7816 - val_loss: 2.2110\n",
            "Epoch 10/10\n",
            "543/543 [==============================] - 189s 348ms/step - loss: 1.6440 - val_loss: 2.1771\n"
          ]
        }
      ]
    },
    {
      "cell_type": "code",
      "source": [
        "#그래프 시각화\n",
        "plt.figure(figsize=(15,5)) \n",
        "plt.plot(history_6.history['loss'], label='loss') \n",
        "plt.plot(history_6.history['val_loss'], label='val_loss') \n",
        "plt.hlines(2.20,0,10, color=\"red\", label='goal')\n",
        "plt.legend() \n",
        "plt.show()"
      ],
      "metadata": {
        "colab": {
          "base_uri": "https://localhost:8080/",
          "height": 320
        },
        "id": "gwrFPcvCLIOG",
        "outputId": "c4086159-afc4-4119-8224-6840e32e29ae"
      },
      "execution_count": 38,
      "outputs": [
        {
          "output_type": "display_data",
          "data": {
            "text/plain": [
              "<Figure size 1080x360 with 1 Axes>"
            ],
            "image/png": "[encoded data removed]"
          },
          "metadata": {
            "needs_background": "light"
          }
        }
      ]
    },
    {
      "cell_type": "markdown",
      "source": [
        "핳씌..... 드디어....!!!! 감격스러운 순간이네요...!!!ㅠㅠ   \n",
        "\n",
        "이제 드디어 가사를 뽑아내 봅시다!!!!!"
      ],
      "metadata": {
        "id": "X2ZM3xU_LBr_"
      }
    },
    {
      "cell_type": "markdown",
      "source": [
        "## 인공지능을 통해 가사 뽑아내기\n",
        "--- "
      ],
      "metadata": {
        "id": "Gf67LG0oe3SU"
      }
    },
    {
      "cell_type": "code",
      "source": [
        "def generate_text(model, tokenizer, init_sentence=\"<start>\", max_len=20):\n",
        "    test_input = tokenizer.texts_to_sequences([init_sentence])\n",
        "    test_tensor = tf.convert_to_tensor(test_input, dtype=tf.int64)\n",
        "    end_token = tokenizer.word_index[\"<end>\"]\n",
        "\n",
        "\n",
        "    while True:\n",
        "        predict = model(test_tensor) \n",
        "        predict_word = tf.argmax(tf.nn.softmax(predict, axis=-1), axis=-1)[:, -1] \n",
        "        test_tensor = tf.concat([test_tensor, tf.expand_dims(predict_word, axis=0)], axis=-1)\n",
        "        if predict_word.numpy()[0] == end_token: break\n",
        "        if test_tensor.shape[1] >= max_len: break\n",
        "\n",
        "    generated = \"\"\n",
        "\n",
        "    for word_index in test_tensor[0].numpy():\n",
        "        generated += tokenizer.index_word[word_index] + \" \"\n",
        "\n",
        "    return generated"
      ],
      "metadata": {
        "id": "W-odvta8tZ15"
      },
      "execution_count": 39,
      "outputs": []
    },
    {
      "cell_type": "code",
      "source": [
        "generate_text(model, tokenizer, init_sentence=\"<start> i love\", max_len=20)"
      ],
      "metadata": {
        "colab": {
          "base_uri": "https://localhost:8080/",
          "height": 34
        },
        "id": "ftvoREDytPX6",
        "outputId": "1456167d-e9e0-439d-acdf-27251cc9307f"
      },
      "execution_count": 40,
      "outputs": [
        {
          "output_type": "execute_result",
          "data": {
            "text/plain": [
              "'<start> i love the way you lie <end> '"
            ],
            "application/vnd.google.colaboratory.intrinsic+json": {
              "type": "string"
            }
          },
          "metadata": {},
          "execution_count": 40
        }
      ]
    },
    {
      "cell_type": "markdown",
      "source": [
        "호오..."
      ],
      "metadata": {
        "id": "hMHv4z2GLY6A"
      }
    },
    {
      "cell_type": "code",
      "source": [
        "generate_text(model, tokenizer, init_sentence=\"<start> i hate\", max_len=20)"
      ],
      "metadata": {
        "colab": {
          "base_uri": "https://localhost:8080/",
          "height": 34
        },
        "id": "_vaGEHZutQki",
        "outputId": "3dd06235-563c-4a96-c520-06b268e1d990"
      },
      "execution_count": 41,
      "outputs": [
        {
          "output_type": "execute_result",
          "data": {
            "text/plain": [
              "'<start> i hate to see her die <end> '"
            ],
            "application/vnd.google.colaboratory.intrinsic+json": {
              "type": "string"
            }
          },
          "metadata": {},
          "execution_count": 41
        }
      ]
    },
    {
      "cell_type": "code",
      "source": [
        "generate_text(model, tokenizer, init_sentence=\"<start> i live\", max_len=20)"
      ],
      "metadata": {
        "colab": {
          "base_uri": "https://localhost:8080/",
          "height": 34
        },
        "id": "V_VtTTYSttX6",
        "outputId": "c74d1a21-b62d-48a3-914e-add404b6ab53"
      },
      "execution_count": 42,
      "outputs": [
        {
          "output_type": "execute_result",
          "data": {
            "text/plain": [
              "'<start> i live for the funk ill die for the funk <end> '"
            ],
            "application/vnd.google.colaboratory.intrinsic+json": {
              "type": "string"
            }
          },
          "metadata": {},
          "execution_count": 42
        }
      ]
    },
    {
      "cell_type": "markdown",
      "source": [
        "너... 좀 멋진 아이구나?ㅎㅎㅎ"
      ],
      "metadata": {
        "id": "ojRMjqtI1rv9"
      }
    },
    {
      "cell_type": "code",
      "source": [
        "generate_text(model, tokenizer, init_sentence=\"<start> i like\", max_len=20)"
      ],
      "metadata": {
        "colab": {
          "base_uri": "https://localhost:8080/",
          "height": 34
        },
        "id": "p2A8qb3stx4w",
        "outputId": "cf80b881-ce02-4d98-cef3-79ce253692df"
      },
      "execution_count": 43,
      "outputs": [
        {
          "output_type": "execute_result",
          "data": {
            "text/plain": [
              "'<start> i like it , like it , like it <end> '"
            ],
            "application/vnd.google.colaboratory.intrinsic+json": {
              "type": "string"
            }
          },
          "metadata": {},
          "execution_count": 43
        }
      ]
    },
    {
      "cell_type": "code",
      "source": [
        "generate_text(model, tokenizer, init_sentence=\"<start> he was\", max_len=20)"
      ],
      "metadata": {
        "colab": {
          "base_uri": "https://localhost:8080/",
          "height": 34
        },
        "id": "ceVPYvVPt2cx",
        "outputId": "792e381c-5a4d-4948-be99-1fd097619a57"
      },
      "execution_count": 44,
      "outputs": [
        {
          "output_type": "execute_result",
          "data": {
            "text/plain": [
              "'<start> he was just a little trapeze <end> '"
            ],
            "application/vnd.google.colaboratory.intrinsic+json": {
              "type": "string"
            }
          },
          "metadata": {},
          "execution_count": 44
        }
      ]
    },
    {
      "cell_type": "code",
      "source": [
        "generate_text(model, tokenizer, init_sentence=\"<start> she was\", max_len=20)"
      ],
      "metadata": {
        "colab": {
          "base_uri": "https://localhost:8080/",
          "height": 34
        },
        "id": "Rou57P_Mt9pF",
        "outputId": "4abbb341-34fc-4ad0-e7fe-1ad0d8c76c53"
      },
      "execution_count": 45,
      "outputs": [
        {
          "output_type": "execute_result",
          "data": {
            "text/plain": [
              "'<start> she was with me before i was just a little while <end> '"
            ],
            "application/vnd.google.colaboratory.intrinsic+json": {
              "type": "string"
            }
          },
          "metadata": {},
          "execution_count": 45
        }
      ]
    },
    {
      "cell_type": "code",
      "source": [
        "generate_text(model, tokenizer, init_sentence=\"<start> my little\", max_len=20)"
      ],
      "metadata": {
        "id": "eWH-VO09egs_",
        "colab": {
          "base_uri": "https://localhost:8080/",
          "height": 34
        },
        "outputId": "65b31be4-47c2-487c-8a2e-5b321c9161b1"
      },
      "execution_count": 49,
      "outputs": [
        {
          "output_type": "execute_result",
          "data": {
            "text/plain": [
              "'<start> my little sister , she s in my heart <end> '"
            ],
            "application/vnd.google.colaboratory.intrinsic+json": {
              "type": "string"
            }
          },
          "metadata": {},
          "execution_count": 49
        }
      ]
    },
    {
      "cell_type": "code",
      "source": [
        "generate_text(model, tokenizer, init_sentence=\"<start> my heart\", max_len=20)"
      ],
      "metadata": {
        "colab": {
          "base_uri": "https://localhost:8080/",
          "height": 34
        },
        "id": "RnQ3H9yXMBJi",
        "outputId": "d1e984a3-5e07-4dee-ee1d-16eb68c9a8aa"
      },
      "execution_count": 50,
      "outputs": [
        {
          "output_type": "execute_result",
          "data": {
            "text/plain": [
              "'<start> my heart is so thick and my hair is so grateful <end> '"
            ],
            "application/vnd.google.colaboratory.intrinsic+json": {
              "type": "string"
            }
          },
          "metadata": {},
          "execution_count": 50
        }
      ]
    },
    {
      "cell_type": "markdown",
      "source": [
        "## 회고\n",
        "- 우선 제한 환경에서 하나의 문제를 해결하고자 다양한 방법을 생각하고 스스로 가설을 세워 진행해보는 과정이 조금은 고통스럽기도 했지만, 계속 단계별로 어떤 걸 고칠 수 있을까 생각하면서 코드를 더 잘 이해하게 된 것 같다. \n",
        "- 그리고 확실히 여유를 가지고 진행을 하다보니 그냥 코드를 복붙하는게 아니라 '저 코드가 무슨 역할을 하길래 왜 이 상황에서 넣었을까?', ''이 부분에 이런 것을 추가하고 싶은데 그럼 어느 부분에 넣어야 내가 원하는 모양대로 뽑아 낼 수 있을까?' 생각하면서 진행을 하게 되어 코드를 짜는 사람으로 한발짝 나아간 기분이 들었다. \n",
        "- 임베딩, 히든레이어 등을 집중해서 이해하기도 좋았다. \n",
        "- 코드 관련해서 물어봤을 때 들었던 얘기가 \"한번 해보세요~\" 였는데, 이전 분야에선 하나의 가설을 확인하기 위해 다른 부서로 요청하고 많은 시간을 들여서 해서 바로바로 시험해 보는 상황이 이해가 되지 않았다. 하지만 이번 경험을 통해 진짜 한번 해보는게 제일 좋다라는 걸 느꼈다. 그리고 몇 분 ~ 몇 시간 이내로 스스로 가설을 세워 확인하는 과정이 재밌고 흥미로웠다.  \n",
        "- 저번 Ex 진행시 시각화를 하지 못한게 아쉬워 이번엔 시각화 함수를 찾아서 넣었는데, 확실히 숫자로만 줄어드는 것을 보는 것 보다 시각화를 하니 진행된 내용을 한눈에 이해하기 좋았다. 왜 다들 시각화를 하고 정리하려했는지 이해가됐다. 이후에 진행할 때도 적절한 시각화 함수를 사용하여 나와 상대방에게 한눈에 이해하기 좋게 만들기위해 노력해야겠다. \n",
        "- 전처리의 중요성을 알게되었다. 같은 코드를 사용해 쓰더라도 내가 데이터를 어떻게 넣어주는지가 생각보다 훨씬 중요하다는 것을 알게되었다. 그동안 주어진 자료를 믿고 바로 갖다쓰고 했었는데, 앞으로는 주어진 자료를 어떻게하면 좋은 결과를 이끌어낼 수 있을지 생각하고 처리하는데 더 집중해야겠다.  \n",
        "이번에 느꼈던 건 `'` 포함하고 안하고의 결과값이 너무 달랐고, 토큰 길이 15 -> 17로 바꿨을 때에도 결과값이 너무 달랐다는 것이다. 길게 했을 땐, i like it, i like it, 등 반복되는 문장이 들어가서 그런지 단순 반복문이 나왔다는 것이다. \n",
        "\n",
        "- 그리고 뭣보다... **이번것도 너무 재밌다**!!!! 흐흐흐 인공지능을 통해 가사를 뽑아내다니.... 것도 생각보다 결과값이 있어보이고요?? 진짜 컴퓨터도 창작활동을 할 수 있는 세상이 올지도 모른다! 두근... \n",
        "\n",
        "- 그리고.... 안될 것 같다 싶으면... 더 매달리고 한번 더 돌리는 것 보다.... 걍 코드를 고치는게 더 빨리 해결하는 방법이다...."
      ],
      "metadata": {
        "id": "JQnzoHw07EvD"
      }
    },
    {
      "cell_type": "code",
      "source": [
        ""
      ],
      "metadata": {
        "id": "g_6RM2V4EdCJ"
      },
      "execution_count": null,
      "outputs": []
    }
  ]
}