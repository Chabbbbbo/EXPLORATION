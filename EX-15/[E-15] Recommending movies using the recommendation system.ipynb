{
  "nbformat": 4,
  "nbformat_minor": 0,
  "metadata": {
    "colab": {
      "name": "[E-15] Recommending movies using the recommendation system.ipynb",
      "provenance": [],
      "collapsed_sections": [],
      "machine_shape": "hm"
    },
    "kernelspec": {
      "name": "python3",
      "display_name": "Python 3"
    },
    "language_info": {
      "name": "python"
    },
    "accelerator": "GPU",
    "gpuClass": "standard",
    "widgets": {
      "application/vnd.jupyter.widget-state+json": {
        "7c5bbcf6745e4a73b269805e693dd15c": {
          "model_module": "@jupyter-widgets/controls",
          "model_name": "HBoxModel",
          "model_module_version": "1.5.0",
          "state": {
            "_dom_classes": [],
            "_model_module": "@jupyter-widgets/controls",
            "_model_module_version": "1.5.0",
            "_model_name": "HBoxModel",
            "_view_count": null,
            "_view_module": "@jupyter-widgets/controls",
            "_view_module_version": "1.5.0",
            "_view_name": "HBoxView",
            "box_style": "",
            "children": [
              "IPY_MODEL_77fc570daf6f4ff3ac781464b583a031",
              "IPY_MODEL_6959b957c7bf4e3d9dad554545adbc57",
              "IPY_MODEL_bbe9d6dbaa1f400cb56de82fa6b5431f"
            ],
            "layout": "IPY_MODEL_c14b94d7bf244923a98a3318165be562"
          }
        },
        "77fc570daf6f4ff3ac781464b583a031": {
          "model_module": "@jupyter-widgets/controls",
          "model_name": "HTMLModel",
          "model_module_version": "1.5.0",
          "state": {
            "_dom_classes": [],
            "_model_module": "@jupyter-widgets/controls",
            "_model_module_version": "1.5.0",
            "_model_name": "HTMLModel",
            "_view_count": null,
            "_view_module": "@jupyter-widgets/controls",
            "_view_module_version": "1.5.0",
            "_view_name": "HTMLView",
            "description": "",
            "description_tooltip": null,
            "layout": "IPY_MODEL_fdc701f14b66449b8fb32962123420a8",
            "placeholder": "​",
            "style": "IPY_MODEL_65f9cadc340c4819a153fea99a0ee925",
            "value": "100%"
          }
        },
        "6959b957c7bf4e3d9dad554545adbc57": {
          "model_module": "@jupyter-widgets/controls",
          "model_name": "FloatProgressModel",
          "model_module_version": "1.5.0",
          "state": {
            "_dom_classes": [],
            "_model_module": "@jupyter-widgets/controls",
            "_model_module_version": "1.5.0",
            "_model_name": "FloatProgressModel",
            "_view_count": null,
            "_view_module": "@jupyter-widgets/controls",
            "_view_module_version": "1.5.0",
            "_view_name": "ProgressView",
            "bar_style": "success",
            "description": "",
            "description_tooltip": null,
            "layout": "IPY_MODEL_579b48b221b647439fb0162262acde61",
            "max": 30,
            "min": 0,
            "orientation": "horizontal",
            "style": "IPY_MODEL_0a4fc82edd5c4777af8311d5e4aff164",
            "value": 30
          }
        },
        "bbe9d6dbaa1f400cb56de82fa6b5431f": {
          "model_module": "@jupyter-widgets/controls",
          "model_name": "HTMLModel",
          "model_module_version": "1.5.0",
          "state": {
            "_dom_classes": [],
            "_model_module": "@jupyter-widgets/controls",
            "_model_module_version": "1.5.0",
            "_model_name": "HTMLModel",
            "_view_count": null,
            "_view_module": "@jupyter-widgets/controls",
            "_view_module_version": "1.5.0",
            "_view_name": "HTMLView",
            "description": "",
            "description_tooltip": null,
            "layout": "IPY_MODEL_a82d4b3bcf574b9cbb92d571faf75797",
            "placeholder": "​",
            "style": "IPY_MODEL_cf0829656baa4517ace7fc3c6c374ccb",
            "value": " 30/30 [00:23&lt;00:00,  1.53it/s]"
          }
        },
        "c14b94d7bf244923a98a3318165be562": {
          "model_module": "@jupyter-widgets/base",
          "model_name": "LayoutModel",
          "model_module_version": "1.2.0",
          "state": {
            "_model_module": "@jupyter-widgets/base",
            "_model_module_version": "1.2.0",
            "_model_name": "LayoutModel",
            "_view_count": null,
            "_view_module": "@jupyter-widgets/base",
            "_view_module_version": "1.2.0",
            "_view_name": "LayoutView",
            "align_content": null,
            "align_items": null,
            "align_self": null,
            "border": null,
            "bottom": null,
            "display": null,
            "flex": null,
            "flex_flow": null,
            "grid_area": null,
            "grid_auto_columns": null,
            "grid_auto_flow": null,
            "grid_auto_rows": null,
            "grid_column": null,
            "grid_gap": null,
            "grid_row": null,
            "grid_template_areas": null,
            "grid_template_columns": null,
            "grid_template_rows": null,
            "height": null,
            "justify_content": null,
            "justify_items": null,
            "left": null,
            "margin": null,
            "max_height": null,
            "max_width": null,
            "min_height": null,
            "min_width": null,
            "object_fit": null,
            "object_position": null,
            "order": null,
            "overflow": null,
            "overflow_x": null,
            "overflow_y": null,
            "padding": null,
            "right": null,
            "top": null,
            "visibility": null,
            "width": null
          }
        },
        "fdc701f14b66449b8fb32962123420a8": {
          "model_module": "@jupyter-widgets/base",
          "model_name": "LayoutModel",
          "model_module_version": "1.2.0",
          "state": {
            "_model_module": "@jupyter-widgets/base",
            "_model_module_version": "1.2.0",
            "_model_name": "LayoutModel",
            "_view_count": null,
            "_view_module": "@jupyter-widgets/base",
            "_view_module_version": "1.2.0",
            "_view_name": "LayoutView",
            "align_content": null,
            "align_items": null,
            "align_self": null,
            "border": null,
            "bottom": null,
            "display": null,
            "flex": null,
            "flex_flow": null,
            "grid_area": null,
            "grid_auto_columns": null,
            "grid_auto_flow": null,
            "grid_auto_rows": null,
            "grid_column": null,
            "grid_gap": null,
            "grid_row": null,
            "grid_template_areas": null,
            "grid_template_columns": null,
            "grid_template_rows": null,
            "height": null,
            "justify_content": null,
            "justify_items": null,
            "left": null,
            "margin": null,
            "max_height": null,
            "max_width": null,
            "min_height": null,
            "min_width": null,
            "object_fit": null,
            "object_position": null,
            "order": null,
            "overflow": null,
            "overflow_x": null,
            "overflow_y": null,
            "padding": null,
            "right": null,
            "top": null,
            "visibility": null,
            "width": null
          }
        },
        "65f9cadc340c4819a153fea99a0ee925": {
          "model_module": "@jupyter-widgets/controls",
          "model_name": "DescriptionStyleModel",
          "model_module_version": "1.5.0",
          "state": {
            "_model_module": "@jupyter-widgets/controls",
            "_model_module_version": "1.5.0",
            "_model_name": "DescriptionStyleModel",
            "_view_count": null,
            "_view_module": "@jupyter-widgets/base",
            "_view_module_version": "1.2.0",
            "_view_name": "StyleView",
            "description_width": ""
          }
        },
        "579b48b221b647439fb0162262acde61": {
          "model_module": "@jupyter-widgets/base",
          "model_name": "LayoutModel",
          "model_module_version": "1.2.0",
          "state": {
            "_model_module": "@jupyter-widgets/base",
            "_model_module_version": "1.2.0",
            "_model_name": "LayoutModel",
            "_view_count": null,
            "_view_module": "@jupyter-widgets/base",
            "_view_module_version": "1.2.0",
            "_view_name": "LayoutView",
            "align_content": null,
            "align_items": null,
            "align_self": null,
            "border": null,
            "bottom": null,
            "display": null,
            "flex": null,
            "flex_flow": null,
            "grid_area": null,
            "grid_auto_columns": null,
            "grid_auto_flow": null,
            "grid_auto_rows": null,
            "grid_column": null,
            "grid_gap": null,
            "grid_row": null,
            "grid_template_areas": null,
            "grid_template_columns": null,
            "grid_template_rows": null,
            "height": null,
            "justify_content": null,
            "justify_items": null,
            "left": null,
            "margin": null,
            "max_height": null,
            "max_width": null,
            "min_height": null,
            "min_width": null,
            "object_fit": null,
            "object_position": null,
            "order": null,
            "overflow": null,
            "overflow_x": null,
            "overflow_y": null,
            "padding": null,
            "right": null,
            "top": null,
            "visibility": null,
            "width": null
          }
        },
        "0a4fc82edd5c4777af8311d5e4aff164": {
          "model_module": "@jupyter-widgets/controls",
          "model_name": "ProgressStyleModel",
          "model_module_version": "1.5.0",
          "state": {
            "_model_module": "@jupyter-widgets/controls",
            "_model_module_version": "1.5.0",
            "_model_name": "ProgressStyleModel",
            "_view_count": null,
            "_view_module": "@jupyter-widgets/base",
            "_view_module_version": "1.2.0",
            "_view_name": "StyleView",
            "bar_color": null,
            "description_width": ""
          }
        },
        "a82d4b3bcf574b9cbb92d571faf75797": {
          "model_module": "@jupyter-widgets/base",
          "model_name": "LayoutModel",
          "model_module_version": "1.2.0",
          "state": {
            "_model_module": "@jupyter-widgets/base",
            "_model_module_version": "1.2.0",
            "_model_name": "LayoutModel",
            "_view_count": null,
            "_view_module": "@jupyter-widgets/base",
            "_view_module_version": "1.2.0",
            "_view_name": "LayoutView",
            "align_content": null,
            "align_items": null,
            "align_self": null,
            "border": null,
            "bottom": null,
            "display": null,
            "flex": null,
            "flex_flow": null,
            "grid_area": null,
            "grid_auto_columns": null,
            "grid_auto_flow": null,
            "grid_auto_rows": null,
            "grid_column": null,
            "grid_gap": null,
            "grid_row": null,
            "grid_template_areas": null,
            "grid_template_columns": null,
            "grid_template_rows": null,
            "height": null,
            "justify_content": null,
            "justify_items": null,
            "left": null,
            "margin": null,
            "max_height": null,
            "max_width": null,
            "min_height": null,
            "min_width": null,
            "object_fit": null,
            "object_position": null,
            "order": null,
            "overflow": null,
            "overflow_x": null,
            "overflow_y": null,
            "padding": null,
            "right": null,
            "top": null,
            "visibility": null,
            "width": null
          }
        },
        "cf0829656baa4517ace7fc3c6c374ccb": {
          "model_module": "@jupyter-widgets/controls",
          "model_name": "DescriptionStyleModel",
          "model_module_version": "1.5.0",
          "state": {
            "_model_module": "@jupyter-widgets/controls",
            "_model_module_version": "1.5.0",
            "_model_name": "DescriptionStyleModel",
            "_view_count": null,
            "_view_module": "@jupyter-widgets/base",
            "_view_module_version": "1.2.0",
            "_view_name": "StyleView",
            "description_width": ""
          }
        },
        "7d20f88b76f042e9b2695c57f5f1a669": {
          "model_module": "@jupyter-widgets/controls",
          "model_name": "HBoxModel",
          "model_module_version": "1.5.0",
          "state": {
            "_dom_classes": [],
            "_model_module": "@jupyter-widgets/controls",
            "_model_module_version": "1.5.0",
            "_model_name": "HBoxModel",
            "_view_count": null,
            "_view_module": "@jupyter-widgets/controls",
            "_view_module_version": "1.5.0",
            "_view_name": "HBoxView",
            "box_style": "",
            "children": [
              "IPY_MODEL_f8dc3c650443406abb558c2dc92432b0",
              "IPY_MODEL_b44972e383df4ee689b06751ac7068c4",
              "IPY_MODEL_b6ae3376a64c4230bf1dadd037e9efc7"
            ],
            "layout": "IPY_MODEL_b2faba3d2a0741828768d610d76dfff6"
          }
        },
        "f8dc3c650443406abb558c2dc92432b0": {
          "model_module": "@jupyter-widgets/controls",
          "model_name": "HTMLModel",
          "model_module_version": "1.5.0",
          "state": {
            "_dom_classes": [],
            "_model_module": "@jupyter-widgets/controls",
            "_model_module_version": "1.5.0",
            "_model_name": "HTMLModel",
            "_view_count": null,
            "_view_module": "@jupyter-widgets/controls",
            "_view_module_version": "1.5.0",
            "_view_name": "HTMLView",
            "description": "",
            "description_tooltip": null,
            "layout": "IPY_MODEL_80e6547acd464bbcbbbd8fbf6a83aa5f",
            "placeholder": "​",
            "style": "IPY_MODEL_b896b3832a0745f794560c22e935cd08",
            "value": "100%"
          }
        },
        "b44972e383df4ee689b06751ac7068c4": {
          "model_module": "@jupyter-widgets/controls",
          "model_name": "FloatProgressModel",
          "model_module_version": "1.5.0",
          "state": {
            "_dom_classes": [],
            "_model_module": "@jupyter-widgets/controls",
            "_model_module_version": "1.5.0",
            "_model_name": "FloatProgressModel",
            "_view_count": null,
            "_view_module": "@jupyter-widgets/controls",
            "_view_module_version": "1.5.0",
            "_view_name": "ProgressView",
            "bar_style": "success",
            "description": "",
            "description_tooltip": null,
            "layout": "IPY_MODEL_d5cbe5e6416342e1a8272e6e3820a1de",
            "max": 1000,
            "min": 0,
            "orientation": "horizontal",
            "style": "IPY_MODEL_cd31db44492d4f3f994d9e2d2bcf9fd7",
            "value": 1000
          }
        },
        "b6ae3376a64c4230bf1dadd037e9efc7": {
          "model_module": "@jupyter-widgets/controls",
          "model_name": "HTMLModel",
          "model_module_version": "1.5.0",
          "state": {
            "_dom_classes": [],
            "_model_module": "@jupyter-widgets/controls",
            "_model_module_version": "1.5.0",
            "_model_name": "HTMLModel",
            "_view_count": null,
            "_view_module": "@jupyter-widgets/controls",
            "_view_module_version": "1.5.0",
            "_view_name": "HTMLView",
            "description": "",
            "description_tooltip": null,
            "layout": "IPY_MODEL_c289c7579bf249e09f023842b10a65cc",
            "placeholder": "​",
            "style": "IPY_MODEL_36ee081b3ff944b18f8c23cc1e0f42a2",
            "value": " 1000/1000 [11:29&lt;00:00,  1.66it/s]"
          }
        },
        "b2faba3d2a0741828768d610d76dfff6": {
          "model_module": "@jupyter-widgets/base",
          "model_name": "LayoutModel",
          "model_module_version": "1.2.0",
          "state": {
            "_model_module": "@jupyter-widgets/base",
            "_model_module_version": "1.2.0",
            "_model_name": "LayoutModel",
            "_view_count": null,
            "_view_module": "@jupyter-widgets/base",
            "_view_module_version": "1.2.0",
            "_view_name": "LayoutView",
            "align_content": null,
            "align_items": null,
            "align_self": null,
            "border": null,
            "bottom": null,
            "display": null,
            "flex": null,
            "flex_flow": null,
            "grid_area": null,
            "grid_auto_columns": null,
            "grid_auto_flow": null,
            "grid_auto_rows": null,
            "grid_column": null,
            "grid_gap": null,
            "grid_row": null,
            "grid_template_areas": null,
            "grid_template_columns": null,
            "grid_template_rows": null,
            "height": null,
            "justify_content": null,
            "justify_items": null,
            "left": null,
            "margin": null,
            "max_height": null,
            "max_width": null,
            "min_height": null,
            "min_width": null,
            "object_fit": null,
            "object_position": null,
            "order": null,
            "overflow": null,
            "overflow_x": null,
            "overflow_y": null,
            "padding": null,
            "right": null,
            "top": null,
            "visibility": null,
            "width": null
          }
        },
        "80e6547acd464bbcbbbd8fbf6a83aa5f": {
          "model_module": "@jupyter-widgets/base",
          "model_name": "LayoutModel",
          "model_module_version": "1.2.0",
          "state": {
            "_model_module": "@jupyter-widgets/base",
            "_model_module_version": "1.2.0",
            "_model_name": "LayoutModel",
            "_view_count": null,
            "_view_module": "@jupyter-widgets/base",
            "_view_module_version": "1.2.0",
            "_view_name": "LayoutView",
            "align_content": null,
            "align_items": null,
            "align_self": null,
            "border": null,
            "bottom": null,
            "display": null,
            "flex": null,
            "flex_flow": null,
            "grid_area": null,
            "grid_auto_columns": null,
            "grid_auto_flow": null,
            "grid_auto_rows": null,
            "grid_column": null,
            "grid_gap": null,
            "grid_row": null,
            "grid_template_areas": null,
            "grid_template_columns": null,
            "grid_template_rows": null,
            "height": null,
            "justify_content": null,
            "justify_items": null,
            "left": null,
            "margin": null,
            "max_height": null,
            "max_width": null,
            "min_height": null,
            "min_width": null,
            "object_fit": null,
            "object_position": null,
            "order": null,
            "overflow": null,
            "overflow_x": null,
            "overflow_y": null,
            "padding": null,
            "right": null,
            "top": null,
            "visibility": null,
            "width": null
          }
        },
        "b896b3832a0745f794560c22e935cd08": {
          "model_module": "@jupyter-widgets/controls",
          "model_name": "DescriptionStyleModel",
          "model_module_version": "1.5.0",
          "state": {
            "_model_module": "@jupyter-widgets/controls",
            "_model_module_version": "1.5.0",
            "_model_name": "DescriptionStyleModel",
            "_view_count": null,
            "_view_module": "@jupyter-widgets/base",
            "_view_module_version": "1.2.0",
            "_view_name": "StyleView",
            "description_width": ""
          }
        },
        "d5cbe5e6416342e1a8272e6e3820a1de": {
          "model_module": "@jupyter-widgets/base",
          "model_name": "LayoutModel",
          "model_module_version": "1.2.0",
          "state": {
            "_model_module": "@jupyter-widgets/base",
            "_model_module_version": "1.2.0",
            "_model_name": "LayoutModel",
            "_view_count": null,
            "_view_module": "@jupyter-widgets/base",
            "_view_module_version": "1.2.0",
            "_view_name": "LayoutView",
            "align_content": null,
            "align_items": null,
            "align_self": null,
            "border": null,
            "bottom": null,
            "display": null,
            "flex": null,
            "flex_flow": null,
            "grid_area": null,
            "grid_auto_columns": null,
            "grid_auto_flow": null,
            "grid_auto_rows": null,
            "grid_column": null,
            "grid_gap": null,
            "grid_row": null,
            "grid_template_areas": null,
            "grid_template_columns": null,
            "grid_template_rows": null,
            "height": null,
            "justify_content": null,
            "justify_items": null,
            "left": null,
            "margin": null,
            "max_height": null,
            "max_width": null,
            "min_height": null,
            "min_width": null,
            "object_fit": null,
            "object_position": null,
            "order": null,
            "overflow": null,
            "overflow_x": null,
            "overflow_y": null,
            "padding": null,
            "right": null,
            "top": null,
            "visibility": null,
            "width": null
          }
        },
        "cd31db44492d4f3f994d9e2d2bcf9fd7": {
          "model_module": "@jupyter-widgets/controls",
          "model_name": "ProgressStyleModel",
          "model_module_version": "1.5.0",
          "state": {
            "_model_module": "@jupyter-widgets/controls",
            "_model_module_version": "1.5.0",
            "_model_name": "ProgressStyleModel",
            "_view_count": null,
            "_view_module": "@jupyter-widgets/base",
            "_view_module_version": "1.2.0",
            "_view_name": "StyleView",
            "bar_color": null,
            "description_width": ""
          }
        },
        "c289c7579bf249e09f023842b10a65cc": {
          "model_module": "@jupyter-widgets/base",
          "model_name": "LayoutModel",
          "model_module_version": "1.2.0",
          "state": {
            "_model_module": "@jupyter-widgets/base",
            "_model_module_version": "1.2.0",
            "_model_name": "LayoutModel",
            "_view_count": null,
            "_view_module": "@jupyter-widgets/base",
            "_view_module_version": "1.2.0",
            "_view_name": "LayoutView",
            "align_content": null,
            "align_items": null,
            "align_self": null,
            "border": null,
            "bottom": null,
            "display": null,
            "flex": null,
            "flex_flow": null,
            "grid_area": null,
            "grid_auto_columns": null,
            "grid_auto_flow": null,
            "grid_auto_rows": null,
            "grid_column": null,
            "grid_gap": null,
            "grid_row": null,
            "grid_template_areas": null,
            "grid_template_columns": null,
            "grid_template_rows": null,
            "height": null,
            "justify_content": null,
            "justify_items": null,
            "left": null,
            "margin": null,
            "max_height": null,
            "max_width": null,
            "min_height": null,
            "min_width": null,
            "object_fit": null,
            "object_position": null,
            "order": null,
            "overflow": null,
            "overflow_x": null,
            "overflow_y": null,
            "padding": null,
            "right": null,
            "top": null,
            "visibility": null,
            "width": null
          }
        },
        "36ee081b3ff944b18f8c23cc1e0f42a2": {
          "model_module": "@jupyter-widgets/controls",
          "model_name": "DescriptionStyleModel",
          "model_module_version": "1.5.0",
          "state": {
            "_model_module": "@jupyter-widgets/controls",
            "_model_module_version": "1.5.0",
            "_model_name": "DescriptionStyleModel",
            "_view_count": null,
            "_view_module": "@jupyter-widgets/base",
            "_view_module_version": "1.2.0",
            "_view_name": "StyleView",
            "description_width": ""
          }
        },
        "aedc96c1cc9041d3883f87e978de2c0b": {
          "model_module": "@jupyter-widgets/controls",
          "model_name": "HBoxModel",
          "model_module_version": "1.5.0",
          "state": {
            "_dom_classes": [],
            "_model_module": "@jupyter-widgets/controls",
            "_model_module_version": "1.5.0",
            "_model_name": "HBoxModel",
            "_view_count": null,
            "_view_module": "@jupyter-widgets/controls",
            "_view_module_version": "1.5.0",
            "_view_name": "HBoxView",
            "box_style": "",
            "children": [
              "IPY_MODEL_be3a32fb06754524ab2fec36fd3ad369",
              "IPY_MODEL_39304e84fafb45c8ad412c72e7bf22a4",
              "IPY_MODEL_958899191028428dad330b2c5cfb9cc6"
            ],
            "layout": "IPY_MODEL_e7970ba5e375452c8c7743dc273c2800"
          }
        },
        "be3a32fb06754524ab2fec36fd3ad369": {
          "model_module": "@jupyter-widgets/controls",
          "model_name": "HTMLModel",
          "model_module_version": "1.5.0",
          "state": {
            "_dom_classes": [],
            "_model_module": "@jupyter-widgets/controls",
            "_model_module_version": "1.5.0",
            "_model_name": "HTMLModel",
            "_view_count": null,
            "_view_module": "@jupyter-widgets/controls",
            "_view_module_version": "1.5.0",
            "_view_name": "HTMLView",
            "description": "",
            "description_tooltip": null,
            "layout": "IPY_MODEL_65844994a26346e9bfcd64532758639d",
            "placeholder": "​",
            "style": "IPY_MODEL_580c6af1ef384840b32e38176c374b03",
            "value": "100%"
          }
        },
        "39304e84fafb45c8ad412c72e7bf22a4": {
          "model_module": "@jupyter-widgets/controls",
          "model_name": "FloatProgressModel",
          "model_module_version": "1.5.0",
          "state": {
            "_dom_classes": [],
            "_model_module": "@jupyter-widgets/controls",
            "_model_module_version": "1.5.0",
            "_model_name": "FloatProgressModel",
            "_view_count": null,
            "_view_module": "@jupyter-widgets/controls",
            "_view_module_version": "1.5.0",
            "_view_name": "ProgressView",
            "bar_style": "success",
            "description": "",
            "description_tooltip": null,
            "layout": "IPY_MODEL_56d61b6a72f447b6b287884db11b8c57",
            "max": 100,
            "min": 0,
            "orientation": "horizontal",
            "style": "IPY_MODEL_50e33af327a14ba9bebc8c614dee0476",
            "value": 100
          }
        },
        "958899191028428dad330b2c5cfb9cc6": {
          "model_module": "@jupyter-widgets/controls",
          "model_name": "HTMLModel",
          "model_module_version": "1.5.0",
          "state": {
            "_dom_classes": [],
            "_model_module": "@jupyter-widgets/controls",
            "_model_module_version": "1.5.0",
            "_model_name": "HTMLModel",
            "_view_count": null,
            "_view_module": "@jupyter-widgets/controls",
            "_view_module_version": "1.5.0",
            "_view_name": "HTMLView",
            "description": "",
            "description_tooltip": null,
            "layout": "IPY_MODEL_651ca9f29ed048629eaf4049b56eab59",
            "placeholder": "​",
            "style": "IPY_MODEL_a053c2ffb5c74bbb81f7e690e21af351",
            "value": " 100/100 [01:11&lt;00:00,  1.36it/s]"
          }
        },
        "e7970ba5e375452c8c7743dc273c2800": {
          "model_module": "@jupyter-widgets/base",
          "model_name": "LayoutModel",
          "model_module_version": "1.2.0",
          "state": {
            "_model_module": "@jupyter-widgets/base",
            "_model_module_version": "1.2.0",
            "_model_name": "LayoutModel",
            "_view_count": null,
            "_view_module": "@jupyter-widgets/base",
            "_view_module_version": "1.2.0",
            "_view_name": "LayoutView",
            "align_content": null,
            "align_items": null,
            "align_self": null,
            "border": null,
            "bottom": null,
            "display": null,
            "flex": null,
            "flex_flow": null,
            "grid_area": null,
            "grid_auto_columns": null,
            "grid_auto_flow": null,
            "grid_auto_rows": null,
            "grid_column": null,
            "grid_gap": null,
            "grid_row": null,
            "grid_template_areas": null,
            "grid_template_columns": null,
            "grid_template_rows": null,
            "height": null,
            "justify_content": null,
            "justify_items": null,
            "left": null,
            "margin": null,
            "max_height": null,
            "max_width": null,
            "min_height": null,
            "min_width": null,
            "object_fit": null,
            "object_position": null,
            "order": null,
            "overflow": null,
            "overflow_x": null,
            "overflow_y": null,
            "padding": null,
            "right": null,
            "top": null,
            "visibility": null,
            "width": null
          }
        },
        "65844994a26346e9bfcd64532758639d": {
          "model_module": "@jupyter-widgets/base",
          "model_name": "LayoutModel",
          "model_module_version": "1.2.0",
          "state": {
            "_model_module": "@jupyter-widgets/base",
            "_model_module_version": "1.2.0",
            "_model_name": "LayoutModel",
            "_view_count": null,
            "_view_module": "@jupyter-widgets/base",
            "_view_module_version": "1.2.0",
            "_view_name": "LayoutView",
            "align_content": null,
            "align_items": null,
            "align_self": null,
            "border": null,
            "bottom": null,
            "display": null,
            "flex": null,
            "flex_flow": null,
            "grid_area": null,
            "grid_auto_columns": null,
            "grid_auto_flow": null,
            "grid_auto_rows": null,
            "grid_column": null,
            "grid_gap": null,
            "grid_row": null,
            "grid_template_areas": null,
            "grid_template_columns": null,
            "grid_template_rows": null,
            "height": null,
            "justify_content": null,
            "justify_items": null,
            "left": null,
            "margin": null,
            "max_height": null,
            "max_width": null,
            "min_height": null,
            "min_width": null,
            "object_fit": null,
            "object_position": null,
            "order": null,
            "overflow": null,
            "overflow_x": null,
            "overflow_y": null,
            "padding": null,
            "right": null,
            "top": null,
            "visibility": null,
            "width": null
          }
        },
        "580c6af1ef384840b32e38176c374b03": {
          "model_module": "@jupyter-widgets/controls",
          "model_name": "DescriptionStyleModel",
          "model_module_version": "1.5.0",
          "state": {
            "_model_module": "@jupyter-widgets/controls",
            "_model_module_version": "1.5.0",
            "_model_name": "DescriptionStyleModel",
            "_view_count": null,
            "_view_module": "@jupyter-widgets/base",
            "_view_module_version": "1.2.0",
            "_view_name": "StyleView",
            "description_width": ""
          }
        },
        "56d61b6a72f447b6b287884db11b8c57": {
          "model_module": "@jupyter-widgets/base",
          "model_name": "LayoutModel",
          "model_module_version": "1.2.0",
          "state": {
            "_model_module": "@jupyter-widgets/base",
            "_model_module_version": "1.2.0",
            "_model_name": "LayoutModel",
            "_view_count": null,
            "_view_module": "@jupyter-widgets/base",
            "_view_module_version": "1.2.0",
            "_view_name": "LayoutView",
            "align_content": null,
            "align_items": null,
            "align_self": null,
            "border": null,
            "bottom": null,
            "display": null,
            "flex": null,
            "flex_flow": null,
            "grid_area": null,
            "grid_auto_columns": null,
            "grid_auto_flow": null,
            "grid_auto_rows": null,
            "grid_column": null,
            "grid_gap": null,
            "grid_row": null,
            "grid_template_areas": null,
            "grid_template_columns": null,
            "grid_template_rows": null,
            "height": null,
            "justify_content": null,
            "justify_items": null,
            "left": null,
            "margin": null,
            "max_height": null,
            "max_width": null,
            "min_height": null,
            "min_width": null,
            "object_fit": null,
            "object_position": null,
            "order": null,
            "overflow": null,
            "overflow_x": null,
            "overflow_y": null,
            "padding": null,
            "right": null,
            "top": null,
            "visibility": null,
            "width": null
          }
        },
        "50e33af327a14ba9bebc8c614dee0476": {
          "model_module": "@jupyter-widgets/controls",
          "model_name": "ProgressStyleModel",
          "model_module_version": "1.5.0",
          "state": {
            "_model_module": "@jupyter-widgets/controls",
            "_model_module_version": "1.5.0",
            "_model_name": "ProgressStyleModel",
            "_view_count": null,
            "_view_module": "@jupyter-widgets/base",
            "_view_module_version": "1.2.0",
            "_view_name": "StyleView",
            "bar_color": null,
            "description_width": ""
          }
        },
        "651ca9f29ed048629eaf4049b56eab59": {
          "model_module": "@jupyter-widgets/base",
          "model_name": "LayoutModel",
          "model_module_version": "1.2.0",
          "state": {
            "_model_module": "@jupyter-widgets/base",
            "_model_module_version": "1.2.0",
            "_model_name": "LayoutModel",
            "_view_count": null,
            "_view_module": "@jupyter-widgets/base",
            "_view_module_version": "1.2.0",
            "_view_name": "LayoutView",
            "align_content": null,
            "align_items": null,
            "align_self": null,
            "border": null,
            "bottom": null,
            "display": null,
            "flex": null,
            "flex_flow": null,
            "grid_area": null,
            "grid_auto_columns": null,
            "grid_auto_flow": null,
            "grid_auto_rows": null,
            "grid_column": null,
            "grid_gap": null,
            "grid_row": null,
            "grid_template_areas": null,
            "grid_template_columns": null,
            "grid_template_rows": null,
            "height": null,
            "justify_content": null,
            "justify_items": null,
            "left": null,
            "margin": null,
            "max_height": null,
            "max_width": null,
            "min_height": null,
            "min_width": null,
            "object_fit": null,
            "object_position": null,
            "order": null,
            "overflow": null,
            "overflow_x": null,
            "overflow_y": null,
            "padding": null,
            "right": null,
            "top": null,
            "visibility": null,
            "width": null
          }
        },
        "a053c2ffb5c74bbb81f7e690e21af351": {
          "model_module": "@jupyter-widgets/controls",
          "model_name": "DescriptionStyleModel",
          "model_module_version": "1.5.0",
          "state": {
            "_model_module": "@jupyter-widgets/controls",
            "_model_module_version": "1.5.0",
            "_model_name": "DescriptionStyleModel",
            "_view_count": null,
            "_view_module": "@jupyter-widgets/base",
            "_view_module_version": "1.2.0",
            "_view_name": "StyleView",
            "description_width": ""
          }
        },
        "75441b3433d0472ead21c9cab1791e12": {
          "model_module": "@jupyter-widgets/controls",
          "model_name": "HBoxModel",
          "model_module_version": "1.5.0",
          "state": {
            "_dom_classes": [],
            "_model_module": "@jupyter-widgets/controls",
            "_model_module_version": "1.5.0",
            "_model_name": "HBoxModel",
            "_view_count": null,
            "_view_module": "@jupyter-widgets/controls",
            "_view_module_version": "1.5.0",
            "_view_name": "HBoxView",
            "box_style": "",
            "children": [
              "IPY_MODEL_3b14df803b464e4197f5a73491722018",
              "IPY_MODEL_7c7c7b45f31c4021aaf1ba76f91b5b74",
              "IPY_MODEL_106779ace68e49e6922317789eb6bb50"
            ],
            "layout": "IPY_MODEL_ec5f525600d24cf2b7785920eef66040"
          }
        },
        "3b14df803b464e4197f5a73491722018": {
          "model_module": "@jupyter-widgets/controls",
          "model_name": "HTMLModel",
          "model_module_version": "1.5.0",
          "state": {
            "_dom_classes": [],
            "_model_module": "@jupyter-widgets/controls",
            "_model_module_version": "1.5.0",
            "_model_name": "HTMLModel",
            "_view_count": null,
            "_view_module": "@jupyter-widgets/controls",
            "_view_module_version": "1.5.0",
            "_view_name": "HTMLView",
            "description": "",
            "description_tooltip": null,
            "layout": "IPY_MODEL_7469856adb64455085fb4586a1d0f44c",
            "placeholder": "​",
            "style": "IPY_MODEL_779a8e8f1d9748899453d77c4cb5ec2c",
            "value": "100%"
          }
        },
        "7c7c7b45f31c4021aaf1ba76f91b5b74": {
          "model_module": "@jupyter-widgets/controls",
          "model_name": "FloatProgressModel",
          "model_module_version": "1.5.0",
          "state": {
            "_dom_classes": [],
            "_model_module": "@jupyter-widgets/controls",
            "_model_module_version": "1.5.0",
            "_model_name": "FloatProgressModel",
            "_view_count": null,
            "_view_module": "@jupyter-widgets/controls",
            "_view_module_version": "1.5.0",
            "_view_name": "ProgressView",
            "bar_style": "success",
            "description": "",
            "description_tooltip": null,
            "layout": "IPY_MODEL_94255b7934e145aa912529f060bd9827",
            "max": 1000,
            "min": 0,
            "orientation": "horizontal",
            "style": "IPY_MODEL_2e87e09266774f44b0c0eee19cb392ab",
            "value": 1000
          }
        },
        "106779ace68e49e6922317789eb6bb50": {
          "model_module": "@jupyter-widgets/controls",
          "model_name": "HTMLModel",
          "model_module_version": "1.5.0",
          "state": {
            "_dom_classes": [],
            "_model_module": "@jupyter-widgets/controls",
            "_model_module_version": "1.5.0",
            "_model_name": "HTMLModel",
            "_view_count": null,
            "_view_module": "@jupyter-widgets/controls",
            "_view_module_version": "1.5.0",
            "_view_name": "HTMLView",
            "description": "",
            "description_tooltip": null,
            "layout": "IPY_MODEL_ef2088da34ca47ab82ff25781ead4547",
            "placeholder": "​",
            "style": "IPY_MODEL_d4ef532e61a14bd981aa61f626505a0c",
            "value": " 1000/1000 [11:41&lt;00:00,  1.15it/s]"
          }
        },
        "ec5f525600d24cf2b7785920eef66040": {
          "model_module": "@jupyter-widgets/base",
          "model_name": "LayoutModel",
          "model_module_version": "1.2.0",
          "state": {
            "_model_module": "@jupyter-widgets/base",
            "_model_module_version": "1.2.0",
            "_model_name": "LayoutModel",
            "_view_count": null,
            "_view_module": "@jupyter-widgets/base",
            "_view_module_version": "1.2.0",
            "_view_name": "LayoutView",
            "align_content": null,
            "align_items": null,
            "align_self": null,
            "border": null,
            "bottom": null,
            "display": null,
            "flex": null,
            "flex_flow": null,
            "grid_area": null,
            "grid_auto_columns": null,
            "grid_auto_flow": null,
            "grid_auto_rows": null,
            "grid_column": null,
            "grid_gap": null,
            "grid_row": null,
            "grid_template_areas": null,
            "grid_template_columns": null,
            "grid_template_rows": null,
            "height": null,
            "justify_content": null,
            "justify_items": null,
            "left": null,
            "margin": null,
            "max_height": null,
            "max_width": null,
            "min_height": null,
            "min_width": null,
            "object_fit": null,
            "object_position": null,
            "order": null,
            "overflow": null,
            "overflow_x": null,
            "overflow_y": null,
            "padding": null,
            "right": null,
            "top": null,
            "visibility": null,
            "width": null
          }
        },
        "7469856adb64455085fb4586a1d0f44c": {
          "model_module": "@jupyter-widgets/base",
          "model_name": "LayoutModel",
          "model_module_version": "1.2.0",
          "state": {
            "_model_module": "@jupyter-widgets/base",
            "_model_module_version": "1.2.0",
            "_model_name": "LayoutModel",
            "_view_count": null,
            "_view_module": "@jupyter-widgets/base",
            "_view_module_version": "1.2.0",
            "_view_name": "LayoutView",
            "align_content": null,
            "align_items": null,
            "align_self": null,
            "border": null,
            "bottom": null,
            "display": null,
            "flex": null,
            "flex_flow": null,
            "grid_area": null,
            "grid_auto_columns": null,
            "grid_auto_flow": null,
            "grid_auto_rows": null,
            "grid_column": null,
            "grid_gap": null,
            "grid_row": null,
            "grid_template_areas": null,
            "grid_template_columns": null,
            "grid_template_rows": null,
            "height": null,
            "justify_content": null,
            "justify_items": null,
            "left": null,
            "margin": null,
            "max_height": null,
            "max_width": null,
            "min_height": null,
            "min_width": null,
            "object_fit": null,
            "object_position": null,
            "order": null,
            "overflow": null,
            "overflow_x": null,
            "overflow_y": null,
            "padding": null,
            "right": null,
            "top": null,
            "visibility": null,
            "width": null
          }
        },
        "779a8e8f1d9748899453d77c4cb5ec2c": {
          "model_module": "@jupyter-widgets/controls",
          "model_name": "DescriptionStyleModel",
          "model_module_version": "1.5.0",
          "state": {
            "_model_module": "@jupyter-widgets/controls",
            "_model_module_version": "1.5.0",
            "_model_name": "DescriptionStyleModel",
            "_view_count": null,
            "_view_module": "@jupyter-widgets/base",
            "_view_module_version": "1.2.0",
            "_view_name": "StyleView",
            "description_width": ""
          }
        },
        "94255b7934e145aa912529f060bd9827": {
          "model_module": "@jupyter-widgets/base",
          "model_name": "LayoutModel",
          "model_module_version": "1.2.0",
          "state": {
            "_model_module": "@jupyter-widgets/base",
            "_model_module_version": "1.2.0",
            "_model_name": "LayoutModel",
            "_view_count": null,
            "_view_module": "@jupyter-widgets/base",
            "_view_module_version": "1.2.0",
            "_view_name": "LayoutView",
            "align_content": null,
            "align_items": null,
            "align_self": null,
            "border": null,
            "bottom": null,
            "display": null,
            "flex": null,
            "flex_flow": null,
            "grid_area": null,
            "grid_auto_columns": null,
            "grid_auto_flow": null,
            "grid_auto_rows": null,
            "grid_column": null,
            "grid_gap": null,
            "grid_row": null,
            "grid_template_areas": null,
            "grid_template_columns": null,
            "grid_template_rows": null,
            "height": null,
            "justify_content": null,
            "justify_items": null,
            "left": null,
            "margin": null,
            "max_height": null,
            "max_width": null,
            "min_height": null,
            "min_width": null,
            "object_fit": null,
            "object_position": null,
            "order": null,
            "overflow": null,
            "overflow_x": null,
            "overflow_y": null,
            "padding": null,
            "right": null,
            "top": null,
            "visibility": null,
            "width": null
          }
        },
        "2e87e09266774f44b0c0eee19cb392ab": {
          "model_module": "@jupyter-widgets/controls",
          "model_name": "ProgressStyleModel",
          "model_module_version": "1.5.0",
          "state": {
            "_model_module": "@jupyter-widgets/controls",
            "_model_module_version": "1.5.0",
            "_model_name": "ProgressStyleModel",
            "_view_count": null,
            "_view_module": "@jupyter-widgets/base",
            "_view_module_version": "1.2.0",
            "_view_name": "StyleView",
            "bar_color": null,
            "description_width": ""
          }
        },
        "ef2088da34ca47ab82ff25781ead4547": {
          "model_module": "@jupyter-widgets/base",
          "model_name": "LayoutModel",
          "model_module_version": "1.2.0",
          "state": {
            "_model_module": "@jupyter-widgets/base",
            "_model_module_version": "1.2.0",
            "_model_name": "LayoutModel",
            "_view_count": null,
            "_view_module": "@jupyter-widgets/base",
            "_view_module_version": "1.2.0",
            "_view_name": "LayoutView",
            "align_content": null,
            "align_items": null,
            "align_self": null,
            "border": null,
            "bottom": null,
            "display": null,
            "flex": null,
            "flex_flow": null,
            "grid_area": null,
            "grid_auto_columns": null,
            "grid_auto_flow": null,
            "grid_auto_rows": null,
            "grid_column": null,
            "grid_gap": null,
            "grid_row": null,
            "grid_template_areas": null,
            "grid_template_columns": null,
            "grid_template_rows": null,
            "height": null,
            "justify_content": null,
            "justify_items": null,
            "left": null,
            "margin": null,
            "max_height": null,
            "max_width": null,
            "min_height": null,
            "min_width": null,
            "object_fit": null,
            "object_position": null,
            "order": null,
            "overflow": null,
            "overflow_x": null,
            "overflow_y": null,
            "padding": null,
            "right": null,
            "top": null,
            "visibility": null,
            "width": null
          }
        },
        "d4ef532e61a14bd981aa61f626505a0c": {
          "model_module": "@jupyter-widgets/controls",
          "model_name": "DescriptionStyleModel",
          "model_module_version": "1.5.0",
          "state": {
            "_model_module": "@jupyter-widgets/controls",
            "_model_module_version": "1.5.0",
            "_model_name": "DescriptionStyleModel",
            "_view_count": null,
            "_view_module": "@jupyter-widgets/base",
            "_view_module_version": "1.2.0",
            "_view_name": "StyleView",
            "description_width": ""
          }
        },
        "403fe25f499048618f0a973dc348e370": {
          "model_module": "@jupyter-widgets/controls",
          "model_name": "HBoxModel",
          "model_module_version": "1.5.0",
          "state": {
            "_dom_classes": [],
            "_model_module": "@jupyter-widgets/controls",
            "_model_module_version": "1.5.0",
            "_model_name": "HBoxModel",
            "_view_count": null,
            "_view_module": "@jupyter-widgets/controls",
            "_view_module_version": "1.5.0",
            "_view_name": "HBoxView",
            "box_style": "",
            "children": [
              "IPY_MODEL_13c554899e4f48819e062f52afc16948",
              "IPY_MODEL_484a312a38f249f28ac1e604a2fc3473",
              "IPY_MODEL_05c01b56c5e34fa88afcae2c108ed1c7"
            ],
            "layout": "IPY_MODEL_9e69206675784d32bebd2ef8c2803925"
          }
        },
        "13c554899e4f48819e062f52afc16948": {
          "model_module": "@jupyter-widgets/controls",
          "model_name": "HTMLModel",
          "model_module_version": "1.5.0",
          "state": {
            "_dom_classes": [],
            "_model_module": "@jupyter-widgets/controls",
            "_model_module_version": "1.5.0",
            "_model_name": "HTMLModel",
            "_view_count": null,
            "_view_module": "@jupyter-widgets/controls",
            "_view_module_version": "1.5.0",
            "_view_name": "HTMLView",
            "description": "",
            "description_tooltip": null,
            "layout": "IPY_MODEL_08b53b4a5b22448787d195b2f6df1d3f",
            "placeholder": "​",
            "style": "IPY_MODEL_24aab8be280643fa9f24dd6ab18ed886",
            "value": "100%"
          }
        },
        "484a312a38f249f28ac1e604a2fc3473": {
          "model_module": "@jupyter-widgets/controls",
          "model_name": "FloatProgressModel",
          "model_module_version": "1.5.0",
          "state": {
            "_dom_classes": [],
            "_model_module": "@jupyter-widgets/controls",
            "_model_module_version": "1.5.0",
            "_model_name": "FloatProgressModel",
            "_view_count": null,
            "_view_module": "@jupyter-widgets/controls",
            "_view_module_version": "1.5.0",
            "_view_name": "ProgressView",
            "bar_style": "success",
            "description": "",
            "description_tooltip": null,
            "layout": "IPY_MODEL_ea14db8157e34dada4cef0f054638f48",
            "max": 100,
            "min": 0,
            "orientation": "horizontal",
            "style": "IPY_MODEL_b85e0be36fdc41e08bd7124567d1fc6b",
            "value": 100
          }
        },
        "05c01b56c5e34fa88afcae2c108ed1c7": {
          "model_module": "@jupyter-widgets/controls",
          "model_name": "HTMLModel",
          "model_module_version": "1.5.0",
          "state": {
            "_dom_classes": [],
            "_model_module": "@jupyter-widgets/controls",
            "_model_module_version": "1.5.0",
            "_model_name": "HTMLModel",
            "_view_count": null,
            "_view_module": "@jupyter-widgets/controls",
            "_view_module_version": "1.5.0",
            "_view_name": "HTMLView",
            "description": "",
            "description_tooltip": null,
            "layout": "IPY_MODEL_e04379f28c1043599b2dd2770924352f",
            "placeholder": "​",
            "style": "IPY_MODEL_fb87c01e98a741f6b6fae6bc5c2913c3",
            "value": " 100/100 [01:14&lt;00:00,  1.48it/s]"
          }
        },
        "9e69206675784d32bebd2ef8c2803925": {
          "model_module": "@jupyter-widgets/base",
          "model_name": "LayoutModel",
          "model_module_version": "1.2.0",
          "state": {
            "_model_module": "@jupyter-widgets/base",
            "_model_module_version": "1.2.0",
            "_model_name": "LayoutModel",
            "_view_count": null,
            "_view_module": "@jupyter-widgets/base",
            "_view_module_version": "1.2.0",
            "_view_name": "LayoutView",
            "align_content": null,
            "align_items": null,
            "align_self": null,
            "border": null,
            "bottom": null,
            "display": null,
            "flex": null,
            "flex_flow": null,
            "grid_area": null,
            "grid_auto_columns": null,
            "grid_auto_flow": null,
            "grid_auto_rows": null,
            "grid_column": null,
            "grid_gap": null,
            "grid_row": null,
            "grid_template_areas": null,
            "grid_template_columns": null,
            "grid_template_rows": null,
            "height": null,
            "justify_content": null,
            "justify_items": null,
            "left": null,
            "margin": null,
            "max_height": null,
            "max_width": null,
            "min_height": null,
            "min_width": null,
            "object_fit": null,
            "object_position": null,
            "order": null,
            "overflow": null,
            "overflow_x": null,
            "overflow_y": null,
            "padding": null,
            "right": null,
            "top": null,
            "visibility": null,
            "width": null
          }
        },
        "08b53b4a5b22448787d195b2f6df1d3f": {
          "model_module": "@jupyter-widgets/base",
          "model_name": "LayoutModel",
          "model_module_version": "1.2.0",
          "state": {
            "_model_module": "@jupyter-widgets/base",
            "_model_module_version": "1.2.0",
            "_model_name": "LayoutModel",
            "_view_count": null,
            "_view_module": "@jupyter-widgets/base",
            "_view_module_version": "1.2.0",
            "_view_name": "LayoutView",
            "align_content": null,
            "align_items": null,
            "align_self": null,
            "border": null,
            "bottom": null,
            "display": null,
            "flex": null,
            "flex_flow": null,
            "grid_area": null,
            "grid_auto_columns": null,
            "grid_auto_flow": null,
            "grid_auto_rows": null,
            "grid_column": null,
            "grid_gap": null,
            "grid_row": null,
            "grid_template_areas": null,
            "grid_template_columns": null,
            "grid_template_rows": null,
            "height": null,
            "justify_content": null,
            "justify_items": null,
            "left": null,
            "margin": null,
            "max_height": null,
            "max_width": null,
            "min_height": null,
            "min_width": null,
            "object_fit": null,
            "object_position": null,
            "order": null,
            "overflow": null,
            "overflow_x": null,
            "overflow_y": null,
            "padding": null,
            "right": null,
            "top": null,
            "visibility": null,
            "width": null
          }
        },
        "24aab8be280643fa9f24dd6ab18ed886": {
          "model_module": "@jupyter-widgets/controls",
          "model_name": "DescriptionStyleModel",
          "model_module_version": "1.5.0",
          "state": {
            "_model_module": "@jupyter-widgets/controls",
            "_model_module_version": "1.5.0",
            "_model_name": "DescriptionStyleModel",
            "_view_count": null,
            "_view_module": "@jupyter-widgets/base",
            "_view_module_version": "1.2.0",
            "_view_name": "StyleView",
            "description_width": ""
          }
        },
        "ea14db8157e34dada4cef0f054638f48": {
          "model_module": "@jupyter-widgets/base",
          "model_name": "LayoutModel",
          "model_module_version": "1.2.0",
          "state": {
            "_model_module": "@jupyter-widgets/base",
            "_model_module_version": "1.2.0",
            "_model_name": "LayoutModel",
            "_view_count": null,
            "_view_module": "@jupyter-widgets/base",
            "_view_module_version": "1.2.0",
            "_view_name": "LayoutView",
            "align_content": null,
            "align_items": null,
            "align_self": null,
            "border": null,
            "bottom": null,
            "display": null,
            "flex": null,
            "flex_flow": null,
            "grid_area": null,
            "grid_auto_columns": null,
            "grid_auto_flow": null,
            "grid_auto_rows": null,
            "grid_column": null,
            "grid_gap": null,
            "grid_row": null,
            "grid_template_areas": null,
            "grid_template_columns": null,
            "grid_template_rows": null,
            "height": null,
            "justify_content": null,
            "justify_items": null,
            "left": null,
            "margin": null,
            "max_height": null,
            "max_width": null,
            "min_height": null,
            "min_width": null,
            "object_fit": null,
            "object_position": null,
            "order": null,
            "overflow": null,
            "overflow_x": null,
            "overflow_y": null,
            "padding": null,
            "right": null,
            "top": null,
            "visibility": null,
            "width": null
          }
        },
        "b85e0be36fdc41e08bd7124567d1fc6b": {
          "model_module": "@jupyter-widgets/controls",
          "model_name": "ProgressStyleModel",
          "model_module_version": "1.5.0",
          "state": {
            "_model_module": "@jupyter-widgets/controls",
            "_model_module_version": "1.5.0",
            "_model_name": "ProgressStyleModel",
            "_view_count": null,
            "_view_module": "@jupyter-widgets/base",
            "_view_module_version": "1.2.0",
            "_view_name": "StyleView",
            "bar_color": null,
            "description_width": ""
          }
        },
        "e04379f28c1043599b2dd2770924352f": {
          "model_module": "@jupyter-widgets/base",
          "model_name": "LayoutModel",
          "model_module_version": "1.2.0",
          "state": {
            "_model_module": "@jupyter-widgets/base",
            "_model_module_version": "1.2.0",
            "_model_name": "LayoutModel",
            "_view_count": null,
            "_view_module": "@jupyter-widgets/base",
            "_view_module_version": "1.2.0",
            "_view_name": "LayoutView",
            "align_content": null,
            "align_items": null,
            "align_self": null,
            "border": null,
            "bottom": null,
            "display": null,
            "flex": null,
            "flex_flow": null,
            "grid_area": null,
            "grid_auto_columns": null,
            "grid_auto_flow": null,
            "grid_auto_rows": null,
            "grid_column": null,
            "grid_gap": null,
            "grid_row": null,
            "grid_template_areas": null,
            "grid_template_columns": null,
            "grid_template_rows": null,
            "height": null,
            "justify_content": null,
            "justify_items": null,
            "left": null,
            "margin": null,
            "max_height": null,
            "max_width": null,
            "min_height": null,
            "min_width": null,
            "object_fit": null,
            "object_position": null,
            "order": null,
            "overflow": null,
            "overflow_x": null,
            "overflow_y": null,
            "padding": null,
            "right": null,
            "top": null,
            "visibility": null,
            "width": null
          }
        },
        "fb87c01e98a741f6b6fae6bc5c2913c3": {
          "model_module": "@jupyter-widgets/controls",
          "model_name": "DescriptionStyleModel",
          "model_module_version": "1.5.0",
          "state": {
            "_model_module": "@jupyter-widgets/controls",
            "_model_module_version": "1.5.0",
            "_model_name": "DescriptionStyleModel",
            "_view_count": null,
            "_view_module": "@jupyter-widgets/base",
            "_view_module_version": "1.2.0",
            "_view_name": "StyleView",
            "description_width": ""
          }
        },
        "71efa3aef62e434a880043d7189fdf6e": {
          "model_module": "@jupyter-widgets/controls",
          "model_name": "HBoxModel",
          "model_module_version": "1.5.0",
          "state": {
            "_dom_classes": [],
            "_model_module": "@jupyter-widgets/controls",
            "_model_module_version": "1.5.0",
            "_model_name": "HBoxModel",
            "_view_count": null,
            "_view_module": "@jupyter-widgets/controls",
            "_view_module_version": "1.5.0",
            "_view_name": "HBoxView",
            "box_style": "",
            "children": [
              "IPY_MODEL_3a1be530e79147ea93a53f4194c17d42",
              "IPY_MODEL_bb9c8cea8e2b41249857531bcc094aa5",
              "IPY_MODEL_854420d9dd4d450ebae09ae880b0c7e3"
            ],
            "layout": "IPY_MODEL_3b60ce379bf74bc18384b8baf7af0229"
          }
        },
        "3a1be530e79147ea93a53f4194c17d42": {
          "model_module": "@jupyter-widgets/controls",
          "model_name": "HTMLModel",
          "model_module_version": "1.5.0",
          "state": {
            "_dom_classes": [],
            "_model_module": "@jupyter-widgets/controls",
            "_model_module_version": "1.5.0",
            "_model_name": "HTMLModel",
            "_view_count": null,
            "_view_module": "@jupyter-widgets/controls",
            "_view_module_version": "1.5.0",
            "_view_name": "HTMLView",
            "description": "",
            "description_tooltip": null,
            "layout": "IPY_MODEL_3761c5e03b674a079bae359a1d081f53",
            "placeholder": "​",
            "style": "IPY_MODEL_e0bc7635824b4b718ffefc0f4b16faaf",
            "value": "100%"
          }
        },
        "bb9c8cea8e2b41249857531bcc094aa5": {
          "model_module": "@jupyter-widgets/controls",
          "model_name": "FloatProgressModel",
          "model_module_version": "1.5.0",
          "state": {
            "_dom_classes": [],
            "_model_module": "@jupyter-widgets/controls",
            "_model_module_version": "1.5.0",
            "_model_name": "FloatProgressModel",
            "_view_count": null,
            "_view_module": "@jupyter-widgets/controls",
            "_view_module_version": "1.5.0",
            "_view_name": "ProgressView",
            "bar_style": "success",
            "description": "",
            "description_tooltip": null,
            "layout": "IPY_MODEL_be042eb4104a492896270bc7a3f89d2b",
            "max": 100,
            "min": 0,
            "orientation": "horizontal",
            "style": "IPY_MODEL_2a8959afc9e54f759425b4d3374b7625",
            "value": 100
          }
        },
        "854420d9dd4d450ebae09ae880b0c7e3": {
          "model_module": "@jupyter-widgets/controls",
          "model_name": "HTMLModel",
          "model_module_version": "1.5.0",
          "state": {
            "_dom_classes": [],
            "_model_module": "@jupyter-widgets/controls",
            "_model_module_version": "1.5.0",
            "_model_name": "HTMLModel",
            "_view_count": null,
            "_view_module": "@jupyter-widgets/controls",
            "_view_module_version": "1.5.0",
            "_view_name": "HTMLView",
            "description": "",
            "description_tooltip": null,
            "layout": "IPY_MODEL_f15992d225224efd8d798a633d832303",
            "placeholder": "​",
            "style": "IPY_MODEL_fa0c20add6594e50a156c628f3087271",
            "value": " 100/100 [01:24&lt;00:00,  1.28it/s]"
          }
        },
        "3b60ce379bf74bc18384b8baf7af0229": {
          "model_module": "@jupyter-widgets/base",
          "model_name": "LayoutModel",
          "model_module_version": "1.2.0",
          "state": {
            "_model_module": "@jupyter-widgets/base",
            "_model_module_version": "1.2.0",
            "_model_name": "LayoutModel",
            "_view_count": null,
            "_view_module": "@jupyter-widgets/base",
            "_view_module_version": "1.2.0",
            "_view_name": "LayoutView",
            "align_content": null,
            "align_items": null,
            "align_self": null,
            "border": null,
            "bottom": null,
            "display": null,
            "flex": null,
            "flex_flow": null,
            "grid_area": null,
            "grid_auto_columns": null,
            "grid_auto_flow": null,
            "grid_auto_rows": null,
            "grid_column": null,
            "grid_gap": null,
            "grid_row": null,
            "grid_template_areas": null,
            "grid_template_columns": null,
            "grid_template_rows": null,
            "height": null,
            "justify_content": null,
            "justify_items": null,
            "left": null,
            "margin": null,
            "max_height": null,
            "max_width": null,
            "min_height": null,
            "min_width": null,
            "object_fit": null,
            "object_position": null,
            "order": null,
            "overflow": null,
            "overflow_x": null,
            "overflow_y": null,
            "padding": null,
            "right": null,
            "top": null,
            "visibility": null,
            "width": null
          }
        },
        "3761c5e03b674a079bae359a1d081f53": {
          "model_module": "@jupyter-widgets/base",
          "model_name": "LayoutModel",
          "model_module_version": "1.2.0",
          "state": {
            "_model_module": "@jupyter-widgets/base",
            "_model_module_version": "1.2.0",
            "_model_name": "LayoutModel",
            "_view_count": null,
            "_view_module": "@jupyter-widgets/base",
            "_view_module_version": "1.2.0",
            "_view_name": "LayoutView",
            "align_content": null,
            "align_items": null,
            "align_self": null,
            "border": null,
            "bottom": null,
            "display": null,
            "flex": null,
            "flex_flow": null,
            "grid_area": null,
            "grid_auto_columns": null,
            "grid_auto_flow": null,
            "grid_auto_rows": null,
            "grid_column": null,
            "grid_gap": null,
            "grid_row": null,
            "grid_template_areas": null,
            "grid_template_columns": null,
            "grid_template_rows": null,
            "height": null,
            "justify_content": null,
            "justify_items": null,
            "left": null,
            "margin": null,
            "max_height": null,
            "max_width": null,
            "min_height": null,
            "min_width": null,
            "object_fit": null,
            "object_position": null,
            "order": null,
            "overflow": null,
            "overflow_x": null,
            "overflow_y": null,
            "padding": null,
            "right": null,
            "top": null,
            "visibility": null,
            "width": null
          }
        },
        "e0bc7635824b4b718ffefc0f4b16faaf": {
          "model_module": "@jupyter-widgets/controls",
          "model_name": "DescriptionStyleModel",
          "model_module_version": "1.5.0",
          "state": {
            "_model_module": "@jupyter-widgets/controls",
            "_model_module_version": "1.5.0",
            "_model_name": "DescriptionStyleModel",
            "_view_count": null,
            "_view_module": "@jupyter-widgets/base",
            "_view_module_version": "1.2.0",
            "_view_name": "StyleView",
            "description_width": ""
          }
        },
        "be042eb4104a492896270bc7a3f89d2b": {
          "model_module": "@jupyter-widgets/base",
          "model_name": "LayoutModel",
          "model_module_version": "1.2.0",
          "state": {
            "_model_module": "@jupyter-widgets/base",
            "_model_module_version": "1.2.0",
            "_model_name": "LayoutModel",
            "_view_count": null,
            "_view_module": "@jupyter-widgets/base",
            "_view_module_version": "1.2.0",
            "_view_name": "LayoutView",
            "align_content": null,
            "align_items": null,
            "align_self": null,
            "border": null,
            "bottom": null,
            "display": null,
            "flex": null,
            "flex_flow": null,
            "grid_area": null,
            "grid_auto_columns": null,
            "grid_auto_flow": null,
            "grid_auto_rows": null,
            "grid_column": null,
            "grid_gap": null,
            "grid_row": null,
            "grid_template_areas": null,
            "grid_template_columns": null,
            "grid_template_rows": null,
            "height": null,
            "justify_content": null,
            "justify_items": null,
            "left": null,
            "margin": null,
            "max_height": null,
            "max_width": null,
            "min_height": null,
            "min_width": null,
            "object_fit": null,
            "object_position": null,
            "order": null,
            "overflow": null,
            "overflow_x": null,
            "overflow_y": null,
            "padding": null,
            "right": null,
            "top": null,
            "visibility": null,
            "width": null
          }
        },
        "2a8959afc9e54f759425b4d3374b7625": {
          "model_module": "@jupyter-widgets/controls",
          "model_name": "ProgressStyleModel",
          "model_module_version": "1.5.0",
          "state": {
            "_model_module": "@jupyter-widgets/controls",
            "_model_module_version": "1.5.0",
            "_model_name": "ProgressStyleModel",
            "_view_count": null,
            "_view_module": "@jupyter-widgets/base",
            "_view_module_version": "1.2.0",
            "_view_name": "StyleView",
            "bar_color": null,
            "description_width": ""
          }
        },
        "f15992d225224efd8d798a633d832303": {
          "model_module": "@jupyter-widgets/base",
          "model_name": "LayoutModel",
          "model_module_version": "1.2.0",
          "state": {
            "_model_module": "@jupyter-widgets/base",
            "_model_module_version": "1.2.0",
            "_model_name": "LayoutModel",
            "_view_count": null,
            "_view_module": "@jupyter-widgets/base",
            "_view_module_version": "1.2.0",
            "_view_name": "LayoutView",
            "align_content": null,
            "align_items": null,
            "align_self": null,
            "border": null,
            "bottom": null,
            "display": null,
            "flex": null,
            "flex_flow": null,
            "grid_area": null,
            "grid_auto_columns": null,
            "grid_auto_flow": null,
            "grid_auto_rows": null,
            "grid_column": null,
            "grid_gap": null,
            "grid_row": null,
            "grid_template_areas": null,
            "grid_template_columns": null,
            "grid_template_rows": null,
            "height": null,
            "justify_content": null,
            "justify_items": null,
            "left": null,
            "margin": null,
            "max_height": null,
            "max_width": null,
            "min_height": null,
            "min_width": null,
            "object_fit": null,
            "object_position": null,
            "order": null,
            "overflow": null,
            "overflow_x": null,
            "overflow_y": null,
            "padding": null,
            "right": null,
            "top": null,
            "visibility": null,
            "width": null
          }
        },
        "fa0c20add6594e50a156c628f3087271": {
          "model_module": "@jupyter-widgets/controls",
          "model_name": "DescriptionStyleModel",
          "model_module_version": "1.5.0",
          "state": {
            "_model_module": "@jupyter-widgets/controls",
            "_model_module_version": "1.5.0",
            "_model_name": "DescriptionStyleModel",
            "_view_count": null,
            "_view_module": "@jupyter-widgets/base",
            "_view_module_version": "1.2.0",
            "_view_name": "StyleView",
            "description_width": ""
          }
        },
        "f03e86e554dc440c9c125f6430ef7e7f": {
          "model_module": "@jupyter-widgets/controls",
          "model_name": "HBoxModel",
          "model_module_version": "1.5.0",
          "state": {
            "_dom_classes": [],
            "_model_module": "@jupyter-widgets/controls",
            "_model_module_version": "1.5.0",
            "_model_name": "HBoxModel",
            "_view_count": null,
            "_view_module": "@jupyter-widgets/controls",
            "_view_module_version": "1.5.0",
            "_view_name": "HBoxView",
            "box_style": "",
            "children": [
              "IPY_MODEL_b6aab0cbee76453e989f6887f935b35d",
              "IPY_MODEL_3112bb1c50124ddaa8fdeb3fa379b853",
              "IPY_MODEL_70b9f39a448d464abf7f5a80db888b1c"
            ],
            "layout": "IPY_MODEL_78632b8baea1449186f239e8b1b782e9"
          }
        },
        "b6aab0cbee76453e989f6887f935b35d": {
          "model_module": "@jupyter-widgets/controls",
          "model_name": "HTMLModel",
          "model_module_version": "1.5.0",
          "state": {
            "_dom_classes": [],
            "_model_module": "@jupyter-widgets/controls",
            "_model_module_version": "1.5.0",
            "_model_name": "HTMLModel",
            "_view_count": null,
            "_view_module": "@jupyter-widgets/controls",
            "_view_module_version": "1.5.0",
            "_view_name": "HTMLView",
            "description": "",
            "description_tooltip": null,
            "layout": "IPY_MODEL_056308f015184058af74676183459bd2",
            "placeholder": "​",
            "style": "IPY_MODEL_aedb57842f694832ac1b5e516308292d",
            "value": "100%"
          }
        },
        "3112bb1c50124ddaa8fdeb3fa379b853": {
          "model_module": "@jupyter-widgets/controls",
          "model_name": "FloatProgressModel",
          "model_module_version": "1.5.0",
          "state": {
            "_dom_classes": [],
            "_model_module": "@jupyter-widgets/controls",
            "_model_module_version": "1.5.0",
            "_model_name": "FloatProgressModel",
            "_view_count": null,
            "_view_module": "@jupyter-widgets/controls",
            "_view_module_version": "1.5.0",
            "_view_name": "ProgressView",
            "bar_style": "success",
            "description": "",
            "description_tooltip": null,
            "layout": "IPY_MODEL_1b3b82c92bb94ee68d16f088aa8fd22e",
            "max": 200,
            "min": 0,
            "orientation": "horizontal",
            "style": "IPY_MODEL_9ac64c23561640389cf7e4f834fec631",
            "value": 200
          }
        },
        "70b9f39a448d464abf7f5a80db888b1c": {
          "model_module": "@jupyter-widgets/controls",
          "model_name": "HTMLModel",
          "model_module_version": "1.5.0",
          "state": {
            "_dom_classes": [],
            "_model_module": "@jupyter-widgets/controls",
            "_model_module_version": "1.5.0",
            "_model_name": "HTMLModel",
            "_view_count": null,
            "_view_module": "@jupyter-widgets/controls",
            "_view_module_version": "1.5.0",
            "_view_name": "HTMLView",
            "description": "",
            "description_tooltip": null,
            "layout": "IPY_MODEL_2304eb5b23824a6992576eb495412799",
            "placeholder": "​",
            "style": "IPY_MODEL_456532c224614e7caecb37428c9d2e65",
            "value": " 200/200 [02:51&lt;00:00,  1.26it/s]"
          }
        },
        "78632b8baea1449186f239e8b1b782e9": {
          "model_module": "@jupyter-widgets/base",
          "model_name": "LayoutModel",
          "model_module_version": "1.2.0",
          "state": {
            "_model_module": "@jupyter-widgets/base",
            "_model_module_version": "1.2.0",
            "_model_name": "LayoutModel",
            "_view_count": null,
            "_view_module": "@jupyter-widgets/base",
            "_view_module_version": "1.2.0",
            "_view_name": "LayoutView",
            "align_content": null,
            "align_items": null,
            "align_self": null,
            "border": null,
            "bottom": null,
            "display": null,
            "flex": null,
            "flex_flow": null,
            "grid_area": null,
            "grid_auto_columns": null,
            "grid_auto_flow": null,
            "grid_auto_rows": null,
            "grid_column": null,
            "grid_gap": null,
            "grid_row": null,
            "grid_template_areas": null,
            "grid_template_columns": null,
            "grid_template_rows": null,
            "height": null,
            "justify_content": null,
            "justify_items": null,
            "left": null,
            "margin": null,
            "max_height": null,
            "max_width": null,
            "min_height": null,
            "min_width": null,
            "object_fit": null,
            "object_position": null,
            "order": null,
            "overflow": null,
            "overflow_x": null,
            "overflow_y": null,
            "padding": null,
            "right": null,
            "top": null,
            "visibility": null,
            "width": null
          }
        },
        "056308f015184058af74676183459bd2": {
          "model_module": "@jupyter-widgets/base",
          "model_name": "LayoutModel",
          "model_module_version": "1.2.0",
          "state": {
            "_model_module": "@jupyter-widgets/base",
            "_model_module_version": "1.2.0",
            "_model_name": "LayoutModel",
            "_view_count": null,
            "_view_module": "@jupyter-widgets/base",
            "_view_module_version": "1.2.0",
            "_view_name": "LayoutView",
            "align_content": null,
            "align_items": null,
            "align_self": null,
            "border": null,
            "bottom": null,
            "display": null,
            "flex": null,
            "flex_flow": null,
            "grid_area": null,
            "grid_auto_columns": null,
            "grid_auto_flow": null,
            "grid_auto_rows": null,
            "grid_column": null,
            "grid_gap": null,
            "grid_row": null,
            "grid_template_areas": null,
            "grid_template_columns": null,
            "grid_template_rows": null,
            "height": null,
            "justify_content": null,
            "justify_items": null,
            "left": null,
            "margin": null,
            "max_height": null,
            "max_width": null,
            "min_height": null,
            "min_width": null,
            "object_fit": null,
            "object_position": null,
            "order": null,
            "overflow": null,
            "overflow_x": null,
            "overflow_y": null,
            "padding": null,
            "right": null,
            "top": null,
            "visibility": null,
            "width": null
          }
        },
        "aedb57842f694832ac1b5e516308292d": {
          "model_module": "@jupyter-widgets/controls",
          "model_name": "DescriptionStyleModel",
          "model_module_version": "1.5.0",
          "state": {
            "_model_module": "@jupyter-widgets/controls",
            "_model_module_version": "1.5.0",
            "_model_name": "DescriptionStyleModel",
            "_view_count": null,
            "_view_module": "@jupyter-widgets/base",
            "_view_module_version": "1.2.0",
            "_view_name": "StyleView",
            "description_width": ""
          }
        },
        "1b3b82c92bb94ee68d16f088aa8fd22e": {
          "model_module": "@jupyter-widgets/base",
          "model_name": "LayoutModel",
          "model_module_version": "1.2.0",
          "state": {
            "_model_module": "@jupyter-widgets/base",
            "_model_module_version": "1.2.0",
            "_model_name": "LayoutModel",
            "_view_count": null,
            "_view_module": "@jupyter-widgets/base",
            "_view_module_version": "1.2.0",
            "_view_name": "LayoutView",
            "align_content": null,
            "align_items": null,
            "align_self": null,
            "border": null,
            "bottom": null,
            "display": null,
            "flex": null,
            "flex_flow": null,
            "grid_area": null,
            "grid_auto_columns": null,
            "grid_auto_flow": null,
            "grid_auto_rows": null,
            "grid_column": null,
            "grid_gap": null,
            "grid_row": null,
            "grid_template_areas": null,
            "grid_template_columns": null,
            "grid_template_rows": null,
            "height": null,
            "justify_content": null,
            "justify_items": null,
            "left": null,
            "margin": null,
            "max_height": null,
            "max_width": null,
            "min_height": null,
            "min_width": null,
            "object_fit": null,
            "object_position": null,
            "order": null,
            "overflow": null,
            "overflow_x": null,
            "overflow_y": null,
            "padding": null,
            "right": null,
            "top": null,
            "visibility": null,
            "width": null
          }
        },
        "9ac64c23561640389cf7e4f834fec631": {
          "model_module": "@jupyter-widgets/controls",
          "model_name": "ProgressStyleModel",
          "model_module_version": "1.5.0",
          "state": {
            "_model_module": "@jupyter-widgets/controls",
            "_model_module_version": "1.5.0",
            "_model_name": "ProgressStyleModel",
            "_view_count": null,
            "_view_module": "@jupyter-widgets/base",
            "_view_module_version": "1.2.0",
            "_view_name": "StyleView",
            "bar_color": null,
            "description_width": ""
          }
        },
        "2304eb5b23824a6992576eb495412799": {
          "model_module": "@jupyter-widgets/base",
          "model_name": "LayoutModel",
          "model_module_version": "1.2.0",
          "state": {
            "_model_module": "@jupyter-widgets/base",
            "_model_module_version": "1.2.0",
            "_model_name": "LayoutModel",
            "_view_count": null,
            "_view_module": "@jupyter-widgets/base",
            "_view_module_version": "1.2.0",
            "_view_name": "LayoutView",
            "align_content": null,
            "align_items": null,
            "align_self": null,
            "border": null,
            "bottom": null,
            "display": null,
            "flex": null,
            "flex_flow": null,
            "grid_area": null,
            "grid_auto_columns": null,
            "grid_auto_flow": null,
            "grid_auto_rows": null,
            "grid_column": null,
            "grid_gap": null,
            "grid_row": null,
            "grid_template_areas": null,
            "grid_template_columns": null,
            "grid_template_rows": null,
            "height": null,
            "justify_content": null,
            "justify_items": null,
            "left": null,
            "margin": null,
            "max_height": null,
            "max_width": null,
            "min_height": null,
            "min_width": null,
            "object_fit": null,
            "object_position": null,
            "order": null,
            "overflow": null,
            "overflow_x": null,
            "overflow_y": null,
            "padding": null,
            "right": null,
            "top": null,
            "visibility": null,
            "width": null
          }
        },
        "456532c224614e7caecb37428c9d2e65": {
          "model_module": "@jupyter-widgets/controls",
          "model_name": "DescriptionStyleModel",
          "model_module_version": "1.5.0",
          "state": {
            "_model_module": "@jupyter-widgets/controls",
            "_model_module_version": "1.5.0",
            "_model_name": "DescriptionStyleModel",
            "_view_count": null,
            "_view_module": "@jupyter-widgets/base",
            "_view_module_version": "1.2.0",
            "_view_name": "StyleView",
            "description_width": ""
          }
        },
        "a42edad039d24a8db0578c39c27e6d7a": {
          "model_module": "@jupyter-widgets/controls",
          "model_name": "HBoxModel",
          "model_module_version": "1.5.0",
          "state": {
            "_dom_classes": [],
            "_model_module": "@jupyter-widgets/controls",
            "_model_module_version": "1.5.0",
            "_model_name": "HBoxModel",
            "_view_count": null,
            "_view_module": "@jupyter-widgets/controls",
            "_view_module_version": "1.5.0",
            "_view_name": "HBoxView",
            "box_style": "",
            "children": [
              "IPY_MODEL_72a3a404aaa1479dba3ad48aba3d8ccd",
              "IPY_MODEL_42f743b92fba4fadbde8d2eb0a1003d6",
              "IPY_MODEL_1bb5aa4d60c941fc8356d272603554ae"
            ],
            "layout": "IPY_MODEL_2cb24e87f19744d7a4022ef607c30510"
          }
        },
        "72a3a404aaa1479dba3ad48aba3d8ccd": {
          "model_module": "@jupyter-widgets/controls",
          "model_name": "HTMLModel",
          "model_module_version": "1.5.0",
          "state": {
            "_dom_classes": [],
            "_model_module": "@jupyter-widgets/controls",
            "_model_module_version": "1.5.0",
            "_model_name": "HTMLModel",
            "_view_count": null,
            "_view_module": "@jupyter-widgets/controls",
            "_view_module_version": "1.5.0",
            "_view_name": "HTMLView",
            "description": "",
            "description_tooltip": null,
            "layout": "IPY_MODEL_0def03fb8e4e4b27a45fe236e1ce9e42",
            "placeholder": "​",
            "style": "IPY_MODEL_980f3a9eb776473da849b7cf7efdd252",
            "value": "100%"
          }
        },
        "42f743b92fba4fadbde8d2eb0a1003d6": {
          "model_module": "@jupyter-widgets/controls",
          "model_name": "FloatProgressModel",
          "model_module_version": "1.5.0",
          "state": {
            "_dom_classes": [],
            "_model_module": "@jupyter-widgets/controls",
            "_model_module_version": "1.5.0",
            "_model_name": "FloatProgressModel",
            "_view_count": null,
            "_view_module": "@jupyter-widgets/controls",
            "_view_module_version": "1.5.0",
            "_view_name": "ProgressView",
            "bar_style": "success",
            "description": "",
            "description_tooltip": null,
            "layout": "IPY_MODEL_8d77caca64ba4e849c3dbb73ebac540f",
            "max": 500,
            "min": 0,
            "orientation": "horizontal",
            "style": "IPY_MODEL_866a825a64844f6981cd483bb9752b44",
            "value": 500
          }
        },
        "1bb5aa4d60c941fc8356d272603554ae": {
          "model_module": "@jupyter-widgets/controls",
          "model_name": "HTMLModel",
          "model_module_version": "1.5.0",
          "state": {
            "_dom_classes": [],
            "_model_module": "@jupyter-widgets/controls",
            "_model_module_version": "1.5.0",
            "_model_name": "HTMLModel",
            "_view_count": null,
            "_view_module": "@jupyter-widgets/controls",
            "_view_module_version": "1.5.0",
            "_view_name": "HTMLView",
            "description": "",
            "description_tooltip": null,
            "layout": "IPY_MODEL_50b7dbec496949e5b93e199129449fab",
            "placeholder": "​",
            "style": "IPY_MODEL_f73e2d13fd72444b832ca0fea0c8a90d",
            "value": " 500/500 [07:52&lt;00:00,  1.12it/s, loss=0.0318]"
          }
        },
        "2cb24e87f19744d7a4022ef607c30510": {
          "model_module": "@jupyter-widgets/base",
          "model_name": "LayoutModel",
          "model_module_version": "1.2.0",
          "state": {
            "_model_module": "@jupyter-widgets/base",
            "_model_module_version": "1.2.0",
            "_model_name": "LayoutModel",
            "_view_count": null,
            "_view_module": "@jupyter-widgets/base",
            "_view_module_version": "1.2.0",
            "_view_name": "LayoutView",
            "align_content": null,
            "align_items": null,
            "align_self": null,
            "border": null,
            "bottom": null,
            "display": null,
            "flex": null,
            "flex_flow": null,
            "grid_area": null,
            "grid_auto_columns": null,
            "grid_auto_flow": null,
            "grid_auto_rows": null,
            "grid_column": null,
            "grid_gap": null,
            "grid_row": null,
            "grid_template_areas": null,
            "grid_template_columns": null,
            "grid_template_rows": null,
            "height": null,
            "justify_content": null,
            "justify_items": null,
            "left": null,
            "margin": null,
            "max_height": null,
            "max_width": null,
            "min_height": null,
            "min_width": null,
            "object_fit": null,
            "object_position": null,
            "order": null,
            "overflow": null,
            "overflow_x": null,
            "overflow_y": null,
            "padding": null,
            "right": null,
            "top": null,
            "visibility": null,
            "width": null
          }
        },
        "0def03fb8e4e4b27a45fe236e1ce9e42": {
          "model_module": "@jupyter-widgets/base",
          "model_name": "LayoutModel",
          "model_module_version": "1.2.0",
          "state": {
            "_model_module": "@jupyter-widgets/base",
            "_model_module_version": "1.2.0",
            "_model_name": "LayoutModel",
            "_view_count": null,
            "_view_module": "@jupyter-widgets/base",
            "_view_module_version": "1.2.0",
            "_view_name": "LayoutView",
            "align_content": null,
            "align_items": null,
            "align_self": null,
            "border": null,
            "bottom": null,
            "display": null,
            "flex": null,
            "flex_flow": null,
            "grid_area": null,
            "grid_auto_columns": null,
            "grid_auto_flow": null,
            "grid_auto_rows": null,
            "grid_column": null,
            "grid_gap": null,
            "grid_row": null,
            "grid_template_areas": null,
            "grid_template_columns": null,
            "grid_template_rows": null,
            "height": null,
            "justify_content": null,
            "justify_items": null,
            "left": null,
            "margin": null,
            "max_height": null,
            "max_width": null,
            "min_height": null,
            "min_width": null,
            "object_fit": null,
            "object_position": null,
            "order": null,
            "overflow": null,
            "overflow_x": null,
            "overflow_y": null,
            "padding": null,
            "right": null,
            "top": null,
            "visibility": null,
            "width": null
          }
        },
        "980f3a9eb776473da849b7cf7efdd252": {
          "model_module": "@jupyter-widgets/controls",
          "model_name": "DescriptionStyleModel",
          "model_module_version": "1.5.0",
          "state": {
            "_model_module": "@jupyter-widgets/controls",
            "_model_module_version": "1.5.0",
            "_model_name": "DescriptionStyleModel",
            "_view_count": null,
            "_view_module": "@jupyter-widgets/base",
            "_view_module_version": "1.2.0",
            "_view_name": "StyleView",
            "description_width": ""
          }
        },
        "8d77caca64ba4e849c3dbb73ebac540f": {
          "model_module": "@jupyter-widgets/base",
          "model_name": "LayoutModel",
          "model_module_version": "1.2.0",
          "state": {
            "_model_module": "@jupyter-widgets/base",
            "_model_module_version": "1.2.0",
            "_model_name": "LayoutModel",
            "_view_count": null,
            "_view_module": "@jupyter-widgets/base",
            "_view_module_version": "1.2.0",
            "_view_name": "LayoutView",
            "align_content": null,
            "align_items": null,
            "align_self": null,
            "border": null,
            "bottom": null,
            "display": null,
            "flex": null,
            "flex_flow": null,
            "grid_area": null,
            "grid_auto_columns": null,
            "grid_auto_flow": null,
            "grid_auto_rows": null,
            "grid_column": null,
            "grid_gap": null,
            "grid_row": null,
            "grid_template_areas": null,
            "grid_template_columns": null,
            "grid_template_rows": null,
            "height": null,
            "justify_content": null,
            "justify_items": null,
            "left": null,
            "margin": null,
            "max_height": null,
            "max_width": null,
            "min_height": null,
            "min_width": null,
            "object_fit": null,
            "object_position": null,
            "order": null,
            "overflow": null,
            "overflow_x": null,
            "overflow_y": null,
            "padding": null,
            "right": null,
            "top": null,
            "visibility": null,
            "width": null
          }
        },
        "866a825a64844f6981cd483bb9752b44": {
          "model_module": "@jupyter-widgets/controls",
          "model_name": "ProgressStyleModel",
          "model_module_version": "1.5.0",
          "state": {
            "_model_module": "@jupyter-widgets/controls",
            "_model_module_version": "1.5.0",
            "_model_name": "ProgressStyleModel",
            "_view_count": null,
            "_view_module": "@jupyter-widgets/base",
            "_view_module_version": "1.2.0",
            "_view_name": "StyleView",
            "bar_color": null,
            "description_width": ""
          }
        },
        "50b7dbec496949e5b93e199129449fab": {
          "model_module": "@jupyter-widgets/base",
          "model_name": "LayoutModel",
          "model_module_version": "1.2.0",
          "state": {
            "_model_module": "@jupyter-widgets/base",
            "_model_module_version": "1.2.0",
            "_model_name": "LayoutModel",
            "_view_count": null,
            "_view_module": "@jupyter-widgets/base",
            "_view_module_version": "1.2.0",
            "_view_name": "LayoutView",
            "align_content": null,
            "align_items": null,
            "align_self": null,
            "border": null,
            "bottom": null,
            "display": null,
            "flex": null,
            "flex_flow": null,
            "grid_area": null,
            "grid_auto_columns": null,
            "grid_auto_flow": null,
            "grid_auto_rows": null,
            "grid_column": null,
            "grid_gap": null,
            "grid_row": null,
            "grid_template_areas": null,
            "grid_template_columns": null,
            "grid_template_rows": null,
            "height": null,
            "justify_content": null,
            "justify_items": null,
            "left": null,
            "margin": null,
            "max_height": null,
            "max_width": null,
            "min_height": null,
            "min_width": null,
            "object_fit": null,
            "object_position": null,
            "order": null,
            "overflow": null,
            "overflow_x": null,
            "overflow_y": null,
            "padding": null,
            "right": null,
            "top": null,
            "visibility": null,
            "width": null
          }
        },
        "f73e2d13fd72444b832ca0fea0c8a90d": {
          "model_module": "@jupyter-widgets/controls",
          "model_name": "DescriptionStyleModel",
          "model_module_version": "1.5.0",
          "state": {
            "_model_module": "@jupyter-widgets/controls",
            "_model_module_version": "1.5.0",
            "_model_name": "DescriptionStyleModel",
            "_view_count": null,
            "_view_module": "@jupyter-widgets/base",
            "_view_module_version": "1.2.0",
            "_view_name": "StyleView",
            "description_width": ""
          }
        }
      }
    }
  },
  "cells": [
    {
      "cell_type": "markdown",
      "source": [
        "## 목표\n",
        "---\n",
        "### 공통\n",
        "**1. CSR matrix가 정상적으로 만들어졌다.**  \n",
        "    - 사용자와 아이템 개수를 바탕으로 정확한 사이즈로 만들었다.\n",
        "\n",
        "**2. MF 모델이 정상적으로 훈련되어 그럴듯한 추천이 이루어졌다.**  \n",
        "    - 사용자와 아이템 벡터 내적수치가 의미있게 형성되었다.\n",
        "\n",
        "**3. 비슷한 영화 찾기와 유저에게 추천하기의 과정이 정상적으로 진행되었다.**  \n",
        "    - MF모델이 예측한 유저 선호도 및 아이템간 유사도, 기여도가 의미있게 측정되었다.\n",
        "\n",
        "---\n",
        "### 개인\n",
        "1. 하이퍼 파라미터를 변경하며 학습변화 확인\n",
        "\n",
        "2. 다른 factor를 기반으로 추천진행\n"
      ],
      "metadata": {
        "id": "JnEkc0VEOu-c"
      }
    },
    {
      "cell_type": "markdown",
      "source": [
        "## STEP 0. 라이브러리 설정하기\n",
        "--- "
      ],
      "metadata": {
        "id": "HHVLmnSOKruN"
      }
    },
    {
      "cell_type": "markdown",
      "source": [
        "implicit가 코랩에서 import 되지 않아 따로 다운받아준다.  \n",
        "- [참고 github](https://github.com/benfred/implicit/issues/160)"
      ],
      "metadata": {
        "id": "rDssCxtiOtes"
      }
    },
    {
      "cell_type": "code",
      "source": [
        "!pip install implicit"
      ],
      "metadata": {
        "colab": {
          "base_uri": "https://localhost:8080/"
        },
        "id": "GE6kWrw0Rob3",
        "outputId": "9cdc37cf-692a-4577-b07f-a14b5188417f"
      },
      "execution_count": null,
      "outputs": [
        {
          "output_type": "stream",
          "name": "stdout",
          "text": [
            "Looking in indexes: https://pypi.org/simple, https://us-python.pkg.dev/colab-wheels/public/simple/\n",
            "Requirement already satisfied: implicit in /usr/local/lib/python3.7/dist-packages (0.5.2)\n",
            "Requirement already satisfied: tqdm>=4.27 in /usr/local/lib/python3.7/dist-packages (from implicit) (4.64.0)\n",
            "Requirement already satisfied: scipy>=0.16 in /usr/local/lib/python3.7/dist-packages (from implicit) (1.4.1)\n",
            "Requirement already satisfied: numpy in /usr/local/lib/python3.7/dist-packages (from implicit) (1.21.6)\n"
          ]
        }
      ]
    },
    {
      "cell_type": "code",
      "execution_count": null,
      "metadata": {
        "id": "FFADZ1V9KlS8"
      },
      "outputs": [],
      "source": [
        "import numpy as np\n",
        "import scipy\n",
        "import implicit\n",
        "import os\n",
        "import pandas as pd\n",
        "from scipy.sparse import csr_matrix\n",
        "from implicit.als import AlternatingLeastSquares"
      ]
    },
    {
      "cell_type": "code",
      "source": [
        "# 구드 연결\n",
        "from google.colab import drive\n",
        "drive.mount(\"/content/drive\")"
      ],
      "metadata": {
        "colab": {
          "base_uri": "https://localhost:8080/"
        },
        "id": "qZsXYfW6T-I2",
        "outputId": "c02eaca9-17c5-416c-9085-2b47419e3c8a"
      },
      "execution_count": null,
      "outputs": [
        {
          "output_type": "stream",
          "name": "stdout",
          "text": [
            "Drive already mounted at /content/drive; to attempt to forcibly remount, call drive.mount(\"/content/drive\", force_remount=True).\n"
          ]
        }
      ]
    },
    {
      "cell_type": "markdown",
      "source": [
        "## STEP 1. 데이터 준비와 전처리 \n",
        "---\n",
        "- 이번에 활용할 데이터셋은 추천 시스템의 MNIST라고 부를만한 Movielens 데이터입니다.  \n",
        "- Movielens 데이터는 rating.dat 안에 이미 인덱싱까지 완료된 사용자-영화-평점 데이터가 깔끔하게 정리되어 있으니 불러와 줍니다.\n",
        "\n",
        "\n",
        "- data 설명\n",
        "    - 약 3,900편의 영화에 대한 1,000,209개의 익명 등급이 포함됨\n",
        "    - 2000년에 MovieLens에 가입한 6,040명의 MovieLens 사용자가 만듦\n",
        "    - 사용자 ID 범위 : 1 ~ 6040\n",
        "    - MovieID 범위 :  1 ~ 3952\n",
        "    - 등급 : 별 5개 척도\n",
        "    - 타임스탬프 : time(2)에 의해 반환된 epoch 이후 초 단위로 표시됩니다. -> 필요없으니 삭제 예정\n",
        "    - 각 사용자는 최소 20개의 평가를 가지고 있음\n",
        "\n"
      ],
      "metadata": {
        "id": "ilrFDz5dSZX5"
      }
    },
    {
      "cell_type": "code",
      "source": [
        "############ 데이터 로드 ###############\n",
        "path = '/content/drive/MyDrive/COLAB_data/recommend_movie/'\n",
        "\n",
        "rating_file_path = path + 'ratings.dat'\n",
        "ratings_cols = ['user_id', 'movie_id', 'ratings', 'timestamp']\n",
        "\n",
        "ratings = pd.read_csv(rating_file_path, sep = '::', names = ratings_cols, \n",
        "                      engine = 'python', encoding = 'ISO-8859-1')\n",
        "\n",
        "original_data_size = len(ratings)\n",
        "ratings.head()"
      ],
      "metadata": {
        "colab": {
          "base_uri": "https://localhost:8080/",
          "height": 206
        },
        "id": "TDpl9lh4T6t3",
        "outputId": "1d043fc5-fa30-4726-9b56-8d8ffac9d000"
      },
      "execution_count": null,
      "outputs": [
        {
          "output_type": "execute_result",
          "data": {
            "text/plain": [
              "   user_id  movie_id  ratings  timestamp\n",
              "0        1      1193        5  978300760\n",
              "1        1       661        3  978302109\n",
              "2        1       914        3  978301968\n",
              "3        1      3408        4  978300275\n",
              "4        1      2355        5  978824291"
            ],
            "text/html": [
              "\n",
              "  <div id=\"df-b355f48a-7f92-4117-aec8-a7eb924f284f\">\n",
              "    <div class=\"colab-df-container\">\n",
              "      <div>\n",
              "<style scoped>\n",
              "    .dataframe tbody tr th:only-of-type {\n",
              "        vertical-align: middle;\n",
              "    }\n",
              "\n",
              "    .dataframe tbody tr th {\n",
              "        vertical-align: top;\n",
              "    }\n",
              "\n",
              "    .dataframe thead th {\n",
              "        text-align: right;\n",
              "    }\n",
              "</style>\n",
              "<table border=\"1\" class=\"dataframe\">\n",
              "  <thead>\n",
              "    <tr style=\"text-align: right;\">\n",
              "      <th></th>\n",
              "      <th>user_id</th>\n",
              "      <th>movie_id</th>\n",
              "      <th>ratings</th>\n",
              "      <th>timestamp</th>\n",
              "    </tr>\n",
              "  </thead>\n",
              "  <tbody>\n",
              "    <tr>\n",
              "      <th>0</th>\n",
              "      <td>1</td>\n",
              "      <td>1193</td>\n",
              "      <td>5</td>\n",
              "      <td>978300760</td>\n",
              "    </tr>\n",
              "    <tr>\n",
              "      <th>1</th>\n",
              "      <td>1</td>\n",
              "      <td>661</td>\n",
              "      <td>3</td>\n",
              "      <td>978302109</td>\n",
              "    </tr>\n",
              "    <tr>\n",
              "      <th>2</th>\n",
              "      <td>1</td>\n",
              "      <td>914</td>\n",
              "      <td>3</td>\n",
              "      <td>978301968</td>\n",
              "    </tr>\n",
              "    <tr>\n",
              "      <th>3</th>\n",
              "      <td>1</td>\n",
              "      <td>3408</td>\n",
              "      <td>4</td>\n",
              "      <td>978300275</td>\n",
              "    </tr>\n",
              "    <tr>\n",
              "      <th>4</th>\n",
              "      <td>1</td>\n",
              "      <td>2355</td>\n",
              "      <td>5</td>\n",
              "      <td>978824291</td>\n",
              "    </tr>\n",
              "  </tbody>\n",
              "</table>\n",
              "</div>\n",
              "      <button class=\"colab-df-convert\" onclick=\"convertToInteractive('df-b355f48a-7f92-4117-aec8-a7eb924f284f')\"\n",
              "              title=\"Convert this dataframe to an interactive table.\"\n",
              "              style=\"display:none;\">\n",
              "        \n",
              "  <svg xmlns=\"http://www.w3.org/2000/svg\" height=\"24px\"viewBox=\"0 0 24 24\"\n",
              "       width=\"24px\">\n",
              "    <path d=\"M0 0h24v24H0V0z\" fill=\"none\"/>\n",
              "    <path d=\"M18.56 5.44l.94 2.06.94-2.06 2.06-.94-2.06-.94-.94-2.06-.94 2.06-2.06.94zm-11 1L8.5 8.5l.94-2.06 2.06-.94-2.06-.94L8.5 2.5l-.94 2.06-2.06.94zm10 10l.94 2.06.94-2.06 2.06-.94-2.06-.94-.94-2.06-.94 2.06-2.06.94z\"/><path d=\"M17.41 7.96l-1.37-1.37c-.4-.4-.92-.59-1.43-.59-.52 0-1.04.2-1.43.59L10.3 9.45l-7.72 7.72c-.78.78-.78 2.05 0 2.83L4 21.41c.39.39.9.59 1.41.59.51 0 1.02-.2 1.41-.59l7.78-7.78 2.81-2.81c.8-.78.8-2.07 0-2.86zM5.41 20L4 18.59l7.72-7.72 1.47 1.35L5.41 20z\"/>\n",
              "  </svg>\n",
              "      </button>\n",
              "      \n",
              "  <style>\n",
              "    .colab-df-container {\n",
              "      display:flex;\n",
              "      flex-wrap:wrap;\n",
              "      gap: 12px;\n",
              "    }\n",
              "\n",
              "    .colab-df-convert {\n",
              "      background-color: #E8F0FE;\n",
              "      border: none;\n",
              "      border-radius: 50%;\n",
              "      cursor: pointer;\n",
              "      display: none;\n",
              "      fill: #1967D2;\n",
              "      height: 32px;\n",
              "      padding: 0 0 0 0;\n",
              "      width: 32px;\n",
              "    }\n",
              "\n",
              "    .colab-df-convert:hover {\n",
              "      background-color: #E2EBFA;\n",
              "      box-shadow: 0px 1px 2px rgba(60, 64, 67, 0.3), 0px 1px 3px 1px rgba(60, 64, 67, 0.15);\n",
              "      fill: #174EA6;\n",
              "    }\n",
              "\n",
              "    [theme=dark] .colab-df-convert {\n",
              "      background-color: #3B4455;\n",
              "      fill: #D2E3FC;\n",
              "    }\n",
              "\n",
              "    [theme=dark] .colab-df-convert:hover {\n",
              "      background-color: #434B5C;\n",
              "      box-shadow: 0px 1px 3px 1px rgba(0, 0, 0, 0.15);\n",
              "      filter: drop-shadow(0px 1px 2px rgba(0, 0, 0, 0.3));\n",
              "      fill: #FFFFFF;\n",
              "    }\n",
              "  </style>\n",
              "\n",
              "      <script>\n",
              "        const buttonEl =\n",
              "          document.querySelector('#df-b355f48a-7f92-4117-aec8-a7eb924f284f button.colab-df-convert');\n",
              "        buttonEl.style.display =\n",
              "          google.colab.kernel.accessAllowed ? 'block' : 'none';\n",
              "\n",
              "        async function convertToInteractive(key) {\n",
              "          const element = document.querySelector('#df-b355f48a-7f92-4117-aec8-a7eb924f284f');\n",
              "          const dataTable =\n",
              "            await google.colab.kernel.invokeFunction('convertToInteractive',\n",
              "                                                     [key], {});\n",
              "          if (!dataTable) return;\n",
              "\n",
              "          const docLinkHtml = 'Like what you see? Visit the ' +\n",
              "            '<a target=\"_blank\" href=https://colab.research.google.com/notebooks/data_table.ipynb>data table notebook</a>'\n",
              "            + ' to learn more about interactive tables.';\n",
              "          element.innerHTML = '';\n",
              "          dataTable['output_type'] = 'display_data';\n",
              "          await google.colab.output.renderOutput(dataTable, element);\n",
              "          const docLink = document.createElement('div');\n",
              "          docLink.innerHTML = docLinkHtml;\n",
              "          element.appendChild(docLink);\n",
              "        }\n",
              "      </script>\n",
              "    </div>\n",
              "  </div>\n",
              "  "
            ]
          },
          "metadata": {},
          "execution_count": 36
        }
      ]
    },
    {
      "cell_type": "markdown",
      "source": [
        "유저가 3점 미만으로 준 데이터는 보통 이하이므로 선호하지 않는다고 가정하고 제외하고, 사용하지 않는 timestamp 칼럼도 제거해준다."
      ],
      "metadata": {
        "id": "tX7PrYVKfhzl"
      }
    },
    {
      "cell_type": "code",
      "source": [
        "ratings = ratings[ratings['ratings'] >= 3]\n",
        "filtered_data_size = len(ratings)\n",
        "\n",
        "print('원본 size : ', original_data_size, '\\n3점 미만 제외 size : ', filtered_data_size)\n",
        "print('남은 데이터의 비율 : {:.2%}'.format((filtered_data_size / original_data_size)))"
      ],
      "metadata": {
        "colab": {
          "base_uri": "https://localhost:8080/",
          "height": 575
        },
        "id": "h7ibFH5Yfbke",
        "outputId": "eabff8e1-4529-4a44-a344-a12f0d310f75"
      },
      "execution_count": null,
      "outputs": [
        {
          "output_type": "error",
          "ename": "KeyError",
          "evalue": "ignored",
          "traceback": [
            "\u001b[0;31m---------------------------------------------------------------------------\u001b[0m",
            "\u001b[0;31mKeyError\u001b[0m                                  Traceback (most recent call last)",
            "\u001b[0;32m/usr/local/lib/python3.7/dist-packages/pandas/core/indexes/base.py\u001b[0m in \u001b[0;36mget_loc\u001b[0;34m(self, key, method, tolerance)\u001b[0m\n\u001b[1;32m   3360\u001b[0m             \u001b[0;32mtry\u001b[0m\u001b[0;34m:\u001b[0m\u001b[0;34m\u001b[0m\u001b[0;34m\u001b[0m\u001b[0m\n\u001b[0;32m-> 3361\u001b[0;31m                 \u001b[0;32mreturn\u001b[0m \u001b[0mself\u001b[0m\u001b[0;34m.\u001b[0m\u001b[0m_engine\u001b[0m\u001b[0;34m.\u001b[0m\u001b[0mget_loc\u001b[0m\u001b[0;34m(\u001b[0m\u001b[0mcasted_key\u001b[0m\u001b[0;34m)\u001b[0m\u001b[0;34m\u001b[0m\u001b[0;34m\u001b[0m\u001b[0m\n\u001b[0m\u001b[1;32m   3362\u001b[0m             \u001b[0;32mexcept\u001b[0m \u001b[0mKeyError\u001b[0m \u001b[0;32mas\u001b[0m \u001b[0merr\u001b[0m\u001b[0;34m:\u001b[0m\u001b[0;34m\u001b[0m\u001b[0;34m\u001b[0m\u001b[0m\n",
            "\u001b[0;32m/usr/local/lib/python3.7/dist-packages/pandas/_libs/index.pyx\u001b[0m in \u001b[0;36mpandas._libs.index.IndexEngine.get_loc\u001b[0;34m()\u001b[0m\n",
            "\u001b[0;32m/usr/local/lib/python3.7/dist-packages/pandas/_libs/index.pyx\u001b[0m in \u001b[0;36mpandas._libs.index.IndexEngine.get_loc\u001b[0;34m()\u001b[0m\n",
            "\u001b[0;32mpandas/_libs/hashtable_class_helper.pxi\u001b[0m in \u001b[0;36mpandas._libs.hashtable.PyObjectHashTable.get_item\u001b[0;34m()\u001b[0m\n",
            "\u001b[0;32mpandas/_libs/hashtable_class_helper.pxi\u001b[0m in \u001b[0;36mpandas._libs.hashtable.PyObjectHashTable.get_item\u001b[0;34m()\u001b[0m\n",
            "\u001b[0;31mKeyError\u001b[0m: 'ratings'",
            "\nThe above exception was the direct cause of the following exception:\n",
            "\u001b[0;31mKeyError\u001b[0m                                  Traceback (most recent call last)",
            "\u001b[0;32m<ipython-input-117-af3f83caf53e>\u001b[0m in \u001b[0;36m<module>\u001b[0;34m()\u001b[0m\n\u001b[0;32m----> 1\u001b[0;31m \u001b[0mratings\u001b[0m \u001b[0;34m=\u001b[0m \u001b[0mratings\u001b[0m\u001b[0;34m[\u001b[0m\u001b[0mratings\u001b[0m\u001b[0;34m[\u001b[0m\u001b[0;34m'ratings'\u001b[0m\u001b[0;34m]\u001b[0m \u001b[0;34m>=\u001b[0m \u001b[0;36m3\u001b[0m\u001b[0;34m]\u001b[0m\u001b[0;34m\u001b[0m\u001b[0;34m\u001b[0m\u001b[0m\n\u001b[0m\u001b[1;32m      2\u001b[0m \u001b[0mfiltered_data_size\u001b[0m \u001b[0;34m=\u001b[0m \u001b[0mlen\u001b[0m\u001b[0;34m(\u001b[0m\u001b[0mratings\u001b[0m\u001b[0;34m)\u001b[0m\u001b[0;34m\u001b[0m\u001b[0;34m\u001b[0m\u001b[0m\n\u001b[1;32m      3\u001b[0m \u001b[0;34m\u001b[0m\u001b[0m\n\u001b[1;32m      4\u001b[0m \u001b[0mprint\u001b[0m\u001b[0;34m(\u001b[0m\u001b[0;34m'원본 size : '\u001b[0m\u001b[0;34m,\u001b[0m \u001b[0moriginal_data_size\u001b[0m\u001b[0;34m,\u001b[0m \u001b[0;34m'\\n3점 미만 제외 size : '\u001b[0m\u001b[0;34m,\u001b[0m \u001b[0mfiltered_data_size\u001b[0m\u001b[0;34m)\u001b[0m\u001b[0;34m\u001b[0m\u001b[0;34m\u001b[0m\u001b[0m\n\u001b[1;32m      5\u001b[0m \u001b[0mprint\u001b[0m\u001b[0;34m(\u001b[0m\u001b[0;34m'남은 데이터의 비율 : {:.2%}'\u001b[0m\u001b[0;34m.\u001b[0m\u001b[0mformat\u001b[0m\u001b[0;34m(\u001b[0m\u001b[0;34m(\u001b[0m\u001b[0mfiltered_data_size\u001b[0m \u001b[0;34m/\u001b[0m \u001b[0moriginal_data_size\u001b[0m\u001b[0;34m)\u001b[0m\u001b[0;34m)\u001b[0m\u001b[0;34m)\u001b[0m\u001b[0;34m\u001b[0m\u001b[0;34m\u001b[0m\u001b[0m\n",
            "\u001b[0;32m/usr/local/lib/python3.7/dist-packages/pandas/core/frame.py\u001b[0m in \u001b[0;36m__getitem__\u001b[0;34m(self, key)\u001b[0m\n\u001b[1;32m   3456\u001b[0m             \u001b[0;32mif\u001b[0m \u001b[0mself\u001b[0m\u001b[0;34m.\u001b[0m\u001b[0mcolumns\u001b[0m\u001b[0;34m.\u001b[0m\u001b[0mnlevels\u001b[0m \u001b[0;34m>\u001b[0m \u001b[0;36m1\u001b[0m\u001b[0;34m:\u001b[0m\u001b[0;34m\u001b[0m\u001b[0;34m\u001b[0m\u001b[0m\n\u001b[1;32m   3457\u001b[0m                 \u001b[0;32mreturn\u001b[0m \u001b[0mself\u001b[0m\u001b[0;34m.\u001b[0m\u001b[0m_getitem_multilevel\u001b[0m\u001b[0;34m(\u001b[0m\u001b[0mkey\u001b[0m\u001b[0;34m)\u001b[0m\u001b[0;34m\u001b[0m\u001b[0;34m\u001b[0m\u001b[0m\n\u001b[0;32m-> 3458\u001b[0;31m             \u001b[0mindexer\u001b[0m \u001b[0;34m=\u001b[0m \u001b[0mself\u001b[0m\u001b[0;34m.\u001b[0m\u001b[0mcolumns\u001b[0m\u001b[0;34m.\u001b[0m\u001b[0mget_loc\u001b[0m\u001b[0;34m(\u001b[0m\u001b[0mkey\u001b[0m\u001b[0;34m)\u001b[0m\u001b[0;34m\u001b[0m\u001b[0;34m\u001b[0m\u001b[0m\n\u001b[0m\u001b[1;32m   3459\u001b[0m             \u001b[0;32mif\u001b[0m \u001b[0mis_integer\u001b[0m\u001b[0;34m(\u001b[0m\u001b[0mindexer\u001b[0m\u001b[0;34m)\u001b[0m\u001b[0;34m:\u001b[0m\u001b[0;34m\u001b[0m\u001b[0;34m\u001b[0m\u001b[0m\n\u001b[1;32m   3460\u001b[0m                 \u001b[0mindexer\u001b[0m \u001b[0;34m=\u001b[0m \u001b[0;34m[\u001b[0m\u001b[0mindexer\u001b[0m\u001b[0;34m]\u001b[0m\u001b[0;34m\u001b[0m\u001b[0;34m\u001b[0m\u001b[0m\n",
            "\u001b[0;32m/usr/local/lib/python3.7/dist-packages/pandas/core/indexes/base.py\u001b[0m in \u001b[0;36mget_loc\u001b[0;34m(self, key, method, tolerance)\u001b[0m\n\u001b[1;32m   3361\u001b[0m                 \u001b[0;32mreturn\u001b[0m \u001b[0mself\u001b[0m\u001b[0;34m.\u001b[0m\u001b[0m_engine\u001b[0m\u001b[0;34m.\u001b[0m\u001b[0mget_loc\u001b[0m\u001b[0;34m(\u001b[0m\u001b[0mcasted_key\u001b[0m\u001b[0;34m)\u001b[0m\u001b[0;34m\u001b[0m\u001b[0;34m\u001b[0m\u001b[0m\n\u001b[1;32m   3362\u001b[0m             \u001b[0;32mexcept\u001b[0m \u001b[0mKeyError\u001b[0m \u001b[0;32mas\u001b[0m \u001b[0merr\u001b[0m\u001b[0;34m:\u001b[0m\u001b[0;34m\u001b[0m\u001b[0;34m\u001b[0m\u001b[0m\n\u001b[0;32m-> 3363\u001b[0;31m                 \u001b[0;32mraise\u001b[0m \u001b[0mKeyError\u001b[0m\u001b[0;34m(\u001b[0m\u001b[0mkey\u001b[0m\u001b[0;34m)\u001b[0m \u001b[0;32mfrom\u001b[0m \u001b[0merr\u001b[0m\u001b[0;34m\u001b[0m\u001b[0;34m\u001b[0m\u001b[0m\n\u001b[0m\u001b[1;32m   3364\u001b[0m \u001b[0;34m\u001b[0m\u001b[0m\n\u001b[1;32m   3365\u001b[0m         \u001b[0;32mif\u001b[0m \u001b[0mis_scalar\u001b[0m\u001b[0;34m(\u001b[0m\u001b[0mkey\u001b[0m\u001b[0;34m)\u001b[0m \u001b[0;32mand\u001b[0m \u001b[0misna\u001b[0m\u001b[0;34m(\u001b[0m\u001b[0mkey\u001b[0m\u001b[0;34m)\u001b[0m \u001b[0;32mand\u001b[0m \u001b[0;32mnot\u001b[0m \u001b[0mself\u001b[0m\u001b[0;34m.\u001b[0m\u001b[0mhasnans\u001b[0m\u001b[0;34m:\u001b[0m\u001b[0;34m\u001b[0m\u001b[0;34m\u001b[0m\u001b[0m\n",
            "\u001b[0;31mKeyError\u001b[0m: 'ratings'"
          ]
        }
      ]
    },
    {
      "cell_type": "markdown",
      "source": [
        "약 83%는 선호 데이터로 확보했다. "
      ],
      "metadata": {
        "id": "F0hTtAH3g03v"
      }
    },
    {
      "cell_type": "code",
      "source": [
        "# ratings 컬럼의 이름을 counts로 바꿉니다.\n",
        "ratings.rename(columns = {'ratings' : 'counts'}, inplace = True)"
      ],
      "metadata": {
        "id": "Chptmx2-gTYG"
      },
      "execution_count": null,
      "outputs": []
    },
    {
      "cell_type": "code",
      "source": [
        "#잘 바뀌었나 확인\n",
        "ratings['counts']"
      ],
      "metadata": {
        "colab": {
          "base_uri": "https://localhost:8080/"
        },
        "id": "X-QUIrejhPX4",
        "outputId": "92ed599a-7721-4df2-a3ec-0848e8cc0f08"
      },
      "execution_count": null,
      "outputs": [
        {
          "output_type": "execute_result",
          "data": {
            "text/plain": [
              "0          5\n",
              "1          3\n",
              "2          3\n",
              "3          4\n",
              "4          5\n",
              "          ..\n",
              "1000208    4\n",
              "0          5\n",
              "1          4\n",
              "2          5\n",
              "3          4\n",
              "Name: counts, Length: 836482, dtype: int64"
            ]
          },
          "metadata": {},
          "execution_count": 119
        }
      ]
    },
    {
      "cell_type": "code",
      "source": [
        "using_cols = ['user_id', 'movie_id', 'counts']\n",
        "ratings = ratings[using_cols]\n",
        "\n",
        "ratings.head()"
      ],
      "metadata": {
        "colab": {
          "base_uri": "https://localhost:8080/",
          "height": 206
        },
        "id": "IK-RxjGXrT16",
        "outputId": "786f55b2-3346-4693-f56c-5876e8b4bad1"
      },
      "execution_count": null,
      "outputs": [
        {
          "output_type": "execute_result",
          "data": {
            "text/plain": [
              "  user_id  movie_id  counts\n",
              "0       1      1193       5\n",
              "1       1       661       3\n",
              "2       1       914       3\n",
              "3       1      3408       4\n",
              "4       1      2355       5"
            ],
            "text/html": [
              "\n",
              "  <div id=\"df-1cc4db33-83aa-44d3-bcc7-d6cfffcb039d\">\n",
              "    <div class=\"colab-df-container\">\n",
              "      <div>\n",
              "<style scoped>\n",
              "    .dataframe tbody tr th:only-of-type {\n",
              "        vertical-align: middle;\n",
              "    }\n",
              "\n",
              "    .dataframe tbody tr th {\n",
              "        vertical-align: top;\n",
              "    }\n",
              "\n",
              "    .dataframe thead th {\n",
              "        text-align: right;\n",
              "    }\n",
              "</style>\n",
              "<table border=\"1\" class=\"dataframe\">\n",
              "  <thead>\n",
              "    <tr style=\"text-align: right;\">\n",
              "      <th></th>\n",
              "      <th>user_id</th>\n",
              "      <th>movie_id</th>\n",
              "      <th>counts</th>\n",
              "    </tr>\n",
              "  </thead>\n",
              "  <tbody>\n",
              "    <tr>\n",
              "      <th>0</th>\n",
              "      <td>1</td>\n",
              "      <td>1193</td>\n",
              "      <td>5</td>\n",
              "    </tr>\n",
              "    <tr>\n",
              "      <th>1</th>\n",
              "      <td>1</td>\n",
              "      <td>661</td>\n",
              "      <td>3</td>\n",
              "    </tr>\n",
              "    <tr>\n",
              "      <th>2</th>\n",
              "      <td>1</td>\n",
              "      <td>914</td>\n",
              "      <td>3</td>\n",
              "    </tr>\n",
              "    <tr>\n",
              "      <th>3</th>\n",
              "      <td>1</td>\n",
              "      <td>3408</td>\n",
              "      <td>4</td>\n",
              "    </tr>\n",
              "    <tr>\n",
              "      <th>4</th>\n",
              "      <td>1</td>\n",
              "      <td>2355</td>\n",
              "      <td>5</td>\n",
              "    </tr>\n",
              "  </tbody>\n",
              "</table>\n",
              "</div>\n",
              "      <button class=\"colab-df-convert\" onclick=\"convertToInteractive('df-1cc4db33-83aa-44d3-bcc7-d6cfffcb039d')\"\n",
              "              title=\"Convert this dataframe to an interactive table.\"\n",
              "              style=\"display:none;\">\n",
              "        \n",
              "  <svg xmlns=\"http://www.w3.org/2000/svg\" height=\"24px\"viewBox=\"0 0 24 24\"\n",
              "       width=\"24px\">\n",
              "    <path d=\"M0 0h24v24H0V0z\" fill=\"none\"/>\n",
              "    <path d=\"M18.56 5.44l.94 2.06.94-2.06 2.06-.94-2.06-.94-.94-2.06-.94 2.06-2.06.94zm-11 1L8.5 8.5l.94-2.06 2.06-.94-2.06-.94L8.5 2.5l-.94 2.06-2.06.94zm10 10l.94 2.06.94-2.06 2.06-.94-2.06-.94-.94-2.06-.94 2.06-2.06.94z\"/><path d=\"M17.41 7.96l-1.37-1.37c-.4-.4-.92-.59-1.43-.59-.52 0-1.04.2-1.43.59L10.3 9.45l-7.72 7.72c-.78.78-.78 2.05 0 2.83L4 21.41c.39.39.9.59 1.41.59.51 0 1.02-.2 1.41-.59l7.78-7.78 2.81-2.81c.8-.78.8-2.07 0-2.86zM5.41 20L4 18.59l7.72-7.72 1.47 1.35L5.41 20z\"/>\n",
              "  </svg>\n",
              "      </button>\n",
              "      \n",
              "  <style>\n",
              "    .colab-df-container {\n",
              "      display:flex;\n",
              "      flex-wrap:wrap;\n",
              "      gap: 12px;\n",
              "    }\n",
              "\n",
              "    .colab-df-convert {\n",
              "      background-color: #E8F0FE;\n",
              "      border: none;\n",
              "      border-radius: 50%;\n",
              "      cursor: pointer;\n",
              "      display: none;\n",
              "      fill: #1967D2;\n",
              "      height: 32px;\n",
              "      padding: 0 0 0 0;\n",
              "      width: 32px;\n",
              "    }\n",
              "\n",
              "    .colab-df-convert:hover {\n",
              "      background-color: #E2EBFA;\n",
              "      box-shadow: 0px 1px 2px rgba(60, 64, 67, 0.3), 0px 1px 3px 1px rgba(60, 64, 67, 0.15);\n",
              "      fill: #174EA6;\n",
              "    }\n",
              "\n",
              "    [theme=dark] .colab-df-convert {\n",
              "      background-color: #3B4455;\n",
              "      fill: #D2E3FC;\n",
              "    }\n",
              "\n",
              "    [theme=dark] .colab-df-convert:hover {\n",
              "      background-color: #434B5C;\n",
              "      box-shadow: 0px 1px 3px 1px rgba(0, 0, 0, 0.15);\n",
              "      filter: drop-shadow(0px 1px 2px rgba(0, 0, 0, 0.3));\n",
              "      fill: #FFFFFF;\n",
              "    }\n",
              "  </style>\n",
              "\n",
              "      <script>\n",
              "        const buttonEl =\n",
              "          document.querySelector('#df-1cc4db33-83aa-44d3-bcc7-d6cfffcb039d button.colab-df-convert');\n",
              "        buttonEl.style.display =\n",
              "          google.colab.kernel.accessAllowed ? 'block' : 'none';\n",
              "\n",
              "        async function convertToInteractive(key) {\n",
              "          const element = document.querySelector('#df-1cc4db33-83aa-44d3-bcc7-d6cfffcb039d');\n",
              "          const dataTable =\n",
              "            await google.colab.kernel.invokeFunction('convertToInteractive',\n",
              "                                                     [key], {});\n",
              "          if (!dataTable) return;\n",
              "\n",
              "          const docLinkHtml = 'Like what you see? Visit the ' +\n",
              "            '<a target=\"_blank\" href=https://colab.research.google.com/notebooks/data_table.ipynb>data table notebook</a>'\n",
              "            + ' to learn more about interactive tables.';\n",
              "          element.innerHTML = '';\n",
              "          dataTable['output_type'] = 'display_data';\n",
              "          await google.colab.output.renderOutput(dataTable, element);\n",
              "          const docLink = document.createElement('div');\n",
              "          docLink.innerHTML = docLinkHtml;\n",
              "          element.appendChild(docLink);\n",
              "        }\n",
              "      </script>\n",
              "    </div>\n",
              "  </div>\n",
              "  "
            ]
          },
          "metadata": {},
          "execution_count": 120
        }
      ]
    },
    {
      "cell_type": "code",
      "source": [
        "# 영화 특성을 보기 위해 movie 데이터를 읽어옵니다.\n",
        "movie_file_path = path + 'movies.dat'\n",
        "\n",
        "cols = ['movie_id', 'title', 'genre']\n",
        "movies = pd.read_csv(movie_file_path, sep = '::', names=cols,\n",
        "                     engine='python', encoding='ISO-8859-1')\n",
        "\n",
        "movies.head(50)"
      ],
      "metadata": {
        "colab": {
          "base_uri": "https://localhost:8080/",
          "height": 1000
        },
        "id": "MzV3nPBYhTL9",
        "outputId": "de83d3d0-7b8f-4339-c059-d37bb17235bb"
      },
      "execution_count": null,
      "outputs": [
        {
          "output_type": "execute_result",
          "data": {
            "text/plain": [
              "    movie_id                                              title  \\\n",
              "0          1                                   Toy Story (1995)   \n",
              "1          2                                     Jumanji (1995)   \n",
              "2          3                            Grumpier Old Men (1995)   \n",
              "3          4                           Waiting to Exhale (1995)   \n",
              "4          5                 Father of the Bride Part II (1995)   \n",
              "5          6                                        Heat (1995)   \n",
              "6          7                                     Sabrina (1995)   \n",
              "7          8                                Tom and Huck (1995)   \n",
              "8          9                                Sudden Death (1995)   \n",
              "9         10                                   GoldenEye (1995)   \n",
              "10        11                     American President, The (1995)   \n",
              "11        12                 Dracula: Dead and Loving It (1995)   \n",
              "12        13                                       Balto (1995)   \n",
              "13        14                                       Nixon (1995)   \n",
              "14        15                            Cutthroat Island (1995)   \n",
              "15        16                                      Casino (1995)   \n",
              "16        17                       Sense and Sensibility (1995)   \n",
              "17        18                                  Four Rooms (1995)   \n",
              "18        19              Ace Ventura: When Nature Calls (1995)   \n",
              "19        20                                 Money Train (1995)   \n",
              "20        21                                  Get Shorty (1995)   \n",
              "21        22                                     Copycat (1995)   \n",
              "22        23                                   Assassins (1995)   \n",
              "23        24                                      Powder (1995)   \n",
              "24        25                           Leaving Las Vegas (1995)   \n",
              "25        26                                     Othello (1995)   \n",
              "26        27                                Now and Then (1995)   \n",
              "27        28                                  Persuasion (1995)   \n",
              "28        29                  City of Lost Children, The (1995)   \n",
              "29        30  Shanghai Triad (Yao a yao yao dao waipo qiao) ...   \n",
              "30        31                             Dangerous Minds (1995)   \n",
              "31        32                              Twelve Monkeys (1995)   \n",
              "32        33                            Wings of Courage (1995)   \n",
              "33        34                                        Babe (1995)   \n",
              "34        35                                  Carrington (1995)   \n",
              "35        36                            Dead Man Walking (1995)   \n",
              "36        37                      Across the Sea of Time (1995)   \n",
              "37        38                                It Takes Two (1995)   \n",
              "38        39                                    Clueless (1995)   \n",
              "39        40                    Cry, the Beloved Country (1995)   \n",
              "40        41                                 Richard III (1995)   \n",
              "41        42                             Dead Presidents (1995)   \n",
              "42        43                                 Restoration (1995)   \n",
              "43        44                               Mortal Kombat (1995)   \n",
              "44        45                                  To Die For (1995)   \n",
              "45        46               How to Make an American Quilt (1995)   \n",
              "46        47                               Seven (Se7en) (1995)   \n",
              "47        48                                  Pocahontas (1995)   \n",
              "48        49                       When Night Is Falling (1995)   \n",
              "49        50                         Usual Suspects, The (1995)   \n",
              "\n",
              "                                   genre  \n",
              "0            Animation|Children's|Comedy  \n",
              "1           Adventure|Children's|Fantasy  \n",
              "2                         Comedy|Romance  \n",
              "3                           Comedy|Drama  \n",
              "4                                 Comedy  \n",
              "5                  Action|Crime|Thriller  \n",
              "6                         Comedy|Romance  \n",
              "7                   Adventure|Children's  \n",
              "8                                 Action  \n",
              "9              Action|Adventure|Thriller  \n",
              "10                  Comedy|Drama|Romance  \n",
              "11                         Comedy|Horror  \n",
              "12                  Animation|Children's  \n",
              "13                                 Drama  \n",
              "14              Action|Adventure|Romance  \n",
              "15                        Drama|Thriller  \n",
              "16                         Drama|Romance  \n",
              "17                              Thriller  \n",
              "18                                Comedy  \n",
              "19                                Action  \n",
              "20                   Action|Comedy|Drama  \n",
              "21                  Crime|Drama|Thriller  \n",
              "22                              Thriller  \n",
              "23                          Drama|Sci-Fi  \n",
              "24                         Drama|Romance  \n",
              "25                                 Drama  \n",
              "26                                 Drama  \n",
              "27                               Romance  \n",
              "28                      Adventure|Sci-Fi  \n",
              "29                                 Drama  \n",
              "30                                 Drama  \n",
              "31                          Drama|Sci-Fi  \n",
              "32                     Adventure|Romance  \n",
              "33               Children's|Comedy|Drama  \n",
              "34                         Drama|Romance  \n",
              "35                                 Drama  \n",
              "36                           Documentary  \n",
              "37                                Comedy  \n",
              "38                        Comedy|Romance  \n",
              "39                                 Drama  \n",
              "40                             Drama|War  \n",
              "41                    Action|Crime|Drama  \n",
              "42                                 Drama  \n",
              "43                      Action|Adventure  \n",
              "44                          Comedy|Drama  \n",
              "45                         Drama|Romance  \n",
              "46                        Crime|Thriller  \n",
              "47  Animation|Children's|Musical|Romance  \n",
              "48                         Drama|Romance  \n",
              "49                        Crime|Thriller  "
            ],
            "text/html": [
              "\n",
              "  <div id=\"df-404ee9f1-6f54-4aaa-970a-a54403ddbeec\">\n",
              "    <div class=\"colab-df-container\">\n",
              "      <div>\n",
              "<style scoped>\n",
              "    .dataframe tbody tr th:only-of-type {\n",
              "        vertical-align: middle;\n",
              "    }\n",
              "\n",
              "    .dataframe tbody tr th {\n",
              "        vertical-align: top;\n",
              "    }\n",
              "\n",
              "    .dataframe thead th {\n",
              "        text-align: right;\n",
              "    }\n",
              "</style>\n",
              "<table border=\"1\" class=\"dataframe\">\n",
              "  <thead>\n",
              "    <tr style=\"text-align: right;\">\n",
              "      <th></th>\n",
              "      <th>movie_id</th>\n",
              "      <th>title</th>\n",
              "      <th>genre</th>\n",
              "    </tr>\n",
              "  </thead>\n",
              "  <tbody>\n",
              "    <tr>\n",
              "      <th>0</th>\n",
              "      <td>1</td>\n",
              "      <td>Toy Story (1995)</td>\n",
              "      <td>Animation|Children's|Comedy</td>\n",
              "    </tr>\n",
              "    <tr>\n",
              "      <th>1</th>\n",
              "      <td>2</td>\n",
              "      <td>Jumanji (1995)</td>\n",
              "      <td>Adventure|Children's|Fantasy</td>\n",
              "    </tr>\n",
              "    <tr>\n",
              "      <th>2</th>\n",
              "      <td>3</td>\n",
              "      <td>Grumpier Old Men (1995)</td>\n",
              "      <td>Comedy|Romance</td>\n",
              "    </tr>\n",
              "    <tr>\n",
              "      <th>3</th>\n",
              "      <td>4</td>\n",
              "      <td>Waiting to Exhale (1995)</td>\n",
              "      <td>Comedy|Drama</td>\n",
              "    </tr>\n",
              "    <tr>\n",
              "      <th>4</th>\n",
              "      <td>5</td>\n",
              "      <td>Father of the Bride Part II (1995)</td>\n",
              "      <td>Comedy</td>\n",
              "    </tr>\n",
              "    <tr>\n",
              "      <th>5</th>\n",
              "      <td>6</td>\n",
              "      <td>Heat (1995)</td>\n",
              "      <td>Action|Crime|Thriller</td>\n",
              "    </tr>\n",
              "    <tr>\n",
              "      <th>6</th>\n",
              "      <td>7</td>\n",
              "      <td>Sabrina (1995)</td>\n",
              "      <td>Comedy|Romance</td>\n",
              "    </tr>\n",
              "    <tr>\n",
              "      <th>7</th>\n",
              "      <td>8</td>\n",
              "      <td>Tom and Huck (1995)</td>\n",
              "      <td>Adventure|Children's</td>\n",
              "    </tr>\n",
              "    <tr>\n",
              "      <th>8</th>\n",
              "      <td>9</td>\n",
              "      <td>Sudden Death (1995)</td>\n",
              "      <td>Action</td>\n",
              "    </tr>\n",
              "    <tr>\n",
              "      <th>9</th>\n",
              "      <td>10</td>\n",
              "      <td>GoldenEye (1995)</td>\n",
              "      <td>Action|Adventure|Thriller</td>\n",
              "    </tr>\n",
              "    <tr>\n",
              "      <th>10</th>\n",
              "      <td>11</td>\n",
              "      <td>American President, The (1995)</td>\n",
              "      <td>Comedy|Drama|Romance</td>\n",
              "    </tr>\n",
              "    <tr>\n",
              "      <th>11</th>\n",
              "      <td>12</td>\n",
              "      <td>Dracula: Dead and Loving It (1995)</td>\n",
              "      <td>Comedy|Horror</td>\n",
              "    </tr>\n",
              "    <tr>\n",
              "      <th>12</th>\n",
              "      <td>13</td>\n",
              "      <td>Balto (1995)</td>\n",
              "      <td>Animation|Children's</td>\n",
              "    </tr>\n",
              "    <tr>\n",
              "      <th>13</th>\n",
              "      <td>14</td>\n",
              "      <td>Nixon (1995)</td>\n",
              "      <td>Drama</td>\n",
              "    </tr>\n",
              "    <tr>\n",
              "      <th>14</th>\n",
              "      <td>15</td>\n",
              "      <td>Cutthroat Island (1995)</td>\n",
              "      <td>Action|Adventure|Romance</td>\n",
              "    </tr>\n",
              "    <tr>\n",
              "      <th>15</th>\n",
              "      <td>16</td>\n",
              "      <td>Casino (1995)</td>\n",
              "      <td>Drama|Thriller</td>\n",
              "    </tr>\n",
              "    <tr>\n",
              "      <th>16</th>\n",
              "      <td>17</td>\n",
              "      <td>Sense and Sensibility (1995)</td>\n",
              "      <td>Drama|Romance</td>\n",
              "    </tr>\n",
              "    <tr>\n",
              "      <th>17</th>\n",
              "      <td>18</td>\n",
              "      <td>Four Rooms (1995)</td>\n",
              "      <td>Thriller</td>\n",
              "    </tr>\n",
              "    <tr>\n",
              "      <th>18</th>\n",
              "      <td>19</td>\n",
              "      <td>Ace Ventura: When Nature Calls (1995)</td>\n",
              "      <td>Comedy</td>\n",
              "    </tr>\n",
              "    <tr>\n",
              "      <th>19</th>\n",
              "      <td>20</td>\n",
              "      <td>Money Train (1995)</td>\n",
              "      <td>Action</td>\n",
              "    </tr>\n",
              "    <tr>\n",
              "      <th>20</th>\n",
              "      <td>21</td>\n",
              "      <td>Get Shorty (1995)</td>\n",
              "      <td>Action|Comedy|Drama</td>\n",
              "    </tr>\n",
              "    <tr>\n",
              "      <th>21</th>\n",
              "      <td>22</td>\n",
              "      <td>Copycat (1995)</td>\n",
              "      <td>Crime|Drama|Thriller</td>\n",
              "    </tr>\n",
              "    <tr>\n",
              "      <th>22</th>\n",
              "      <td>23</td>\n",
              "      <td>Assassins (1995)</td>\n",
              "      <td>Thriller</td>\n",
              "    </tr>\n",
              "    <tr>\n",
              "      <th>23</th>\n",
              "      <td>24</td>\n",
              "      <td>Powder (1995)</td>\n",
              "      <td>Drama|Sci-Fi</td>\n",
              "    </tr>\n",
              "    <tr>\n",
              "      <th>24</th>\n",
              "      <td>25</td>\n",
              "      <td>Leaving Las Vegas (1995)</td>\n",
              "      <td>Drama|Romance</td>\n",
              "    </tr>\n",
              "    <tr>\n",
              "      <th>25</th>\n",
              "      <td>26</td>\n",
              "      <td>Othello (1995)</td>\n",
              "      <td>Drama</td>\n",
              "    </tr>\n",
              "    <tr>\n",
              "      <th>26</th>\n",
              "      <td>27</td>\n",
              "      <td>Now and Then (1995)</td>\n",
              "      <td>Drama</td>\n",
              "    </tr>\n",
              "    <tr>\n",
              "      <th>27</th>\n",
              "      <td>28</td>\n",
              "      <td>Persuasion (1995)</td>\n",
              "      <td>Romance</td>\n",
              "    </tr>\n",
              "    <tr>\n",
              "      <th>28</th>\n",
              "      <td>29</td>\n",
              "      <td>City of Lost Children, The (1995)</td>\n",
              "      <td>Adventure|Sci-Fi</td>\n",
              "    </tr>\n",
              "    <tr>\n",
              "      <th>29</th>\n",
              "      <td>30</td>\n",
              "      <td>Shanghai Triad (Yao a yao yao dao waipo qiao) ...</td>\n",
              "      <td>Drama</td>\n",
              "    </tr>\n",
              "    <tr>\n",
              "      <th>30</th>\n",
              "      <td>31</td>\n",
              "      <td>Dangerous Minds (1995)</td>\n",
              "      <td>Drama</td>\n",
              "    </tr>\n",
              "    <tr>\n",
              "      <th>31</th>\n",
              "      <td>32</td>\n",
              "      <td>Twelve Monkeys (1995)</td>\n",
              "      <td>Drama|Sci-Fi</td>\n",
              "    </tr>\n",
              "    <tr>\n",
              "      <th>32</th>\n",
              "      <td>33</td>\n",
              "      <td>Wings of Courage (1995)</td>\n",
              "      <td>Adventure|Romance</td>\n",
              "    </tr>\n",
              "    <tr>\n",
              "      <th>33</th>\n",
              "      <td>34</td>\n",
              "      <td>Babe (1995)</td>\n",
              "      <td>Children's|Comedy|Drama</td>\n",
              "    </tr>\n",
              "    <tr>\n",
              "      <th>34</th>\n",
              "      <td>35</td>\n",
              "      <td>Carrington (1995)</td>\n",
              "      <td>Drama|Romance</td>\n",
              "    </tr>\n",
              "    <tr>\n",
              "      <th>35</th>\n",
              "      <td>36</td>\n",
              "      <td>Dead Man Walking (1995)</td>\n",
              "      <td>Drama</td>\n",
              "    </tr>\n",
              "    <tr>\n",
              "      <th>36</th>\n",
              "      <td>37</td>\n",
              "      <td>Across the Sea of Time (1995)</td>\n",
              "      <td>Documentary</td>\n",
              "    </tr>\n",
              "    <tr>\n",
              "      <th>37</th>\n",
              "      <td>38</td>\n",
              "      <td>It Takes Two (1995)</td>\n",
              "      <td>Comedy</td>\n",
              "    </tr>\n",
              "    <tr>\n",
              "      <th>38</th>\n",
              "      <td>39</td>\n",
              "      <td>Clueless (1995)</td>\n",
              "      <td>Comedy|Romance</td>\n",
              "    </tr>\n",
              "    <tr>\n",
              "      <th>39</th>\n",
              "      <td>40</td>\n",
              "      <td>Cry, the Beloved Country (1995)</td>\n",
              "      <td>Drama</td>\n",
              "    </tr>\n",
              "    <tr>\n",
              "      <th>40</th>\n",
              "      <td>41</td>\n",
              "      <td>Richard III (1995)</td>\n",
              "      <td>Drama|War</td>\n",
              "    </tr>\n",
              "    <tr>\n",
              "      <th>41</th>\n",
              "      <td>42</td>\n",
              "      <td>Dead Presidents (1995)</td>\n",
              "      <td>Action|Crime|Drama</td>\n",
              "    </tr>\n",
              "    <tr>\n",
              "      <th>42</th>\n",
              "      <td>43</td>\n",
              "      <td>Restoration (1995)</td>\n",
              "      <td>Drama</td>\n",
              "    </tr>\n",
              "    <tr>\n",
              "      <th>43</th>\n",
              "      <td>44</td>\n",
              "      <td>Mortal Kombat (1995)</td>\n",
              "      <td>Action|Adventure</td>\n",
              "    </tr>\n",
              "    <tr>\n",
              "      <th>44</th>\n",
              "      <td>45</td>\n",
              "      <td>To Die For (1995)</td>\n",
              "      <td>Comedy|Drama</td>\n",
              "    </tr>\n",
              "    <tr>\n",
              "      <th>45</th>\n",
              "      <td>46</td>\n",
              "      <td>How to Make an American Quilt (1995)</td>\n",
              "      <td>Drama|Romance</td>\n",
              "    </tr>\n",
              "    <tr>\n",
              "      <th>46</th>\n",
              "      <td>47</td>\n",
              "      <td>Seven (Se7en) (1995)</td>\n",
              "      <td>Crime|Thriller</td>\n",
              "    </tr>\n",
              "    <tr>\n",
              "      <th>47</th>\n",
              "      <td>48</td>\n",
              "      <td>Pocahontas (1995)</td>\n",
              "      <td>Animation|Children's|Musical|Romance</td>\n",
              "    </tr>\n",
              "    <tr>\n",
              "      <th>48</th>\n",
              "      <td>49</td>\n",
              "      <td>When Night Is Falling (1995)</td>\n",
              "      <td>Drama|Romance</td>\n",
              "    </tr>\n",
              "    <tr>\n",
              "      <th>49</th>\n",
              "      <td>50</td>\n",
              "      <td>Usual Suspects, The (1995)</td>\n",
              "      <td>Crime|Thriller</td>\n",
              "    </tr>\n",
              "  </tbody>\n",
              "</table>\n",
              "</div>\n",
              "      <button class=\"colab-df-convert\" onclick=\"convertToInteractive('df-404ee9f1-6f54-4aaa-970a-a54403ddbeec')\"\n",
              "              title=\"Convert this dataframe to an interactive table.\"\n",
              "              style=\"display:none;\">\n",
              "        \n",
              "  <svg xmlns=\"http://www.w3.org/2000/svg\" height=\"24px\"viewBox=\"0 0 24 24\"\n",
              "       width=\"24px\">\n",
              "    <path d=\"M0 0h24v24H0V0z\" fill=\"none\"/>\n",
              "    <path d=\"M18.56 5.44l.94 2.06.94-2.06 2.06-.94-2.06-.94-.94-2.06-.94 2.06-2.06.94zm-11 1L8.5 8.5l.94-2.06 2.06-.94-2.06-.94L8.5 2.5l-.94 2.06-2.06.94zm10 10l.94 2.06.94-2.06 2.06-.94-2.06-.94-.94-2.06-.94 2.06-2.06.94z\"/><path d=\"M17.41 7.96l-1.37-1.37c-.4-.4-.92-.59-1.43-.59-.52 0-1.04.2-1.43.59L10.3 9.45l-7.72 7.72c-.78.78-.78 2.05 0 2.83L4 21.41c.39.39.9.59 1.41.59.51 0 1.02-.2 1.41-.59l7.78-7.78 2.81-2.81c.8-.78.8-2.07 0-2.86zM5.41 20L4 18.59l7.72-7.72 1.47 1.35L5.41 20z\"/>\n",
              "  </svg>\n",
              "      </button>\n",
              "      \n",
              "  <style>\n",
              "    .colab-df-container {\n",
              "      display:flex;\n",
              "      flex-wrap:wrap;\n",
              "      gap: 12px;\n",
              "    }\n",
              "\n",
              "    .colab-df-convert {\n",
              "      background-color: #E8F0FE;\n",
              "      border: none;\n",
              "      border-radius: 50%;\n",
              "      cursor: pointer;\n",
              "      display: none;\n",
              "      fill: #1967D2;\n",
              "      height: 32px;\n",
              "      padding: 0 0 0 0;\n",
              "      width: 32px;\n",
              "    }\n",
              "\n",
              "    .colab-df-convert:hover {\n",
              "      background-color: #E2EBFA;\n",
              "      box-shadow: 0px 1px 2px rgba(60, 64, 67, 0.3), 0px 1px 3px 1px rgba(60, 64, 67, 0.15);\n",
              "      fill: #174EA6;\n",
              "    }\n",
              "\n",
              "    [theme=dark] .colab-df-convert {\n",
              "      background-color: #3B4455;\n",
              "      fill: #D2E3FC;\n",
              "    }\n",
              "\n",
              "    [theme=dark] .colab-df-convert:hover {\n",
              "      background-color: #434B5C;\n",
              "      box-shadow: 0px 1px 3px 1px rgba(0, 0, 0, 0.15);\n",
              "      filter: drop-shadow(0px 1px 2px rgba(0, 0, 0, 0.3));\n",
              "      fill: #FFFFFF;\n",
              "    }\n",
              "  </style>\n",
              "\n",
              "      <script>\n",
              "        const buttonEl =\n",
              "          document.querySelector('#df-404ee9f1-6f54-4aaa-970a-a54403ddbeec button.colab-df-convert');\n",
              "        buttonEl.style.display =\n",
              "          google.colab.kernel.accessAllowed ? 'block' : 'none';\n",
              "\n",
              "        async function convertToInteractive(key) {\n",
              "          const element = document.querySelector('#df-404ee9f1-6f54-4aaa-970a-a54403ddbeec');\n",
              "          const dataTable =\n",
              "            await google.colab.kernel.invokeFunction('convertToInteractive',\n",
              "                                                     [key], {});\n",
              "          if (!dataTable) return;\n",
              "\n",
              "          const docLinkHtml = 'Like what you see? Visit the ' +\n",
              "            '<a target=\"_blank\" href=https://colab.research.google.com/notebooks/data_table.ipynb>data table notebook</a>'\n",
              "            + ' to learn more about interactive tables.';\n",
              "          element.innerHTML = '';\n",
              "          dataTable['output_type'] = 'display_data';\n",
              "          await google.colab.output.renderOutput(dataTable, element);\n",
              "          const docLink = document.createElement('div');\n",
              "          docLink.innerHTML = docLinkHtml;\n",
              "          element.appendChild(docLink);\n",
              "        }\n",
              "      </script>\n",
              "    </div>\n",
              "  </div>\n",
              "  "
            ]
          },
          "metadata": {},
          "execution_count": 121
        }
      ]
    },
    {
      "cell_type": "markdown",
      "source": [
        "## STEP 2. TEST용 유저 추가\n",
        "---\n",
        "\n",
        "후에 모델의 성능을 확인하기 위해 TEST user 'chaaaaabbo'를 만들어 넣어줍니다.   \n",
        "\n",
        "user_id 가 6040까지 있으니, chaaaaabbo의 user_id는 6041, 좋아하는 영화는 Toy Story(1) 5점, Pocahontas(48) 4점, Matrix, The (1999)' 5점,'Jurassic Park (1993)' 4점으로 줘보겠습니다. "
      ],
      "metadata": {
        "id": "RlDgl4rwEEoV"
      }
    },
    {
      "cell_type": "code",
      "source": [
        "# 좋아하는 영화를 넣어줍니다. \n",
        "\n",
        "my_favorite = ['Toy Story (1995)', 'Pocahontas (1995)' ,'Matrix, The (1999)','Jurassic Park (1993)']\n",
        "\n",
        "for i in my_favorite:\n",
        "    condition = (movies.title == i)\n",
        "    print(movies.loc[condition])\n",
        "# for i in my_favorite:\n",
        "#     print(i)\n",
        "#     a = movies.loc[movies['title']==i]\n",
        "#     print(a)"
      ],
      "metadata": {
        "colab": {
          "base_uri": "https://localhost:8080/"
        },
        "id": "YuCLS4VF6pA5",
        "outputId": "afa4f0e5-88f9-4f29-c4f6-43b81b81fc1b"
      },
      "execution_count": null,
      "outputs": [
        {
          "output_type": "stream",
          "name": "stdout",
          "text": [
            "   movie_id             title                        genre\n",
            "0         1  Toy Story (1995)  Animation|Children's|Comedy\n",
            "    movie_id              title                                 genre\n",
            "47        48  Pocahontas (1995)  Animation|Children's|Musical|Romance\n",
            "      movie_id               title                   genre\n",
            "2502      2571  Matrix, The (1999)  Action|Sci-Fi|Thriller\n",
            "     movie_id                 title                    genre\n",
            "476       480  Jurassic Park (1993)  Action|Adventure|Sci-Fi\n"
          ]
        }
      ]
    },
    {
      "cell_type": "code",
      "source": [
        "# 좋아하는 영화 입력\n",
        "\n",
        "# my_favorite = ['Toy Story (1995)', 'Pocahontas (1995)' ,'Matrix, The (1999)','Jurassic Park (1993)']\n",
        "my_favorite_movie_id = [1, 48, 2571, 480]\n",
        "\n",
        "# 'chaaaaabbo'이라는 user_id 특성 입력\n",
        "my_playlist = pd.DataFrame({'user_id' : ['6041']*4, 'movie_id' : my_favorite_movie_id, 'counts':(5,4,5,4)})\n",
        "\n",
        "# user_id에 'chaaaaabbo'이라는 데이터가 없다면\n",
        "if not ratings.isin({'user_id': ['6041']})['user_id'].any():\n",
        " # 위에 임의로 만든 my_playlist 데이터를 추가해 줍니다. \n",
        "    ratings = ratings.append(my_playlist)\n",
        "\n",
        "#잘 만들어졌는지 확인\n",
        "ratings.tail(10)"
      ],
      "metadata": {
        "colab": {
          "base_uri": "https://localhost:8080/",
          "height": 363
        },
        "id": "Zv-8vXVA5cYO",
        "outputId": "89a96889-2fa5-4aa2-adbb-33e9427eee4f"
      },
      "execution_count": null,
      "outputs": [
        {
          "output_type": "execute_result",
          "data": {
            "text/plain": [
              "        user_id  movie_id  counts\n",
              "1000202    6040      1089       4\n",
              "1000203    6040      1090       3\n",
              "1000205    6040      1094       5\n",
              "1000206    6040       562       5\n",
              "1000207    6040      1096       4\n",
              "1000208    6040      1097       4\n",
              "0          6041         1       5\n",
              "1          6041        48       4\n",
              "2          6041      2571       5\n",
              "3          6041       480       4"
            ],
            "text/html": [
              "\n",
              "  <div id=\"df-6f35748f-fdcf-4310-95d2-ec4b8141f760\">\n",
              "    <div class=\"colab-df-container\">\n",
              "      <div>\n",
              "<style scoped>\n",
              "    .dataframe tbody tr th:only-of-type {\n",
              "        vertical-align: middle;\n",
              "    }\n",
              "\n",
              "    .dataframe tbody tr th {\n",
              "        vertical-align: top;\n",
              "    }\n",
              "\n",
              "    .dataframe thead th {\n",
              "        text-align: right;\n",
              "    }\n",
              "</style>\n",
              "<table border=\"1\" class=\"dataframe\">\n",
              "  <thead>\n",
              "    <tr style=\"text-align: right;\">\n",
              "      <th></th>\n",
              "      <th>user_id</th>\n",
              "      <th>movie_id</th>\n",
              "      <th>counts</th>\n",
              "    </tr>\n",
              "  </thead>\n",
              "  <tbody>\n",
              "    <tr>\n",
              "      <th>1000202</th>\n",
              "      <td>6040</td>\n",
              "      <td>1089</td>\n",
              "      <td>4</td>\n",
              "    </tr>\n",
              "    <tr>\n",
              "      <th>1000203</th>\n",
              "      <td>6040</td>\n",
              "      <td>1090</td>\n",
              "      <td>3</td>\n",
              "    </tr>\n",
              "    <tr>\n",
              "      <th>1000205</th>\n",
              "      <td>6040</td>\n",
              "      <td>1094</td>\n",
              "      <td>5</td>\n",
              "    </tr>\n",
              "    <tr>\n",
              "      <th>1000206</th>\n",
              "      <td>6040</td>\n",
              "      <td>562</td>\n",
              "      <td>5</td>\n",
              "    </tr>\n",
              "    <tr>\n",
              "      <th>1000207</th>\n",
              "      <td>6040</td>\n",
              "      <td>1096</td>\n",
              "      <td>4</td>\n",
              "    </tr>\n",
              "    <tr>\n",
              "      <th>1000208</th>\n",
              "      <td>6040</td>\n",
              "      <td>1097</td>\n",
              "      <td>4</td>\n",
              "    </tr>\n",
              "    <tr>\n",
              "      <th>0</th>\n",
              "      <td>6041</td>\n",
              "      <td>1</td>\n",
              "      <td>5</td>\n",
              "    </tr>\n",
              "    <tr>\n",
              "      <th>1</th>\n",
              "      <td>6041</td>\n",
              "      <td>48</td>\n",
              "      <td>4</td>\n",
              "    </tr>\n",
              "    <tr>\n",
              "      <th>2</th>\n",
              "      <td>6041</td>\n",
              "      <td>2571</td>\n",
              "      <td>5</td>\n",
              "    </tr>\n",
              "    <tr>\n",
              "      <th>3</th>\n",
              "      <td>6041</td>\n",
              "      <td>480</td>\n",
              "      <td>4</td>\n",
              "    </tr>\n",
              "  </tbody>\n",
              "</table>\n",
              "</div>\n",
              "      <button class=\"colab-df-convert\" onclick=\"convertToInteractive('df-6f35748f-fdcf-4310-95d2-ec4b8141f760')\"\n",
              "              title=\"Convert this dataframe to an interactive table.\"\n",
              "              style=\"display:none;\">\n",
              "        \n",
              "  <svg xmlns=\"http://www.w3.org/2000/svg\" height=\"24px\"viewBox=\"0 0 24 24\"\n",
              "       width=\"24px\">\n",
              "    <path d=\"M0 0h24v24H0V0z\" fill=\"none\"/>\n",
              "    <path d=\"M18.56 5.44l.94 2.06.94-2.06 2.06-.94-2.06-.94-.94-2.06-.94 2.06-2.06.94zm-11 1L8.5 8.5l.94-2.06 2.06-.94-2.06-.94L8.5 2.5l-.94 2.06-2.06.94zm10 10l.94 2.06.94-2.06 2.06-.94-2.06-.94-.94-2.06-.94 2.06-2.06.94z\"/><path d=\"M17.41 7.96l-1.37-1.37c-.4-.4-.92-.59-1.43-.59-.52 0-1.04.2-1.43.59L10.3 9.45l-7.72 7.72c-.78.78-.78 2.05 0 2.83L4 21.41c.39.39.9.59 1.41.59.51 0 1.02-.2 1.41-.59l7.78-7.78 2.81-2.81c.8-.78.8-2.07 0-2.86zM5.41 20L4 18.59l7.72-7.72 1.47 1.35L5.41 20z\"/>\n",
              "  </svg>\n",
              "      </button>\n",
              "      \n",
              "  <style>\n",
              "    .colab-df-container {\n",
              "      display:flex;\n",
              "      flex-wrap:wrap;\n",
              "      gap: 12px;\n",
              "    }\n",
              "\n",
              "    .colab-df-convert {\n",
              "      background-color: #E8F0FE;\n",
              "      border: none;\n",
              "      border-radius: 50%;\n",
              "      cursor: pointer;\n",
              "      display: none;\n",
              "      fill: #1967D2;\n",
              "      height: 32px;\n",
              "      padding: 0 0 0 0;\n",
              "      width: 32px;\n",
              "    }\n",
              "\n",
              "    .colab-df-convert:hover {\n",
              "      background-color: #E2EBFA;\n",
              "      box-shadow: 0px 1px 2px rgba(60, 64, 67, 0.3), 0px 1px 3px 1px rgba(60, 64, 67, 0.15);\n",
              "      fill: #174EA6;\n",
              "    }\n",
              "\n",
              "    [theme=dark] .colab-df-convert {\n",
              "      background-color: #3B4455;\n",
              "      fill: #D2E3FC;\n",
              "    }\n",
              "\n",
              "    [theme=dark] .colab-df-convert:hover {\n",
              "      background-color: #434B5C;\n",
              "      box-shadow: 0px 1px 3px 1px rgba(0, 0, 0, 0.15);\n",
              "      filter: drop-shadow(0px 1px 2px rgba(0, 0, 0, 0.3));\n",
              "      fill: #FFFFFF;\n",
              "    }\n",
              "  </style>\n",
              "\n",
              "      <script>\n",
              "        const buttonEl =\n",
              "          document.querySelector('#df-6f35748f-fdcf-4310-95d2-ec4b8141f760 button.colab-df-convert');\n",
              "        buttonEl.style.display =\n",
              "          google.colab.kernel.accessAllowed ? 'block' : 'none';\n",
              "\n",
              "        async function convertToInteractive(key) {\n",
              "          const element = document.querySelector('#df-6f35748f-fdcf-4310-95d2-ec4b8141f760');\n",
              "          const dataTable =\n",
              "            await google.colab.kernel.invokeFunction('convertToInteractive',\n",
              "                                                     [key], {});\n",
              "          if (!dataTable) return;\n",
              "\n",
              "          const docLinkHtml = 'Like what you see? Visit the ' +\n",
              "            '<a target=\"_blank\" href=https://colab.research.google.com/notebooks/data_table.ipynb>data table notebook</a>'\n",
              "            + ' to learn more about interactive tables.';\n",
              "          element.innerHTML = '';\n",
              "          dataTable['output_type'] = 'display_data';\n",
              "          await google.colab.output.renderOutput(dataTable, element);\n",
              "          const docLink = document.createElement('div');\n",
              "          docLink.innerHTML = docLinkHtml;\n",
              "          element.appendChild(docLink);\n",
              "        }\n",
              "      </script>\n",
              "    </div>\n",
              "  </div>\n",
              "  "
            ]
          },
          "metadata": {},
          "execution_count": 123
        }
      ]
    },
    {
      "cell_type": "markdown",
      "source": [
        "가독성을 위해 movie_id 별 title을 넣어줍니다. "
      ],
      "metadata": {
        "id": "hgee_-Q1CVvG"
      }
    },
    {
      "cell_type": "code",
      "source": [
        "############### 유저 정보와 영화 정보를 movie_id를 기준으로 합쳐줌 ############\n",
        "rating_movie = pd.merge(ratings, movies, how='outer')\n"
      ],
      "metadata": {
        "id": "AfGPzfJl0b6l"
      },
      "execution_count": null,
      "outputs": []
    },
    {
      "cell_type": "code",
      "source": [
        "rating_movie.isna().sum()"
      ],
      "metadata": {
        "colab": {
          "base_uri": "https://localhost:8080/"
        },
        "id": "0Jq7CDQE1Ka2",
        "outputId": "00b6cac2-2c10-40c0-ac1d-02720c05619d"
      },
      "execution_count": null,
      "outputs": [
        {
          "output_type": "execute_result",
          "data": {
            "text/plain": [
              "user_id     255\n",
              "movie_id      0\n",
              "counts      255\n",
              "title         0\n",
              "genre         0\n",
              "dtype: int64"
            ]
          },
          "metadata": {},
          "execution_count": 125
        }
      ]
    },
    {
      "cell_type": "markdown",
      "source": [
        "user_id와 counts가 없는 영화는 필요없으니 삭제해줍니다. "
      ],
      "metadata": {
        "id": "RaoT6bLe1fyw"
      }
    },
    {
      "cell_type": "code",
      "source": [
        "rating_movie = rating_movie.dropna()\n",
        "\n",
        "rating_movie.isna().sum()"
      ],
      "metadata": {
        "colab": {
          "base_uri": "https://localhost:8080/"
        },
        "id": "IqCc2rJw1ogn",
        "outputId": "a1ed36f8-526c-440e-92ad-b08ca47d4876"
      },
      "execution_count": null,
      "outputs": [
        {
          "output_type": "execute_result",
          "data": {
            "text/plain": [
              "user_id     0\n",
              "movie_id    0\n",
              "counts      0\n",
              "title       0\n",
              "genre       0\n",
              "dtype: int64"
            ]
          },
          "metadata": {},
          "execution_count": 126
        }
      ]
    },
    {
      "cell_type": "code",
      "source": [
        "rating_movie.tail()"
      ],
      "metadata": {
        "colab": {
          "base_uri": "https://localhost:8080/",
          "height": 302
        },
        "id": "H2heMNUD2NvG",
        "outputId": "c53ed2e4-be59-4ef8-9916-a8e3b995f0c3"
      },
      "execution_count": null,
      "outputs": [
        {
          "output_type": "execute_result",
          "data": {
            "text/plain": [
              "       user_id  movie_id  counts  \\\n",
              "836477    5851      3607     5.0   \n",
              "836478    5854      3026     4.0   \n",
              "836479    5854       690     3.0   \n",
              "836480    5938      2909     4.0   \n",
              "836481    5948      1360     5.0   \n",
              "\n",
              "                                                    title  \\\n",
              "836477                           One Little Indian (1973)   \n",
              "836478                              Slaughterhouse (1987)   \n",
              "836479             Promise, The (Versprechen, Das) (1994)   \n",
              "836480        Five Wives, Three Secretaries and Me (1998)   \n",
              "836481  Identification of a Woman (Identificazione di ...   \n",
              "\n",
              "                       genre  \n",
              "836477  Comedy|Drama|Western  \n",
              "836478                Horror  \n",
              "836479               Romance  \n",
              "836480           Documentary  \n",
              "836481                 Drama  "
            ],
            "text/html": [
              "\n",
              "  <div id=\"df-587a3a3c-6c92-43de-8673-c1687fbd0d54\">\n",
              "    <div class=\"colab-df-container\">\n",
              "      <div>\n",
              "<style scoped>\n",
              "    .dataframe tbody tr th:only-of-type {\n",
              "        vertical-align: middle;\n",
              "    }\n",
              "\n",
              "    .dataframe tbody tr th {\n",
              "        vertical-align: top;\n",
              "    }\n",
              "\n",
              "    .dataframe thead th {\n",
              "        text-align: right;\n",
              "    }\n",
              "</style>\n",
              "<table border=\"1\" class=\"dataframe\">\n",
              "  <thead>\n",
              "    <tr style=\"text-align: right;\">\n",
              "      <th></th>\n",
              "      <th>user_id</th>\n",
              "      <th>movie_id</th>\n",
              "      <th>counts</th>\n",
              "      <th>title</th>\n",
              "      <th>genre</th>\n",
              "    </tr>\n",
              "  </thead>\n",
              "  <tbody>\n",
              "    <tr>\n",
              "      <th>836477</th>\n",
              "      <td>5851</td>\n",
              "      <td>3607</td>\n",
              "      <td>5.0</td>\n",
              "      <td>One Little Indian (1973)</td>\n",
              "      <td>Comedy|Drama|Western</td>\n",
              "    </tr>\n",
              "    <tr>\n",
              "      <th>836478</th>\n",
              "      <td>5854</td>\n",
              "      <td>3026</td>\n",
              "      <td>4.0</td>\n",
              "      <td>Slaughterhouse (1987)</td>\n",
              "      <td>Horror</td>\n",
              "    </tr>\n",
              "    <tr>\n",
              "      <th>836479</th>\n",
              "      <td>5854</td>\n",
              "      <td>690</td>\n",
              "      <td>3.0</td>\n",
              "      <td>Promise, The (Versprechen, Das) (1994)</td>\n",
              "      <td>Romance</td>\n",
              "    </tr>\n",
              "    <tr>\n",
              "      <th>836480</th>\n",
              "      <td>5938</td>\n",
              "      <td>2909</td>\n",
              "      <td>4.0</td>\n",
              "      <td>Five Wives, Three Secretaries and Me (1998)</td>\n",
              "      <td>Documentary</td>\n",
              "    </tr>\n",
              "    <tr>\n",
              "      <th>836481</th>\n",
              "      <td>5948</td>\n",
              "      <td>1360</td>\n",
              "      <td>5.0</td>\n",
              "      <td>Identification of a Woman (Identificazione di ...</td>\n",
              "      <td>Drama</td>\n",
              "    </tr>\n",
              "  </tbody>\n",
              "</table>\n",
              "</div>\n",
              "      <button class=\"colab-df-convert\" onclick=\"convertToInteractive('df-587a3a3c-6c92-43de-8673-c1687fbd0d54')\"\n",
              "              title=\"Convert this dataframe to an interactive table.\"\n",
              "              style=\"display:none;\">\n",
              "        \n",
              "  <svg xmlns=\"http://www.w3.org/2000/svg\" height=\"24px\"viewBox=\"0 0 24 24\"\n",
              "       width=\"24px\">\n",
              "    <path d=\"M0 0h24v24H0V0z\" fill=\"none\"/>\n",
              "    <path d=\"M18.56 5.44l.94 2.06.94-2.06 2.06-.94-2.06-.94-.94-2.06-.94 2.06-2.06.94zm-11 1L8.5 8.5l.94-2.06 2.06-.94-2.06-.94L8.5 2.5l-.94 2.06-2.06.94zm10 10l.94 2.06.94-2.06 2.06-.94-2.06-.94-.94-2.06-.94 2.06-2.06.94z\"/><path d=\"M17.41 7.96l-1.37-1.37c-.4-.4-.92-.59-1.43-.59-.52 0-1.04.2-1.43.59L10.3 9.45l-7.72 7.72c-.78.78-.78 2.05 0 2.83L4 21.41c.39.39.9.59 1.41.59.51 0 1.02-.2 1.41-.59l7.78-7.78 2.81-2.81c.8-.78.8-2.07 0-2.86zM5.41 20L4 18.59l7.72-7.72 1.47 1.35L5.41 20z\"/>\n",
              "  </svg>\n",
              "      </button>\n",
              "      \n",
              "  <style>\n",
              "    .colab-df-container {\n",
              "      display:flex;\n",
              "      flex-wrap:wrap;\n",
              "      gap: 12px;\n",
              "    }\n",
              "\n",
              "    .colab-df-convert {\n",
              "      background-color: #E8F0FE;\n",
              "      border: none;\n",
              "      border-radius: 50%;\n",
              "      cursor: pointer;\n",
              "      display: none;\n",
              "      fill: #1967D2;\n",
              "      height: 32px;\n",
              "      padding: 0 0 0 0;\n",
              "      width: 32px;\n",
              "    }\n",
              "\n",
              "    .colab-df-convert:hover {\n",
              "      background-color: #E2EBFA;\n",
              "      box-shadow: 0px 1px 2px rgba(60, 64, 67, 0.3), 0px 1px 3px 1px rgba(60, 64, 67, 0.15);\n",
              "      fill: #174EA6;\n",
              "    }\n",
              "\n",
              "    [theme=dark] .colab-df-convert {\n",
              "      background-color: #3B4455;\n",
              "      fill: #D2E3FC;\n",
              "    }\n",
              "\n",
              "    [theme=dark] .colab-df-convert:hover {\n",
              "      background-color: #434B5C;\n",
              "      box-shadow: 0px 1px 3px 1px rgba(0, 0, 0, 0.15);\n",
              "      filter: drop-shadow(0px 1px 2px rgba(0, 0, 0, 0.3));\n",
              "      fill: #FFFFFF;\n",
              "    }\n",
              "  </style>\n",
              "\n",
              "      <script>\n",
              "        const buttonEl =\n",
              "          document.querySelector('#df-587a3a3c-6c92-43de-8673-c1687fbd0d54 button.colab-df-convert');\n",
              "        buttonEl.style.display =\n",
              "          google.colab.kernel.accessAllowed ? 'block' : 'none';\n",
              "\n",
              "        async function convertToInteractive(key) {\n",
              "          const element = document.querySelector('#df-587a3a3c-6c92-43de-8673-c1687fbd0d54');\n",
              "          const dataTable =\n",
              "            await google.colab.kernel.invokeFunction('convertToInteractive',\n",
              "                                                     [key], {});\n",
              "          if (!dataTable) return;\n",
              "\n",
              "          const docLinkHtml = 'Like what you see? Visit the ' +\n",
              "            '<a target=\"_blank\" href=https://colab.research.google.com/notebooks/data_table.ipynb>data table notebook</a>'\n",
              "            + ' to learn more about interactive tables.';\n",
              "          element.innerHTML = '';\n",
              "          dataTable['output_type'] = 'display_data';\n",
              "          await google.colab.output.renderOutput(dataTable, element);\n",
              "          const docLink = document.createElement('div');\n",
              "          docLink.innerHTML = docLinkHtml;\n",
              "          element.appendChild(docLink);\n",
              "        }\n",
              "      </script>\n",
              "    </div>\n",
              "  </div>\n",
              "  "
            ]
          },
          "metadata": {},
          "execution_count": 127
        }
      ]
    },
    {
      "cell_type": "markdown",
      "source": [
        "## STEP 3. 데이터 분석\n",
        "---\n",
        "- ratings에 있는 유니크한 영화 개수\n",
        "- ratings에 있는 유니크한 사용자 수\n",
        "- 가장 인기 있는 영화 30개(인기순)\n",
        "를 한번 뽑아보도록 하겠습니다. "
      ],
      "metadata": {
        "id": "9tiObi2_DZ_U"
      }
    },
    {
      "cell_type": "code",
      "source": [
        "################# 영화 유니크 값 확인 ##################\n",
        "rating_movie['movie_id'].value_counts()"
      ],
      "metadata": {
        "colab": {
          "base_uri": "https://localhost:8080/"
        },
        "id": "1CIe5otc2X7V",
        "outputId": "a9366054-1f0d-4c3a-e66a-aa14063bed3c"
      },
      "execution_count": null,
      "outputs": [
        {
          "output_type": "execute_result",
          "data": {
            "text/plain": [
              "2858    3211\n",
              "260     2910\n",
              "1196    2885\n",
              "1210    2716\n",
              "2028    2561\n",
              "        ... \n",
              "2556       1\n",
              "1062       1\n",
              "821        1\n",
              "1830       1\n",
              "1360       1\n",
              "Name: movie_id, Length: 3628, dtype: int64"
            ]
          },
          "metadata": {},
          "execution_count": 128
        }
      ]
    },
    {
      "cell_type": "code",
      "source": [
        "################# user 유니크 값 확인 ##################\n",
        "rating_movie['user_id'].value_counts()"
      ],
      "metadata": {
        "colab": {
          "base_uri": "https://localhost:8080/"
        },
        "id": "9mIUv74Axmk6",
        "outputId": "ab252ddc-2a0d-4e4c-8402-dead9da8e356"
      },
      "execution_count": null,
      "outputs": [
        {
          "output_type": "execute_result",
          "data": {
            "text/plain": [
              "4169    1968\n",
              "4277    1715\n",
              "1680    1515\n",
              "3618    1146\n",
              "1015    1145\n",
              "        ... \n",
              "1102       9\n",
              "4365       9\n",
              "4349       7\n",
              "6041       4\n",
              "4486       1\n",
              "Name: user_id, Length: 6040, dtype: int64"
            ]
          },
          "metadata": {},
          "execution_count": 129
        }
      ]
    },
    {
      "cell_type": "code",
      "source": [
        "##################### 인기 많은 영화 #####################\n",
        "movie_count = rating_movie.groupby('title')['user_id'].count()\n",
        "movie_count.sort_values(ascending = False).head(30)"
      ],
      "metadata": {
        "colab": {
          "base_uri": "https://localhost:8080/"
        },
        "id": "udV-jbhp4W8c",
        "outputId": "0a271622-5c03-42a5-e8da-3a9051d0d6ba"
      },
      "execution_count": null,
      "outputs": [
        {
          "output_type": "execute_result",
          "data": {
            "text/plain": [
              "title\n",
              "American Beauty (1999)                                   3211\n",
              "Star Wars: Episode IV - A New Hope (1977)                2910\n",
              "Star Wars: Episode V - The Empire Strikes Back (1980)    2885\n",
              "Star Wars: Episode VI - Return of the Jedi (1983)        2716\n",
              "Saving Private Ryan (1998)                               2561\n",
              "Terminator 2: Judgment Day (1991)                        2509\n",
              "Silence of the Lambs, The (1991)                         2498\n",
              "Raiders of the Lost Ark (1981)                           2473\n",
              "Back to the Future (1985)                                2460\n",
              "Matrix, The (1999)                                       2435\n",
              "Jurassic Park (1993)                                     2414\n",
              "Sixth Sense, The (1999)                                  2385\n",
              "Fargo (1996)                                             2371\n",
              "Braveheart (1995)                                        2314\n",
              "Men in Black (1997)                                      2297\n",
              "Schindler's List (1993)                                  2257\n",
              "Princess Bride, The (1987)                               2252\n",
              "Shakespeare in Love (1998)                               2213\n",
              "L.A. Confidential (1997)                                 2210\n",
              "Shawshank Redemption, The (1994)                         2194\n",
              "Godfather, The (1972)                                    2167\n",
              "Groundhog Day (1993)                                     2121\n",
              "E.T. the Extra-Terrestrial (1982)                        2102\n",
              "Being John Malkovich (1999)                              2066\n",
              "Ghostbusters (1984)                                      2051\n",
              "Pulp Fiction (1994)                                      2030\n",
              "Forrest Gump (1994)                                      2022\n",
              "Terminator, The (1984)                                   2019\n",
              "Toy Story (1995)                                         2001\n",
              "Fugitive, The (1993)                                     1941\n",
              "Name: user_id, dtype: int64"
            ]
          },
          "metadata": {},
          "execution_count": 130
        }
      ]
    },
    {
      "cell_type": "markdown",
      "source": [
        "1회만 추천받은 영화 비율 한번 확인해볼까요?"
      ],
      "metadata": {
        "id": "dFKWLFzxExs-"
      }
    },
    {
      "cell_type": "code",
      "source": [
        "################## 1회만 추천한 영화의 비율 ##############\n",
        "\n",
        "only_one = movie_count < 2\n",
        "\n",
        "one, all_data = len(only_one), len(rating_movie)\n",
        "\n",
        "print(f'one : {one}, all_data:{all_data}')\n",
        "print(f'Ratio of only_one over all data is {one/all_data:.2%}')"
      ],
      "metadata": {
        "colab": {
          "base_uri": "https://localhost:8080/"
        },
        "id": "9bvAvplPE03u",
        "outputId": "38347f2c-d06e-4193-b638-4ebbd4786caf"
      },
      "execution_count": null,
      "outputs": [
        {
          "output_type": "stream",
          "name": "stdout",
          "text": [
            "one : 3628, all_data:836482\n",
            "Ratio of only_one over all data is 0.43%\n"
          ]
        }
      ]
    },
    {
      "cell_type": "markdown",
      "source": [
        "0.43% 밖에 안되네요"
      ],
      "metadata": {
        "id": "cdGZB4yYF2Zz"
      }
    },
    {
      "cell_type": "markdown",
      "source": [
        "- 신규 user인 chaaaaabbo가 6041로 잘 들어가있는 것이 보입니다.   \n",
        "\n",
        "- 그리고 여러 조건별로 데이터를 확인해보았습니다. \n",
        "\n",
        "- 그럼 유저별 영화 별점 정보를 통해 선호도를 계산할 수 있게 되었으니 전처리를 끝내고 모델을 설정해봅니다.   \n",
        "\n",
        "- ~~원래는 id to index, movie to index를 만들어야하지만, 이미 user_id와 movie_id로 잘 들어가 있으니 바로 모델 생성으로 넘어가겠습니다.~~ \n",
        "- 처음에 별점 낮은 것을 삭제하면서 id에 공백이 생겼으니 다시 indexing 해줍니다."
      ],
      "metadata": {
        "id": "p-YuteiHwRv_"
      }
    },
    {
      "cell_type": "markdown",
      "source": [
        "## STEP 4. CSR matrix 만들어보기\n",
        "--- \n",
        "- 이번에 사용할 모델은 추천 시스템의 Matrix Factorization(MF, 행렬 분해) 모델 중 CSR Matrix입니다. \n",
        "- CSR(Compressed Sparse Row) Matrix는 평가 행렬의 용량이 커짐에 따라 메모리 낭비를 최소화하기 위해서 사용하는 방법입니다. \n",
        "- CSR Matrix는 data, indices, indptr 로 행렬을 압축하여 표현합니다. \n",
        "![image.png](data:image/png;base64,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)\n",
        "\n",
        "    - data는 0이 아닌 원소를 차례로 기입한 값입니다.\n",
        "    - indices는 data의 각 요소가 어느 열(column)에 있는지를 표현한 index입니다.\n",
        "    - indptr은 [최초시작행번호,시작행에서의 데이타 개수,두번째 행에서의 데이타 누적 개수,...,마지막행에서의 데이타 누적개수] 입니다. 이를 통해 data의 요소들이 어느 행(row)에 있는지를 알 수 있습니다.\n"
      ],
      "metadata": {
        "id": "f-1Ie2V9HN-T"
      }
    },
    {
      "cell_type": "markdown",
      "source": [
        "각 유저와 영화의 고유한 인덱싱을 다시 부여해줍니다 ."
      ],
      "metadata": {
        "id": "j-AcGFAhQ0-S"
      }
    },
    {
      "cell_type": "code",
      "source": [
        "########### 고유한 유저, 영화 찾기 ###############\n",
        "user_unique = rating_movie['user_id'].unique()\n",
        "title_unique = rating_movie['title'].unique()"
      ],
      "metadata": {
        "id": "OZxM9LyYQfkx"
      },
      "execution_count": null,
      "outputs": []
    },
    {
      "cell_type": "code",
      "source": [
        "########### 유저, 영화 indexing ############\n",
        "user_to_idx = {value:key for key, value in enumerate(user_unique)}\n",
        "title_to_idx = {value:key for key, value in enumerate(title_unique)}"
      ],
      "metadata": {
        "id": "1M0PJgwOQ0mC"
      },
      "execution_count": null,
      "outputs": []
    },
    {
      "cell_type": "code",
      "source": [
        "# 인덱싱이 잘 되었는지 확인해 봅니다.  \n",
        "print(title_to_idx['Pulp Fiction (1994)'])"
      ],
      "metadata": {
        "colab": {
          "base_uri": "https://localhost:8080/"
        },
        "id": "ET2pTmfmRMYx",
        "outputId": "e7e4ff4e-b6bb-4eba-df23-ce3c6f10d6a2"
      },
      "execution_count": null,
      "outputs": [
        {
          "output_type": "stream",
          "name": "stdout",
          "text": [
            "222\n"
          ]
        }
      ]
    },
    {
      "cell_type": "code",
      "source": [
        "########### indexing을 통해 데이터 컬럼 내 값을 바꾸기 ################\n",
        "\n",
        "# user_to_idx.get을 통해 user_id 컬럼의 모든 값을 인덱싱한 Series를 구해 봅시다. \n",
        "# 혹시 정상적으로 인덱싱되지 않은 row가 있다면 인덱스가 NaN이 될 테니 dropna()로 제거합니다. \n",
        "\n",
        "temp_user_data = rating_movie['user_id'].map(user_to_idx.get).dropna()\n",
        " # 모든 row가 정상적으로 인덱싱되었다면\n",
        "if len(temp_user_data) == len(rating_movie):\n",
        "    print('user_id column indexing OK :)')\n",
        "    # data['user_id']을 인덱싱된 Series로 교체해 줍니다. \n",
        "    rating_movie['user_id'] = temp_user_data\n",
        "else:\n",
        "    print('user_id column indexing Fail :(')\n",
        "\n",
        "    "
      ],
      "metadata": {
        "colab": {
          "base_uri": "https://localhost:8080/"
        },
        "id": "V0slbkO-M_oL",
        "outputId": "2f68634e-9a64-4c46-e6d9-2ff706dadf7b"
      },
      "execution_count": null,
      "outputs": [
        {
          "output_type": "stream",
          "name": "stdout",
          "text": [
            "user_id column indexing OK :)\n"
          ]
        }
      ]
    },
    {
      "cell_type": "code",
      "source": [
        "# title_to_idx을 통해 title 컬럼도 동일한 방식으로 인덱싱해 줍니다. \n",
        "temp_title_data = rating_movie['title'].map(title_to_idx.get).dropna()\n",
        "\n",
        "if len(temp_title_data) == len(rating_movie):\n",
        "    print('title column indexing OK :)')\n",
        "    rating_movie['title'] = temp_title_data\n",
        "else:\n",
        "    print('title column indexing Fail :(')\n",
        "    \n",
        "rating_movie"
      ],
      "metadata": {
        "colab": {
          "base_uri": "https://localhost:8080/",
          "height": 441
        },
        "id": "28xxh-oIRx4v",
        "outputId": "1a374a77-659f-4b6e-9f52-e217906b4629"
      },
      "execution_count": null,
      "outputs": [
        {
          "output_type": "stream",
          "name": "stdout",
          "text": [
            "title column indexing OK :)\n"
          ]
        },
        {
          "output_type": "execute_result",
          "data": {
            "text/plain": [
              "        user_id  movie_id  counts  title                 genre\n",
              "0             0      1193     5.0      0                 Drama\n",
              "1             1      1193     5.0      0                 Drama\n",
              "2             2      1193     4.0      0                 Drama\n",
              "3             3      1193     4.0      0                 Drama\n",
              "4             4      1193     5.0      0                 Drama\n",
              "...         ...       ...     ...    ...                   ...\n",
              "836477     1621      3607     5.0   3623  Comedy|Drama|Western\n",
              "836478     3481      3026     4.0   3624                Horror\n",
              "836479     3481       690     3.0   3625               Romance\n",
              "836480     4159      2909     4.0   3626           Documentary\n",
              "836481     1648      1360     5.0   3627                 Drama\n",
              "\n",
              "[836482 rows x 5 columns]"
            ],
            "text/html": [
              "\n",
              "  <div id=\"df-e23b48de-2a15-4a21-bdfc-3423bc8e93d7\">\n",
              "    <div class=\"colab-df-container\">\n",
              "      <div>\n",
              "<style scoped>\n",
              "    .dataframe tbody tr th:only-of-type {\n",
              "        vertical-align: middle;\n",
              "    }\n",
              "\n",
              "    .dataframe tbody tr th {\n",
              "        vertical-align: top;\n",
              "    }\n",
              "\n",
              "    .dataframe thead th {\n",
              "        text-align: right;\n",
              "    }\n",
              "</style>\n",
              "<table border=\"1\" class=\"dataframe\">\n",
              "  <thead>\n",
              "    <tr style=\"text-align: right;\">\n",
              "      <th></th>\n",
              "      <th>user_id</th>\n",
              "      <th>movie_id</th>\n",
              "      <th>counts</th>\n",
              "      <th>title</th>\n",
              "      <th>genre</th>\n",
              "    </tr>\n",
              "  </thead>\n",
              "  <tbody>\n",
              "    <tr>\n",
              "      <th>0</th>\n",
              "      <td>0</td>\n",
              "      <td>1193</td>\n",
              "      <td>5.0</td>\n",
              "      <td>0</td>\n",
              "      <td>Drama</td>\n",
              "    </tr>\n",
              "    <tr>\n",
              "      <th>1</th>\n",
              "      <td>1</td>\n",
              "      <td>1193</td>\n",
              "      <td>5.0</td>\n",
              "      <td>0</td>\n",
              "      <td>Drama</td>\n",
              "    </tr>\n",
              "    <tr>\n",
              "      <th>2</th>\n",
              "      <td>2</td>\n",
              "      <td>1193</td>\n",
              "      <td>4.0</td>\n",
              "      <td>0</td>\n",
              "      <td>Drama</td>\n",
              "    </tr>\n",
              "    <tr>\n",
              "      <th>3</th>\n",
              "      <td>3</td>\n",
              "      <td>1193</td>\n",
              "      <td>4.0</td>\n",
              "      <td>0</td>\n",
              "      <td>Drama</td>\n",
              "    </tr>\n",
              "    <tr>\n",
              "      <th>4</th>\n",
              "      <td>4</td>\n",
              "      <td>1193</td>\n",
              "      <td>5.0</td>\n",
              "      <td>0</td>\n",
              "      <td>Drama</td>\n",
              "    </tr>\n",
              "    <tr>\n",
              "      <th>...</th>\n",
              "      <td>...</td>\n",
              "      <td>...</td>\n",
              "      <td>...</td>\n",
              "      <td>...</td>\n",
              "      <td>...</td>\n",
              "    </tr>\n",
              "    <tr>\n",
              "      <th>836477</th>\n",
              "      <td>1621</td>\n",
              "      <td>3607</td>\n",
              "      <td>5.0</td>\n",
              "      <td>3623</td>\n",
              "      <td>Comedy|Drama|Western</td>\n",
              "    </tr>\n",
              "    <tr>\n",
              "      <th>836478</th>\n",
              "      <td>3481</td>\n",
              "      <td>3026</td>\n",
              "      <td>4.0</td>\n",
              "      <td>3624</td>\n",
              "      <td>Horror</td>\n",
              "    </tr>\n",
              "    <tr>\n",
              "      <th>836479</th>\n",
              "      <td>3481</td>\n",
              "      <td>690</td>\n",
              "      <td>3.0</td>\n",
              "      <td>3625</td>\n",
              "      <td>Romance</td>\n",
              "    </tr>\n",
              "    <tr>\n",
              "      <th>836480</th>\n",
              "      <td>4159</td>\n",
              "      <td>2909</td>\n",
              "      <td>4.0</td>\n",
              "      <td>3626</td>\n",
              "      <td>Documentary</td>\n",
              "    </tr>\n",
              "    <tr>\n",
              "      <th>836481</th>\n",
              "      <td>1648</td>\n",
              "      <td>1360</td>\n",
              "      <td>5.0</td>\n",
              "      <td>3627</td>\n",
              "      <td>Drama</td>\n",
              "    </tr>\n",
              "  </tbody>\n",
              "</table>\n",
              "<p>836482 rows × 5 columns</p>\n",
              "</div>\n",
              "      <button class=\"colab-df-convert\" onclick=\"convertToInteractive('df-e23b48de-2a15-4a21-bdfc-3423bc8e93d7')\"\n",
              "              title=\"Convert this dataframe to an interactive table.\"\n",
              "              style=\"display:none;\">\n",
              "        \n",
              "  <svg xmlns=\"http://www.w3.org/2000/svg\" height=\"24px\"viewBox=\"0 0 24 24\"\n",
              "       width=\"24px\">\n",
              "    <path d=\"M0 0h24v24H0V0z\" fill=\"none\"/>\n",
              "    <path d=\"M18.56 5.44l.94 2.06.94-2.06 2.06-.94-2.06-.94-.94-2.06-.94 2.06-2.06.94zm-11 1L8.5 8.5l.94-2.06 2.06-.94-2.06-.94L8.5 2.5l-.94 2.06-2.06.94zm10 10l.94 2.06.94-2.06 2.06-.94-2.06-.94-.94-2.06-.94 2.06-2.06.94z\"/><path d=\"M17.41 7.96l-1.37-1.37c-.4-.4-.92-.59-1.43-.59-.52 0-1.04.2-1.43.59L10.3 9.45l-7.72 7.72c-.78.78-.78 2.05 0 2.83L4 21.41c.39.39.9.59 1.41.59.51 0 1.02-.2 1.41-.59l7.78-7.78 2.81-2.81c.8-.78.8-2.07 0-2.86zM5.41 20L4 18.59l7.72-7.72 1.47 1.35L5.41 20z\"/>\n",
              "  </svg>\n",
              "      </button>\n",
              "      \n",
              "  <style>\n",
              "    .colab-df-container {\n",
              "      display:flex;\n",
              "      flex-wrap:wrap;\n",
              "      gap: 12px;\n",
              "    }\n",
              "\n",
              "    .colab-df-convert {\n",
              "      background-color: #E8F0FE;\n",
              "      border: none;\n",
              "      border-radius: 50%;\n",
              "      cursor: pointer;\n",
              "      display: none;\n",
              "      fill: #1967D2;\n",
              "      height: 32px;\n",
              "      padding: 0 0 0 0;\n",
              "      width: 32px;\n",
              "    }\n",
              "\n",
              "    .colab-df-convert:hover {\n",
              "      background-color: #E2EBFA;\n",
              "      box-shadow: 0px 1px 2px rgba(60, 64, 67, 0.3), 0px 1px 3px 1px rgba(60, 64, 67, 0.15);\n",
              "      fill: #174EA6;\n",
              "    }\n",
              "\n",
              "    [theme=dark] .colab-df-convert {\n",
              "      background-color: #3B4455;\n",
              "      fill: #D2E3FC;\n",
              "    }\n",
              "\n",
              "    [theme=dark] .colab-df-convert:hover {\n",
              "      background-color: #434B5C;\n",
              "      box-shadow: 0px 1px 3px 1px rgba(0, 0, 0, 0.15);\n",
              "      filter: drop-shadow(0px 1px 2px rgba(0, 0, 0, 0.3));\n",
              "      fill: #FFFFFF;\n",
              "    }\n",
              "  </style>\n",
              "\n",
              "      <script>\n",
              "        const buttonEl =\n",
              "          document.querySelector('#df-e23b48de-2a15-4a21-bdfc-3423bc8e93d7 button.colab-df-convert');\n",
              "        buttonEl.style.display =\n",
              "          google.colab.kernel.accessAllowed ? 'block' : 'none';\n",
              "\n",
              "        async function convertToInteractive(key) {\n",
              "          const element = document.querySelector('#df-e23b48de-2a15-4a21-bdfc-3423bc8e93d7');\n",
              "          const dataTable =\n",
              "            await google.colab.kernel.invokeFunction('convertToInteractive',\n",
              "                                                     [key], {});\n",
              "          if (!dataTable) return;\n",
              "\n",
              "          const docLinkHtml = 'Like what you see? Visit the ' +\n",
              "            '<a target=\"_blank\" href=https://colab.research.google.com/notebooks/data_table.ipynb>data table notebook</a>'\n",
              "            + ' to learn more about interactive tables.';\n",
              "          element.innerHTML = '';\n",
              "          dataTable['output_type'] = 'display_data';\n",
              "          await google.colab.output.renderOutput(dataTable, element);\n",
              "          const docLink = document.createElement('div');\n",
              "          docLink.innerHTML = docLinkHtml;\n",
              "          element.appendChild(docLink);\n",
              "        }\n",
              "      </script>\n",
              "    </div>\n",
              "  </div>\n",
              "  "
            ]
          },
          "metadata": {},
          "execution_count": 55
        }
      ]
    },
    {
      "cell_type": "code",
      "source": [
        "############# CSR 데이터 만들기 ###############\n",
        "num_user = rating_movie['user_id'].nunique()\n",
        "num_title = rating_movie['title'].nunique()\n",
        "\n",
        "csr_data = csr_matrix((rating_movie.counts, (rating_movie.user_id, rating_movie.title)), \n",
        "                      shape= (num_user, num_title))\n",
        "\n",
        "csr_data"
      ],
      "metadata": {
        "colab": {
          "base_uri": "https://localhost:8080/"
        },
        "id": "352cdFiA32I6",
        "outputId": "76964ca2-8e17-44cc-f288-e8ab00c35378"
      },
      "execution_count": null,
      "outputs": [
        {
          "output_type": "execute_result",
          "data": {
            "text/plain": [
              "<6040x3628 sparse matrix of type '<class 'numpy.float64'>'\n",
              "\twith 836482 stored elements in Compressed Sparse Row format>"
            ]
          },
          "metadata": {},
          "execution_count": 56
        }
      ]
    },
    {
      "cell_type": "markdown",
      "source": [
        "## STEP 5. als_model = AlternatingLeastSquares 모델 훈련시키기\n",
        "---\n",
        "- implicit 패키지는 이전 스텝에서 설명한 암묵적(implicit) dataset을 사용하는 다양한 모델을 굉장히 빠르게 학습할 수 있는 패키지입니다.\n",
        "- 이 패키지에 구현된 als(AlternatingLeastSquares) 모델을 사용하겠습니다. Matrix Factorization에서 쪼개진 두 Feature Matrix를 한꺼번에 훈련하는 것은 잘 수렴하지 않기 때문에, 한쪽을 고정시키고 다른 쪽을 학습하는 방식을 번갈아 수행하는 AlternatingLeastSquares 방식이 효과적인 것으로 알려져 있습니다.\n",
        "\n",
        "- AlternatingLeastSquares 클래스의 __init__ 파라미터\n",
        "    1. factors : 유저와 아이템의 벡터를 몇 차원으로 할 것인지\n",
        "    2. regularization : 과적합을 방지하기 위해 정규화 값을 얼마나 사용할 것인지\n",
        "    3. use_gpu : GPU를 사용할 것인지\n",
        "    4. iterations : epochs와 같은 의미입니다. 데이터를 몇 번 반복해서 학습할 것인지\n",
        "-1과 4를 늘릴수록 학습 데이터를 잘 학습하게 되지만 과적합의 우려가 있으니 좋은 값을 찾아야 합니다."
      ],
      "metadata": {
        "id": "YizUdFbQSWyk"
      }
    },
    {
      "cell_type": "code",
      "source": [
        "# implicit 라이브러리에서 권장하고 있는 부분\n",
        "os.environ['OPENBLAS_NUM_THREADS']='1'\n",
        "os.environ['KMP_DUPLICATE_LIB_OK']='True'\n",
        "os.environ['MKL_NUM_THREADS']='1'"
      ],
      "metadata": {
        "id": "ZbWMgB1R32Db"
      },
      "execution_count": null,
      "outputs": []
    },
    {
      "cell_type": "code",
      "source": [
        "########### Implicit AlternatingLeastSquares 모델 구현 ###########\n",
        "\n",
        "als_model_1 = AlternatingLeastSquares(factors = 100, regularization = 0.01, \n",
        "                                   use_gpu=False, iterations=30, dtype=np.float32)\n",
        "                                   "
      ],
      "metadata": {
        "id": "Z2uvCvus318N"
      },
      "execution_count": null,
      "outputs": []
    },
    {
      "cell_type": "code",
      "source": [
        "############# 모델 훈련 #############\n",
        "als_model_1.fit(csr_data)"
      ],
      "metadata": {
        "id": "eec2DS4y3L8_",
        "colab": {
          "base_uri": "https://localhost:8080/",
          "height": 49,
          "referenced_widgets": [
            "7c5bbcf6745e4a73b269805e693dd15c",
            "77fc570daf6f4ff3ac781464b583a031",
            "6959b957c7bf4e3d9dad554545adbc57",
            "bbe9d6dbaa1f400cb56de82fa6b5431f",
            "c14b94d7bf244923a98a3318165be562",
            "fdc701f14b66449b8fb32962123420a8",
            "65f9cadc340c4819a153fea99a0ee925",
            "579b48b221b647439fb0162262acde61",
            "0a4fc82edd5c4777af8311d5e4aff164",
            "a82d4b3bcf574b9cbb92d571faf75797",
            "cf0829656baa4517ace7fc3c6c374ccb"
          ]
        },
        "outputId": "6f0a3d49-3a25-467b-dcb1-c2ea2cb274c2"
      },
      "execution_count": null,
      "outputs": [
        {
          "output_type": "display_data",
          "data": {
            "text/plain": [
              "  0%|          | 0/30 [00:00<?, ?it/s]"
            ],
            "application/vnd.jupyter.widget-view+json": {
              "version_major": 2,
              "version_minor": 0,
              "model_id": "7c5bbcf6745e4a73b269805e693dd15c"
            }
          },
          "metadata": {}
        }
      ]
    },
    {
      "cell_type": "code",
      "source": [
        "chabo, Jurassic_Park = user_to_idx['6041'], title_to_idx['Jurassic Park (1993)']\n",
        "\n",
        "chabo_vector, Jurassic_Park_vector = als_model_1.user_factors[chabo], als_model_1.item_factors[Jurassic_Park]\n",
        "\n",
        "print('과연?')"
      ],
      "metadata": {
        "id": "YExuOnP-l8pJ",
        "colab": {
          "base_uri": "https://localhost:8080/"
        },
        "outputId": "5fa85be6-ecac-44d7-fe18-acb16d03a4fb"
      },
      "execution_count": null,
      "outputs": [
        {
          "output_type": "stream",
          "name": "stdout",
          "text": [
            "과연?\n"
          ]
        }
      ]
    },
    {
      "cell_type": "code",
      "source": [
        "print('차보벡터 : ',chabo_vector)\n",
        "print('쥬라기 공원 벡터 : ', Jurassic_Park_vector)"
      ],
      "metadata": {
        "colab": {
          "base_uri": "https://localhost:8080/"
        },
        "id": "oZVkMO-qTgCd",
        "outputId": "2504a67d-1f48-4e7a-f80a-5f9c88944456"
      },
      "execution_count": null,
      "outputs": [
        {
          "output_type": "stream",
          "name": "stdout",
          "text": [
            "차보벡터 :  [ 0.08977108  0.1589569   0.24308142 -0.5053194   0.3215892   0.10557011\n",
            "  0.08306044  0.5470784   0.16754852  0.4168706  -0.20336238 -0.24214567\n",
            " -0.31814516  0.12849803 -1.264669    0.31450093 -0.38113794  0.7506085\n",
            " -0.05471826  0.09939356  0.1993841  -0.17010528 -0.17442445  0.09915668\n",
            "  0.02169737  0.16903251 -0.07233693  0.3114778  -0.45485476 -0.46799812\n",
            "  0.08804571 -0.83905584 -0.12836288 -0.3755428  -0.42413098 -0.41699815\n",
            "  0.12717165 -0.16817877  0.20160046  0.23036404  0.4108195  -0.2746147\n",
            " -0.4304853   0.3577868   0.29895383  0.08497064  0.44677803  0.24996668\n",
            " -0.16378419  0.04399607 -0.01974928  0.382007    0.49134856  0.55766463\n",
            " -0.35218754  0.21285789 -0.18709098 -0.33530194 -0.2259531   0.18690144\n",
            " -0.38523623 -0.37497103  0.24939449  0.27616355  0.5191493  -0.16484115\n",
            "  0.4825321  -0.5162852  -0.28268942  0.02415121 -0.32644445  0.03629114\n",
            "  0.40251428  0.7449067  -0.12120294 -0.03862991 -0.18928075 -0.17755762\n",
            " -0.08113124  0.24575886  0.33399466  0.31247494  0.10567362  0.6486465\n",
            "  0.04550286  0.2699565   0.39175186 -0.06655384 -0.4970441  -0.16478771\n",
            "  0.14839318  0.08033507 -0.46733984  0.40496585 -0.24181335 -0.20064485\n",
            "  0.05775208 -0.30492663  0.14275445 -0.04998801]\n",
            "쥬라기 공원 벡터 :  [ 0.00313761  0.02941271  0.01063997 -0.02120685  0.02668286 -0.01011418\n",
            " -0.01106492  0.01899932 -0.00166788  0.01893467  0.00280019 -0.03142544\n",
            " -0.00977737  0.05643447 -0.0465553   0.00752155 -0.03319513  0.03939309\n",
            " -0.00113164 -0.00184029  0.00865564  0.04247941 -0.00771735  0.03221857\n",
            "  0.00823521  0.01119307 -0.01239911  0.01870634 -0.00498573 -0.04657202\n",
            " -0.00345525  0.00407559 -0.00557648 -0.02299609 -0.01462227 -0.07194993\n",
            "  0.03119915  0.00342988  0.021584    0.01149526  0.01387569  0.00934461\n",
            " -0.04678474 -0.00686161  0.03541721 -0.01298013  0.01885191  0.01854674\n",
            "  0.00526772  0.00553842 -0.02152386  0.0374271   0.05920453  0.04838761\n",
            "  0.00187355  0.02850745  0.02516778  0.02716684  0.00735251  0.04076075\n",
            " -0.01636455 -0.00627927  0.01098314  0.03368793  0.0121854  -0.01122976\n",
            "  0.03463626 -0.02212136  0.00488599 -0.0197858  -0.02126346 -0.00599901\n",
            "  0.01270642  0.04393439 -0.01644536 -0.00524119  0.00734335  0.02439186\n",
            " -0.01184856  0.01371454  0.01535189  0.03539848  0.01969708 -0.00839742\n",
            "  0.00082697  0.03750985  0.02538992  0.00620314  0.02022307 -0.01810465\n",
            "  0.00158337  0.01054357  0.01336607  0.01824864 -0.03016322 -0.02684419\n",
            "  0.00647221 -0.00852029  0.03433677  0.0166942 ]\n"
          ]
        }
      ]
    },
    {
      "cell_type": "code",
      "source": [
        "# 차보와 쥬라기공원을 내적하는 코드\n",
        "np.dot(chabo_vector, Jurassic_Park_vector)"
      ],
      "metadata": {
        "colab": {
          "base_uri": "https://localhost:8080/"
        },
        "id": "JzHazr-ATmaC",
        "outputId": "9ae6616e-45d6-4351-9733-28ec37b2891b"
      },
      "execution_count": null,
      "outputs": [
        {
          "output_type": "execute_result",
          "data": {
            "text/plain": [
              "0.5067376"
            ]
          },
          "metadata": {},
          "execution_count": 200
        }
      ]
    },
    {
      "cell_type": "markdown",
      "source": [
        "흠.... 원래 1이 나와야하는데, 아직 0.5밖에 나오지 않는다.   \n",
        "\n",
        "모델을 바꿔주자"
      ],
      "metadata": {
        "id": "8j-cRPmwTt9t"
      }
    },
    {
      "cell_type": "markdown",
      "source": [
        "### 모델 변형 1 (iterater 비교)\n",
        "---\n",
        "- factor는 100 그대로 두고, iterator를 100으로 올려보자. 대신 regulation을 0.05로 높여준다. "
      ],
      "metadata": {
        "id": "fvUImToiWKFw"
      }
    },
    {
      "cell_type": "code",
      "source": [
        "########### Implicit AlternatingLeastSquares 모델 구현 2번째###########\n",
        "\n",
        "als_model_2 = AlternatingLeastSquares(factors = 100, regularization = 0.05, \n",
        "                                   use_gpu=False, iterations=100, dtype=np.float32)\n",
        "\n",
        "############# 모델 훈련 #############\n",
        "als_model_2.fit(csr_data)"
      ],
      "metadata": {
        "colab": {
          "base_uri": "https://localhost:8080/",
          "height": 49,
          "referenced_widgets": [
            "aedc96c1cc9041d3883f87e978de2c0b",
            "be3a32fb06754524ab2fec36fd3ad369",
            "39304e84fafb45c8ad412c72e7bf22a4",
            "958899191028428dad330b2c5cfb9cc6",
            "e7970ba5e375452c8c7743dc273c2800",
            "65844994a26346e9bfcd64532758639d",
            "580c6af1ef384840b32e38176c374b03",
            "56d61b6a72f447b6b287884db11b8c57",
            "50e33af327a14ba9bebc8c614dee0476",
            "651ca9f29ed048629eaf4049b56eab59",
            "a053c2ffb5c74bbb81f7e690e21af351"
          ]
        },
        "id": "q-SrlavjTsqV",
        "outputId": "598f1cf8-b22d-4ffd-e03a-d30d9c8908a0"
      },
      "execution_count": null,
      "outputs": [
        {
          "output_type": "display_data",
          "data": {
            "text/plain": [
              "  0%|          | 0/100 [00:00<?, ?it/s]"
            ],
            "application/vnd.jupyter.widget-view+json": {
              "version_major": 2,
              "version_minor": 0,
              "model_id": "aedc96c1cc9041d3883f87e978de2c0b"
            }
          },
          "metadata": {}
        }
      ]
    },
    {
      "cell_type": "code",
      "source": [
        "def dot(user_to_id, title_to_id):\n",
        "    chabo, movie_title = user_to_idx[user_to_id], title_to_idx[title_to_id]\n",
        "    chabo_vector, movie_title_vector = als_model_2.user_factors[chabo], als_model_2.item_factors[movie_title]\n",
        "    dot = np.dot(chabo_vector, movie_title_vector)\n",
        "\n",
        "    Black = title_to_idx['Men in Black (1997)']\n",
        "    Black_vector = als_model_2.item_factors[Black]\n",
        "    dot2 = np.dot(chabo_vector, Black_vector)\n",
        "\n",
        "    return print('내적값은 {:.2}입니다. \\nMen in Black의 내적값은 {:.2}입니다'.format(dot, dot2))\n",
        "\n"
      ],
      "metadata": {
        "id": "y_DAW7QrVOT_"
      },
      "execution_count": null,
      "outputs": []
    },
    {
      "cell_type": "code",
      "source": [
        "dot('6041', 'Jurassic Park (1993)')\n",
        "dot('6041', 'Toy Story (1995)')"
      ],
      "metadata": {
        "colab": {
          "base_uri": "https://localhost:8080/"
        },
        "id": "3GCCYowQWlAl",
        "outputId": "ec431940-1d49-4852-ac05-b0bc184751a2"
      },
      "execution_count": null,
      "outputs": [
        {
          "output_type": "stream",
          "name": "stdout",
          "text": [
            "내적값은 0.52입니다. \n",
            "Men in Black의 내적값은 0.43입니다\n",
            "내적값은 0.48입니다. \n",
            "Men in Black의 내적값은 0.43입니다\n"
          ]
        }
      ]
    },
    {
      "cell_type": "markdown",
      "source": [
        "아주 살짝 높아졌다.... 흠"
      ],
      "metadata": {
        "id": "XEqOU28uXBri"
      }
    },
    {
      "cell_type": "markdown",
      "source": [
        "## STEP 6. 선호 영화 하나와 다른 영화 하나 골라 훈련된 모델이 예측한 나의 선호도 확인\n",
        "---"
      ],
      "metadata": {
        "id": "F-wd8HqecmD7"
      }
    },
    {
      "cell_type": "markdown",
      "source": [
        "#### 모델 변형 1-2 (iterater 비교)\n",
        "---\n",
        "- factor는 100 그대로 두고, iterator를 1000 으로 올려보자. 대신 regulation을 0.1로 높여준다. \n",
        "\n",
        "- 그리고 다른 영화의 선호도도 같이 예측할 수 있도록 확인해서 모델이 잘 돌아가는지 확인해보자. \n",
        "\n",
        "- 참고로 다른 영화는 Men in Black으로 보고 싶은 영화중에 하나다! "
      ],
      "metadata": {
        "id": "EObdIToFXRO6"
      }
    },
    {
      "cell_type": "code",
      "source": [
        "########### Implicit AlternatingLeastSquares 모델 구현 3번째###########\n",
        "\n",
        "als_model_3 = AlternatingLeastSquares(factors = 100, regularization = 0.1, \n",
        "                                   use_gpu=False, iterations=1000, dtype=np.float32)\n",
        "\n",
        "############# 모델 훈련 #############\n",
        "als_model_3.fit(csr_data)"
      ],
      "metadata": {
        "colab": {
          "base_uri": "https://localhost:8080/",
          "height": 49,
          "referenced_widgets": [
            "7d20f88b76f042e9b2695c57f5f1a669",
            "f8dc3c650443406abb558c2dc92432b0",
            "b44972e383df4ee689b06751ac7068c4",
            "b6ae3376a64c4230bf1dadd037e9efc7",
            "b2faba3d2a0741828768d610d76dfff6",
            "80e6547acd464bbcbbbd8fbf6a83aa5f",
            "b896b3832a0745f794560c22e935cd08",
            "d5cbe5e6416342e1a8272e6e3820a1de",
            "cd31db44492d4f3f994d9e2d2bcf9fd7",
            "c289c7579bf249e09f023842b10a65cc",
            "36ee081b3ff944b18f8c23cc1e0f42a2"
          ]
        },
        "id": "KQJaLJ1vWyp7",
        "outputId": "10413c35-a5de-4780-fa23-552d0d00d16b"
      },
      "execution_count": null,
      "outputs": [
        {
          "output_type": "display_data",
          "data": {
            "text/plain": [
              "  0%|          | 0/1000 [00:00<?, ?it/s]"
            ],
            "application/vnd.jupyter.widget-view+json": {
              "version_major": 2,
              "version_minor": 0,
              "model_id": "7d20f88b76f042e9b2695c57f5f1a669"
            }
          },
          "metadata": {}
        }
      ]
    },
    {
      "cell_type": "code",
      "source": [
        "def dot(user_to_id, title_to_id):\n",
        "    chabo, movie_title = user_to_idx[user_to_id], title_to_idx[title_to_id]\n",
        "    chabo_vector, movie_title_vector = als_model_3.user_factors[chabo], als_model_3.item_factors[movie_title]\n",
        "    dot = np.dot(chabo_vector, movie_title_vector)\n",
        "\n",
        "    Black = title_to_idx['Men in Black (1997)']\n",
        "    Black_vector = als_model_3.item_factors[Black]\n",
        "    dot2 = np.dot(chabo_vector, Black_vector)\n",
        "\n",
        "    return print('내적값은 {:.2}입니다. \\nMen in Black의 내적값은 {:.2}입니다'.format(dot, dot2))\n"
      ],
      "metadata": {
        "id": "1d2NRaqcXenr"
      },
      "execution_count": null,
      "outputs": []
    },
    {
      "cell_type": "code",
      "source": [
        "dot('6041', 'Jurassic Park (1993)')\n",
        "dot('6041', 'Toy Story (1995)')"
      ],
      "metadata": {
        "colab": {
          "base_uri": "https://localhost:8080/"
        },
        "id": "6sHZqRbIXh9J",
        "outputId": "3ac94b71-5775-4d63-ba70-5b89d50a384d"
      },
      "execution_count": null,
      "outputs": [
        {
          "output_type": "stream",
          "name": "stdout",
          "text": [
            "내적값은 0.52입니다. \n",
            "Men in Black의 내적값은 0.42입니다\n",
            "내적값은 0.49입니다. \n",
            "Men in Black의 내적값은 0.42입니다\n"
          ]
        }
      ]
    },
    {
      "cell_type": "markdown",
      "source": [
        "내적 값이 아주 조금 올라가고 men in black도 나름 내적값이 나쁘지 않다.   \n",
        "\n",
        "하지만 iter를 올린것에비해 내적값이 많이 올라가지 않는것을 보니 과적합의 의심이들어, regulation 값을 올리고 factor를 낮춰본다."
      ],
      "metadata": {
        "id": "GBxB_4RfaPxL"
      }
    },
    {
      "cell_type": "code",
      "source": [
        "########### Implicit AlternatingLeastSquares 모델 구현 4번째###########\n",
        "\n",
        "als_model_4 = AlternatingLeastSquares(factors = 100, regularization = 0.2, \n",
        "                                   use_gpu=False, iterations=1000, dtype=np.float32)\n",
        "\n",
        "############# 모델 훈련 #############\n",
        "als_model_4.fit(csr_data)"
      ],
      "metadata": {
        "colab": {
          "base_uri": "https://localhost:8080/",
          "height": 49,
          "referenced_widgets": [
            "75441b3433d0472ead21c9cab1791e12",
            "3b14df803b464e4197f5a73491722018",
            "7c7c7b45f31c4021aaf1ba76f91b5b74",
            "106779ace68e49e6922317789eb6bb50",
            "ec5f525600d24cf2b7785920eef66040",
            "7469856adb64455085fb4586a1d0f44c",
            "779a8e8f1d9748899453d77c4cb5ec2c",
            "94255b7934e145aa912529f060bd9827",
            "2e87e09266774f44b0c0eee19cb392ab",
            "ef2088da34ca47ab82ff25781ead4547",
            "d4ef532e61a14bd981aa61f626505a0c"
          ]
        },
        "id": "s44mbiDaXi7Y",
        "outputId": "64bdd48e-ab7e-4049-d640-57bb56221173"
      },
      "execution_count": null,
      "outputs": [
        {
          "output_type": "display_data",
          "data": {
            "text/plain": [
              "  0%|          | 0/1000 [00:00<?, ?it/s]"
            ],
            "application/vnd.jupyter.widget-view+json": {
              "version_major": 2,
              "version_minor": 0,
              "model_id": "75441b3433d0472ead21c9cab1791e12"
            }
          },
          "metadata": {}
        }
      ]
    },
    {
      "cell_type": "code",
      "source": [
        "def dot(user_to_id, title_to_id):\n",
        "    chabo, movie_title = user_to_idx[user_to_id], title_to_idx[title_to_id]\n",
        "    chabo_vector, movie_title_vector = als_model_4.user_factors[chabo], als_model_4.item_factors[movie_title]\n",
        "    dot = np.dot(chabo_vector, movie_title_vector)\n",
        "\n",
        "    Black = title_to_idx['Men in Black (1997)']\n",
        "    Black_vector = als_model_4.item_factors[Black]\n",
        "    dot2 = np.dot(chabo_vector, Black_vector)\n",
        "\n",
        "    return print('내적값은 {:.2}입니다. \\nMen in Black의 내적값은 {:.2}입니다'.format(dot, dot2))\n"
      ],
      "metadata": {
        "id": "CdAWxshmbDy2"
      },
      "execution_count": null,
      "outputs": []
    },
    {
      "cell_type": "code",
      "source": [
        "dot('6041', 'Jurassic Park (1993)')\n",
        "dot('6041', 'Toy Story (1995)')"
      ],
      "metadata": {
        "colab": {
          "base_uri": "https://localhost:8080/"
        },
        "id": "HwKfIxp9bWqQ",
        "outputId": "5c4c01c5-25c9-4156-b6ef-9d009004e13b"
      },
      "execution_count": null,
      "outputs": [
        {
          "output_type": "stream",
          "name": "stdout",
          "text": [
            "내적값은 0.52입니다. \n",
            "Men in Black의 내적값은 0.43입니다\n",
            "내적값은 0.49입니다. \n",
            "Men in Black의 내적값은 0.43입니다\n"
          ]
        }
      ]
    },
    {
      "cell_type": "markdown",
      "source": [
        "### iteration 값 & regularization 조절 결과\n",
        "1. fac = 100, reg = 0.05, iter = 30 -> 0.50\n",
        "2. fac = 100, reg = 0.05, iter = 100 -> 0.52 / 0.43\n",
        "3. fac = 100, reg = 0.1, iter = 1000 -> 0.52 / 0.42\n",
        "4.  fac = 100, reg = 0.2, iter = 1000 -> 0.52 / 0.43\n",
        "\n",
        "- 데이터의 값이 적어서 그런지, iterator를 100 -> 1000으로 무작정 올린다고 비례하게 올라가는 것은 아닌 것 같다.  \n",
        "    - 좋아하는 영화의 내적 값은 0.52로 동일, 추천은 0.43 - 0.42로 오히려 감소\n",
        "-  오히려 처음 30 -> 100으로 소폭 증가시켰을 때 시간대비 효율적으로 내적값이 증가하는 것을 볼 수 있다.  \n",
        "- iter 100 이후 iter 1000, regularization 을 0.05 -> 0.2로 높여봐도 큰 변화 없음. \n",
        "\n",
        "**-> 이후 과정은 factor 변경으로 간다.**   \n"
      ],
      "metadata": {
        "id": "qtYW0Clbddcq"
      }
    },
    {
      "cell_type": "markdown",
      "source": [
        "### 모델변형 1-3 (factor 비교)\n",
        "---\n",
        "iteration, regularization은 2번으로 고정(reg = 0.05, iter = 100)하고 \n",
        "1. factor : 100 -> 50 감소\n",
        "2. factor : 100 -> 200 증가   \n",
        "regularization : 0.05 -> 0.2 증가 하는 것\n",
        "\n",
        "상기 2회 테스트를 진행하면서 factor값에 의한 변화를 확인한다. "
      ],
      "metadata": {
        "id": "zcuorUd5gIo2"
      }
    },
    {
      "cell_type": "code",
      "source": [
        "########### Implicit AlternatingLeastSquares 모델 구현 5번째###########\n",
        "\n",
        "als_model_5 = AlternatingLeastSquares(factors = 50, regularization = 0.05, \n",
        "                                   use_gpu=False, iterations = 100, dtype=np.float32)\n",
        "\n",
        "############# 모델 훈련 #############\n",
        "als_model_5.fit(csr_data)"
      ],
      "metadata": {
        "id": "jI6O43ledAaj",
        "colab": {
          "base_uri": "https://localhost:8080/",
          "height": 49,
          "referenced_widgets": [
            "403fe25f499048618f0a973dc348e370",
            "13c554899e4f48819e062f52afc16948",
            "484a312a38f249f28ac1e604a2fc3473",
            "05c01b56c5e34fa88afcae2c108ed1c7",
            "9e69206675784d32bebd2ef8c2803925",
            "08b53b4a5b22448787d195b2f6df1d3f",
            "24aab8be280643fa9f24dd6ab18ed886",
            "ea14db8157e34dada4cef0f054638f48",
            "b85e0be36fdc41e08bd7124567d1fc6b",
            "e04379f28c1043599b2dd2770924352f",
            "fb87c01e98a741f6b6fae6bc5c2913c3"
          ]
        },
        "outputId": "70b92ece-e858-4986-af77-db97fce51e11"
      },
      "execution_count": null,
      "outputs": [
        {
          "output_type": "display_data",
          "data": {
            "text/plain": [
              "  0%|          | 0/100 [00:00<?, ?it/s]"
            ],
            "application/vnd.jupyter.widget-view+json": {
              "version_major": 2,
              "version_minor": 0,
              "model_id": "403fe25f499048618f0a973dc348e370"
            }
          },
          "metadata": {}
        }
      ]
    },
    {
      "cell_type": "code",
      "source": [
        "def dot(user_to_id, title_to_id):\n",
        "    chabo, movie_title = user_to_idx[user_to_id], title_to_idx[title_to_id]\n",
        "    chabo_vector, movie_title_vector = als_model_5.user_factors[chabo], als_model_5.item_factors[movie_title]\n",
        "    dot = np.dot(chabo_vector, movie_title_vector)\n",
        "\n",
        "    Black = title_to_idx['Men in Black (1997)']\n",
        "    Black_vector = als_model_5.item_factors[Black]\n",
        "    dot2 = np.dot(chabo_vector, Black_vector)\n",
        "\n",
        "    return print('내적값은 {:.2}입니다. \\nMen in Black의 내적값은 {:.2}입니다'.format(dot, dot2))\n",
        "\n",
        "\n",
        "dot('6041', 'Jurassic Park (1993)')\n",
        "dot('6041', 'Toy Story (1995)')"
      ],
      "metadata": {
        "colab": {
          "base_uri": "https://localhost:8080/"
        },
        "id": "rpWC_tNzh2rh",
        "outputId": "4328c74a-519c-44a0-ba83-fc16d1bc2e5d"
      },
      "execution_count": null,
      "outputs": [
        {
          "output_type": "stream",
          "name": "stdout",
          "text": [
            "내적값은 0.37입니다. \n",
            "Men in Black의 내적값은 0.34입니다\n",
            "내적값은 0.35입니다. \n",
            "Men in Black의 내적값은 0.34입니다\n"
          ]
        }
      ]
    },
    {
      "cell_type": "markdown",
      "source": [
        "앗..... 처참..... factor는 낮추면 안되는 것 같다."
      ],
      "metadata": {
        "id": "piB0y2BxkzmT"
      }
    },
    {
      "cell_type": "code",
      "source": [
        "########### Implicit AlternatingLeastSquares 모델 구현 6번째###########\n",
        "\n",
        "als_model_6 = AlternatingLeastSquares(factors = 200, regularization = 0.2, \n",
        "                                   use_gpu=False, iterations = 100, dtype=np.float32)\n",
        "\n",
        "############# 모델 훈련 #############\n",
        "als_model_6.fit(csr_data)"
      ],
      "metadata": {
        "colab": {
          "base_uri": "https://localhost:8080/",
          "height": 49,
          "referenced_widgets": [
            "71efa3aef62e434a880043d7189fdf6e",
            "3a1be530e79147ea93a53f4194c17d42",
            "bb9c8cea8e2b41249857531bcc094aa5",
            "854420d9dd4d450ebae09ae880b0c7e3",
            "3b60ce379bf74bc18384b8baf7af0229",
            "3761c5e03b674a079bae359a1d081f53",
            "e0bc7635824b4b718ffefc0f4b16faaf",
            "be042eb4104a492896270bc7a3f89d2b",
            "2a8959afc9e54f759425b4d3374b7625",
            "f15992d225224efd8d798a633d832303",
            "fa0c20add6594e50a156c628f3087271"
          ]
        },
        "id": "iBLI37MMh4mB",
        "outputId": "0d444a68-0173-4482-d073-21527e68214a"
      },
      "execution_count": null,
      "outputs": [
        {
          "output_type": "display_data",
          "data": {
            "text/plain": [
              "  0%|          | 0/100 [00:00<?, ?it/s]"
            ],
            "application/vnd.jupyter.widget-view+json": {
              "version_major": 2,
              "version_minor": 0,
              "model_id": "71efa3aef62e434a880043d7189fdf6e"
            }
          },
          "metadata": {}
        }
      ]
    },
    {
      "cell_type": "code",
      "source": [
        "def dot(user_to_id, title_to_id):\n",
        "    chabo, movie_title = user_to_idx[user_to_id], title_to_idx[title_to_id]\n",
        "    chabo_vector, movie_title_vector = als_model_6.user_factors[chabo], als_model_6.item_factors[movie_title]\n",
        "    dot = np.dot(chabo_vector, movie_title_vector)\n",
        "\n",
        "    Black = title_to_idx['Men in Black (1997)']\n",
        "    Black_vector = als_model_6.item_factors[Black]\n",
        "    dot2 = np.dot(chabo_vector, Black_vector)\n",
        "\n",
        "    return print('내적값은 {:.2}입니다. \\nMen in Black의 내적값은 {:.2}입니다'.format(dot, dot2))\n",
        "\n",
        "\n",
        "dot('6041', 'Jurassic Park (1993)')\n",
        "dot('6041', 'Toy Story (1995)')"
      ],
      "metadata": {
        "colab": {
          "base_uri": "https://localhost:8080/"
        },
        "id": "kXktNI_tiFeO",
        "outputId": "6a87a45f-0a8c-49d6-c48a-568219a9c40a"
      },
      "execution_count": null,
      "outputs": [
        {
          "output_type": "stream",
          "name": "stdout",
          "text": [
            "내적값은 0.66입니다. \n",
            "Men in Black의 내적값은 0.32입니다\n",
            "내적값은 0.71입니다. \n",
            "Men in Black의 내적값은 0.32입니다\n"
          ]
        }
      ]
    },
    {
      "cell_type": "markdown",
      "source": [
        "\n",
        "- 우선 factor는 100이하로 낮추면 안된다는 것을 알았다...!\n",
        "- 확실히 factor를 올리니 **좋아하는 영화에대한 내적값이 0.52 -> 0.66로 유의미하게 증가**한 것을 볼 수 있다.\n",
        "- 하지만 **대조적으로 추천 영화의 내적값은 0.43 -> 0.32로 감소**했다.... 이걸 좋은 변화로 봐도 좋을까 고민이 된다.  \n",
        "- 오히려 좋아하는 영화에 과적합된건 아닐까 고민이 들어 factor 200고정에, 과적합 방지용 regularization 0.4, iter 200으로 마지막 시도를 해본다..."
      ],
      "metadata": {
        "id": "RK6mHMRhk5ik"
      }
    },
    {
      "cell_type": "code",
      "source": [
        "########### Implicit AlternatingLeastSquares 모델 구현 7번째###########\n",
        "\n",
        "als_model_7 = AlternatingLeastSquares(factors = 200, regularization = 0.4, \n",
        "                                   use_gpu=False, iterations = 200, dtype=np.float32)\n",
        "\n",
        "############# 모델 훈련 #############\n",
        "als_model_7.fit(csr_data)"
      ],
      "metadata": {
        "colab": {
          "base_uri": "https://localhost:8080/",
          "height": 49,
          "referenced_widgets": [
            "f03e86e554dc440c9c125f6430ef7e7f",
            "b6aab0cbee76453e989f6887f935b35d",
            "3112bb1c50124ddaa8fdeb3fa379b853",
            "70b9f39a448d464abf7f5a80db888b1c",
            "78632b8baea1449186f239e8b1b782e9",
            "056308f015184058af74676183459bd2",
            "aedb57842f694832ac1b5e516308292d",
            "1b3b82c92bb94ee68d16f088aa8fd22e",
            "9ac64c23561640389cf7e4f834fec631",
            "2304eb5b23824a6992576eb495412799",
            "456532c224614e7caecb37428c9d2e65"
          ]
        },
        "id": "M6XkphvRmPmj",
        "outputId": "4296ae0e-db7a-403f-ffb2-3df1540bb5de"
      },
      "execution_count": null,
      "outputs": [
        {
          "output_type": "display_data",
          "data": {
            "text/plain": [
              "  0%|          | 0/200 [00:00<?, ?it/s]"
            ],
            "application/vnd.jupyter.widget-view+json": {
              "version_major": 2,
              "version_minor": 0,
              "model_id": "f03e86e554dc440c9c125f6430ef7e7f"
            }
          },
          "metadata": {}
        }
      ]
    },
    {
      "cell_type": "code",
      "source": [
        "def dot(user_to_id, title_to_id):\n",
        "    chabo, movie_title = user_to_idx[user_to_id], title_to_idx[title_to_id]\n",
        "    chabo_vector, movie_title_vector = als_model_7.user_factors[chabo], als_model_7.item_factors[movie_title]\n",
        "    dot = np.dot(chabo_vector, movie_title_vector)\n",
        "\n",
        "    Black = title_to_idx['Men in Black (1997)']\n",
        "    Black_vector = als_model_7.item_factors[Black]\n",
        "    dot2 = np.dot(chabo_vector, Black_vector)\n",
        "\n",
        "    return print('내적값은 {:.2}입니다. \\nMen in Black의 내적값은 {:.2}입니다'.format(dot, dot2))\n",
        "\n",
        "\n",
        "dot('6041', 'Jurassic Park (1993)')\n",
        "dot('6041', 'Toy Story (1995)')"
      ],
      "metadata": {
        "colab": {
          "base_uri": "https://localhost:8080/"
        },
        "id": "tNsVoE3Ameyz",
        "outputId": "074c9fef-f5ca-48f0-af02-a75b74b42c90"
      },
      "execution_count": null,
      "outputs": [
        {
          "output_type": "stream",
          "name": "stdout",
          "text": [
            "내적값은 0.66입니다. \n",
            "Men in Black의 내적값은 0.31입니다\n",
            "내적값은 0.69입니다. \n",
            "Men in Black의 내적값은 0.31입니다\n"
          ]
        }
      ]
    },
    {
      "cell_type": "markdown",
      "source": [
        "- 추가한번 더...!!!!   \n",
        "공식문서에 조절할 수 있는 파라미터 값으로 **calculate_training_loss (bool, optional)** – Whether to log out the training loss at each iteration을 제공하길래 한번 True로 적용해서 시도해본다..!\n",
        "\n",
        "https://implicit.readthedocs.io/en/latest/als.html#implicit.als.AlternatingLeastSquares"
      ],
      "metadata": {
        "id": "qlK5mp7-swDp"
      }
    },
    {
      "cell_type": "code",
      "source": [
        "########### Implicit AlternatingLeastSquares 모델 구현 8번째###########\n",
        "\n",
        "als_model_8 = AlternatingLeastSquares(factors = 150, regularization = 0.4, \n",
        "                                   use_gpu=False, iterations = 500, calculate_training_loss = True, dtype=np.float32)\n",
        "\n",
        "############# 모델 훈련 #############\n",
        "als_model_8.fit(csr_data)"
      ],
      "metadata": {
        "colab": {
          "base_uri": "https://localhost:8080/",
          "height": 49,
          "referenced_widgets": [
            "a42edad039d24a8db0578c39c27e6d7a",
            "72a3a404aaa1479dba3ad48aba3d8ccd",
            "42f743b92fba4fadbde8d2eb0a1003d6",
            "1bb5aa4d60c941fc8356d272603554ae",
            "2cb24e87f19744d7a4022ef607c30510",
            "0def03fb8e4e4b27a45fe236e1ce9e42",
            "980f3a9eb776473da849b7cf7efdd252",
            "8d77caca64ba4e849c3dbb73ebac540f",
            "866a825a64844f6981cd483bb9752b44",
            "50b7dbec496949e5b93e199129449fab",
            "f73e2d13fd72444b832ca0fea0c8a90d"
          ]
        },
        "id": "xZj4zUkisZWx",
        "outputId": "3455dc56-1539-433a-e3f5-0dbb39f40755"
      },
      "execution_count": null,
      "outputs": [
        {
          "output_type": "display_data",
          "data": {
            "text/plain": [
              "  0%|          | 0/500 [00:00<?, ?it/s]"
            ],
            "application/vnd.jupyter.widget-view+json": {
              "version_major": 2,
              "version_minor": 0,
              "model_id": "a42edad039d24a8db0578c39c27e6d7a"
            }
          },
          "metadata": {}
        }
      ]
    },
    {
      "cell_type": "code",
      "source": [
        "def dot(user_to_id, title_to_id):\n",
        "    chabo, movie_title = user_to_idx[user_to_id], title_to_idx[title_to_id]\n",
        "    chabo_vector, movie_title_vector = als_model_8.user_factors[chabo], als_model_8.item_factors[movie_title]\n",
        "    dot = np.dot(chabo_vector, movie_title_vector)\n",
        "\n",
        "    Black = title_to_idx['Men in Black (1997)']\n",
        "    Black_vector = als_model_8.item_factors[Black]\n",
        "    dot2 = np.dot(chabo_vector, Black_vector)\n",
        "\n",
        "    return print('내적값은 {:.2}입니다. \\nMen in Black의 내적값은 {:.2}입니다'.format(dot, dot2))\n",
        "\n",
        "\n",
        "dot('6041', 'Jurassic Park (1993)')\n",
        "dot('6041', 'Toy Story (1995)')"
      ],
      "metadata": {
        "colab": {
          "base_uri": "https://localhost:8080/"
        },
        "id": "L52-Vfnmubni",
        "outputId": "f50bd6f4-b018-42b7-a441-41ad0ddd6a1c"
      },
      "execution_count": null,
      "outputs": [
        {
          "output_type": "stream",
          "name": "stdout",
          "text": [
            "내적값은 0.59입니다. \n",
            "Men in Black의 내적값은 0.36입니다\n",
            "내적값은 0.62입니다. \n",
            "Men in Black의 내적값은 0.36입니다\n"
          ]
        }
      ]
    },
    {
      "cell_type": "markdown",
      "source": [
        "### factor 값 조절 결과\n",
        "1. (model_2)  \n",
        "fac = 100, reg = 0.05, iter = 100 -> 0.52 / 0.43\n",
        "2. fac = 50, reg = 0.05, iter = 100 -> 0.37 / 0.34\n",
        "3. fac = 200, reg = 0.2, iter = 100 -> 0.66 / 0.32\n",
        "4. fac = 200, reg = 0.4, iter = 200 -> 0.66 / 0.31\n",
        "5. fac = 100, reg = 0.4, iter = 500, training_loss = True -> 0.53 / 0.43\n",
        "6. fac = 150, reg = 0.4, iter = 500, training_loss = True -> 0.59 / 0.36\n",
        "\n",
        "- 우선 factor는 100이하로 낮추면 안된다는 것을 알았다...!\n",
        "- 확실히 factor를 올리니 **좋아하는 영화에대한 내적값이 0.52 -> 0.66로 유의미하게 증가**하지만 **대조적으로 추천 영화의 내적값은 0.43 -> 0.32로 감소**했다.... 이걸 좋은 변화로 봐도 좋을까 고민이 된다. \n",
        "- 다른 parameter도 넣어보고 다양하게 시도했지만, 결국 과적합으로 이어지는 것 같다.... \n",
        "\n",
        "---\n",
        "- 결국, factor 200은 데이터양 부족인지 계속해서 과적합되는 것으로 볼 수 있을 것 같다... model 2번인 fac = 100, reg = 0.05, iter = 100 값으로 이후 과정을 진행해본다. \n"
      ],
      "metadata": {
        "id": "_CLODPj0nxJb"
      }
    },
    {
      "cell_type": "markdown",
      "source": [
        "## STEP 7. 내가 좋아하는 영화와 비슷한 영화 추천받기\n",
        "---\n",
        "- `AlternatingLeastSquares` 클래스에 구현되어 있는 `similar_items` 메서드를 통하여 비슷한 영화를 찾는다.\n",
        "- model값은 2번으로 사용함\n",
        "- 우선 시작은 'Matrix, The (1999)'로 받아본다. "
      ],
      "metadata": {
        "id": "IV6L2J6KiMoK"
      }
    },
    {
      "cell_type": "code",
      "source": [
        "############## 추천 영화 및 관련도 #################\n",
        "favorite_movie = 'Matrix, The (1999)'\n",
        "\n",
        "title_id = title_to_idx[favorite_movie]\n",
        "similar_movie_temp = als_model_2.similar_items(title_id, N = 15)\n",
        "#출력\n",
        "similar_movie_temp"
      ],
      "metadata": {
        "colab": {
          "base_uri": "https://localhost:8080/"
        },
        "id": "6iQ2sAdMrSVU",
        "outputId": "a5f9a220-7fb1-43c1-dc3c-481863eef9db"
      },
      "execution_count": null,
      "outputs": [
        {
          "output_type": "execute_result",
          "data": {
            "text/plain": [
              "(array([124,  92,  62, 200, 141, 145, 107, 175, 375, 317,  75,  44, 193,\n",
              "        651,  38], dtype=int32),\n",
              " array([1.        , 0.7720902 , 0.6558119 , 0.55594635, 0.5471908 ,\n",
              "        0.54479575, 0.5267452 , 0.47695932, 0.46339482, 0.45157805,\n",
              "        0.38758817, 0.34217018, 0.3411738 , 0.33451965, 0.33070326],\n",
              "       dtype=float32))"
            ]
          },
          "metadata": {},
          "execution_count": 79
        }
      ]
    },
    {
      "cell_type": "code",
      "source": [
        "# 영화 index만 추출하여 리스트로 만들어줌\n",
        "similar_list = similar_movie_temp[0]\n",
        "similar_list"
      ],
      "metadata": {
        "colab": {
          "base_uri": "https://localhost:8080/"
        },
        "id": "T_RH1c3bx6-v",
        "outputId": "de7508aa-963d-413b-f9df-5d82dee766e8"
      },
      "execution_count": null,
      "outputs": [
        {
          "output_type": "execute_result",
          "data": {
            "text/plain": [
              "array([124,  92,  62, 200, 141, 145, 107, 175, 375, 317,  75,  44, 193,\n",
              "       651,  38], dtype=int32)"
            ]
          },
          "metadata": {},
          "execution_count": 92
        }
      ]
    },
    {
      "cell_type": "code",
      "source": [
        "############# 추천영화 리스트 출력 ###############\n",
        "\n",
        "#artist_to_idx 를 뒤집어, index로부터 artist 이름을 얻는 dict를 생성\n",
        "idx_to_title = {v: k for k, v in title_to_idx.items()}\n",
        "# 위에서 Matrix로 추천 받은 영화 리스트를 출력\n",
        "[idx_to_title[i]for i in similar_list]"
      ],
      "metadata": {
        "id": "BwpvcGMidAYz",
        "colab": {
          "base_uri": "https://localhost:8080/"
        },
        "outputId": "50e1f646-6bbf-44f3-cd9b-069778b4ce0f"
      },
      "execution_count": null,
      "outputs": [
        {
          "output_type": "execute_result",
          "data": {
            "text/plain": [
              "['Matrix, The (1999)',\n",
              " 'Terminator 2: Judgment Day (1991)',\n",
              " 'Total Recall (1990)',\n",
              " 'Terminator, The (1984)',\n",
              " 'Fugitive, The (1993)',\n",
              " 'Fifth Element, The (1997)',\n",
              " 'Jurassic Park (1993)',\n",
              " 'Men in Black (1997)',\n",
              " 'Face/Off (1997)',\n",
              " 'Twelve Monkeys (1995)',\n",
              " 'Hunt for Red October, The (1990)',\n",
              " 'Star Wars: Episode IV - A New Hope (1977)',\n",
              " 'Alien (1979)',\n",
              " 'Aliens (1986)',\n",
              " 'Sixth Sense, The (1999)']"
            ]
          },
          "metadata": {},
          "execution_count": 99
        }
      ]
    },
    {
      "cell_type": "markdown",
      "source": [
        "오 매트릭스에 터미네이터, 에일리언, 스타워즈, 식스센스, 페이스오프 추천이라.... 좋네요!!!!캬~ 녀석...! 영화 좀 볼 줄 아네요(흡족)\n",
        "\n",
        "그럼 함수화하여 좋아하는 영화 리스트로 추천받아 봅시다!"
      ],
      "metadata": {
        "id": "DI7kXSLkz-bX"
      }
    },
    {
      "cell_type": "code",
      "source": [
        "def similar_movie(favorite_movie : str):\n",
        "    title_id = title_to_idx[favorite_movie]\n",
        "    #각 영화당 5개씩만 추천\n",
        "    similar_movie = als_model_2.similar_items(title_id, N = 5)\n",
        "    #추천 영화 index -> list로 저장\n",
        "    similar_movie_list = similar_movie[0]\n",
        "    #index to title 생성\n",
        "    idx_to_title = {v: k for k, v in title_to_idx.items()}\n",
        "    similar_movie = [idx_to_title[i] for i in similar_movie_list]\n",
        "    return print(f'{favorite_movie}를 좋아하는 당신은 \\n{similar_movie}를 좋아할지도 모르겠네요:)!')\n",
        "\n",
        "similar_movie('Matrix, The (1999)')"
      ],
      "metadata": {
        "colab": {
          "base_uri": "https://localhost:8080/"
        },
        "id": "nroP6NZLimFh",
        "outputId": "3213b6c5-ed1e-47a0-8ba1-fb9693c761cf"
      },
      "execution_count": null,
      "outputs": [
        {
          "output_type": "stream",
          "name": "stdout",
          "text": [
            "Matrix, The (1999)를 좋아하는 당신은 \n",
            "['Matrix, The (1999)', 'Terminator 2: Judgment Day (1991)', 'Total Recall (1990)', 'Terminator, The (1984)', 'Fugitive, The (1993)']를 좋아할지도 모르겠네요:)!\n"
          ]
        }
      ]
    },
    {
      "cell_type": "code",
      "source": [
        "########## favorite 영화 리스트별 추천 영화 뽑기 ###############\n",
        "my_favorite = ['Toy Story (1995)', 'Pocahontas (1995)' ,'Matrix, The (1999)','Jurassic Park (1993)']\n",
        "\n",
        "for movie_title in my_favorite:\n",
        "    similar_movie(movie_title)\n",
        "    print('=='*20, '\\n')\n"
      ],
      "metadata": {
        "colab": {
          "base_uri": "https://localhost:8080/"
        },
        "id": "tVSRTzlqpZXy",
        "outputId": "bff58eab-22b9-458f-9ed7-b58645e97fb7"
      },
      "execution_count": null,
      "outputs": [
        {
          "output_type": "stream",
          "name": "stdout",
          "text": [
            "Toy Story (1995)를 좋아하는 당신은 \n",
            "['Toy Story (1995)', 'Toy Story 2 (1999)', \"Bug's Life, A (1998)\", 'Aladdin (1992)', 'Babe (1995)']를 좋아할지도 모르겠네요:)!\n",
            "======================================== \n",
            "\n",
            "Pocahontas (1995)를 좋아하는 당신은 \n",
            "['Pocahontas (1995)', 'Hunchback of Notre Dame, The (1996)', 'Hercules (1997)', 'Anastasia (1997)', 'Tarzan (1999)']를 좋아할지도 모르겠네요:)!\n",
            "======================================== \n",
            "\n",
            "Matrix, The (1999)를 좋아하는 당신은 \n",
            "['Matrix, The (1999)', 'Terminator 2: Judgment Day (1991)', 'Total Recall (1990)', 'Terminator, The (1984)', 'Fugitive, The (1993)']를 좋아할지도 모르겠네요:)!\n",
            "======================================== \n",
            "\n",
            "Jurassic Park (1993)를 좋아하는 당신은 \n",
            "['Jurassic Park (1993)', 'Men in Black (1997)', 'Terminator 2: Judgment Day (1991)', 'Total Recall (1990)', 'Matrix, The (1999)']를 좋아할지도 모르겠네요:)!\n",
            "======================================== \n",
            "\n"
          ]
        }
      ]
    },
    {
      "cell_type": "markdown",
      "source": [
        "## STEP 8. 내가 좋아할만한 영화 추천받기\n",
        "---\n",
        "- 이제 특정 영화에 따른 추천이 아닌, 유저의 특성을 통한 영화를 추천받아보자\n",
        "\n",
        "- `AlternatingLeastSquares` 클래스에 구현되어 있는 `recommend` 메서드를 통하여 좋아할만한 영화 추천받기\n",
        "- `filter_already_liked_items` 는 유저가 이미 평가한 아이템은 제외하는 Argument임\n"
      ],
      "metadata": {
        "id": "0ZDH9dii01uj"
      }
    },
    {
      "cell_type": "code",
      "source": [
        "# chaaaaabbo id 입력.... \n",
        "user = user_to_idx['6041']\n",
        "\n",
        "movie_recommended = als_model_2.recommend(user, csr_data[user], N = 20,\n",
        "                                        filter_already_liked_items = True)\n",
        "movie_recommended"
      ],
      "metadata": {
        "colab": {
          "base_uri": "https://localhost:8080/"
        },
        "id": "4M_bcwFQvop8",
        "outputId": "58c6b277-cd00-42f2-b9bb-4c75908b4dff"
      },
      "execution_count": null,
      "outputs": [
        {
          "output_type": "execute_result",
          "data": {
            "text/plain": [
              "(array([ 92, 175,  50,  62, 141, 330,  33,  10, 322,  87, 200,   4, 145,\n",
              "         38, 110, 150,  48, 317,  75, 375], dtype=int32),\n",
              " array([0.52726245, 0.43039417, 0.40739787, 0.34148058, 0.29048112,\n",
              "        0.2701519 , 0.25057358, 0.24149477, 0.23629405, 0.22117597,\n",
              "        0.21904218, 0.21266264, 0.20762894, 0.2020968 , 0.20144819,\n",
              "        0.1958574 , 0.17420527, 0.16970347, 0.1685827 , 0.16787098],\n",
              "       dtype=float32))"
            ]
          },
          "metadata": {},
          "execution_count": 109
        }
      ]
    },
    {
      "cell_type": "code",
      "source": [
        "############ 유저별 영화 추천 함수 #############\n",
        "def movie_recommend(user_index : int):\n",
        "    movie_recommended = als_model_2.recommend(user, csr_data[user], N = 10,\n",
        "                                        filter_already_liked_items = True)\n",
        "    recommended_list = movie_recommended[0]\n",
        "    recommended_list = [idx_to_title[i] for i in recommended_list]\n",
        "    print(f'사용자님 안녕하세요^_____^!\\n{recommended_list}영화들은 어떠신가요?')\n",
        "\n",
        "movie_recommend('6041')"
      ],
      "metadata": {
        "colab": {
          "base_uri": "https://localhost:8080/"
        },
        "id": "FXQ3ohALvon-",
        "outputId": "29cee151-92b9-4618-e7d6-19699473f162"
      },
      "execution_count": null,
      "outputs": [
        {
          "output_type": "stream",
          "name": "stdout",
          "text": [
            "사용자님 안녕하세요^_____^!\n",
            "['Terminator 2: Judgment Day (1991)', 'Men in Black (1997)', 'Toy Story 2 (1999)', 'Total Recall (1990)', 'Fugitive, The (1993)', 'Lion King, The (1994)', 'Aladdin (1992)', 'Beauty and the Beast (1991)', 'Babe (1995)', 'Braveheart (1995)']영화들은 어떠신가요?\n"
          ]
        }
      ]
    },
    {
      "cell_type": "code",
      "source": [
        "############# 랜덤한 유저들 영화 추천 #############\n",
        "# 선택받은 5명 뽑기\n",
        "random_user = np.random.randint(1,num_user, size=5)\n",
        "\n",
        "for user in random_user:\n",
        "    movie_recommend(user)\n",
        "    print('=='*20, '\\n')"
      ],
      "metadata": {
        "colab": {
          "base_uri": "https://localhost:8080/"
        },
        "id": "RKc2t4Avvoln",
        "outputId": "55aeb57c-f631-4b3b-f8f9-e692c5166b81"
      },
      "execution_count": null,
      "outputs": [
        {
          "output_type": "stream",
          "name": "stdout",
          "text": [
            "사용자님 안녕하세요^_____^!\n",
            "['Jaws (1975)', 'Saving Private Ryan (1998)', 'Butch Cassidy and the Sundance Kid (1969)', 'Star Trek III: The Search for Spock (1984)', 'Rocky (1976)', 'Die Hard (1988)', 'Glory (1989)', 'Close Encounters of the Third Kind (1977)', 'Dirty Dozen, The (1967)', 'Abyss, The (1989)']영화들은 어떠신가요?\n",
            "======================================== \n",
            "\n",
            "사용자님 안녕하세요^_____^!\n",
            "['Indiana Jones and the Temple of Doom (1984)', 'Highlander (1986)', 'Jurassic Park (1993)', 'Dragonheart (1996)', 'Jumanji (1995)', 'Superman II (1980)', 'Crocodile Dundee (1986)', 'Who Framed Roger Rabbit? (1988)', 'Goonies, The (1985)', \"Logan's Run (1976)\"]영화들은 어떠신가요?\n",
            "======================================== \n",
            "\n",
            "사용자님 안녕하세요^_____^!\n",
            "['Philadelphia Story, The (1940)', 'Romancing the Stone (1984)', 'Willy Wonka and the Chocolate Factory (1971)', 'Auntie Mame (1958)', 'Citizen Kane (1941)', 'Babe (1995)', 'Splash (1984)', 'Out of Africa (1985)', 'Lord of the Rings, The (1978)', 'Superman (1978)']영화들은 어떠신가요?\n",
            "======================================== \n",
            "\n",
            "사용자님 안녕하세요^_____^!\n",
            "['Lethal Weapon 2 (1989)', 'Jaws (1975)', 'Rain Man (1988)', 'Goldfinger (1964)', 'Shanghai Noon (2000)', 'Edward Scissorhands (1990)', \"One Flew Over the Cuckoo's Nest (1975)\", 'X-Files: Fight the Future, The (1998)', 'Amadeus (1984)', 'Entrapment (1999)']영화들은 어떠신가요?\n",
            "======================================== \n",
            "\n",
            "사용자님 안녕하세요^_____^!\n",
            "['Cool Hand Luke (1967)', 'Exorcist, The (1973)', 'Professional, The (a.k.a. Leon: The Professional) (1994)', 'Lord of the Flies (1963)', 'Nightmare on Elm Street, A (1984)', 'American History X (1998)', 'Man on the Moon (1999)', 'Apollo 13 (1995)', 'NeverEnding Story, The (1984)', 'Better Off Dead... (1985)']영화들은 어떠신가요?\n",
            "======================================== \n",
            "\n"
          ]
        }
      ]
    },
    {
      "cell_type": "markdown",
      "source": [
        "선택받은 5명이 좋아했으면 좋겠네요^_____^ㅎㅎ.."
      ],
      "metadata": {
        "id": "JE_MMC_l4_Mb"
      }
    },
    {
      "cell_type": "markdown",
      "source": [
        "추가로 아까 추천 받은 영화들 중 `AlternatingLeastSquares` 클래스에 구현된 `explain` 메서드를 사용해 기록을 남긴 데이터 중 추천에 기여한 정도를 확인해보자."
      ],
      "metadata": {
        "id": "R69NJwR55Fdh"
      }
    },
    {
      "cell_type": "code",
      "source": [
        "curious_movie = title_to_idx['Beauty and the Beast (1991)']\n",
        "\n",
        "explain = als_model_2.explain(user, csr_data, itemid = curious_movie)\n",
        "explain"
      ],
      "metadata": {
        "colab": {
          "base_uri": "https://localhost:8080/"
        },
        "id": "cIJGyPUA5dYC",
        "outputId": "4323264b-1354-43df-8cb4-c5bb190b41e2"
      },
      "execution_count": null,
      "outputs": [
        {
          "output_type": "execute_result",
          "data": {
            "text/plain": [
              "(0.13345282420905838,\n",
              " [(8, 0.0677257100620382),\n",
              "  (45, 0.05316036735480158),\n",
              "  (46, 0.05126707037819418),\n",
              "  (322, 0.049812594023575116),\n",
              "  (572, 0.04769705047777745),\n",
              "  (178, 0.04593842050485995),\n",
              "  (536, 0.045369720377081924),\n",
              "  (551, 0.03899697398329021),\n",
              "  (619, 0.03749149045158364),\n",
              "  (141, 0.0362110283724336)],\n",
              " (array([[ 2.50864761e+00,  3.36006875e-02,  3.88609527e-02, ...,\n",
              "           4.55737664e-03, -8.16480484e-02, -4.25831986e-04],\n",
              "         [ 8.42922844e-02,  2.53926375e+00,  1.53191011e-01, ...,\n",
              "           1.52317732e-01,  4.72703114e-02, -1.66438704e-01],\n",
              "         [ 9.74884360e-02,  3.90298135e-01,  2.61609177e+00, ...,\n",
              "           1.61946008e-01, -5.82078498e-02,  1.00452931e-01],\n",
              "         ...,\n",
              "         [ 1.14328520e-02,  3.86928026e-01,  4.47176429e-01, ...,\n",
              "           2.42583600e+00,  5.81354812e-03, -2.76071508e-02],\n",
              "         [-2.04826181e-01,  1.17288358e-01, -1.48208611e-01, ...,\n",
              "           1.63976587e-01,  2.44595272e+00, -6.77979978e-02],\n",
              "         [-1.06826239e-03, -4.22646077e-01,  2.37280624e-01, ...,\n",
              "          -6.09580370e-02, -1.43689811e-01,  2.46444295e+00]]), False))"
            ]
          },
          "metadata": {},
          "execution_count": 148
        }
      ]
    },
    {
      "cell_type": "code",
      "source": [
        "[(idx_to_title[i[0]], i[1]) for i in explain[1]]"
      ],
      "metadata": {
        "colab": {
          "base_uri": "https://localhost:8080/"
        },
        "id": "cx4X1yYT5u7c",
        "outputId": "8b643d93-96cb-4750-b02b-6700f08f3795"
      },
      "execution_count": null,
      "outputs": [
        {
          "output_type": "execute_result",
          "data": {
            "text/plain": [
              "[('Snow White and the Seven Dwarfs (1937)', 0.0677257100620382),\n",
              " ('Mary Poppins (1964)', 0.05316036735480158),\n",
              " ('Dumbo (1941)', 0.05126707037819418),\n",
              " ('Babe (1995)', 0.049812594023575116),\n",
              " ('Sleeping Beauty (1959)', 0.04769705047777745),\n",
              " ('Unforgiven (1992)', 0.04593842050485995),\n",
              " ('Jungle Book, The (1967)', 0.045369720377081924),\n",
              " ('Peter Pan (1953)', 0.03899697398329021),\n",
              " ('Alice in Wonderland (1951)', 0.03749149045158364),\n",
              " ('Fugitive, The (1993)', 0.0362110283724336)]"
            ]
          },
          "metadata": {},
          "execution_count": 149
        }
      ]
    },
    {
      "cell_type": "markdown",
      "source": [
        "추천... 연관도가 다들 굉장히 낮네욤...."
      ],
      "metadata": {
        "id": "yeeSPAzt6GsR"
      }
    },
    {
      "cell_type": "code",
      "source": [
        ""
      ],
      "metadata": {
        "id": "FKgm5AWH5yLg"
      },
      "execution_count": null,
      "outputs": []
    }
  ]
}