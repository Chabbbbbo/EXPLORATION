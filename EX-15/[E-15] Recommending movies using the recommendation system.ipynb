{
  "nbformat": 4,
  "nbformat_minor": 0,
  "metadata": {
    "colab": {
      "name": "[E-15] Recommending movies using the recommendation system.ipynb",
      "provenance": [],
      "collapsed_sections": [],
      "machine_shape": "hm"
    },
    "kernelspec": {
      "name": "python3",
      "display_name": "Python 3"
    },
    "language_info": {
      "name": "python"
    },
    "accelerator": "GPU",
    "gpuClass": "standard",
    "widgets": {
      "application/vnd.jupyter.widget-state+json": {
        "7c5bbcf6745e4a73b269805e693dd15c": {
          "model_module": "@jupyter-widgets/controls",
          "model_name": "HBoxModel",
          "model_module_version": "1.5.0",
          "state": {
            "_dom_classes": [],
            "_model_module": "@jupyter-widgets/controls",
            "_model_module_version": "1.5.0",
            "_model_name": "HBoxModel",
            "_view_count": null,
            "_view_module": "@jupyter-widgets/controls",
            "_view_module_version": "1.5.0",
            "_view_name": "HBoxView",
            "box_style": "",
            "children": [
              "IPY_MODEL_77fc570daf6f4ff3ac781464b583a031",
              "IPY_MODEL_6959b957c7bf4e3d9dad554545adbc57",
              "IPY_MODEL_bbe9d6dbaa1f400cb56de82fa6b5431f"
            ],
            "layout": "IPY_MODEL_c14b94d7bf244923a98a3318165be562"
          }
        },
        "77fc570daf6f4ff3ac781464b583a031": {
          "model_module": "@jupyter-widgets/controls",
          "model_name": "HTMLModel",
          "model_module_version": "1.5.0",
          "state": {
            "_dom_classes": [],
            "_model_module": "@jupyter-widgets/controls",
            "_model_module_version": "1.5.0",
            "_model_name": "HTMLModel",
            "_view_count": null,
            "_view_module": "@jupyter-widgets/controls",
            "_view_module_version": "1.5.0",
            "_view_name": "HTMLView",
            "description": "",
            "description_tooltip": null,
            "layout": "IPY_MODEL_fdc701f14b66449b8fb32962123420a8",
            "placeholder": "​",
            "style": "IPY_MODEL_65f9cadc340c4819a153fea99a0ee925",
            "value": "100%"
          }
        },
        "6959b957c7bf4e3d9dad554545adbc57": {
          "model_module": "@jupyter-widgets/controls",
          "model_name": "FloatProgressModel",
          "model_module_version": "1.5.0",
          "state": {
            "_dom_classes": [],
            "_model_module": "@jupyter-widgets/controls",
            "_model_module_version": "1.5.0",
            "_model_name": "FloatProgressModel",
            "_view_count": null,
            "_view_module": "@jupyter-widgets/controls",
            "_view_module_version": "1.5.0",
            "_view_name": "ProgressView",
            "bar_style": "success",
            "description": "",
            "description_tooltip": null,
            "layout": "IPY_MODEL_579b48b221b647439fb0162262acde61",
            "max": 30,
            "min": 0,
            "orientation": "horizontal",
            "style": "IPY_MODEL_0a4fc82edd5c4777af8311d5e4aff164",
            "value": 30
          }
        },
        "bbe9d6dbaa1f400cb56de82fa6b5431f": {
          "model_module": "@jupyter-widgets/controls",
          "model_name": "HTMLModel",
          "model_module_version": "1.5.0",
          "state": {
            "_dom_classes": [],
            "_model_module": "@jupyter-widgets/controls",
            "_model_module_version": "1.5.0",
            "_model_name": "HTMLModel",
            "_view_count": null,
            "_view_module": "@jupyter-widgets/controls",
            "_view_module_version": "1.5.0",
            "_view_name": "HTMLView",
            "description": "",
            "description_tooltip": null,
            "layout": "IPY_MODEL_a82d4b3bcf574b9cbb92d571faf75797",
            "placeholder": "​",
            "style": "IPY_MODEL_cf0829656baa4517ace7fc3c6c374ccb",
            "value": " 30/30 [00:23&lt;00:00,  1.53it/s]"
          }
        },
        "c14b94d7bf244923a98a3318165be562": {
          "model_module": "@jupyter-widgets/base",
          "model_name": "LayoutModel",
          "model_module_version": "1.2.0",
          "state": {
            "_model_module": "@jupyter-widgets/base",
            "_model_module_version": "1.2.0",
            "_model_name": "LayoutModel",
            "_view_count": null,
            "_view_module": "@jupyter-widgets/base",
            "_view_module_version": "1.2.0",
            "_view_name": "LayoutView",
            "align_content": null,
            "align_items": null,
            "align_self": null,
            "border": null,
            "bottom": null,
            "display": null,
            "flex": null,
            "flex_flow": null,
            "grid_area": null,
            "grid_auto_columns": null,
            "grid_auto_flow": null,
            "grid_auto_rows": null,
            "grid_column": null,
            "grid_gap": null,
            "grid_row": null,
            "grid_template_areas": null,
            "grid_template_columns": null,
            "grid_template_rows": null,
            "height": null,
            "justify_content": null,
            "justify_items": null,
            "left": null,
            "margin": null,
            "max_height": null,
            "max_width": null,
            "min_height": null,
            "min_width": null,
            "object_fit": null,
            "object_position": null,
            "order": null,
            "overflow": null,
            "overflow_x": null,
            "overflow_y": null,
            "padding": null,
            "right": null,
            "top": null,
            "visibility": null,
            "width": null
          }
        },
        "fdc701f14b66449b8fb32962123420a8": {
          "model_module": "@jupyter-widgets/base",
          "model_name": "LayoutModel",
          "model_module_version": "1.2.0",
          "state": {
            "_model_module": "@jupyter-widgets/base",
            "_model_module_version": "1.2.0",
            "_model_name": "LayoutModel",
            "_view_count": null,
            "_view_module": "@jupyter-widgets/base",
            "_view_module_version": "1.2.0",
            "_view_name": "LayoutView",
            "align_content": null,
            "align_items": null,
            "align_self": null,
            "border": null,
            "bottom": null,
            "display": null,
            "flex": null,
            "flex_flow": null,
            "grid_area": null,
            "grid_auto_columns": null,
            "grid_auto_flow": null,
            "grid_auto_rows": null,
            "grid_column": null,
            "grid_gap": null,
            "grid_row": null,
            "grid_template_areas": null,
            "grid_template_columns": null,
            "grid_template_rows": null,
            "height": null,
            "justify_content": null,
            "justify_items": null,
            "left": null,
            "margin": null,
            "max_height": null,
            "max_width": null,
            "min_height": null,
            "min_width": null,
            "object_fit": null,
            "object_position": null,
            "order": null,
            "overflow": null,
            "overflow_x": null,
            "overflow_y": null,
            "padding": null,
            "right": null,
            "top": null,
            "visibility": null,
            "width": null
          }
        },
        "65f9cadc340c4819a153fea99a0ee925": {
          "model_module": "@jupyter-widgets/controls",
          "model_name": "DescriptionStyleModel",
          "model_module_version": "1.5.0",
          "state": {
            "_model_module": "@jupyter-widgets/controls",
            "_model_module_version": "1.5.0",
            "_model_name": "DescriptionStyleModel",
            "_view_count": null,
            "_view_module": "@jupyter-widgets/base",
            "_view_module_version": "1.2.0",
            "_view_name": "StyleView",
            "description_width": ""
          }
        },
        "579b48b221b647439fb0162262acde61": {
          "model_module": "@jupyter-widgets/base",
          "model_name": "LayoutModel",
          "model_module_version": "1.2.0",
          "state": {
            "_model_module": "@jupyter-widgets/base",
            "_model_module_version": "1.2.0",
            "_model_name": "LayoutModel",
            "_view_count": null,
            "_view_module": "@jupyter-widgets/base",
            "_view_module_version": "1.2.0",
            "_view_name": "LayoutView",
            "align_content": null,
            "align_items": null,
            "align_self": null,
            "border": null,
            "bottom": null,
            "display": null,
            "flex": null,
            "flex_flow": null,
            "grid_area": null,
            "grid_auto_columns": null,
            "grid_auto_flow": null,
            "grid_auto_rows": null,
            "grid_column": null,
            "grid_gap": null,
            "grid_row": null,
            "grid_template_areas": null,
            "grid_template_columns": null,
            "grid_template_rows": null,
            "height": null,
            "justify_content": null,
            "justify_items": null,
            "left": null,
            "margin": null,
            "max_height": null,
            "max_width": null,
            "min_height": null,
            "min_width": null,
            "object_fit": null,
            "object_position": null,
            "order": null,
            "overflow": null,
            "overflow_x": null,
            "overflow_y": null,
            "padding": null,
            "right": null,
            "top": null,
            "visibility": null,
            "width": null
          }
        },
        "0a4fc82edd5c4777af8311d5e4aff164": {
          "model_module": "@jupyter-widgets/controls",
          "model_name": "ProgressStyleModel",
          "model_module_version": "1.5.0",
          "state": {
            "_model_module": "@jupyter-widgets/controls",
            "_model_module_version": "1.5.0",
            "_model_name": "ProgressStyleModel",
            "_view_count": null,
            "_view_module": "@jupyter-widgets/base",
            "_view_module_version": "1.2.0",
            "_view_name": "StyleView",
            "bar_color": null,
            "description_width": ""
          }
        },
        "a82d4b3bcf574b9cbb92d571faf75797": {
          "model_module": "@jupyter-widgets/base",
          "model_name": "LayoutModel",
          "model_module_version": "1.2.0",
          "state": {
            "_model_module": "@jupyter-widgets/base",
            "_model_module_version": "1.2.0",
            "_model_name": "LayoutModel",
            "_view_count": null,
            "_view_module": "@jupyter-widgets/base",
            "_view_module_version": "1.2.0",
            "_view_name": "LayoutView",
            "align_content": null,
            "align_items": null,
            "align_self": null,
            "border": null,
            "bottom": null,
            "display": null,
            "flex": null,
            "flex_flow": null,
            "grid_area": null,
            "grid_auto_columns": null,
            "grid_auto_flow": null,
            "grid_auto_rows": null,
            "grid_column": null,
            "grid_gap": null,
            "grid_row": null,
            "grid_template_areas": null,
            "grid_template_columns": null,
            "grid_template_rows": null,
            "height": null,
            "justify_content": null,
            "justify_items": null,
            "left": null,
            "margin": null,
            "max_height": null,
            "max_width": null,
            "min_height": null,
            "min_width": null,
            "object_fit": null,
            "object_position": null,
            "order": null,
            "overflow": null,
            "overflow_x": null,
            "overflow_y": null,
            "padding": null,
            "right": null,
            "top": null,
            "visibility": null,
            "width": null
          }
        },
        "cf0829656baa4517ace7fc3c6c374ccb": {
          "model_module": "@jupyter-widgets/controls",
          "model_name": "DescriptionStyleModel",
          "model_module_version": "1.5.0",
          "state": {
            "_model_module": "@jupyter-widgets/controls",
            "_model_module_version": "1.5.0",
            "_model_name": "DescriptionStyleModel",
            "_view_count": null,
            "_view_module": "@jupyter-widgets/base",
            "_view_module_version": "1.2.0",
            "_view_name": "StyleView",
            "description_width": ""
          }
        },
        "7d20f88b76f042e9b2695c57f5f1a669": {
          "model_module": "@jupyter-widgets/controls",
          "model_name": "HBoxModel",
          "model_module_version": "1.5.0",
          "state": {
            "_dom_classes": [],
            "_model_module": "@jupyter-widgets/controls",
            "_model_module_version": "1.5.0",
            "_model_name": "HBoxModel",
            "_view_count": null,
            "_view_module": "@jupyter-widgets/controls",
            "_view_module_version": "1.5.0",
            "_view_name": "HBoxView",
            "box_style": "",
            "children": [
              "IPY_MODEL_f8dc3c650443406abb558c2dc92432b0",
              "IPY_MODEL_b44972e383df4ee689b06751ac7068c4",
              "IPY_MODEL_b6ae3376a64c4230bf1dadd037e9efc7"
            ],
            "layout": "IPY_MODEL_b2faba3d2a0741828768d610d76dfff6"
          }
        },
        "f8dc3c650443406abb558c2dc92432b0": {
          "model_module": "@jupyter-widgets/controls",
          "model_name": "HTMLModel",
          "model_module_version": "1.5.0",
          "state": {
            "_dom_classes": [],
            "_model_module": "@jupyter-widgets/controls",
            "_model_module_version": "1.5.0",
            "_model_name": "HTMLModel",
            "_view_count": null,
            "_view_module": "@jupyter-widgets/controls",
            "_view_module_version": "1.5.0",
            "_view_name": "HTMLView",
            "description": "",
            "description_tooltip": null,
            "layout": "IPY_MODEL_80e6547acd464bbcbbbd8fbf6a83aa5f",
            "placeholder": "​",
            "style": "IPY_MODEL_b896b3832a0745f794560c22e935cd08",
            "value": "100%"
          }
        },
        "b44972e383df4ee689b06751ac7068c4": {
          "model_module": "@jupyter-widgets/controls",
          "model_name": "FloatProgressModel",
          "model_module_version": "1.5.0",
          "state": {
            "_dom_classes": [],
            "_model_module": "@jupyter-widgets/controls",
            "_model_module_version": "1.5.0",
            "_model_name": "FloatProgressModel",
            "_view_count": null,
            "_view_module": "@jupyter-widgets/controls",
            "_view_module_version": "1.5.0",
            "_view_name": "ProgressView",
            "bar_style": "success",
            "description": "",
            "description_tooltip": null,
            "layout": "IPY_MODEL_d5cbe5e6416342e1a8272e6e3820a1de",
            "max": 1000,
            "min": 0,
            "orientation": "horizontal",
            "style": "IPY_MODEL_cd31db44492d4f3f994d9e2d2bcf9fd7",
            "value": 1000
          }
        },
        "b6ae3376a64c4230bf1dadd037e9efc7": {
          "model_module": "@jupyter-widgets/controls",
          "model_name": "HTMLModel",
          "model_module_version": "1.5.0",
          "state": {
            "_dom_classes": [],
            "_model_module": "@jupyter-widgets/controls",
            "_model_module_version": "1.5.0",
            "_model_name": "HTMLModel",
            "_view_count": null,
            "_view_module": "@jupyter-widgets/controls",
            "_view_module_version": "1.5.0",
            "_view_name": "HTMLView",
            "description": "",
            "description_tooltip": null,
            "layout": "IPY_MODEL_c289c7579bf249e09f023842b10a65cc",
            "placeholder": "​",
            "style": "IPY_MODEL_36ee081b3ff944b18f8c23cc1e0f42a2",
            "value": " 1000/1000 [11:29&lt;00:00,  1.66it/s]"
          }
        },
        "b2faba3d2a0741828768d610d76dfff6": {
          "model_module": "@jupyter-widgets/base",
          "model_name": "LayoutModel",
          "model_module_version": "1.2.0",
          "state": {
            "_model_module": "@jupyter-widgets/base",
            "_model_module_version": "1.2.0",
            "_model_name": "LayoutModel",
            "_view_count": null,
            "_view_module": "@jupyter-widgets/base",
            "_view_module_version": "1.2.0",
            "_view_name": "LayoutView",
            "align_content": null,
            "align_items": null,
            "align_self": null,
            "border": null,
            "bottom": null,
            "display": null,
            "flex": null,
            "flex_flow": null,
            "grid_area": null,
            "grid_auto_columns": null,
            "grid_auto_flow": null,
            "grid_auto_rows": null,
            "grid_column": null,
            "grid_gap": null,
            "grid_row": null,
            "grid_template_areas": null,
            "grid_template_columns": null,
            "grid_template_rows": null,
            "height": null,
            "justify_content": null,
            "justify_items": null,
            "left": null,
            "margin": null,
            "max_height": null,
            "max_width": null,
            "min_height": null,
            "min_width": null,
            "object_fit": null,
            "object_position": null,
            "order": null,
            "overflow": null,
            "overflow_x": null,
            "overflow_y": null,
            "padding": null,
            "right": null,
            "top": null,
            "visibility": null,
            "width": null
          }
        },
        "80e6547acd464bbcbbbd8fbf6a83aa5f": {
          "model_module": "@jupyter-widgets/base",
          "model_name": "LayoutModel",
          "model_module_version": "1.2.0",
          "state": {
            "_model_module": "@jupyter-widgets/base",
            "_model_module_version": "1.2.0",
            "_model_name": "LayoutModel",
            "_view_count": null,
            "_view_module": "@jupyter-widgets/base",
            "_view_module_version": "1.2.0",
            "_view_name": "LayoutView",
            "align_content": null,
            "align_items": null,
            "align_self": null,
            "border": null,
            "bottom": null,
            "display": null,
            "flex": null,
            "flex_flow": null,
            "grid_area": null,
            "grid_auto_columns": null,
            "grid_auto_flow": null,
            "grid_auto_rows": null,
            "grid_column": null,
            "grid_gap": null,
            "grid_row": null,
            "grid_template_areas": null,
            "grid_template_columns": null,
            "grid_template_rows": null,
            "height": null,
            "justify_content": null,
            "justify_items": null,
            "left": null,
            "margin": null,
            "max_height": null,
            "max_width": null,
            "min_height": null,
            "min_width": null,
            "object_fit": null,
            "object_position": null,
            "order": null,
            "overflow": null,
            "overflow_x": null,
            "overflow_y": null,
            "padding": null,
            "right": null,
            "top": null,
            "visibility": null,
            "width": null
          }
        },
        "b896b3832a0745f794560c22e935cd08": {
          "model_module": "@jupyter-widgets/controls",
          "model_name": "DescriptionStyleModel",
          "model_module_version": "1.5.0",
          "state": {
            "_model_module": "@jupyter-widgets/controls",
            "_model_module_version": "1.5.0",
            "_model_name": "DescriptionStyleModel",
            "_view_count": null,
            "_view_module": "@jupyter-widgets/base",
            "_view_module_version": "1.2.0",
            "_view_name": "StyleView",
            "description_width": ""
          }
        },
        "d5cbe5e6416342e1a8272e6e3820a1de": {
          "model_module": "@jupyter-widgets/base",
          "model_name": "LayoutModel",
          "model_module_version": "1.2.0",
          "state": {
            "_model_module": "@jupyter-widgets/base",
            "_model_module_version": "1.2.0",
            "_model_name": "LayoutModel",
            "_view_count": null,
            "_view_module": "@jupyter-widgets/base",
            "_view_module_version": "1.2.0",
            "_view_name": "LayoutView",
            "align_content": null,
            "align_items": null,
            "align_self": null,
            "border": null,
            "bottom": null,
            "display": null,
            "flex": null,
            "flex_flow": null,
            "grid_area": null,
            "grid_auto_columns": null,
            "grid_auto_flow": null,
            "grid_auto_rows": null,
            "grid_column": null,
            "grid_gap": null,
            "grid_row": null,
            "grid_template_areas": null,
            "grid_template_columns": null,
            "grid_template_rows": null,
            "height": null,
            "justify_content": null,
            "justify_items": null,
            "left": null,
            "margin": null,
            "max_height": null,
            "max_width": null,
            "min_height": null,
            "min_width": null,
            "object_fit": null,
            "object_position": null,
            "order": null,
            "overflow": null,
            "overflow_x": null,
            "overflow_y": null,
            "padding": null,
            "right": null,
            "top": null,
            "visibility": null,
            "width": null
          }
        },
        "cd31db44492d4f3f994d9e2d2bcf9fd7": {
          "model_module": "@jupyter-widgets/controls",
          "model_name": "ProgressStyleModel",
          "model_module_version": "1.5.0",
          "state": {
            "_model_module": "@jupyter-widgets/controls",
            "_model_module_version": "1.5.0",
            "_model_name": "ProgressStyleModel",
            "_view_count": null,
            "_view_module": "@jupyter-widgets/base",
            "_view_module_version": "1.2.0",
            "_view_name": "StyleView",
            "bar_color": null,
            "description_width": ""
          }
        },
        "c289c7579bf249e09f023842b10a65cc": {
          "model_module": "@jupyter-widgets/base",
          "model_name": "LayoutModel",
          "model_module_version": "1.2.0",
          "state": {
            "_model_module": "@jupyter-widgets/base",
            "_model_module_version": "1.2.0",
            "_model_name": "LayoutModel",
            "_view_count": null,
            "_view_module": "@jupyter-widgets/base",
            "_view_module_version": "1.2.0",
            "_view_name": "LayoutView",
            "align_content": null,
            "align_items": null,
            "align_self": null,
            "border": null,
            "bottom": null,
            "display": null,
            "flex": null,
            "flex_flow": null,
            "grid_area": null,
            "grid_auto_columns": null,
            "grid_auto_flow": null,
            "grid_auto_rows": null,
            "grid_column": null,
            "grid_gap": null,
            "grid_row": null,
            "grid_template_areas": null,
            "grid_template_columns": null,
            "grid_template_rows": null,
            "height": null,
            "justify_content": null,
            "justify_items": null,
            "left": null,
            "margin": null,
            "max_height": null,
            "max_width": null,
            "min_height": null,
            "min_width": null,
            "object_fit": null,
            "object_position": null,
            "order": null,
            "overflow": null,
            "overflow_x": null,
            "overflow_y": null,
            "padding": null,
            "right": null,
            "top": null,
            "visibility": null,
            "width": null
          }
        },
        "36ee081b3ff944b18f8c23cc1e0f42a2": {
          "model_module": "@jupyter-widgets/controls",
          "model_name": "DescriptionStyleModel",
          "model_module_version": "1.5.0",
          "state": {
            "_model_module": "@jupyter-widgets/controls",
            "_model_module_version": "1.5.0",
            "_model_name": "DescriptionStyleModel",
            "_view_count": null,
            "_view_module": "@jupyter-widgets/base",
            "_view_module_version": "1.2.0",
            "_view_name": "StyleView",
            "description_width": ""
          }
        },
        "aedc96c1cc9041d3883f87e978de2c0b": {
          "model_module": "@jupyter-widgets/controls",
          "model_name": "HBoxModel",
          "model_module_version": "1.5.0",
          "state": {
            "_dom_classes": [],
            "_model_module": "@jupyter-widgets/controls",
            "_model_module_version": "1.5.0",
            "_model_name": "HBoxModel",
            "_view_count": null,
            "_view_module": "@jupyter-widgets/controls",
            "_view_module_version": "1.5.0",
            "_view_name": "HBoxView",
            "box_style": "",
            "children": [
              "IPY_MODEL_be3a32fb06754524ab2fec36fd3ad369",
              "IPY_MODEL_39304e84fafb45c8ad412c72e7bf22a4",
              "IPY_MODEL_958899191028428dad330b2c5cfb9cc6"
            ],
            "layout": "IPY_MODEL_e7970ba5e375452c8c7743dc273c2800"
          }
        },
        "be3a32fb06754524ab2fec36fd3ad369": {
          "model_module": "@jupyter-widgets/controls",
          "model_name": "HTMLModel",
          "model_module_version": "1.5.0",
          "state": {
            "_dom_classes": [],
            "_model_module": "@jupyter-widgets/controls",
            "_model_module_version": "1.5.0",
            "_model_name": "HTMLModel",
            "_view_count": null,
            "_view_module": "@jupyter-widgets/controls",
            "_view_module_version": "1.5.0",
            "_view_name": "HTMLView",
            "description": "",
            "description_tooltip": null,
            "layout": "IPY_MODEL_65844994a26346e9bfcd64532758639d",
            "placeholder": "​",
            "style": "IPY_MODEL_580c6af1ef384840b32e38176c374b03",
            "value": "100%"
          }
        },
        "39304e84fafb45c8ad412c72e7bf22a4": {
          "model_module": "@jupyter-widgets/controls",
          "model_name": "FloatProgressModel",
          "model_module_version": "1.5.0",
          "state": {
            "_dom_classes": [],
            "_model_module": "@jupyter-widgets/controls",
            "_model_module_version": "1.5.0",
            "_model_name": "FloatProgressModel",
            "_view_count": null,
            "_view_module": "@jupyter-widgets/controls",
            "_view_module_version": "1.5.0",
            "_view_name": "ProgressView",
            "bar_style": "success",
            "description": "",
            "description_tooltip": null,
            "layout": "IPY_MODEL_56d61b6a72f447b6b287884db11b8c57",
            "max": 100,
            "min": 0,
            "orientation": "horizontal",
            "style": "IPY_MODEL_50e33af327a14ba9bebc8c614dee0476",
            "value": 100
          }
        },
        "958899191028428dad330b2c5cfb9cc6": {
          "model_module": "@jupyter-widgets/controls",
          "model_name": "HTMLModel",
          "model_module_version": "1.5.0",
          "state": {
            "_dom_classes": [],
            "_model_module": "@jupyter-widgets/controls",
            "_model_module_version": "1.5.0",
            "_model_name": "HTMLModel",
            "_view_count": null,
            "_view_module": "@jupyter-widgets/controls",
            "_view_module_version": "1.5.0",
            "_view_name": "HTMLView",
            "description": "",
            "description_tooltip": null,
            "layout": "IPY_MODEL_651ca9f29ed048629eaf4049b56eab59",
            "placeholder": "​",
            "style": "IPY_MODEL_a053c2ffb5c74bbb81f7e690e21af351",
            "value": " 100/100 [01:11&lt;00:00,  1.36it/s]"
          }
        },
        "e7970ba5e375452c8c7743dc273c2800": {
          "model_module": "@jupyter-widgets/base",
          "model_name": "LayoutModel",
          "model_module_version": "1.2.0",
          "state": {
            "_model_module": "@jupyter-widgets/base",
            "_model_module_version": "1.2.0",
            "_model_name": "LayoutModel",
            "_view_count": null,
            "_view_module": "@jupyter-widgets/base",
            "_view_module_version": "1.2.0",
            "_view_name": "LayoutView",
            "align_content": null,
            "align_items": null,
            "align_self": null,
            "border": null,
            "bottom": null,
            "display": null,
            "flex": null,
            "flex_flow": null,
            "grid_area": null,
            "grid_auto_columns": null,
            "grid_auto_flow": null,
            "grid_auto_rows": null,
            "grid_column": null,
            "grid_gap": null,
            "grid_row": null,
            "grid_template_areas": null,
            "grid_template_columns": null,
            "grid_template_rows": null,
            "height": null,
            "justify_content": null,
            "justify_items": null,
            "left": null,
            "margin": null,
            "max_height": null,
            "max_width": null,
            "min_height": null,
            "min_width": null,
            "object_fit": null,
            "object_position": null,
            "order": null,
            "overflow": null,
            "overflow_x": null,
            "overflow_y": null,
            "padding": null,
            "right": null,
            "top": null,
            "visibility": null,
            "width": null
          }
        },
        "65844994a26346e9bfcd64532758639d": {
          "model_module": "@jupyter-widgets/base",
          "model_name": "LayoutModel",
          "model_module_version": "1.2.0",
          "state": {
            "_model_module": "@jupyter-widgets/base",
            "_model_module_version": "1.2.0",
            "_model_name": "LayoutModel",
            "_view_count": null,
            "_view_module": "@jupyter-widgets/base",
            "_view_module_version": "1.2.0",
            "_view_name": "LayoutView",
            "align_content": null,
            "align_items": null,
            "align_self": null,
            "border": null,
            "bottom": null,
            "display": null,
            "flex": null,
            "flex_flow": null,
            "grid_area": null,
            "grid_auto_columns": null,
            "grid_auto_flow": null,
            "grid_auto_rows": null,
            "grid_column": null,
            "grid_gap": null,
            "grid_row": null,
            "grid_template_areas": null,
            "grid_template_columns": null,
            "grid_template_rows": null,
            "height": null,
            "justify_content": null,
            "justify_items": null,
            "left": null,
            "margin": null,
            "max_height": null,
            "max_width": null,
            "min_height": null,
            "min_width": null,
            "object_fit": null,
            "object_position": null,
            "order": null,
            "overflow": null,
            "overflow_x": null,
            "overflow_y": null,
            "padding": null,
            "right": null,
            "top": null,
            "visibility": null,
            "width": null
          }
        },
        "580c6af1ef384840b32e38176c374b03": {
          "model_module": "@jupyter-widgets/controls",
          "model_name": "DescriptionStyleModel",
          "model_module_version": "1.5.0",
          "state": {
            "_model_module": "@jupyter-widgets/controls",
            "_model_module_version": "1.5.0",
            "_model_name": "DescriptionStyleModel",
            "_view_count": null,
            "_view_module": "@jupyter-widgets/base",
            "_view_module_version": "1.2.0",
            "_view_name": "StyleView",
            "description_width": ""
          }
        },
        "56d61b6a72f447b6b287884db11b8c57": {
          "model_module": "@jupyter-widgets/base",
          "model_name": "LayoutModel",
          "model_module_version": "1.2.0",
          "state": {
            "_model_module": "@jupyter-widgets/base",
            "_model_module_version": "1.2.0",
            "_model_name": "LayoutModel",
            "_view_count": null,
            "_view_module": "@jupyter-widgets/base",
            "_view_module_version": "1.2.0",
            "_view_name": "LayoutView",
            "align_content": null,
            "align_items": null,
            "align_self": null,
            "border": null,
            "bottom": null,
            "display": null,
            "flex": null,
            "flex_flow": null,
            "grid_area": null,
            "grid_auto_columns": null,
            "grid_auto_flow": null,
            "grid_auto_rows": null,
            "grid_column": null,
            "grid_gap": null,
            "grid_row": null,
            "grid_template_areas": null,
            "grid_template_columns": null,
            "grid_template_rows": null,
            "height": null,
            "justify_content": null,
            "justify_items": null,
            "left": null,
            "margin": null,
            "max_height": null,
            "max_width": null,
            "min_height": null,
            "min_width": null,
            "object_fit": null,
            "object_position": null,
            "order": null,
            "overflow": null,
            "overflow_x": null,
            "overflow_y": null,
            "padding": null,
            "right": null,
            "top": null,
            "visibility": null,
            "width": null
          }
        },
        "50e33af327a14ba9bebc8c614dee0476": {
          "model_module": "@jupyter-widgets/controls",
          "model_name": "ProgressStyleModel",
          "model_module_version": "1.5.0",
          "state": {
            "_model_module": "@jupyter-widgets/controls",
            "_model_module_version": "1.5.0",
            "_model_name": "ProgressStyleModel",
            "_view_count": null,
            "_view_module": "@jupyter-widgets/base",
            "_view_module_version": "1.2.0",
            "_view_name": "StyleView",
            "bar_color": null,
            "description_width": ""
          }
        },
        "651ca9f29ed048629eaf4049b56eab59": {
          "model_module": "@jupyter-widgets/base",
          "model_name": "LayoutModel",
          "model_module_version": "1.2.0",
          "state": {
            "_model_module": "@jupyter-widgets/base",
            "_model_module_version": "1.2.0",
            "_model_name": "LayoutModel",
            "_view_count": null,
            "_view_module": "@jupyter-widgets/base",
            "_view_module_version": "1.2.0",
            "_view_name": "LayoutView",
            "align_content": null,
            "align_items": null,
            "align_self": null,
            "border": null,
            "bottom": null,
            "display": null,
            "flex": null,
            "flex_flow": null,
            "grid_area": null,
            "grid_auto_columns": null,
            "grid_auto_flow": null,
            "grid_auto_rows": null,
            "grid_column": null,
            "grid_gap": null,
            "grid_row": null,
            "grid_template_areas": null,
            "grid_template_columns": null,
            "grid_template_rows": null,
            "height": null,
            "justify_content": null,
            "justify_items": null,
            "left": null,
            "margin": null,
            "max_height": null,
            "max_width": null,
            "min_height": null,
            "min_width": null,
            "object_fit": null,
            "object_position": null,
            "order": null,
            "overflow": null,
            "overflow_x": null,
            "overflow_y": null,
            "padding": null,
            "right": null,
            "top": null,
            "visibility": null,
            "width": null
          }
        },
        "a053c2ffb5c74bbb81f7e690e21af351": {
          "model_module": "@jupyter-widgets/controls",
          "model_name": "DescriptionStyleModel",
          "model_module_version": "1.5.0",
          "state": {
            "_model_module": "@jupyter-widgets/controls",
            "_model_module_version": "1.5.0",
            "_model_name": "DescriptionStyleModel",
            "_view_count": null,
            "_view_module": "@jupyter-widgets/base",
            "_view_module_version": "1.2.0",
            "_view_name": "StyleView",
            "description_width": ""
          }
        },
        "75441b3433d0472ead21c9cab1791e12": {
          "model_module": "@jupyter-widgets/controls",
          "model_name": "HBoxModel",
          "model_module_version": "1.5.0",
          "state": {
            "_dom_classes": [],
            "_model_module": "@jupyter-widgets/controls",
            "_model_module_version": "1.5.0",
            "_model_name": "HBoxModel",
            "_view_count": null,
            "_view_module": "@jupyter-widgets/controls",
            "_view_module_version": "1.5.0",
            "_view_name": "HBoxView",
            "box_style": "",
            "children": [
              "IPY_MODEL_3b14df803b464e4197f5a73491722018",
              "IPY_MODEL_7c7c7b45f31c4021aaf1ba76f91b5b74",
              "IPY_MODEL_106779ace68e49e6922317789eb6bb50"
            ],
            "layout": "IPY_MODEL_ec5f525600d24cf2b7785920eef66040"
          }
        },
        "3b14df803b464e4197f5a73491722018": {
          "model_module": "@jupyter-widgets/controls",
          "model_name": "HTMLModel",
          "model_module_version": "1.5.0",
          "state": {
            "_dom_classes": [],
            "_model_module": "@jupyter-widgets/controls",
            "_model_module_version": "1.5.0",
            "_model_name": "HTMLModel",
            "_view_count": null,
            "_view_module": "@jupyter-widgets/controls",
            "_view_module_version": "1.5.0",
            "_view_name": "HTMLView",
            "description": "",
            "description_tooltip": null,
            "layout": "IPY_MODEL_7469856adb64455085fb4586a1d0f44c",
            "placeholder": "​",
            "style": "IPY_MODEL_779a8e8f1d9748899453d77c4cb5ec2c",
            "value": "100%"
          }
        },
        "7c7c7b45f31c4021aaf1ba76f91b5b74": {
          "model_module": "@jupyter-widgets/controls",
          "model_name": "FloatProgressModel",
          "model_module_version": "1.5.0",
          "state": {
            "_dom_classes": [],
            "_model_module": "@jupyter-widgets/controls",
            "_model_module_version": "1.5.0",
            "_model_name": "FloatProgressModel",
            "_view_count": null,
            "_view_module": "@jupyter-widgets/controls",
            "_view_module_version": "1.5.0",
            "_view_name": "ProgressView",
            "bar_style": "success",
            "description": "",
            "description_tooltip": null,
            "layout": "IPY_MODEL_94255b7934e145aa912529f060bd9827",
            "max": 1000,
            "min": 0,
            "orientation": "horizontal",
            "style": "IPY_MODEL_2e87e09266774f44b0c0eee19cb392ab",
            "value": 1000
          }
        },
        "106779ace68e49e6922317789eb6bb50": {
          "model_module": "@jupyter-widgets/controls",
          "model_name": "HTMLModel",
          "model_module_version": "1.5.0",
          "state": {
            "_dom_classes": [],
            "_model_module": "@jupyter-widgets/controls",
            "_model_module_version": "1.5.0",
            "_model_name": "HTMLModel",
            "_view_count": null,
            "_view_module": "@jupyter-widgets/controls",
            "_view_module_version": "1.5.0",
            "_view_name": "HTMLView",
            "description": "",
            "description_tooltip": null,
            "layout": "IPY_MODEL_ef2088da34ca47ab82ff25781ead4547",
            "placeholder": "​",
            "style": "IPY_MODEL_d4ef532e61a14bd981aa61f626505a0c",
            "value": " 1000/1000 [11:41&lt;00:00,  1.15it/s]"
          }
        },
        "ec5f525600d24cf2b7785920eef66040": {
          "model_module": "@jupyter-widgets/base",
          "model_name": "LayoutModel",
          "model_module_version": "1.2.0",
          "state": {
            "_model_module": "@jupyter-widgets/base",
            "_model_module_version": "1.2.0",
            "_model_name": "LayoutModel",
            "_view_count": null,
            "_view_module": "@jupyter-widgets/base",
            "_view_module_version": "1.2.0",
            "_view_name": "LayoutView",
            "align_content": null,
            "align_items": null,
            "align_self": null,
            "border": null,
            "bottom": null,
            "display": null,
            "flex": null,
            "flex_flow": null,
            "grid_area": null,
            "grid_auto_columns": null,
            "grid_auto_flow": null,
            "grid_auto_rows": null,
            "grid_column": null,
            "grid_gap": null,
            "grid_row": null,
            "grid_template_areas": null,
            "grid_template_columns": null,
            "grid_template_rows": null,
            "height": null,
            "justify_content": null,
            "justify_items": null,
            "left": null,
            "margin": null,
            "max_height": null,
            "max_width": null,
            "min_height": null,
            "min_width": null,
            "object_fit": null,
            "object_position": null,
            "order": null,
            "overflow": null,
            "overflow_x": null,
            "overflow_y": null,
            "padding": null,
            "right": null,
            "top": null,
            "visibility": null,
            "width": null
          }
        },
        "7469856adb64455085fb4586a1d0f44c": {
          "model_module": "@jupyter-widgets/base",
          "model_name": "LayoutModel",
          "model_module_version": "1.2.0",
          "state": {
            "_model_module": "@jupyter-widgets/base",
            "_model_module_version": "1.2.0",
            "_model_name": "LayoutModel",
            "_view_count": null,
            "_view_module": "@jupyter-widgets/base",
            "_view_module_version": "1.2.0",
            "_view_name": "LayoutView",
            "align_content": null,
            "align_items": null,
            "align_self": null,
            "border": null,
            "bottom": null,
            "display": null,
            "flex": null,
            "flex_flow": null,
            "grid_area": null,
            "grid_auto_columns": null,
            "grid_auto_flow": null,
            "grid_auto_rows": null,
            "grid_column": null,
            "grid_gap": null,
            "grid_row": null,
            "grid_template_areas": null,
            "grid_template_columns": null,
            "grid_template_rows": null,
            "height": null,
            "justify_content": null,
            "justify_items": null,
            "left": null,
            "margin": null,
            "max_height": null,
            "max_width": null,
            "min_height": null,
            "min_width": null,
            "object_fit": null,
            "object_position": null,
            "order": null,
            "overflow": null,
            "overflow_x": null,
            "overflow_y": null,
            "padding": null,
            "right": null,
            "top": null,
            "visibility": null,
            "width": null
          }
        },
        "779a8e8f1d9748899453d77c4cb5ec2c": {
          "model_module": "@jupyter-widgets/controls",
          "model_name": "DescriptionStyleModel",
          "model_module_version": "1.5.0",
          "state": {
            "_model_module": "@jupyter-widgets/controls",
            "_model_module_version": "1.5.0",
            "_model_name": "DescriptionStyleModel",
            "_view_count": null,
            "_view_module": "@jupyter-widgets/base",
            "_view_module_version": "1.2.0",
            "_view_name": "StyleView",
            "description_width": ""
          }
        },
        "94255b7934e145aa912529f060bd9827": {
          "model_module": "@jupyter-widgets/base",
          "model_name": "LayoutModel",
          "model_module_version": "1.2.0",
          "state": {
            "_model_module": "@jupyter-widgets/base",
            "_model_module_version": "1.2.0",
            "_model_name": "LayoutModel",
            "_view_count": null,
            "_view_module": "@jupyter-widgets/base",
            "_view_module_version": "1.2.0",
            "_view_name": "LayoutView",
            "align_content": null,
            "align_items": null,
            "align_self": null,
            "border": null,
            "bottom": null,
            "display": null,
            "flex": null,
            "flex_flow": null,
            "grid_area": null,
            "grid_auto_columns": null,
            "grid_auto_flow": null,
            "grid_auto_rows": null,
            "grid_column": null,
            "grid_gap": null,
            "grid_row": null,
            "grid_template_areas": null,
            "grid_template_columns": null,
            "grid_template_rows": null,
            "height": null,
            "justify_content": null,
            "justify_items": null,
            "left": null,
            "margin": null,
            "max_height": null,
            "max_width": null,
            "min_height": null,
            "min_width": null,
            "object_fit": null,
            "object_position": null,
            "order": null,
            "overflow": null,
            "overflow_x": null,
            "overflow_y": null,
            "padding": null,
            "right": null,
            "top": null,
            "visibility": null,
            "width": null
          }
        },
        "2e87e09266774f44b0c0eee19cb392ab": {
          "model_module": "@jupyter-widgets/controls",
          "model_name": "ProgressStyleModel",
          "model_module_version": "1.5.0",
          "state": {
            "_model_module": "@jupyter-widgets/controls",
            "_model_module_version": "1.5.0",
            "_model_name": "ProgressStyleModel",
            "_view_count": null,
            "_view_module": "@jupyter-widgets/base",
            "_view_module_version": "1.2.0",
            "_view_name": "StyleView",
            "bar_color": null,
            "description_width": ""
          }
        },
        "ef2088da34ca47ab82ff25781ead4547": {
          "model_module": "@jupyter-widgets/base",
          "model_name": "LayoutModel",
          "model_module_version": "1.2.0",
          "state": {
            "_model_module": "@jupyter-widgets/base",
            "_model_module_version": "1.2.0",
            "_model_name": "LayoutModel",
            "_view_count": null,
            "_view_module": "@jupyter-widgets/base",
            "_view_module_version": "1.2.0",
            "_view_name": "LayoutView",
            "align_content": null,
            "align_items": null,
            "align_self": null,
            "border": null,
            "bottom": null,
            "display": null,
            "flex": null,
            "flex_flow": null,
            "grid_area": null,
            "grid_auto_columns": null,
            "grid_auto_flow": null,
            "grid_auto_rows": null,
            "grid_column": null,
            "grid_gap": null,
            "grid_row": null,
            "grid_template_areas": null,
            "grid_template_columns": null,
            "grid_template_rows": null,
            "height": null,
            "justify_content": null,
            "justify_items": null,
            "left": null,
            "margin": null,
            "max_height": null,
            "max_width": null,
            "min_height": null,
            "min_width": null,
            "object_fit": null,
            "object_position": null,
            "order": null,
            "overflow": null,
            "overflow_x": null,
            "overflow_y": null,
            "padding": null,
            "right": null,
            "top": null,
            "visibility": null,
            "width": null
          }
        },
        "d4ef532e61a14bd981aa61f626505a0c": {
          "model_module": "@jupyter-widgets/controls",
          "model_name": "DescriptionStyleModel",
          "model_module_version": "1.5.0",
          "state": {
            "_model_module": "@jupyter-widgets/controls",
            "_model_module_version": "1.5.0",
            "_model_name": "DescriptionStyleModel",
            "_view_count": null,
            "_view_module": "@jupyter-widgets/base",
            "_view_module_version": "1.2.0",
            "_view_name": "StyleView",
            "description_width": ""
          }
        },
        "403fe25f499048618f0a973dc348e370": {
          "model_module": "@jupyter-widgets/controls",
          "model_name": "HBoxModel",
          "model_module_version": "1.5.0",
          "state": {
            "_dom_classes": [],
            "_model_module": "@jupyter-widgets/controls",
            "_model_module_version": "1.5.0",
            "_model_name": "HBoxModel",
            "_view_count": null,
            "_view_module": "@jupyter-widgets/controls",
            "_view_module_version": "1.5.0",
            "_view_name": "HBoxView",
            "box_style": "",
            "children": [
              "IPY_MODEL_13c554899e4f48819e062f52afc16948",
              "IPY_MODEL_484a312a38f249f28ac1e604a2fc3473",
              "IPY_MODEL_05c01b56c5e34fa88afcae2c108ed1c7"
            ],
            "layout": "IPY_MODEL_9e69206675784d32bebd2ef8c2803925"
          }
        },
        "13c554899e4f48819e062f52afc16948": {
          "model_module": "@jupyter-widgets/controls",
          "model_name": "HTMLModel",
          "model_module_version": "1.5.0",
          "state": {
            "_dom_classes": [],
            "_model_module": "@jupyter-widgets/controls",
            "_model_module_version": "1.5.0",
            "_model_name": "HTMLModel",
            "_view_count": null,
            "_view_module": "@jupyter-widgets/controls",
            "_view_module_version": "1.5.0",
            "_view_name": "HTMLView",
            "description": "",
            "description_tooltip": null,
            "layout": "IPY_MODEL_08b53b4a5b22448787d195b2f6df1d3f",
            "placeholder": "​",
            "style": "IPY_MODEL_24aab8be280643fa9f24dd6ab18ed886",
            "value": "100%"
          }
        },
        "484a312a38f249f28ac1e604a2fc3473": {
          "model_module": "@jupyter-widgets/controls",
          "model_name": "FloatProgressModel",
          "model_module_version": "1.5.0",
          "state": {
            "_dom_classes": [],
            "_model_module": "@jupyter-widgets/controls",
            "_model_module_version": "1.5.0",
            "_model_name": "FloatProgressModel",
            "_view_count": null,
            "_view_module": "@jupyter-widgets/controls",
            "_view_module_version": "1.5.0",
            "_view_name": "ProgressView",
            "bar_style": "success",
            "description": "",
            "description_tooltip": null,
            "layout": "IPY_MODEL_ea14db8157e34dada4cef0f054638f48",
            "max": 100,
            "min": 0,
            "orientation": "horizontal",
            "style": "IPY_MODEL_b85e0be36fdc41e08bd7124567d1fc6b",
            "value": 100
          }
        },
        "05c01b56c5e34fa88afcae2c108ed1c7": {
          "model_module": "@jupyter-widgets/controls",
          "model_name": "HTMLModel",
          "model_module_version": "1.5.0",
          "state": {
            "_dom_classes": [],
            "_model_module": "@jupyter-widgets/controls",
            "_model_module_version": "1.5.0",
            "_model_name": "HTMLModel",
            "_view_count": null,
            "_view_module": "@jupyter-widgets/controls",
            "_view_module_version": "1.5.0",
            "_view_name": "HTMLView",
            "description": "",
            "description_tooltip": null,
            "layout": "IPY_MODEL_e04379f28c1043599b2dd2770924352f",
            "placeholder": "​",
            "style": "IPY_MODEL_fb87c01e98a741f6b6fae6bc5c2913c3",
            "value": " 100/100 [01:14&lt;00:00,  1.48it/s]"
          }
        },
        "9e69206675784d32bebd2ef8c2803925": {
          "model_module": "@jupyter-widgets/base",
          "model_name": "LayoutModel",
          "model_module_version": "1.2.0",
          "state": {
            "_model_module": "@jupyter-widgets/base",
            "_model_module_version": "1.2.0",
            "_model_name": "LayoutModel",
            "_view_count": null,
            "_view_module": "@jupyter-widgets/base",
            "_view_module_version": "1.2.0",
            "_view_name": "LayoutView",
            "align_content": null,
            "align_items": null,
            "align_self": null,
            "border": null,
            "bottom": null,
            "display": null,
            "flex": null,
            "flex_flow": null,
            "grid_area": null,
            "grid_auto_columns": null,
            "grid_auto_flow": null,
            "grid_auto_rows": null,
            "grid_column": null,
            "grid_gap": null,
            "grid_row": null,
            "grid_template_areas": null,
            "grid_template_columns": null,
            "grid_template_rows": null,
            "height": null,
            "justify_content": null,
            "justify_items": null,
            "left": null,
            "margin": null,
            "max_height": null,
            "max_width": null,
            "min_height": null,
            "min_width": null,
            "object_fit": null,
            "object_position": null,
            "order": null,
            "overflow": null,
            "overflow_x": null,
            "overflow_y": null,
            "padding": null,
            "right": null,
            "top": null,
            "visibility": null,
            "width": null
          }
        },
        "08b53b4a5b22448787d195b2f6df1d3f": {
          "model_module": "@jupyter-widgets/base",
          "model_name": "LayoutModel",
          "model_module_version": "1.2.0",
          "state": {
            "_model_module": "@jupyter-widgets/base",
            "_model_module_version": "1.2.0",
            "_model_name": "LayoutModel",
            "_view_count": null,
            "_view_module": "@jupyter-widgets/base",
            "_view_module_version": "1.2.0",
            "_view_name": "LayoutView",
            "align_content": null,
            "align_items": null,
            "align_self": null,
            "border": null,
            "bottom": null,
            "display": null,
            "flex": null,
            "flex_flow": null,
            "grid_area": null,
            "grid_auto_columns": null,
            "grid_auto_flow": null,
            "grid_auto_rows": null,
            "grid_column": null,
            "grid_gap": null,
            "grid_row": null,
            "grid_template_areas": null,
            "grid_template_columns": null,
            "grid_template_rows": null,
            "height": null,
            "justify_content": null,
            "justify_items": null,
            "left": null,
            "margin": null,
            "max_height": null,
            "max_width": null,
            "min_height": null,
            "min_width": null,
            "object_fit": null,
            "object_position": null,
            "order": null,
            "overflow": null,
            "overflow_x": null,
            "overflow_y": null,
            "padding": null,
            "right": null,
            "top": null,
            "visibility": null,
            "width": null
          }
        },
        "24aab8be280643fa9f24dd6ab18ed886": {
          "model_module": "@jupyter-widgets/controls",
          "model_name": "DescriptionStyleModel",
          "model_module_version": "1.5.0",
          "state": {
            "_model_module": "@jupyter-widgets/controls",
            "_model_module_version": "1.5.0",
            "_model_name": "DescriptionStyleModel",
            "_view_count": null,
            "_view_module": "@jupyter-widgets/base",
            "_view_module_version": "1.2.0",
            "_view_name": "StyleView",
            "description_width": ""
          }
        },
        "ea14db8157e34dada4cef0f054638f48": {
          "model_module": "@jupyter-widgets/base",
          "model_name": "LayoutModel",
          "model_module_version": "1.2.0",
          "state": {
            "_model_module": "@jupyter-widgets/base",
            "_model_module_version": "1.2.0",
            "_model_name": "LayoutModel",
            "_view_count": null,
            "_view_module": "@jupyter-widgets/base",
            "_view_module_version": "1.2.0",
            "_view_name": "LayoutView",
            "align_content": null,
            "align_items": null,
            "align_self": null,
            "border": null,
            "bottom": null,
            "display": null,
            "flex": null,
            "flex_flow": null,
            "grid_area": null,
            "grid_auto_columns": null,
            "grid_auto_flow": null,
            "grid_auto_rows": null,
            "grid_column": null,
            "grid_gap": null,
            "grid_row": null,
            "grid_template_areas": null,
            "grid_template_columns": null,
            "grid_template_rows": null,
            "height": null,
            "justify_content": null,
            "justify_items": null,
            "left": null,
            "margin": null,
            "max_height": null,
            "max_width": null,
            "min_height": null,
            "min_width": null,
            "object_fit": null,
            "object_position": null,
            "order": null,
            "overflow": null,
            "overflow_x": null,
            "overflow_y": null,
            "padding": null,
            "right": null,
            "top": null,
            "visibility": null,
            "width": null
          }
        },
        "b85e0be36fdc41e08bd7124567d1fc6b": {
          "model_module": "@jupyter-widgets/controls",
          "model_name": "ProgressStyleModel",
          "model_module_version": "1.5.0",
          "state": {
            "_model_module": "@jupyter-widgets/controls",
            "_model_module_version": "1.5.0",
            "_model_name": "ProgressStyleModel",
            "_view_count": null,
            "_view_module": "@jupyter-widgets/base",
            "_view_module_version": "1.2.0",
            "_view_name": "StyleView",
            "bar_color": null,
            "description_width": ""
          }
        },
        "e04379f28c1043599b2dd2770924352f": {
          "model_module": "@jupyter-widgets/base",
          "model_name": "LayoutModel",
          "model_module_version": "1.2.0",
          "state": {
            "_model_module": "@jupyter-widgets/base",
            "_model_module_version": "1.2.0",
            "_model_name": "LayoutModel",
            "_view_count": null,
            "_view_module": "@jupyter-widgets/base",
            "_view_module_version": "1.2.0",
            "_view_name": "LayoutView",
            "align_content": null,
            "align_items": null,
            "align_self": null,
            "border": null,
            "bottom": null,
            "display": null,
            "flex": null,
            "flex_flow": null,
            "grid_area": null,
            "grid_auto_columns": null,
            "grid_auto_flow": null,
            "grid_auto_rows": null,
            "grid_column": null,
            "grid_gap": null,
            "grid_row": null,
            "grid_template_areas": null,
            "grid_template_columns": null,
            "grid_template_rows": null,
            "height": null,
            "justify_content": null,
            "justify_items": null,
            "left": null,
            "margin": null,
            "max_height": null,
            "max_width": null,
            "min_height": null,
            "min_width": null,
            "object_fit": null,
            "object_position": null,
            "order": null,
            "overflow": null,
            "overflow_x": null,
            "overflow_y": null,
            "padding": null,
            "right": null,
            "top": null,
            "visibility": null,
            "width": null
          }
        },
        "fb87c01e98a741f6b6fae6bc5c2913c3": {
          "model_module": "@jupyter-widgets/controls",
          "model_name": "DescriptionStyleModel",
          "model_module_version": "1.5.0",
          "state": {
            "_model_module": "@jupyter-widgets/controls",
            "_model_module_version": "1.5.0",
            "_model_name": "DescriptionStyleModel",
            "_view_count": null,
            "_view_module": "@jupyter-widgets/base",
            "_view_module_version": "1.2.0",
            "_view_name": "StyleView",
            "description_width": ""
          }
        },
        "71efa3aef62e434a880043d7189fdf6e": {
          "model_module": "@jupyter-widgets/controls",
          "model_name": "HBoxModel",
          "model_module_version": "1.5.0",
          "state": {
            "_dom_classes": [],
            "_model_module": "@jupyter-widgets/controls",
            "_model_module_version": "1.5.0",
            "_model_name": "HBoxModel",
            "_view_count": null,
            "_view_module": "@jupyter-widgets/controls",
            "_view_module_version": "1.5.0",
            "_view_name": "HBoxView",
            "box_style": "",
            "children": [
              "IPY_MODEL_3a1be530e79147ea93a53f4194c17d42",
              "IPY_MODEL_bb9c8cea8e2b41249857531bcc094aa5",
              "IPY_MODEL_854420d9dd4d450ebae09ae880b0c7e3"
            ],
            "layout": "IPY_MODEL_3b60ce379bf74bc18384b8baf7af0229"
          }
        },
        "3a1be530e79147ea93a53f4194c17d42": {
          "model_module": "@jupyter-widgets/controls",
          "model_name": "HTMLModel",
          "model_module_version": "1.5.0",
          "state": {
            "_dom_classes": [],
            "_model_module": "@jupyter-widgets/controls",
            "_model_module_version": "1.5.0",
            "_model_name": "HTMLModel",
            "_view_count": null,
            "_view_module": "@jupyter-widgets/controls",
            "_view_module_version": "1.5.0",
            "_view_name": "HTMLView",
            "description": "",
            "description_tooltip": null,
            "layout": "IPY_MODEL_3761c5e03b674a079bae359a1d081f53",
            "placeholder": "​",
            "style": "IPY_MODEL_e0bc7635824b4b718ffefc0f4b16faaf",
            "value": "100%"
          }
        },
        "bb9c8cea8e2b41249857531bcc094aa5": {
          "model_module": "@jupyter-widgets/controls",
          "model_name": "FloatProgressModel",
          "model_module_version": "1.5.0",
          "state": {
            "_dom_classes": [],
            "_model_module": "@jupyter-widgets/controls",
            "_model_module_version": "1.5.0",
            "_model_name": "FloatProgressModel",
            "_view_count": null,
            "_view_module": "@jupyter-widgets/controls",
            "_view_module_version": "1.5.0",
            "_view_name": "ProgressView",
            "bar_style": "success",
            "description": "",
            "description_tooltip": null,
            "layout": "IPY_MODEL_be042eb4104a492896270bc7a3f89d2b",
            "max": 100,
            "min": 0,
            "orientation": "horizontal",
            "style": "IPY_MODEL_2a8959afc9e54f759425b4d3374b7625",
            "value": 100
          }
        },
        "854420d9dd4d450ebae09ae880b0c7e3": {
          "model_module": "@jupyter-widgets/controls",
          "model_name": "HTMLModel",
          "model_module_version": "1.5.0",
          "state": {
            "_dom_classes": [],
            "_model_module": "@jupyter-widgets/controls",
            "_model_module_version": "1.5.0",
            "_model_name": "HTMLModel",
            "_view_count": null,
            "_view_module": "@jupyter-widgets/controls",
            "_view_module_version": "1.5.0",
            "_view_name": "HTMLView",
            "description": "",
            "description_tooltip": null,
            "layout": "IPY_MODEL_f15992d225224efd8d798a633d832303",
            "placeholder": "​",
            "style": "IPY_MODEL_fa0c20add6594e50a156c628f3087271",
            "value": " 100/100 [01:24&lt;00:00,  1.28it/s]"
          }
        },
        "3b60ce379bf74bc18384b8baf7af0229": {
          "model_module": "@jupyter-widgets/base",
          "model_name": "LayoutModel",
          "model_module_version": "1.2.0",
          "state": {
            "_model_module": "@jupyter-widgets/base",
            "_model_module_version": "1.2.0",
            "_model_name": "LayoutModel",
            "_view_count": null,
            "_view_module": "@jupyter-widgets/base",
            "_view_module_version": "1.2.0",
            "_view_name": "LayoutView",
            "align_content": null,
            "align_items": null,
            "align_self": null,
            "border": null,
            "bottom": null,
            "display": null,
            "flex": null,
            "flex_flow": null,
            "grid_area": null,
            "grid_auto_columns": null,
            "grid_auto_flow": null,
            "grid_auto_rows": null,
            "grid_column": null,
            "grid_gap": null,
            "grid_row": null,
            "grid_template_areas": null,
            "grid_template_columns": null,
            "grid_template_rows": null,
            "height": null,
            "justify_content": null,
            "justify_items": null,
            "left": null,
            "margin": null,
            "max_height": null,
            "max_width": null,
            "min_height": null,
            "min_width": null,
            "object_fit": null,
            "object_position": null,
            "order": null,
            "overflow": null,
            "overflow_x": null,
            "overflow_y": null,
            "padding": null,
            "right": null,
            "top": null,
            "visibility": null,
            "width": null
          }
        },
        "3761c5e03b674a079bae359a1d081f53": {
          "model_module": "@jupyter-widgets/base",
          "model_name": "LayoutModel",
          "model_module_version": "1.2.0",
          "state": {
            "_model_module": "@jupyter-widgets/base",
            "_model_module_version": "1.2.0",
            "_model_name": "LayoutModel",
            "_view_count": null,
            "_view_module": "@jupyter-widgets/base",
            "_view_module_version": "1.2.0",
            "_view_name": "LayoutView",
            "align_content": null,
            "align_items": null,
            "align_self": null,
            "border": null,
            "bottom": null,
            "display": null,
            "flex": null,
            "flex_flow": null,
            "grid_area": null,
            "grid_auto_columns": null,
            "grid_auto_flow": null,
            "grid_auto_rows": null,
            "grid_column": null,
            "grid_gap": null,
            "grid_row": null,
            "grid_template_areas": null,
            "grid_template_columns": null,
            "grid_template_rows": null,
            "height": null,
            "justify_content": null,
            "justify_items": null,
            "left": null,
            "margin": null,
            "max_height": null,
            "max_width": null,
            "min_height": null,
            "min_width": null,
            "object_fit": null,
            "object_position": null,
            "order": null,
            "overflow": null,
            "overflow_x": null,
            "overflow_y": null,
            "padding": null,
            "right": null,
            "top": null,
            "visibility": null,
            "width": null
          }
        },
        "e0bc7635824b4b718ffefc0f4b16faaf": {
          "model_module": "@jupyter-widgets/controls",
          "model_name": "DescriptionStyleModel",
          "model_module_version": "1.5.0",
          "state": {
            "_model_module": "@jupyter-widgets/controls",
            "_model_module_version": "1.5.0",
            "_model_name": "DescriptionStyleModel",
            "_view_count": null,
            "_view_module": "@jupyter-widgets/base",
            "_view_module_version": "1.2.0",
            "_view_name": "StyleView",
            "description_width": ""
          }
        },
        "be042eb4104a492896270bc7a3f89d2b": {
          "model_module": "@jupyter-widgets/base",
          "model_name": "LayoutModel",
          "model_module_version": "1.2.0",
          "state": {
            "_model_module": "@jupyter-widgets/base",
            "_model_module_version": "1.2.0",
            "_model_name": "LayoutModel",
            "_view_count": null,
            "_view_module": "@jupyter-widgets/base",
            "_view_module_version": "1.2.0",
            "_view_name": "LayoutView",
            "align_content": null,
            "align_items": null,
            "align_self": null,
            "border": null,
            "bottom": null,
            "display": null,
            "flex": null,
            "flex_flow": null,
            "grid_area": null,
            "grid_auto_columns": null,
            "grid_auto_flow": null,
            "grid_auto_rows": null,
            "grid_column": null,
            "grid_gap": null,
            "grid_row": null,
            "grid_template_areas": null,
            "grid_template_columns": null,
            "grid_template_rows": null,
            "height": null,
            "justify_content": null,
            "justify_items": null,
            "left": null,
            "margin": null,
            "max_height": null,
            "max_width": null,
            "min_height": null,
            "min_width": null,
            "object_fit": null,
            "object_position": null,
            "order": null,
            "overflow": null,
            "overflow_x": null,
            "overflow_y": null,
            "padding": null,
            "right": null,
            "top": null,
            "visibility": null,
            "width": null
          }
        },
        "2a8959afc9e54f759425b4d3374b7625": {
          "model_module": "@jupyter-widgets/controls",
          "model_name": "ProgressStyleModel",
          "model_module_version": "1.5.0",
          "state": {
            "_model_module": "@jupyter-widgets/controls",
            "_model_module_version": "1.5.0",
            "_model_name": "ProgressStyleModel",
            "_view_count": null,
            "_view_module": "@jupyter-widgets/base",
            "_view_module_version": "1.2.0",
            "_view_name": "StyleView",
            "bar_color": null,
            "description_width": ""
          }
        },
        "f15992d225224efd8d798a633d832303": {
          "model_module": "@jupyter-widgets/base",
          "model_name": "LayoutModel",
          "model_module_version": "1.2.0",
          "state": {
            "_model_module": "@jupyter-widgets/base",
            "_model_module_version": "1.2.0",
            "_model_name": "LayoutModel",
            "_view_count": null,
            "_view_module": "@jupyter-widgets/base",
            "_view_module_version": "1.2.0",
            "_view_name": "LayoutView",
            "align_content": null,
            "align_items": null,
            "align_self": null,
            "border": null,
            "bottom": null,
            "display": null,
            "flex": null,
            "flex_flow": null,
            "grid_area": null,
            "grid_auto_columns": null,
            "grid_auto_flow": null,
            "grid_auto_rows": null,
            "grid_column": null,
            "grid_gap": null,
            "grid_row": null,
            "grid_template_areas": null,
            "grid_template_columns": null,
            "grid_template_rows": null,
            "height": null,
            "justify_content": null,
            "justify_items": null,
            "left": null,
            "margin": null,
            "max_height": null,
            "max_width": null,
            "min_height": null,
            "min_width": null,
            "object_fit": null,
            "object_position": null,
            "order": null,
            "overflow": null,
            "overflow_x": null,
            "overflow_y": null,
            "padding": null,
            "right": null,
            "top": null,
            "visibility": null,
            "width": null
          }
        },
        "fa0c20add6594e50a156c628f3087271": {
          "model_module": "@jupyter-widgets/controls",
          "model_name": "DescriptionStyleModel",
          "model_module_version": "1.5.0",
          "state": {
            "_model_module": "@jupyter-widgets/controls",
            "_model_module_version": "1.5.0",
            "_model_name": "DescriptionStyleModel",
            "_view_count": null,
            "_view_module": "@jupyter-widgets/base",
            "_view_module_version": "1.2.0",
            "_view_name": "StyleView",
            "description_width": ""
          }
        },
        "f03e86e554dc440c9c125f6430ef7e7f": {
          "model_module": "@jupyter-widgets/controls",
          "model_name": "HBoxModel",
          "model_module_version": "1.5.0",
          "state": {
            "_dom_classes": [],
            "_model_module": "@jupyter-widgets/controls",
            "_model_module_version": "1.5.0",
            "_model_name": "HBoxModel",
            "_view_count": null,
            "_view_module": "@jupyter-widgets/controls",
            "_view_module_version": "1.5.0",
            "_view_name": "HBoxView",
            "box_style": "",
            "children": [
              "IPY_MODEL_b6aab0cbee76453e989f6887f935b35d",
              "IPY_MODEL_3112bb1c50124ddaa8fdeb3fa379b853",
              "IPY_MODEL_70b9f39a448d464abf7f5a80db888b1c"
            ],
            "layout": "IPY_MODEL_78632b8baea1449186f239e8b1b782e9"
          }
        },
        "b6aab0cbee76453e989f6887f935b35d": {
          "model_module": "@jupyter-widgets/controls",
          "model_name": "HTMLModel",
          "model_module_version": "1.5.0",
          "state": {
            "_dom_classes": [],
            "_model_module": "@jupyter-widgets/controls",
            "_model_module_version": "1.5.0",
            "_model_name": "HTMLModel",
            "_view_count": null,
            "_view_module": "@jupyter-widgets/controls",
            "_view_module_version": "1.5.0",
            "_view_name": "HTMLView",
            "description": "",
            "description_tooltip": null,
            "layout": "IPY_MODEL_056308f015184058af74676183459bd2",
            "placeholder": "​",
            "style": "IPY_MODEL_aedb57842f694832ac1b5e516308292d",
            "value": "100%"
          }
        },
        "3112bb1c50124ddaa8fdeb3fa379b853": {
          "model_module": "@jupyter-widgets/controls",
          "model_name": "FloatProgressModel",
          "model_module_version": "1.5.0",
          "state": {
            "_dom_classes": [],
            "_model_module": "@jupyter-widgets/controls",
            "_model_module_version": "1.5.0",
            "_model_name": "FloatProgressModel",
            "_view_count": null,
            "_view_module": "@jupyter-widgets/controls",
            "_view_module_version": "1.5.0",
            "_view_name": "ProgressView",
            "bar_style": "success",
            "description": "",
            "description_tooltip": null,
            "layout": "IPY_MODEL_1b3b82c92bb94ee68d16f088aa8fd22e",
            "max": 200,
            "min": 0,
            "orientation": "horizontal",
            "style": "IPY_MODEL_9ac64c23561640389cf7e4f834fec631",
            "value": 200
          }
        },
        "70b9f39a448d464abf7f5a80db888b1c": {
          "model_module": "@jupyter-widgets/controls",
          "model_name": "HTMLModel",
          "model_module_version": "1.5.0",
          "state": {
            "_dom_classes": [],
            "_model_module": "@jupyter-widgets/controls",
            "_model_module_version": "1.5.0",
            "_model_name": "HTMLModel",
            "_view_count": null,
            "_view_module": "@jupyter-widgets/controls",
            "_view_module_version": "1.5.0",
            "_view_name": "HTMLView",
            "description": "",
            "description_tooltip": null,
            "layout": "IPY_MODEL_2304eb5b23824a6992576eb495412799",
            "placeholder": "​",
            "style": "IPY_MODEL_456532c224614e7caecb37428c9d2e65",
            "value": " 200/200 [02:51&lt;00:00,  1.26it/s]"
          }
        },
        "78632b8baea1449186f239e8b1b782e9": {
          "model_module": "@jupyter-widgets/base",
          "model_name": "LayoutModel",
          "model_module_version": "1.2.0",
          "state": {
            "_model_module": "@jupyter-widgets/base",
            "_model_module_version": "1.2.0",
            "_model_name": "LayoutModel",
            "_view_count": null,
            "_view_module": "@jupyter-widgets/base",
            "_view_module_version": "1.2.0",
            "_view_name": "LayoutView",
            "align_content": null,
            "align_items": null,
            "align_self": null,
            "border": null,
            "bottom": null,
            "display": null,
            "flex": null,
            "flex_flow": null,
            "grid_area": null,
            "grid_auto_columns": null,
            "grid_auto_flow": null,
            "grid_auto_rows": null,
            "grid_column": null,
            "grid_gap": null,
            "grid_row": null,
            "grid_template_areas": null,
            "grid_template_columns": null,
            "grid_template_rows": null,
            "height": null,
            "justify_content": null,
            "justify_items": null,
            "left": null,
            "margin": null,
            "max_height": null,
            "max_width": null,
            "min_height": null,
            "min_width": null,
            "object_fit": null,
            "object_position": null,
            "order": null,
            "overflow": null,
            "overflow_x": null,
            "overflow_y": null,
            "padding": null,
            "right": null,
            "top": null,
            "visibility": null,
            "width": null
          }
        },
        "056308f015184058af74676183459bd2": {
          "model_module": "@jupyter-widgets/base",
          "model_name": "LayoutModel",
          "model_module_version": "1.2.0",
          "state": {
            "_model_module": "@jupyter-widgets/base",
            "_model_module_version": "1.2.0",
            "_model_name": "LayoutModel",
            "_view_count": null,
            "_view_module": "@jupyter-widgets/base",
            "_view_module_version": "1.2.0",
            "_view_name": "LayoutView",
            "align_content": null,
            "align_items": null,
            "align_self": null,
            "border": null,
            "bottom": null,
            "display": null,
            "flex": null,
            "flex_flow": null,
            "grid_area": null,
            "grid_auto_columns": null,
            "grid_auto_flow": null,
            "grid_auto_rows": null,
            "grid_column": null,
            "grid_gap": null,
            "grid_row": null,
            "grid_template_areas": null,
            "grid_template_columns": null,
            "grid_template_rows": null,
            "height": null,
            "justify_content": null,
            "justify_items": null,
            "left": null,
            "margin": null,
            "max_height": null,
            "max_width": null,
            "min_height": null,
            "min_width": null,
            "object_fit": null,
            "object_position": null,
            "order": null,
            "overflow": null,
            "overflow_x": null,
            "overflow_y": null,
            "padding": null,
            "right": null,
            "top": null,
            "visibility": null,
            "width": null
          }
        },
        "aedb57842f694832ac1b5e516308292d": {
          "model_module": "@jupyter-widgets/controls",
          "model_name": "DescriptionStyleModel",
          "model_module_version": "1.5.0",
          "state": {
            "_model_module": "@jupyter-widgets/controls",
            "_model_module_version": "1.5.0",
            "_model_name": "DescriptionStyleModel",
            "_view_count": null,
            "_view_module": "@jupyter-widgets/base",
            "_view_module_version": "1.2.0",
            "_view_name": "StyleView",
            "description_width": ""
          }
        },
        "1b3b82c92bb94ee68d16f088aa8fd22e": {
          "model_module": "@jupyter-widgets/base",
          "model_name": "LayoutModel",
          "model_module_version": "1.2.0",
          "state": {
            "_model_module": "@jupyter-widgets/base",
            "_model_module_version": "1.2.0",
            "_model_name": "LayoutModel",
            "_view_count": null,
            "_view_module": "@jupyter-widgets/base",
            "_view_module_version": "1.2.0",
            "_view_name": "LayoutView",
            "align_content": null,
            "align_items": null,
            "align_self": null,
            "border": null,
            "bottom": null,
            "display": null,
            "flex": null,
            "flex_flow": null,
            "grid_area": null,
            "grid_auto_columns": null,
            "grid_auto_flow": null,
            "grid_auto_rows": null,
            "grid_column": null,
            "grid_gap": null,
            "grid_row": null,
            "grid_template_areas": null,
            "grid_template_columns": null,
            "grid_template_rows": null,
            "height": null,
            "justify_content": null,
            "justify_items": null,
            "left": null,
            "margin": null,
            "max_height": null,
            "max_width": null,
            "min_height": null,
            "min_width": null,
            "object_fit": null,
            "object_position": null,
            "order": null,
            "overflow": null,
            "overflow_x": null,
            "overflow_y": null,
            "padding": null,
            "right": null,
            "top": null,
            "visibility": null,
            "width": null
          }
        },
        "9ac64c23561640389cf7e4f834fec631": {
          "model_module": "@jupyter-widgets/controls",
          "model_name": "ProgressStyleModel",
          "model_module_version": "1.5.0",
          "state": {
            "_model_module": "@jupyter-widgets/controls",
            "_model_module_version": "1.5.0",
            "_model_name": "ProgressStyleModel",
            "_view_count": null,
            "_view_module": "@jupyter-widgets/base",
            "_view_module_version": "1.2.0",
            "_view_name": "StyleView",
            "bar_color": null,
            "description_width": ""
          }
        },
        "2304eb5b23824a6992576eb495412799": {
          "model_module": "@jupyter-widgets/base",
          "model_name": "LayoutModel",
          "model_module_version": "1.2.0",
          "state": {
            "_model_module": "@jupyter-widgets/base",
            "_model_module_version": "1.2.0",
            "_model_name": "LayoutModel",
            "_view_count": null,
            "_view_module": "@jupyter-widgets/base",
            "_view_module_version": "1.2.0",
            "_view_name": "LayoutView",
            "align_content": null,
            "align_items": null,
            "align_self": null,
            "border": null,
            "bottom": null,
            "display": null,
            "flex": null,
            "flex_flow": null,
            "grid_area": null,
            "grid_auto_columns": null,
            "grid_auto_flow": null,
            "grid_auto_rows": null,
            "grid_column": null,
            "grid_gap": null,
            "grid_row": null,
            "grid_template_areas": null,
            "grid_template_columns": null,
            "grid_template_rows": null,
            "height": null,
            "justify_content": null,
            "justify_items": null,
            "left": null,
            "margin": null,
            "max_height": null,
            "max_width": null,
            "min_height": null,
            "min_width": null,
            "object_fit": null,
            "object_position": null,
            "order": null,
            "overflow": null,
            "overflow_x": null,
            "overflow_y": null,
            "padding": null,
            "right": null,
            "top": null,
            "visibility": null,
            "width": null
          }
        },
        "456532c224614e7caecb37428c9d2e65": {
          "model_module": "@jupyter-widgets/controls",
          "model_name": "DescriptionStyleModel",
          "model_module_version": "1.5.0",
          "state": {
            "_model_module": "@jupyter-widgets/controls",
            "_model_module_version": "1.5.0",
            "_model_name": "DescriptionStyleModel",
            "_view_count": null,
            "_view_module": "@jupyter-widgets/base",
            "_view_module_version": "1.2.0",
            "_view_name": "StyleView",
            "description_width": ""
          }
        },
        "a42edad039d24a8db0578c39c27e6d7a": {
          "model_module": "@jupyter-widgets/controls",
          "model_name": "HBoxModel",
          "model_module_version": "1.5.0",
          "state": {
            "_dom_classes": [],
            "_model_module": "@jupyter-widgets/controls",
            "_model_module_version": "1.5.0",
            "_model_name": "HBoxModel",
            "_view_count": null,
            "_view_module": "@jupyter-widgets/controls",
            "_view_module_version": "1.5.0",
            "_view_name": "HBoxView",
            "box_style": "",
            "children": [
              "IPY_MODEL_72a3a404aaa1479dba3ad48aba3d8ccd",
              "IPY_MODEL_42f743b92fba4fadbde8d2eb0a1003d6",
              "IPY_MODEL_1bb5aa4d60c941fc8356d272603554ae"
            ],
            "layout": "IPY_MODEL_2cb24e87f19744d7a4022ef607c30510"
          }
        },
        "72a3a404aaa1479dba3ad48aba3d8ccd": {
          "model_module": "@jupyter-widgets/controls",
          "model_name": "HTMLModel",
          "model_module_version": "1.5.0",
          "state": {
            "_dom_classes": [],
            "_model_module": "@jupyter-widgets/controls",
            "_model_module_version": "1.5.0",
            "_model_name": "HTMLModel",
            "_view_count": null,
            "_view_module": "@jupyter-widgets/controls",
            "_view_module_version": "1.5.0",
            "_view_name": "HTMLView",
            "description": "",
            "description_tooltip": null,
            "layout": "IPY_MODEL_0def03fb8e4e4b27a45fe236e1ce9e42",
            "placeholder": "​",
            "style": "IPY_MODEL_980f3a9eb776473da849b7cf7efdd252",
            "value": "100%"
          }
        },
        "42f743b92fba4fadbde8d2eb0a1003d6": {
          "model_module": "@jupyter-widgets/controls",
          "model_name": "FloatProgressModel",
          "model_module_version": "1.5.0",
          "state": {
            "_dom_classes": [],
            "_model_module": "@jupyter-widgets/controls",
            "_model_module_version": "1.5.0",
            "_model_name": "FloatProgressModel",
            "_view_count": null,
            "_view_module": "@jupyter-widgets/controls",
            "_view_module_version": "1.5.0",
            "_view_name": "ProgressView",
            "bar_style": "success",
            "description": "",
            "description_tooltip": null,
            "layout": "IPY_MODEL_8d77caca64ba4e849c3dbb73ebac540f",
            "max": 500,
            "min": 0,
            "orientation": "horizontal",
            "style": "IPY_MODEL_866a825a64844f6981cd483bb9752b44",
            "value": 500
          }
        },
        "1bb5aa4d60c941fc8356d272603554ae": {
          "model_module": "@jupyter-widgets/controls",
          "model_name": "HTMLModel",
          "model_module_version": "1.5.0",
          "state": {
            "_dom_classes": [],
            "_model_module": "@jupyter-widgets/controls",
            "_model_module_version": "1.5.0",
            "_model_name": "HTMLModel",
            "_view_count": null,
            "_view_module": "@jupyter-widgets/controls",
            "_view_module_version": "1.5.0",
            "_view_name": "HTMLView",
            "description": "",
            "description_tooltip": null,
            "layout": "IPY_MODEL_50b7dbec496949e5b93e199129449fab",
            "placeholder": "​",
            "style": "IPY_MODEL_f73e2d13fd72444b832ca0fea0c8a90d",
            "value": " 500/500 [07:52&lt;00:00,  1.12it/s, loss=0.0318]"
          }
        },
        "2cb24e87f19744d7a4022ef607c30510": {
          "model_module": "@jupyter-widgets/base",
          "model_name": "LayoutModel",
          "model_module_version": "1.2.0",
          "state": {
            "_model_module": "@jupyter-widgets/base",
            "_model_module_version": "1.2.0",
            "_model_name": "LayoutModel",
            "_view_count": null,
            "_view_module": "@jupyter-widgets/base",
            "_view_module_version": "1.2.0",
            "_view_name": "LayoutView",
            "align_content": null,
            "align_items": null,
            "align_self": null,
            "border": null,
            "bottom": null,
            "display": null,
            "flex": null,
            "flex_flow": null,
            "grid_area": null,
            "grid_auto_columns": null,
            "grid_auto_flow": null,
            "grid_auto_rows": null,
            "grid_column": null,
            "grid_gap": null,
            "grid_row": null,
            "grid_template_areas": null,
            "grid_template_columns": null,
            "grid_template_rows": null,
            "height": null,
            "justify_content": null,
            "justify_items": null,
            "left": null,
            "margin": null,
            "max_height": null,
            "max_width": null,
            "min_height": null,
            "min_width": null,
            "object_fit": null,
            "object_position": null,
            "order": null,
            "overflow": null,
            "overflow_x": null,
            "overflow_y": null,
            "padding": null,
            "right": null,
            "top": null,
            "visibility": null,
            "width": null
          }
        },
        "0def03fb8e4e4b27a45fe236e1ce9e42": {
          "model_module": "@jupyter-widgets/base",
          "model_name": "LayoutModel",
          "model_module_version": "1.2.0",
          "state": {
            "_model_module": "@jupyter-widgets/base",
            "_model_module_version": "1.2.0",
            "_model_name": "LayoutModel",
            "_view_count": null,
            "_view_module": "@jupyter-widgets/base",
            "_view_module_version": "1.2.0",
            "_view_name": "LayoutView",
            "align_content": null,
            "align_items": null,
            "align_self": null,
            "border": null,
            "bottom": null,
            "display": null,
            "flex": null,
            "flex_flow": null,
            "grid_area": null,
            "grid_auto_columns": null,
            "grid_auto_flow": null,
            "grid_auto_rows": null,
            "grid_column": null,
            "grid_gap": null,
            "grid_row": null,
            "grid_template_areas": null,
            "grid_template_columns": null,
            "grid_template_rows": null,
            "height": null,
            "justify_content": null,
            "justify_items": null,
            "left": null,
            "margin": null,
            "max_height": null,
            "max_width": null,
            "min_height": null,
            "min_width": null,
            "object_fit": null,
            "object_position": null,
            "order": null,
            "overflow": null,
            "overflow_x": null,
            "overflow_y": null,
            "padding": null,
            "right": null,
            "top": null,
            "visibility": null,
            "width": null
          }
        },
        "980f3a9eb776473da849b7cf7efdd252": {
          "model_module": "@jupyter-widgets/controls",
          "model_name": "DescriptionStyleModel",
          "model_module_version": "1.5.0",
          "state": {
            "_model_module": "@jupyter-widgets/controls",
            "_model_module_version": "1.5.0",
            "_model_name": "DescriptionStyleModel",
            "_view_count": null,
            "_view_module": "@jupyter-widgets/base",
            "_view_module_version": "1.2.0",
            "_view_name": "StyleView",
            "description_width": ""
          }
        },
        "8d77caca64ba4e849c3dbb73ebac540f": {
          "model_module": "@jupyter-widgets/base",
          "model_name": "LayoutModel",
          "model_module_version": "1.2.0",
          "state": {
            "_model_module": "@jupyter-widgets/base",
            "_model_module_version": "1.2.0",
            "_model_name": "LayoutModel",
            "_view_count": null,
            "_view_module": "@jupyter-widgets/base",
            "_view_module_version": "1.2.0",
            "_view_name": "LayoutView",
            "align_content": null,
            "align_items": null,
            "align_self": null,
            "border": null,
            "bottom": null,
            "display": null,
            "flex": null,
            "flex_flow": null,
            "grid_area": null,
            "grid_auto_columns": null,
            "grid_auto_flow": null,
            "grid_auto_rows": null,
            "grid_column": null,
            "grid_gap": null,
            "grid_row": null,
            "grid_template_areas": null,
            "grid_template_columns": null,
            "grid_template_rows": null,
            "height": null,
            "justify_content": null,
            "justify_items": null,
            "left": null,
            "margin": null,
            "max_height": null,
            "max_width": null,
            "min_height": null,
            "min_width": null,
            "object_fit": null,
            "object_position": null,
            "order": null,
            "overflow": null,
            "overflow_x": null,
            "overflow_y": null,
            "padding": null,
            "right": null,
            "top": null,
            "visibility": null,
            "width": null
          }
        },
        "866a825a64844f6981cd483bb9752b44": {
          "model_module": "@jupyter-widgets/controls",
          "model_name": "ProgressStyleModel",
          "model_module_version": "1.5.0",
          "state": {
            "_model_module": "@jupyter-widgets/controls",
            "_model_module_version": "1.5.0",
            "_model_name": "ProgressStyleModel",
            "_view_count": null,
            "_view_module": "@jupyter-widgets/base",
            "_view_module_version": "1.2.0",
            "_view_name": "StyleView",
            "bar_color": null,
            "description_width": ""
          }
        },
        "50b7dbec496949e5b93e199129449fab": {
          "model_module": "@jupyter-widgets/base",
          "model_name": "LayoutModel",
          "model_module_version": "1.2.0",
          "state": {
            "_model_module": "@jupyter-widgets/base",
            "_model_module_version": "1.2.0",
            "_model_name": "LayoutModel",
            "_view_count": null,
            "_view_module": "@jupyter-widgets/base",
            "_view_module_version": "1.2.0",
            "_view_name": "LayoutView",
            "align_content": null,
            "align_items": null,
            "align_self": null,
            "border": null,
            "bottom": null,
            "display": null,
            "flex": null,
            "flex_flow": null,
            "grid_area": null,
            "grid_auto_columns": null,
            "grid_auto_flow": null,
            "grid_auto_rows": null,
            "grid_column": null,
            "grid_gap": null,
            "grid_row": null,
            "grid_template_areas": null,
            "grid_template_columns": null,
            "grid_template_rows": null,
            "height": null,
            "justify_content": null,
            "justify_items": null,
            "left": null,
            "margin": null,
            "max_height": null,
            "max_width": null,
            "min_height": null,
            "min_width": null,
            "object_fit": null,
            "object_position": null,
            "order": null,
            "overflow": null,
            "overflow_x": null,
            "overflow_y": null,
            "padding": null,
            "right": null,
            "top": null,
            "visibility": null,
            "width": null
          }
        },
        "f73e2d13fd72444b832ca0fea0c8a90d": {
          "model_module": "@jupyter-widgets/controls",
          "model_name": "DescriptionStyleModel",
          "model_module_version": "1.5.0",
          "state": {
            "_model_module": "@jupyter-widgets/controls",
            "_model_module_version": "1.5.0",
            "_model_name": "DescriptionStyleModel",
            "_view_count": null,
            "_view_module": "@jupyter-widgets/base",
            "_view_module_version": "1.2.0",
            "_view_name": "StyleView",
            "description_width": ""
          }
        },
        "362482afbc954a27adb5509be5845ab7": {
          "model_module": "@jupyter-widgets/controls",
          "model_name": "HBoxModel",
          "model_module_version": "1.5.0",
          "state": {
            "_dom_classes": [],
            "_model_module": "@jupyter-widgets/controls",
            "_model_module_version": "1.5.0",
            "_model_name": "HBoxModel",
            "_view_count": null,
            "_view_module": "@jupyter-widgets/controls",
            "_view_module_version": "1.5.0",
            "_view_name": "HBoxView",
            "box_style": "",
            "children": [
              "IPY_MODEL_064d4312f2424c4f824aba8574e2679a",
              "IPY_MODEL_691c573119dd489cbb883fee54566deb",
              "IPY_MODEL_509318dc80334c35899f288e05d33e3a"
            ],
            "layout": "IPY_MODEL_a5b03f4090d04bb587d7295c4fec3505"
          }
        },
        "064d4312f2424c4f824aba8574e2679a": {
          "model_module": "@jupyter-widgets/controls",
          "model_name": "HTMLModel",
          "model_module_version": "1.5.0",
          "state": {
            "_dom_classes": [],
            "_model_module": "@jupyter-widgets/controls",
            "_model_module_version": "1.5.0",
            "_model_name": "HTMLModel",
            "_view_count": null,
            "_view_module": "@jupyter-widgets/controls",
            "_view_module_version": "1.5.0",
            "_view_name": "HTMLView",
            "description": "",
            "description_tooltip": null,
            "layout": "IPY_MODEL_1c205ab298a445c18504cb793108f49f",
            "placeholder": "​",
            "style": "IPY_MODEL_cfd54fb4e55645c9822880067142a5f4",
            "value": "100%"
          }
        },
        "691c573119dd489cbb883fee54566deb": {
          "model_module": "@jupyter-widgets/controls",
          "model_name": "FloatProgressModel",
          "model_module_version": "1.5.0",
          "state": {
            "_dom_classes": [],
            "_model_module": "@jupyter-widgets/controls",
            "_model_module_version": "1.5.0",
            "_model_name": "FloatProgressModel",
            "_view_count": null,
            "_view_module": "@jupyter-widgets/controls",
            "_view_module_version": "1.5.0",
            "_view_name": "ProgressView",
            "bar_style": "success",
            "description": "",
            "description_tooltip": null,
            "layout": "IPY_MODEL_6410d93f66c448818a51180abfcbc241",
            "max": 100,
            "min": 0,
            "orientation": "horizontal",
            "style": "IPY_MODEL_01dbacc501c3421e949661f122c917e9",
            "value": 100
          }
        },
        "509318dc80334c35899f288e05d33e3a": {
          "model_module": "@jupyter-widgets/controls",
          "model_name": "HTMLModel",
          "model_module_version": "1.5.0",
          "state": {
            "_dom_classes": [],
            "_model_module": "@jupyter-widgets/controls",
            "_model_module_version": "1.5.0",
            "_model_name": "HTMLModel",
            "_view_count": null,
            "_view_module": "@jupyter-widgets/controls",
            "_view_module_version": "1.5.0",
            "_view_name": "HTMLView",
            "description": "",
            "description_tooltip": null,
            "layout": "IPY_MODEL_c9486c5d033a414ea4160118be2175c1",
            "placeholder": "​",
            "style": "IPY_MODEL_0a194efc7c5147e6bca480f3365a98af",
            "value": " 100/100 [00:17&lt;00:00,  6.02it/s]"
          }
        },
        "a5b03f4090d04bb587d7295c4fec3505": {
          "model_module": "@jupyter-widgets/base",
          "model_name": "LayoutModel",
          "model_module_version": "1.2.0",
          "state": {
            "_model_module": "@jupyter-widgets/base",
            "_model_module_version": "1.2.0",
            "_model_name": "LayoutModel",
            "_view_count": null,
            "_view_module": "@jupyter-widgets/base",
            "_view_module_version": "1.2.0",
            "_view_name": "LayoutView",
            "align_content": null,
            "align_items": null,
            "align_self": null,
            "border": null,
            "bottom": null,
            "display": null,
            "flex": null,
            "flex_flow": null,
            "grid_area": null,
            "grid_auto_columns": null,
            "grid_auto_flow": null,
            "grid_auto_rows": null,
            "grid_column": null,
            "grid_gap": null,
            "grid_row": null,
            "grid_template_areas": null,
            "grid_template_columns": null,
            "grid_template_rows": null,
            "height": null,
            "justify_content": null,
            "justify_items": null,
            "left": null,
            "margin": null,
            "max_height": null,
            "max_width": null,
            "min_height": null,
            "min_width": null,
            "object_fit": null,
            "object_position": null,
            "order": null,
            "overflow": null,
            "overflow_x": null,
            "overflow_y": null,
            "padding": null,
            "right": null,
            "top": null,
            "visibility": null,
            "width": null
          }
        },
        "1c205ab298a445c18504cb793108f49f": {
          "model_module": "@jupyter-widgets/base",
          "model_name": "LayoutModel",
          "model_module_version": "1.2.0",
          "state": {
            "_model_module": "@jupyter-widgets/base",
            "_model_module_version": "1.2.0",
            "_model_name": "LayoutModel",
            "_view_count": null,
            "_view_module": "@jupyter-widgets/base",
            "_view_module_version": "1.2.0",
            "_view_name": "LayoutView",
            "align_content": null,
            "align_items": null,
            "align_self": null,
            "border": null,
            "bottom": null,
            "display": null,
            "flex": null,
            "flex_flow": null,
            "grid_area": null,
            "grid_auto_columns": null,
            "grid_auto_flow": null,
            "grid_auto_rows": null,
            "grid_column": null,
            "grid_gap": null,
            "grid_row": null,
            "grid_template_areas": null,
            "grid_template_columns": null,
            "grid_template_rows": null,
            "height": null,
            "justify_content": null,
            "justify_items": null,
            "left": null,
            "margin": null,
            "max_height": null,
            "max_width": null,
            "min_height": null,
            "min_width": null,
            "object_fit": null,
            "object_position": null,
            "order": null,
            "overflow": null,
            "overflow_x": null,
            "overflow_y": null,
            "padding": null,
            "right": null,
            "top": null,
            "visibility": null,
            "width": null
          }
        },
        "cfd54fb4e55645c9822880067142a5f4": {
          "model_module": "@jupyter-widgets/controls",
          "model_name": "DescriptionStyleModel",
          "model_module_version": "1.5.0",
          "state": {
            "_model_module": "@jupyter-widgets/controls",
            "_model_module_version": "1.5.0",
            "_model_name": "DescriptionStyleModel",
            "_view_count": null,
            "_view_module": "@jupyter-widgets/base",
            "_view_module_version": "1.2.0",
            "_view_name": "StyleView",
            "description_width": ""
          }
        },
        "6410d93f66c448818a51180abfcbc241": {
          "model_module": "@jupyter-widgets/base",
          "model_name": "LayoutModel",
          "model_module_version": "1.2.0",
          "state": {
            "_model_module": "@jupyter-widgets/base",
            "_model_module_version": "1.2.0",
            "_model_name": "LayoutModel",
            "_view_count": null,
            "_view_module": "@jupyter-widgets/base",
            "_view_module_version": "1.2.0",
            "_view_name": "LayoutView",
            "align_content": null,
            "align_items": null,
            "align_self": null,
            "border": null,
            "bottom": null,
            "display": null,
            "flex": null,
            "flex_flow": null,
            "grid_area": null,
            "grid_auto_columns": null,
            "grid_auto_flow": null,
            "grid_auto_rows": null,
            "grid_column": null,
            "grid_gap": null,
            "grid_row": null,
            "grid_template_areas": null,
            "grid_template_columns": null,
            "grid_template_rows": null,
            "height": null,
            "justify_content": null,
            "justify_items": null,
            "left": null,
            "margin": null,
            "max_height": null,
            "max_width": null,
            "min_height": null,
            "min_width": null,
            "object_fit": null,
            "object_position": null,
            "order": null,
            "overflow": null,
            "overflow_x": null,
            "overflow_y": null,
            "padding": null,
            "right": null,
            "top": null,
            "visibility": null,
            "width": null
          }
        },
        "01dbacc501c3421e949661f122c917e9": {
          "model_module": "@jupyter-widgets/controls",
          "model_name": "ProgressStyleModel",
          "model_module_version": "1.5.0",
          "state": {
            "_model_module": "@jupyter-widgets/controls",
            "_model_module_version": "1.5.0",
            "_model_name": "ProgressStyleModel",
            "_view_count": null,
            "_view_module": "@jupyter-widgets/base",
            "_view_module_version": "1.2.0",
            "_view_name": "StyleView",
            "bar_color": null,
            "description_width": ""
          }
        },
        "c9486c5d033a414ea4160118be2175c1": {
          "model_module": "@jupyter-widgets/base",
          "model_name": "LayoutModel",
          "model_module_version": "1.2.0",
          "state": {
            "_model_module": "@jupyter-widgets/base",
            "_model_module_version": "1.2.0",
            "_model_name": "LayoutModel",
            "_view_count": null,
            "_view_module": "@jupyter-widgets/base",
            "_view_module_version": "1.2.0",
            "_view_name": "LayoutView",
            "align_content": null,
            "align_items": null,
            "align_self": null,
            "border": null,
            "bottom": null,
            "display": null,
            "flex": null,
            "flex_flow": null,
            "grid_area": null,
            "grid_auto_columns": null,
            "grid_auto_flow": null,
            "grid_auto_rows": null,
            "grid_column": null,
            "grid_gap": null,
            "grid_row": null,
            "grid_template_areas": null,
            "grid_template_columns": null,
            "grid_template_rows": null,
            "height": null,
            "justify_content": null,
            "justify_items": null,
            "left": null,
            "margin": null,
            "max_height": null,
            "max_width": null,
            "min_height": null,
            "min_width": null,
            "object_fit": null,
            "object_position": null,
            "order": null,
            "overflow": null,
            "overflow_x": null,
            "overflow_y": null,
            "padding": null,
            "right": null,
            "top": null,
            "visibility": null,
            "width": null
          }
        },
        "0a194efc7c5147e6bca480f3365a98af": {
          "model_module": "@jupyter-widgets/controls",
          "model_name": "DescriptionStyleModel",
          "model_module_version": "1.5.0",
          "state": {
            "_model_module": "@jupyter-widgets/controls",
            "_model_module_version": "1.5.0",
            "_model_name": "DescriptionStyleModel",
            "_view_count": null,
            "_view_module": "@jupyter-widgets/base",
            "_view_module_version": "1.2.0",
            "_view_name": "StyleView",
            "description_width": ""
          }
        },
        "a0d35a1ec3404bcd800d4a557f6d332c": {
          "model_module": "@jupyter-widgets/controls",
          "model_name": "HBoxModel",
          "model_module_version": "1.5.0",
          "state": {
            "_dom_classes": [],
            "_model_module": "@jupyter-widgets/controls",
            "_model_module_version": "1.5.0",
            "_model_name": "HBoxModel",
            "_view_count": null,
            "_view_module": "@jupyter-widgets/controls",
            "_view_module_version": "1.5.0",
            "_view_name": "HBoxView",
            "box_style": "",
            "children": [
              "IPY_MODEL_15499ab66b65422ca8f9f81bf5dcc1d2",
              "IPY_MODEL_ba286e4cae5640f0a59028ba004db0ae",
              "IPY_MODEL_2c97e57241b04f3d9aceff3fd0fc15a2"
            ],
            "layout": "IPY_MODEL_a7910ffd7c7c46eaa7210e0786af6f6c"
          }
        },
        "15499ab66b65422ca8f9f81bf5dcc1d2": {
          "model_module": "@jupyter-widgets/controls",
          "model_name": "HTMLModel",
          "model_module_version": "1.5.0",
          "state": {
            "_dom_classes": [],
            "_model_module": "@jupyter-widgets/controls",
            "_model_module_version": "1.5.0",
            "_model_name": "HTMLModel",
            "_view_count": null,
            "_view_module": "@jupyter-widgets/controls",
            "_view_module_version": "1.5.0",
            "_view_name": "HTMLView",
            "description": "",
            "description_tooltip": null,
            "layout": "IPY_MODEL_95c480ba3a08412ca0e3fd30113796d6",
            "placeholder": "​",
            "style": "IPY_MODEL_ca0ae23756504f49927c9a5992d79b62",
            "value": "100%"
          }
        },
        "ba286e4cae5640f0a59028ba004db0ae": {
          "model_module": "@jupyter-widgets/controls",
          "model_name": "FloatProgressModel",
          "model_module_version": "1.5.0",
          "state": {
            "_dom_classes": [],
            "_model_module": "@jupyter-widgets/controls",
            "_model_module_version": "1.5.0",
            "_model_name": "FloatProgressModel",
            "_view_count": null,
            "_view_module": "@jupyter-widgets/controls",
            "_view_module_version": "1.5.0",
            "_view_name": "ProgressView",
            "bar_style": "success",
            "description": "",
            "description_tooltip": null,
            "layout": "IPY_MODEL_e2f3accf8baa47bbb9b6873caa02b660",
            "max": 500,
            "min": 0,
            "orientation": "horizontal",
            "style": "IPY_MODEL_abfd47929e194281be8b0ec07fb748ad",
            "value": 500
          }
        },
        "2c97e57241b04f3d9aceff3fd0fc15a2": {
          "model_module": "@jupyter-widgets/controls",
          "model_name": "HTMLModel",
          "model_module_version": "1.5.0",
          "state": {
            "_dom_classes": [],
            "_model_module": "@jupyter-widgets/controls",
            "_model_module_version": "1.5.0",
            "_model_name": "HTMLModel",
            "_view_count": null,
            "_view_module": "@jupyter-widgets/controls",
            "_view_module_version": "1.5.0",
            "_view_name": "HTMLView",
            "description": "",
            "description_tooltip": null,
            "layout": "IPY_MODEL_603478ca60b24816bacb69e38048a74e",
            "placeholder": "​",
            "style": "IPY_MODEL_b1e9cd61992943c8923674b5760a3f49",
            "value": " 500/500 [02:00&lt;00:00,  4.42it/s, loss=0.000158]"
          }
        },
        "a7910ffd7c7c46eaa7210e0786af6f6c": {
          "model_module": "@jupyter-widgets/base",
          "model_name": "LayoutModel",
          "model_module_version": "1.2.0",
          "state": {
            "_model_module": "@jupyter-widgets/base",
            "_model_module_version": "1.2.0",
            "_model_name": "LayoutModel",
            "_view_count": null,
            "_view_module": "@jupyter-widgets/base",
            "_view_module_version": "1.2.0",
            "_view_name": "LayoutView",
            "align_content": null,
            "align_items": null,
            "align_self": null,
            "border": null,
            "bottom": null,
            "display": null,
            "flex": null,
            "flex_flow": null,
            "grid_area": null,
            "grid_auto_columns": null,
            "grid_auto_flow": null,
            "grid_auto_rows": null,
            "grid_column": null,
            "grid_gap": null,
            "grid_row": null,
            "grid_template_areas": null,
            "grid_template_columns": null,
            "grid_template_rows": null,
            "height": null,
            "justify_content": null,
            "justify_items": null,
            "left": null,
            "margin": null,
            "max_height": null,
            "max_width": null,
            "min_height": null,
            "min_width": null,
            "object_fit": null,
            "object_position": null,
            "order": null,
            "overflow": null,
            "overflow_x": null,
            "overflow_y": null,
            "padding": null,
            "right": null,
            "top": null,
            "visibility": null,
            "width": null
          }
        },
        "95c480ba3a08412ca0e3fd30113796d6": {
          "model_module": "@jupyter-widgets/base",
          "model_name": "LayoutModel",
          "model_module_version": "1.2.0",
          "state": {
            "_model_module": "@jupyter-widgets/base",
            "_model_module_version": "1.2.0",
            "_model_name": "LayoutModel",
            "_view_count": null,
            "_view_module": "@jupyter-widgets/base",
            "_view_module_version": "1.2.0",
            "_view_name": "LayoutView",
            "align_content": null,
            "align_items": null,
            "align_self": null,
            "border": null,
            "bottom": null,
            "display": null,
            "flex": null,
            "flex_flow": null,
            "grid_area": null,
            "grid_auto_columns": null,
            "grid_auto_flow": null,
            "grid_auto_rows": null,
            "grid_column": null,
            "grid_gap": null,
            "grid_row": null,
            "grid_template_areas": null,
            "grid_template_columns": null,
            "grid_template_rows": null,
            "height": null,
            "justify_content": null,
            "justify_items": null,
            "left": null,
            "margin": null,
            "max_height": null,
            "max_width": null,
            "min_height": null,
            "min_width": null,
            "object_fit": null,
            "object_position": null,
            "order": null,
            "overflow": null,
            "overflow_x": null,
            "overflow_y": null,
            "padding": null,
            "right": null,
            "top": null,
            "visibility": null,
            "width": null
          }
        },
        "ca0ae23756504f49927c9a5992d79b62": {
          "model_module": "@jupyter-widgets/controls",
          "model_name": "DescriptionStyleModel",
          "model_module_version": "1.5.0",
          "state": {
            "_model_module": "@jupyter-widgets/controls",
            "_model_module_version": "1.5.0",
            "_model_name": "DescriptionStyleModel",
            "_view_count": null,
            "_view_module": "@jupyter-widgets/base",
            "_view_module_version": "1.2.0",
            "_view_name": "StyleView",
            "description_width": ""
          }
        },
        "e2f3accf8baa47bbb9b6873caa02b660": {
          "model_module": "@jupyter-widgets/base",
          "model_name": "LayoutModel",
          "model_module_version": "1.2.0",
          "state": {
            "_model_module": "@jupyter-widgets/base",
            "_model_module_version": "1.2.0",
            "_model_name": "LayoutModel",
            "_view_count": null,
            "_view_module": "@jupyter-widgets/base",
            "_view_module_version": "1.2.0",
            "_view_name": "LayoutView",
            "align_content": null,
            "align_items": null,
            "align_self": null,
            "border": null,
            "bottom": null,
            "display": null,
            "flex": null,
            "flex_flow": null,
            "grid_area": null,
            "grid_auto_columns": null,
            "grid_auto_flow": null,
            "grid_auto_rows": null,
            "grid_column": null,
            "grid_gap": null,
            "grid_row": null,
            "grid_template_areas": null,
            "grid_template_columns": null,
            "grid_template_rows": null,
            "height": null,
            "justify_content": null,
            "justify_items": null,
            "left": null,
            "margin": null,
            "max_height": null,
            "max_width": null,
            "min_height": null,
            "min_width": null,
            "object_fit": null,
            "object_position": null,
            "order": null,
            "overflow": null,
            "overflow_x": null,
            "overflow_y": null,
            "padding": null,
            "right": null,
            "top": null,
            "visibility": null,
            "width": null
          }
        },
        "abfd47929e194281be8b0ec07fb748ad": {
          "model_module": "@jupyter-widgets/controls",
          "model_name": "ProgressStyleModel",
          "model_module_version": "1.5.0",
          "state": {
            "_model_module": "@jupyter-widgets/controls",
            "_model_module_version": "1.5.0",
            "_model_name": "ProgressStyleModel",
            "_view_count": null,
            "_view_module": "@jupyter-widgets/base",
            "_view_module_version": "1.2.0",
            "_view_name": "StyleView",
            "bar_color": null,
            "description_width": ""
          }
        },
        "603478ca60b24816bacb69e38048a74e": {
          "model_module": "@jupyter-widgets/base",
          "model_name": "LayoutModel",
          "model_module_version": "1.2.0",
          "state": {
            "_model_module": "@jupyter-widgets/base",
            "_model_module_version": "1.2.0",
            "_model_name": "LayoutModel",
            "_view_count": null,
            "_view_module": "@jupyter-widgets/base",
            "_view_module_version": "1.2.0",
            "_view_name": "LayoutView",
            "align_content": null,
            "align_items": null,
            "align_self": null,
            "border": null,
            "bottom": null,
            "display": null,
            "flex": null,
            "flex_flow": null,
            "grid_area": null,
            "grid_auto_columns": null,
            "grid_auto_flow": null,
            "grid_auto_rows": null,
            "grid_column": null,
            "grid_gap": null,
            "grid_row": null,
            "grid_template_areas": null,
            "grid_template_columns": null,
            "grid_template_rows": null,
            "height": null,
            "justify_content": null,
            "justify_items": null,
            "left": null,
            "margin": null,
            "max_height": null,
            "max_width": null,
            "min_height": null,
            "min_width": null,
            "object_fit": null,
            "object_position": null,
            "order": null,
            "overflow": null,
            "overflow_x": null,
            "overflow_y": null,
            "padding": null,
            "right": null,
            "top": null,
            "visibility": null,
            "width": null
          }
        },
        "b1e9cd61992943c8923674b5760a3f49": {
          "model_module": "@jupyter-widgets/controls",
          "model_name": "DescriptionStyleModel",
          "model_module_version": "1.5.0",
          "state": {
            "_model_module": "@jupyter-widgets/controls",
            "_model_module_version": "1.5.0",
            "_model_name": "DescriptionStyleModel",
            "_view_count": null,
            "_view_module": "@jupyter-widgets/base",
            "_view_module_version": "1.2.0",
            "_view_name": "StyleView",
            "description_width": ""
          }
        },
        "18bbb880fe3b435d8559055884bbf50a": {
          "model_module": "@jupyter-widgets/controls",
          "model_name": "HBoxModel",
          "model_module_version": "1.5.0",
          "state": {
            "_dom_classes": [],
            "_model_module": "@jupyter-widgets/controls",
            "_model_module_version": "1.5.0",
            "_model_name": "HBoxModel",
            "_view_count": null,
            "_view_module": "@jupyter-widgets/controls",
            "_view_module_version": "1.5.0",
            "_view_name": "HBoxView",
            "box_style": "",
            "children": [
              "IPY_MODEL_96d432ad7c6b4893b237da6d7762f8e0",
              "IPY_MODEL_098db2dafeed487b976c6c6a30ad38a8",
              "IPY_MODEL_94cefd1f9732439597b0aa91eea4c0c0"
            ],
            "layout": "IPY_MODEL_b1391c5026f9451da0bba051eb3c48b7"
          }
        },
        "96d432ad7c6b4893b237da6d7762f8e0": {
          "model_module": "@jupyter-widgets/controls",
          "model_name": "HTMLModel",
          "model_module_version": "1.5.0",
          "state": {
            "_dom_classes": [],
            "_model_module": "@jupyter-widgets/controls",
            "_model_module_version": "1.5.0",
            "_model_name": "HTMLModel",
            "_view_count": null,
            "_view_module": "@jupyter-widgets/controls",
            "_view_module_version": "1.5.0",
            "_view_name": "HTMLView",
            "description": "",
            "description_tooltip": null,
            "layout": "IPY_MODEL_1406edb34a58459e9d6a13fd381b67ba",
            "placeholder": "​",
            "style": "IPY_MODEL_74c5c1cb8a6e49d0985a595a7c36f6db",
            "value": "100%"
          }
        },
        "098db2dafeed487b976c6c6a30ad38a8": {
          "model_module": "@jupyter-widgets/controls",
          "model_name": "FloatProgressModel",
          "model_module_version": "1.5.0",
          "state": {
            "_dom_classes": [],
            "_model_module": "@jupyter-widgets/controls",
            "_model_module_version": "1.5.0",
            "_model_name": "FloatProgressModel",
            "_view_count": null,
            "_view_module": "@jupyter-widgets/controls",
            "_view_module_version": "1.5.0",
            "_view_name": "ProgressView",
            "bar_style": "success",
            "description": "",
            "description_tooltip": null,
            "layout": "IPY_MODEL_6e2d76bd6524418cbe49eede23948b7b",
            "max": 500,
            "min": 0,
            "orientation": "horizontal",
            "style": "IPY_MODEL_82d6721701a94fd7895457c23361fa46",
            "value": 500
          }
        },
        "94cefd1f9732439597b0aa91eea4c0c0": {
          "model_module": "@jupyter-widgets/controls",
          "model_name": "HTMLModel",
          "model_module_version": "1.5.0",
          "state": {
            "_dom_classes": [],
            "_model_module": "@jupyter-widgets/controls",
            "_model_module_version": "1.5.0",
            "_model_name": "HTMLModel",
            "_view_count": null,
            "_view_module": "@jupyter-widgets/controls",
            "_view_module_version": "1.5.0",
            "_view_name": "HTMLView",
            "description": "",
            "description_tooltip": null,
            "layout": "IPY_MODEL_6853d67966864e8e9a2c7711a2b2d24d",
            "placeholder": "​",
            "style": "IPY_MODEL_8c24957d79464163aaddce761ef8eb14",
            "value": " 500/500 [02:28&lt;00:00,  2.29it/s, loss=0.000124]"
          }
        },
        "b1391c5026f9451da0bba051eb3c48b7": {
          "model_module": "@jupyter-widgets/base",
          "model_name": "LayoutModel",
          "model_module_version": "1.2.0",
          "state": {
            "_model_module": "@jupyter-widgets/base",
            "_model_module_version": "1.2.0",
            "_model_name": "LayoutModel",
            "_view_count": null,
            "_view_module": "@jupyter-widgets/base",
            "_view_module_version": "1.2.0",
            "_view_name": "LayoutView",
            "align_content": null,
            "align_items": null,
            "align_self": null,
            "border": null,
            "bottom": null,
            "display": null,
            "flex": null,
            "flex_flow": null,
            "grid_area": null,
            "grid_auto_columns": null,
            "grid_auto_flow": null,
            "grid_auto_rows": null,
            "grid_column": null,
            "grid_gap": null,
            "grid_row": null,
            "grid_template_areas": null,
            "grid_template_columns": null,
            "grid_template_rows": null,
            "height": null,
            "justify_content": null,
            "justify_items": null,
            "left": null,
            "margin": null,
            "max_height": null,
            "max_width": null,
            "min_height": null,
            "min_width": null,
            "object_fit": null,
            "object_position": null,
            "order": null,
            "overflow": null,
            "overflow_x": null,
            "overflow_y": null,
            "padding": null,
            "right": null,
            "top": null,
            "visibility": null,
            "width": null
          }
        },
        "1406edb34a58459e9d6a13fd381b67ba": {
          "model_module": "@jupyter-widgets/base",
          "model_name": "LayoutModel",
          "model_module_version": "1.2.0",
          "state": {
            "_model_module": "@jupyter-widgets/base",
            "_model_module_version": "1.2.0",
            "_model_name": "LayoutModel",
            "_view_count": null,
            "_view_module": "@jupyter-widgets/base",
            "_view_module_version": "1.2.0",
            "_view_name": "LayoutView",
            "align_content": null,
            "align_items": null,
            "align_self": null,
            "border": null,
            "bottom": null,
            "display": null,
            "flex": null,
            "flex_flow": null,
            "grid_area": null,
            "grid_auto_columns": null,
            "grid_auto_flow": null,
            "grid_auto_rows": null,
            "grid_column": null,
            "grid_gap": null,
            "grid_row": null,
            "grid_template_areas": null,
            "grid_template_columns": null,
            "grid_template_rows": null,
            "height": null,
            "justify_content": null,
            "justify_items": null,
            "left": null,
            "margin": null,
            "max_height": null,
            "max_width": null,
            "min_height": null,
            "min_width": null,
            "object_fit": null,
            "object_position": null,
            "order": null,
            "overflow": null,
            "overflow_x": null,
            "overflow_y": null,
            "padding": null,
            "right": null,
            "top": null,
            "visibility": null,
            "width": null
          }
        },
        "74c5c1cb8a6e49d0985a595a7c36f6db": {
          "model_module": "@jupyter-widgets/controls",
          "model_name": "DescriptionStyleModel",
          "model_module_version": "1.5.0",
          "state": {
            "_model_module": "@jupyter-widgets/controls",
            "_model_module_version": "1.5.0",
            "_model_name": "DescriptionStyleModel",
            "_view_count": null,
            "_view_module": "@jupyter-widgets/base",
            "_view_module_version": "1.2.0",
            "_view_name": "StyleView",
            "description_width": ""
          }
        },
        "6e2d76bd6524418cbe49eede23948b7b": {
          "model_module": "@jupyter-widgets/base",
          "model_name": "LayoutModel",
          "model_module_version": "1.2.0",
          "state": {
            "_model_module": "@jupyter-widgets/base",
            "_model_module_version": "1.2.0",
            "_model_name": "LayoutModel",
            "_view_count": null,
            "_view_module": "@jupyter-widgets/base",
            "_view_module_version": "1.2.0",
            "_view_name": "LayoutView",
            "align_content": null,
            "align_items": null,
            "align_self": null,
            "border": null,
            "bottom": null,
            "display": null,
            "flex": null,
            "flex_flow": null,
            "grid_area": null,
            "grid_auto_columns": null,
            "grid_auto_flow": null,
            "grid_auto_rows": null,
            "grid_column": null,
            "grid_gap": null,
            "grid_row": null,
            "grid_template_areas": null,
            "grid_template_columns": null,
            "grid_template_rows": null,
            "height": null,
            "justify_content": null,
            "justify_items": null,
            "left": null,
            "margin": null,
            "max_height": null,
            "max_width": null,
            "min_height": null,
            "min_width": null,
            "object_fit": null,
            "object_position": null,
            "order": null,
            "overflow": null,
            "overflow_x": null,
            "overflow_y": null,
            "padding": null,
            "right": null,
            "top": null,
            "visibility": null,
            "width": null
          }
        },
        "82d6721701a94fd7895457c23361fa46": {
          "model_module": "@jupyter-widgets/controls",
          "model_name": "ProgressStyleModel",
          "model_module_version": "1.5.0",
          "state": {
            "_model_module": "@jupyter-widgets/controls",
            "_model_module_version": "1.5.0",
            "_model_name": "ProgressStyleModel",
            "_view_count": null,
            "_view_module": "@jupyter-widgets/base",
            "_view_module_version": "1.2.0",
            "_view_name": "StyleView",
            "bar_color": null,
            "description_width": ""
          }
        },
        "6853d67966864e8e9a2c7711a2b2d24d": {
          "model_module": "@jupyter-widgets/base",
          "model_name": "LayoutModel",
          "model_module_version": "1.2.0",
          "state": {
            "_model_module": "@jupyter-widgets/base",
            "_model_module_version": "1.2.0",
            "_model_name": "LayoutModel",
            "_view_count": null,
            "_view_module": "@jupyter-widgets/base",
            "_view_module_version": "1.2.0",
            "_view_name": "LayoutView",
            "align_content": null,
            "align_items": null,
            "align_self": null,
            "border": null,
            "bottom": null,
            "display": null,
            "flex": null,
            "flex_flow": null,
            "grid_area": null,
            "grid_auto_columns": null,
            "grid_auto_flow": null,
            "grid_auto_rows": null,
            "grid_column": null,
            "grid_gap": null,
            "grid_row": null,
            "grid_template_areas": null,
            "grid_template_columns": null,
            "grid_template_rows": null,
            "height": null,
            "justify_content": null,
            "justify_items": null,
            "left": null,
            "margin": null,
            "max_height": null,
            "max_width": null,
            "min_height": null,
            "min_width": null,
            "object_fit": null,
            "object_position": null,
            "order": null,
            "overflow": null,
            "overflow_x": null,
            "overflow_y": null,
            "padding": null,
            "right": null,
            "top": null,
            "visibility": null,
            "width": null
          }
        },
        "8c24957d79464163aaddce761ef8eb14": {
          "model_module": "@jupyter-widgets/controls",
          "model_name": "DescriptionStyleModel",
          "model_module_version": "1.5.0",
          "state": {
            "_model_module": "@jupyter-widgets/controls",
            "_model_module_version": "1.5.0",
            "_model_name": "DescriptionStyleModel",
            "_view_count": null,
            "_view_module": "@jupyter-widgets/base",
            "_view_module_version": "1.2.0",
            "_view_name": "StyleView",
            "description_width": ""
          }
        },
        "27435bf78c924f289bd6bb385b67068b": {
          "model_module": "@jupyter-widgets/controls",
          "model_name": "HBoxModel",
          "model_module_version": "1.5.0",
          "state": {
            "_dom_classes": [],
            "_model_module": "@jupyter-widgets/controls",
            "_model_module_version": "1.5.0",
            "_model_name": "HBoxModel",
            "_view_count": null,
            "_view_module": "@jupyter-widgets/controls",
            "_view_module_version": "1.5.0",
            "_view_name": "HBoxView",
            "box_style": "",
            "children": [
              "IPY_MODEL_c89ff658e78f44ffa574d5ae53168ce0",
              "IPY_MODEL_4128f3362f704d74be501782ec862775",
              "IPY_MODEL_b30e140d84e844b3816612cc2d416c3d"
            ],
            "layout": "IPY_MODEL_26f281c3c6694d1c9ab3fb8b7f5cc0e7"
          }
        },
        "c89ff658e78f44ffa574d5ae53168ce0": {
          "model_module": "@jupyter-widgets/controls",
          "model_name": "HTMLModel",
          "model_module_version": "1.5.0",
          "state": {
            "_dom_classes": [],
            "_model_module": "@jupyter-widgets/controls",
            "_model_module_version": "1.5.0",
            "_model_name": "HTMLModel",
            "_view_count": null,
            "_view_module": "@jupyter-widgets/controls",
            "_view_module_version": "1.5.0",
            "_view_name": "HTMLView",
            "description": "",
            "description_tooltip": null,
            "layout": "IPY_MODEL_1ca0bf7163ae4e2a83cd8748a748429d",
            "placeholder": "​",
            "style": "IPY_MODEL_c861d48b22f74f7db1c32100c55c9d2a",
            "value": "100%"
          }
        },
        "4128f3362f704d74be501782ec862775": {
          "model_module": "@jupyter-widgets/controls",
          "model_name": "FloatProgressModel",
          "model_module_version": "1.5.0",
          "state": {
            "_dom_classes": [],
            "_model_module": "@jupyter-widgets/controls",
            "_model_module_version": "1.5.0",
            "_model_name": "FloatProgressModel",
            "_view_count": null,
            "_view_module": "@jupyter-widgets/controls",
            "_view_module_version": "1.5.0",
            "_view_name": "ProgressView",
            "bar_style": "success",
            "description": "",
            "description_tooltip": null,
            "layout": "IPY_MODEL_0eb64570c527484da08dbc397ed021d7",
            "max": 1000,
            "min": 0,
            "orientation": "horizontal",
            "style": "IPY_MODEL_bc9de6669b79450b9b4d0616f6bd3ff5",
            "value": 1000
          }
        },
        "b30e140d84e844b3816612cc2d416c3d": {
          "model_module": "@jupyter-widgets/controls",
          "model_name": "HTMLModel",
          "model_module_version": "1.5.0",
          "state": {
            "_dom_classes": [],
            "_model_module": "@jupyter-widgets/controls",
            "_model_module_version": "1.5.0",
            "_model_name": "HTMLModel",
            "_view_count": null,
            "_view_module": "@jupyter-widgets/controls",
            "_view_module_version": "1.5.0",
            "_view_name": "HTMLView",
            "description": "",
            "description_tooltip": null,
            "layout": "IPY_MODEL_f336b19392f14621b5552d644dbf57b0",
            "placeholder": "​",
            "style": "IPY_MODEL_3cc5bbde61504635a52a5d14b1784c65",
            "value": " 1000/1000 [06:03&lt;00:00,  2.37it/s, loss=8.14e-5]"
          }
        },
        "26f281c3c6694d1c9ab3fb8b7f5cc0e7": {
          "model_module": "@jupyter-widgets/base",
          "model_name": "LayoutModel",
          "model_module_version": "1.2.0",
          "state": {
            "_model_module": "@jupyter-widgets/base",
            "_model_module_version": "1.2.0",
            "_model_name": "LayoutModel",
            "_view_count": null,
            "_view_module": "@jupyter-widgets/base",
            "_view_module_version": "1.2.0",
            "_view_name": "LayoutView",
            "align_content": null,
            "align_items": null,
            "align_self": null,
            "border": null,
            "bottom": null,
            "display": null,
            "flex": null,
            "flex_flow": null,
            "grid_area": null,
            "grid_auto_columns": null,
            "grid_auto_flow": null,
            "grid_auto_rows": null,
            "grid_column": null,
            "grid_gap": null,
            "grid_row": null,
            "grid_template_areas": null,
            "grid_template_columns": null,
            "grid_template_rows": null,
            "height": null,
            "justify_content": null,
            "justify_items": null,
            "left": null,
            "margin": null,
            "max_height": null,
            "max_width": null,
            "min_height": null,
            "min_width": null,
            "object_fit": null,
            "object_position": null,
            "order": null,
            "overflow": null,
            "overflow_x": null,
            "overflow_y": null,
            "padding": null,
            "right": null,
            "top": null,
            "visibility": null,
            "width": null
          }
        },
        "1ca0bf7163ae4e2a83cd8748a748429d": {
          "model_module": "@jupyter-widgets/base",
          "model_name": "LayoutModel",
          "model_module_version": "1.2.0",
          "state": {
            "_model_module": "@jupyter-widgets/base",
            "_model_module_version": "1.2.0",
            "_model_name": "LayoutModel",
            "_view_count": null,
            "_view_module": "@jupyter-widgets/base",
            "_view_module_version": "1.2.0",
            "_view_name": "LayoutView",
            "align_content": null,
            "align_items": null,
            "align_self": null,
            "border": null,
            "bottom": null,
            "display": null,
            "flex": null,
            "flex_flow": null,
            "grid_area": null,
            "grid_auto_columns": null,
            "grid_auto_flow": null,
            "grid_auto_rows": null,
            "grid_column": null,
            "grid_gap": null,
            "grid_row": null,
            "grid_template_areas": null,
            "grid_template_columns": null,
            "grid_template_rows": null,
            "height": null,
            "justify_content": null,
            "justify_items": null,
            "left": null,
            "margin": null,
            "max_height": null,
            "max_width": null,
            "min_height": null,
            "min_width": null,
            "object_fit": null,
            "object_position": null,
            "order": null,
            "overflow": null,
            "overflow_x": null,
            "overflow_y": null,
            "padding": null,
            "right": null,
            "top": null,
            "visibility": null,
            "width": null
          }
        },
        "c861d48b22f74f7db1c32100c55c9d2a": {
          "model_module": "@jupyter-widgets/controls",
          "model_name": "DescriptionStyleModel",
          "model_module_version": "1.5.0",
          "state": {
            "_model_module": "@jupyter-widgets/controls",
            "_model_module_version": "1.5.0",
            "_model_name": "DescriptionStyleModel",
            "_view_count": null,
            "_view_module": "@jupyter-widgets/base",
            "_view_module_version": "1.2.0",
            "_view_name": "StyleView",
            "description_width": ""
          }
        },
        "0eb64570c527484da08dbc397ed021d7": {
          "model_module": "@jupyter-widgets/base",
          "model_name": "LayoutModel",
          "model_module_version": "1.2.0",
          "state": {
            "_model_module": "@jupyter-widgets/base",
            "_model_module_version": "1.2.0",
            "_model_name": "LayoutModel",
            "_view_count": null,
            "_view_module": "@jupyter-widgets/base",
            "_view_module_version": "1.2.0",
            "_view_name": "LayoutView",
            "align_content": null,
            "align_items": null,
            "align_self": null,
            "border": null,
            "bottom": null,
            "display": null,
            "flex": null,
            "flex_flow": null,
            "grid_area": null,
            "grid_auto_columns": null,
            "grid_auto_flow": null,
            "grid_auto_rows": null,
            "grid_column": null,
            "grid_gap": null,
            "grid_row": null,
            "grid_template_areas": null,
            "grid_template_columns": null,
            "grid_template_rows": null,
            "height": null,
            "justify_content": null,
            "justify_items": null,
            "left": null,
            "margin": null,
            "max_height": null,
            "max_width": null,
            "min_height": null,
            "min_width": null,
            "object_fit": null,
            "object_position": null,
            "order": null,
            "overflow": null,
            "overflow_x": null,
            "overflow_y": null,
            "padding": null,
            "right": null,
            "top": null,
            "visibility": null,
            "width": null
          }
        },
        "bc9de6669b79450b9b4d0616f6bd3ff5": {
          "model_module": "@jupyter-widgets/controls",
          "model_name": "ProgressStyleModel",
          "model_module_version": "1.5.0",
          "state": {
            "_model_module": "@jupyter-widgets/controls",
            "_model_module_version": "1.5.0",
            "_model_name": "ProgressStyleModel",
            "_view_count": null,
            "_view_module": "@jupyter-widgets/base",
            "_view_module_version": "1.2.0",
            "_view_name": "StyleView",
            "bar_color": null,
            "description_width": ""
          }
        },
        "f336b19392f14621b5552d644dbf57b0": {
          "model_module": "@jupyter-widgets/base",
          "model_name": "LayoutModel",
          "model_module_version": "1.2.0",
          "state": {
            "_model_module": "@jupyter-widgets/base",
            "_model_module_version": "1.2.0",
            "_model_name": "LayoutModel",
            "_view_count": null,
            "_view_module": "@jupyter-widgets/base",
            "_view_module_version": "1.2.0",
            "_view_name": "LayoutView",
            "align_content": null,
            "align_items": null,
            "align_self": null,
            "border": null,
            "bottom": null,
            "display": null,
            "flex": null,
            "flex_flow": null,
            "grid_area": null,
            "grid_auto_columns": null,
            "grid_auto_flow": null,
            "grid_auto_rows": null,
            "grid_column": null,
            "grid_gap": null,
            "grid_row": null,
            "grid_template_areas": null,
            "grid_template_columns": null,
            "grid_template_rows": null,
            "height": null,
            "justify_content": null,
            "justify_items": null,
            "left": null,
            "margin": null,
            "max_height": null,
            "max_width": null,
            "min_height": null,
            "min_width": null,
            "object_fit": null,
            "object_position": null,
            "order": null,
            "overflow": null,
            "overflow_x": null,
            "overflow_y": null,
            "padding": null,
            "right": null,
            "top": null,
            "visibility": null,
            "width": null
          }
        },
        "3cc5bbde61504635a52a5d14b1784c65": {
          "model_module": "@jupyter-widgets/controls",
          "model_name": "DescriptionStyleModel",
          "model_module_version": "1.5.0",
          "state": {
            "_model_module": "@jupyter-widgets/controls",
            "_model_module_version": "1.5.0",
            "_model_name": "DescriptionStyleModel",
            "_view_count": null,
            "_view_module": "@jupyter-widgets/base",
            "_view_module_version": "1.2.0",
            "_view_name": "StyleView",
            "description_width": ""
          }
        },
        "61954cc92d7040b287cd80e633924745": {
          "model_module": "@jupyter-widgets/controls",
          "model_name": "HBoxModel",
          "model_module_version": "1.5.0",
          "state": {
            "_dom_classes": [],
            "_model_module": "@jupyter-widgets/controls",
            "_model_module_version": "1.5.0",
            "_model_name": "HBoxModel",
            "_view_count": null,
            "_view_module": "@jupyter-widgets/controls",
            "_view_module_version": "1.5.0",
            "_view_name": "HBoxView",
            "box_style": "",
            "children": [
              "IPY_MODEL_348e1d2a74dc45fa91f15eca1686899a",
              "IPY_MODEL_2dc7a3f48d3b40e699eaa551cc418df4",
              "IPY_MODEL_dcee58555e4f4cf3987647845ecf45aa"
            ],
            "layout": "IPY_MODEL_9969a5a2a6bc4c39a3b4339caa41995c"
          }
        },
        "348e1d2a74dc45fa91f15eca1686899a": {
          "model_module": "@jupyter-widgets/controls",
          "model_name": "HTMLModel",
          "model_module_version": "1.5.0",
          "state": {
            "_dom_classes": [],
            "_model_module": "@jupyter-widgets/controls",
            "_model_module_version": "1.5.0",
            "_model_name": "HTMLModel",
            "_view_count": null,
            "_view_module": "@jupyter-widgets/controls",
            "_view_module_version": "1.5.0",
            "_view_name": "HTMLView",
            "description": "",
            "description_tooltip": null,
            "layout": "IPY_MODEL_5b7c227973ca4b3dae719ad7874ab545",
            "placeholder": "​",
            "style": "IPY_MODEL_9a94252e93a240fda89b5e8afdc444d0",
            "value": "100%"
          }
        },
        "2dc7a3f48d3b40e699eaa551cc418df4": {
          "model_module": "@jupyter-widgets/controls",
          "model_name": "FloatProgressModel",
          "model_module_version": "1.5.0",
          "state": {
            "_dom_classes": [],
            "_model_module": "@jupyter-widgets/controls",
            "_model_module_version": "1.5.0",
            "_model_name": "FloatProgressModel",
            "_view_count": null,
            "_view_module": "@jupyter-widgets/controls",
            "_view_module_version": "1.5.0",
            "_view_name": "ProgressView",
            "bar_style": "success",
            "description": "",
            "description_tooltip": null,
            "layout": "IPY_MODEL_73e66707a86f4fa3b9b656b0972b98cc",
            "max": 1000,
            "min": 0,
            "orientation": "horizontal",
            "style": "IPY_MODEL_09cc6cc369234a99821513e243a5d448",
            "value": 1000
          }
        },
        "dcee58555e4f4cf3987647845ecf45aa": {
          "model_module": "@jupyter-widgets/controls",
          "model_name": "HTMLModel",
          "model_module_version": "1.5.0",
          "state": {
            "_dom_classes": [],
            "_model_module": "@jupyter-widgets/controls",
            "_model_module_version": "1.5.0",
            "_model_name": "HTMLModel",
            "_view_count": null,
            "_view_module": "@jupyter-widgets/controls",
            "_view_module_version": "1.5.0",
            "_view_name": "HTMLView",
            "description": "",
            "description_tooltip": null,
            "layout": "IPY_MODEL_534a3eef1b77458796bba906a57c6272",
            "placeholder": "​",
            "style": "IPY_MODEL_e8c0d4b7c9d647828d64653c19345bb5",
            "value": " 1000/1000 [06:41&lt;00:00,  2.53it/s, loss=7.2e-5]"
          }
        },
        "9969a5a2a6bc4c39a3b4339caa41995c": {
          "model_module": "@jupyter-widgets/base",
          "model_name": "LayoutModel",
          "model_module_version": "1.2.0",
          "state": {
            "_model_module": "@jupyter-widgets/base",
            "_model_module_version": "1.2.0",
            "_model_name": "LayoutModel",
            "_view_count": null,
            "_view_module": "@jupyter-widgets/base",
            "_view_module_version": "1.2.0",
            "_view_name": "LayoutView",
            "align_content": null,
            "align_items": null,
            "align_self": null,
            "border": null,
            "bottom": null,
            "display": null,
            "flex": null,
            "flex_flow": null,
            "grid_area": null,
            "grid_auto_columns": null,
            "grid_auto_flow": null,
            "grid_auto_rows": null,
            "grid_column": null,
            "grid_gap": null,
            "grid_row": null,
            "grid_template_areas": null,
            "grid_template_columns": null,
            "grid_template_rows": null,
            "height": null,
            "justify_content": null,
            "justify_items": null,
            "left": null,
            "margin": null,
            "max_height": null,
            "max_width": null,
            "min_height": null,
            "min_width": null,
            "object_fit": null,
            "object_position": null,
            "order": null,
            "overflow": null,
            "overflow_x": null,
            "overflow_y": null,
            "padding": null,
            "right": null,
            "top": null,
            "visibility": null,
            "width": null
          }
        },
        "5b7c227973ca4b3dae719ad7874ab545": {
          "model_module": "@jupyter-widgets/base",
          "model_name": "LayoutModel",
          "model_module_version": "1.2.0",
          "state": {
            "_model_module": "@jupyter-widgets/base",
            "_model_module_version": "1.2.0",
            "_model_name": "LayoutModel",
            "_view_count": null,
            "_view_module": "@jupyter-widgets/base",
            "_view_module_version": "1.2.0",
            "_view_name": "LayoutView",
            "align_content": null,
            "align_items": null,
            "align_self": null,
            "border": null,
            "bottom": null,
            "display": null,
            "flex": null,
            "flex_flow": null,
            "grid_area": null,
            "grid_auto_columns": null,
            "grid_auto_flow": null,
            "grid_auto_rows": null,
            "grid_column": null,
            "grid_gap": null,
            "grid_row": null,
            "grid_template_areas": null,
            "grid_template_columns": null,
            "grid_template_rows": null,
            "height": null,
            "justify_content": null,
            "justify_items": null,
            "left": null,
            "margin": null,
            "max_height": null,
            "max_width": null,
            "min_height": null,
            "min_width": null,
            "object_fit": null,
            "object_position": null,
            "order": null,
            "overflow": null,
            "overflow_x": null,
            "overflow_y": null,
            "padding": null,
            "right": null,
            "top": null,
            "visibility": null,
            "width": null
          }
        },
        "9a94252e93a240fda89b5e8afdc444d0": {
          "model_module": "@jupyter-widgets/controls",
          "model_name": "DescriptionStyleModel",
          "model_module_version": "1.5.0",
          "state": {
            "_model_module": "@jupyter-widgets/controls",
            "_model_module_version": "1.5.0",
            "_model_name": "DescriptionStyleModel",
            "_view_count": null,
            "_view_module": "@jupyter-widgets/base",
            "_view_module_version": "1.2.0",
            "_view_name": "StyleView",
            "description_width": ""
          }
        },
        "73e66707a86f4fa3b9b656b0972b98cc": {
          "model_module": "@jupyter-widgets/base",
          "model_name": "LayoutModel",
          "model_module_version": "1.2.0",
          "state": {
            "_model_module": "@jupyter-widgets/base",
            "_model_module_version": "1.2.0",
            "_model_name": "LayoutModel",
            "_view_count": null,
            "_view_module": "@jupyter-widgets/base",
            "_view_module_version": "1.2.0",
            "_view_name": "LayoutView",
            "align_content": null,
            "align_items": null,
            "align_self": null,
            "border": null,
            "bottom": null,
            "display": null,
            "flex": null,
            "flex_flow": null,
            "grid_area": null,
            "grid_auto_columns": null,
            "grid_auto_flow": null,
            "grid_auto_rows": null,
            "grid_column": null,
            "grid_gap": null,
            "grid_row": null,
            "grid_template_areas": null,
            "grid_template_columns": null,
            "grid_template_rows": null,
            "height": null,
            "justify_content": null,
            "justify_items": null,
            "left": null,
            "margin": null,
            "max_height": null,
            "max_width": null,
            "min_height": null,
            "min_width": null,
            "object_fit": null,
            "object_position": null,
            "order": null,
            "overflow": null,
            "overflow_x": null,
            "overflow_y": null,
            "padding": null,
            "right": null,
            "top": null,
            "visibility": null,
            "width": null
          }
        },
        "09cc6cc369234a99821513e243a5d448": {
          "model_module": "@jupyter-widgets/controls",
          "model_name": "ProgressStyleModel",
          "model_module_version": "1.5.0",
          "state": {
            "_model_module": "@jupyter-widgets/controls",
            "_model_module_version": "1.5.0",
            "_model_name": "ProgressStyleModel",
            "_view_count": null,
            "_view_module": "@jupyter-widgets/base",
            "_view_module_version": "1.2.0",
            "_view_name": "StyleView",
            "bar_color": null,
            "description_width": ""
          }
        },
        "534a3eef1b77458796bba906a57c6272": {
          "model_module": "@jupyter-widgets/base",
          "model_name": "LayoutModel",
          "model_module_version": "1.2.0",
          "state": {
            "_model_module": "@jupyter-widgets/base",
            "_model_module_version": "1.2.0",
            "_model_name": "LayoutModel",
            "_view_count": null,
            "_view_module": "@jupyter-widgets/base",
            "_view_module_version": "1.2.0",
            "_view_name": "LayoutView",
            "align_content": null,
            "align_items": null,
            "align_self": null,
            "border": null,
            "bottom": null,
            "display": null,
            "flex": null,
            "flex_flow": null,
            "grid_area": null,
            "grid_auto_columns": null,
            "grid_auto_flow": null,
            "grid_auto_rows": null,
            "grid_column": null,
            "grid_gap": null,
            "grid_row": null,
            "grid_template_areas": null,
            "grid_template_columns": null,
            "grid_template_rows": null,
            "height": null,
            "justify_content": null,
            "justify_items": null,
            "left": null,
            "margin": null,
            "max_height": null,
            "max_width": null,
            "min_height": null,
            "min_width": null,
            "object_fit": null,
            "object_position": null,
            "order": null,
            "overflow": null,
            "overflow_x": null,
            "overflow_y": null,
            "padding": null,
            "right": null,
            "top": null,
            "visibility": null,
            "width": null
          }
        },
        "e8c0d4b7c9d647828d64653c19345bb5": {
          "model_module": "@jupyter-widgets/controls",
          "model_name": "DescriptionStyleModel",
          "model_module_version": "1.5.0",
          "state": {
            "_model_module": "@jupyter-widgets/controls",
            "_model_module_version": "1.5.0",
            "_model_name": "DescriptionStyleModel",
            "_view_count": null,
            "_view_module": "@jupyter-widgets/base",
            "_view_module_version": "1.2.0",
            "_view_name": "StyleView",
            "description_width": ""
          }
        },
        "4f5b2f609bb644b4b07b4ae1ce70dd0f": {
          "model_module": "@jupyter-widgets/controls",
          "model_name": "HBoxModel",
          "model_module_version": "1.5.0",
          "state": {
            "_dom_classes": [],
            "_model_module": "@jupyter-widgets/controls",
            "_model_module_version": "1.5.0",
            "_model_name": "HBoxModel",
            "_view_count": null,
            "_view_module": "@jupyter-widgets/controls",
            "_view_module_version": "1.5.0",
            "_view_name": "HBoxView",
            "box_style": "",
            "children": [
              "IPY_MODEL_43b338303848423999928fafab20cd5f",
              "IPY_MODEL_15a2289180ff42e88933cde4a9a0ee55",
              "IPY_MODEL_ae615178c68849c99bc2f8f43631f810"
            ],
            "layout": "IPY_MODEL_5add9f5534b94f53b0453c0e85043401"
          }
        },
        "43b338303848423999928fafab20cd5f": {
          "model_module": "@jupyter-widgets/controls",
          "model_name": "HTMLModel",
          "model_module_version": "1.5.0",
          "state": {
            "_dom_classes": [],
            "_model_module": "@jupyter-widgets/controls",
            "_model_module_version": "1.5.0",
            "_model_name": "HTMLModel",
            "_view_count": null,
            "_view_module": "@jupyter-widgets/controls",
            "_view_module_version": "1.5.0",
            "_view_name": "HTMLView",
            "description": "",
            "description_tooltip": null,
            "layout": "IPY_MODEL_899f5f650dc2408590638195acef425a",
            "placeholder": "​",
            "style": "IPY_MODEL_2f1d662a94fc4562b7304ef6270dd62d",
            "value": "100%"
          }
        },
        "15a2289180ff42e88933cde4a9a0ee55": {
          "model_module": "@jupyter-widgets/controls",
          "model_name": "FloatProgressModel",
          "model_module_version": "1.5.0",
          "state": {
            "_dom_classes": [],
            "_model_module": "@jupyter-widgets/controls",
            "_model_module_version": "1.5.0",
            "_model_name": "FloatProgressModel",
            "_view_count": null,
            "_view_module": "@jupyter-widgets/controls",
            "_view_module_version": "1.5.0",
            "_view_name": "ProgressView",
            "bar_style": "success",
            "description": "",
            "description_tooltip": null,
            "layout": "IPY_MODEL_6b36e20974644e3ab8fee1454c147d24",
            "max": 100,
            "min": 0,
            "orientation": "horizontal",
            "style": "IPY_MODEL_abc6e7ca0f914e148925b8effaf029ed",
            "value": 100
          }
        },
        "ae615178c68849c99bc2f8f43631f810": {
          "model_module": "@jupyter-widgets/controls",
          "model_name": "HTMLModel",
          "model_module_version": "1.5.0",
          "state": {
            "_dom_classes": [],
            "_model_module": "@jupyter-widgets/controls",
            "_model_module_version": "1.5.0",
            "_model_name": "HTMLModel",
            "_view_count": null,
            "_view_module": "@jupyter-widgets/controls",
            "_view_module_version": "1.5.0",
            "_view_name": "HTMLView",
            "description": "",
            "description_tooltip": null,
            "layout": "IPY_MODEL_2c76abfdc29c453095234b1a7e1dfe8f",
            "placeholder": "​",
            "style": "IPY_MODEL_dc594fb3011b451081365696fedc272e",
            "value": " 100/100 [05:04&lt;00:00,  2.88s/it]"
          }
        },
        "5add9f5534b94f53b0453c0e85043401": {
          "model_module": "@jupyter-widgets/base",
          "model_name": "LayoutModel",
          "model_module_version": "1.2.0",
          "state": {
            "_model_module": "@jupyter-widgets/base",
            "_model_module_version": "1.2.0",
            "_model_name": "LayoutModel",
            "_view_count": null,
            "_view_module": "@jupyter-widgets/base",
            "_view_module_version": "1.2.0",
            "_view_name": "LayoutView",
            "align_content": null,
            "align_items": null,
            "align_self": null,
            "border": null,
            "bottom": null,
            "display": null,
            "flex": null,
            "flex_flow": null,
            "grid_area": null,
            "grid_auto_columns": null,
            "grid_auto_flow": null,
            "grid_auto_rows": null,
            "grid_column": null,
            "grid_gap": null,
            "grid_row": null,
            "grid_template_areas": null,
            "grid_template_columns": null,
            "grid_template_rows": null,
            "height": null,
            "justify_content": null,
            "justify_items": null,
            "left": null,
            "margin": null,
            "max_height": null,
            "max_width": null,
            "min_height": null,
            "min_width": null,
            "object_fit": null,
            "object_position": null,
            "order": null,
            "overflow": null,
            "overflow_x": null,
            "overflow_y": null,
            "padding": null,
            "right": null,
            "top": null,
            "visibility": null,
            "width": null
          }
        },
        "899f5f650dc2408590638195acef425a": {
          "model_module": "@jupyter-widgets/base",
          "model_name": "LayoutModel",
          "model_module_version": "1.2.0",
          "state": {
            "_model_module": "@jupyter-widgets/base",
            "_model_module_version": "1.2.0",
            "_model_name": "LayoutModel",
            "_view_count": null,
            "_view_module": "@jupyter-widgets/base",
            "_view_module_version": "1.2.0",
            "_view_name": "LayoutView",
            "align_content": null,
            "align_items": null,
            "align_self": null,
            "border": null,
            "bottom": null,
            "display": null,
            "flex": null,
            "flex_flow": null,
            "grid_area": null,
            "grid_auto_columns": null,
            "grid_auto_flow": null,
            "grid_auto_rows": null,
            "grid_column": null,
            "grid_gap": null,
            "grid_row": null,
            "grid_template_areas": null,
            "grid_template_columns": null,
            "grid_template_rows": null,
            "height": null,
            "justify_content": null,
            "justify_items": null,
            "left": null,
            "margin": null,
            "max_height": null,
            "max_width": null,
            "min_height": null,
            "min_width": null,
            "object_fit": null,
            "object_position": null,
            "order": null,
            "overflow": null,
            "overflow_x": null,
            "overflow_y": null,
            "padding": null,
            "right": null,
            "top": null,
            "visibility": null,
            "width": null
          }
        },
        "2f1d662a94fc4562b7304ef6270dd62d": {
          "model_module": "@jupyter-widgets/controls",
          "model_name": "DescriptionStyleModel",
          "model_module_version": "1.5.0",
          "state": {
            "_model_module": "@jupyter-widgets/controls",
            "_model_module_version": "1.5.0",
            "_model_name": "DescriptionStyleModel",
            "_view_count": null,
            "_view_module": "@jupyter-widgets/base",
            "_view_module_version": "1.2.0",
            "_view_name": "StyleView",
            "description_width": ""
          }
        },
        "6b36e20974644e3ab8fee1454c147d24": {
          "model_module": "@jupyter-widgets/base",
          "model_name": "LayoutModel",
          "model_module_version": "1.2.0",
          "state": {
            "_model_module": "@jupyter-widgets/base",
            "_model_module_version": "1.2.0",
            "_model_name": "LayoutModel",
            "_view_count": null,
            "_view_module": "@jupyter-widgets/base",
            "_view_module_version": "1.2.0",
            "_view_name": "LayoutView",
            "align_content": null,
            "align_items": null,
            "align_self": null,
            "border": null,
            "bottom": null,
            "display": null,
            "flex": null,
            "flex_flow": null,
            "grid_area": null,
            "grid_auto_columns": null,
            "grid_auto_flow": null,
            "grid_auto_rows": null,
            "grid_column": null,
            "grid_gap": null,
            "grid_row": null,
            "grid_template_areas": null,
            "grid_template_columns": null,
            "grid_template_rows": null,
            "height": null,
            "justify_content": null,
            "justify_items": null,
            "left": null,
            "margin": null,
            "max_height": null,
            "max_width": null,
            "min_height": null,
            "min_width": null,
            "object_fit": null,
            "object_position": null,
            "order": null,
            "overflow": null,
            "overflow_x": null,
            "overflow_y": null,
            "padding": null,
            "right": null,
            "top": null,
            "visibility": null,
            "width": null
          }
        },
        "abc6e7ca0f914e148925b8effaf029ed": {
          "model_module": "@jupyter-widgets/controls",
          "model_name": "ProgressStyleModel",
          "model_module_version": "1.5.0",
          "state": {
            "_model_module": "@jupyter-widgets/controls",
            "_model_module_version": "1.5.0",
            "_model_name": "ProgressStyleModel",
            "_view_count": null,
            "_view_module": "@jupyter-widgets/base",
            "_view_module_version": "1.2.0",
            "_view_name": "StyleView",
            "bar_color": null,
            "description_width": ""
          }
        },
        "2c76abfdc29c453095234b1a7e1dfe8f": {
          "model_module": "@jupyter-widgets/base",
          "model_name": "LayoutModel",
          "model_module_version": "1.2.0",
          "state": {
            "_model_module": "@jupyter-widgets/base",
            "_model_module_version": "1.2.0",
            "_model_name": "LayoutModel",
            "_view_count": null,
            "_view_module": "@jupyter-widgets/base",
            "_view_module_version": "1.2.0",
            "_view_name": "LayoutView",
            "align_content": null,
            "align_items": null,
            "align_self": null,
            "border": null,
            "bottom": null,
            "display": null,
            "flex": null,
            "flex_flow": null,
            "grid_area": null,
            "grid_auto_columns": null,
            "grid_auto_flow": null,
            "grid_auto_rows": null,
            "grid_column": null,
            "grid_gap": null,
            "grid_row": null,
            "grid_template_areas": null,
            "grid_template_columns": null,
            "grid_template_rows": null,
            "height": null,
            "justify_content": null,
            "justify_items": null,
            "left": null,
            "margin": null,
            "max_height": null,
            "max_width": null,
            "min_height": null,
            "min_width": null,
            "object_fit": null,
            "object_position": null,
            "order": null,
            "overflow": null,
            "overflow_x": null,
            "overflow_y": null,
            "padding": null,
            "right": null,
            "top": null,
            "visibility": null,
            "width": null
          }
        },
        "dc594fb3011b451081365696fedc272e": {
          "model_module": "@jupyter-widgets/controls",
          "model_name": "DescriptionStyleModel",
          "model_module_version": "1.5.0",
          "state": {
            "_model_module": "@jupyter-widgets/controls",
            "_model_module_version": "1.5.0",
            "_model_name": "DescriptionStyleModel",
            "_view_count": null,
            "_view_module": "@jupyter-widgets/base",
            "_view_module_version": "1.2.0",
            "_view_name": "StyleView",
            "description_width": ""
          }
        },
        "a90e4ca2eccf435a9f7e576d24809ae5": {
          "model_module": "@jupyter-widgets/controls",
          "model_name": "HBoxModel",
          "model_module_version": "1.5.0",
          "state": {
            "_dom_classes": [],
            "_model_module": "@jupyter-widgets/controls",
            "_model_module_version": "1.5.0",
            "_model_name": "HBoxModel",
            "_view_count": null,
            "_view_module": "@jupyter-widgets/controls",
            "_view_module_version": "1.5.0",
            "_view_name": "HBoxView",
            "box_style": "",
            "children": [
              "IPY_MODEL_3c6e50e9a333473eb2937724690a2b9e",
              "IPY_MODEL_c7cc63d6504642d89f4da1b508824ff7",
              "IPY_MODEL_463f42ec6d5c4eebbae90919cc3c3ef4"
            ],
            "layout": "IPY_MODEL_3110b32e4e90431eb1357500aae13163"
          }
        },
        "3c6e50e9a333473eb2937724690a2b9e": {
          "model_module": "@jupyter-widgets/controls",
          "model_name": "HTMLModel",
          "model_module_version": "1.5.0",
          "state": {
            "_dom_classes": [],
            "_model_module": "@jupyter-widgets/controls",
            "_model_module_version": "1.5.0",
            "_model_name": "HTMLModel",
            "_view_count": null,
            "_view_module": "@jupyter-widgets/controls",
            "_view_module_version": "1.5.0",
            "_view_name": "HTMLView",
            "description": "",
            "description_tooltip": null,
            "layout": "IPY_MODEL_5935e4ca13ee4ed5a3dc490c3f8b5e6e",
            "placeholder": "​",
            "style": "IPY_MODEL_0b6a67a34e4c4ba09cf7d00f75db4c73",
            "value": "100%"
          }
        },
        "c7cc63d6504642d89f4da1b508824ff7": {
          "model_module": "@jupyter-widgets/controls",
          "model_name": "FloatProgressModel",
          "model_module_version": "1.5.0",
          "state": {
            "_dom_classes": [],
            "_model_module": "@jupyter-widgets/controls",
            "_model_module_version": "1.5.0",
            "_model_name": "FloatProgressModel",
            "_view_count": null,
            "_view_module": "@jupyter-widgets/controls",
            "_view_module_version": "1.5.0",
            "_view_name": "ProgressView",
            "bar_style": "success",
            "description": "",
            "description_tooltip": null,
            "layout": "IPY_MODEL_f62a90e748624b22bf96d0e70f90f33f",
            "max": 100,
            "min": 0,
            "orientation": "horizontal",
            "style": "IPY_MODEL_3d3d9ec067244bd2bee4d09ca58d47c7",
            "value": 100
          }
        },
        "463f42ec6d5c4eebbae90919cc3c3ef4": {
          "model_module": "@jupyter-widgets/controls",
          "model_name": "HTMLModel",
          "model_module_version": "1.5.0",
          "state": {
            "_dom_classes": [],
            "_model_module": "@jupyter-widgets/controls",
            "_model_module_version": "1.5.0",
            "_model_name": "HTMLModel",
            "_view_count": null,
            "_view_module": "@jupyter-widgets/controls",
            "_view_module_version": "1.5.0",
            "_view_name": "HTMLView",
            "description": "",
            "description_tooltip": null,
            "layout": "IPY_MODEL_240b7f0ffb664184bac69dcd657d9893",
            "placeholder": "​",
            "style": "IPY_MODEL_590ce0cb528d49d79cb2a5a979250d54",
            "value": " 100/100 [05:24&lt;00:00,  2.90s/it]"
          }
        },
        "3110b32e4e90431eb1357500aae13163": {
          "model_module": "@jupyter-widgets/base",
          "model_name": "LayoutModel",
          "model_module_version": "1.2.0",
          "state": {
            "_model_module": "@jupyter-widgets/base",
            "_model_module_version": "1.2.0",
            "_model_name": "LayoutModel",
            "_view_count": null,
            "_view_module": "@jupyter-widgets/base",
            "_view_module_version": "1.2.0",
            "_view_name": "LayoutView",
            "align_content": null,
            "align_items": null,
            "align_self": null,
            "border": null,
            "bottom": null,
            "display": null,
            "flex": null,
            "flex_flow": null,
            "grid_area": null,
            "grid_auto_columns": null,
            "grid_auto_flow": null,
            "grid_auto_rows": null,
            "grid_column": null,
            "grid_gap": null,
            "grid_row": null,
            "grid_template_areas": null,
            "grid_template_columns": null,
            "grid_template_rows": null,
            "height": null,
            "justify_content": null,
            "justify_items": null,
            "left": null,
            "margin": null,
            "max_height": null,
            "max_width": null,
            "min_height": null,
            "min_width": null,
            "object_fit": null,
            "object_position": null,
            "order": null,
            "overflow": null,
            "overflow_x": null,
            "overflow_y": null,
            "padding": null,
            "right": null,
            "top": null,
            "visibility": null,
            "width": null
          }
        },
        "5935e4ca13ee4ed5a3dc490c3f8b5e6e": {
          "model_module": "@jupyter-widgets/base",
          "model_name": "LayoutModel",
          "model_module_version": "1.2.0",
          "state": {
            "_model_module": "@jupyter-widgets/base",
            "_model_module_version": "1.2.0",
            "_model_name": "LayoutModel",
            "_view_count": null,
            "_view_module": "@jupyter-widgets/base",
            "_view_module_version": "1.2.0",
            "_view_name": "LayoutView",
            "align_content": null,
            "align_items": null,
            "align_self": null,
            "border": null,
            "bottom": null,
            "display": null,
            "flex": null,
            "flex_flow": null,
            "grid_area": null,
            "grid_auto_columns": null,
            "grid_auto_flow": null,
            "grid_auto_rows": null,
            "grid_column": null,
            "grid_gap": null,
            "grid_row": null,
            "grid_template_areas": null,
            "grid_template_columns": null,
            "grid_template_rows": null,
            "height": null,
            "justify_content": null,
            "justify_items": null,
            "left": null,
            "margin": null,
            "max_height": null,
            "max_width": null,
            "min_height": null,
            "min_width": null,
            "object_fit": null,
            "object_position": null,
            "order": null,
            "overflow": null,
            "overflow_x": null,
            "overflow_y": null,
            "padding": null,
            "right": null,
            "top": null,
            "visibility": null,
            "width": null
          }
        },
        "0b6a67a34e4c4ba09cf7d00f75db4c73": {
          "model_module": "@jupyter-widgets/controls",
          "model_name": "DescriptionStyleModel",
          "model_module_version": "1.5.0",
          "state": {
            "_model_module": "@jupyter-widgets/controls",
            "_model_module_version": "1.5.0",
            "_model_name": "DescriptionStyleModel",
            "_view_count": null,
            "_view_module": "@jupyter-widgets/base",
            "_view_module_version": "1.2.0",
            "_view_name": "StyleView",
            "description_width": ""
          }
        },
        "f62a90e748624b22bf96d0e70f90f33f": {
          "model_module": "@jupyter-widgets/base",
          "model_name": "LayoutModel",
          "model_module_version": "1.2.0",
          "state": {
            "_model_module": "@jupyter-widgets/base",
            "_model_module_version": "1.2.0",
            "_model_name": "LayoutModel",
            "_view_count": null,
            "_view_module": "@jupyter-widgets/base",
            "_view_module_version": "1.2.0",
            "_view_name": "LayoutView",
            "align_content": null,
            "align_items": null,
            "align_self": null,
            "border": null,
            "bottom": null,
            "display": null,
            "flex": null,
            "flex_flow": null,
            "grid_area": null,
            "grid_auto_columns": null,
            "grid_auto_flow": null,
            "grid_auto_rows": null,
            "grid_column": null,
            "grid_gap": null,
            "grid_row": null,
            "grid_template_areas": null,
            "grid_template_columns": null,
            "grid_template_rows": null,
            "height": null,
            "justify_content": null,
            "justify_items": null,
            "left": null,
            "margin": null,
            "max_height": null,
            "max_width": null,
            "min_height": null,
            "min_width": null,
            "object_fit": null,
            "object_position": null,
            "order": null,
            "overflow": null,
            "overflow_x": null,
            "overflow_y": null,
            "padding": null,
            "right": null,
            "top": null,
            "visibility": null,
            "width": null
          }
        },
        "3d3d9ec067244bd2bee4d09ca58d47c7": {
          "model_module": "@jupyter-widgets/controls",
          "model_name": "ProgressStyleModel",
          "model_module_version": "1.5.0",
          "state": {
            "_model_module": "@jupyter-widgets/controls",
            "_model_module_version": "1.5.0",
            "_model_name": "ProgressStyleModel",
            "_view_count": null,
            "_view_module": "@jupyter-widgets/base",
            "_view_module_version": "1.2.0",
            "_view_name": "StyleView",
            "bar_color": null,
            "description_width": ""
          }
        },
        "240b7f0ffb664184bac69dcd657d9893": {
          "model_module": "@jupyter-widgets/base",
          "model_name": "LayoutModel",
          "model_module_version": "1.2.0",
          "state": {
            "_model_module": "@jupyter-widgets/base",
            "_model_module_version": "1.2.0",
            "_model_name": "LayoutModel",
            "_view_count": null,
            "_view_module": "@jupyter-widgets/base",
            "_view_module_version": "1.2.0",
            "_view_name": "LayoutView",
            "align_content": null,
            "align_items": null,
            "align_self": null,
            "border": null,
            "bottom": null,
            "display": null,
            "flex": null,
            "flex_flow": null,
            "grid_area": null,
            "grid_auto_columns": null,
            "grid_auto_flow": null,
            "grid_auto_rows": null,
            "grid_column": null,
            "grid_gap": null,
            "grid_row": null,
            "grid_template_areas": null,
            "grid_template_columns": null,
            "grid_template_rows": null,
            "height": null,
            "justify_content": null,
            "justify_items": null,
            "left": null,
            "margin": null,
            "max_height": null,
            "max_width": null,
            "min_height": null,
            "min_width": null,
            "object_fit": null,
            "object_position": null,
            "order": null,
            "overflow": null,
            "overflow_x": null,
            "overflow_y": null,
            "padding": null,
            "right": null,
            "top": null,
            "visibility": null,
            "width": null
          }
        },
        "590ce0cb528d49d79cb2a5a979250d54": {
          "model_module": "@jupyter-widgets/controls",
          "model_name": "DescriptionStyleModel",
          "model_module_version": "1.5.0",
          "state": {
            "_model_module": "@jupyter-widgets/controls",
            "_model_module_version": "1.5.0",
            "_model_name": "DescriptionStyleModel",
            "_view_count": null,
            "_view_module": "@jupyter-widgets/base",
            "_view_module_version": "1.2.0",
            "_view_name": "StyleView",
            "description_width": ""
          }
        }
      }
    }
  },
  "cells": [
    {
      "cell_type": "markdown",
      "source": [
        "## 목표\n",
        "---\n",
        "### 공통\n",
        "**1. CSR matrix가 정상적으로 만들어졌다.**  \n",
        "    - 사용자와 아이템 개수를 바탕으로 정확한 사이즈로 만들었다.\n",
        "\n",
        "**2. MF 모델이 정상적으로 훈련되어 그럴듯한 추천이 이루어졌다.**  \n",
        "    - 사용자와 아이템 벡터 내적수치가 의미있게 형성되었다.\n",
        "\n",
        "**3. 비슷한 영화 찾기와 유저에게 추천하기의 과정이 정상적으로 진행되었다.**  \n",
        "    - MF모델이 예측한 유저 선호도 및 아이템간 유사도, 기여도가 의미있게 측정되었다.\n",
        "\n",
        "---\n",
        "### 개인\n",
        "1. 하이퍼 파라미터를 변경하며 학습변화\n",
        "    - factor를 고정하고 **iteration, regularization 값 변화에 따른 값** 확인\n",
        "    - iteration, regularization를 고정하고 factor 값 변화에 따른 값 확인\n",
        "    - 추가 파라미터인 calculate_training_loss 추가 \n",
        "\n",
        "2. 먼저 **유저별 영화 추천, 좋아하는 영화별 영화 추천** 진행 \n",
        "    - 유저 정보가 없는 신규 유저를 위해, 가입시 입력되는 **연령대를 통한 영화추천**\n"
      ],
      "metadata": {
        "id": "JnEkc0VEOu-c"
      }
    },
    {
      "cell_type": "markdown",
      "source": [
        "## STEP 0. 라이브러리 설정하기\n",
        "--- "
      ],
      "metadata": {
        "id": "HHVLmnSOKruN"
      }
    },
    {
      "cell_type": "markdown",
      "source": [
        "implicit가 코랩에서 import 되지 않아 따로 다운받아준다.  \n",
        "- [참고 github](https://github.com/benfred/implicit/issues/160)"
      ],
      "metadata": {
        "id": "rDssCxtiOtes"
      }
    },
    {
      "cell_type": "code",
      "source": [
        "!pip install implicit"
      ],
      "metadata": {
        "colab": {
          "base_uri": "https://localhost:8080/"
        },
        "id": "GE6kWrw0Rob3",
        "outputId": "8aea2e9d-2eae-4d14-ce68-9c4c521ba06c"
      },
      "execution_count": null,
      "outputs": [
        {
          "output_type": "stream",
          "name": "stdout",
          "text": [
            "Looking in indexes: https://pypi.org/simple, https://us-python.pkg.dev/colab-wheels/public/simple/\n",
            "Collecting implicit\n",
            "  Downloading implicit-0.5.2-cp37-cp37m-manylinux2014_x86_64.whl (18.5 MB)\n",
            "\u001b[K     |████████████████████████████████| 18.5 MB 4.2 MB/s \n",
            "\u001b[?25hRequirement already satisfied: numpy in /usr/local/lib/python3.7/dist-packages (from implicit) (1.21.6)\n",
            "Requirement already satisfied: tqdm>=4.27 in /usr/local/lib/python3.7/dist-packages (from implicit) (4.64.0)\n",
            "Requirement already satisfied: scipy>=0.16 in /usr/local/lib/python3.7/dist-packages (from implicit) (1.4.1)\n",
            "Installing collected packages: implicit\n",
            "Successfully installed implicit-0.5.2\n"
          ]
        }
      ]
    },
    {
      "cell_type": "code",
      "execution_count": null,
      "metadata": {
        "id": "FFADZ1V9KlS8"
      },
      "outputs": [],
      "source": [
        "import numpy as np\n",
        "import scipy\n",
        "import implicit\n",
        "import os\n",
        "import pandas as pd\n",
        "from scipy.sparse import csr_matrix\n",
        "from implicit.als import AlternatingLeastSquares"
      ]
    },
    {
      "cell_type": "code",
      "source": [
        "# 구드 연결\n",
        "from google.colab import drive\n",
        "drive.mount(\"/content/drive\")"
      ],
      "metadata": {
        "colab": {
          "base_uri": "https://localhost:8080/"
        },
        "id": "qZsXYfW6T-I2",
        "outputId": "cf4aa5ee-3556-42e9-a44b-4869f1016859"
      },
      "execution_count": null,
      "outputs": [
        {
          "output_type": "stream",
          "name": "stdout",
          "text": [
            "Mounted at /content/drive\n"
          ]
        }
      ]
    },
    {
      "cell_type": "markdown",
      "source": [
        "## STEP 1. 데이터 준비와 전처리 \n",
        "---\n",
        "- 이번에 활용할 데이터셋은 추천 시스템의 MNIST라고 부를만한 Movielens 데이터입니다.  \n",
        "- Movielens 데이터는 rating.dat 안에 이미 인덱싱까지 완료된 사용자-영화-평점 데이터가 깔끔하게 정리되어 있으니 불러와 줍니다.\n",
        "\n",
        "\n",
        "- data 설명\n",
        "    - 약 3,900편의 영화에 대한 1,000,209개의 익명 등급이 포함됨\n",
        "    - 2000년에 MovieLens에 가입한 6,040명의 MovieLens 사용자가 만듦\n",
        "    - 사용자 ID 범위 : 1 ~ 6040\n",
        "    - MovieID 범위 :  1 ~ 3952\n",
        "    - 등급 : 별 5개 척도\n",
        "    - 타임스탬프 : time(2)에 의해 반환된 epoch 이후 초 단위로 표시됩니다. -> 필요없으니 삭제 예정\n",
        "    - 각 사용자는 최소 20개의 평가를 가지고 있음\n",
        "\n"
      ],
      "metadata": {
        "id": "ilrFDz5dSZX5"
      }
    },
    {
      "cell_type": "code",
      "source": [
        "############ 데이터 로드 ###############\n",
        "path = '/content/drive/MyDrive/COLAB_data/recommend_movie/'\n",
        "\n",
        "rating_file_path = path + 'ratings.dat'\n",
        "ratings_cols = ['user_id', 'movie_id', 'ratings', 'timestamp']\n",
        "\n",
        "ratings = pd.read_csv(rating_file_path, sep = '::', names = ratings_cols, \n",
        "                      engine = 'python', encoding = 'ISO-8859-1')\n",
        "\n",
        "original_data_size = len(ratings)\n",
        "ratings.head()"
      ],
      "metadata": {
        "colab": {
          "base_uri": "https://localhost:8080/",
          "height": 206
        },
        "id": "TDpl9lh4T6t3",
        "outputId": "1efbfd0e-47b7-4fd9-dfdf-c799b50026a4"
      },
      "execution_count": null,
      "outputs": [
        {
          "output_type": "execute_result",
          "data": {
            "text/plain": [
              "   user_id  movie_id  ratings  timestamp\n",
              "0        1      1193        5  978300760\n",
              "1        1       661        3  978302109\n",
              "2        1       914        3  978301968\n",
              "3        1      3408        4  978300275\n",
              "4        1      2355        5  978824291"
            ],
            "text/html": [
              "\n",
              "  <div id=\"df-aab0c0f1-def4-44fc-a2a5-1b19cb6b3d8b\">\n",
              "    <div class=\"colab-df-container\">\n",
              "      <div>\n",
              "<style scoped>\n",
              "    .dataframe tbody tr th:only-of-type {\n",
              "        vertical-align: middle;\n",
              "    }\n",
              "\n",
              "    .dataframe tbody tr th {\n",
              "        vertical-align: top;\n",
              "    }\n",
              "\n",
              "    .dataframe thead th {\n",
              "        text-align: right;\n",
              "    }\n",
              "</style>\n",
              "<table border=\"1\" class=\"dataframe\">\n",
              "  <thead>\n",
              "    <tr style=\"text-align: right;\">\n",
              "      <th></th>\n",
              "      <th>user_id</th>\n",
              "      <th>movie_id</th>\n",
              "      <th>ratings</th>\n",
              "      <th>timestamp</th>\n",
              "    </tr>\n",
              "  </thead>\n",
              "  <tbody>\n",
              "    <tr>\n",
              "      <th>0</th>\n",
              "      <td>1</td>\n",
              "      <td>1193</td>\n",
              "      <td>5</td>\n",
              "      <td>978300760</td>\n",
              "    </tr>\n",
              "    <tr>\n",
              "      <th>1</th>\n",
              "      <td>1</td>\n",
              "      <td>661</td>\n",
              "      <td>3</td>\n",
              "      <td>978302109</td>\n",
              "    </tr>\n",
              "    <tr>\n",
              "      <th>2</th>\n",
              "      <td>1</td>\n",
              "      <td>914</td>\n",
              "      <td>3</td>\n",
              "      <td>978301968</td>\n",
              "    </tr>\n",
              "    <tr>\n",
              "      <th>3</th>\n",
              "      <td>1</td>\n",
              "      <td>3408</td>\n",
              "      <td>4</td>\n",
              "      <td>978300275</td>\n",
              "    </tr>\n",
              "    <tr>\n",
              "      <th>4</th>\n",
              "      <td>1</td>\n",
              "      <td>2355</td>\n",
              "      <td>5</td>\n",
              "      <td>978824291</td>\n",
              "    </tr>\n",
              "  </tbody>\n",
              "</table>\n",
              "</div>\n",
              "      <button class=\"colab-df-convert\" onclick=\"convertToInteractive('df-aab0c0f1-def4-44fc-a2a5-1b19cb6b3d8b')\"\n",
              "              title=\"Convert this dataframe to an interactive table.\"\n",
              "              style=\"display:none;\">\n",
              "        \n",
              "  <svg xmlns=\"http://www.w3.org/2000/svg\" height=\"24px\"viewBox=\"0 0 24 24\"\n",
              "       width=\"24px\">\n",
              "    <path d=\"M0 0h24v24H0V0z\" fill=\"none\"/>\n",
              "    <path d=\"M18.56 5.44l.94 2.06.94-2.06 2.06-.94-2.06-.94-.94-2.06-.94 2.06-2.06.94zm-11 1L8.5 8.5l.94-2.06 2.06-.94-2.06-.94L8.5 2.5l-.94 2.06-2.06.94zm10 10l.94 2.06.94-2.06 2.06-.94-2.06-.94-.94-2.06-.94 2.06-2.06.94z\"/><path d=\"M17.41 7.96l-1.37-1.37c-.4-.4-.92-.59-1.43-.59-.52 0-1.04.2-1.43.59L10.3 9.45l-7.72 7.72c-.78.78-.78 2.05 0 2.83L4 21.41c.39.39.9.59 1.41.59.51 0 1.02-.2 1.41-.59l7.78-7.78 2.81-2.81c.8-.78.8-2.07 0-2.86zM5.41 20L4 18.59l7.72-7.72 1.47 1.35L5.41 20z\"/>\n",
              "  </svg>\n",
              "      </button>\n",
              "      \n",
              "  <style>\n",
              "    .colab-df-container {\n",
              "      display:flex;\n",
              "      flex-wrap:wrap;\n",
              "      gap: 12px;\n",
              "    }\n",
              "\n",
              "    .colab-df-convert {\n",
              "      background-color: #E8F0FE;\n",
              "      border: none;\n",
              "      border-radius: 50%;\n",
              "      cursor: pointer;\n",
              "      display: none;\n",
              "      fill: #1967D2;\n",
              "      height: 32px;\n",
              "      padding: 0 0 0 0;\n",
              "      width: 32px;\n",
              "    }\n",
              "\n",
              "    .colab-df-convert:hover {\n",
              "      background-color: #E2EBFA;\n",
              "      box-shadow: 0px 1px 2px rgba(60, 64, 67, 0.3), 0px 1px 3px 1px rgba(60, 64, 67, 0.15);\n",
              "      fill: #174EA6;\n",
              "    }\n",
              "\n",
              "    [theme=dark] .colab-df-convert {\n",
              "      background-color: #3B4455;\n",
              "      fill: #D2E3FC;\n",
              "    }\n",
              "\n",
              "    [theme=dark] .colab-df-convert:hover {\n",
              "      background-color: #434B5C;\n",
              "      box-shadow: 0px 1px 3px 1px rgba(0, 0, 0, 0.15);\n",
              "      filter: drop-shadow(0px 1px 2px rgba(0, 0, 0, 0.3));\n",
              "      fill: #FFFFFF;\n",
              "    }\n",
              "  </style>\n",
              "\n",
              "      <script>\n",
              "        const buttonEl =\n",
              "          document.querySelector('#df-aab0c0f1-def4-44fc-a2a5-1b19cb6b3d8b button.colab-df-convert');\n",
              "        buttonEl.style.display =\n",
              "          google.colab.kernel.accessAllowed ? 'block' : 'none';\n",
              "\n",
              "        async function convertToInteractive(key) {\n",
              "          const element = document.querySelector('#df-aab0c0f1-def4-44fc-a2a5-1b19cb6b3d8b');\n",
              "          const dataTable =\n",
              "            await google.colab.kernel.invokeFunction('convertToInteractive',\n",
              "                                                     [key], {});\n",
              "          if (!dataTable) return;\n",
              "\n",
              "          const docLinkHtml = 'Like what you see? Visit the ' +\n",
              "            '<a target=\"_blank\" href=https://colab.research.google.com/notebooks/data_table.ipynb>data table notebook</a>'\n",
              "            + ' to learn more about interactive tables.';\n",
              "          element.innerHTML = '';\n",
              "          dataTable['output_type'] = 'display_data';\n",
              "          await google.colab.output.renderOutput(dataTable, element);\n",
              "          const docLink = document.createElement('div');\n",
              "          docLink.innerHTML = docLinkHtml;\n",
              "          element.appendChild(docLink);\n",
              "        }\n",
              "      </script>\n",
              "    </div>\n",
              "  </div>\n",
              "  "
            ]
          },
          "metadata": {},
          "execution_count": 36
        }
      ]
    },
    {
      "cell_type": "markdown",
      "source": [
        "유저가 3점 미만으로 준 데이터는 보통 이하이므로 선호하지 않는다고 가정하고 제외하고, 사용하지 않는 timestamp 칼럼도 제거해준다.  \n",
        "\n",
        "- 이렇게 별점이 아닌 선호/비선호로 나누는 것을 Implicit feed back이라고 하고, 별점같은 수치값으로 나누는 것을 Explicit feed back이라고 한다.  \n",
        "- 현실에는 구매/비구매, 시청/미시청, 클릭/비클릭 처럼 implicit 데이터를 바탕으로 추천을하는 것이 많음.\n",
        "![image.png](data:image/png;base64,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)"
      ],
      "metadata": {
        "id": "tX7PrYVKfhzl"
      }
    },
    {
      "cell_type": "code",
      "source": [
        "ratings = ratings[ratings['ratings'] >= 3]\n",
        "filtered_data_size = len(ratings)\n",
        "\n",
        "print('원본 size : ', original_data_size, '\\n3점 미만 제외 size : ', filtered_data_size)\n",
        "print('남은 데이터의 비율 : {:.2%}'.format((filtered_data_size / original_data_size)))"
      ],
      "metadata": {
        "colab": {
          "base_uri": "https://localhost:8080/"
        },
        "id": "h7ibFH5Yfbke",
        "outputId": "8b6954d0-08f5-444f-d345-61be98428acc"
      },
      "execution_count": null,
      "outputs": [
        {
          "output_type": "stream",
          "name": "stdout",
          "text": [
            "원본 size :  1000209 \n",
            "3점 미만 제외 size :  836478\n",
            "남은 데이터의 비율 : 83.63%\n"
          ]
        }
      ]
    },
    {
      "cell_type": "markdown",
      "source": [
        "약 83%는 선호 데이터로 확보했다. "
      ],
      "metadata": {
        "id": "F0hTtAH3g03v"
      }
    },
    {
      "cell_type": "code",
      "source": [
        "# ratings 컬럼의 이름을 counts로 바꿉니다.\n",
        "ratings.rename(columns = {'ratings' : 'counts'}, inplace = True)"
      ],
      "metadata": {
        "id": "Chptmx2-gTYG"
      },
      "execution_count": null,
      "outputs": []
    },
    {
      "cell_type": "code",
      "source": [
        "#잘 바뀌었나 확인\n",
        "ratings['counts']"
      ],
      "metadata": {
        "colab": {
          "base_uri": "https://localhost:8080/"
        },
        "id": "X-QUIrejhPX4",
        "outputId": "ce639f61-1bda-4827-a6fa-48de8a2b8da2"
      },
      "execution_count": null,
      "outputs": [
        {
          "output_type": "execute_result",
          "data": {
            "text/plain": [
              "0          5\n",
              "1          3\n",
              "2          3\n",
              "3          4\n",
              "4          5\n",
              "          ..\n",
              "1000203    3\n",
              "1000205    5\n",
              "1000206    5\n",
              "1000207    4\n",
              "1000208    4\n",
              "Name: counts, Length: 836478, dtype: int64"
            ]
          },
          "metadata": {},
          "execution_count": 39
        }
      ]
    },
    {
      "cell_type": "code",
      "source": [
        "using_cols = ['user_id', 'movie_id', 'counts']\n",
        "ratings = ratings[using_cols]\n",
        "\n",
        "ratings.head()"
      ],
      "metadata": {
        "colab": {
          "base_uri": "https://localhost:8080/",
          "height": 206
        },
        "id": "IK-RxjGXrT16",
        "outputId": "ea65c36b-6519-42a9-cfb4-299f17a09ea7"
      },
      "execution_count": null,
      "outputs": [
        {
          "output_type": "execute_result",
          "data": {
            "text/plain": [
              "   user_id  movie_id  counts\n",
              "0        1      1193       5\n",
              "1        1       661       3\n",
              "2        1       914       3\n",
              "3        1      3408       4\n",
              "4        1      2355       5"
            ],
            "text/html": [
              "\n",
              "  <div id=\"df-fc77e7f3-74cc-4a2b-bd85-3c2a27556dfa\">\n",
              "    <div class=\"colab-df-container\">\n",
              "      <div>\n",
              "<style scoped>\n",
              "    .dataframe tbody tr th:only-of-type {\n",
              "        vertical-align: middle;\n",
              "    }\n",
              "\n",
              "    .dataframe tbody tr th {\n",
              "        vertical-align: top;\n",
              "    }\n",
              "\n",
              "    .dataframe thead th {\n",
              "        text-align: right;\n",
              "    }\n",
              "</style>\n",
              "<table border=\"1\" class=\"dataframe\">\n",
              "  <thead>\n",
              "    <tr style=\"text-align: right;\">\n",
              "      <th></th>\n",
              "      <th>user_id</th>\n",
              "      <th>movie_id</th>\n",
              "      <th>counts</th>\n",
              "    </tr>\n",
              "  </thead>\n",
              "  <tbody>\n",
              "    <tr>\n",
              "      <th>0</th>\n",
              "      <td>1</td>\n",
              "      <td>1193</td>\n",
              "      <td>5</td>\n",
              "    </tr>\n",
              "    <tr>\n",
              "      <th>1</th>\n",
              "      <td>1</td>\n",
              "      <td>661</td>\n",
              "      <td>3</td>\n",
              "    </tr>\n",
              "    <tr>\n",
              "      <th>2</th>\n",
              "      <td>1</td>\n",
              "      <td>914</td>\n",
              "      <td>3</td>\n",
              "    </tr>\n",
              "    <tr>\n",
              "      <th>3</th>\n",
              "      <td>1</td>\n",
              "      <td>3408</td>\n",
              "      <td>4</td>\n",
              "    </tr>\n",
              "    <tr>\n",
              "      <th>4</th>\n",
              "      <td>1</td>\n",
              "      <td>2355</td>\n",
              "      <td>5</td>\n",
              "    </tr>\n",
              "  </tbody>\n",
              "</table>\n",
              "</div>\n",
              "      <button class=\"colab-df-convert\" onclick=\"convertToInteractive('df-fc77e7f3-74cc-4a2b-bd85-3c2a27556dfa')\"\n",
              "              title=\"Convert this dataframe to an interactive table.\"\n",
              "              style=\"display:none;\">\n",
              "        \n",
              "  <svg xmlns=\"http://www.w3.org/2000/svg\" height=\"24px\"viewBox=\"0 0 24 24\"\n",
              "       width=\"24px\">\n",
              "    <path d=\"M0 0h24v24H0V0z\" fill=\"none\"/>\n",
              "    <path d=\"M18.56 5.44l.94 2.06.94-2.06 2.06-.94-2.06-.94-.94-2.06-.94 2.06-2.06.94zm-11 1L8.5 8.5l.94-2.06 2.06-.94-2.06-.94L8.5 2.5l-.94 2.06-2.06.94zm10 10l.94 2.06.94-2.06 2.06-.94-2.06-.94-.94-2.06-.94 2.06-2.06.94z\"/><path d=\"M17.41 7.96l-1.37-1.37c-.4-.4-.92-.59-1.43-.59-.52 0-1.04.2-1.43.59L10.3 9.45l-7.72 7.72c-.78.78-.78 2.05 0 2.83L4 21.41c.39.39.9.59 1.41.59.51 0 1.02-.2 1.41-.59l7.78-7.78 2.81-2.81c.8-.78.8-2.07 0-2.86zM5.41 20L4 18.59l7.72-7.72 1.47 1.35L5.41 20z\"/>\n",
              "  </svg>\n",
              "      </button>\n",
              "      \n",
              "  <style>\n",
              "    .colab-df-container {\n",
              "      display:flex;\n",
              "      flex-wrap:wrap;\n",
              "      gap: 12px;\n",
              "    }\n",
              "\n",
              "    .colab-df-convert {\n",
              "      background-color: #E8F0FE;\n",
              "      border: none;\n",
              "      border-radius: 50%;\n",
              "      cursor: pointer;\n",
              "      display: none;\n",
              "      fill: #1967D2;\n",
              "      height: 32px;\n",
              "      padding: 0 0 0 0;\n",
              "      width: 32px;\n",
              "    }\n",
              "\n",
              "    .colab-df-convert:hover {\n",
              "      background-color: #E2EBFA;\n",
              "      box-shadow: 0px 1px 2px rgba(60, 64, 67, 0.3), 0px 1px 3px 1px rgba(60, 64, 67, 0.15);\n",
              "      fill: #174EA6;\n",
              "    }\n",
              "\n",
              "    [theme=dark] .colab-df-convert {\n",
              "      background-color: #3B4455;\n",
              "      fill: #D2E3FC;\n",
              "    }\n",
              "\n",
              "    [theme=dark] .colab-df-convert:hover {\n",
              "      background-color: #434B5C;\n",
              "      box-shadow: 0px 1px 3px 1px rgba(0, 0, 0, 0.15);\n",
              "      filter: drop-shadow(0px 1px 2px rgba(0, 0, 0, 0.3));\n",
              "      fill: #FFFFFF;\n",
              "    }\n",
              "  </style>\n",
              "\n",
              "      <script>\n",
              "        const buttonEl =\n",
              "          document.querySelector('#df-fc77e7f3-74cc-4a2b-bd85-3c2a27556dfa button.colab-df-convert');\n",
              "        buttonEl.style.display =\n",
              "          google.colab.kernel.accessAllowed ? 'block' : 'none';\n",
              "\n",
              "        async function convertToInteractive(key) {\n",
              "          const element = document.querySelector('#df-fc77e7f3-74cc-4a2b-bd85-3c2a27556dfa');\n",
              "          const dataTable =\n",
              "            await google.colab.kernel.invokeFunction('convertToInteractive',\n",
              "                                                     [key], {});\n",
              "          if (!dataTable) return;\n",
              "\n",
              "          const docLinkHtml = 'Like what you see? Visit the ' +\n",
              "            '<a target=\"_blank\" href=https://colab.research.google.com/notebooks/data_table.ipynb>data table notebook</a>'\n",
              "            + ' to learn more about interactive tables.';\n",
              "          element.innerHTML = '';\n",
              "          dataTable['output_type'] = 'display_data';\n",
              "          await google.colab.output.renderOutput(dataTable, element);\n",
              "          const docLink = document.createElement('div');\n",
              "          docLink.innerHTML = docLinkHtml;\n",
              "          element.appendChild(docLink);\n",
              "        }\n",
              "      </script>\n",
              "    </div>\n",
              "  </div>\n",
              "  "
            ]
          },
          "metadata": {},
          "execution_count": 40
        }
      ]
    },
    {
      "cell_type": "code",
      "source": [
        "# 영화 특성을 보기 위해 movie 데이터를 읽어옵니다.\n",
        "movie_file_path = path + 'movies.dat'\n",
        "\n",
        "cols = ['movie_id', 'title', 'genre']\n",
        "movies = pd.read_csv(movie_file_path, sep = '::', names=cols,\n",
        "                     engine='python', encoding='ISO-8859-1')\n",
        "\n",
        "movies.head(50)"
      ],
      "metadata": {
        "colab": {
          "base_uri": "https://localhost:8080/",
          "height": 1000
        },
        "id": "MzV3nPBYhTL9",
        "outputId": "5cb9a627-2191-4b1a-f663-7a6679742dbd"
      },
      "execution_count": null,
      "outputs": [
        {
          "output_type": "execute_result",
          "data": {
            "text/plain": [
              "    movie_id                                              title  \\\n",
              "0          1                                   Toy Story (1995)   \n",
              "1          2                                     Jumanji (1995)   \n",
              "2          3                            Grumpier Old Men (1995)   \n",
              "3          4                           Waiting to Exhale (1995)   \n",
              "4          5                 Father of the Bride Part II (1995)   \n",
              "5          6                                        Heat (1995)   \n",
              "6          7                                     Sabrina (1995)   \n",
              "7          8                                Tom and Huck (1995)   \n",
              "8          9                                Sudden Death (1995)   \n",
              "9         10                                   GoldenEye (1995)   \n",
              "10        11                     American President, The (1995)   \n",
              "11        12                 Dracula: Dead and Loving It (1995)   \n",
              "12        13                                       Balto (1995)   \n",
              "13        14                                       Nixon (1995)   \n",
              "14        15                            Cutthroat Island (1995)   \n",
              "15        16                                      Casino (1995)   \n",
              "16        17                       Sense and Sensibility (1995)   \n",
              "17        18                                  Four Rooms (1995)   \n",
              "18        19              Ace Ventura: When Nature Calls (1995)   \n",
              "19        20                                 Money Train (1995)   \n",
              "20        21                                  Get Shorty (1995)   \n",
              "21        22                                     Copycat (1995)   \n",
              "22        23                                   Assassins (1995)   \n",
              "23        24                                      Powder (1995)   \n",
              "24        25                           Leaving Las Vegas (1995)   \n",
              "25        26                                     Othello (1995)   \n",
              "26        27                                Now and Then (1995)   \n",
              "27        28                                  Persuasion (1995)   \n",
              "28        29                  City of Lost Children, The (1995)   \n",
              "29        30  Shanghai Triad (Yao a yao yao dao waipo qiao) ...   \n",
              "30        31                             Dangerous Minds (1995)   \n",
              "31        32                              Twelve Monkeys (1995)   \n",
              "32        33                            Wings of Courage (1995)   \n",
              "33        34                                        Babe (1995)   \n",
              "34        35                                  Carrington (1995)   \n",
              "35        36                            Dead Man Walking (1995)   \n",
              "36        37                      Across the Sea of Time (1995)   \n",
              "37        38                                It Takes Two (1995)   \n",
              "38        39                                    Clueless (1995)   \n",
              "39        40                    Cry, the Beloved Country (1995)   \n",
              "40        41                                 Richard III (1995)   \n",
              "41        42                             Dead Presidents (1995)   \n",
              "42        43                                 Restoration (1995)   \n",
              "43        44                               Mortal Kombat (1995)   \n",
              "44        45                                  To Die For (1995)   \n",
              "45        46               How to Make an American Quilt (1995)   \n",
              "46        47                               Seven (Se7en) (1995)   \n",
              "47        48                                  Pocahontas (1995)   \n",
              "48        49                       When Night Is Falling (1995)   \n",
              "49        50                         Usual Suspects, The (1995)   \n",
              "\n",
              "                                   genre  \n",
              "0            Animation|Children's|Comedy  \n",
              "1           Adventure|Children's|Fantasy  \n",
              "2                         Comedy|Romance  \n",
              "3                           Comedy|Drama  \n",
              "4                                 Comedy  \n",
              "5                  Action|Crime|Thriller  \n",
              "6                         Comedy|Romance  \n",
              "7                   Adventure|Children's  \n",
              "8                                 Action  \n",
              "9              Action|Adventure|Thriller  \n",
              "10                  Comedy|Drama|Romance  \n",
              "11                         Comedy|Horror  \n",
              "12                  Animation|Children's  \n",
              "13                                 Drama  \n",
              "14              Action|Adventure|Romance  \n",
              "15                        Drama|Thriller  \n",
              "16                         Drama|Romance  \n",
              "17                              Thriller  \n",
              "18                                Comedy  \n",
              "19                                Action  \n",
              "20                   Action|Comedy|Drama  \n",
              "21                  Crime|Drama|Thriller  \n",
              "22                              Thriller  \n",
              "23                          Drama|Sci-Fi  \n",
              "24                         Drama|Romance  \n",
              "25                                 Drama  \n",
              "26                                 Drama  \n",
              "27                               Romance  \n",
              "28                      Adventure|Sci-Fi  \n",
              "29                                 Drama  \n",
              "30                                 Drama  \n",
              "31                          Drama|Sci-Fi  \n",
              "32                     Adventure|Romance  \n",
              "33               Children's|Comedy|Drama  \n",
              "34                         Drama|Romance  \n",
              "35                                 Drama  \n",
              "36                           Documentary  \n",
              "37                                Comedy  \n",
              "38                        Comedy|Romance  \n",
              "39                                 Drama  \n",
              "40                             Drama|War  \n",
              "41                    Action|Crime|Drama  \n",
              "42                                 Drama  \n",
              "43                      Action|Adventure  \n",
              "44                          Comedy|Drama  \n",
              "45                         Drama|Romance  \n",
              "46                        Crime|Thriller  \n",
              "47  Animation|Children's|Musical|Romance  \n",
              "48                         Drama|Romance  \n",
              "49                        Crime|Thriller  "
            ],
            "text/html": [
              "\n",
              "  <div id=\"df-f3bc4d5d-b8d3-457c-a3d6-92ac69d88149\">\n",
              "    <div class=\"colab-df-container\">\n",
              "      <div>\n",
              "<style scoped>\n",
              "    .dataframe tbody tr th:only-of-type {\n",
              "        vertical-align: middle;\n",
              "    }\n",
              "\n",
              "    .dataframe tbody tr th {\n",
              "        vertical-align: top;\n",
              "    }\n",
              "\n",
              "    .dataframe thead th {\n",
              "        text-align: right;\n",
              "    }\n",
              "</style>\n",
              "<table border=\"1\" class=\"dataframe\">\n",
              "  <thead>\n",
              "    <tr style=\"text-align: right;\">\n",
              "      <th></th>\n",
              "      <th>movie_id</th>\n",
              "      <th>title</th>\n",
              "      <th>genre</th>\n",
              "    </tr>\n",
              "  </thead>\n",
              "  <tbody>\n",
              "    <tr>\n",
              "      <th>0</th>\n",
              "      <td>1</td>\n",
              "      <td>Toy Story (1995)</td>\n",
              "      <td>Animation|Children's|Comedy</td>\n",
              "    </tr>\n",
              "    <tr>\n",
              "      <th>1</th>\n",
              "      <td>2</td>\n",
              "      <td>Jumanji (1995)</td>\n",
              "      <td>Adventure|Children's|Fantasy</td>\n",
              "    </tr>\n",
              "    <tr>\n",
              "      <th>2</th>\n",
              "      <td>3</td>\n",
              "      <td>Grumpier Old Men (1995)</td>\n",
              "      <td>Comedy|Romance</td>\n",
              "    </tr>\n",
              "    <tr>\n",
              "      <th>3</th>\n",
              "      <td>4</td>\n",
              "      <td>Waiting to Exhale (1995)</td>\n",
              "      <td>Comedy|Drama</td>\n",
              "    </tr>\n",
              "    <tr>\n",
              "      <th>4</th>\n",
              "      <td>5</td>\n",
              "      <td>Father of the Bride Part II (1995)</td>\n",
              "      <td>Comedy</td>\n",
              "    </tr>\n",
              "    <tr>\n",
              "      <th>5</th>\n",
              "      <td>6</td>\n",
              "      <td>Heat (1995)</td>\n",
              "      <td>Action|Crime|Thriller</td>\n",
              "    </tr>\n",
              "    <tr>\n",
              "      <th>6</th>\n",
              "      <td>7</td>\n",
              "      <td>Sabrina (1995)</td>\n",
              "      <td>Comedy|Romance</td>\n",
              "    </tr>\n",
              "    <tr>\n",
              "      <th>7</th>\n",
              "      <td>8</td>\n",
              "      <td>Tom and Huck (1995)</td>\n",
              "      <td>Adventure|Children's</td>\n",
              "    </tr>\n",
              "    <tr>\n",
              "      <th>8</th>\n",
              "      <td>9</td>\n",
              "      <td>Sudden Death (1995)</td>\n",
              "      <td>Action</td>\n",
              "    </tr>\n",
              "    <tr>\n",
              "      <th>9</th>\n",
              "      <td>10</td>\n",
              "      <td>GoldenEye (1995)</td>\n",
              "      <td>Action|Adventure|Thriller</td>\n",
              "    </tr>\n",
              "    <tr>\n",
              "      <th>10</th>\n",
              "      <td>11</td>\n",
              "      <td>American President, The (1995)</td>\n",
              "      <td>Comedy|Drama|Romance</td>\n",
              "    </tr>\n",
              "    <tr>\n",
              "      <th>11</th>\n",
              "      <td>12</td>\n",
              "      <td>Dracula: Dead and Loving It (1995)</td>\n",
              "      <td>Comedy|Horror</td>\n",
              "    </tr>\n",
              "    <tr>\n",
              "      <th>12</th>\n",
              "      <td>13</td>\n",
              "      <td>Balto (1995)</td>\n",
              "      <td>Animation|Children's</td>\n",
              "    </tr>\n",
              "    <tr>\n",
              "      <th>13</th>\n",
              "      <td>14</td>\n",
              "      <td>Nixon (1995)</td>\n",
              "      <td>Drama</td>\n",
              "    </tr>\n",
              "    <tr>\n",
              "      <th>14</th>\n",
              "      <td>15</td>\n",
              "      <td>Cutthroat Island (1995)</td>\n",
              "      <td>Action|Adventure|Romance</td>\n",
              "    </tr>\n",
              "    <tr>\n",
              "      <th>15</th>\n",
              "      <td>16</td>\n",
              "      <td>Casino (1995)</td>\n",
              "      <td>Drama|Thriller</td>\n",
              "    </tr>\n",
              "    <tr>\n",
              "      <th>16</th>\n",
              "      <td>17</td>\n",
              "      <td>Sense and Sensibility (1995)</td>\n",
              "      <td>Drama|Romance</td>\n",
              "    </tr>\n",
              "    <tr>\n",
              "      <th>17</th>\n",
              "      <td>18</td>\n",
              "      <td>Four Rooms (1995)</td>\n",
              "      <td>Thriller</td>\n",
              "    </tr>\n",
              "    <tr>\n",
              "      <th>18</th>\n",
              "      <td>19</td>\n",
              "      <td>Ace Ventura: When Nature Calls (1995)</td>\n",
              "      <td>Comedy</td>\n",
              "    </tr>\n",
              "    <tr>\n",
              "      <th>19</th>\n",
              "      <td>20</td>\n",
              "      <td>Money Train (1995)</td>\n",
              "      <td>Action</td>\n",
              "    </tr>\n",
              "    <tr>\n",
              "      <th>20</th>\n",
              "      <td>21</td>\n",
              "      <td>Get Shorty (1995)</td>\n",
              "      <td>Action|Comedy|Drama</td>\n",
              "    </tr>\n",
              "    <tr>\n",
              "      <th>21</th>\n",
              "      <td>22</td>\n",
              "      <td>Copycat (1995)</td>\n",
              "      <td>Crime|Drama|Thriller</td>\n",
              "    </tr>\n",
              "    <tr>\n",
              "      <th>22</th>\n",
              "      <td>23</td>\n",
              "      <td>Assassins (1995)</td>\n",
              "      <td>Thriller</td>\n",
              "    </tr>\n",
              "    <tr>\n",
              "      <th>23</th>\n",
              "      <td>24</td>\n",
              "      <td>Powder (1995)</td>\n",
              "      <td>Drama|Sci-Fi</td>\n",
              "    </tr>\n",
              "    <tr>\n",
              "      <th>24</th>\n",
              "      <td>25</td>\n",
              "      <td>Leaving Las Vegas (1995)</td>\n",
              "      <td>Drama|Romance</td>\n",
              "    </tr>\n",
              "    <tr>\n",
              "      <th>25</th>\n",
              "      <td>26</td>\n",
              "      <td>Othello (1995)</td>\n",
              "      <td>Drama</td>\n",
              "    </tr>\n",
              "    <tr>\n",
              "      <th>26</th>\n",
              "      <td>27</td>\n",
              "      <td>Now and Then (1995)</td>\n",
              "      <td>Drama</td>\n",
              "    </tr>\n",
              "    <tr>\n",
              "      <th>27</th>\n",
              "      <td>28</td>\n",
              "      <td>Persuasion (1995)</td>\n",
              "      <td>Romance</td>\n",
              "    </tr>\n",
              "    <tr>\n",
              "      <th>28</th>\n",
              "      <td>29</td>\n",
              "      <td>City of Lost Children, The (1995)</td>\n",
              "      <td>Adventure|Sci-Fi</td>\n",
              "    </tr>\n",
              "    <tr>\n",
              "      <th>29</th>\n",
              "      <td>30</td>\n",
              "      <td>Shanghai Triad (Yao a yao yao dao waipo qiao) ...</td>\n",
              "      <td>Drama</td>\n",
              "    </tr>\n",
              "    <tr>\n",
              "      <th>30</th>\n",
              "      <td>31</td>\n",
              "      <td>Dangerous Minds (1995)</td>\n",
              "      <td>Drama</td>\n",
              "    </tr>\n",
              "    <tr>\n",
              "      <th>31</th>\n",
              "      <td>32</td>\n",
              "      <td>Twelve Monkeys (1995)</td>\n",
              "      <td>Drama|Sci-Fi</td>\n",
              "    </tr>\n",
              "    <tr>\n",
              "      <th>32</th>\n",
              "      <td>33</td>\n",
              "      <td>Wings of Courage (1995)</td>\n",
              "      <td>Adventure|Romance</td>\n",
              "    </tr>\n",
              "    <tr>\n",
              "      <th>33</th>\n",
              "      <td>34</td>\n",
              "      <td>Babe (1995)</td>\n",
              "      <td>Children's|Comedy|Drama</td>\n",
              "    </tr>\n",
              "    <tr>\n",
              "      <th>34</th>\n",
              "      <td>35</td>\n",
              "      <td>Carrington (1995)</td>\n",
              "      <td>Drama|Romance</td>\n",
              "    </tr>\n",
              "    <tr>\n",
              "      <th>35</th>\n",
              "      <td>36</td>\n",
              "      <td>Dead Man Walking (1995)</td>\n",
              "      <td>Drama</td>\n",
              "    </tr>\n",
              "    <tr>\n",
              "      <th>36</th>\n",
              "      <td>37</td>\n",
              "      <td>Across the Sea of Time (1995)</td>\n",
              "      <td>Documentary</td>\n",
              "    </tr>\n",
              "    <tr>\n",
              "      <th>37</th>\n",
              "      <td>38</td>\n",
              "      <td>It Takes Two (1995)</td>\n",
              "      <td>Comedy</td>\n",
              "    </tr>\n",
              "    <tr>\n",
              "      <th>38</th>\n",
              "      <td>39</td>\n",
              "      <td>Clueless (1995)</td>\n",
              "      <td>Comedy|Romance</td>\n",
              "    </tr>\n",
              "    <tr>\n",
              "      <th>39</th>\n",
              "      <td>40</td>\n",
              "      <td>Cry, the Beloved Country (1995)</td>\n",
              "      <td>Drama</td>\n",
              "    </tr>\n",
              "    <tr>\n",
              "      <th>40</th>\n",
              "      <td>41</td>\n",
              "      <td>Richard III (1995)</td>\n",
              "      <td>Drama|War</td>\n",
              "    </tr>\n",
              "    <tr>\n",
              "      <th>41</th>\n",
              "      <td>42</td>\n",
              "      <td>Dead Presidents (1995)</td>\n",
              "      <td>Action|Crime|Drama</td>\n",
              "    </tr>\n",
              "    <tr>\n",
              "      <th>42</th>\n",
              "      <td>43</td>\n",
              "      <td>Restoration (1995)</td>\n",
              "      <td>Drama</td>\n",
              "    </tr>\n",
              "    <tr>\n",
              "      <th>43</th>\n",
              "      <td>44</td>\n",
              "      <td>Mortal Kombat (1995)</td>\n",
              "      <td>Action|Adventure</td>\n",
              "    </tr>\n",
              "    <tr>\n",
              "      <th>44</th>\n",
              "      <td>45</td>\n",
              "      <td>To Die For (1995)</td>\n",
              "      <td>Comedy|Drama</td>\n",
              "    </tr>\n",
              "    <tr>\n",
              "      <th>45</th>\n",
              "      <td>46</td>\n",
              "      <td>How to Make an American Quilt (1995)</td>\n",
              "      <td>Drama|Romance</td>\n",
              "    </tr>\n",
              "    <tr>\n",
              "      <th>46</th>\n",
              "      <td>47</td>\n",
              "      <td>Seven (Se7en) (1995)</td>\n",
              "      <td>Crime|Thriller</td>\n",
              "    </tr>\n",
              "    <tr>\n",
              "      <th>47</th>\n",
              "      <td>48</td>\n",
              "      <td>Pocahontas (1995)</td>\n",
              "      <td>Animation|Children's|Musical|Romance</td>\n",
              "    </tr>\n",
              "    <tr>\n",
              "      <th>48</th>\n",
              "      <td>49</td>\n",
              "      <td>When Night Is Falling (1995)</td>\n",
              "      <td>Drama|Romance</td>\n",
              "    </tr>\n",
              "    <tr>\n",
              "      <th>49</th>\n",
              "      <td>50</td>\n",
              "      <td>Usual Suspects, The (1995)</td>\n",
              "      <td>Crime|Thriller</td>\n",
              "    </tr>\n",
              "  </tbody>\n",
              "</table>\n",
              "</div>\n",
              "      <button class=\"colab-df-convert\" onclick=\"convertToInteractive('df-f3bc4d5d-b8d3-457c-a3d6-92ac69d88149')\"\n",
              "              title=\"Convert this dataframe to an interactive table.\"\n",
              "              style=\"display:none;\">\n",
              "        \n",
              "  <svg xmlns=\"http://www.w3.org/2000/svg\" height=\"24px\"viewBox=\"0 0 24 24\"\n",
              "       width=\"24px\">\n",
              "    <path d=\"M0 0h24v24H0V0z\" fill=\"none\"/>\n",
              "    <path d=\"M18.56 5.44l.94 2.06.94-2.06 2.06-.94-2.06-.94-.94-2.06-.94 2.06-2.06.94zm-11 1L8.5 8.5l.94-2.06 2.06-.94-2.06-.94L8.5 2.5l-.94 2.06-2.06.94zm10 10l.94 2.06.94-2.06 2.06-.94-2.06-.94-.94-2.06-.94 2.06-2.06.94z\"/><path d=\"M17.41 7.96l-1.37-1.37c-.4-.4-.92-.59-1.43-.59-.52 0-1.04.2-1.43.59L10.3 9.45l-7.72 7.72c-.78.78-.78 2.05 0 2.83L4 21.41c.39.39.9.59 1.41.59.51 0 1.02-.2 1.41-.59l7.78-7.78 2.81-2.81c.8-.78.8-2.07 0-2.86zM5.41 20L4 18.59l7.72-7.72 1.47 1.35L5.41 20z\"/>\n",
              "  </svg>\n",
              "      </button>\n",
              "      \n",
              "  <style>\n",
              "    .colab-df-container {\n",
              "      display:flex;\n",
              "      flex-wrap:wrap;\n",
              "      gap: 12px;\n",
              "    }\n",
              "\n",
              "    .colab-df-convert {\n",
              "      background-color: #E8F0FE;\n",
              "      border: none;\n",
              "      border-radius: 50%;\n",
              "      cursor: pointer;\n",
              "      display: none;\n",
              "      fill: #1967D2;\n",
              "      height: 32px;\n",
              "      padding: 0 0 0 0;\n",
              "      width: 32px;\n",
              "    }\n",
              "\n",
              "    .colab-df-convert:hover {\n",
              "      background-color: #E2EBFA;\n",
              "      box-shadow: 0px 1px 2px rgba(60, 64, 67, 0.3), 0px 1px 3px 1px rgba(60, 64, 67, 0.15);\n",
              "      fill: #174EA6;\n",
              "    }\n",
              "\n",
              "    [theme=dark] .colab-df-convert {\n",
              "      background-color: #3B4455;\n",
              "      fill: #D2E3FC;\n",
              "    }\n",
              "\n",
              "    [theme=dark] .colab-df-convert:hover {\n",
              "      background-color: #434B5C;\n",
              "      box-shadow: 0px 1px 3px 1px rgba(0, 0, 0, 0.15);\n",
              "      filter: drop-shadow(0px 1px 2px rgba(0, 0, 0, 0.3));\n",
              "      fill: #FFFFFF;\n",
              "    }\n",
              "  </style>\n",
              "\n",
              "      <script>\n",
              "        const buttonEl =\n",
              "          document.querySelector('#df-f3bc4d5d-b8d3-457c-a3d6-92ac69d88149 button.colab-df-convert');\n",
              "        buttonEl.style.display =\n",
              "          google.colab.kernel.accessAllowed ? 'block' : 'none';\n",
              "\n",
              "        async function convertToInteractive(key) {\n",
              "          const element = document.querySelector('#df-f3bc4d5d-b8d3-457c-a3d6-92ac69d88149');\n",
              "          const dataTable =\n",
              "            await google.colab.kernel.invokeFunction('convertToInteractive',\n",
              "                                                     [key], {});\n",
              "          if (!dataTable) return;\n",
              "\n",
              "          const docLinkHtml = 'Like what you see? Visit the ' +\n",
              "            '<a target=\"_blank\" href=https://colab.research.google.com/notebooks/data_table.ipynb>data table notebook</a>'\n",
              "            + ' to learn more about interactive tables.';\n",
              "          element.innerHTML = '';\n",
              "          dataTable['output_type'] = 'display_data';\n",
              "          await google.colab.output.renderOutput(dataTable, element);\n",
              "          const docLink = document.createElement('div');\n",
              "          docLink.innerHTML = docLinkHtml;\n",
              "          element.appendChild(docLink);\n",
              "        }\n",
              "      </script>\n",
              "    </div>\n",
              "  </div>\n",
              "  "
            ]
          },
          "metadata": {},
          "execution_count": 41
        }
      ]
    },
    {
      "cell_type": "markdown",
      "source": [
        "## STEP 2. TEST용 유저 추가\n",
        "---\n",
        "\n",
        "후에 모델의 성능을 확인하기 위해 TEST user 'chaaaaabbo'를 만들어 넣어줍니다.   \n",
        "\n",
        "user_id 가 6040까지 있으니, chaaaaabbo의 user_id는 6041, 좋아하는 영화는 Toy Story(1) 5점, Pocahontas(48) 4점, Matrix, The (1999)' 5점,'Jurassic Park (1993)' 4점으로 줘보겠습니다. "
      ],
      "metadata": {
        "id": "RlDgl4rwEEoV"
      }
    },
    {
      "cell_type": "code",
      "source": [
        "# 좋아하는 영화를 넣어줍니다. \n",
        "\n",
        "my_favorite = ['Toy Story (1995)', 'Pocahontas (1995)' ,'Matrix, The (1999)','Jurassic Park (1993)']\n",
        "\n",
        "for i in my_favorite:\n",
        "    condition = (movies.title == i)\n",
        "    print(movies.loc[condition])\n",
        "# for i in my_favorite:\n",
        "#     print(i)\n",
        "#     a = movies.loc[movies['title']==i]\n",
        "#     print(a)"
      ],
      "metadata": {
        "colab": {
          "base_uri": "https://localhost:8080/"
        },
        "id": "YuCLS4VF6pA5",
        "outputId": "ef6fe778-6878-4749-905d-6bc06019df54"
      },
      "execution_count": null,
      "outputs": [
        {
          "output_type": "stream",
          "name": "stdout",
          "text": [
            "   movie_id             title                        genre\n",
            "0         1  Toy Story (1995)  Animation|Children's|Comedy\n",
            "    movie_id              title                                 genre\n",
            "47        48  Pocahontas (1995)  Animation|Children's|Musical|Romance\n",
            "      movie_id               title                   genre\n",
            "2502      2571  Matrix, The (1999)  Action|Sci-Fi|Thriller\n",
            "     movie_id                 title                    genre\n",
            "476       480  Jurassic Park (1993)  Action|Adventure|Sci-Fi\n"
          ]
        }
      ]
    },
    {
      "cell_type": "code",
      "source": [
        "# 좋아하는 영화 입력\n",
        "\n",
        "# my_favorite = ['Toy Story (1995)', 'Pocahontas (1995)' ,'Matrix, The (1999)','Jurassic Park (1993)']\n",
        "my_favorite_movie_id = [1, 48, 2571, 480]\n",
        "\n",
        "# 'chaaaaabbo'이라는 user_id 특성 입력\n",
        "my_playlist = pd.DataFrame({'user_id' : ['6041']*4, 'movie_id' : my_favorite_movie_id, 'counts':(5,4,5,4)})\n",
        "\n",
        "# user_id에 'chaaaaabbo'이라는 데이터가 없다면\n",
        "if not ratings.isin({'user_id': ['6041']})['user_id'].any():\n",
        " # 위에 임의로 만든 my_playlist 데이터를 추가해 줍니다. \n",
        "    ratings = ratings.append(my_playlist)\n",
        "\n",
        "#잘 만들어졌는지 확인\n",
        "ratings.tail(10)"
      ],
      "metadata": {
        "colab": {
          "base_uri": "https://localhost:8080/",
          "height": 363
        },
        "id": "Zv-8vXVA5cYO",
        "outputId": "291c1a0d-b532-4524-957c-fd43ccc18f0f"
      },
      "execution_count": null,
      "outputs": [
        {
          "output_type": "execute_result",
          "data": {
            "text/plain": [
              "        user_id  movie_id  counts\n",
              "1000202    6040      1089       4\n",
              "1000203    6040      1090       3\n",
              "1000205    6040      1094       5\n",
              "1000206    6040       562       5\n",
              "1000207    6040      1096       4\n",
              "1000208    6040      1097       4\n",
              "0          6041         1       5\n",
              "1          6041        48       4\n",
              "2          6041      2571       5\n",
              "3          6041       480       4"
            ],
            "text/html": [
              "\n",
              "  <div id=\"df-15490972-b375-4702-ae8c-41c169a42d12\">\n",
              "    <div class=\"colab-df-container\">\n",
              "      <div>\n",
              "<style scoped>\n",
              "    .dataframe tbody tr th:only-of-type {\n",
              "        vertical-align: middle;\n",
              "    }\n",
              "\n",
              "    .dataframe tbody tr th {\n",
              "        vertical-align: top;\n",
              "    }\n",
              "\n",
              "    .dataframe thead th {\n",
              "        text-align: right;\n",
              "    }\n",
              "</style>\n",
              "<table border=\"1\" class=\"dataframe\">\n",
              "  <thead>\n",
              "    <tr style=\"text-align: right;\">\n",
              "      <th></th>\n",
              "      <th>user_id</th>\n",
              "      <th>movie_id</th>\n",
              "      <th>counts</th>\n",
              "    </tr>\n",
              "  </thead>\n",
              "  <tbody>\n",
              "    <tr>\n",
              "      <th>1000202</th>\n",
              "      <td>6040</td>\n",
              "      <td>1089</td>\n",
              "      <td>4</td>\n",
              "    </tr>\n",
              "    <tr>\n",
              "      <th>1000203</th>\n",
              "      <td>6040</td>\n",
              "      <td>1090</td>\n",
              "      <td>3</td>\n",
              "    </tr>\n",
              "    <tr>\n",
              "      <th>1000205</th>\n",
              "      <td>6040</td>\n",
              "      <td>1094</td>\n",
              "      <td>5</td>\n",
              "    </tr>\n",
              "    <tr>\n",
              "      <th>1000206</th>\n",
              "      <td>6040</td>\n",
              "      <td>562</td>\n",
              "      <td>5</td>\n",
              "    </tr>\n",
              "    <tr>\n",
              "      <th>1000207</th>\n",
              "      <td>6040</td>\n",
              "      <td>1096</td>\n",
              "      <td>4</td>\n",
              "    </tr>\n",
              "    <tr>\n",
              "      <th>1000208</th>\n",
              "      <td>6040</td>\n",
              "      <td>1097</td>\n",
              "      <td>4</td>\n",
              "    </tr>\n",
              "    <tr>\n",
              "      <th>0</th>\n",
              "      <td>6041</td>\n",
              "      <td>1</td>\n",
              "      <td>5</td>\n",
              "    </tr>\n",
              "    <tr>\n",
              "      <th>1</th>\n",
              "      <td>6041</td>\n",
              "      <td>48</td>\n",
              "      <td>4</td>\n",
              "    </tr>\n",
              "    <tr>\n",
              "      <th>2</th>\n",
              "      <td>6041</td>\n",
              "      <td>2571</td>\n",
              "      <td>5</td>\n",
              "    </tr>\n",
              "    <tr>\n",
              "      <th>3</th>\n",
              "      <td>6041</td>\n",
              "      <td>480</td>\n",
              "      <td>4</td>\n",
              "    </tr>\n",
              "  </tbody>\n",
              "</table>\n",
              "</div>\n",
              "      <button class=\"colab-df-convert\" onclick=\"convertToInteractive('df-15490972-b375-4702-ae8c-41c169a42d12')\"\n",
              "              title=\"Convert this dataframe to an interactive table.\"\n",
              "              style=\"display:none;\">\n",
              "        \n",
              "  <svg xmlns=\"http://www.w3.org/2000/svg\" height=\"24px\"viewBox=\"0 0 24 24\"\n",
              "       width=\"24px\">\n",
              "    <path d=\"M0 0h24v24H0V0z\" fill=\"none\"/>\n",
              "    <path d=\"M18.56 5.44l.94 2.06.94-2.06 2.06-.94-2.06-.94-.94-2.06-.94 2.06-2.06.94zm-11 1L8.5 8.5l.94-2.06 2.06-.94-2.06-.94L8.5 2.5l-.94 2.06-2.06.94zm10 10l.94 2.06.94-2.06 2.06-.94-2.06-.94-.94-2.06-.94 2.06-2.06.94z\"/><path d=\"M17.41 7.96l-1.37-1.37c-.4-.4-.92-.59-1.43-.59-.52 0-1.04.2-1.43.59L10.3 9.45l-7.72 7.72c-.78.78-.78 2.05 0 2.83L4 21.41c.39.39.9.59 1.41.59.51 0 1.02-.2 1.41-.59l7.78-7.78 2.81-2.81c.8-.78.8-2.07 0-2.86zM5.41 20L4 18.59l7.72-7.72 1.47 1.35L5.41 20z\"/>\n",
              "  </svg>\n",
              "      </button>\n",
              "      \n",
              "  <style>\n",
              "    .colab-df-container {\n",
              "      display:flex;\n",
              "      flex-wrap:wrap;\n",
              "      gap: 12px;\n",
              "    }\n",
              "\n",
              "    .colab-df-convert {\n",
              "      background-color: #E8F0FE;\n",
              "      border: none;\n",
              "      border-radius: 50%;\n",
              "      cursor: pointer;\n",
              "      display: none;\n",
              "      fill: #1967D2;\n",
              "      height: 32px;\n",
              "      padding: 0 0 0 0;\n",
              "      width: 32px;\n",
              "    }\n",
              "\n",
              "    .colab-df-convert:hover {\n",
              "      background-color: #E2EBFA;\n",
              "      box-shadow: 0px 1px 2px rgba(60, 64, 67, 0.3), 0px 1px 3px 1px rgba(60, 64, 67, 0.15);\n",
              "      fill: #174EA6;\n",
              "    }\n",
              "\n",
              "    [theme=dark] .colab-df-convert {\n",
              "      background-color: #3B4455;\n",
              "      fill: #D2E3FC;\n",
              "    }\n",
              "\n",
              "    [theme=dark] .colab-df-convert:hover {\n",
              "      background-color: #434B5C;\n",
              "      box-shadow: 0px 1px 3px 1px rgba(0, 0, 0, 0.15);\n",
              "      filter: drop-shadow(0px 1px 2px rgba(0, 0, 0, 0.3));\n",
              "      fill: #FFFFFF;\n",
              "    }\n",
              "  </style>\n",
              "\n",
              "      <script>\n",
              "        const buttonEl =\n",
              "          document.querySelector('#df-15490972-b375-4702-ae8c-41c169a42d12 button.colab-df-convert');\n",
              "        buttonEl.style.display =\n",
              "          google.colab.kernel.accessAllowed ? 'block' : 'none';\n",
              "\n",
              "        async function convertToInteractive(key) {\n",
              "          const element = document.querySelector('#df-15490972-b375-4702-ae8c-41c169a42d12');\n",
              "          const dataTable =\n",
              "            await google.colab.kernel.invokeFunction('convertToInteractive',\n",
              "                                                     [key], {});\n",
              "          if (!dataTable) return;\n",
              "\n",
              "          const docLinkHtml = 'Like what you see? Visit the ' +\n",
              "            '<a target=\"_blank\" href=https://colab.research.google.com/notebooks/data_table.ipynb>data table notebook</a>'\n",
              "            + ' to learn more about interactive tables.';\n",
              "          element.innerHTML = '';\n",
              "          dataTable['output_type'] = 'display_data';\n",
              "          await google.colab.output.renderOutput(dataTable, element);\n",
              "          const docLink = document.createElement('div');\n",
              "          docLink.innerHTML = docLinkHtml;\n",
              "          element.appendChild(docLink);\n",
              "        }\n",
              "      </script>\n",
              "    </div>\n",
              "  </div>\n",
              "  "
            ]
          },
          "metadata": {},
          "execution_count": 43
        }
      ]
    },
    {
      "cell_type": "markdown",
      "source": [
        "가독성을 위해 movie_id 별 title을 넣어줍니다. "
      ],
      "metadata": {
        "id": "hgee_-Q1CVvG"
      }
    },
    {
      "cell_type": "code",
      "source": [
        "############### 유저 정보와 영화 정보를 movie_id를 기준으로 합쳐줌 ############\n",
        "rating_movie = pd.merge(ratings, movies, how='outer')\n"
      ],
      "metadata": {
        "id": "AfGPzfJl0b6l"
      },
      "execution_count": null,
      "outputs": []
    },
    {
      "cell_type": "code",
      "source": [
        "rating_movie.isna().sum()"
      ],
      "metadata": {
        "colab": {
          "base_uri": "https://localhost:8080/"
        },
        "id": "0Jq7CDQE1Ka2",
        "outputId": "76c238a0-a556-48ce-9f10-8036b77730bc"
      },
      "execution_count": null,
      "outputs": [
        {
          "output_type": "execute_result",
          "data": {
            "text/plain": [
              "user_id     255\n",
              "movie_id      0\n",
              "counts      255\n",
              "title         0\n",
              "genre         0\n",
              "dtype: int64"
            ]
          },
          "metadata": {},
          "execution_count": 13
        }
      ]
    },
    {
      "cell_type": "markdown",
      "source": [
        "user_id와 counts가 없는 영화는 필요없으니 삭제해줍니다. "
      ],
      "metadata": {
        "id": "RaoT6bLe1fyw"
      }
    },
    {
      "cell_type": "code",
      "source": [
        "rating_movie = rating_movie.dropna()\n",
        "\n",
        "rating_movie.isna().sum()"
      ],
      "metadata": {
        "colab": {
          "base_uri": "https://localhost:8080/"
        },
        "id": "IqCc2rJw1ogn",
        "outputId": "26676021-6a56-49fc-bb4b-49103c3446f6"
      },
      "execution_count": null,
      "outputs": [
        {
          "output_type": "execute_result",
          "data": {
            "text/plain": [
              "user_id     0\n",
              "movie_id    0\n",
              "counts      0\n",
              "title       0\n",
              "genre       0\n",
              "dtype: int64"
            ]
          },
          "metadata": {},
          "execution_count": 14
        }
      ]
    },
    {
      "cell_type": "code",
      "source": [
        "rating_movie.tail()"
      ],
      "metadata": {
        "colab": {
          "base_uri": "https://localhost:8080/",
          "height": 250
        },
        "id": "H2heMNUD2NvG",
        "outputId": "a37274ab-af1d-4882-e521-d810e2bf4052"
      },
      "execution_count": null,
      "outputs": [
        {
          "output_type": "execute_result",
          "data": {
            "text/plain": [
              "       user_id  movie_id  counts  \\\n",
              "836477    5851      3607     5.0   \n",
              "836478    5854      3026     4.0   \n",
              "836479    5854       690     3.0   \n",
              "836480    5938      2909     4.0   \n",
              "836481    5948      1360     5.0   \n",
              "\n",
              "                                                    title  \\\n",
              "836477                           One Little Indian (1973)   \n",
              "836478                              Slaughterhouse (1987)   \n",
              "836479             Promise, The (Versprechen, Das) (1994)   \n",
              "836480        Five Wives, Three Secretaries and Me (1998)   \n",
              "836481  Identification of a Woman (Identificazione di ...   \n",
              "\n",
              "                       genre  \n",
              "836477  Comedy|Drama|Western  \n",
              "836478                Horror  \n",
              "836479               Romance  \n",
              "836480           Documentary  \n",
              "836481                 Drama  "
            ],
            "text/html": [
              "\n",
              "  <div id=\"df-601e2dc9-53d8-48b4-9278-98a0aefa8229\">\n",
              "    <div class=\"colab-df-container\">\n",
              "      <div>\n",
              "<style scoped>\n",
              "    .dataframe tbody tr th:only-of-type {\n",
              "        vertical-align: middle;\n",
              "    }\n",
              "\n",
              "    .dataframe tbody tr th {\n",
              "        vertical-align: top;\n",
              "    }\n",
              "\n",
              "    .dataframe thead th {\n",
              "        text-align: right;\n",
              "    }\n",
              "</style>\n",
              "<table border=\"1\" class=\"dataframe\">\n",
              "  <thead>\n",
              "    <tr style=\"text-align: right;\">\n",
              "      <th></th>\n",
              "      <th>user_id</th>\n",
              "      <th>movie_id</th>\n",
              "      <th>counts</th>\n",
              "      <th>title</th>\n",
              "      <th>genre</th>\n",
              "    </tr>\n",
              "  </thead>\n",
              "  <tbody>\n",
              "    <tr>\n",
              "      <th>836477</th>\n",
              "      <td>5851</td>\n",
              "      <td>3607</td>\n",
              "      <td>5.0</td>\n",
              "      <td>One Little Indian (1973)</td>\n",
              "      <td>Comedy|Drama|Western</td>\n",
              "    </tr>\n",
              "    <tr>\n",
              "      <th>836478</th>\n",
              "      <td>5854</td>\n",
              "      <td>3026</td>\n",
              "      <td>4.0</td>\n",
              "      <td>Slaughterhouse (1987)</td>\n",
              "      <td>Horror</td>\n",
              "    </tr>\n",
              "    <tr>\n",
              "      <th>836479</th>\n",
              "      <td>5854</td>\n",
              "      <td>690</td>\n",
              "      <td>3.0</td>\n",
              "      <td>Promise, The (Versprechen, Das) (1994)</td>\n",
              "      <td>Romance</td>\n",
              "    </tr>\n",
              "    <tr>\n",
              "      <th>836480</th>\n",
              "      <td>5938</td>\n",
              "      <td>2909</td>\n",
              "      <td>4.0</td>\n",
              "      <td>Five Wives, Three Secretaries and Me (1998)</td>\n",
              "      <td>Documentary</td>\n",
              "    </tr>\n",
              "    <tr>\n",
              "      <th>836481</th>\n",
              "      <td>5948</td>\n",
              "      <td>1360</td>\n",
              "      <td>5.0</td>\n",
              "      <td>Identification of a Woman (Identificazione di ...</td>\n",
              "      <td>Drama</td>\n",
              "    </tr>\n",
              "  </tbody>\n",
              "</table>\n",
              "</div>\n",
              "      <button class=\"colab-df-convert\" onclick=\"convertToInteractive('df-601e2dc9-53d8-48b4-9278-98a0aefa8229')\"\n",
              "              title=\"Convert this dataframe to an interactive table.\"\n",
              "              style=\"display:none;\">\n",
              "        \n",
              "  <svg xmlns=\"http://www.w3.org/2000/svg\" height=\"24px\"viewBox=\"0 0 24 24\"\n",
              "       width=\"24px\">\n",
              "    <path d=\"M0 0h24v24H0V0z\" fill=\"none\"/>\n",
              "    <path d=\"M18.56 5.44l.94 2.06.94-2.06 2.06-.94-2.06-.94-.94-2.06-.94 2.06-2.06.94zm-11 1L8.5 8.5l.94-2.06 2.06-.94-2.06-.94L8.5 2.5l-.94 2.06-2.06.94zm10 10l.94 2.06.94-2.06 2.06-.94-2.06-.94-.94-2.06-.94 2.06-2.06.94z\"/><path d=\"M17.41 7.96l-1.37-1.37c-.4-.4-.92-.59-1.43-.59-.52 0-1.04.2-1.43.59L10.3 9.45l-7.72 7.72c-.78.78-.78 2.05 0 2.83L4 21.41c.39.39.9.59 1.41.59.51 0 1.02-.2 1.41-.59l7.78-7.78 2.81-2.81c.8-.78.8-2.07 0-2.86zM5.41 20L4 18.59l7.72-7.72 1.47 1.35L5.41 20z\"/>\n",
              "  </svg>\n",
              "      </button>\n",
              "      \n",
              "  <style>\n",
              "    .colab-df-container {\n",
              "      display:flex;\n",
              "      flex-wrap:wrap;\n",
              "      gap: 12px;\n",
              "    }\n",
              "\n",
              "    .colab-df-convert {\n",
              "      background-color: #E8F0FE;\n",
              "      border: none;\n",
              "      border-radius: 50%;\n",
              "      cursor: pointer;\n",
              "      display: none;\n",
              "      fill: #1967D2;\n",
              "      height: 32px;\n",
              "      padding: 0 0 0 0;\n",
              "      width: 32px;\n",
              "    }\n",
              "\n",
              "    .colab-df-convert:hover {\n",
              "      background-color: #E2EBFA;\n",
              "      box-shadow: 0px 1px 2px rgba(60, 64, 67, 0.3), 0px 1px 3px 1px rgba(60, 64, 67, 0.15);\n",
              "      fill: #174EA6;\n",
              "    }\n",
              "\n",
              "    [theme=dark] .colab-df-convert {\n",
              "      background-color: #3B4455;\n",
              "      fill: #D2E3FC;\n",
              "    }\n",
              "\n",
              "    [theme=dark] .colab-df-convert:hover {\n",
              "      background-color: #434B5C;\n",
              "      box-shadow: 0px 1px 3px 1px rgba(0, 0, 0, 0.15);\n",
              "      filter: drop-shadow(0px 1px 2px rgba(0, 0, 0, 0.3));\n",
              "      fill: #FFFFFF;\n",
              "    }\n",
              "  </style>\n",
              "\n",
              "      <script>\n",
              "        const buttonEl =\n",
              "          document.querySelector('#df-601e2dc9-53d8-48b4-9278-98a0aefa8229 button.colab-df-convert');\n",
              "        buttonEl.style.display =\n",
              "          google.colab.kernel.accessAllowed ? 'block' : 'none';\n",
              "\n",
              "        async function convertToInteractive(key) {\n",
              "          const element = document.querySelector('#df-601e2dc9-53d8-48b4-9278-98a0aefa8229');\n",
              "          const dataTable =\n",
              "            await google.colab.kernel.invokeFunction('convertToInteractive',\n",
              "                                                     [key], {});\n",
              "          if (!dataTable) return;\n",
              "\n",
              "          const docLinkHtml = 'Like what you see? Visit the ' +\n",
              "            '<a target=\"_blank\" href=https://colab.research.google.com/notebooks/data_table.ipynb>data table notebook</a>'\n",
              "            + ' to learn more about interactive tables.';\n",
              "          element.innerHTML = '';\n",
              "          dataTable['output_type'] = 'display_data';\n",
              "          await google.colab.output.renderOutput(dataTable, element);\n",
              "          const docLink = document.createElement('div');\n",
              "          docLink.innerHTML = docLinkHtml;\n",
              "          element.appendChild(docLink);\n",
              "        }\n",
              "      </script>\n",
              "    </div>\n",
              "  </div>\n",
              "  "
            ]
          },
          "metadata": {},
          "execution_count": 15
        }
      ]
    },
    {
      "cell_type": "markdown",
      "source": [
        "## STEP 3. 데이터 분석\n",
        "---\n",
        "- ratings에 있는 유니크한 영화 개수\n",
        "- ratings에 있는 유니크한 사용자 수\n",
        "- 가장 인기 있는 영화 30개(인기순)\n",
        "를 한번 뽑아보도록 하겠습니다. "
      ],
      "metadata": {
        "id": "9tiObi2_DZ_U"
      }
    },
    {
      "cell_type": "code",
      "source": [
        "################# 영화 유니크 값 확인 ##################\n",
        "rating_movie['movie_id'].value_counts()"
      ],
      "metadata": {
        "colab": {
          "base_uri": "https://localhost:8080/"
        },
        "id": "1CIe5otc2X7V",
        "outputId": "40d2ddfd-2aa0-4a27-e907-9cc28402d796"
      },
      "execution_count": null,
      "outputs": [
        {
          "output_type": "execute_result",
          "data": {
            "text/plain": [
              "2858    3211\n",
              "260     2910\n",
              "1196    2885\n",
              "1210    2716\n",
              "2028    2561\n",
              "        ... \n",
              "2556       1\n",
              "1062       1\n",
              "821        1\n",
              "1830       1\n",
              "1360       1\n",
              "Name: movie_id, Length: 3628, dtype: int64"
            ]
          },
          "metadata": {},
          "execution_count": 16
        }
      ]
    },
    {
      "cell_type": "code",
      "source": [
        "################# user 유니크 값 확인 ##################\n",
        "rating_movie['user_id'].value_counts()"
      ],
      "metadata": {
        "colab": {
          "base_uri": "https://localhost:8080/"
        },
        "id": "9mIUv74Axmk6",
        "outputId": "51031b0d-a78a-4e56-8168-51ece4214e5b"
      },
      "execution_count": null,
      "outputs": [
        {
          "output_type": "execute_result",
          "data": {
            "text/plain": [
              "4169    1968\n",
              "4277    1715\n",
              "1680    1515\n",
              "3618    1146\n",
              "1015    1145\n",
              "        ... \n",
              "1102       9\n",
              "4365       9\n",
              "4349       7\n",
              "6041       4\n",
              "4486       1\n",
              "Name: user_id, Length: 6040, dtype: int64"
            ]
          },
          "metadata": {},
          "execution_count": 17
        }
      ]
    },
    {
      "cell_type": "code",
      "source": [
        "##################### 인기 많은 영화 #####################\n",
        "movie_count = rating_movie.groupby('title')['user_id'].count()\n",
        "movie_count.sort_values(ascending = False).head(30)"
      ],
      "metadata": {
        "colab": {
          "base_uri": "https://localhost:8080/"
        },
        "id": "udV-jbhp4W8c",
        "outputId": "7e917ad6-44fe-463d-c8d1-a03a29e9f549"
      },
      "execution_count": null,
      "outputs": [
        {
          "output_type": "execute_result",
          "data": {
            "text/plain": [
              "title\n",
              "American Beauty (1999)                                   3211\n",
              "Star Wars: Episode IV - A New Hope (1977)                2910\n",
              "Star Wars: Episode V - The Empire Strikes Back (1980)    2885\n",
              "Star Wars: Episode VI - Return of the Jedi (1983)        2716\n",
              "Saving Private Ryan (1998)                               2561\n",
              "Terminator 2: Judgment Day (1991)                        2509\n",
              "Silence of the Lambs, The (1991)                         2498\n",
              "Raiders of the Lost Ark (1981)                           2473\n",
              "Back to the Future (1985)                                2460\n",
              "Matrix, The (1999)                                       2435\n",
              "Jurassic Park (1993)                                     2414\n",
              "Sixth Sense, The (1999)                                  2385\n",
              "Fargo (1996)                                             2371\n",
              "Braveheart (1995)                                        2314\n",
              "Men in Black (1997)                                      2297\n",
              "Schindler's List (1993)                                  2257\n",
              "Princess Bride, The (1987)                               2252\n",
              "Shakespeare in Love (1998)                               2213\n",
              "L.A. Confidential (1997)                                 2210\n",
              "Shawshank Redemption, The (1994)                         2194\n",
              "Godfather, The (1972)                                    2167\n",
              "Groundhog Day (1993)                                     2121\n",
              "E.T. the Extra-Terrestrial (1982)                        2102\n",
              "Being John Malkovich (1999)                              2066\n",
              "Ghostbusters (1984)                                      2051\n",
              "Pulp Fiction (1994)                                      2030\n",
              "Forrest Gump (1994)                                      2022\n",
              "Terminator, The (1984)                                   2019\n",
              "Toy Story (1995)                                         2001\n",
              "Fugitive, The (1993)                                     1941\n",
              "Name: user_id, dtype: int64"
            ]
          },
          "metadata": {},
          "execution_count": 18
        }
      ]
    },
    {
      "cell_type": "markdown",
      "source": [
        "1회만 추천받은 영화 비율 한번 확인해볼까요?"
      ],
      "metadata": {
        "id": "dFKWLFzxExs-"
      }
    },
    {
      "cell_type": "code",
      "source": [
        "################## 1회만 추천한 영화의 비율 ##############\n",
        "\n",
        "only_one = movie_count < 2\n",
        "\n",
        "one, all_data = len(only_one), len(rating_movie)\n",
        "\n",
        "print(f'one : {one}, all_data:{all_data}')\n",
        "print(f'Ratio of only_one over all data is {one/all_data:.2%}')"
      ],
      "metadata": {
        "colab": {
          "base_uri": "https://localhost:8080/"
        },
        "id": "9bvAvplPE03u",
        "outputId": "7527c9e4-6b33-45e9-c4db-dadd7cae4a9a"
      },
      "execution_count": null,
      "outputs": [
        {
          "output_type": "stream",
          "name": "stdout",
          "text": [
            "one : 3628, all_data:836482\n",
            "Ratio of only_one over all data is 0.43%\n"
          ]
        }
      ]
    },
    {
      "cell_type": "markdown",
      "source": [
        "0.43% 밖에 안되네요"
      ],
      "metadata": {
        "id": "cdGZB4yYF2Zz"
      }
    },
    {
      "cell_type": "markdown",
      "source": [
        "- 신규 user인 chaaaaabbo가 6041로 잘 들어가있는 것이 보입니다.   \n",
        "\n",
        "- 그리고 여러 조건별로 데이터를 확인해보았습니다. \n",
        "\n",
        "- 그럼 유저별 영화 별점 정보를 통해 선호도를 계산할 수 있게 되었으니 전처리를 끝내고 모델을 설정해봅니다.   \n",
        "\n",
        "- ~~원래는 id to index, movie to index를 만들어야하지만, 이미 user_id와 movie_id로 잘 들어가 있으니 바로 모델 생성으로 넘어가겠습니다.~~ \n",
        "- 처음에 별점 낮은 것을 삭제하면서 id에 공백이 생겼으니 다시 indexing 해줍니다."
      ],
      "metadata": {
        "id": "p-YuteiHwRv_"
      }
    },
    {
      "cell_type": "markdown",
      "source": [
        "## STEP 4. CSR matrix 만들어보기\n",
        "--- \n",
        "- 이번에 사용할 모델은 추천 시스템의 Matrix Factorization(MF, 행렬 분해) 모델 중 CSR Matrix입니다. \n",
        "- CSR(Compressed Sparse Row) Matrix는 평가 행렬의 용량이 커짐에 따라 메모리 낭비를 최소화하기 위해서 사용하는 방법입니다. \n",
        "- CSR Matrix는 data, indices, indptr 로 행렬을 압축하여 표현합니다. \n",
        "![image.png](data:image/png;base64,iVBORw0KGgoAAAANSUhEUgAAAyAAAAGFCAIAAACKXABLAAAgAElEQVR4Ae3dCXwU5f348eeZ2c1uNiEcCRDkknJZtIpKERS8pYLaikgVsUo9W8uv1KtaW9vaalvv46/1KFhNBRVbBWutioi2inIJsR4ggsgpCoQcm+xudub5v3YfXZE7YfaYmc++Wkz2eJ7n+/4+u/PNzDOzUikluCGAAAIIIIAAAgg4J2A41xQtIYAAAggggAACCKQEKLCYBwgggAACCCCAgMMCFFgOg9IcAggggAACCCBAgcUcQAABBBBAAAEEHBagwHIYlOYQQAABBBBAAAEKLOYAAggggAACCCDgsAAFlsOgNIcAAggggAACCFBgMQcQQAABBBBAAAGHBSiwHAalOQQQQAABBBBAgAKLOYAAAggggAACCDgsQIHlMCjNIYAAAggggAACFFjMAQQQQAABBBBAwGEBCiyHQWkOAQQQQAABBBCgwGIOIIAAAggggAACDgtQYDkMSnMIIIAAAggggAAFFnMAAQQQQAABBBBwWIACy2FQmkMAAQQQQAABBCiwmAMIIIAAAggggIDDAhRYDoPSHAIIIIAAAgggQIHFHEAAAQQQQAABBBwWoMByGJTmEEAAAQQQQAABCizmAAIIIIAAAggg4LAABZbDoDSHAAIIIIAAAghQYDEHEEAAAQQQQAABhwUosBwGpTkEEEAAAQQQQIACizmAAAIIIIAAAgg4LECB5TAozSGAAAIIIIAAAhRYzAEEEEAAAQQQQMBhAQosh0FpDgEEEEAAAQQQoMBiDiCAAAIIIIAAAg4LUGA5DEpzCCCAAAIIIIAABRZzAAEEEEAAAQQQcFiAAsthUJpDAAEEEEAAAQQosJgDCCCAAAIIIICAwwIUWA6D0hwCCCCAAAIIIECBxRxAAAEEEEAAAQQcFqDAchiU5hBAAAEEEEAAAQos5gACCCCAAAIIIOCwAAWWw6A0hwACCCCAAAIIUGAxBxBAAAEEEEAAAYcFKLAcBqU5BBBAAAEEEECAAos5gAACCCCAAAIIOCxAgeUwKM0hgAACCCCAAAIUWMwBBBBAAAEEEEDAYQEKLIdBaQ4BBBBAAAEEEKDAYg4ggAACCCCAAAIOC1BgOQxKcwgggAACCCCAAAUWcwABBBBAAAEEEHBYgALLYVCaQwABBBBAAAEEKLCYAwgggAACCCCAgMMCFFgOg9IcAggggAACCCBAgcUcQAABBBBAAAEEHBagwHIYlOYQQAABBBBAAAEKLOYAAggggAACCCDgsAAFlsOgNIcAAggggAACCFBgMQcQQAABBBBAAAGHBSiwHAalOQQQQAABBBBAIAABAtkTUEplr3FaRgABrwpIKb0aGnH5R0CyCfRPsokUAQQQQAABBHIjwB6s3Dj7sRel1MaNG5ubm4UQXqrjTdMMBALxeFxKT/19IqUMhUKxWMxjcQkhiouLY7GYlyahzlE4HE4kErZte+bzRccVCoU6d+7smaAIxLcCFFi+TX0WA7dt2zCMJUuWPPPMM/3797dt20s7/Ddv3rx69epDDz1UKeWluBKJxKJFi4YOHeqxuIQQc+fOHTJkiGF4Z8mpztGCBQv69+9fVlaWxTdzbpvWcb3//vsTJkzo16+f/iTJ7RDoDQHHBCiwHKOkoe0EotHoiBEjhg0btt39bv9148aNb7zxxhlnnOH2QHYcv2EY55577o73u/2eRCJx3nnnuT2KHccfCAROOeWUNm3a7PiQq++ZNWtWQ0ODq0Ng8AgIISiwmAbZEjAMo76+3krfTNPMVjc5bFf/eV1XV9fU1OSluDRhQ0NDPB63LMtLuw10yuLxeCwWCwaDOZws2e3KsizTNGOxWG1tbSQS0WFmt8uctK7jamxs7NixY046pBMEsihAgZVFXJo2DEOXVl4qsEzT9FhceqKapiml1P965miarjx0XN6YhJlPlUy+TNP0TIElhNDvr0yY/ICAewW8syjBvTlg5AgggAACCCDgMQEKLI8llHAQQAABBBBAIP8CFFj5zwEjQAABBBBAAAGPCVBgeSyhhIMAAggggAAC+RegwMp/DhgBAggggAACCHhMgALLYwklHAQQQAABBBDIvwAFVv5zwAgQQAABBBBAwGMCFFgeSyjhIIAAAggggED+BSiw8p8DRoAAAggggAACHhOgwPJYQgkHAQQQQAABBPIvQIGV/xwwAgQQQAABBBDwmAAFlscSSjgIIIAAAgggkH8BCqz854ARIIAAAggggIDHBAIei4dwvCCgVNajkEKI1P+5IeBTgVy8y3iL+XRyEbYWoMBiJhSegORzufCSwog8JsC7zGMJJZzCE6DAKryc+HZEti0MI/bBe6v/7xIjEhHZ+Qtbmmaypqb9GWM7TbpaWZY0Td96E7h/BWx71YXnNq9bI8PFQtmOO6TeZVs2V1z4o/LzL+Jd5jgvDbpFgALLLZnywzhTRwbtaLRx8SKjJKJisWzELEMha+vWkkGDU41np4bLxrBpEwFnBZo+eC+xcrkwTGFbzrYshDDC4eSWmuZR61Mt8y5z3JcGXSJAgeWSRPlnmIGADJiRgw/testdQjm6UCppiYBZ99IL6355nYxE/CNKpAhsLyCFEYkYxZH9H54W6NJF2EoYDh2XT7/LaqY//ukttxrFxdv3y+8I+EmAAstP2XZJrCqZlMXFxQO+lY3xxpZ+oBLJVOnGDQE/Cyhb2Xbxtw4OdKp0nKGhy2sqnnS8WRpEwF0CFFjuypdvRmvbwrZTBxecW4qbqtsCARWPc/qgb6YRge5BwI5GU2+09PLHPTx17x7+4l2WSPAu2zswnuVlAQosL2fX3bEZhrMFljCM1P+cq9jczcvoEUitlkq/KfQPjoDwLnOEkUY8IcCFRj2RRoJAAAEEEEAAgUISoMAqpGwwFgQQQAABBBDwhACHCD2RRoIQIplMmqYpPXQE0E7fUpecl9IwDM+ElokrfWDKMAyP/JmnlLKsLy55kIrKQ3HZtq3SV1uQUppcOo7PWwT2ToACa++ceFYBC+iP/kDAU5NZKbXdRlop5YEay8NxSSm3nYSeydd2RZVt256pHQv4U42heUHAI387eiEVxNBaAZm+XXTRRXPnzhVCZPYitLa9/L9Ob5vnz59/6aWXjho16uabb66trZVS6lIy/+Nr7Qh0XCtWrLj66qtHjhx53XXXrVmzxjNxbd68+cYbbxw1atTEiROrq6s9E1c0Gr3zzjtPPfXUCy+88PXXXzcMw+3zsLXzl9ch0DIBCqyWefHsAhSIRqO33XbblClT1q9PXTna7Z/+lmVJKefMmXPEEUf897//LSsru/baa08++eSmpiZXR2fbqa9kWbFixZAhQ6qqqsrLy++///6hQ4fqrOlHC3B27XFIer7V19cfe+yxN9xwQ7t27f79739/+9vfnj9/vqvLfR1XLBYbMWLEVVdd1aZNm4ULFw4fPvzvf/+7lNIDf8bsMbM8AYF9FKDA2kdAXp43Af0R/6tf/apr165XX321aZqhUChvo3GuY30c8Prrr+/Tp8///ve/J5544uWXX37rrbeeffZZKaWrCxEp5R133NHQ0FBdXf3YY48tXrx4/fr19957r6vjsm1bSvn444+/++67b7zxxrRp0957771OnTrdcMMNrj6kqwv96dOnz5079/XXX3/88cerq6sHDx58ww036OO8bv9Lxrm3LC0hsHMBCqydu3Bv4QvohSCnnHLK5MmTq6qqbNtOJl1/8Wi96YrFYgsWLBg/frxpms3NzSeccEKnTp1mz57t6j1YOl+vvPLKiBEjKisrY7HY/vvvf/TRR+u43LusR9cZs2bN6t279+DBgxOJRDgcPvPMM9944w3btt2+JHzFihUHHHDA0KFD9Q7UwYMHb9y40RvLywr/I44Rul3AU+uC3Z4Mxt8iAb17YOjQoUIIbyxR0vWTlHLLli2JRGL//ffXG2+lVLdu3TZs2KDPKGyRUoE8WW+SlVI1NTW9evXK/NqrV6///Oc/+nRCl262dWm4cePGHj16ZPLVq1evaDRaV1fXrl07l8alF+z/4he/uPrqq5ubm4uLi2tqah577LHjjz/eMAyWuhfIO4thFLIAe7AKOTuMbc8CyWTSsqza2to9P9U9z9BHP7e96kQgEGhubnZvgaXtbdu2LCsTlz7tzgP7HYUQuuDQRb+UMhgM2ratU+aeebeTkYbD4dLS0mAwuHDhwkGDBhUXF99yyy0cHNyJFHchsIMABdYOJNzhKgHDMMz0zVWj3sNg9c6DeDye2fkRi8X0CjNXb9t0sjJxKaWampqCwaDmcPWKpUAgsG1cjY2NpmkWFRXtIdOF/bBK32zb/uUvf/ntb3+7d+/eb775Zu/evfUex8IeO6NDIP8CFFj5zwEjQCAjoIuM8vLycDi8dOnSTM2xevXqbt26uXcNll7GLqXs2LFjJi4p5bJlyzp37uzqs+30aQddu3ZduXJlZg/W0qVL27RpU1ZWlsmsG3/QBdbYsWNvvfXWqqqql156qWfPnnpRvxvDYcwI5FiAAivH4HSXLYHMgadsdZCTdnUhUlRUdMwxxzzyyCNbt24NBAJVVVVbt249+eSTXX2IUBcio0aNmj179rvvvltUVDRv3ryFCxeeeuqp7i0cMxkZNWrU+vXrn3nmmWAw+Omnnz755JMnnXSSvpxBpkrOyQxyrBPLsgzDmDZt2tNPPz1//vwf/OAHumn3no7gGA0NIbB3AhRYe+fEswpbQCnVnL4V9jBbMLo//vGPyWSyf//+w4YNmzBhwqmnnjpy5Eh9jmELWimkp5qmqZT62c9+1q9fv8GDBw8bNmz48OGHHHLIpZdeqpRy79l2Oq4zzzzzuOOOO+OMM4YNGzZgwIDi4uLf/va3mSO8hZSHvR2LrgurqqqEEBdccEG/fv0GDBjQv3//s846Szfh6qPVe6vA8xDYBwHOItwHPF5aAAJ6M9C+ffvJkycPHjxYCOHeTbXm1FfKPvTQQxcvXjx9+vQNGzZMnDhx7NixekPu0t0hek+PUqpLly5vvvnm448//uGHH5533nlnn312WVmZqwsRnbVQKPTiiy8+8cQTixYtGj169FlnndWtWzdXF8R6pk2cOHH06NGxWEyvu0omk127dtUhu3cqFsDnFkPwhQAFli/S7OEg9ad8SUnJhRdeqMP0wOe+PlDYq1eva665ZtvcuT00/e0xHTp0+MlPfpKJywPVlY4rGAz+IH3Tobk9Lj3Zvvvd72YyxQ8IINAiAQqsFnHx5MIVSCaT3liGpYn1pYb0uiUppWEYbq+udFy6Fsl80YpnUqbjsm1bHzjb7ou6C/dts6eRWZa13aHA7b77eU8N8DgC/hWgwPJv7j0Wub60gZeC8sxGeruk6MtfbXenB371ZOXh9gPuHphXhOBeARa5uzd3jBwBBBBAAAEEClSAAqtAE8OwEEAAAQQQQMC9AhRY7s0dI0cAAQQQQACBAhWgwCrQxDAsBBBAAAEEEHCvAAWWe3PHyJ0WsG2nW6Q9BBD4UkApYdtCqS9/578IeFyAAsvjCSa8vRWwbWHwdthbLZ6HQMsEbFtImXqLSUmN1TI6nu1aAS7T4NrUeXvgSinLSn0QS+lUoKkGpUz9Db3Tm2EkVq8MdKw0iiM7fZw7EfCegLKt1PvCuR1LX7zLdtxNZRjN61YnN30WPnCgDLDd8d5UIqKdCDDRd4LCXXkWUEoGAtI0nR2GbtCIRMR2xyjSG4PYe0vWX3tZ13uqQt/om9resDfLWX1aK0gBs03b1PvCufeafpfJUPird5lK/UmzefLdtTOfNNu2F8nkfrc9FOzWUyhbSPYZF+S0YFAOCVBgOQRJM84JyKKQVV/f8Pprju/BkqbZ9P67RrjoazvGpNxw/aSG114S6StgOhcHLSFQwAKGIU2z4T9zAp06O/hGU5YlTTO+8iOjOKiDl8Gi+MoPNz1we89Hng0POGTNT8ZtfuS+yl/domwlHf4bqoC1GZovBSiwfJn2Ag5aNTerWFNj9dvLRx6bjWGm9mBZCdVQ/1XjSlVccnmHH1y64Zf/p5oTX93PTwh4VUAJu67erq/7+ILxwko6HqVRUiKsZjsaTbWslJRGxSVXhA8aKIQIVnZVTU2O90iDCBSgAAVWASbFr0NKL7cKtGtXNmKUjEScW3z1pacSQgohDWtrTfjAg1L3ftlHsPv+qdLKMFh++yUW//W0gJSlw45u7t0nveLQTh3Oc2qtY+ZdVrMl1Kdfqr6y7aJefcov+ZkQombq5PrZz3e//4n0m8+pLj2dKYJzswAFlpuz57GxpxdkhPr2/8b0Z3MT2VfLvJRSsRjVVW7Y6SX/AlJ2v/PPuRmGTC9nTH726YbfXN68fk3XO/8aPvCQ1HuNZY65SQC95E+AAit/9vS8UwGllG1/uWtpp8/Y1zvT5yamzxjPtCRlagGWaWb2aWUe4QcEvClg2yp18C5bwaXeZV+WUCoRX3/dT8IDDu5+/+Nf9Je9jrMVEO0i0GIBCqwWk/GC7AroQiebfex8m6KUVVujsrAeJZuh0DYCrRUwjJ2/EVrb3nav+6JxyxKppfSzov+ZFf7mtz675Xqrrrbk6JPKRpzGubrbifGr9wQosLyXUyJqoUD6j2lZXNzxit8EK7ulXpzdTU8Lh8fTEXCvQHonVlGvvl3+cJ8da5JCBCo6BTqUpwJiJ5Z708rI906AAmvvnHiW1wVkINjmxFO+jDKrf9t/2Qn/RcDzAukqKtS7f6h3/+1jpcDaXoTfvSZAgeW1jBJPqwVSl/DRX+XR6iZ4IQII7CigbJX5BgW9NuvL5Vk7Ppd7EPCMAAWWZ1JJIPsq8NVJhfvaEq9HAIFtBKQhTS7avg0IP/pDgEnvjzwTJQIIIIAAAgjkUIACK4fYdIUAAggggAAC/hCgwPJHnokSAQQQQAABBHIoQIGVQ2y6QgABBBBAAAF/CFBg+SPPRIkAAggggAACORTgLMIcYvuvq/TX3th26qtvvHBlqfRXi0g7/R0jqai8EpeemNvG5ZmpqlOWmYeeiUvPvUxcOkwPRJeJywOxEAICFFjMgSwKFBUVGelbFvvIedPhcNiTcRUXFweDQe/lSwgRDAZDoVDOZ0oWOzT0FdKLioqLi/XPWewsh01n4sphn3SFQLYEKLCyJUu7wWBw+vTpH374oW3b3tgG6P0En3/++ccff7xlyxbPxKXnajwenz9/fjKZ9MzuECGEjuW1115rbm42TdMz70o99958881169a1bdvWMynTcb3zzjuXXXaZZ5JFIL4VoMDybeqzHnhzc/OJJ554/PHHW5bljW2b3oytWrVqwYIFY8eO9UxceipEo1Ep5bnnnuulwlGnLBaLjR8/PhDwzsednntSyhNOOKGystIzBZaO6/nnn29ubs76JxQdIJBlAe984mQZiuZbI1BcXByJRDzz6a8JIpFIOBz2XlxCiFAoFIlEWpPpwn5NKBQqKSnxRpWvpfV7KhwOl5SUeCllOq7i4mKlVGHPKUaHwJ4FOItwz0Y8o9UCdvoLyPS/rW6kcF6oP/T18nYhhGfi0sJ6kbvH4tIp04vBC2ci7ftIMu8s/YNnypFMXPtORAsI5F2AAivvKWAACCCAAAIIIOA1AQosr2WUeBBAAAEEEEAg7wIUWHlPAQNAAAEEEEAAAa8JUGB5LaPEgwACCCCAAAJ5F6DAynsKGAACCCCAAAIIeE2AAstrGSUeBBBAAAEEEMi7AAVW3lPAABBAAAEEEEDAawIUWF7LKPEggAACCCCAQN4FKLDyngIGgAACCCCAAAJeE6DA8lpGiQcBBBBAAAEE8i7AdxHmPQUMwG8CSighpEj96/hNNyul4w37t0GlspUs8eU0IF/+nV5E7mUBCiwvZ5fYClJApjbYeuOajfFRXDmrqquf7Klmr2VnHWgNAQRaKECB1UIwno7Avgkoy9q3Bvb46tT+MWmae3weT9izgG0rZad3NO35ua19hpKGKdiJ1Vo+XodAwQpQYBVsahiYtwRSR5qkVV+3cuypVkNDqgBSWThGaBh2Y2PxQQfv//C0VPtstls7iVQyKQOBzY/9dePtfwqUl6tksrUt7e510gwka7Z0u+2eshNPVlZSmnwg746LxxBwlwDvZ3fli9G6XMC2E2tWW3W1MhAQdhYKLNOwow2B8gqXMxXK8K3a2sTHK+xog2puzsaYZCCY3PS5HY1mo3HaRACB/ApQYOXXn959JiClDBaZ7dr3nv6s0abMyZ1Mti0MI7Zs6cfnjJbhsM9YsxWuDIXshNFh/ISKi3+skpYMOHbgVVmWNM0Nv7t+y9SpMhjMVgC0iwAC+ROgwMqfPT37U8C2hRBFvXob4WLHAexoNLXGKxsHHx0fq0saVM2W2bZdUbce2RivEYlkf01eNgZOmwggsGcBCqw9G/EMBBwXULEmURRyfA+WiscdH6rfG5QitQDLtvWqLKc09B4skfUzHpwaL+0ggECLBSiwWkzGCxBwQEAawjCcLLCESDXIqnYHcrNDE1KmbPX/dniwlXcoRb5aScfLEHCJAFdyd0miGCYCCCCAAAIIuEeAAss9uWKkCCCAAAIIIOASAQoslySKYSKAAAIIIICAewQosNyTK0aKAAIIIIAAAi4RYJG7SxLFMHctoJSy09c+kFIahnf+ZvBqXEIIO/UVNMpj+crMUB2d6aFvK9IRpc+jMCQnUmQyzQ8I7FaAAmu3PDxY8AK2bRuGkdmY6V8LftR7HqBX41Lpa3Rl6mBdZu2Zwz3PUEplonPPqHc30u3eU9v9urtX8hgC/hagwPJ3/l0evd6YRaPRt956q6mp6fDDD+/SpYsHttk6rqampjfffLO+vv6www7r3r27N+LS+z8WL168atWq3r17H3zwwUIID4Sm30m6+Kiurq6rqxs+fLgH4tJTcc2aNYsXLy4rKxsyZEg4HPZAXC7/5GP47hCgwHJHnhjljgJ6Y/bOO++MGTPmk08+CQaDSqkHHnjgvPPOc/Uf2bZtSymXLl16+umnr1q1KhgMxmKx22+//ac//amr49L7rpqams4///ynnnqqbdu2tbW1559//uTJk03T9MA2Wydu8+bNRx999MEHH/zf//7Xtu3MvtUdJ3Dh36Pn2/333z9p0qSioqJYLHbAAQfMmDGjd+/erp6KhS/PCL0h4J0FK97IB1G0SEApdfHFFzc2Nr7//vtr16494YQTLr744s8++8wwDL0qq0WtFc6TpZQXXXRRIpFYtmzZunXrzj777CuuuGLjxo2ujkvXH1OmTHnqqaemTZu2cePGhx566NFHH502bZqU0tX50jNHB/jjH/+4rq6usrKycKZT60aiS6hVq1ZNnDhxzJgx69evr66uXrdu3WWXXcYyrNaR8iq/CVBg+S3jHolXf/qvX79+/vz5v/71r/v06dO+ffs77rgjkUi88sorehm1G0PNHBz84IMPrr/++p49e5aVlV1yySWWZa1fv96NEWXGrLfKU6dOPeKII8aNGxcKhS6++OIBAwZMnTo18xz3/mBZViAQuPPOO5ctW3b66ad/9tln7o1Fj1yXvC+++KJt23fccUdZWdmBBx54zTXXvPzyyzU1Na6u9d2eGsbvFgEKLLdkinF+TUAfb1qzZo2U8qCDDtJnOXXp0iUSiSxfvvxrT3XVL7oKKSoqqq6uHjdu3KZNm3QFOXTo0L59+7r3OJouHIUQq1evPuyww2zbjsfjtm0fcsghq1at0qenuSpRXxusPhS4bNmyK664oqqqqmvXrolE4mvPcO0vH374YXl5eUVFhZ2+HXLIIUqpdevWuTYgBo5A7gQosHJnTU+OCzQ1NSmliouL9XlbxcXFoVAoGo063lGOGzRNs1u3buFw+Oabbz7yyCNfffXVM844o7S01L0Flga0LKu5uTkSieh8GYZRUlIST39BtZRSF805pt737vSwLcs6/fTTL7nkkkMOOeTzzz8PBAJuP+ipa/2mpqbi4uJgMKiL4JKSEiFEU1PTvrvRAgKeF6DA8nyKvRygTN+SyaQQQkqZTCbdvqx4u2xdeeWV1dXVV1111dVXX/3MM88YhmFZ1nbPcdGvOl+WZemiRCllWZbbF/Too9W//vWvi4qKHnzwQSFEcXGxaZqG4e5LRukcSSkz+RJCJJNJnUQXzTqGikC+BCiw8iVPv/skoLfKHTp0UEpt3rzZsqxkMtnQ0BCNRsvLy/ep6by+WO/2WLVq1a233lpTU1NZWXnggQfeeuutnTt3fvrpp/UVDfI6wFZ2rndQ6V1WGzZs0L9KKdevX19WVqbXzLmx0lJKmabZ2Nh4yy23rFy58sADD9Tn2c2bN2/w4MGbNm1yb8p0psvLy7du3drU1GTbtmVZn332mVKqQ4cOrZwHvAwBPwlwmQY/ZdtDseqNcc+ePUOh0MyZM0eOHCmE+M9//pNMJg877DC9Q8u94TY0NPz85z/fb7/9xo8fL4RoaGior693+4lpeufiYYcd9uqrryaTyXA4HI1G586dO3bsWF1gufH6nHoeBoPByZMnf/7557FYLBAIPPXUU1u3btUL+d07CXVogwYN0tdjO+GEE4QQM2bMKCsr22+//dz+FnNvXhi5iwQosFyULIb6lYA+sb9t27Y//vGP77rrrsr0bdKkSYceeuhRRx2VWVL91Qtc8pM+OevAAw8cOXLkeeedt3r16o4dO955551KqQsuuMDti8GFED/72c/+8Y9/nHrqqePGjZsyZUp9ff3EiRPdHlcwGDz//PMzU+zdd9/96KOPLr/88sxRtsxDLvrBMAyl1Iknnti/f/8zzjjjjjvuWL58+ZNPPvmb3/wmHA5bluXqS3y5KBEM1b0CFFjuzZ3fR64PM/3pT38qKyv729/+Fo/Hx44d+4c//EFfcdSNx5t0RvUal6lTp95www1/+ctf4vH4oEGD/vrXv37zm990b+EohNBXEx02bNjTTz998803X3vttX369Hn++ecPPfRQV6BRF3EAACAASURBVMels6YXAuqyY8CAAR07dtTLldxbhei/YSKRyHPPPffLX/7y17/+dWlp6U033fTzn//cA/ny+6cn8edEgAIrJ8x0kgUBXUKFQqEb0rdMD24/1U7H1b59+7vSN8/EpQ8qKaVGp29eiksIEQikPkv1v9ddd10mOlf/oHdi9enT58knn3R1IAwegbwIsMg9L+x06piAPhMtc6q8vpq2Y63nr6Ft49KXIHLvPrltFbc9K02vm/ZGXNvGqNK3be9x7896P5Y+92LbOeneiBg5AjkTYA9WzqjpKCsCUsrMUZjMD1npKbeNbhuXG1d/70YrkyaPxZUJ2WMlYyZN287JTLD8gAACuxJgD9auZLgfAQQQQAABBBBopQAFVivheBkCCCCAAAIIILArAQqsXclwPwIIIIAAAggg0EoBCqxWwvEyBBBAAAEEEEBgVwIsct+VDPcjkEUBZVnKSgqlhJTOdGPbQhnKzd9U6IxDNlqxbWUlU/lyKFep789JZUqlJgA3BBDwqAAFlkcTS1iFLCBloH0Hx0orHamZ+o/Ztt1OttlKKdtO1QaG4XCnhYzs1NiUkMXF0gxI08lPS92aLCoSuy+xbDsVh8GhBqfSSTsI5E7AyY+M3I2anhBwrYAMBFRzouapx43iYieDSO8MS6xdI8Nhue32OH2/NNP1l5P9+aUtoyQUX/ZB7T+fSRWp28LuG4BurXndWiMS2mVLSlFa7RKHBxAoeAEKrIJPEQP0koBtJ2u3WrVbP54wXqT3TTgbnAwKYUhra80Xzaarq+SmjfWz/mUUR9qcdIpR0sbJ45LOjr7wWlPRBhWP10yfumnKlGyMziyL2I1xO9a0k8ZtWxhG0//eVvF4ZNBQoWwh2Y+1EyfuQqBgBSiwCjY1DMyDArKoqP2Ys+ymxj0fG2pd9FLa0YZQr96pV6erq+a1q9dcNq7oG/2Sn22onflEtz9PM8LF1Fh71k2vjQsP+Fb5ueeY7drrrwrY86ta+AwphFVXW9SzV+p1267GS+fO2lqz5uKx7UafExk0VFm2DFBgtdCXpyOQVwEKrLzy07l/BNKbTyNS0u2Wu3MTdOo7GQ2jftazwa49ut31VyHER8d/K778g+KDDxe2/bXNeW4G5Kpe9EHVsu+MKvvOqNwMXBpfHcZNHUA0zc/vvtGIlBhlbXMzAHpBAAFnBSiwnPWkNQT2IPDF6WOpE9J2v7x5D+3s4mHdbOr7g/SCobJRZ5SdMib2XnXdc38v+kb/UN9vsvtqF3Q7u9u21RfFaDaSldptJZRKFXPb7r5KV1dbHn1AKNX+B5cmN6xNHR/khgACbhOgwHJbxhivywVyt948vc0OdN5PCFH30j8bXp9tlrWzG6OpQ4Tc9lLAMBxc2L5XfaaXXsWXf1A/+189q/655dH7ZTicXn1FjbVXfjwJgcIR4KB+4eSCkSDgrEBqp0vsvSXNGzd0OPeSb/xzrjCMrU9VCSlTe2W4FbDApntvtutrP//zrQ1zXmh887Xo3DmpupysFXDKGBoCOwqwB2tHE+5BwAsCqWXRprll6l9UNNr17kdSq96TSSMc8UJsHo4hfSWItmN/EP/wAymljJTIZLMMhjiw6+GcE5pXBSiwvJpZ4vK7gJSp9T3lF05ad/kFay79vt1QL4PBtt/7fmrRj3PXc/K7cnbiLx12QumwE4QQdiJuN9RHvn2kSiZlgI/r7HDTKgLZEeAdmx1XWkUg7wLpKirUu9/+U59vfHueEQ4XHz5EBoJ5HxcD2LPAl4vr251xjrCVsG0Z+Oocwz2/nGcggEABCFBgFUASGAIC2RNQymhTVnrMSV/0kL7AUvZ6o2VnBL5cXB/oWOlMg7SCAAI5F6DAyjk5HSKQS4H0gcLUCh59KcttLweQy2HQV+sEMolr3ct5FQII5E+AAit/9vSMQG4EpPzaZZZy0ym9OCJAQewII40gkA8BLtOQD3X6RAABBBBAAAFPC1BgeTq9BIcAAggggAAC+RCgwMqHOn0igAACCCCAgKcFKLA8nV6CQwABBBBAAIF8CLDIPR/qvunTtm0rffNGxEopKaWdvnkpLp0dy7J0vmzbVvrkNfenLZMyy7IMD11e1bKs1GVIv3x/6TDdny6RicsDsRACAhRYzIFsCSil2rRpY6Zv2eojH+22bdu2tLTUk3GVlJR4Ly4hRElJSTgczsdkyVafppm67mhJSUm7du30z9nqKbft6lhKS0s9U+Ln1o/eCkuAAquw8uGl0QQCgVdffTUajdq27Y2dB3o/wYYNG5YuXRqJRDwTl551TU1Nb7/9dmVlpWd2h6S+fjG90/Htt9/u1KlTwENfNaPn3sKFC5VSHTp08EzKdFxvvfXW6NGjvfRhSCz+FKDA8mfecxR1OBwuLS21LMsbf2TrzVgkEvFYXHo2GIYRCoVKS0u9VDjqlOm4vFRg6fdUKBSKRCJ6f0/qqyfdf9NxeWx3o/vTQgStFKDAaiUcL9ujQDKZHDRo0NChQ/f4THc9YePGjYFAwHtxCSHWrVvnybiWLVs2fPhwd02zvRnt6tWrjz322DZt2uzNk130nGg02tzc7KIBM1QEdipAgbVTFu50QEBKWV9fr9fhemkPVn19fWNjo5fi0sluaGhoamrSS/i9cUg3c4iwqakpHo8Hg975omu9p6epqamurq6kpMQzhwh1XNFotKKiwoHPIJpAIK8CFFh55fd650b6ppTyxgZbb8YMw5BSGobhmbj0NMzEJYTwRr4yBZbOl2eC0nFl8qWnojcOEer3lJcy5fXPeOLbnQDXwdqdDo8hgAACCCCAAAKtEKDAagUaL0EAAQQQQAABBHYnQIG1Ox0eQwABBBBAAAEEWiFAgdUKNF6CAAIIIIAAAgjsToACa3c6PIYAAggggAACCLRCgAKrFWi8BAEEEEAAAQQQ2J0ABdbudHgMAQQQQAABBBBohQAFVivQeAkCCCCAAAIIILA7AQqs3enwGAIIIIAAAggg0AoBCqxWoPESBBBAAAEEEEBgdwIUWLvT4TEEEEAAAQQQQKAVAhRYrUDjJQgggAACCCCAwO4EKLB2p8NjCCCAAAIIIIBAKwQosFqBxksQQAABBBBAAIHdCVBg7U6HxxBAAAEEEEAAgVYIUGC1Ao2XIIAAAggggAACuxOgwNqdDo8hgAACCCCAAAKtEKDAagUaL0EAAQQQQAABBHYnQIG1Ox0eQwABBBBAAAEEWiFAgdUKNF6CAAIIIIAAAgjsToACa3c6PIYAAggggAACCLRCgAKrFWi8BAEEEEAAAQQQ2J0ABdbudHjMLQIqfXPLaPd+nF6NSwihlNp7Bxc906sp82pcLppaDNV1AhRYrksZA/6agFLKsiyZvtnp29cedvMvmbiUUrZtuzmUr43dsiwhhJRS5+5rj7n5F8uylFJ6KuoY3RzNV2PXb6tMXF6tjL8KmJ8QcEiAAsshSJrJk4CU0jRNIYRt20b65pkNgI5Ll1mGYXgjLqXUtnGZpumluKSUurTSMebpPeFkt0op/bbSJb5pmlJKJzugLQS8K0CB5d3cej0yfcyiqanp6quv7tatW8eOHceMGbNy5Uoppdv39+ia4/bbb+/bt29FRcXxxx//1ltveSAu27allI8//vjAgQMrKioGDRo0Y8YMD8Sld1y9+uqrw4cPr6ioOOCAA+677z4PHAbVcX3wwQennnpqRUVFjx49rr/++mQyyeFCr3+4Ep8zAhRYzjjSSu4F9Kf/VVddddttt1122WW33nrrrFmzvve97yUSCX34KfdDcqRHvcvqgQceuOqqq77zne/8+c9/Xrdu3ciRIzds2OD2uAzDmDNnzjnnnLP//vs/9NBD7du3Hz169IIFCwzDcO8xNV01fvzxxyeffHJDQ8MDDzxw1FFHTZw4cdq0aVLKZDLpyKzIfSO6ym9oaDjttNPmzZt35513Tpgw4cYbb/zNb37jgZo495706EOBgA9jJmQPCOgjF7W1tX/5y1+uvPLK6667TgjRvXv3ESNGvPHGG8cdd1wymQwE3De9dVxCiNtvv/3EE0+89957hRDDhg3r0aPH9OnTJ02a5NK4MlPunnvu6d69+4wZM4QQY8aM6dix43333ffII49knuC6H/Sx6aqqKsuyZs+e3aFDh7POOuvdd9+97bbbzjnnHPceK7QsKxAIvPzyyytWrHjrrbeOOOIIIcT69evvueee66+/PhwO679wXJcvBoxAzgTYg5UzajpyUkD/eb1q1arm5uaTTz7ZSt8GDRpUVFT09ttvO9lTztuSUtbX169cuXLkyJG2bScSie7du++///4LFizI+Vic7NAwUp82S5YsOeaYY4QQsVjMMIwjjzxS58u9K3v0yBcsWDBgwIAOHTrE43Hbtr/zne8sW7bM7TtThRALFy4sLS095JBDksmkZVkjR45saGhYt26dBw6AOjm5aQuBnQlQYO1MhfsKXkAXWDU1NVLK9u3bm6ZpGEZpaWkkEtm8eXPBD3+XA9Rx1dbW2rZdUVFhGIY+LNixY8ctW7YIIXSZssvXF+oDem+HbdvRaLRTp076V6VU586d6+vrdVw69kKNYJfj0gVWbW1tx44ddVyGYXTq1Ckej+vQdvlKNzxQU1PTtm3bUChkGIZpmuXl5VLKmpoaN4ydMSKQZwEKrDwngO73RWDbxbb6NHJvrA7Rpca2O3Vcvfoqk+JMCaVD0/9m7sw8zY0/7BjFtpPTjRFtm53MVNTzcMdg3RggY0Yg2wIUWNkWpv0sCkQiESllQ0ODbdtKqcbGxqampjZt2mSxy5w0XVxcLISoq6vTp0NKKevq6kpKSvTVKHIyhKx0YppmMBisq6vTW2ilVG1tbTgc1sebMlvxrPSd5UbD4XBdXZ0Owbbt2traQCCg85jlnrPVvM5RJBKJRqOJRELPvbq6OiFEJBLJVq+0i4CHBCiwPJRMP4Wit2Tdu3dXSi1evFgfSlu9enUsFuvbt697JXRcHdK3efPmGYYRDAaj0ejHH3/cr18/V8eli8WePXsuWrRIShkKhaSUixcv7tWrl6sLRx1X3759P/zwQ9u2i4qKDMOYP39+ZWWlroldXTj269dv69at69at01fDWrhwoZSya9eu+lKx7p2QjByBHAhQYOUAmS6cF9AX3uzSpctRRx11ww03LFu2rKamZuLEicXFxccdd5x71yrpK1UahnHWWWf97W9/mzNnTjQavfLKK+Px+JgxY9wbV2ZN9Pnnn7948eIpU6ZEo9G77757xYoV5513nvPzI4ct6vpp3LhxtbW11157bTQafe6555599tnx48cLIdx7+Qm92u/kk08OBAI//elP6+rqqqurb7755pNPPrldu3b64hQ5ZKYrBNwn4L7z2N1nzIizI6CvaPDQQw+dddZZBx10UCAQCIVCDz/8cMeOHfWZ89npNuut6trx97///bJly0444YRIJGJZ1h/+8IfDDz/c1XHpi7ZPmDBh7ty5l1xyyaRJk+Lx+KWXXvr9738/c3n3rONmoQMd19FHH/2rX/3qlltu+fOf/9zY2Dhq1Khrrrkmc9GNLHSb9SYNw7Btu0ePHg8++OCkSZMqKysTicTAgQPvvfde1mBlXZ8OPCFAgeWJNPoyCF2IDBgwYOHChUuWLInH4wMGDKioqHD1Vi3zJX3l5eWzZ89esmTJ1q1be/furQ+GuvQUwsz01EcGH3300V/84hcbNmzo1q2bq4/nbhuXEOL3v//9RRddtHLlyoqKim9961seWFim32IXXHDBKaecsnTp0pKSkoEDBwYCAbe/xTKJ4wcEsipAgZVVXhrProA+ZzAUCumrIGa+kTC7vWa/dX2ulpRy4MCBujdX77vaFkzv/DggffNMvjI56pm+6V+9cR1O/RbrnL55Ka5t5yQ/I5AlAQqsLMHSbI4E9B/ZeqGxXoebo46z3E3mfPjMpZWy3GGOmtcrlvRZn1JKt++T21ZNH1PL5MvVa9u3i0sppRdd6YuhbPsoPyOAwK4EKLB2JcP9rhGQUrr3C0l2o+zhjZmX6qptM+jVuLz6Fts2d/yMgOMCnEXoOCkNIoAAAggggIDfBSiw/D4DiB8BBBBAAAEEHBegwHKclAYRQAABBBBAwO8CFFh+nwHEjwACCCCAAAKOC1BgOU5KgwgggAACCCDgdwEKLL/PAOJHAAEEEEAAAccFKLAcJ6VBBBBAAAEEEPC7AAWW32cA8SOAAAIIIICA4wIUWI6T0iACCCCAAAII+F2AAsvvM4D4EUAAAQQQQMBxAQosx0lpEAEEEEAAAQT8LkCB5fcZQPwIIIAAAggg4LgABZbjpDSIAAIIIIAAAn4XoMDy+wwgfgQQQAABBBBwXIACy3FSGkQAAQQQQAABvwtQYPl9BhA/AggggAACCDguQIHlOCkNIoAAAggggIDfBSiw/D4DiB8BBBBAAAEEHBegwHKclAYRQAABBBBAwO8CFFh+nwHEjwACCCCAAAKOC1BgOU5KgwgggAACCCDgdwEKLL/PAOJHAAEEEEAAAccFKLAcJ6VBBBBAAAEEEPC7AAWW32dAVuMPBAJCCNM0s9pLzhqXUgohAoGAjsgzcWnAYDCoIzIM73ws6JSZphkMBnM2T3LQUWYG6reYDjMH/Wa7i0xc2e6I9hHIgUBq+8cNgWwISCm3bNmyefNmy7K8UYsopaSUn3/++datW70Ul85+NBqtra3dvHmzbdueqbF0yurq6j799FMv1Vj6PVVbW/v5558bhqHDzMa7OMdt6ri2bt3atWvXHHdNdwg4LkCB5TgpDX4hEAgE3nzzzdraWs9ssDMF1sqVKwOBgGfi0gmLx+PV1dUzZ870zNZaCKFjqa6uLisr80aVr5Ol597ixYsTiUTbtm09kzIdV3V19cCBA/kkRcDtAhRYbs9g4Y4/kUh873vfGz58eOEOsVUj+/TTT998883Ro0e36tWF+yKlVCQSOf/88wt3iK0dmZTyhz/8YWtfXbivi0QiI0eObNu2beEOsVUjmzVrVjweb9VLeRECBSRAgVVAyfDYUKSUjY2NVvrmjZ0Hej9BQ0ODx+LSE6+hoaGpqcmyLC/tmdMpa2pqisVi3jtE2NTU1NDQUFpa6pk9WPoQYWNjo2dWlXnsU51wWiRAgdUiLp7cMgHDMLy0alVvxoz0zUtx6aSapqnzJaX02BosHZc3qvzMO1DnS4fmmQJLnxPjmemXSRY/+FPAO6cL+TN/RI0AAggggAACBShAgVWASWFICCCAAAIIIOBuAQosd+eP0SOAAAIIIIBAAQpQYBVgUhgSAggggAACCLhbgALL3flj9AgggAACCCBQgAIUWAWYFIaEAAIIIIAAAu4WoMByd/4YPQIIIIAAAggUoAAFVgEmhSEhgAACCCCAgLsFKLDcnT9GjwACCCCAAAIFKECBVYBJYUgIIIAAAggg4G4BCix354/RI4AAAggggEABCvBdhAWYFH8PSSllWdkmkIYhDP66yDaz+9u3bWXb2Q5DmqaQMtu90D4CCORYgAIrx+B0tycBKWWAabknJR7PjYBhpGpxbggggEDLBdiStdyMV2RJQCkhZXLzprpZL8hgMHsbNruxMdz/gMigI4Rtsx8rS8l0fbPpuRH74L3GtxcakUi2wlHKjjWVDju2qEdPoWwhKeayJU27CORegAIr9+b0uAuB1AbGjK/46JOLfiCLw3ZdbBfP26e7jUjAjiY7/viSyKAjlG1nr4zbp1Hy4nwL6LlR++9/rrvmF0ZZkd2QyMaIzDZhqzbW64kninr0TPVoUmBlg5k2EciPAAVWftzpdVcCsqjIbN++qEfP0qOO3tVzWnl/eg9Z89o1tS+9ZLRp28pGeJmfBIySUqOsuHT48HC/A0R6/jgWfbq1psWLGpcsMcJhx5qlIQQQKBgBCqyCSQUD+VLAjjYUde3W7Za7v7zDyf9unfmPLU8942SLtOVhASmtrU1tjh/R+adXZiPKtVdOrP/PG6xwz4YtbSKQdwEKrLyngAHsICClSiaVlXR2n4FKJmUgYEejghO2diDnjl0KSKGampSV1PNnl09r4QPKsqRpqkSC2dhCOZ6OgGsEKLBckyp/DVRKaQacLbCEEqk2OSnMXzPJiWgNIz0b0/PHifbSbUiuzuCYJQ0hUJACrKksyLQwKAQQQAABBBBwswAFlpuzx9gRQAABBBBAoCAFKLAKMi0MCgEEEEAAAQTcLECB5ebsMXYEEEAAAQQQKEgBFrkXZFoY1F4LpL+68KvvLkwtjjfNvX51QT/RTt+EEFJKwzCkV76ubtuUmabpmbiEEJZlKaWEEEb6VtDTa68Hp5Sybdt7ce01AE9EoJUCFFithONlBSKQ/upCD05j27a9tJHOzBal1HYp0/dknuDeH5RS2xb3nolruz9a9Mx0b5oYOQI5E/DglilndnSUXwG9Afv000+nT58ejUaFELZtl5eXX3LJJYbLr8WglDIMY9myZY899tiaNWuOPvro8ePHh0Iht2+z9fg3btz46KOPvvfeewMHDjz//PM7dOjggbj0jsYZM2Y888wzpaWl55577tChQ70Rl1Jq+vTps2bN6tChw7hx4w477DC3x5XfDy56948Aa7D8k2uvRWpZqSODr7766qRJk6ZPn/7EE088+eSTL7zwgm3bQgh9RMONMevxz58/f+DAgQ8//PCaNWsuvPDC7373u4lEwr1B6fJXCLF27dohQ4b87ne/27Bhw7XXXnvUUUdt2rQp86gb86Unm5Ty+uuvHz169Jo1a1577bUjjzzyueeek1LqWereuIQQP/zhD8eNG/fRRx/NnDlz0KBB//rXv9wel0vTwbBdJ0CB5bqUMeAvBPTanQULFhx22GGLFy+urq5+5513ZsyYEQik9su6emWPlPK6664rLy9ftmzZ7Nmzn3766Zdeeun55583DMO9G2y92+POO+9cs2ZNdXX1Sy+9tGjRoqVLl95///1SSl1WunFy60NmixcvvvHGGydPnvzKK6+8++67Rx555F133eXqeWhZlmEYCxcurKqquvvuu1977bVly5Ydfvjhl19+uQ7Z1eW+G2caY3adAAWW61LGgL8m8Pbbbx966KEfffTR3LlzGxsbXb3vSg/eMIxEIvHGG29MmDChtLQ0mUyOHj26vLz8xRdfdHV0uuR98cUXR4wY0bt373g8ftBBBx155JH//ve/XV2I6NLw4Ycf7tOnz4UXXrhly5a6urpXXnllypQperX71+are37R9dOcOXOCweCECRNs25ZS/uhHP1q+fPnGjRullBRY7kkmI82PAAVWftzpdR8F9ILiRCLxySefPPbYY8OGDTv22GP79Okzc+ZMV+8O0RutzZs3x2Kx3r17qy9vPXr0WLdunXsLEb2qTCm1adOmvn376qLEtu2+fft+9tlnQgjTNF26wdaF4wcffFBeXn7mmWf27Nmzc+fOF1xwQUVFhT7/bh+nen5fvnbt2g4dOpSUlOjivmfPnlLKjRs35ndU9I6AKwQosFyRJga5vYDeGNfW1hYXF5977rmzZ89euHBhr169zj777HXr1hmG4d5DTkKIZDIphAgEApkDncFgMJFIuLfA0vmzbduyrEAgoM9CMAwjGAw2Nzdvn11X/Z45o2LevHmNjY1PP/30PffcM23atAkTJmTS56qAvhisHnwymQwEAvrsSCllUVGRUkpPRTcGxZgRyKUAZxHmUpu+HBPQW7WOHTu+9957mUYfeeSRfv36vfrqq+PHj3f1yeR6e7btqvZEIlFUVOTqQ4T6eJlpms3Nzbo+VkrF4/FgMKgz6OpyJJFItG/ffubMmTqcNWvW3HTTTbW1tW3btnXpOXc6R4FAoLm5Wa/HUkrFYjEpZSZlmbcePyCAwI4C7MHa0YR7XCCgP/1Xrlz55JNPWpbVnL6Vl5ebpllTU+OCAHYxRF1klJeXFxUVrVixQv8qpVy9enWXLl3cW2Dp47ZSyg4dOixfvjwT1/LlyysqKvQlOndBUuh3632l5eXlFRUVwWCwsbHRsqz+/fvbtl1fX+/elGn3/fbbb8uWLfX19ZZlSSk/+eQTpVSnTp0KPSuMD4ECEKDAKoAkMISWC+it2qeffnr22WdPmzYtmL797W9/syxryJAh7j2UpguRUCg0dOjQqqqqRCIRDAafeeaZLVu2nHTSSe6NK1NnnHTSSS+//PKqVatCodD777//1ltvjRgxIvNoyydCobzijDPOWL58+bx58yKRiGmaDz/8cNeuXbt06aIXnxXKKFsyDl0EH3PMMclksqqqSp+c++CDD/bq1auystK9cbXEgOcisE8CHCLcJz5enC8B0zRt2x4yZMg555xz3nnnVVVVWZY1Z86c//u//xs0aJBt29teUztfg9yXfm+66aZjjz32wPRt5syZw4cPP+2001y9VdPnnV1xxRVPPfXUoEGDhg8fPnv27F69el122WWujksv+DvzzDOrqqqGDBly2mmnrVq16r333vvHP/5hmqZlWS6dipm32NixYydNmjRr1qy1a9cuWbLk73//u6vj2pd3Ja9FoEUC7MFqERdPLiAB/Q19VVVVjz32WGVlZb9+/f71r3/dc889Ll3ykpE1DEMpddRRRy1atOi73/1uJBL5f//v/73wwguhUMjVe7D0srmePXvOmzdv4sSJ4XD4mmuumTt3bmVlpasvZyDTt+Li4ueee+6OO+4oLi4eOXLkokWLTj/99O2+PCeTYrf8oHdiTZ06dcqUKWVlZUceeeTrr78+ZswYt8flFn/G6XYB9mC5PYP+Hb/+9DdNc3z6piHcXl3pKPSBwoMPPvj222/PJNgDoemdWN27d//tb3/rvbhCodDll1+eicvVp1lk5qEQIhgMXpC+6Ts9MA8zOeIHBLIqQIGVVV4az7qAvtSQXvO+3bfSZr3vbHagDzxlLjZhmqYuKLPZZy7a1rWjJ+NSSmWus++lL+refKw0xwAACcFJREFU9i3mpbhyMd3pw98CFFj+zr/7o/dSUbVdNry6MfNqXFJKvRJ8uzy6/VcPv8XcnhrGX+ACrMEq8AQxPAQQQAABBBBwnwAFlvtyxogRQAABBBBAoMAFKLAKPEEMDwEEEEAAAQTcJ0CB5b6cMWIEEEAAAQQQKHABFrkXeIIYXk4ElPqqGym/+pmfEMijQGpaKiH5MziPOaBrBFovQIHVejtemV0BpcS2dc++d6Yb3GmbFFX7zuvtFnYzeVoX+B6nt20LwxBCpt4FqZqfur910LwKgbwJUGDljZ6OdycgpdD/292TWvaYDAZTm6nATua8SsSthtT38gqlzDZtZVFRy5rm2d4WMEwhpZ4/TgX6xTxMlVC7uBlGctNndrShqOc3dvEM7kYAgYIW2MnGpqDHy+A8L6CUURyJr/joo++mvtvY8ZvdUB9oGxG2/UXL6f0Em+6/rf7FZ82KTnY02vkXN0UGDU09YTcbP8eHRYOFKWBZgXbh2hnTG157ORsDTG781GwTUZnZqPtQtpDGlqoHax6fIg1Z1OeA/f5wnxEpST3IrtZspIE2EciOAAVWdlxptdUClmXHYsktm5rXrm51G7t4oRRCyXDYjsdUIv7Fc9JVVFP1wsrf3RkZdKSKx4WRPhZDdbULRF/drZqb7Xgs8ckqe+n76YN026zVcwLCKC5JzcZk8qvG0pV97L0lW6ru7/HIjKL9enxy3mlNi+eXDDte2JaQ5lfP5CcEEChsAQqsws6Pr0aXrmnCAw7sN/sNaZrZW9urEolAx06p3QHpHq2tNXZdbcNrsxpefbHNCacUHzo4veqFJS++mnzbB5uagUJ0OPvc0uHHyqJgtpZAKaWam0O9UgcBpZHqUSlbCqNhzgslg49qXrWy4ZUXKm+4o6hn79ScTD9h+4HyOwIIFKoABVahZsaP40rVNEakJHLIYbmMPvnZBqtuq0g2C9Nc86Oz9rvtL6XDTxSWJdKb2FyOhL4KSCB9MC7QqXOgU+ccjSrdo0wvZrdjsfo5LyrLVs2JLVUPdH9weqh3Pw5b5ygRdIOAQwIUWA5B0oxTAns8u8qRjvQK+vQerKJv9N3/76+YZe1SDduqduaTpcNPVNnaZeHI6GkkVwKp2WhnfS7scD6H3dgQ6nPAfjffL4RYN2lC7TNTO111g8Mn1eaKkH4Q8K0ABZZvU1+oge+wscneQJVtS8NonPd67P0l5RdfnuooEFCWlb0eadllAqnZmNNlT0ooKUSgcr/m9Wu1lVFaqpq3WaTlMkGGi4B/BSiw/Jt7ItfLrAIdO29++N7kls1m23a1M57Y74/3cbYWcyNfAnpdYNtTx9Y98/jGP15nlLRpeGNO9/umpsbDKYT5ygr9ItAqgV1fhaVVzfEiBNwkYBhCqVC/AT0f/adQyqrZ0vWuv5YcdRwLit2URI+NVabmZHC/7l3vqVLKtpui3e59LHzgwPSc5OPaY8kmHI8LsAfL4wkmvD0IyNSVskP9BnS+9qYvnpm6cDanEO6BjYezKKDnZN9vVl73J+ZkFp1pGoEsC1BgZRmY5gtfQEph2yr9FTpSSq4vWvgZ8/4ImZPezzERel+AAsv7OSbCPQsY+uqie34iz0AgRwLMyRxB0w0C2RLgoH62ZGkXAQQQQAABBHwrQIHl29QTOAIIIIAAAghkS4ACK1uytIsAAggggAACvhWgwPJt6gkcAQQQQAABBLIlQIGVLVnaRQABBBBAAAHfCnAWoW9Tn/XApZRKKSt9y3pnOelAKSWltNPXdPBSXBovE5f+ISeiWe9Ep0zPQyP91ZNZ7zInHVjpL3RSqUuR2pZl6TBz0nN2O8nElbpgCjcEXC5AgeXyBBbw8JPJZCgUMtO3Ah5mi4dWUlISDAa9F1dpaWkgEPBeXOlvmAyEw+EWZ7qAX2CaqW9IDAaDJSUl+ucCHmwLhqZjKSoq0pVWC17JUxEoPAEKrMLLiVdG1K5du+nTp69YscK2bW/sPND7CbZu3bp+/fr6+nrPxKVnXCKReP/99x9++GHP7A4RQuhY3nnnncmTJ3tjEupk6bn3v//9b/PmzaWlpZ5JmY7ro48+uvDCC73yQUgc/hVIHcTxb/REnmWB+vr6RCKR5U5y3bxpmoFAIB6P57rjLPcnpQyFQrFYLMv95KH5cDgcj8e991kXDocTiYRt23kwzWaXRUVFbdq0yWYPtI1ALgQosHKhTB8IIIAAAggg4CsBziL0VboJFgEEEEAAAQRyIUCBlQtl+kAAAQQQQAABXwlQYPkq3QSLAAIIIIAAArkQoMDKhTJ9IIAAAggggICvBCiwfJVugkUAAQQQQACBXAhQYOVCmT4QQAABBBBAwFcCFFi+SjfBIoAAAggggEAuBCiwcqFMHwgggAACCCDgKwEKLF+lm2ARQAABBBBAIBcCFFi5UKYPBBBAAAEEEPCVAAWWr9JNsAgggAACCCCQCwEKrFwo0wcCCCCAAAII+EqAAstX6SZYBBBAAAEEEMiFAAVWLpTpAwEEEEAAAQR8JUCB5at0EywCCCCAAAII5EKAAisXyvSBAAIIIIAAAr4SoMDyVboJFgEEEEAAAQRyIUCBlQtl+kAAAQQQQAABXwlQYPkq3QSLAAIIIIAAArkQoMDKhTJ9IIAAAggggICvBCiwfJVugkUAAQQQQACBXAhQYOVCmT4QQAABBBBAwFcCFFi+SjfBIoAAAggggEAuBCiwcqFMHwgggAACCCDgKwEKLF+lm2ARQAABBBBAIBcCFFi5UKYPBBBAAAEEEPCVAAWWr9JNsAgggAACCCCQCwEKrFwo0wcCCCCAAAII+EqAAstX6SZYBBBAAAEEEMiFAAVWLpTpAwEEEEAAAQR8JUCB5at0EywCCCCAAAII5EKAAisXyvSBAAIIIIAAAr4SoMDyVboJFgEEEEAAAQRyIUCBlQtl+kAAAQQQQAABXwlQYPkq3QSLAAIIIIAAArkQoMDKhTJ9IIAAAggggICvBCiwfJVugkUAAQQQQACBXAhQYOVCmT4QQAABBBBAwFcCFFi+SjfBIoAAAggggEAuBCiwcqFMHwgggAACCCDgKwEKLF+lm2ARQAABBBBAIBcCFFi5UKYPBBBAAAEEEPCVAAWWr9JNsAgggAACCCCQCwEKrFwo0wcCCCCAAAII+EqAAstX6SZYBBBAAAEEEMiFAAVWLpTpAwEEEEAAAQR8JUCB5at0EywCCCCAAAII5EKAAisXyvSBAAIIIIAAAr4SoMDyVboJFgEEEEAAAQRyIUCBlQtl+kAAAQQQQAABXwlQYPkq3QSLAAIIIIAAArkQoMDKhTJ9IIAAAggggICvBP4/ADdS45uSg3oAAAAASUVORK5CYII=)\n",
        "\n",
        "    - data는 0이 아닌 원소를 차례로 기입한 값입니다.\n",
        "    - indices는 data의 각 요소가 어느 열(column)에 있는지를 표현한 index입니다.\n",
        "    - indptr은 [최초시작행번호,시작행에서의 데이타 개수,두번째 행에서의 데이타 누적 개수,...,마지막행에서의 데이타 누적개수] 입니다. 이를 통해 data의 요소들이 어느 행(row)에 있는지를 알 수 있습니다.\n"
      ],
      "metadata": {
        "id": "f-1Ie2V9HN-T"
      }
    },
    {
      "cell_type": "markdown",
      "source": [
        "각 유저와 영화의 고유한 인덱싱을 다시 부여해줍니다 ."
      ],
      "metadata": {
        "id": "j-AcGFAhQ0-S"
      }
    },
    {
      "cell_type": "code",
      "source": [
        "########### 고유한 유저, 영화 찾기 ###############\n",
        "user_unique = rating_movie['user_id'].unique()\n",
        "title_unique = rating_movie['title'].unique()"
      ],
      "metadata": {
        "id": "OZxM9LyYQfkx"
      },
      "execution_count": null,
      "outputs": []
    },
    {
      "cell_type": "code",
      "source": [
        "########### 유저, 영화 indexing ############\n",
        "user_to_idx = {value:key for key, value in enumerate(user_unique)}\n",
        "title_to_idx = {value:key for key, value in enumerate(title_unique)}"
      ],
      "metadata": {
        "id": "1M0PJgwOQ0mC"
      },
      "execution_count": null,
      "outputs": []
    },
    {
      "cell_type": "code",
      "source": [
        "# 인덱싱이 잘 되었는지 확인해 봅니다.  \n",
        "print(title_to_idx['Pulp Fiction (1994)'])"
      ],
      "metadata": {
        "colab": {
          "base_uri": "https://localhost:8080/"
        },
        "id": "ET2pTmfmRMYx",
        "outputId": "118a5aaa-2f30-45b4-e3cb-918765fa5bdd"
      },
      "execution_count": null,
      "outputs": [
        {
          "output_type": "stream",
          "name": "stdout",
          "text": [
            "222\n"
          ]
        }
      ]
    },
    {
      "cell_type": "code",
      "source": [
        "########### indexing을 통해 데이터 컬럼 내 값을 바꾸기 ################\n",
        "\n",
        "# user_to_idx.get을 통해 user_id 컬럼의 모든 값을 인덱싱한 Series를 구해 봅시다. \n",
        "# 혹시 정상적으로 인덱싱되지 않은 row가 있다면 인덱스가 NaN이 될 테니 dropna()로 제거합니다. \n",
        "\n",
        "temp_user_data = rating_movie['user_id'].map(user_to_idx.get).dropna()\n",
        " # 모든 row가 정상적으로 인덱싱되었다면\n",
        "if len(temp_user_data) == len(rating_movie):\n",
        "    print('user_id column indexing OK :)')\n",
        "    # data['user_id']을 인덱싱된 Series로 교체해 줍니다. \n",
        "    rating_movie['user_id'] = temp_user_data\n",
        "else:\n",
        "    print('user_id column indexing Fail :(')\n",
        "\n",
        "    "
      ],
      "metadata": {
        "colab": {
          "base_uri": "https://localhost:8080/"
        },
        "id": "V0slbkO-M_oL",
        "outputId": "5d88dcb5-5013-497e-e052-8fb2c03b077e"
      },
      "execution_count": null,
      "outputs": [
        {
          "output_type": "stream",
          "name": "stdout",
          "text": [
            "user_id column indexing OK :)\n"
          ]
        }
      ]
    },
    {
      "cell_type": "code",
      "source": [
        "# title_to_idx을 통해 title 컬럼도 동일한 방식으로 인덱싱해 줍니다. \n",
        "temp_title_data = rating_movie['title'].map(title_to_idx.get).dropna()\n",
        "\n",
        "if len(temp_title_data) == len(rating_movie):\n",
        "    print('title column indexing OK :)')\n",
        "    rating_movie['title'] = temp_title_data\n",
        "else:\n",
        "    print('title column indexing Fail :(')\n",
        "    \n",
        "rating_movie"
      ],
      "metadata": {
        "colab": {
          "base_uri": "https://localhost:8080/",
          "height": 441
        },
        "id": "28xxh-oIRx4v",
        "outputId": "4d157272-07f4-40db-a40f-05e9cf0afed4"
      },
      "execution_count": null,
      "outputs": [
        {
          "output_type": "stream",
          "name": "stdout",
          "text": [
            "title column indexing OK :)\n"
          ]
        },
        {
          "output_type": "execute_result",
          "data": {
            "text/plain": [
              "        user_id  movie_id  counts  title                 genre\n",
              "0             0      1193     5.0      0                 Drama\n",
              "1             1      1193     5.0      0                 Drama\n",
              "2             2      1193     4.0      0                 Drama\n",
              "3             3      1193     4.0      0                 Drama\n",
              "4             4      1193     5.0      0                 Drama\n",
              "...         ...       ...     ...    ...                   ...\n",
              "836477     1621      3607     5.0   3623  Comedy|Drama|Western\n",
              "836478     3481      3026     4.0   3624                Horror\n",
              "836479     3481       690     3.0   3625               Romance\n",
              "836480     4159      2909     4.0   3626           Documentary\n",
              "836481     1648      1360     5.0   3627                 Drama\n",
              "\n",
              "[836482 rows x 5 columns]"
            ],
            "text/html": [
              "\n",
              "  <div id=\"df-4a10fd70-1cb5-4ecf-b203-464c66556765\">\n",
              "    <div class=\"colab-df-container\">\n",
              "      <div>\n",
              "<style scoped>\n",
              "    .dataframe tbody tr th:only-of-type {\n",
              "        vertical-align: middle;\n",
              "    }\n",
              "\n",
              "    .dataframe tbody tr th {\n",
              "        vertical-align: top;\n",
              "    }\n",
              "\n",
              "    .dataframe thead th {\n",
              "        text-align: right;\n",
              "    }\n",
              "</style>\n",
              "<table border=\"1\" class=\"dataframe\">\n",
              "  <thead>\n",
              "    <tr style=\"text-align: right;\">\n",
              "      <th></th>\n",
              "      <th>user_id</th>\n",
              "      <th>movie_id</th>\n",
              "      <th>counts</th>\n",
              "      <th>title</th>\n",
              "      <th>genre</th>\n",
              "    </tr>\n",
              "  </thead>\n",
              "  <tbody>\n",
              "    <tr>\n",
              "      <th>0</th>\n",
              "      <td>0</td>\n",
              "      <td>1193</td>\n",
              "      <td>5.0</td>\n",
              "      <td>0</td>\n",
              "      <td>Drama</td>\n",
              "    </tr>\n",
              "    <tr>\n",
              "      <th>1</th>\n",
              "      <td>1</td>\n",
              "      <td>1193</td>\n",
              "      <td>5.0</td>\n",
              "      <td>0</td>\n",
              "      <td>Drama</td>\n",
              "    </tr>\n",
              "    <tr>\n",
              "      <th>2</th>\n",
              "      <td>2</td>\n",
              "      <td>1193</td>\n",
              "      <td>4.0</td>\n",
              "      <td>0</td>\n",
              "      <td>Drama</td>\n",
              "    </tr>\n",
              "    <tr>\n",
              "      <th>3</th>\n",
              "      <td>3</td>\n",
              "      <td>1193</td>\n",
              "      <td>4.0</td>\n",
              "      <td>0</td>\n",
              "      <td>Drama</td>\n",
              "    </tr>\n",
              "    <tr>\n",
              "      <th>4</th>\n",
              "      <td>4</td>\n",
              "      <td>1193</td>\n",
              "      <td>5.0</td>\n",
              "      <td>0</td>\n",
              "      <td>Drama</td>\n",
              "    </tr>\n",
              "    <tr>\n",
              "      <th>...</th>\n",
              "      <td>...</td>\n",
              "      <td>...</td>\n",
              "      <td>...</td>\n",
              "      <td>...</td>\n",
              "      <td>...</td>\n",
              "    </tr>\n",
              "    <tr>\n",
              "      <th>836477</th>\n",
              "      <td>1621</td>\n",
              "      <td>3607</td>\n",
              "      <td>5.0</td>\n",
              "      <td>3623</td>\n",
              "      <td>Comedy|Drama|Western</td>\n",
              "    </tr>\n",
              "    <tr>\n",
              "      <th>836478</th>\n",
              "      <td>3481</td>\n",
              "      <td>3026</td>\n",
              "      <td>4.0</td>\n",
              "      <td>3624</td>\n",
              "      <td>Horror</td>\n",
              "    </tr>\n",
              "    <tr>\n",
              "      <th>836479</th>\n",
              "      <td>3481</td>\n",
              "      <td>690</td>\n",
              "      <td>3.0</td>\n",
              "      <td>3625</td>\n",
              "      <td>Romance</td>\n",
              "    </tr>\n",
              "    <tr>\n",
              "      <th>836480</th>\n",
              "      <td>4159</td>\n",
              "      <td>2909</td>\n",
              "      <td>4.0</td>\n",
              "      <td>3626</td>\n",
              "      <td>Documentary</td>\n",
              "    </tr>\n",
              "    <tr>\n",
              "      <th>836481</th>\n",
              "      <td>1648</td>\n",
              "      <td>1360</td>\n",
              "      <td>5.0</td>\n",
              "      <td>3627</td>\n",
              "      <td>Drama</td>\n",
              "    </tr>\n",
              "  </tbody>\n",
              "</table>\n",
              "<p>836482 rows × 5 columns</p>\n",
              "</div>\n",
              "      <button class=\"colab-df-convert\" onclick=\"convertToInteractive('df-4a10fd70-1cb5-4ecf-b203-464c66556765')\"\n",
              "              title=\"Convert this dataframe to an interactive table.\"\n",
              "              style=\"display:none;\">\n",
              "        \n",
              "  <svg xmlns=\"http://www.w3.org/2000/svg\" height=\"24px\"viewBox=\"0 0 24 24\"\n",
              "       width=\"24px\">\n",
              "    <path d=\"M0 0h24v24H0V0z\" fill=\"none\"/>\n",
              "    <path d=\"M18.56 5.44l.94 2.06.94-2.06 2.06-.94-2.06-.94-.94-2.06-.94 2.06-2.06.94zm-11 1L8.5 8.5l.94-2.06 2.06-.94-2.06-.94L8.5 2.5l-.94 2.06-2.06.94zm10 10l.94 2.06.94-2.06 2.06-.94-2.06-.94-.94-2.06-.94 2.06-2.06.94z\"/><path d=\"M17.41 7.96l-1.37-1.37c-.4-.4-.92-.59-1.43-.59-.52 0-1.04.2-1.43.59L10.3 9.45l-7.72 7.72c-.78.78-.78 2.05 0 2.83L4 21.41c.39.39.9.59 1.41.59.51 0 1.02-.2 1.41-.59l7.78-7.78 2.81-2.81c.8-.78.8-2.07 0-2.86zM5.41 20L4 18.59l7.72-7.72 1.47 1.35L5.41 20z\"/>\n",
              "  </svg>\n",
              "      </button>\n",
              "      \n",
              "  <style>\n",
              "    .colab-df-container {\n",
              "      display:flex;\n",
              "      flex-wrap:wrap;\n",
              "      gap: 12px;\n",
              "    }\n",
              "\n",
              "    .colab-df-convert {\n",
              "      background-color: #E8F0FE;\n",
              "      border: none;\n",
              "      border-radius: 50%;\n",
              "      cursor: pointer;\n",
              "      display: none;\n",
              "      fill: #1967D2;\n",
              "      height: 32px;\n",
              "      padding: 0 0 0 0;\n",
              "      width: 32px;\n",
              "    }\n",
              "\n",
              "    .colab-df-convert:hover {\n",
              "      background-color: #E2EBFA;\n",
              "      box-shadow: 0px 1px 2px rgba(60, 64, 67, 0.3), 0px 1px 3px 1px rgba(60, 64, 67, 0.15);\n",
              "      fill: #174EA6;\n",
              "    }\n",
              "\n",
              "    [theme=dark] .colab-df-convert {\n",
              "      background-color: #3B4455;\n",
              "      fill: #D2E3FC;\n",
              "    }\n",
              "\n",
              "    [theme=dark] .colab-df-convert:hover {\n",
              "      background-color: #434B5C;\n",
              "      box-shadow: 0px 1px 3px 1px rgba(0, 0, 0, 0.15);\n",
              "      filter: drop-shadow(0px 1px 2px rgba(0, 0, 0, 0.3));\n",
              "      fill: #FFFFFF;\n",
              "    }\n",
              "  </style>\n",
              "\n",
              "      <script>\n",
              "        const buttonEl =\n",
              "          document.querySelector('#df-4a10fd70-1cb5-4ecf-b203-464c66556765 button.colab-df-convert');\n",
              "        buttonEl.style.display =\n",
              "          google.colab.kernel.accessAllowed ? 'block' : 'none';\n",
              "\n",
              "        async function convertToInteractive(key) {\n",
              "          const element = document.querySelector('#df-4a10fd70-1cb5-4ecf-b203-464c66556765');\n",
              "          const dataTable =\n",
              "            await google.colab.kernel.invokeFunction('convertToInteractive',\n",
              "                                                     [key], {});\n",
              "          if (!dataTable) return;\n",
              "\n",
              "          const docLinkHtml = 'Like what you see? Visit the ' +\n",
              "            '<a target=\"_blank\" href=https://colab.research.google.com/notebooks/data_table.ipynb>data table notebook</a>'\n",
              "            + ' to learn more about interactive tables.';\n",
              "          element.innerHTML = '';\n",
              "          dataTable['output_type'] = 'display_data';\n",
              "          await google.colab.output.renderOutput(dataTable, element);\n",
              "          const docLink = document.createElement('div');\n",
              "          docLink.innerHTML = docLinkHtml;\n",
              "          element.appendChild(docLink);\n",
              "        }\n",
              "      </script>\n",
              "    </div>\n",
              "  </div>\n",
              "  "
            ]
          },
          "metadata": {},
          "execution_count": 24
        }
      ]
    },
    {
      "cell_type": "code",
      "source": [
        "############# CSR 데이터 만들기 ###############\n",
        "num_user = rating_movie['user_id'].nunique()\n",
        "num_title = rating_movie['title'].nunique()\n",
        "\n",
        "csr_data = csr_matrix((rating_movie.counts, (rating_movie.user_id, rating_movie.title)), \n",
        "                      shape= (num_user, num_title))\n",
        "\n",
        "csr_data"
      ],
      "metadata": {
        "colab": {
          "base_uri": "https://localhost:8080/"
        },
        "id": "352cdFiA32I6",
        "outputId": "1b5fc65e-2fd0-4b05-891f-29ca41c2c20b"
      },
      "execution_count": null,
      "outputs": [
        {
          "output_type": "execute_result",
          "data": {
            "text/plain": [
              "<6040x3628 sparse matrix of type '<class 'numpy.float64'>'\n",
              "\twith 836482 stored elements in Compressed Sparse Row format>"
            ]
          },
          "metadata": {},
          "execution_count": 25
        }
      ]
    },
    {
      "cell_type": "markdown",
      "source": [
        "## STEP 5. als_model = AlternatingLeastSquares 모델 훈련시키기\n",
        "---\n",
        "- implicit 패키지는 이전 스텝에서 설명한 암묵적(implicit) dataset을 사용하는 다양한 모델을 굉장히 빠르게 학습할 수 있는 패키지\n",
        "- 이 패키지에 구현된 als(AlternatingLeastSquares) 모델을 사용하겠습니다. Matrix Factorization에서 쪼개진 두 Feature Matrix를 한꺼번에 훈련하는 것은 잘 수렴하지 않기 때문에, 한쪽을 고정시키고 다른 쪽을 학습하는 방식을 번갈아 수행하는 AlternatingLeastSquares 방식이 효과적인 것으로 알려져 있다. \n",
        "\n",
        "- [ALS model 참고 블로그](https://sungkee-book.tistory.com/13)\n",
        "\n",
        "- AlternatingLeastSquares 클래스의 __init__ 파라미터\n",
        "    1. factors : 유저와 아이템의 벡터를 몇 차원으로 할 것인지\n",
        "    2. regularization : 과적합을 방지하기 위해 정규화 값을 얼마나 사용할 것인지\n",
        "    3. use_gpu : GPU를 사용할 것인지\n",
        "    4. iterations : epochs와 같은 의미입니다. 데이터를 몇 번 반복해서 학습할 것인지\n",
        "-1과 4를 늘릴수록 학습 데이터를 잘 학습하게 되지만 과적합의 우려가 있으니 좋은 값을 찾아야 합니다."
      ],
      "metadata": {
        "id": "YizUdFbQSWyk"
      }
    },
    {
      "cell_type": "code",
      "source": [
        "# implicit 라이브러리에서 권장하고 있는 부분\n",
        "os.environ['OPENBLAS_NUM_THREADS']='1'\n",
        "os.environ['KMP_DUPLICATE_LIB_OK']='True'\n",
        "os.environ['MKL_NUM_THREADS']='1'"
      ],
      "metadata": {
        "id": "ZbWMgB1R32Db"
      },
      "execution_count": null,
      "outputs": []
    },
    {
      "cell_type": "code",
      "source": [
        "########### Implicit AlternatingLeastSquares 모델 구현 ###########\n",
        "\n",
        "als_model_1 = AlternatingLeastSquares(factors = 100, regularization = 0.01, \n",
        "                                   use_gpu=False, iterations=30, dtype=np.float32)\n",
        "                                   "
      ],
      "metadata": {
        "id": "Z2uvCvus318N"
      },
      "execution_count": null,
      "outputs": []
    },
    {
      "cell_type": "code",
      "source": [
        "############# 모델 훈련 #############\n",
        "als_model_1.fit(csr_data)"
      ],
      "metadata": {
        "id": "eec2DS4y3L8_",
        "colab": {
          "base_uri": "https://localhost:8080/",
          "height": 49,
          "referenced_widgets": [
            "7c5bbcf6745e4a73b269805e693dd15c",
            "77fc570daf6f4ff3ac781464b583a031",
            "6959b957c7bf4e3d9dad554545adbc57",
            "bbe9d6dbaa1f400cb56de82fa6b5431f",
            "c14b94d7bf244923a98a3318165be562",
            "fdc701f14b66449b8fb32962123420a8",
            "65f9cadc340c4819a153fea99a0ee925",
            "579b48b221b647439fb0162262acde61",
            "0a4fc82edd5c4777af8311d5e4aff164",
            "a82d4b3bcf574b9cbb92d571faf75797",
            "cf0829656baa4517ace7fc3c6c374ccb"
          ]
        },
        "outputId": "6f0a3d49-3a25-467b-dcb1-c2ea2cb274c2"
      },
      "execution_count": null,
      "outputs": [
        {
          "output_type": "display_data",
          "data": {
            "text/plain": [
              "  0%|          | 0/30 [00:00<?, ?it/s]"
            ],
            "application/vnd.jupyter.widget-view+json": {
              "version_major": 2,
              "version_minor": 0,
              "model_id": "7c5bbcf6745e4a73b269805e693dd15c"
            }
          },
          "metadata": {}
        }
      ]
    },
    {
      "cell_type": "code",
      "source": [
        "chabo, Jurassic_Park = user_to_idx['6041'], title_to_idx['Jurassic Park (1993)']\n",
        "\n",
        "chabo_vector, Jurassic_Park_vector = als_model_1.user_factors[chabo], als_model_1.item_factors[Jurassic_Park]\n",
        "\n",
        "print('과연?')"
      ],
      "metadata": {
        "id": "YExuOnP-l8pJ",
        "colab": {
          "base_uri": "https://localhost:8080/"
        },
        "outputId": "5fa85be6-ecac-44d7-fe18-acb16d03a4fb"
      },
      "execution_count": null,
      "outputs": [
        {
          "output_type": "stream",
          "name": "stdout",
          "text": [
            "과연?\n"
          ]
        }
      ]
    },
    {
      "cell_type": "code",
      "source": [
        "print('차보벡터 : ',chabo_vector)\n",
        "print('쥬라기 공원 벡터 : ', Jurassic_Park_vector)"
      ],
      "metadata": {
        "colab": {
          "base_uri": "https://localhost:8080/"
        },
        "id": "oZVkMO-qTgCd",
        "outputId": "2504a67d-1f48-4e7a-f80a-5f9c88944456"
      },
      "execution_count": null,
      "outputs": [
        {
          "output_type": "stream",
          "name": "stdout",
          "text": [
            "차보벡터 :  [ 0.08977108  0.1589569   0.24308142 -0.5053194   0.3215892   0.10557011\n",
            "  0.08306044  0.5470784   0.16754852  0.4168706  -0.20336238 -0.24214567\n",
            " -0.31814516  0.12849803 -1.264669    0.31450093 -0.38113794  0.7506085\n",
            " -0.05471826  0.09939356  0.1993841  -0.17010528 -0.17442445  0.09915668\n",
            "  0.02169737  0.16903251 -0.07233693  0.3114778  -0.45485476 -0.46799812\n",
            "  0.08804571 -0.83905584 -0.12836288 -0.3755428  -0.42413098 -0.41699815\n",
            "  0.12717165 -0.16817877  0.20160046  0.23036404  0.4108195  -0.2746147\n",
            " -0.4304853   0.3577868   0.29895383  0.08497064  0.44677803  0.24996668\n",
            " -0.16378419  0.04399607 -0.01974928  0.382007    0.49134856  0.55766463\n",
            " -0.35218754  0.21285789 -0.18709098 -0.33530194 -0.2259531   0.18690144\n",
            " -0.38523623 -0.37497103  0.24939449  0.27616355  0.5191493  -0.16484115\n",
            "  0.4825321  -0.5162852  -0.28268942  0.02415121 -0.32644445  0.03629114\n",
            "  0.40251428  0.7449067  -0.12120294 -0.03862991 -0.18928075 -0.17755762\n",
            " -0.08113124  0.24575886  0.33399466  0.31247494  0.10567362  0.6486465\n",
            "  0.04550286  0.2699565   0.39175186 -0.06655384 -0.4970441  -0.16478771\n",
            "  0.14839318  0.08033507 -0.46733984  0.40496585 -0.24181335 -0.20064485\n",
            "  0.05775208 -0.30492663  0.14275445 -0.04998801]\n",
            "쥬라기 공원 벡터 :  [ 0.00313761  0.02941271  0.01063997 -0.02120685  0.02668286 -0.01011418\n",
            " -0.01106492  0.01899932 -0.00166788  0.01893467  0.00280019 -0.03142544\n",
            " -0.00977737  0.05643447 -0.0465553   0.00752155 -0.03319513  0.03939309\n",
            " -0.00113164 -0.00184029  0.00865564  0.04247941 -0.00771735  0.03221857\n",
            "  0.00823521  0.01119307 -0.01239911  0.01870634 -0.00498573 -0.04657202\n",
            " -0.00345525  0.00407559 -0.00557648 -0.02299609 -0.01462227 -0.07194993\n",
            "  0.03119915  0.00342988  0.021584    0.01149526  0.01387569  0.00934461\n",
            " -0.04678474 -0.00686161  0.03541721 -0.01298013  0.01885191  0.01854674\n",
            "  0.00526772  0.00553842 -0.02152386  0.0374271   0.05920453  0.04838761\n",
            "  0.00187355  0.02850745  0.02516778  0.02716684  0.00735251  0.04076075\n",
            " -0.01636455 -0.00627927  0.01098314  0.03368793  0.0121854  -0.01122976\n",
            "  0.03463626 -0.02212136  0.00488599 -0.0197858  -0.02126346 -0.00599901\n",
            "  0.01270642  0.04393439 -0.01644536 -0.00524119  0.00734335  0.02439186\n",
            " -0.01184856  0.01371454  0.01535189  0.03539848  0.01969708 -0.00839742\n",
            "  0.00082697  0.03750985  0.02538992  0.00620314  0.02022307 -0.01810465\n",
            "  0.00158337  0.01054357  0.01336607  0.01824864 -0.03016322 -0.02684419\n",
            "  0.00647221 -0.00852029  0.03433677  0.0166942 ]\n"
          ]
        }
      ]
    },
    {
      "cell_type": "code",
      "source": [
        "# 차보와 쥬라기공원을 내적하는 코드\n",
        "np.dot(chabo_vector, Jurassic_Park_vector)"
      ],
      "metadata": {
        "colab": {
          "base_uri": "https://localhost:8080/"
        },
        "id": "JzHazr-ATmaC",
        "outputId": "9ae6616e-45d6-4351-9733-28ec37b2891b"
      },
      "execution_count": null,
      "outputs": [
        {
          "output_type": "execute_result",
          "data": {
            "text/plain": [
              "0.5067376"
            ]
          },
          "metadata": {},
          "execution_count": 200
        }
      ]
    },
    {
      "cell_type": "markdown",
      "source": [
        "흠.... 원래 1이 나와야하는데, 아직 0.5밖에 나오지 않는다.   \n",
        "\n",
        "모델을 바꿔주자"
      ],
      "metadata": {
        "id": "8j-cRPmwTt9t"
      }
    },
    {
      "cell_type": "markdown",
      "source": [
        "### 모델 변형 1 (iterater 비교)\n",
        "---\n",
        "- factor는 100 그대로 두고, iterator를 100으로 올려보자. 대신 regulation을 0.05로 높여준다. "
      ],
      "metadata": {
        "id": "fvUImToiWKFw"
      }
    },
    {
      "cell_type": "code",
      "source": [
        "########### Implicit AlternatingLeastSquares 모델 구현 2번째###########\n",
        "\n",
        "als_model_2 = AlternatingLeastSquares(factors = 100, regularization = 0.05, \n",
        "                                   use_gpu=False, iterations=100, dtype=np.float32)\n",
        "\n",
        "############# 모델 훈련 #############\n",
        "als_model_2.fit(csr_data)"
      ],
      "metadata": {
        "colab": {
          "base_uri": "https://localhost:8080/",
          "height": 49,
          "referenced_widgets": [
            "aedc96c1cc9041d3883f87e978de2c0b",
            "be3a32fb06754524ab2fec36fd3ad369",
            "39304e84fafb45c8ad412c72e7bf22a4",
            "958899191028428dad330b2c5cfb9cc6",
            "e7970ba5e375452c8c7743dc273c2800",
            "65844994a26346e9bfcd64532758639d",
            "580c6af1ef384840b32e38176c374b03",
            "56d61b6a72f447b6b287884db11b8c57",
            "50e33af327a14ba9bebc8c614dee0476",
            "651ca9f29ed048629eaf4049b56eab59",
            "a053c2ffb5c74bbb81f7e690e21af351"
          ]
        },
        "id": "q-SrlavjTsqV",
        "outputId": "598f1cf8-b22d-4ffd-e03a-d30d9c8908a0"
      },
      "execution_count": null,
      "outputs": [
        {
          "output_type": "display_data",
          "data": {
            "text/plain": [
              "  0%|          | 0/100 [00:00<?, ?it/s]"
            ],
            "application/vnd.jupyter.widget-view+json": {
              "version_major": 2,
              "version_minor": 0,
              "model_id": "aedc96c1cc9041d3883f87e978de2c0b"
            }
          },
          "metadata": {}
        }
      ]
    },
    {
      "cell_type": "code",
      "source": [
        "def dot(user_to_id, title_to_id):\n",
        "    chabo, movie_title = user_to_idx[user_to_id], title_to_idx[title_to_id]\n",
        "    chabo_vector, movie_title_vector = als_model_2.user_factors[chabo], als_model_2.item_factors[movie_title]\n",
        "    dot = np.dot(chabo_vector, movie_title_vector)\n",
        "\n",
        "    Black = title_to_idx['Men in Black (1997)']\n",
        "    Black_vector = als_model_2.item_factors[Black]\n",
        "    dot2 = np.dot(chabo_vector, Black_vector)\n",
        "\n",
        "    return print('내적값은 {:.2}입니다. \\nMen in Black의 내적값은 {:.2}입니다'.format(dot, dot2))\n",
        "\n"
      ],
      "metadata": {
        "id": "y_DAW7QrVOT_"
      },
      "execution_count": null,
      "outputs": []
    },
    {
      "cell_type": "code",
      "source": [
        "dot('6041', 'Jurassic Park (1993)')\n",
        "dot('6041', 'Toy Story (1995)')"
      ],
      "metadata": {
        "colab": {
          "base_uri": "https://localhost:8080/"
        },
        "id": "3GCCYowQWlAl",
        "outputId": "ec431940-1d49-4852-ac05-b0bc184751a2"
      },
      "execution_count": null,
      "outputs": [
        {
          "output_type": "stream",
          "name": "stdout",
          "text": [
            "내적값은 0.52입니다. \n",
            "Men in Black의 내적값은 0.43입니다\n",
            "내적값은 0.48입니다. \n",
            "Men in Black의 내적값은 0.43입니다\n"
          ]
        }
      ]
    },
    {
      "cell_type": "markdown",
      "source": [
        "아주 살짝 높아졌다.... 흠"
      ],
      "metadata": {
        "id": "XEqOU28uXBri"
      }
    },
    {
      "cell_type": "markdown",
      "source": [
        "## STEP 6. 선호 영화 하나와 다른 영화 하나 골라 훈련된 모델이 예측한 나의 선호도 확인\n",
        "---"
      ],
      "metadata": {
        "id": "F-wd8HqecmD7"
      }
    },
    {
      "cell_type": "markdown",
      "source": [
        "#### 모델 변형 1-2 (iterater 비교)\n",
        "---\n",
        "- factor는 100 그대로 두고, iterator를 1000 으로 올려보자. 대신 regulation을 0.1로 높여준다. \n",
        "\n",
        "- 그리고 다른 영화의 선호도도 같이 예측할 수 있도록 확인해서 모델이 잘 돌아가는지 확인해보자. \n",
        "\n",
        "- 참고로 다른 영화는 Men in Black으로 보고 싶은 영화중에 하나다! "
      ],
      "metadata": {
        "id": "EObdIToFXRO6"
      }
    },
    {
      "cell_type": "code",
      "source": [
        "########### Implicit AlternatingLeastSquares 모델 구현 3번째###########\n",
        "\n",
        "als_model_3 = AlternatingLeastSquares(factors = 100, regularization = 0.1, \n",
        "                                   use_gpu=False, iterations=1000, dtype=np.float32)\n",
        "\n",
        "############# 모델 훈련 #############\n",
        "als_model_3.fit(csr_data)"
      ],
      "metadata": {
        "colab": {
          "base_uri": "https://localhost:8080/",
          "height": 49,
          "referenced_widgets": [
            "7d20f88b76f042e9b2695c57f5f1a669",
            "f8dc3c650443406abb558c2dc92432b0",
            "b44972e383df4ee689b06751ac7068c4",
            "b6ae3376a64c4230bf1dadd037e9efc7",
            "b2faba3d2a0741828768d610d76dfff6",
            "80e6547acd464bbcbbbd8fbf6a83aa5f",
            "b896b3832a0745f794560c22e935cd08",
            "d5cbe5e6416342e1a8272e6e3820a1de",
            "cd31db44492d4f3f994d9e2d2bcf9fd7",
            "c289c7579bf249e09f023842b10a65cc",
            "36ee081b3ff944b18f8c23cc1e0f42a2"
          ]
        },
        "id": "KQJaLJ1vWyp7",
        "outputId": "10413c35-a5de-4780-fa23-552d0d00d16b"
      },
      "execution_count": null,
      "outputs": [
        {
          "output_type": "display_data",
          "data": {
            "text/plain": [
              "  0%|          | 0/1000 [00:00<?, ?it/s]"
            ],
            "application/vnd.jupyter.widget-view+json": {
              "version_major": 2,
              "version_minor": 0,
              "model_id": "7d20f88b76f042e9b2695c57f5f1a669"
            }
          },
          "metadata": {}
        }
      ]
    },
    {
      "cell_type": "code",
      "source": [
        "def dot(user_to_id, title_to_id):\n",
        "    chabo, movie_title = user_to_idx[user_to_id], title_to_idx[title_to_id]\n",
        "    chabo_vector, movie_title_vector = als_model_3.user_factors[chabo], als_model_3.item_factors[movie_title]\n",
        "    dot = np.dot(chabo_vector, movie_title_vector)\n",
        "\n",
        "    Black = title_to_idx['Men in Black (1997)']\n",
        "    Black_vector = als_model_3.item_factors[Black]\n",
        "    dot2 = np.dot(chabo_vector, Black_vector)\n",
        "\n",
        "    return print('내적값은 {:.2}입니다. \\nMen in Black의 내적값은 {:.2}입니다'.format(dot, dot2))\n"
      ],
      "metadata": {
        "id": "1d2NRaqcXenr"
      },
      "execution_count": null,
      "outputs": []
    },
    {
      "cell_type": "code",
      "source": [
        "dot('6041', 'Jurassic Park (1993)')\n",
        "dot('6041', 'Toy Story (1995)')"
      ],
      "metadata": {
        "colab": {
          "base_uri": "https://localhost:8080/"
        },
        "id": "6sHZqRbIXh9J",
        "outputId": "3ac94b71-5775-4d63-ba70-5b89d50a384d"
      },
      "execution_count": null,
      "outputs": [
        {
          "output_type": "stream",
          "name": "stdout",
          "text": [
            "내적값은 0.52입니다. \n",
            "Men in Black의 내적값은 0.42입니다\n",
            "내적값은 0.49입니다. \n",
            "Men in Black의 내적값은 0.42입니다\n"
          ]
        }
      ]
    },
    {
      "cell_type": "markdown",
      "source": [
        "내적 값이 아주 조금 올라가고 men in black도 나름 내적값이 나쁘지 않다.   \n",
        "\n",
        "하지만 iter를 올린것에비해 내적값이 많이 올라가지 않는것을 보니 과적합의 의심이들어, regulation 값을 올리고 factor를 낮춰본다."
      ],
      "metadata": {
        "id": "GBxB_4RfaPxL"
      }
    },
    {
      "cell_type": "code",
      "source": [
        "########### Implicit AlternatingLeastSquares 모델 구현 4번째###########\n",
        "\n",
        "als_model_4 = AlternatingLeastSquares(factors = 100, regularization = 0.2, \n",
        "                                   use_gpu=False, iterations=1000, dtype=np.float32)\n",
        "\n",
        "############# 모델 훈련 #############\n",
        "als_model_4.fit(csr_data)"
      ],
      "metadata": {
        "colab": {
          "base_uri": "https://localhost:8080/",
          "height": 49,
          "referenced_widgets": [
            "75441b3433d0472ead21c9cab1791e12",
            "3b14df803b464e4197f5a73491722018",
            "7c7c7b45f31c4021aaf1ba76f91b5b74",
            "106779ace68e49e6922317789eb6bb50",
            "ec5f525600d24cf2b7785920eef66040",
            "7469856adb64455085fb4586a1d0f44c",
            "779a8e8f1d9748899453d77c4cb5ec2c",
            "94255b7934e145aa912529f060bd9827",
            "2e87e09266774f44b0c0eee19cb392ab",
            "ef2088da34ca47ab82ff25781ead4547",
            "d4ef532e61a14bd981aa61f626505a0c"
          ]
        },
        "id": "s44mbiDaXi7Y",
        "outputId": "64bdd48e-ab7e-4049-d640-57bb56221173"
      },
      "execution_count": null,
      "outputs": [
        {
          "output_type": "display_data",
          "data": {
            "text/plain": [
              "  0%|          | 0/1000 [00:00<?, ?it/s]"
            ],
            "application/vnd.jupyter.widget-view+json": {
              "version_major": 2,
              "version_minor": 0,
              "model_id": "75441b3433d0472ead21c9cab1791e12"
            }
          },
          "metadata": {}
        }
      ]
    },
    {
      "cell_type": "code",
      "source": [
        "def dot(user_to_id, title_to_id):\n",
        "    chabo, movie_title = user_to_idx[user_to_id], title_to_idx[title_to_id]\n",
        "    chabo_vector, movie_title_vector = als_model_4.user_factors[chabo], als_model_4.item_factors[movie_title]\n",
        "    dot = np.dot(chabo_vector, movie_title_vector)\n",
        "\n",
        "    Black = title_to_idx['Men in Black (1997)']\n",
        "    Black_vector = als_model_4.item_factors[Black]\n",
        "    dot2 = np.dot(chabo_vector, Black_vector)\n",
        "\n",
        "    return print('내적값은 {:.2}입니다. \\nMen in Black의 내적값은 {:.2}입니다'.format(dot, dot2))\n"
      ],
      "metadata": {
        "id": "CdAWxshmbDy2"
      },
      "execution_count": null,
      "outputs": []
    },
    {
      "cell_type": "code",
      "source": [
        "dot('6041', 'Jurassic Park (1993)')\n",
        "dot('6041', 'Toy Story (1995)')"
      ],
      "metadata": {
        "colab": {
          "base_uri": "https://localhost:8080/"
        },
        "id": "HwKfIxp9bWqQ",
        "outputId": "5c4c01c5-25c9-4156-b6ef-9d009004e13b"
      },
      "execution_count": null,
      "outputs": [
        {
          "output_type": "stream",
          "name": "stdout",
          "text": [
            "내적값은 0.52입니다. \n",
            "Men in Black의 내적값은 0.43입니다\n",
            "내적값은 0.49입니다. \n",
            "Men in Black의 내적값은 0.43입니다\n"
          ]
        }
      ]
    },
    {
      "cell_type": "markdown",
      "source": [
        "### iteration 값 & regularization 조절 결과\n",
        "1. fac = 100, reg = 0.05, iter = 30 -> 0.50\n",
        "2. fac = 100, reg = 0.05, iter = 100 -> 0.52 / 0.43\n",
        "3. fac = 100, reg = 0.1, iter = 1000 -> 0.52 / 0.42\n",
        "4.  fac = 100, reg = 0.2, iter = 1000 -> 0.52 / 0.43\n",
        "\n",
        "- 데이터의 값이 적어서 그런지, iterator를 100 -> 1000으로 무작정 올린다고 비례하게 올라가는 것은 아닌 것 같다.  \n",
        "    - 좋아하는 영화의 내적 값은 0.52로 동일, 추천은 0.43 - 0.42로 오히려 감소\n",
        "-  오히려 처음 30 -> 100으로 소폭 증가시켰을 때 시간대비 효율적으로 내적값이 증가하는 것을 볼 수 있다.  \n",
        "- iter 100 이후 iter 1000, regularization 을 0.05 -> 0.2로 높여봐도 큰 변화 없음. \n",
        "\n",
        "**-> 이후 과정은 factor 변경으로 간다.**   \n"
      ],
      "metadata": {
        "id": "qtYW0Clbddcq"
      }
    },
    {
      "cell_type": "markdown",
      "source": [
        "### 모델변형 1-3 (factor 비교)\n",
        "---\n",
        "iteration, regularization은 2번으로 고정(reg = 0.05, iter = 100)하고 \n",
        "1. factor : 100 -> 50 감소\n",
        "2. factor : 100 -> 200 증가   \n",
        "regularization : 0.05 -> 0.2 증가 하는 것\n",
        "\n",
        "상기 2회 테스트를 진행하면서 factor값에 의한 변화를 확인한다. "
      ],
      "metadata": {
        "id": "zcuorUd5gIo2"
      }
    },
    {
      "cell_type": "code",
      "source": [
        "########### Implicit AlternatingLeastSquares 모델 구현 5번째###########\n",
        "\n",
        "als_model_5 = AlternatingLeastSquares(factors = 50, regularization = 0.05, \n",
        "                                   use_gpu=False, iterations = 100, dtype=np.float32)\n",
        "\n",
        "############# 모델 훈련 #############\n",
        "als_model_5.fit(csr_data)"
      ],
      "metadata": {
        "id": "jI6O43ledAaj",
        "colab": {
          "base_uri": "https://localhost:8080/",
          "height": 49,
          "referenced_widgets": [
            "403fe25f499048618f0a973dc348e370",
            "13c554899e4f48819e062f52afc16948",
            "484a312a38f249f28ac1e604a2fc3473",
            "05c01b56c5e34fa88afcae2c108ed1c7",
            "9e69206675784d32bebd2ef8c2803925",
            "08b53b4a5b22448787d195b2f6df1d3f",
            "24aab8be280643fa9f24dd6ab18ed886",
            "ea14db8157e34dada4cef0f054638f48",
            "b85e0be36fdc41e08bd7124567d1fc6b",
            "e04379f28c1043599b2dd2770924352f",
            "fb87c01e98a741f6b6fae6bc5c2913c3"
          ]
        },
        "outputId": "70b92ece-e858-4986-af77-db97fce51e11"
      },
      "execution_count": null,
      "outputs": [
        {
          "output_type": "display_data",
          "data": {
            "text/plain": [
              "  0%|          | 0/100 [00:00<?, ?it/s]"
            ],
            "application/vnd.jupyter.widget-view+json": {
              "version_major": 2,
              "version_minor": 0,
              "model_id": "403fe25f499048618f0a973dc348e370"
            }
          },
          "metadata": {}
        }
      ]
    },
    {
      "cell_type": "code",
      "source": [
        "def dot(user_to_id, title_to_id):\n",
        "    chabo, movie_title = user_to_idx[user_to_id], title_to_idx[title_to_id]\n",
        "    chabo_vector, movie_title_vector = als_model_5.user_factors[chabo], als_model_5.item_factors[movie_title]\n",
        "    dot = np.dot(chabo_vector, movie_title_vector)\n",
        "\n",
        "    Black = title_to_idx['Men in Black (1997)']\n",
        "    Black_vector = als_model_5.item_factors[Black]\n",
        "    dot2 = np.dot(chabo_vector, Black_vector)\n",
        "\n",
        "    return print('내적값은 {:.2}입니다. \\nMen in Black의 내적값은 {:.2}입니다'.format(dot, dot2))\n",
        "\n",
        "\n",
        "dot('6041', 'Jurassic Park (1993)')\n",
        "dot('6041', 'Toy Story (1995)')"
      ],
      "metadata": {
        "colab": {
          "base_uri": "https://localhost:8080/"
        },
        "id": "rpWC_tNzh2rh",
        "outputId": "4328c74a-519c-44a0-ba83-fc16d1bc2e5d"
      },
      "execution_count": null,
      "outputs": [
        {
          "output_type": "stream",
          "name": "stdout",
          "text": [
            "내적값은 0.37입니다. \n",
            "Men in Black의 내적값은 0.34입니다\n",
            "내적값은 0.35입니다. \n",
            "Men in Black의 내적값은 0.34입니다\n"
          ]
        }
      ]
    },
    {
      "cell_type": "markdown",
      "source": [
        "앗..... 처참..... factor는 낮추면 안되는 것 같다."
      ],
      "metadata": {
        "id": "piB0y2BxkzmT"
      }
    },
    {
      "cell_type": "code",
      "source": [
        "########### Implicit AlternatingLeastSquares 모델 구현 6번째###########\n",
        "\n",
        "als_model_6 = AlternatingLeastSquares(factors = 200, regularization = 0.2, \n",
        "                                   use_gpu=False, iterations = 100, dtype=np.float32)\n",
        "\n",
        "############# 모델 훈련 #############\n",
        "als_model_6.fit(csr_data)"
      ],
      "metadata": {
        "colab": {
          "base_uri": "https://localhost:8080/",
          "height": 49,
          "referenced_widgets": [
            "71efa3aef62e434a880043d7189fdf6e",
            "3a1be530e79147ea93a53f4194c17d42",
            "bb9c8cea8e2b41249857531bcc094aa5",
            "854420d9dd4d450ebae09ae880b0c7e3",
            "3b60ce379bf74bc18384b8baf7af0229",
            "3761c5e03b674a079bae359a1d081f53",
            "e0bc7635824b4b718ffefc0f4b16faaf",
            "be042eb4104a492896270bc7a3f89d2b",
            "2a8959afc9e54f759425b4d3374b7625",
            "f15992d225224efd8d798a633d832303",
            "fa0c20add6594e50a156c628f3087271"
          ]
        },
        "id": "iBLI37MMh4mB",
        "outputId": "0d444a68-0173-4482-d073-21527e68214a"
      },
      "execution_count": null,
      "outputs": [
        {
          "output_type": "display_data",
          "data": {
            "text/plain": [
              "  0%|          | 0/100 [00:00<?, ?it/s]"
            ],
            "application/vnd.jupyter.widget-view+json": {
              "version_major": 2,
              "version_minor": 0,
              "model_id": "71efa3aef62e434a880043d7189fdf6e"
            }
          },
          "metadata": {}
        }
      ]
    },
    {
      "cell_type": "code",
      "source": [
        "def dot(user_to_id, title_to_id):\n",
        "    chabo, movie_title = user_to_idx[user_to_id], title_to_idx[title_to_id]\n",
        "    chabo_vector, movie_title_vector = als_model_6.user_factors[chabo], als_model_6.item_factors[movie_title]\n",
        "    dot = np.dot(chabo_vector, movie_title_vector)\n",
        "\n",
        "    Black = title_to_idx['Men in Black (1997)']\n",
        "    Black_vector = als_model_6.item_factors[Black]\n",
        "    dot2 = np.dot(chabo_vector, Black_vector)\n",
        "\n",
        "    return print('내적값은 {:.2}입니다. \\nMen in Black의 내적값은 {:.2}입니다'.format(dot, dot2))\n",
        "\n",
        "\n",
        "dot('6041', 'Jurassic Park (1993)')\n",
        "dot('6041', 'Toy Story (1995)')"
      ],
      "metadata": {
        "colab": {
          "base_uri": "https://localhost:8080/"
        },
        "id": "kXktNI_tiFeO",
        "outputId": "6a87a45f-0a8c-49d6-c48a-568219a9c40a"
      },
      "execution_count": null,
      "outputs": [
        {
          "output_type": "stream",
          "name": "stdout",
          "text": [
            "내적값은 0.66입니다. \n",
            "Men in Black의 내적값은 0.32입니다\n",
            "내적값은 0.71입니다. \n",
            "Men in Black의 내적값은 0.32입니다\n"
          ]
        }
      ]
    },
    {
      "cell_type": "markdown",
      "source": [
        "\n",
        "- 우선 factor는 100이하로 낮추면 안된다는 것을 알았다...!\n",
        "- 확실히 factor를 올리니 **좋아하는 영화에대한 내적값이 0.52 -> 0.66로 유의미하게 증가**한 것을 볼 수 있다.\n",
        "- 하지만 **대조적으로 추천 영화의 내적값은 0.43 -> 0.32로 감소**했다.... 이걸 좋은 변화로 봐도 좋을까 고민이 된다.  \n",
        "- 오히려 좋아하는 영화에 과적합된건 아닐까 고민이 들어 factor 200고정에, 과적합 방지용 regularization 0.4, iter 200으로 마지막 시도를 해본다..."
      ],
      "metadata": {
        "id": "RK6mHMRhk5ik"
      }
    },
    {
      "cell_type": "code",
      "source": [
        "########### Implicit AlternatingLeastSquares 모델 구현 7번째###########\n",
        "\n",
        "als_model_7 = AlternatingLeastSquares(factors = 200, regularization = 0.4, \n",
        "                                   use_gpu=False, iterations = 200, dtype=np.float32)\n",
        "\n",
        "############# 모델 훈련 #############\n",
        "als_model_7.fit(csr_data)"
      ],
      "metadata": {
        "colab": {
          "base_uri": "https://localhost:8080/",
          "height": 49,
          "referenced_widgets": [
            "f03e86e554dc440c9c125f6430ef7e7f",
            "b6aab0cbee76453e989f6887f935b35d",
            "3112bb1c50124ddaa8fdeb3fa379b853",
            "70b9f39a448d464abf7f5a80db888b1c",
            "78632b8baea1449186f239e8b1b782e9",
            "056308f015184058af74676183459bd2",
            "aedb57842f694832ac1b5e516308292d",
            "1b3b82c92bb94ee68d16f088aa8fd22e",
            "9ac64c23561640389cf7e4f834fec631",
            "2304eb5b23824a6992576eb495412799",
            "456532c224614e7caecb37428c9d2e65"
          ]
        },
        "id": "M6XkphvRmPmj",
        "outputId": "4296ae0e-db7a-403f-ffb2-3df1540bb5de"
      },
      "execution_count": null,
      "outputs": [
        {
          "output_type": "display_data",
          "data": {
            "text/plain": [
              "  0%|          | 0/200 [00:00<?, ?it/s]"
            ],
            "application/vnd.jupyter.widget-view+json": {
              "version_major": 2,
              "version_minor": 0,
              "model_id": "f03e86e554dc440c9c125f6430ef7e7f"
            }
          },
          "metadata": {}
        }
      ]
    },
    {
      "cell_type": "code",
      "source": [
        "def dot(user_to_id, title_to_id):\n",
        "    chabo, movie_title = user_to_idx[user_to_id], title_to_idx[title_to_id]\n",
        "    chabo_vector, movie_title_vector = als_model_7.user_factors[chabo], als_model_7.item_factors[movie_title]\n",
        "    dot = np.dot(chabo_vector, movie_title_vector)\n",
        "\n",
        "    Black = title_to_idx['Men in Black (1997)']\n",
        "    Black_vector = als_model_7.item_factors[Black]\n",
        "    dot2 = np.dot(chabo_vector, Black_vector)\n",
        "\n",
        "    return print('내적값은 {:.2}입니다. \\nMen in Black의 내적값은 {:.2}입니다'.format(dot, dot2))\n",
        "\n",
        "\n",
        "dot('6041', 'Jurassic Park (1993)')\n",
        "dot('6041', 'Toy Story (1995)')"
      ],
      "metadata": {
        "colab": {
          "base_uri": "https://localhost:8080/"
        },
        "id": "tNsVoE3Ameyz",
        "outputId": "074c9fef-f5ca-48f0-af02-a75b74b42c90"
      },
      "execution_count": null,
      "outputs": [
        {
          "output_type": "stream",
          "name": "stdout",
          "text": [
            "내적값은 0.66입니다. \n",
            "Men in Black의 내적값은 0.31입니다\n",
            "내적값은 0.69입니다. \n",
            "Men in Black의 내적값은 0.31입니다\n"
          ]
        }
      ]
    },
    {
      "cell_type": "markdown",
      "source": [
        "- 추가한번 더...!!!!   \n",
        "공식문서에 조절할 수 있는 파라미터 값으로 **calculate_training_loss (bool, optional)** – Whether to log out the training loss at each iteration을 제공하길래 한번 True로 적용해서 시도해본다..!\n",
        "\n",
        "https://implicit.readthedocs.io/en/latest/als.html#implicit.als.AlternatingLeastSquares"
      ],
      "metadata": {
        "id": "qlK5mp7-swDp"
      }
    },
    {
      "cell_type": "code",
      "source": [
        "########### Implicit AlternatingLeastSquares 모델 구현 8번째###########\n",
        "\n",
        "als_model_8 = AlternatingLeastSquares(factors = 150, regularization = 0.4, \n",
        "                                   use_gpu=False, iterations = 500, calculate_training_loss = True, dtype=np.float32)\n",
        "\n",
        "############# 모델 훈련 #############\n",
        "als_model_8.fit(csr_data)"
      ],
      "metadata": {
        "colab": {
          "base_uri": "https://localhost:8080/",
          "height": 49,
          "referenced_widgets": [
            "a42edad039d24a8db0578c39c27e6d7a",
            "72a3a404aaa1479dba3ad48aba3d8ccd",
            "42f743b92fba4fadbde8d2eb0a1003d6",
            "1bb5aa4d60c941fc8356d272603554ae",
            "2cb24e87f19744d7a4022ef607c30510",
            "0def03fb8e4e4b27a45fe236e1ce9e42",
            "980f3a9eb776473da849b7cf7efdd252",
            "8d77caca64ba4e849c3dbb73ebac540f",
            "866a825a64844f6981cd483bb9752b44",
            "50b7dbec496949e5b93e199129449fab",
            "f73e2d13fd72444b832ca0fea0c8a90d"
          ]
        },
        "id": "xZj4zUkisZWx",
        "outputId": "3455dc56-1539-433a-e3f5-0dbb39f40755"
      },
      "execution_count": null,
      "outputs": [
        {
          "output_type": "display_data",
          "data": {
            "text/plain": [
              "  0%|          | 0/500 [00:00<?, ?it/s]"
            ],
            "application/vnd.jupyter.widget-view+json": {
              "version_major": 2,
              "version_minor": 0,
              "model_id": "a42edad039d24a8db0578c39c27e6d7a"
            }
          },
          "metadata": {}
        }
      ]
    },
    {
      "cell_type": "code",
      "source": [
        "def dot(user_to_id, title_to_id):\n",
        "    chabo, movie_title = user_to_idx[user_to_id], title_to_idx[title_to_id]\n",
        "    chabo_vector, movie_title_vector = als_model_8.user_factors[chabo], als_model_8.item_factors[movie_title]\n",
        "    dot = np.dot(chabo_vector, movie_title_vector)\n",
        "\n",
        "    Black = title_to_idx['Men in Black (1997)']\n",
        "    Black_vector = als_model_8.item_factors[Black]\n",
        "    dot2 = np.dot(chabo_vector, Black_vector)\n",
        "\n",
        "    return print('내적값은 {:.2}입니다. \\nMen in Black의 내적값은 {:.2}입니다'.format(dot, dot2))\n",
        "\n",
        "\n",
        "dot('6041', 'Jurassic Park (1993)')\n",
        "dot('6041', 'Toy Story (1995)')"
      ],
      "metadata": {
        "colab": {
          "base_uri": "https://localhost:8080/"
        },
        "id": "L52-Vfnmubni",
        "outputId": "f50bd6f4-b018-42b7-a441-41ad0ddd6a1c"
      },
      "execution_count": null,
      "outputs": [
        {
          "output_type": "stream",
          "name": "stdout",
          "text": [
            "내적값은 0.59입니다. \n",
            "Men in Black의 내적값은 0.36입니다\n",
            "내적값은 0.62입니다. \n",
            "Men in Black의 내적값은 0.36입니다\n"
          ]
        }
      ]
    },
    {
      "cell_type": "markdown",
      "source": [
        "### factor 값 조절 결과\n",
        "1. (model_2)  \n",
        "fac = 100, reg = 0.05, iter = 100 -> 0.52 / 0.43\n",
        "2. fac = 50, reg = 0.05, iter = 100 -> 0.37 / 0.34\n",
        "3. fac = 200, reg = 0.2, iter = 100 -> 0.66 / 0.32\n",
        "4. fac = 200, reg = 0.4, iter = 200 -> 0.66 / 0.31\n",
        "5. fac = 100, reg = 0.4, iter = 500, training_loss = True -> 0.53 / 0.43\n",
        "6. fac = 150, reg = 0.4, iter = 500, training_loss = True -> 0.59 / 0.36\n",
        "\n",
        "- 우선 factor는 100이하로 낮추면 안된다는 것을 알았다...!\n",
        "- 확실히 factor를 올리니 **좋아하는 영화에대한 내적값이 0.52 -> 0.66로 유의미하게 증가**하지만 **대조적으로 추천 영화의 내적값은 0.43 -> 0.32로 감소**했다.... 이걸 좋은 변화로 봐도 좋을까 고민이 된다. \n",
        "- 다른 parameter도 넣어보고 다양하게 시도했지만, 결국 과적합으로 이어지는 것 같다.... \n",
        "\n",
        "---\n",
        "- 결국, factor 200은 데이터양 부족인지 계속해서 과적합되는 것으로 볼 수 있을 것 같다... model 2번인 fac = 100, reg = 0.05, iter = 100 값으로 이후 과정을 진행해본다. \n"
      ],
      "metadata": {
        "id": "_CLODPj0nxJb"
      }
    },
    {
      "cell_type": "markdown",
      "source": [
        "## STEP 7. 내가 좋아하는 영화와 비슷한 영화 추천받기\n",
        "---\n",
        "- `AlternatingLeastSquares` 클래스에 구현되어 있는 `similar_items` 메서드를 통하여 비슷한 영화를 찾는다.\n",
        "- model값은 2번으로 사용함\n",
        "- 우선 시작은 'Matrix, The (1999)'로 받아본다. "
      ],
      "metadata": {
        "id": "IV6L2J6KiMoK"
      }
    },
    {
      "cell_type": "code",
      "source": [
        "############## 추천 영화 및 관련도 #################\n",
        "favorite_movie = 'Matrix, The (1999)'\n",
        "\n",
        "title_id = title_to_idx[favorite_movie]\n",
        "similar_movie_temp = als_model_2.similar_items(title_id, N = 15)\n",
        "#출력\n",
        "similar_movie_temp"
      ],
      "metadata": {
        "colab": {
          "base_uri": "https://localhost:8080/"
        },
        "id": "6iQ2sAdMrSVU",
        "outputId": "b205698e-2b6d-46a7-95fd-07c1549288c4"
      },
      "execution_count": null,
      "outputs": [
        {
          "output_type": "execute_result",
          "data": {
            "text/plain": [
              "(array([ 124, 1092,  221, 2135, 2445, 1680,   41, 2317, 1887, 2691, 2243,\n",
              "        2954, 1911,  204, 2479], dtype=int32),\n",
              " array([1.0000001 , 0.85947233, 0.857236  , 0.8547958 , 0.854176  ,\n",
              "        0.85286057, 0.85154957, 0.85132265, 0.850493  , 0.85037106,\n",
              "        0.8497094 , 0.84967995, 0.8490014 , 0.8488507 , 0.84883094],\n",
              "       dtype=float32))"
            ]
          },
          "metadata": {},
          "execution_count": 97
        }
      ]
    },
    {
      "cell_type": "code",
      "source": [
        "# 영화 index만 추출하여 리스트로 만들어줌\n",
        "similar_list = similar_movie_temp[0]\n",
        "similar_list"
      ],
      "metadata": {
        "colab": {
          "base_uri": "https://localhost:8080/"
        },
        "id": "T_RH1c3bx6-v",
        "outputId": "e7d50ab6-8861-4fee-a928-b05606891db4"
      },
      "execution_count": null,
      "outputs": [
        {
          "output_type": "execute_result",
          "data": {
            "text/plain": [
              "array([ 124, 1092,  221, 2135, 2445, 1680,   41, 2317, 1887, 2691, 2243,\n",
              "       2954, 1911,  204, 2479], dtype=int32)"
            ]
          },
          "metadata": {},
          "execution_count": 98
        }
      ]
    },
    {
      "cell_type": "code",
      "source": [
        "############# 추천영화 리스트 출력 ###############\n",
        "\n",
        "#artist_to_idx 를 뒤집어, index로부터 artist 이름을 얻는 dict를 생성\n",
        "idx_to_title = {v: k for k, v in title_to_idx.items()}\n",
        "# 위에서 Matrix로 추천 받은 영화 리스트를 출력\n",
        "[idx_to_title[i]for i in similar_list]"
      ],
      "metadata": {
        "id": "BwpvcGMidAYz",
        "colab": {
          "base_uri": "https://localhost:8080/"
        },
        "outputId": "e3c5b961-d1a3-4067-c4e2-1cf6b51a0246"
      },
      "execution_count": null,
      "outputs": [
        {
          "output_type": "execute_result",
          "data": {
            "text/plain": [
              "['Matrix, The (1999)',\n",
              " 'Thin Blue Line, The (1988)',\n",
              " 'South Park: Bigger, Longer and Uncut (1999)',\n",
              " 'Clan of the Cave Bear, The (1986)',\n",
              " 'Angels and Insects (1995)',\n",
              " 'Cemetery Man (Dellamorte Dellamore) (1994)',\n",
              " 'Rain Man (1988)',\n",
              " 'Burnt By the Sun (Utomlyonnye solntsem) (1994)',\n",
              " 'Wonder Boys (2000)',\n",
              " 'Get Carter (1971)',\n",
              " 'Yards, The (1999)',\n",
              " 'Groove (2000)',\n",
              " 'Seven Days in May (1964)',\n",
              " 'Clueless (1995)',\n",
              " 'Disturbing Behavior (1998)']"
            ]
          },
          "metadata": {},
          "execution_count": 99
        }
      ]
    },
    {
      "cell_type": "markdown",
      "source": [
        "오 매트릭스에 터미네이터, 에일리언, 스타워즈, 식스센스, 페이스오프 추천이라.... 좋네요!!!!캬~ 녀석...! 영화 좀 볼 줄 아네요(흡족)\n",
        "\n",
        "그럼 함수화하여 좋아하는 영화 리스트로 추천받아 봅시다!"
      ],
      "metadata": {
        "id": "DI7kXSLkz-bX"
      }
    },
    {
      "cell_type": "code",
      "source": [
        "def similar_movie(favorite_movie : str):\n",
        "    title_id = title_to_idx[favorite_movie]\n",
        "    #각 영화당 5개씩만 추천\n",
        "    similar_movie = als_model_2.similar_items(title_id, N = 5)\n",
        "    #추천 영화 index -> list로 저장\n",
        "    similar_movie_list = similar_movie[0]\n",
        "    #index to title 생성\n",
        "    idx_to_title = {v: k for k, v in title_to_idx.items()}\n",
        "    similar_movie = [idx_to_title[i] for i in similar_movie_list]\n",
        "    return print(f'{favorite_movie}를 좋아하는 당신은 \\n{similar_movie}를 좋아할지도 모르겠네요:)!')\n",
        "\n",
        "similar_movie('Matrix, The (1999)')"
      ],
      "metadata": {
        "colab": {
          "base_uri": "https://localhost:8080/"
        },
        "id": "nroP6NZLimFh",
        "outputId": "3213b6c5-ed1e-47a0-8ba1-fb9693c761cf"
      },
      "execution_count": null,
      "outputs": [
        {
          "output_type": "stream",
          "name": "stdout",
          "text": [
            "Matrix, The (1999)를 좋아하는 당신은 \n",
            "['Matrix, The (1999)', 'Terminator 2: Judgment Day (1991)', 'Total Recall (1990)', 'Terminator, The (1984)', 'Fugitive, The (1993)']를 좋아할지도 모르겠네요:)!\n"
          ]
        }
      ]
    },
    {
      "cell_type": "code",
      "source": [
        "########## favorite 영화 리스트별 추천 영화 뽑기 ###############\n",
        "my_favorite = ['Toy Story (1995)', 'Pocahontas (1995)' ,'Matrix, The (1999)','Jurassic Park (1993)']\n",
        "\n",
        "for movie_title in my_favorite:\n",
        "    similar_movie(movie_title)\n",
        "    print('=='*20, '\\n')\n"
      ],
      "metadata": {
        "colab": {
          "base_uri": "https://localhost:8080/"
        },
        "id": "tVSRTzlqpZXy",
        "outputId": "bff58eab-22b9-458f-9ed7-b58645e97fb7"
      },
      "execution_count": null,
      "outputs": [
        {
          "output_type": "stream",
          "name": "stdout",
          "text": [
            "Toy Story (1995)를 좋아하는 당신은 \n",
            "['Toy Story (1995)', 'Toy Story 2 (1999)', \"Bug's Life, A (1998)\", 'Aladdin (1992)', 'Babe (1995)']를 좋아할지도 모르겠네요:)!\n",
            "======================================== \n",
            "\n",
            "Pocahontas (1995)를 좋아하는 당신은 \n",
            "['Pocahontas (1995)', 'Hunchback of Notre Dame, The (1996)', 'Hercules (1997)', 'Anastasia (1997)', 'Tarzan (1999)']를 좋아할지도 모르겠네요:)!\n",
            "======================================== \n",
            "\n",
            "Matrix, The (1999)를 좋아하는 당신은 \n",
            "['Matrix, The (1999)', 'Terminator 2: Judgment Day (1991)', 'Total Recall (1990)', 'Terminator, The (1984)', 'Fugitive, The (1993)']를 좋아할지도 모르겠네요:)!\n",
            "======================================== \n",
            "\n",
            "Jurassic Park (1993)를 좋아하는 당신은 \n",
            "['Jurassic Park (1993)', 'Men in Black (1997)', 'Terminator 2: Judgment Day (1991)', 'Total Recall (1990)', 'Matrix, The (1999)']를 좋아할지도 모르겠네요:)!\n",
            "======================================== \n",
            "\n"
          ]
        }
      ]
    },
    {
      "cell_type": "markdown",
      "source": [
        "## STEP 8. 내가 좋아할만한 영화 추천받기\n",
        "---\n",
        "- 이제 특정 영화에 따른 추천이 아닌, 유저의 특성을 통한 영화를 추천받아보자\n",
        "\n",
        "- `AlternatingLeastSquares` 클래스에 구현되어 있는 `recommend` 메서드를 통하여 좋아할만한 영화 추천받기\n",
        "- `filter_already_liked_items` 는 유저가 이미 평가한 아이템은 제외하는 Argument임\n"
      ],
      "metadata": {
        "id": "0ZDH9dii01uj"
      }
    },
    {
      "cell_type": "code",
      "source": [
        "# chaaaaabbo id 입력.... \n",
        "user = user_to_idx['6041']\n",
        "\n",
        "movie_recommended = als_model_2.recommend(user, csr_data[user], N = 20,\n",
        "                                        filter_already_liked_items = True)\n",
        "movie_recommended"
      ],
      "metadata": {
        "colab": {
          "base_uri": "https://localhost:8080/"
        },
        "id": "4M_bcwFQvop8",
        "outputId": "58c6b277-cd00-42f2-b9bb-4c75908b4dff"
      },
      "execution_count": null,
      "outputs": [
        {
          "output_type": "execute_result",
          "data": {
            "text/plain": [
              "(array([ 92, 175,  50,  62, 141, 330,  33,  10, 322,  87, 200,   4, 145,\n",
              "         38, 110, 150,  48, 317,  75, 375], dtype=int32),\n",
              " array([0.52726245, 0.43039417, 0.40739787, 0.34148058, 0.29048112,\n",
              "        0.2701519 , 0.25057358, 0.24149477, 0.23629405, 0.22117597,\n",
              "        0.21904218, 0.21266264, 0.20762894, 0.2020968 , 0.20144819,\n",
              "        0.1958574 , 0.17420527, 0.16970347, 0.1685827 , 0.16787098],\n",
              "       dtype=float32))"
            ]
          },
          "metadata": {},
          "execution_count": 109
        }
      ]
    },
    {
      "cell_type": "code",
      "source": [
        "############ 유저별 영화 추천 함수 #############\n",
        "def movie_recommend(user_index : int):\n",
        "    movie_recommended = als_model_2.recommend(user, csr_data[user], N = 10,\n",
        "                                        filter_already_liked_items = True)\n",
        "    recommended_list = movie_recommended[0]\n",
        "    recommended_list = [idx_to_title[i] for i in recommended_list]\n",
        "    print(f'사용자님 안녕하세요^_____^!\\n{recommended_list}영화들은 어떠신가요?')\n",
        "\n",
        "movie_recommend('6041')"
      ],
      "metadata": {
        "colab": {
          "base_uri": "https://localhost:8080/"
        },
        "id": "FXQ3ohALvon-",
        "outputId": "29cee151-92b9-4618-e7d6-19699473f162"
      },
      "execution_count": null,
      "outputs": [
        {
          "output_type": "stream",
          "name": "stdout",
          "text": [
            "사용자님 안녕하세요^_____^!\n",
            "['Terminator 2: Judgment Day (1991)', 'Men in Black (1997)', 'Toy Story 2 (1999)', 'Total Recall (1990)', 'Fugitive, The (1993)', 'Lion King, The (1994)', 'Aladdin (1992)', 'Beauty and the Beast (1991)', 'Babe (1995)', 'Braveheart (1995)']영화들은 어떠신가요?\n"
          ]
        }
      ]
    },
    {
      "cell_type": "code",
      "source": [
        "############# 랜덤한 유저들 영화 추천 #############\n",
        "# 선택받은 5명 뽑기\n",
        "random_user = np.random.randint(1,num_user, size=5)\n",
        "\n",
        "for user in random_user:\n",
        "    movie_recommend(user)\n",
        "    print('=='*20, '\\n')"
      ],
      "metadata": {
        "colab": {
          "base_uri": "https://localhost:8080/"
        },
        "id": "RKc2t4Avvoln",
        "outputId": "55aeb57c-f631-4b3b-f8f9-e692c5166b81"
      },
      "execution_count": null,
      "outputs": [
        {
          "output_type": "stream",
          "name": "stdout",
          "text": [
            "사용자님 안녕하세요^_____^!\n",
            "['Jaws (1975)', 'Saving Private Ryan (1998)', 'Butch Cassidy and the Sundance Kid (1969)', 'Star Trek III: The Search for Spock (1984)', 'Rocky (1976)', 'Die Hard (1988)', 'Glory (1989)', 'Close Encounters of the Third Kind (1977)', 'Dirty Dozen, The (1967)', 'Abyss, The (1989)']영화들은 어떠신가요?\n",
            "======================================== \n",
            "\n",
            "사용자님 안녕하세요^_____^!\n",
            "['Indiana Jones and the Temple of Doom (1984)', 'Highlander (1986)', 'Jurassic Park (1993)', 'Dragonheart (1996)', 'Jumanji (1995)', 'Superman II (1980)', 'Crocodile Dundee (1986)', 'Who Framed Roger Rabbit? (1988)', 'Goonies, The (1985)', \"Logan's Run (1976)\"]영화들은 어떠신가요?\n",
            "======================================== \n",
            "\n",
            "사용자님 안녕하세요^_____^!\n",
            "['Philadelphia Story, The (1940)', 'Romancing the Stone (1984)', 'Willy Wonka and the Chocolate Factory (1971)', 'Auntie Mame (1958)', 'Citizen Kane (1941)', 'Babe (1995)', 'Splash (1984)', 'Out of Africa (1985)', 'Lord of the Rings, The (1978)', 'Superman (1978)']영화들은 어떠신가요?\n",
            "======================================== \n",
            "\n",
            "사용자님 안녕하세요^_____^!\n",
            "['Lethal Weapon 2 (1989)', 'Jaws (1975)', 'Rain Man (1988)', 'Goldfinger (1964)', 'Shanghai Noon (2000)', 'Edward Scissorhands (1990)', \"One Flew Over the Cuckoo's Nest (1975)\", 'X-Files: Fight the Future, The (1998)', 'Amadeus (1984)', 'Entrapment (1999)']영화들은 어떠신가요?\n",
            "======================================== \n",
            "\n",
            "사용자님 안녕하세요^_____^!\n",
            "['Cool Hand Luke (1967)', 'Exorcist, The (1973)', 'Professional, The (a.k.a. Leon: The Professional) (1994)', 'Lord of the Flies (1963)', 'Nightmare on Elm Street, A (1984)', 'American History X (1998)', 'Man on the Moon (1999)', 'Apollo 13 (1995)', 'NeverEnding Story, The (1984)', 'Better Off Dead... (1985)']영화들은 어떠신가요?\n",
            "======================================== \n",
            "\n"
          ]
        }
      ]
    },
    {
      "cell_type": "markdown",
      "source": [
        "선택받은 5명이 좋아했으면 좋겠네요^_____^ㅎㅎ.."
      ],
      "metadata": {
        "id": "JE_MMC_l4_Mb"
      }
    },
    {
      "cell_type": "markdown",
      "source": [
        "추가로 아까 추천 받은 영화들 중 `AlternatingLeastSquares` 클래스에 구현된 `explain` 메서드를 사용해 기록을 남긴 데이터 중 추천에 기여한 정도를 확인해보자."
      ],
      "metadata": {
        "id": "R69NJwR55Fdh"
      }
    },
    {
      "cell_type": "code",
      "source": [
        "curious_movie = title_to_idx['Beauty and the Beast (1991)']\n",
        "\n",
        "explain = als_model_2.explain(user, csr_data, itemid = curious_movie)\n",
        "explain"
      ],
      "metadata": {
        "colab": {
          "base_uri": "https://localhost:8080/"
        },
        "id": "cIJGyPUA5dYC",
        "outputId": "4323264b-1354-43df-8cb4-c5bb190b41e2"
      },
      "execution_count": null,
      "outputs": [
        {
          "output_type": "execute_result",
          "data": {
            "text/plain": [
              "(0.13345282420905838,\n",
              " [(8, 0.0677257100620382),\n",
              "  (45, 0.05316036735480158),\n",
              "  (46, 0.05126707037819418),\n",
              "  (322, 0.049812594023575116),\n",
              "  (572, 0.04769705047777745),\n",
              "  (178, 0.04593842050485995),\n",
              "  (536, 0.045369720377081924),\n",
              "  (551, 0.03899697398329021),\n",
              "  (619, 0.03749149045158364),\n",
              "  (141, 0.0362110283724336)],\n",
              " (array([[ 2.50864761e+00,  3.36006875e-02,  3.88609527e-02, ...,\n",
              "           4.55737664e-03, -8.16480484e-02, -4.25831986e-04],\n",
              "         [ 8.42922844e-02,  2.53926375e+00,  1.53191011e-01, ...,\n",
              "           1.52317732e-01,  4.72703114e-02, -1.66438704e-01],\n",
              "         [ 9.74884360e-02,  3.90298135e-01,  2.61609177e+00, ...,\n",
              "           1.61946008e-01, -5.82078498e-02,  1.00452931e-01],\n",
              "         ...,\n",
              "         [ 1.14328520e-02,  3.86928026e-01,  4.47176429e-01, ...,\n",
              "           2.42583600e+00,  5.81354812e-03, -2.76071508e-02],\n",
              "         [-2.04826181e-01,  1.17288358e-01, -1.48208611e-01, ...,\n",
              "           1.63976587e-01,  2.44595272e+00, -6.77979978e-02],\n",
              "         [-1.06826239e-03, -4.22646077e-01,  2.37280624e-01, ...,\n",
              "          -6.09580370e-02, -1.43689811e-01,  2.46444295e+00]]), False))"
            ]
          },
          "metadata": {},
          "execution_count": 148
        }
      ]
    },
    {
      "cell_type": "code",
      "source": [
        "[(idx_to_title[i[0]], i[1]) for i in explain[1]]"
      ],
      "metadata": {
        "colab": {
          "base_uri": "https://localhost:8080/"
        },
        "id": "cx4X1yYT5u7c",
        "outputId": "8b643d93-96cb-4750-b02b-6700f08f3795"
      },
      "execution_count": null,
      "outputs": [
        {
          "output_type": "execute_result",
          "data": {
            "text/plain": [
              "[('Snow White and the Seven Dwarfs (1937)', 0.0677257100620382),\n",
              " ('Mary Poppins (1964)', 0.05316036735480158),\n",
              " ('Dumbo (1941)', 0.05126707037819418),\n",
              " ('Babe (1995)', 0.049812594023575116),\n",
              " ('Sleeping Beauty (1959)', 0.04769705047777745),\n",
              " ('Unforgiven (1992)', 0.04593842050485995),\n",
              " ('Jungle Book, The (1967)', 0.045369720377081924),\n",
              " ('Peter Pan (1953)', 0.03899697398329021),\n",
              " ('Alice in Wonderland (1951)', 0.03749149045158364),\n",
              " ('Fugitive, The (1993)', 0.0362110283724336)]"
            ]
          },
          "metadata": {},
          "execution_count": 149
        }
      ]
    },
    {
      "cell_type": "markdown",
      "source": [
        "추천... 연관도가 다들 굉장히 낮네욤...."
      ],
      "metadata": {
        "id": "yeeSPAzt6GsR"
      }
    },
    {
      "cell_type": "markdown",
      "source": [
        "## STEP 9. (추가)연령별 영화 추천\n",
        "---\n",
        "영화를 통한 추천, 유저의 선택영화를 통한 추천이 가능해졌다.  \n",
        "하지만 이런 추천은 신규 인원에 대한 추천은 불가능 하다는 단점이 있다. 이것을 보완하기 위해 신규 가입시 생년월일을 기입한다는 것에 착안하여 연령대에 맞춰 영화 추천을 진행해보려고 한다.   \n",
        "\n",
        "- 유저 관련 정보 \n",
        "    - columns : UserID, Gender, Age, Occupation, Zip-code\n",
        "    - Gender : \"M\" for male, \"F\" for female\n",
        "    - Age is chosen from the following ranges:\n",
        "\n",
        "\t    *  1:  \"Under 18\"\n",
        "\t    * 18:  \"18-24\"\n",
        "\t    * 25:  \"25-34\"\n",
        "\t    * 35:  \"35-44\"\n",
        "\t    * 45:  \"45-49\"\n",
        "\t    * 50:  \"50-55\"\n",
        "\t    * 56:  \"56+\"\n",
        "\n",
        "    - Occupation is chosen from the following choices:\n",
        "\n",
        "        *  0:  \"other\" or not specified\n",
        "        *  1:  \"academic/educator\"\n",
        "        *  2:  \"artist\"\n",
        "        *  3:  \"clerical/admin\"\n",
        "        *  4:  \"college/grad student\"\n",
        "        *  5:  \"customer service\"\n",
        "        *  6:  \"doctor/health care\"\n",
        "        *  7:  \"executive/managerial\"\n",
        "        *  8:  \"farmer\"\n",
        "        *  9:  \"homemaker\"\n",
        "        * 10:  \"K-12 student\"\n",
        "        * 11:  \"lawyer\"\n",
        "        * 12:  \"programmer\"\n",
        "        * 13:  \"retired\"\n",
        "        * 14:  \"sales/marketing\"\n",
        "        * 15:  \"scientist\"\n",
        "        * 16:  \"self-employed\"\n",
        "        * 17:  \"technician/engineer\"\n",
        "        * 18:  \"tradesman/craftsman\"\n",
        "        * 19:  \"unemployed\"\n",
        "        * 20:  \"writer\"\n"
      ],
      "metadata": {
        "id": "LIm_-vlYA1jr"
      }
    },
    {
      "cell_type": "code",
      "source": [
        "############ 유저 데이터 로드 ###############\n",
        "user_file_path = path + 'users.dat'\n",
        "user_cols = ['user_id', 'gender', 'age', 'occupation', 'zip-code']\n",
        "users = pd.read_csv(user_file_path, sep = '::', names = user_cols, \n",
        "                      engine = 'python', encoding = 'ISO-8859-1')\n",
        "\n",
        "original_user_data_size = len(users)\n",
        "users.head()"
      ],
      "metadata": {
        "id": "FKgm5AWH5yLg",
        "colab": {
          "base_uri": "https://localhost:8080/",
          "height": 206
        },
        "outputId": "29d0076a-7ace-406b-96dd-f01103ac6e38"
      },
      "execution_count": null,
      "outputs": [
        {
          "output_type": "execute_result",
          "data": {
            "text/plain": [
              "   user_id gender  age  occupation zip-code\n",
              "0        1      F    1          10    48067\n",
              "1        2      M   56          16    70072\n",
              "2        3      M   25          15    55117\n",
              "3        4      M   45           7    02460\n",
              "4        5      M   25          20    55455"
            ],
            "text/html": [
              "\n",
              "  <div id=\"df-6fd01486-984d-4acc-833a-29731d059e53\">\n",
              "    <div class=\"colab-df-container\">\n",
              "      <div>\n",
              "<style scoped>\n",
              "    .dataframe tbody tr th:only-of-type {\n",
              "        vertical-align: middle;\n",
              "    }\n",
              "\n",
              "    .dataframe tbody tr th {\n",
              "        vertical-align: top;\n",
              "    }\n",
              "\n",
              "    .dataframe thead th {\n",
              "        text-align: right;\n",
              "    }\n",
              "</style>\n",
              "<table border=\"1\" class=\"dataframe\">\n",
              "  <thead>\n",
              "    <tr style=\"text-align: right;\">\n",
              "      <th></th>\n",
              "      <th>user_id</th>\n",
              "      <th>gender</th>\n",
              "      <th>age</th>\n",
              "      <th>occupation</th>\n",
              "      <th>zip-code</th>\n",
              "    </tr>\n",
              "  </thead>\n",
              "  <tbody>\n",
              "    <tr>\n",
              "      <th>0</th>\n",
              "      <td>1</td>\n",
              "      <td>F</td>\n",
              "      <td>1</td>\n",
              "      <td>10</td>\n",
              "      <td>48067</td>\n",
              "    </tr>\n",
              "    <tr>\n",
              "      <th>1</th>\n",
              "      <td>2</td>\n",
              "      <td>M</td>\n",
              "      <td>56</td>\n",
              "      <td>16</td>\n",
              "      <td>70072</td>\n",
              "    </tr>\n",
              "    <tr>\n",
              "      <th>2</th>\n",
              "      <td>3</td>\n",
              "      <td>M</td>\n",
              "      <td>25</td>\n",
              "      <td>15</td>\n",
              "      <td>55117</td>\n",
              "    </tr>\n",
              "    <tr>\n",
              "      <th>3</th>\n",
              "      <td>4</td>\n",
              "      <td>M</td>\n",
              "      <td>45</td>\n",
              "      <td>7</td>\n",
              "      <td>02460</td>\n",
              "    </tr>\n",
              "    <tr>\n",
              "      <th>4</th>\n",
              "      <td>5</td>\n",
              "      <td>M</td>\n",
              "      <td>25</td>\n",
              "      <td>20</td>\n",
              "      <td>55455</td>\n",
              "    </tr>\n",
              "  </tbody>\n",
              "</table>\n",
              "</div>\n",
              "      <button class=\"colab-df-convert\" onclick=\"convertToInteractive('df-6fd01486-984d-4acc-833a-29731d059e53')\"\n",
              "              title=\"Convert this dataframe to an interactive table.\"\n",
              "              style=\"display:none;\">\n",
              "        \n",
              "  <svg xmlns=\"http://www.w3.org/2000/svg\" height=\"24px\"viewBox=\"0 0 24 24\"\n",
              "       width=\"24px\">\n",
              "    <path d=\"M0 0h24v24H0V0z\" fill=\"none\"/>\n",
              "    <path d=\"M18.56 5.44l.94 2.06.94-2.06 2.06-.94-2.06-.94-.94-2.06-.94 2.06-2.06.94zm-11 1L8.5 8.5l.94-2.06 2.06-.94-2.06-.94L8.5 2.5l-.94 2.06-2.06.94zm10 10l.94 2.06.94-2.06 2.06-.94-2.06-.94-.94-2.06-.94 2.06-2.06.94z\"/><path d=\"M17.41 7.96l-1.37-1.37c-.4-.4-.92-.59-1.43-.59-.52 0-1.04.2-1.43.59L10.3 9.45l-7.72 7.72c-.78.78-.78 2.05 0 2.83L4 21.41c.39.39.9.59 1.41.59.51 0 1.02-.2 1.41-.59l7.78-7.78 2.81-2.81c.8-.78.8-2.07 0-2.86zM5.41 20L4 18.59l7.72-7.72 1.47 1.35L5.41 20z\"/>\n",
              "  </svg>\n",
              "      </button>\n",
              "      \n",
              "  <style>\n",
              "    .colab-df-container {\n",
              "      display:flex;\n",
              "      flex-wrap:wrap;\n",
              "      gap: 12px;\n",
              "    }\n",
              "\n",
              "    .colab-df-convert {\n",
              "      background-color: #E8F0FE;\n",
              "      border: none;\n",
              "      border-radius: 50%;\n",
              "      cursor: pointer;\n",
              "      display: none;\n",
              "      fill: #1967D2;\n",
              "      height: 32px;\n",
              "      padding: 0 0 0 0;\n",
              "      width: 32px;\n",
              "    }\n",
              "\n",
              "    .colab-df-convert:hover {\n",
              "      background-color: #E2EBFA;\n",
              "      box-shadow: 0px 1px 2px rgba(60, 64, 67, 0.3), 0px 1px 3px 1px rgba(60, 64, 67, 0.15);\n",
              "      fill: #174EA6;\n",
              "    }\n",
              "\n",
              "    [theme=dark] .colab-df-convert {\n",
              "      background-color: #3B4455;\n",
              "      fill: #D2E3FC;\n",
              "    }\n",
              "\n",
              "    [theme=dark] .colab-df-convert:hover {\n",
              "      background-color: #434B5C;\n",
              "      box-shadow: 0px 1px 3px 1px rgba(0, 0, 0, 0.15);\n",
              "      filter: drop-shadow(0px 1px 2px rgba(0, 0, 0, 0.3));\n",
              "      fill: #FFFFFF;\n",
              "    }\n",
              "  </style>\n",
              "\n",
              "      <script>\n",
              "        const buttonEl =\n",
              "          document.querySelector('#df-6fd01486-984d-4acc-833a-29731d059e53 button.colab-df-convert');\n",
              "        buttonEl.style.display =\n",
              "          google.colab.kernel.accessAllowed ? 'block' : 'none';\n",
              "\n",
              "        async function convertToInteractive(key) {\n",
              "          const element = document.querySelector('#df-6fd01486-984d-4acc-833a-29731d059e53');\n",
              "          const dataTable =\n",
              "            await google.colab.kernel.invokeFunction('convertToInteractive',\n",
              "                                                     [key], {});\n",
              "          if (!dataTable) return;\n",
              "\n",
              "          const docLinkHtml = 'Like what you see? Visit the ' +\n",
              "            '<a target=\"_blank\" href=https://colab.research.google.com/notebooks/data_table.ipynb>data table notebook</a>'\n",
              "            + ' to learn more about interactive tables.';\n",
              "          element.innerHTML = '';\n",
              "          dataTable['output_type'] = 'display_data';\n",
              "          await google.colab.output.renderOutput(dataTable, element);\n",
              "          const docLink = document.createElement('div');\n",
              "          docLink.innerHTML = docLinkHtml;\n",
              "          element.appendChild(docLink);\n",
              "        }\n",
              "      </script>\n",
              "    </div>\n",
              "  </div>\n",
              "  "
            ]
          },
          "metadata": {},
          "execution_count": 28
        }
      ]
    },
    {
      "cell_type": "code",
      "source": [
        "############## zip code 제외 데이터 생성 ##################\n",
        "using_cols = ['user_id', 'gender', 'age', 'occupation']\n",
        "users = users[using_cols]\n",
        "\n",
        "users.head()"
      ],
      "metadata": {
        "colab": {
          "base_uri": "https://localhost:8080/",
          "height": 206
        },
        "id": "hzR5kW0KCkL9",
        "outputId": "c6b3ab4a-c661-4fe6-cd9b-b2dbf2f08ab6"
      },
      "execution_count": null,
      "outputs": [
        {
          "output_type": "execute_result",
          "data": {
            "text/plain": [
              "   user_id gender  age  occupation\n",
              "0        1      F    1          10\n",
              "1        2      M   56          16\n",
              "2        3      M   25          15\n",
              "3        4      M   45           7\n",
              "4        5      M   25          20"
            ],
            "text/html": [
              "\n",
              "  <div id=\"df-24077a1e-635d-45db-bd99-0ea07d2ec6cd\">\n",
              "    <div class=\"colab-df-container\">\n",
              "      <div>\n",
              "<style scoped>\n",
              "    .dataframe tbody tr th:only-of-type {\n",
              "        vertical-align: middle;\n",
              "    }\n",
              "\n",
              "    .dataframe tbody tr th {\n",
              "        vertical-align: top;\n",
              "    }\n",
              "\n",
              "    .dataframe thead th {\n",
              "        text-align: right;\n",
              "    }\n",
              "</style>\n",
              "<table border=\"1\" class=\"dataframe\">\n",
              "  <thead>\n",
              "    <tr style=\"text-align: right;\">\n",
              "      <th></th>\n",
              "      <th>user_id</th>\n",
              "      <th>gender</th>\n",
              "      <th>age</th>\n",
              "      <th>occupation</th>\n",
              "    </tr>\n",
              "  </thead>\n",
              "  <tbody>\n",
              "    <tr>\n",
              "      <th>0</th>\n",
              "      <td>1</td>\n",
              "      <td>F</td>\n",
              "      <td>1</td>\n",
              "      <td>10</td>\n",
              "    </tr>\n",
              "    <tr>\n",
              "      <th>1</th>\n",
              "      <td>2</td>\n",
              "      <td>M</td>\n",
              "      <td>56</td>\n",
              "      <td>16</td>\n",
              "    </tr>\n",
              "    <tr>\n",
              "      <th>2</th>\n",
              "      <td>3</td>\n",
              "      <td>M</td>\n",
              "      <td>25</td>\n",
              "      <td>15</td>\n",
              "    </tr>\n",
              "    <tr>\n",
              "      <th>3</th>\n",
              "      <td>4</td>\n",
              "      <td>M</td>\n",
              "      <td>45</td>\n",
              "      <td>7</td>\n",
              "    </tr>\n",
              "    <tr>\n",
              "      <th>4</th>\n",
              "      <td>5</td>\n",
              "      <td>M</td>\n",
              "      <td>25</td>\n",
              "      <td>20</td>\n",
              "    </tr>\n",
              "  </tbody>\n",
              "</table>\n",
              "</div>\n",
              "      <button class=\"colab-df-convert\" onclick=\"convertToInteractive('df-24077a1e-635d-45db-bd99-0ea07d2ec6cd')\"\n",
              "              title=\"Convert this dataframe to an interactive table.\"\n",
              "              style=\"display:none;\">\n",
              "        \n",
              "  <svg xmlns=\"http://www.w3.org/2000/svg\" height=\"24px\"viewBox=\"0 0 24 24\"\n",
              "       width=\"24px\">\n",
              "    <path d=\"M0 0h24v24H0V0z\" fill=\"none\"/>\n",
              "    <path d=\"M18.56 5.44l.94 2.06.94-2.06 2.06-.94-2.06-.94-.94-2.06-.94 2.06-2.06.94zm-11 1L8.5 8.5l.94-2.06 2.06-.94-2.06-.94L8.5 2.5l-.94 2.06-2.06.94zm10 10l.94 2.06.94-2.06 2.06-.94-2.06-.94-.94-2.06-.94 2.06-2.06.94z\"/><path d=\"M17.41 7.96l-1.37-1.37c-.4-.4-.92-.59-1.43-.59-.52 0-1.04.2-1.43.59L10.3 9.45l-7.72 7.72c-.78.78-.78 2.05 0 2.83L4 21.41c.39.39.9.59 1.41.59.51 0 1.02-.2 1.41-.59l7.78-7.78 2.81-2.81c.8-.78.8-2.07 0-2.86zM5.41 20L4 18.59l7.72-7.72 1.47 1.35L5.41 20z\"/>\n",
              "  </svg>\n",
              "      </button>\n",
              "      \n",
              "  <style>\n",
              "    .colab-df-container {\n",
              "      display:flex;\n",
              "      flex-wrap:wrap;\n",
              "      gap: 12px;\n",
              "    }\n",
              "\n",
              "    .colab-df-convert {\n",
              "      background-color: #E8F0FE;\n",
              "      border: none;\n",
              "      border-radius: 50%;\n",
              "      cursor: pointer;\n",
              "      display: none;\n",
              "      fill: #1967D2;\n",
              "      height: 32px;\n",
              "      padding: 0 0 0 0;\n",
              "      width: 32px;\n",
              "    }\n",
              "\n",
              "    .colab-df-convert:hover {\n",
              "      background-color: #E2EBFA;\n",
              "      box-shadow: 0px 1px 2px rgba(60, 64, 67, 0.3), 0px 1px 3px 1px rgba(60, 64, 67, 0.15);\n",
              "      fill: #174EA6;\n",
              "    }\n",
              "\n",
              "    [theme=dark] .colab-df-convert {\n",
              "      background-color: #3B4455;\n",
              "      fill: #D2E3FC;\n",
              "    }\n",
              "\n",
              "    [theme=dark] .colab-df-convert:hover {\n",
              "      background-color: #434B5C;\n",
              "      box-shadow: 0px 1px 3px 1px rgba(0, 0, 0, 0.15);\n",
              "      filter: drop-shadow(0px 1px 2px rgba(0, 0, 0, 0.3));\n",
              "      fill: #FFFFFF;\n",
              "    }\n",
              "  </style>\n",
              "\n",
              "      <script>\n",
              "        const buttonEl =\n",
              "          document.querySelector('#df-24077a1e-635d-45db-bd99-0ea07d2ec6cd button.colab-df-convert');\n",
              "        buttonEl.style.display =\n",
              "          google.colab.kernel.accessAllowed ? 'block' : 'none';\n",
              "\n",
              "        async function convertToInteractive(key) {\n",
              "          const element = document.querySelector('#df-24077a1e-635d-45db-bd99-0ea07d2ec6cd');\n",
              "          const dataTable =\n",
              "            await google.colab.kernel.invokeFunction('convertToInteractive',\n",
              "                                                     [key], {});\n",
              "          if (!dataTable) return;\n",
              "\n",
              "          const docLinkHtml = 'Like what you see? Visit the ' +\n",
              "            '<a target=\"_blank\" href=https://colab.research.google.com/notebooks/data_table.ipynb>data table notebook</a>'\n",
              "            + ' to learn more about interactive tables.';\n",
              "          element.innerHTML = '';\n",
              "          dataTable['output_type'] = 'display_data';\n",
              "          await google.colab.output.renderOutput(dataTable, element);\n",
              "          const docLink = document.createElement('div');\n",
              "          docLink.innerHTML = docLinkHtml;\n",
              "          element.appendChild(docLink);\n",
              "        }\n",
              "      </script>\n",
              "    </div>\n",
              "  </div>\n",
              "  "
            ]
          },
          "metadata": {},
          "execution_count": 48
        }
      ]
    },
    {
      "cell_type": "code",
      "source": [
        "############### 유저 정보와 영화 정보를 user_id를 기준으로 합쳐줌 ############\n",
        "user_rating = pd.merge(users, ratings, how='outer')\n",
        "user_rating.head()"
      ],
      "metadata": {
        "colab": {
          "base_uri": "https://localhost:8080/",
          "height": 206
        },
        "id": "40ubHmeYC0ru",
        "outputId": "2e5c950d-ebe2-485a-c0ef-dfedae8a158e"
      },
      "execution_count": null,
      "outputs": [
        {
          "output_type": "execute_result",
          "data": {
            "text/plain": [
              "  user_id gender  age  occupation  movie_id  counts\n",
              "0     1.0      F  1.0        10.0    1193.0     5.0\n",
              "1     1.0      F  1.0        10.0     661.0     3.0\n",
              "2     1.0      F  1.0        10.0     914.0     3.0\n",
              "3     1.0      F  1.0        10.0    3408.0     4.0\n",
              "4     1.0      F  1.0        10.0    2355.0     5.0"
            ],
            "text/html": [
              "\n",
              "  <div id=\"df-e576682c-feef-49ae-90c7-c8cbd73cd493\">\n",
              "    <div class=\"colab-df-container\">\n",
              "      <div>\n",
              "<style scoped>\n",
              "    .dataframe tbody tr th:only-of-type {\n",
              "        vertical-align: middle;\n",
              "    }\n",
              "\n",
              "    .dataframe tbody tr th {\n",
              "        vertical-align: top;\n",
              "    }\n",
              "\n",
              "    .dataframe thead th {\n",
              "        text-align: right;\n",
              "    }\n",
              "</style>\n",
              "<table border=\"1\" class=\"dataframe\">\n",
              "  <thead>\n",
              "    <tr style=\"text-align: right;\">\n",
              "      <th></th>\n",
              "      <th>user_id</th>\n",
              "      <th>gender</th>\n",
              "      <th>age</th>\n",
              "      <th>occupation</th>\n",
              "      <th>movie_id</th>\n",
              "      <th>counts</th>\n",
              "    </tr>\n",
              "  </thead>\n",
              "  <tbody>\n",
              "    <tr>\n",
              "      <th>0</th>\n",
              "      <td>1.0</td>\n",
              "      <td>F</td>\n",
              "      <td>1.0</td>\n",
              "      <td>10.0</td>\n",
              "      <td>1193.0</td>\n",
              "      <td>5.0</td>\n",
              "    </tr>\n",
              "    <tr>\n",
              "      <th>1</th>\n",
              "      <td>1.0</td>\n",
              "      <td>F</td>\n",
              "      <td>1.0</td>\n",
              "      <td>10.0</td>\n",
              "      <td>661.0</td>\n",
              "      <td>3.0</td>\n",
              "    </tr>\n",
              "    <tr>\n",
              "      <th>2</th>\n",
              "      <td>1.0</td>\n",
              "      <td>F</td>\n",
              "      <td>1.0</td>\n",
              "      <td>10.0</td>\n",
              "      <td>914.0</td>\n",
              "      <td>3.0</td>\n",
              "    </tr>\n",
              "    <tr>\n",
              "      <th>3</th>\n",
              "      <td>1.0</td>\n",
              "      <td>F</td>\n",
              "      <td>1.0</td>\n",
              "      <td>10.0</td>\n",
              "      <td>3408.0</td>\n",
              "      <td>4.0</td>\n",
              "    </tr>\n",
              "    <tr>\n",
              "      <th>4</th>\n",
              "      <td>1.0</td>\n",
              "      <td>F</td>\n",
              "      <td>1.0</td>\n",
              "      <td>10.0</td>\n",
              "      <td>2355.0</td>\n",
              "      <td>5.0</td>\n",
              "    </tr>\n",
              "  </tbody>\n",
              "</table>\n",
              "</div>\n",
              "      <button class=\"colab-df-convert\" onclick=\"convertToInteractive('df-e576682c-feef-49ae-90c7-c8cbd73cd493')\"\n",
              "              title=\"Convert this dataframe to an interactive table.\"\n",
              "              style=\"display:none;\">\n",
              "        \n",
              "  <svg xmlns=\"http://www.w3.org/2000/svg\" height=\"24px\"viewBox=\"0 0 24 24\"\n",
              "       width=\"24px\">\n",
              "    <path d=\"M0 0h24v24H0V0z\" fill=\"none\"/>\n",
              "    <path d=\"M18.56 5.44l.94 2.06.94-2.06 2.06-.94-2.06-.94-.94-2.06-.94 2.06-2.06.94zm-11 1L8.5 8.5l.94-2.06 2.06-.94-2.06-.94L8.5 2.5l-.94 2.06-2.06.94zm10 10l.94 2.06.94-2.06 2.06-.94-2.06-.94-.94-2.06-.94 2.06-2.06.94z\"/><path d=\"M17.41 7.96l-1.37-1.37c-.4-.4-.92-.59-1.43-.59-.52 0-1.04.2-1.43.59L10.3 9.45l-7.72 7.72c-.78.78-.78 2.05 0 2.83L4 21.41c.39.39.9.59 1.41.59.51 0 1.02-.2 1.41-.59l7.78-7.78 2.81-2.81c.8-.78.8-2.07 0-2.86zM5.41 20L4 18.59l7.72-7.72 1.47 1.35L5.41 20z\"/>\n",
              "  </svg>\n",
              "      </button>\n",
              "      \n",
              "  <style>\n",
              "    .colab-df-container {\n",
              "      display:flex;\n",
              "      flex-wrap:wrap;\n",
              "      gap: 12px;\n",
              "    }\n",
              "\n",
              "    .colab-df-convert {\n",
              "      background-color: #E8F0FE;\n",
              "      border: none;\n",
              "      border-radius: 50%;\n",
              "      cursor: pointer;\n",
              "      display: none;\n",
              "      fill: #1967D2;\n",
              "      height: 32px;\n",
              "      padding: 0 0 0 0;\n",
              "      width: 32px;\n",
              "    }\n",
              "\n",
              "    .colab-df-convert:hover {\n",
              "      background-color: #E2EBFA;\n",
              "      box-shadow: 0px 1px 2px rgba(60, 64, 67, 0.3), 0px 1px 3px 1px rgba(60, 64, 67, 0.15);\n",
              "      fill: #174EA6;\n",
              "    }\n",
              "\n",
              "    [theme=dark] .colab-df-convert {\n",
              "      background-color: #3B4455;\n",
              "      fill: #D2E3FC;\n",
              "    }\n",
              "\n",
              "    [theme=dark] .colab-df-convert:hover {\n",
              "      background-color: #434B5C;\n",
              "      box-shadow: 0px 1px 3px 1px rgba(0, 0, 0, 0.15);\n",
              "      filter: drop-shadow(0px 1px 2px rgba(0, 0, 0, 0.3));\n",
              "      fill: #FFFFFF;\n",
              "    }\n",
              "  </style>\n",
              "\n",
              "      <script>\n",
              "        const buttonEl =\n",
              "          document.querySelector('#df-e576682c-feef-49ae-90c7-c8cbd73cd493 button.colab-df-convert');\n",
              "        buttonEl.style.display =\n",
              "          google.colab.kernel.accessAllowed ? 'block' : 'none';\n",
              "\n",
              "        async function convertToInteractive(key) {\n",
              "          const element = document.querySelector('#df-e576682c-feef-49ae-90c7-c8cbd73cd493');\n",
              "          const dataTable =\n",
              "            await google.colab.kernel.invokeFunction('convertToInteractive',\n",
              "                                                     [key], {});\n",
              "          if (!dataTable) return;\n",
              "\n",
              "          const docLinkHtml = 'Like what you see? Visit the ' +\n",
              "            '<a target=\"_blank\" href=https://colab.research.google.com/notebooks/data_table.ipynb>data table notebook</a>'\n",
              "            + ' to learn more about interactive tables.';\n",
              "          element.innerHTML = '';\n",
              "          dataTable['output_type'] = 'display_data';\n",
              "          await google.colab.output.renderOutput(dataTable, element);\n",
              "          const docLink = document.createElement('div');\n",
              "          docLink.innerHTML = docLinkHtml;\n",
              "          element.appendChild(docLink);\n",
              "        }\n",
              "      </script>\n",
              "    </div>\n",
              "  </div>\n",
              "  "
            ]
          },
          "metadata": {},
          "execution_count": 77
        }
      ]
    },
    {
      "cell_type": "code",
      "source": [
        "# chaaaaabbo 유저의 정보 입력해주기\n",
        "my_favorite_movie_id = [1, 48, 2571, 480]\n",
        "\n",
        "# 'chaaaaabbo'이라는 user_id 특성 입력\n",
        "my_playlist = pd.DataFrame({'user_id' : ['9999']*4, 'movie_id' : my_favorite_movie_id, 'counts':(5,4,5,4), 'gender' : ['F']*4, 'age': [25]*4, 'occupation' : [1]*4 })\n",
        "\n",
        "# user_id에 'chaaaaabbo'이라는 데이터가 없다면\n",
        "if not user_rating.isin({'user_id': ['9999']})['user_id'].any():\n",
        " # 위에 임의로 만든 my_playlist 데이터를 추가해 줍니다. \n",
        "    user_rating = user_rating.append(my_playlist)\n",
        "\n",
        "#잘 만들어졌는지 확인\n",
        "user_rating.tail(10)"
      ],
      "metadata": {
        "colab": {
          "base_uri": "https://localhost:8080/",
          "height": 363
        },
        "id": "8Cg4s_BvDuEH",
        "outputId": "550c47fd-a6b5-4b25-f2be-81a6262a2e47"
      },
      "execution_count": null,
      "outputs": [
        {
          "output_type": "execute_result",
          "data": {
            "text/plain": [
              "       user_id gender   age  occupation  movie_id  counts\n",
              "836477  6040.0      M  25.0         6.0    1096.0     4.0\n",
              "836478  6040.0      M  25.0         6.0    1097.0     4.0\n",
              "836479    6041    NaN   NaN         NaN       1.0     5.0\n",
              "836480    6041    NaN   NaN         NaN      48.0     4.0\n",
              "836481    6041    NaN   NaN         NaN    2571.0     5.0\n",
              "836482    6041    NaN   NaN         NaN     480.0     4.0\n",
              "0         9999      F  25.0         1.0       1.0     5.0\n",
              "1         9999      F  25.0         1.0      48.0     4.0\n",
              "2         9999      F  25.0         1.0    2571.0     5.0\n",
              "3         9999      F  25.0         1.0     480.0     4.0"
            ],
            "text/html": [
              "\n",
              "  <div id=\"df-5b4506a7-ccb2-437f-91ca-07a9afe0baca\">\n",
              "    <div class=\"colab-df-container\">\n",
              "      <div>\n",
              "<style scoped>\n",
              "    .dataframe tbody tr th:only-of-type {\n",
              "        vertical-align: middle;\n",
              "    }\n",
              "\n",
              "    .dataframe tbody tr th {\n",
              "        vertical-align: top;\n",
              "    }\n",
              "\n",
              "    .dataframe thead th {\n",
              "        text-align: right;\n",
              "    }\n",
              "</style>\n",
              "<table border=\"1\" class=\"dataframe\">\n",
              "  <thead>\n",
              "    <tr style=\"text-align: right;\">\n",
              "      <th></th>\n",
              "      <th>user_id</th>\n",
              "      <th>gender</th>\n",
              "      <th>age</th>\n",
              "      <th>occupation</th>\n",
              "      <th>movie_id</th>\n",
              "      <th>counts</th>\n",
              "    </tr>\n",
              "  </thead>\n",
              "  <tbody>\n",
              "    <tr>\n",
              "      <th>836477</th>\n",
              "      <td>6040.0</td>\n",
              "      <td>M</td>\n",
              "      <td>25.0</td>\n",
              "      <td>6.0</td>\n",
              "      <td>1096.0</td>\n",
              "      <td>4.0</td>\n",
              "    </tr>\n",
              "    <tr>\n",
              "      <th>836478</th>\n",
              "      <td>6040.0</td>\n",
              "      <td>M</td>\n",
              "      <td>25.0</td>\n",
              "      <td>6.0</td>\n",
              "      <td>1097.0</td>\n",
              "      <td>4.0</td>\n",
              "    </tr>\n",
              "    <tr>\n",
              "      <th>836479</th>\n",
              "      <td>6041</td>\n",
              "      <td>NaN</td>\n",
              "      <td>NaN</td>\n",
              "      <td>NaN</td>\n",
              "      <td>1.0</td>\n",
              "      <td>5.0</td>\n",
              "    </tr>\n",
              "    <tr>\n",
              "      <th>836480</th>\n",
              "      <td>6041</td>\n",
              "      <td>NaN</td>\n",
              "      <td>NaN</td>\n",
              "      <td>NaN</td>\n",
              "      <td>48.0</td>\n",
              "      <td>4.0</td>\n",
              "    </tr>\n",
              "    <tr>\n",
              "      <th>836481</th>\n",
              "      <td>6041</td>\n",
              "      <td>NaN</td>\n",
              "      <td>NaN</td>\n",
              "      <td>NaN</td>\n",
              "      <td>2571.0</td>\n",
              "      <td>5.0</td>\n",
              "    </tr>\n",
              "    <tr>\n",
              "      <th>836482</th>\n",
              "      <td>6041</td>\n",
              "      <td>NaN</td>\n",
              "      <td>NaN</td>\n",
              "      <td>NaN</td>\n",
              "      <td>480.0</td>\n",
              "      <td>4.0</td>\n",
              "    </tr>\n",
              "    <tr>\n",
              "      <th>0</th>\n",
              "      <td>9999</td>\n",
              "      <td>F</td>\n",
              "      <td>25.0</td>\n",
              "      <td>1.0</td>\n",
              "      <td>1.0</td>\n",
              "      <td>5.0</td>\n",
              "    </tr>\n",
              "    <tr>\n",
              "      <th>1</th>\n",
              "      <td>9999</td>\n",
              "      <td>F</td>\n",
              "      <td>25.0</td>\n",
              "      <td>1.0</td>\n",
              "      <td>48.0</td>\n",
              "      <td>4.0</td>\n",
              "    </tr>\n",
              "    <tr>\n",
              "      <th>2</th>\n",
              "      <td>9999</td>\n",
              "      <td>F</td>\n",
              "      <td>25.0</td>\n",
              "      <td>1.0</td>\n",
              "      <td>2571.0</td>\n",
              "      <td>5.0</td>\n",
              "    </tr>\n",
              "    <tr>\n",
              "      <th>3</th>\n",
              "      <td>9999</td>\n",
              "      <td>F</td>\n",
              "      <td>25.0</td>\n",
              "      <td>1.0</td>\n",
              "      <td>480.0</td>\n",
              "      <td>4.0</td>\n",
              "    </tr>\n",
              "  </tbody>\n",
              "</table>\n",
              "</div>\n",
              "      <button class=\"colab-df-convert\" onclick=\"convertToInteractive('df-5b4506a7-ccb2-437f-91ca-07a9afe0baca')\"\n",
              "              title=\"Convert this dataframe to an interactive table.\"\n",
              "              style=\"display:none;\">\n",
              "        \n",
              "  <svg xmlns=\"http://www.w3.org/2000/svg\" height=\"24px\"viewBox=\"0 0 24 24\"\n",
              "       width=\"24px\">\n",
              "    <path d=\"M0 0h24v24H0V0z\" fill=\"none\"/>\n",
              "    <path d=\"M18.56 5.44l.94 2.06.94-2.06 2.06-.94-2.06-.94-.94-2.06-.94 2.06-2.06.94zm-11 1L8.5 8.5l.94-2.06 2.06-.94-2.06-.94L8.5 2.5l-.94 2.06-2.06.94zm10 10l.94 2.06.94-2.06 2.06-.94-2.06-.94-.94-2.06-.94 2.06-2.06.94z\"/><path d=\"M17.41 7.96l-1.37-1.37c-.4-.4-.92-.59-1.43-.59-.52 0-1.04.2-1.43.59L10.3 9.45l-7.72 7.72c-.78.78-.78 2.05 0 2.83L4 21.41c.39.39.9.59 1.41.59.51 0 1.02-.2 1.41-.59l7.78-7.78 2.81-2.81c.8-.78.8-2.07 0-2.86zM5.41 20L4 18.59l7.72-7.72 1.47 1.35L5.41 20z\"/>\n",
              "  </svg>\n",
              "      </button>\n",
              "      \n",
              "  <style>\n",
              "    .colab-df-container {\n",
              "      display:flex;\n",
              "      flex-wrap:wrap;\n",
              "      gap: 12px;\n",
              "    }\n",
              "\n",
              "    .colab-df-convert {\n",
              "      background-color: #E8F0FE;\n",
              "      border: none;\n",
              "      border-radius: 50%;\n",
              "      cursor: pointer;\n",
              "      display: none;\n",
              "      fill: #1967D2;\n",
              "      height: 32px;\n",
              "      padding: 0 0 0 0;\n",
              "      width: 32px;\n",
              "    }\n",
              "\n",
              "    .colab-df-convert:hover {\n",
              "      background-color: #E2EBFA;\n",
              "      box-shadow: 0px 1px 2px rgba(60, 64, 67, 0.3), 0px 1px 3px 1px rgba(60, 64, 67, 0.15);\n",
              "      fill: #174EA6;\n",
              "    }\n",
              "\n",
              "    [theme=dark] .colab-df-convert {\n",
              "      background-color: #3B4455;\n",
              "      fill: #D2E3FC;\n",
              "    }\n",
              "\n",
              "    [theme=dark] .colab-df-convert:hover {\n",
              "      background-color: #434B5C;\n",
              "      box-shadow: 0px 1px 3px 1px rgba(0, 0, 0, 0.15);\n",
              "      filter: drop-shadow(0px 1px 2px rgba(0, 0, 0, 0.3));\n",
              "      fill: #FFFFFF;\n",
              "    }\n",
              "  </style>\n",
              "\n",
              "      <script>\n",
              "        const buttonEl =\n",
              "          document.querySelector('#df-5b4506a7-ccb2-437f-91ca-07a9afe0baca button.colab-df-convert');\n",
              "        buttonEl.style.display =\n",
              "          google.colab.kernel.accessAllowed ? 'block' : 'none';\n",
              "\n",
              "        async function convertToInteractive(key) {\n",
              "          const element = document.querySelector('#df-5b4506a7-ccb2-437f-91ca-07a9afe0baca');\n",
              "          const dataTable =\n",
              "            await google.colab.kernel.invokeFunction('convertToInteractive',\n",
              "                                                     [key], {});\n",
              "          if (!dataTable) return;\n",
              "\n",
              "          const docLinkHtml = 'Like what you see? Visit the ' +\n",
              "            '<a target=\"_blank\" href=https://colab.research.google.com/notebooks/data_table.ipynb>data table notebook</a>'\n",
              "            + ' to learn more about interactive tables.';\n",
              "          element.innerHTML = '';\n",
              "          dataTable['output_type'] = 'display_data';\n",
              "          await google.colab.output.renderOutput(dataTable, element);\n",
              "          const docLink = document.createElement('div');\n",
              "          docLink.innerHTML = docLinkHtml;\n",
              "          element.appendChild(docLink);\n",
              "        }\n",
              "      </script>\n",
              "    </div>\n",
              "  </div>\n",
              "  "
            ]
          },
          "metadata": {},
          "execution_count": 78
        }
      ]
    },
    {
      "cell_type": "code",
      "source": [
        "############ 영화 데이터와 merge해주기 ###############\n",
        "user_movie = pd.merge(user_rating, movies, how='outer')\n",
        "\n",
        "user_movie.isna().sum()"
      ],
      "metadata": {
        "colab": {
          "base_uri": "https://localhost:8080/"
        },
        "id": "xC7OAqnCH7WJ",
        "outputId": "f87d5c7c-927e-4b2f-a388-ffeaf0d8a73e"
      },
      "execution_count": null,
      "outputs": [
        {
          "output_type": "execute_result",
          "data": {
            "text/plain": [
              "user_id       255\n",
              "gender        259\n",
              "age           259\n",
              "occupation    259\n",
              "movie_id        1\n",
              "counts        256\n",
              "title           1\n",
              "genre           1\n",
              "dtype: int64"
            ]
          },
          "metadata": {},
          "execution_count": 79
        }
      ]
    },
    {
      "cell_type": "code",
      "source": [
        "######### null 값 확인 후 dropna 해주기 #############\n",
        "user_movie = user_movie.dropna()\n",
        "\n",
        "user_movie.isna().sum()"
      ],
      "metadata": {
        "colab": {
          "base_uri": "https://localhost:8080/"
        },
        "id": "n3quOi67DkFx",
        "outputId": "5a78e2c0-6139-48db-cdeb-76f02f996c7f"
      },
      "execution_count": null,
      "outputs": [
        {
          "output_type": "execute_result",
          "data": {
            "text/plain": [
              "user_id       0\n",
              "gender        0\n",
              "age           0\n",
              "occupation    0\n",
              "movie_id      0\n",
              "counts        0\n",
              "title         0\n",
              "genre         0\n",
              "dtype: int64"
            ]
          },
          "metadata": {},
          "execution_count": 80
        }
      ]
    },
    {
      "cell_type": "code",
      "source": [
        "user_movie.head(10)"
      ],
      "metadata": {
        "colab": {
          "base_uri": "https://localhost:8080/",
          "height": 407
        },
        "id": "H7hyAxwMIfoJ",
        "outputId": "3f67b510-8089-4cc4-cf1d-bcc30e7c62e6"
      },
      "execution_count": null,
      "outputs": [
        {
          "output_type": "execute_result",
          "data": {
            "text/plain": [
              "  user_id gender   age  occupation  movie_id  counts  \\\n",
              "0     1.0      F   1.0        10.0    1193.0     5.0   \n",
              "1     2.0      M  56.0        16.0    1193.0     5.0   \n",
              "2    12.0      M  25.0        12.0    1193.0     4.0   \n",
              "3    15.0      M  25.0         7.0    1193.0     4.0   \n",
              "4    17.0      M  50.0         1.0    1193.0     5.0   \n",
              "5    18.0      F  18.0         3.0    1193.0     4.0   \n",
              "6    19.0      M   1.0        10.0    1193.0     5.0   \n",
              "7    24.0      F  25.0         7.0    1193.0     5.0   \n",
              "8    28.0      F  25.0         1.0    1193.0     3.0   \n",
              "9    33.0      M  45.0         3.0    1193.0     5.0   \n",
              "\n",
              "                                    title  genre  \n",
              "0  One Flew Over the Cuckoo's Nest (1975)  Drama  \n",
              "1  One Flew Over the Cuckoo's Nest (1975)  Drama  \n",
              "2  One Flew Over the Cuckoo's Nest (1975)  Drama  \n",
              "3  One Flew Over the Cuckoo's Nest (1975)  Drama  \n",
              "4  One Flew Over the Cuckoo's Nest (1975)  Drama  \n",
              "5  One Flew Over the Cuckoo's Nest (1975)  Drama  \n",
              "6  One Flew Over the Cuckoo's Nest (1975)  Drama  \n",
              "7  One Flew Over the Cuckoo's Nest (1975)  Drama  \n",
              "8  One Flew Over the Cuckoo's Nest (1975)  Drama  \n",
              "9  One Flew Over the Cuckoo's Nest (1975)  Drama  "
            ],
            "text/html": [
              "\n",
              "  <div id=\"df-a76954fe-fff9-4b02-99b3-893294511093\">\n",
              "    <div class=\"colab-df-container\">\n",
              "      <div>\n",
              "<style scoped>\n",
              "    .dataframe tbody tr th:only-of-type {\n",
              "        vertical-align: middle;\n",
              "    }\n",
              "\n",
              "    .dataframe tbody tr th {\n",
              "        vertical-align: top;\n",
              "    }\n",
              "\n",
              "    .dataframe thead th {\n",
              "        text-align: right;\n",
              "    }\n",
              "</style>\n",
              "<table border=\"1\" class=\"dataframe\">\n",
              "  <thead>\n",
              "    <tr style=\"text-align: right;\">\n",
              "      <th></th>\n",
              "      <th>user_id</th>\n",
              "      <th>gender</th>\n",
              "      <th>age</th>\n",
              "      <th>occupation</th>\n",
              "      <th>movie_id</th>\n",
              "      <th>counts</th>\n",
              "      <th>title</th>\n",
              "      <th>genre</th>\n",
              "    </tr>\n",
              "  </thead>\n",
              "  <tbody>\n",
              "    <tr>\n",
              "      <th>0</th>\n",
              "      <td>1.0</td>\n",
              "      <td>F</td>\n",
              "      <td>1.0</td>\n",
              "      <td>10.0</td>\n",
              "      <td>1193.0</td>\n",
              "      <td>5.0</td>\n",
              "      <td>One Flew Over the Cuckoo's Nest (1975)</td>\n",
              "      <td>Drama</td>\n",
              "    </tr>\n",
              "    <tr>\n",
              "      <th>1</th>\n",
              "      <td>2.0</td>\n",
              "      <td>M</td>\n",
              "      <td>56.0</td>\n",
              "      <td>16.0</td>\n",
              "      <td>1193.0</td>\n",
              "      <td>5.0</td>\n",
              "      <td>One Flew Over the Cuckoo's Nest (1975)</td>\n",
              "      <td>Drama</td>\n",
              "    </tr>\n",
              "    <tr>\n",
              "      <th>2</th>\n",
              "      <td>12.0</td>\n",
              "      <td>M</td>\n",
              "      <td>25.0</td>\n",
              "      <td>12.0</td>\n",
              "      <td>1193.0</td>\n",
              "      <td>4.0</td>\n",
              "      <td>One Flew Over the Cuckoo's Nest (1975)</td>\n",
              "      <td>Drama</td>\n",
              "    </tr>\n",
              "    <tr>\n",
              "      <th>3</th>\n",
              "      <td>15.0</td>\n",
              "      <td>M</td>\n",
              "      <td>25.0</td>\n",
              "      <td>7.0</td>\n",
              "      <td>1193.0</td>\n",
              "      <td>4.0</td>\n",
              "      <td>One Flew Over the Cuckoo's Nest (1975)</td>\n",
              "      <td>Drama</td>\n",
              "    </tr>\n",
              "    <tr>\n",
              "      <th>4</th>\n",
              "      <td>17.0</td>\n",
              "      <td>M</td>\n",
              "      <td>50.0</td>\n",
              "      <td>1.0</td>\n",
              "      <td>1193.0</td>\n",
              "      <td>5.0</td>\n",
              "      <td>One Flew Over the Cuckoo's Nest (1975)</td>\n",
              "      <td>Drama</td>\n",
              "    </tr>\n",
              "    <tr>\n",
              "      <th>5</th>\n",
              "      <td>18.0</td>\n",
              "      <td>F</td>\n",
              "      <td>18.0</td>\n",
              "      <td>3.0</td>\n",
              "      <td>1193.0</td>\n",
              "      <td>4.0</td>\n",
              "      <td>One Flew Over the Cuckoo's Nest (1975)</td>\n",
              "      <td>Drama</td>\n",
              "    </tr>\n",
              "    <tr>\n",
              "      <th>6</th>\n",
              "      <td>19.0</td>\n",
              "      <td>M</td>\n",
              "      <td>1.0</td>\n",
              "      <td>10.0</td>\n",
              "      <td>1193.0</td>\n",
              "      <td>5.0</td>\n",
              "      <td>One Flew Over the Cuckoo's Nest (1975)</td>\n",
              "      <td>Drama</td>\n",
              "    </tr>\n",
              "    <tr>\n",
              "      <th>7</th>\n",
              "      <td>24.0</td>\n",
              "      <td>F</td>\n",
              "      <td>25.0</td>\n",
              "      <td>7.0</td>\n",
              "      <td>1193.0</td>\n",
              "      <td>5.0</td>\n",
              "      <td>One Flew Over the Cuckoo's Nest (1975)</td>\n",
              "      <td>Drama</td>\n",
              "    </tr>\n",
              "    <tr>\n",
              "      <th>8</th>\n",
              "      <td>28.0</td>\n",
              "      <td>F</td>\n",
              "      <td>25.0</td>\n",
              "      <td>1.0</td>\n",
              "      <td>1193.0</td>\n",
              "      <td>3.0</td>\n",
              "      <td>One Flew Over the Cuckoo's Nest (1975)</td>\n",
              "      <td>Drama</td>\n",
              "    </tr>\n",
              "    <tr>\n",
              "      <th>9</th>\n",
              "      <td>33.0</td>\n",
              "      <td>M</td>\n",
              "      <td>45.0</td>\n",
              "      <td>3.0</td>\n",
              "      <td>1193.0</td>\n",
              "      <td>5.0</td>\n",
              "      <td>One Flew Over the Cuckoo's Nest (1975)</td>\n",
              "      <td>Drama</td>\n",
              "    </tr>\n",
              "  </tbody>\n",
              "</table>\n",
              "</div>\n",
              "      <button class=\"colab-df-convert\" onclick=\"convertToInteractive('df-a76954fe-fff9-4b02-99b3-893294511093')\"\n",
              "              title=\"Convert this dataframe to an interactive table.\"\n",
              "              style=\"display:none;\">\n",
              "        \n",
              "  <svg xmlns=\"http://www.w3.org/2000/svg\" height=\"24px\"viewBox=\"0 0 24 24\"\n",
              "       width=\"24px\">\n",
              "    <path d=\"M0 0h24v24H0V0z\" fill=\"none\"/>\n",
              "    <path d=\"M18.56 5.44l.94 2.06.94-2.06 2.06-.94-2.06-.94-.94-2.06-.94 2.06-2.06.94zm-11 1L8.5 8.5l.94-2.06 2.06-.94-2.06-.94L8.5 2.5l-.94 2.06-2.06.94zm10 10l.94 2.06.94-2.06 2.06-.94-2.06-.94-.94-2.06-.94 2.06-2.06.94z\"/><path d=\"M17.41 7.96l-1.37-1.37c-.4-.4-.92-.59-1.43-.59-.52 0-1.04.2-1.43.59L10.3 9.45l-7.72 7.72c-.78.78-.78 2.05 0 2.83L4 21.41c.39.39.9.59 1.41.59.51 0 1.02-.2 1.41-.59l7.78-7.78 2.81-2.81c.8-.78.8-2.07 0-2.86zM5.41 20L4 18.59l7.72-7.72 1.47 1.35L5.41 20z\"/>\n",
              "  </svg>\n",
              "      </button>\n",
              "      \n",
              "  <style>\n",
              "    .colab-df-container {\n",
              "      display:flex;\n",
              "      flex-wrap:wrap;\n",
              "      gap: 12px;\n",
              "    }\n",
              "\n",
              "    .colab-df-convert {\n",
              "      background-color: #E8F0FE;\n",
              "      border: none;\n",
              "      border-radius: 50%;\n",
              "      cursor: pointer;\n",
              "      display: none;\n",
              "      fill: #1967D2;\n",
              "      height: 32px;\n",
              "      padding: 0 0 0 0;\n",
              "      width: 32px;\n",
              "    }\n",
              "\n",
              "    .colab-df-convert:hover {\n",
              "      background-color: #E2EBFA;\n",
              "      box-shadow: 0px 1px 2px rgba(60, 64, 67, 0.3), 0px 1px 3px 1px rgba(60, 64, 67, 0.15);\n",
              "      fill: #174EA6;\n",
              "    }\n",
              "\n",
              "    [theme=dark] .colab-df-convert {\n",
              "      background-color: #3B4455;\n",
              "      fill: #D2E3FC;\n",
              "    }\n",
              "\n",
              "    [theme=dark] .colab-df-convert:hover {\n",
              "      background-color: #434B5C;\n",
              "      box-shadow: 0px 1px 3px 1px rgba(0, 0, 0, 0.15);\n",
              "      filter: drop-shadow(0px 1px 2px rgba(0, 0, 0, 0.3));\n",
              "      fill: #FFFFFF;\n",
              "    }\n",
              "  </style>\n",
              "\n",
              "      <script>\n",
              "        const buttonEl =\n",
              "          document.querySelector('#df-a76954fe-fff9-4b02-99b3-893294511093 button.colab-df-convert');\n",
              "        buttonEl.style.display =\n",
              "          google.colab.kernel.accessAllowed ? 'block' : 'none';\n",
              "\n",
              "        async function convertToInteractive(key) {\n",
              "          const element = document.querySelector('#df-a76954fe-fff9-4b02-99b3-893294511093');\n",
              "          const dataTable =\n",
              "            await google.colab.kernel.invokeFunction('convertToInteractive',\n",
              "                                                     [key], {});\n",
              "          if (!dataTable) return;\n",
              "\n",
              "          const docLinkHtml = 'Like what you see? Visit the ' +\n",
              "            '<a target=\"_blank\" href=https://colab.research.google.com/notebooks/data_table.ipynb>data table notebook</a>'\n",
              "            + ' to learn more about interactive tables.';\n",
              "          element.innerHTML = '';\n",
              "          dataTable['output_type'] = 'display_data';\n",
              "          await google.colab.output.renderOutput(dataTable, element);\n",
              "          const docLink = document.createElement('div');\n",
              "          docLink.innerHTML = docLinkHtml;\n",
              "          element.appendChild(docLink);\n",
              "        }\n",
              "      </script>\n",
              "    </div>\n",
              "  </div>\n",
              "  "
            ]
          },
          "metadata": {},
          "execution_count": 81
        }
      ]
    },
    {
      "cell_type": "code",
      "source": [
        "user_movie.dtypes"
      ],
      "metadata": {
        "colab": {
          "base_uri": "https://localhost:8080/"
        },
        "id": "V9N1fO-aJsYg",
        "outputId": "b1641f3d-0de1-431a-b654-1d33b1e8770b"
      },
      "execution_count": null,
      "outputs": [
        {
          "output_type": "execute_result",
          "data": {
            "text/plain": [
              "user_id        object\n",
              "gender         object\n",
              "age           float64\n",
              "occupation    float64\n",
              "movie_id      float64\n",
              "counts        float64\n",
              "title          object\n",
              "genre          object\n",
              "dtype: object"
            ]
          },
          "metadata": {},
          "execution_count": 82
        }
      ]
    },
    {
      "cell_type": "code",
      "source": [
        "user_movie = user_movie.astype({'age':'int'})\n",
        "user_movie.dtypes"
      ],
      "metadata": {
        "colab": {
          "base_uri": "https://localhost:8080/"
        },
        "id": "7zHPxw2WJ2Zb",
        "outputId": "cc46cb18-9f44-45e7-b072-a198b5f8f4a8"
      },
      "execution_count": null,
      "outputs": [
        {
          "output_type": "execute_result",
          "data": {
            "text/plain": [
              "user_id        object\n",
              "gender         object\n",
              "age             int64\n",
              "occupation    float64\n",
              "movie_id      float64\n",
              "counts        float64\n",
              "title          object\n",
              "genre          object\n",
              "dtype: object"
            ]
          },
          "metadata": {},
          "execution_count": 83
        }
      ]
    },
    {
      "cell_type": "markdown",
      "source": [
        "### CSR matrix 만들기"
      ],
      "metadata": {
        "id": "Y_Hh98U_I6sA"
      }
    },
    {
      "cell_type": "markdown",
      "source": [
        "이제 user_id 대신 age를 기준으로 indexing을 다시 정리해줍니다."
      ],
      "metadata": {
        "id": "ln1LHSDgDYxy"
      }
    },
    {
      "cell_type": "code",
      "source": [
        "########### 고유한 age, title 찾기 ###############\n",
        "age_unique = user_movie['age'].unique()\n",
        "title_unique = user_movie['title'].unique()"
      ],
      "metadata": {
        "id": "f827N4nyDO8m"
      },
      "execution_count": null,
      "outputs": []
    },
    {
      "cell_type": "code",
      "source": [
        "########### age, title indexing ############\n",
        "age_to_idx = {value:key for key, value in enumerate(age_unique)}\n",
        "title_to_idx = {value:key for key, value in enumerate(title_unique)}"
      ],
      "metadata": {
        "id": "sW1RAEOGJHIN"
      },
      "execution_count": null,
      "outputs": []
    },
    {
      "cell_type": "code",
      "source": [
        "# 인덱싱이 잘 되었는지 확인해 봅니다.  \n",
        "print(title_to_idx['Pulp Fiction (1994)'])\n",
        "print(age_to_idx[25])"
      ],
      "metadata": {
        "colab": {
          "base_uri": "https://localhost:8080/"
        },
        "id": "0ZD75X0nJTqN",
        "outputId": "ad4e5d71-da48-47c8-9f5f-ab790ed24cd6"
      },
      "execution_count": null,
      "outputs": [
        {
          "output_type": "stream",
          "name": "stdout",
          "text": [
            "222\n",
            "2\n"
          ]
        }
      ]
    },
    {
      "cell_type": "code",
      "source": [
        "########### indexing을 통해 데이터 컬럼 내 값을 바꾸기 ################\n",
        "\n",
        "temp_age_data = user_movie['age'].map(age_to_idx.get).dropna()\n",
        " # 모든 row가 정상적으로 인덱싱되었다면\n",
        "if len(temp_age_data) == len(user_movie):\n",
        "    print('age column indexing OK :)')\n",
        "    # data['user_id']을 인덱싱된 Series로 교체해 줍니다. \n",
        "    user_movie['user_id'] = temp_age_data\n",
        "else:\n",
        "    print('age column indexing Fail :(')\n",
        "\n",
        "# title_to_idx을 통해 title 컬럼도 동일한 방식으로 인덱싱해 줍니다. \n",
        "temp_title_data = user_movie['title'].map(title_to_idx.get).dropna()\n",
        "\n",
        "if len(temp_title_data) == len(user_movie):\n",
        "    print('title column indexing OK :)')\n",
        "    user_movie['title'] = temp_title_data\n",
        "else:\n",
        "    print('title column indexing Fail :(')\n",
        "    \n",
        "user_movie"
      ],
      "metadata": {
        "colab": {
          "base_uri": "https://localhost:8080/",
          "height": 458
        },
        "id": "4_5vOvOVJZr-",
        "outputId": "ef55a170-5e19-442e-a937-0fee47a71893"
      },
      "execution_count": null,
      "outputs": [
        {
          "output_type": "stream",
          "name": "stdout",
          "text": [
            "age column indexing OK :)\n",
            "title column indexing OK :)\n"
          ]
        },
        {
          "output_type": "execute_result",
          "data": {
            "text/plain": [
              "        user_id gender  age  occupation  movie_id  counts  title  \\\n",
              "0             0      F    1        10.0    1193.0     5.0      0   \n",
              "1             1      M   56        16.0    1193.0     5.0      0   \n",
              "2             2      M   25        12.0    1193.0     4.0      0   \n",
              "3             2      M   25         7.0    1193.0     4.0      0   \n",
              "4             3      M   50         1.0    1193.0     5.0      0   \n",
              "...         ...    ...  ...         ...       ...     ...    ...   \n",
              "836482        4      F   18        20.0    3607.0     5.0   3623   \n",
              "836483        5      M   45         7.0    3026.0     4.0   3624   \n",
              "836484        5      M   45         7.0     690.0     3.0   3625   \n",
              "836485        2      M   25         1.0    2909.0     4.0   3626   \n",
              "836486        1      M   56        13.0    1360.0     5.0   3627   \n",
              "\n",
              "                       genre  \n",
              "0                      Drama  \n",
              "1                      Drama  \n",
              "2                      Drama  \n",
              "3                      Drama  \n",
              "4                      Drama  \n",
              "...                      ...  \n",
              "836482  Comedy|Drama|Western  \n",
              "836483                Horror  \n",
              "836484               Romance  \n",
              "836485           Documentary  \n",
              "836486                 Drama  \n",
              "\n",
              "[836482 rows x 8 columns]"
            ],
            "text/html": [
              "\n",
              "  <div id=\"df-8ec5f3fc-ac8b-44d2-9116-4a5dbd5ab01d\">\n",
              "    <div class=\"colab-df-container\">\n",
              "      <div>\n",
              "<style scoped>\n",
              "    .dataframe tbody tr th:only-of-type {\n",
              "        vertical-align: middle;\n",
              "    }\n",
              "\n",
              "    .dataframe tbody tr th {\n",
              "        vertical-align: top;\n",
              "    }\n",
              "\n",
              "    .dataframe thead th {\n",
              "        text-align: right;\n",
              "    }\n",
              "</style>\n",
              "<table border=\"1\" class=\"dataframe\">\n",
              "  <thead>\n",
              "    <tr style=\"text-align: right;\">\n",
              "      <th></th>\n",
              "      <th>user_id</th>\n",
              "      <th>gender</th>\n",
              "      <th>age</th>\n",
              "      <th>occupation</th>\n",
              "      <th>movie_id</th>\n",
              "      <th>counts</th>\n",
              "      <th>title</th>\n",
              "      <th>genre</th>\n",
              "    </tr>\n",
              "  </thead>\n",
              "  <tbody>\n",
              "    <tr>\n",
              "      <th>0</th>\n",
              "      <td>0</td>\n",
              "      <td>F</td>\n",
              "      <td>1</td>\n",
              "      <td>10.0</td>\n",
              "      <td>1193.0</td>\n",
              "      <td>5.0</td>\n",
              "      <td>0</td>\n",
              "      <td>Drama</td>\n",
              "    </tr>\n",
              "    <tr>\n",
              "      <th>1</th>\n",
              "      <td>1</td>\n",
              "      <td>M</td>\n",
              "      <td>56</td>\n",
              "      <td>16.0</td>\n",
              "      <td>1193.0</td>\n",
              "      <td>5.0</td>\n",
              "      <td>0</td>\n",
              "      <td>Drama</td>\n",
              "    </tr>\n",
              "    <tr>\n",
              "      <th>2</th>\n",
              "      <td>2</td>\n",
              "      <td>M</td>\n",
              "      <td>25</td>\n",
              "      <td>12.0</td>\n",
              "      <td>1193.0</td>\n",
              "      <td>4.0</td>\n",
              "      <td>0</td>\n",
              "      <td>Drama</td>\n",
              "    </tr>\n",
              "    <tr>\n",
              "      <th>3</th>\n",
              "      <td>2</td>\n",
              "      <td>M</td>\n",
              "      <td>25</td>\n",
              "      <td>7.0</td>\n",
              "      <td>1193.0</td>\n",
              "      <td>4.0</td>\n",
              "      <td>0</td>\n",
              "      <td>Drama</td>\n",
              "    </tr>\n",
              "    <tr>\n",
              "      <th>4</th>\n",
              "      <td>3</td>\n",
              "      <td>M</td>\n",
              "      <td>50</td>\n",
              "      <td>1.0</td>\n",
              "      <td>1193.0</td>\n",
              "      <td>5.0</td>\n",
              "      <td>0</td>\n",
              "      <td>Drama</td>\n",
              "    </tr>\n",
              "    <tr>\n",
              "      <th>...</th>\n",
              "      <td>...</td>\n",
              "      <td>...</td>\n",
              "      <td>...</td>\n",
              "      <td>...</td>\n",
              "      <td>...</td>\n",
              "      <td>...</td>\n",
              "      <td>...</td>\n",
              "      <td>...</td>\n",
              "    </tr>\n",
              "    <tr>\n",
              "      <th>836482</th>\n",
              "      <td>4</td>\n",
              "      <td>F</td>\n",
              "      <td>18</td>\n",
              "      <td>20.0</td>\n",
              "      <td>3607.0</td>\n",
              "      <td>5.0</td>\n",
              "      <td>3623</td>\n",
              "      <td>Comedy|Drama|Western</td>\n",
              "    </tr>\n",
              "    <tr>\n",
              "      <th>836483</th>\n",
              "      <td>5</td>\n",
              "      <td>M</td>\n",
              "      <td>45</td>\n",
              "      <td>7.0</td>\n",
              "      <td>3026.0</td>\n",
              "      <td>4.0</td>\n",
              "      <td>3624</td>\n",
              "      <td>Horror</td>\n",
              "    </tr>\n",
              "    <tr>\n",
              "      <th>836484</th>\n",
              "      <td>5</td>\n",
              "      <td>M</td>\n",
              "      <td>45</td>\n",
              "      <td>7.0</td>\n",
              "      <td>690.0</td>\n",
              "      <td>3.0</td>\n",
              "      <td>3625</td>\n",
              "      <td>Romance</td>\n",
              "    </tr>\n",
              "    <tr>\n",
              "      <th>836485</th>\n",
              "      <td>2</td>\n",
              "      <td>M</td>\n",
              "      <td>25</td>\n",
              "      <td>1.0</td>\n",
              "      <td>2909.0</td>\n",
              "      <td>4.0</td>\n",
              "      <td>3626</td>\n",
              "      <td>Documentary</td>\n",
              "    </tr>\n",
              "    <tr>\n",
              "      <th>836486</th>\n",
              "      <td>1</td>\n",
              "      <td>M</td>\n",
              "      <td>56</td>\n",
              "      <td>13.0</td>\n",
              "      <td>1360.0</td>\n",
              "      <td>5.0</td>\n",
              "      <td>3627</td>\n",
              "      <td>Drama</td>\n",
              "    </tr>\n",
              "  </tbody>\n",
              "</table>\n",
              "<p>836482 rows × 8 columns</p>\n",
              "</div>\n",
              "      <button class=\"colab-df-convert\" onclick=\"convertToInteractive('df-8ec5f3fc-ac8b-44d2-9116-4a5dbd5ab01d')\"\n",
              "              title=\"Convert this dataframe to an interactive table.\"\n",
              "              style=\"display:none;\">\n",
              "        \n",
              "  <svg xmlns=\"http://www.w3.org/2000/svg\" height=\"24px\"viewBox=\"0 0 24 24\"\n",
              "       width=\"24px\">\n",
              "    <path d=\"M0 0h24v24H0V0z\" fill=\"none\"/>\n",
              "    <path d=\"M18.56 5.44l.94 2.06.94-2.06 2.06-.94-2.06-.94-.94-2.06-.94 2.06-2.06.94zm-11 1L8.5 8.5l.94-2.06 2.06-.94-2.06-.94L8.5 2.5l-.94 2.06-2.06.94zm10 10l.94 2.06.94-2.06 2.06-.94-2.06-.94-.94-2.06-.94 2.06-2.06.94z\"/><path d=\"M17.41 7.96l-1.37-1.37c-.4-.4-.92-.59-1.43-.59-.52 0-1.04.2-1.43.59L10.3 9.45l-7.72 7.72c-.78.78-.78 2.05 0 2.83L4 21.41c.39.39.9.59 1.41.59.51 0 1.02-.2 1.41-.59l7.78-7.78 2.81-2.81c.8-.78.8-2.07 0-2.86zM5.41 20L4 18.59l7.72-7.72 1.47 1.35L5.41 20z\"/>\n",
              "  </svg>\n",
              "      </button>\n",
              "      \n",
              "  <style>\n",
              "    .colab-df-container {\n",
              "      display:flex;\n",
              "      flex-wrap:wrap;\n",
              "      gap: 12px;\n",
              "    }\n",
              "\n",
              "    .colab-df-convert {\n",
              "      background-color: #E8F0FE;\n",
              "      border: none;\n",
              "      border-radius: 50%;\n",
              "      cursor: pointer;\n",
              "      display: none;\n",
              "      fill: #1967D2;\n",
              "      height: 32px;\n",
              "      padding: 0 0 0 0;\n",
              "      width: 32px;\n",
              "    }\n",
              "\n",
              "    .colab-df-convert:hover {\n",
              "      background-color: #E2EBFA;\n",
              "      box-shadow: 0px 1px 2px rgba(60, 64, 67, 0.3), 0px 1px 3px 1px rgba(60, 64, 67, 0.15);\n",
              "      fill: #174EA6;\n",
              "    }\n",
              "\n",
              "    [theme=dark] .colab-df-convert {\n",
              "      background-color: #3B4455;\n",
              "      fill: #D2E3FC;\n",
              "    }\n",
              "\n",
              "    [theme=dark] .colab-df-convert:hover {\n",
              "      background-color: #434B5C;\n",
              "      box-shadow: 0px 1px 3px 1px rgba(0, 0, 0, 0.15);\n",
              "      filter: drop-shadow(0px 1px 2px rgba(0, 0, 0, 0.3));\n",
              "      fill: #FFFFFF;\n",
              "    }\n",
              "  </style>\n",
              "\n",
              "      <script>\n",
              "        const buttonEl =\n",
              "          document.querySelector('#df-8ec5f3fc-ac8b-44d2-9116-4a5dbd5ab01d button.colab-df-convert');\n",
              "        buttonEl.style.display =\n",
              "          google.colab.kernel.accessAllowed ? 'block' : 'none';\n",
              "\n",
              "        async function convertToInteractive(key) {\n",
              "          const element = document.querySelector('#df-8ec5f3fc-ac8b-44d2-9116-4a5dbd5ab01d');\n",
              "          const dataTable =\n",
              "            await google.colab.kernel.invokeFunction('convertToInteractive',\n",
              "                                                     [key], {});\n",
              "          if (!dataTable) return;\n",
              "\n",
              "          const docLinkHtml = 'Like what you see? Visit the ' +\n",
              "            '<a target=\"_blank\" href=https://colab.research.google.com/notebooks/data_table.ipynb>data table notebook</a>'\n",
              "            + ' to learn more about interactive tables.';\n",
              "          element.innerHTML = '';\n",
              "          dataTable['output_type'] = 'display_data';\n",
              "          await google.colab.output.renderOutput(dataTable, element);\n",
              "          const docLink = document.createElement('div');\n",
              "          docLink.innerHTML = docLinkHtml;\n",
              "          element.appendChild(docLink);\n",
              "        }\n",
              "      </script>\n",
              "    </div>\n",
              "  </div>\n",
              "  "
            ]
          },
          "metadata": {},
          "execution_count": 87
        }
      ]
    },
    {
      "cell_type": "code",
      "source": [
        "############# CSR 데이터 만들기 ###############\n",
        "num_age = user_movie['age'].nunique()\n",
        "num_title_2 = user_movie['title'].nunique()\n",
        "\n",
        "csr_data_2 = csr_matrix((user_movie.counts, (user_movie.user_id, user_movie.title)), \n",
        "                      shape= (num_age, num_title_2))\n",
        "\n",
        "csr_data_2"
      ],
      "metadata": {
        "colab": {
          "base_uri": "https://localhost:8080/"
        },
        "id": "x4aVhwqGKXEP",
        "outputId": "cae1ea58-0e64-41cc-9a4a-73fe58daca45"
      },
      "execution_count": null,
      "outputs": [
        {
          "output_type": "execute_result",
          "data": {
            "text/plain": [
              "<7x3628 sparse matrix of type '<class 'numpy.float64'>'\n",
              "\twith 21350 stored elements in Compressed Sparse Row format>"
            ]
          },
          "metadata": {},
          "execution_count": 88
        }
      ]
    },
    {
      "cell_type": "markdown",
      "source": [
        "### als model 훈련시키기 \n",
        "---\n",
        "우선 가장 좋았던 model 2값으로 훈련시켜봅니다.\n",
        "\n",
        "(model_2)\n",
        "fac = 100, reg = 0.05, iter = 100 -> 0.52 / 0.43"
      ],
      "metadata": {
        "id": "3CGst-aWLVVp"
      }
    },
    {
      "cell_type": "code",
      "source": [
        "########### Implicit AlternatingLeastSquares 모델 구현 1번째###########\n",
        "\n",
        "als_model_2 = AlternatingLeastSquares(factors = 100, regularization = 0.05, \n",
        "                                   use_gpu=False, iterations=100, dtype=np.float32)\n",
        "\n",
        "############# 모델 훈련 #############\n",
        "als_model_2.fit(csr_data_2)"
      ],
      "metadata": {
        "colab": {
          "base_uri": "https://localhost:8080/",
          "height": 49,
          "referenced_widgets": [
            "362482afbc954a27adb5509be5845ab7",
            "064d4312f2424c4f824aba8574e2679a",
            "691c573119dd489cbb883fee54566deb",
            "509318dc80334c35899f288e05d33e3a",
            "a5b03f4090d04bb587d7295c4fec3505",
            "1c205ab298a445c18504cb793108f49f",
            "cfd54fb4e55645c9822880067142a5f4",
            "6410d93f66c448818a51180abfcbc241",
            "01dbacc501c3421e949661f122c917e9",
            "c9486c5d033a414ea4160118be2175c1",
            "0a194efc7c5147e6bca480f3365a98af"
          ]
        },
        "id": "vnrKZeyIKnpl",
        "outputId": "48d2af12-dff5-4ac4-8082-23801bf895b1"
      },
      "execution_count": null,
      "outputs": [
        {
          "output_type": "display_data",
          "data": {
            "text/plain": [
              "  0%|          | 0/100 [00:00<?, ?it/s]"
            ],
            "application/vnd.jupyter.widget-view+json": {
              "version_major": 2,
              "version_minor": 0,
              "model_id": "362482afbc954a27adb5509be5845ab7"
            }
          },
          "metadata": {}
        }
      ]
    },
    {
      "cell_type": "code",
      "source": [
        "############### 25: \"25-34\" 나이대 추천 내적 ###############\n",
        "def dot(age_to_id, title_to_id):\n",
        "    ages, movie_title = age_to_idx[age_to_id], title_to_idx[title_to_id]\n",
        "    ages_vector, movie_title_vector = als_model_2.user_factors[ages], als_model_2.item_factors[movie_title]\n",
        "    dot = np.dot(ages_vector, movie_title_vector)\n",
        "\n",
        "    Matrix = title_to_idx['Matrix, The (1999)']\n",
        "    Matrix_vector = als_model_2.item_factors[Matrix]\n",
        "    dot2 = np.dot(ages_vector, Matrix_vector)\n",
        "\n",
        "    return print('내적값은 {:.2}입니다. \\nMatrix의 내적값은 {:.2}입니다'.format(dot, dot2))\n",
        "\n",
        "\n",
        "dot(25, 'Jurassic Park (1993)')\n",
        "dot(25, 'Toy Story (1995)')"
      ],
      "metadata": {
        "colab": {
          "base_uri": "https://localhost:8080/"
        },
        "id": "OzALhwzDLhoS",
        "outputId": "8973c257-1d7d-4979-9dfb-60f7c932f409"
      },
      "execution_count": null,
      "outputs": [
        {
          "output_type": "stream",
          "name": "stdout",
          "text": [
            "내적값은 1.0입니다. \n",
            "Matrix의 내적값은 1.0입니다\n",
            "내적값은 1.0입니다. \n",
            "Matrix의 내적값은 1.0입니다\n"
          ]
        }
      ]
    },
    {
      "cell_type": "markdown",
      "source": [
        "1.0이 나오다니.....요....? 좋은 건가...? 아닌것 같은 강한 느낌이 오는데 한번 추천까지 받아봅니다."
      ],
      "metadata": {
        "id": "o3sbaHzCMlbp"
      }
    },
    {
      "cell_type": "code",
      "source": [
        "############ 나이별 영화 추천 함수 #############\n",
        "def Movie_Recommen_By_Age(age_index : int):\n",
        "    age = age_to_idx[age_index]\n",
        "    movie_recommended = als_model_2.recommend(age, csr_data[age], N = 10,\n",
        "                                        filter_already_liked_items = True)\n",
        "    recommended_list = movie_recommended[0]\n",
        "    recommended_list = [idx_to_title[i] for i in recommended_list]\n",
        "    print(f'25 ~ 35세 이용자님 안녕하세요^_____^! 같은 연령대의 친구들은\\n{recommended_list}이 영화들을 좋아하시더라구요!')\n",
        "\n",
        "Movie_Recommen_By_Age(25)\n"
      ],
      "metadata": {
        "colab": {
          "base_uri": "https://localhost:8080/"
        },
        "id": "QhiNAC5nMRcg",
        "outputId": "7f55a6cc-55bd-4b37-aa63-2d1ce5a2aad7"
      },
      "execution_count": null,
      "outputs": [
        {
          "output_type": "stream",
          "name": "stdout",
          "text": [
            "25 ~ 35세 이용자님 안녕하세요^_____^! 같은 연령대의 친구들은\n",
            "['Lonely Are the Brave (1962)', 'Room at the Top (1959)', 'Man from Laramie, The (1955)', 'Rocketship X-M (1950)', 'Irma la Douce (1963)', 'Man with the Golden Arm, The (1955)', 'And God Created Woman (1988)', 'Police Academy 6: City Under Siege (1989)', 'Airport 1975 (1974)', 'Red Sorghum (Hong Gao Liang) (1987)']이 영화들을 좋아하시더라구요!\n"
          ]
        }
      ]
    },
    {
      "cell_type": "markdown",
      "source": [
        "아 뭔가 아닌 것 같은 느낌이 강하게 옵니다... 모델 값을 바꿔봅니다...\n",
        "\n",
        "그나마 조금 괜찮았던 값으로 변경해봅니다.   \n",
        "나이값은 숫자가 적은 반면 안에 많은 영화들이 담겨있으니 factor가 높아야할 것 같아 다음엔 factor 값을 증가해서 비교해보겠습니다. \n",
        "\n",
        "\n",
        "1. fac = 100, reg = 0.4, iter = 500, training_loss = True  \n",
        "2. fac = 200, reg = 0.4, iter = 500, training_loss = True"
      ],
      "metadata": {
        "id": "bKjH37XuN3qO"
      }
    },
    {
      "cell_type": "code",
      "source": [
        "########### Implicit AlternatingLeastSquares 모델 구현 2번째###########\n",
        "\n",
        "als_model_9 = AlternatingLeastSquares(factors = 100, regularization = 0.4, calculate_training_loss = True,\n",
        "                                   use_gpu=False, iterations=500, dtype=np.float32)\n",
        "\n",
        "############# 모델 훈련 #############\n",
        "als_model_9.fit(csr_data_2)"
      ],
      "metadata": {
        "colab": {
          "base_uri": "https://localhost:8080/",
          "height": 49,
          "referenced_widgets": [
            "a0d35a1ec3404bcd800d4a557f6d332c",
            "15499ab66b65422ca8f9f81bf5dcc1d2",
            "ba286e4cae5640f0a59028ba004db0ae",
            "2c97e57241b04f3d9aceff3fd0fc15a2",
            "a7910ffd7c7c46eaa7210e0786af6f6c",
            "95c480ba3a08412ca0e3fd30113796d6",
            "ca0ae23756504f49927c9a5992d79b62",
            "e2f3accf8baa47bbb9b6873caa02b660",
            "abfd47929e194281be8b0ec07fb748ad",
            "603478ca60b24816bacb69e38048a74e",
            "b1e9cd61992943c8923674b5760a3f49"
          ]
        },
        "id": "ZMzxNjSENTHi",
        "outputId": "cde8b06b-b42d-489d-874d-2de64954512e"
      },
      "execution_count": null,
      "outputs": [
        {
          "output_type": "display_data",
          "data": {
            "text/plain": [
              "  0%|          | 0/500 [00:00<?, ?it/s]"
            ],
            "application/vnd.jupyter.widget-view+json": {
              "version_major": 2,
              "version_minor": 0,
              "model_id": "a0d35a1ec3404bcd800d4a557f6d332c"
            }
          },
          "metadata": {}
        }
      ]
    },
    {
      "cell_type": "code",
      "source": [
        "############### 25: \"25-34\" 나이대 추천 내적 ###############\n",
        "def dot(age_to_id, title_to_id):\n",
        "    ages, movie_title = age_to_idx[age_to_id], title_to_idx[title_to_id]\n",
        "    ages_vector, movie_title_vector = als_model_9.user_factors[ages], als_model_9.item_factors[movie_title]\n",
        "    dot = np.dot(ages_vector, movie_title_vector)\n",
        "\n",
        "    Matrix = title_to_idx['Matrix, The (1999)']\n",
        "    Matrix_vector = als_model_9.item_factors[Matrix]\n",
        "    dot2 = np.dot(ages_vector, Matrix_vector)\n",
        "\n",
        "    return print('내적값은 {:.2}입니다. \\nMatrix의 내적값은 {:.2}입니다'.format(dot, dot2))\n",
        "\n",
        "\n",
        "dot(25, 'Jurassic Park (1993)')\n",
        "dot(25, 'Toy Story (1995)')"
      ],
      "metadata": {
        "colab": {
          "base_uri": "https://localhost:8080/"
        },
        "id": "PNvskX2eOngQ",
        "outputId": "40e198ab-3f4d-4e99-d74d-3875695bc453"
      },
      "execution_count": null,
      "outputs": [
        {
          "output_type": "stream",
          "name": "stdout",
          "text": [
            "내적값은 1.0입니다. \n",
            "Matrix의 내적값은 1.0입니다\n",
            "내적값은 1.0입니다. \n",
            "Matrix의 내적값은 1.0입니다\n"
          ]
        }
      ]
    },
    {
      "cell_type": "code",
      "source": [
        "############ 나이별 영화 추천 함수 #############\n",
        "def Movie_Recommen_By_Age(age_index : int):\n",
        "    age = age_to_idx[age_index]\n",
        "    movie_recommended = als_model_9.recommend(age, csr_data[age], N = 10,\n",
        "                                        filter_already_liked_items = True)\n",
        "    recommended_list = movie_recommended[0]\n",
        "    recommended_list = [idx_to_title[i] for i in recommended_list]\n",
        "    print(f'25 ~ 35세 이용자님 안녕하세요^_____^! 같은 연령대의 친구들은\\n{recommended_list}이 영화들을 좋아하시더라구요!')\n",
        "\n",
        "Movie_Recommen_By_Age(25)"
      ],
      "metadata": {
        "colab": {
          "base_uri": "https://localhost:8080/"
        },
        "id": "69KdPXLmPTKg",
        "outputId": "8d6dcb67-d36c-4683-8207-18af6821b2ea"
      },
      "execution_count": null,
      "outputs": [
        {
          "output_type": "stream",
          "name": "stdout",
          "text": [
            "25 ~ 35세 이용자님 안녕하세요^_____^! 같은 연령대의 친구들은\n",
            "['Tic Code, The (1998)', 'Young and Innocent (1937)', 'Other Side of Sunday, The (Søndagsengler) (1996)', 'Kindred, The (1986)', 'Carmen (1984)', 'Rain (1932)', 'Lady of Burlesque (1943)', 'Pajama Party (1964)', \"Devil's Brigade, The (1968)\", 'Mad Dog Time (1996)']이 영화들을 좋아하시더라구요!\n"
          ]
        }
      ]
    },
    {
      "cell_type": "markdown",
      "source": [
        "아..... 내적값 1부터 심상치 않았는데, 아직 부족하네요...\n",
        "\n",
        "위에서 작성한 factor 값을 200으로 올려서 진행해봅니다."
      ],
      "metadata": {
        "id": "iMmmbqRTPdb8"
      }
    },
    {
      "cell_type": "code",
      "source": [
        "########### Implicit AlternatingLeastSquares 모델 구현 3번째###########\n",
        "\n",
        "als_model_10 = AlternatingLeastSquares(factors = 200, regularization = 0.4, calculate_training_loss = True,\n",
        "                                   use_gpu=False, iterations=500, dtype=np.float32)\n",
        "\n",
        "############# 모델 훈련 #############\n",
        "als_model_10.fit(csr_data_2)"
      ],
      "metadata": {
        "colab": {
          "base_uri": "https://localhost:8080/",
          "height": 49,
          "referenced_widgets": [
            "18bbb880fe3b435d8559055884bbf50a",
            "96d432ad7c6b4893b237da6d7762f8e0",
            "098db2dafeed487b976c6c6a30ad38a8",
            "94cefd1f9732439597b0aa91eea4c0c0",
            "b1391c5026f9451da0bba051eb3c48b7",
            "1406edb34a58459e9d6a13fd381b67ba",
            "74c5c1cb8a6e49d0985a595a7c36f6db",
            "6e2d76bd6524418cbe49eede23948b7b",
            "82d6721701a94fd7895457c23361fa46",
            "6853d67966864e8e9a2c7711a2b2d24d",
            "8c24957d79464163aaddce761ef8eb14"
          ]
        },
        "id": "VzPCm9vsPYN4",
        "outputId": "1982b2a8-81e7-4ff0-fb83-8cad0b04ad6c"
      },
      "execution_count": null,
      "outputs": [
        {
          "output_type": "display_data",
          "data": {
            "text/plain": [
              "  0%|          | 0/500 [00:00<?, ?it/s]"
            ],
            "application/vnd.jupyter.widget-view+json": {
              "version_major": 2,
              "version_minor": 0,
              "model_id": "18bbb880fe3b435d8559055884bbf50a"
            }
          },
          "metadata": {}
        }
      ]
    },
    {
      "cell_type": "code",
      "source": [
        "############### 25: \"25-34\" 나이대 추천 내적 ###############\n",
        "def dot(age_to_id, title_to_id):\n",
        "    ages, movie_title = age_to_idx[age_to_id], title_to_idx[title_to_id]\n",
        "    ages_vector, movie_title_vector = als_model_10.user_factors[ages], als_model_10.item_factors[movie_title]\n",
        "    dot = np.dot(ages_vector, movie_title_vector)\n",
        "\n",
        "    Matrix = title_to_idx['Matrix, The (1999)']\n",
        "    Matrix_vector = als_model_10.item_factors[Matrix]\n",
        "    dot2 = np.dot(ages_vector, Matrix_vector)\n",
        "\n",
        "    return print('내적값은 {:.2}입니다. \\nMatrix의 내적값은 {:.2}입니다'.format(dot, dot2))\n",
        "\n",
        "\n",
        "dot(25, 'Jurassic Park (1993)')\n",
        "dot(25, 'Toy Story (1995)')"
      ],
      "metadata": {
        "colab": {
          "base_uri": "https://localhost:8080/"
        },
        "id": "pqZGfX31PtQQ",
        "outputId": "994ea7d1-f81a-4587-95bd-4b544461eb08"
      },
      "execution_count": null,
      "outputs": [
        {
          "output_type": "stream",
          "name": "stdout",
          "text": [
            "내적값은 1.0입니다. \n",
            "Matrix의 내적값은 1.0입니다\n",
            "내적값은 1.0입니다. \n",
            "Matrix의 내적값은 1.0입니다\n"
          ]
        }
      ]
    },
    {
      "cell_type": "code",
      "source": [
        "############ 나이별 영화 추천 함수 #############\n",
        "def Movie_Recommen_By_Age(age_index : int):\n",
        "    age = age_to_idx[age_index]\n",
        "    movie_recommended = als_model_10.recommend(age, csr_data[age], N = 10,\n",
        "                                        filter_already_liked_items = True)\n",
        "    recommended_list = movie_recommended[0]\n",
        "    recommended_list = [idx_to_title[i] for i in recommended_list]\n",
        "    print(f'25 ~ 35세 이용자님 안녕하세요^_____^! 같은 연령대의 친구들은\\n{recommended_list}이 영화들을 좋아하시더라구요!')\n",
        "\n",
        "Movie_Recommen_By_Age(25)"
      ],
      "metadata": {
        "colab": {
          "base_uri": "https://localhost:8080/"
        },
        "id": "C-1jgPTUQb_6",
        "outputId": "3989db83-31b6-48cd-e447-2d3f326f7eb8"
      },
      "execution_count": null,
      "outputs": [
        {
          "output_type": "stream",
          "name": "stdout",
          "text": [
            "25 ~ 35세 이용자님 안녕하세요^_____^! 같은 연령대의 친구들은\n",
            "['Tic Code, The (1998)', 'Young and Innocent (1937)', 'Other Side of Sunday, The (Søndagsengler) (1996)', 'Lady of Burlesque (1943)', 'Pajama Party (1964)', 'Carmen (1984)', 'Kindred, The (1986)', 'Rain (1932)', \"Devil's Brigade, The (1968)\", 'Daughters of the Dust (1992)']이 영화들을 좋아하시더라구요!\n"
          ]
        }
      ]
    },
    {
      "cell_type": "markdown",
      "source": [
        "추천 영화의 연도가 많이 낮아지긴 했는데, 아직 위에 값과 비슷하네요...;;;;    \n",
        "\n",
        "생각해보니 이 연령대의 이용자들이 뭘 좋아할지 감이 잡히질 않으니 확실하게 18세 이하 친구들을 타겟으로 하고 애니메이션같은 영화들이 나오는지 확인해봅니다."
      ],
      "metadata": {
        "id": "eT5ixSXPQhzR"
      }
    },
    {
      "cell_type": "code",
      "source": [
        "########### Implicit AlternatingLeastSquares 모델 구현 4번째###########\n",
        "\n",
        "als_model_11 = AlternatingLeastSquares(factors = 300, regularization = 0.4, calculate_training_loss = True,\n",
        "                                   use_gpu=False, iterations=1000, dtype=np.float32)\n",
        "\n",
        "############# 모델 훈련 #############\n",
        "als_model_11.fit(csr_data_2)"
      ],
      "metadata": {
        "colab": {
          "base_uri": "https://localhost:8080/",
          "height": 49,
          "referenced_widgets": [
            "27435bf78c924f289bd6bb385b67068b",
            "c89ff658e78f44ffa574d5ae53168ce0",
            "4128f3362f704d74be501782ec862775",
            "b30e140d84e844b3816612cc2d416c3d",
            "26f281c3c6694d1c9ab3fb8b7f5cc0e7",
            "1ca0bf7163ae4e2a83cd8748a748429d",
            "c861d48b22f74f7db1c32100c55c9d2a",
            "0eb64570c527484da08dbc397ed021d7",
            "bc9de6669b79450b9b4d0616f6bd3ff5",
            "f336b19392f14621b5552d644dbf57b0",
            "3cc5bbde61504635a52a5d14b1784c65"
          ]
        },
        "id": "wzdJPTkmQUsD",
        "outputId": "da1dffda-6c01-4d48-ac3d-ffb17cc33953"
      },
      "execution_count": null,
      "outputs": [
        {
          "output_type": "display_data",
          "data": {
            "text/plain": [
              "  0%|          | 0/1000 [00:00<?, ?it/s]"
            ],
            "application/vnd.jupyter.widget-view+json": {
              "version_major": 2,
              "version_minor": 0,
              "model_id": "27435bf78c924f289bd6bb385b67068b"
            }
          },
          "metadata": {}
        }
      ]
    },
    {
      "cell_type": "code",
      "source": [
        "############### 1: \"Under 18\" 나이대 추천 내적 ###############\n",
        "def dot(age_to_id, title_to_id):\n",
        "    ages, movie_title = age_to_idx[age_to_id], title_to_idx[title_to_id]\n",
        "    ages_vector, movie_title_vector = als_model_11.user_factors[ages], als_model_11.item_factors[movie_title]\n",
        "    dot = np.dot(ages_vector, movie_title_vector)\n",
        "\n",
        "    Toy = title_to_idx['Toy Story 2 (1999)']\n",
        "    Toy_vector = als_model_11.item_factors[Toy]\n",
        "    dot2 = np.dot(ages_vector, Toy_vector)\n",
        "\n",
        "    return print('내적값은 {:.2}입니다. \\nToy Story 2의 내적값은 {:.2}입니다'.format(dot, dot2))\n",
        "\n",
        "\n",
        "dot(1, 'Lion King, The (1994)')\n",
        "dot(1, 'Toy Story (1995)')"
      ],
      "metadata": {
        "colab": {
          "base_uri": "https://localhost:8080/"
        },
        "id": "Q-cJmqM5QSho",
        "outputId": "21afddbd-c681-4cf0-db68-6c80e2ed2674"
      },
      "execution_count": null,
      "outputs": [
        {
          "output_type": "stream",
          "name": "stdout",
          "text": [
            "내적값은 1.0입니다. \n",
            "Toy Story 2의 내적값은 1.0입니다\n",
            "내적값은 1.0입니다. \n",
            "Toy Story 2의 내적값은 1.0입니다\n"
          ]
        }
      ]
    },
    {
      "cell_type": "code",
      "source": [
        "############ 18세 이하 영화 추천 함수 #############\n",
        "def Movie_Recommen_By_Age(age_index : int):\n",
        "    age = age_to_idx[age_index]\n",
        "    movie_recommended = als_model_11.recommend(age, csr_data[age], N = 10,\n",
        "                                        filter_already_liked_items = True)\n",
        "    recommended_list = movie_recommended[0]\n",
        "    recommended_list = [idx_to_title[i] for i in recommended_list]\n",
        "    print(f'18세 이하 이용자님 안녕하세요^_____^! 같은 연령대의 친구들은\\n{recommended_list}이 영화들을 좋아하시더라구요!')\n",
        "\n",
        "Movie_Recommen_By_Age(1)"
      ],
      "metadata": {
        "colab": {
          "base_uri": "https://localhost:8080/"
        },
        "id": "uxtG_URMQ7ds",
        "outputId": "e81eea42-e873-494c-c262-14fea50f9017"
      },
      "execution_count": null,
      "outputs": [
        {
          "output_type": "stream",
          "name": "stdout",
          "text": [
            "18세 이하 이용자님 안녕하세요^_____^! 같은 연령대의 친구들은\n",
            "['Tommy Boy (1995)', 'Beavis and Butt-head Do America (1996)', 'Waterboy, The (1998)', 'Evil Dead II (Dead By Dawn) (1987)', 'Happy Gilmore (1996)', 'Austin Powers: International Man of Mystery (1997)', 'South Park: Bigger, Longer and Uncut (1999)', 'Office Space (1999)', 'Mallrats (1995)', 'Scream 3 (2000)']이 영화들을 좋아하시더라구요!\n"
          ]
        }
      ]
    },
    {
      "cell_type": "markdown",
      "source": [
        "아직도 내적값이 1이 나오고 있습니다. 하지만 추천 영화들의 년도가 점점 2000년대로 가까워 지는 것을 보아 훈련의 효과가 있는 것 같긴 합니다. \n",
        "\n",
        "factor를 400까지 높여보고, 좀 더 정확한 내적값 변화를 보기 위해 값 하나는 18세 이하가 좋아하지 않을 만한 갓파더를 넣어 비교해보겠습니다."
      ],
      "metadata": {
        "id": "L4bIFeY0SVp7"
      }
    },
    {
      "cell_type": "code",
      "source": [
        "########### Implicit AlternatingLeastSquares 모델 구현 5번째###########\n",
        "\n",
        "als_model_12 = AlternatingLeastSquares(factors = 400, regularization = 0.4, calculate_training_loss = True,\n",
        "                                   use_gpu=False, iterations=1000, dtype=np.float32)\n",
        "\n",
        "############# 모델 훈련 #############\n",
        "als_model_12.fit(csr_data_2)"
      ],
      "metadata": {
        "colab": {
          "base_uri": "https://localhost:8080/",
          "height": 49,
          "referenced_widgets": [
            "61954cc92d7040b287cd80e633924745",
            "348e1d2a74dc45fa91f15eca1686899a",
            "2dc7a3f48d3b40e699eaa551cc418df4",
            "dcee58555e4f4cf3987647845ecf45aa",
            "9969a5a2a6bc4c39a3b4339caa41995c",
            "5b7c227973ca4b3dae719ad7874ab545",
            "9a94252e93a240fda89b5e8afdc444d0",
            "73e66707a86f4fa3b9b656b0972b98cc",
            "09cc6cc369234a99821513e243a5d448",
            "534a3eef1b77458796bba906a57c6272",
            "e8c0d4b7c9d647828d64653c19345bb5"
          ]
        },
        "id": "5wdBtk3gSAyQ",
        "outputId": "0fba66b5-0403-4036-acf1-d96633c6a848"
      },
      "execution_count": null,
      "outputs": [
        {
          "output_type": "display_data",
          "data": {
            "text/plain": [
              "  0%|          | 0/1000 [00:00<?, ?it/s]"
            ],
            "application/vnd.jupyter.widget-view+json": {
              "version_major": 2,
              "version_minor": 0,
              "model_id": "61954cc92d7040b287cd80e633924745"
            }
          },
          "metadata": {}
        }
      ]
    },
    {
      "cell_type": "code",
      "source": [
        "############### 1: \"Under 18\" 나이대 추천 내적 ###############\n",
        "def dot(age_to_id, title_to_id):\n",
        "    ages, movie_title = age_to_idx[age_to_id], title_to_idx[title_to_id]\n",
        "    ages_vector, movie_title_vector = als_model_12.user_factors[ages], als_model_12.item_factors[movie_title]\n",
        "    dot = np.dot(ages_vector, movie_title_vector)\n",
        "\n",
        "    Toy = title_to_idx['Toy Story 2 (1999)']\n",
        "    Toy_vector = als_model_12.item_factors[Toy]\n",
        "    dot2 = np.dot(ages_vector, Toy_vector)\n",
        "\n",
        "    return print('{}의 내적값은 {:.2}입니다. \\nToy Story 2의 내적값은 {:.2}입니다'.format(title_to_id, dot, dot2))\n",
        "\n",
        "\n",
        "dot(1, 'Lion King, The (1994)')\n",
        "dot(1, 'Godfather, The (1972)')"
      ],
      "metadata": {
        "colab": {
          "base_uri": "https://localhost:8080/"
        },
        "outputId": "1a701b5f-84de-453d-e955-04e701ce7fa5",
        "id": "r2N1PckETFyf"
      },
      "execution_count": null,
      "outputs": [
        {
          "output_type": "stream",
          "name": "stdout",
          "text": [
            "Lion King, The (1994)의 내적값은 1.0입니다. \n",
            "Toy Story 2의 내적값은 1.0입니다\n",
            "Godfather, The (1972)의 내적값은 1.0입니다. \n",
            "Toy Story 2의 내적값은 1.0입니다\n"
          ]
        }
      ]
    },
    {
      "cell_type": "code",
      "source": [
        "############ 18세 이하 영화 추천 함수 #############\n",
        "def Movie_Recommen_By_Age(age_index : int):\n",
        "    age = age_to_idx[age_index]\n",
        "    movie_recommended = als_model_12.recommend(age, csr_data[age], N = 10,\n",
        "                                        filter_already_liked_items = True)\n",
        "    recommended_list = movie_recommended[0]\n",
        "    recommended_list = [idx_to_title[i] for i in recommended_list]\n",
        "    print(f'18세 이하 이용자님 안녕하세요^_____^! 같은 연령대의 친구들은\\n{recommended_list}이 영화들을 좋아하시더라구요!')\n",
        "\n",
        "Movie_Recommen_By_Age(1)"
      ],
      "metadata": {
        "colab": {
          "base_uri": "https://localhost:8080/"
        },
        "id": "PTC5q_kMUpcK",
        "outputId": "8681f16a-3598-485b-bfe8-6b4145025788"
      },
      "execution_count": null,
      "outputs": [
        {
          "output_type": "stream",
          "name": "stdout",
          "text": [
            "18세 이하 이용자님 안녕하세요^_____^! 같은 연령대의 친구들은\n",
            "['Tommy Boy (1995)', 'Beavis and Butt-head Do America (1996)', 'Happy Gilmore (1996)', 'Austin Powers: International Man of Mystery (1997)', 'South Park: Bigger, Longer and Uncut (1999)', 'Office Space (1999)', 'Mallrats (1995)', 'Scream 3 (2000)', 'Mystery Men (1999)', 'Road Trip (2000)']이 영화들을 좋아하시더라구요!\n"
          ]
        }
      ]
    },
    {
      "cell_type": "markdown",
      "source": [
        "factor의 영향이 크다는 주변의 말을 듣고 한번 2000까지 올려줘봅니다. "
      ],
      "metadata": {
        "id": "6mHkBdtzZWv0"
      }
    },
    {
      "cell_type": "code",
      "source": [
        "########### Implicit AlternatingLeastSquares 모델 구현 6번째###########\n",
        "\n",
        "als_model_13 = AlternatingLeastSquares(factors = 2000, regularization = 0.01,\n",
        "                                   use_gpu=False, iterations=100, dtype=np.float32)\n",
        "\n",
        "############# 모델 훈련 #############\n",
        "als_model_13.fit(csr_data_2)"
      ],
      "metadata": {
        "colab": {
          "base_uri": "https://localhost:8080/",
          "height": 49,
          "referenced_widgets": [
            "4f5b2f609bb644b4b07b4ae1ce70dd0f",
            "43b338303848423999928fafab20cd5f",
            "15a2289180ff42e88933cde4a9a0ee55",
            "ae615178c68849c99bc2f8f43631f810",
            "5add9f5534b94f53b0453c0e85043401",
            "899f5f650dc2408590638195acef425a",
            "2f1d662a94fc4562b7304ef6270dd62d",
            "6b36e20974644e3ab8fee1454c147d24",
            "abc6e7ca0f914e148925b8effaf029ed",
            "2c76abfdc29c453095234b1a7e1dfe8f",
            "dc594fb3011b451081365696fedc272e"
          ]
        },
        "id": "XGOlZg4kUv-4",
        "outputId": "bfe9b3bf-8d3a-457a-bae3-46ee803eda1e"
      },
      "execution_count": null,
      "outputs": [
        {
          "output_type": "display_data",
          "data": {
            "text/plain": [
              "  0%|          | 0/100 [00:00<?, ?it/s]"
            ],
            "application/vnd.jupyter.widget-view+json": {
              "version_major": 2,
              "version_minor": 0,
              "model_id": "4f5b2f609bb644b4b07b4ae1ce70dd0f"
            }
          },
          "metadata": {}
        }
      ]
    },
    {
      "cell_type": "code",
      "source": [
        "############### 1: \"Under 18\" 나이대 추천 내적 ###############\n",
        "def dot(age_to_id, title_to_id):\n",
        "    ages, movie_title = age_to_idx[age_to_id], title_to_idx[title_to_id]\n",
        "    ages_vector, movie_title_vector = als_model_13.user_factors[ages], als_model_13.item_factors[movie_title]\n",
        "    dot = np.dot(ages_vector, movie_title_vector)\n",
        "\n",
        "    Toy = title_to_idx['Toy Story 2 (1999)']\n",
        "    Toy_vector = als_model_13.item_factors[Toy]\n",
        "    dot2 = np.dot(ages_vector, Toy_vector)\n",
        "\n",
        "    return print('{}의 내적값은 {:.2}입니다. \\nToy Story 2의 내적값은 {:.2}입니다'.format(title_to_id, dot, dot2))\n",
        "\n",
        "\n",
        "dot(1, 'Lion King, The (1994)')\n",
        "dot(1, 'Godfather, The (1972)')"
      ],
      "metadata": {
        "colab": {
          "base_uri": "https://localhost:8080/"
        },
        "id": "9a0eFoJOWnAv",
        "outputId": "46965dbe-a4df-4d40-f543-0a2adb31eaec"
      },
      "execution_count": null,
      "outputs": [
        {
          "output_type": "stream",
          "name": "stdout",
          "text": [
            "Lion King, The (1994)의 내적값은 1.0입니다. \n",
            "Toy Story 2의 내적값은 1.0입니다\n",
            "Godfather, The (1972)의 내적값은 1.0입니다. \n",
            "Toy Story 2의 내적값은 1.0입니다\n"
          ]
        }
      ]
    },
    {
      "cell_type": "code",
      "source": [
        "############ 18세 이하 영화 추천 함수 #############\n",
        "def Movie_Recommen_By_Age(age_index : int):\n",
        "    age = age_to_idx[age_index]\n",
        "    movie_recommended = als_model_13.recommend(age, csr_data[age], N = 15,\n",
        "                                        filter_already_liked_items = True)\n",
        "    recommended_list = movie_recommended[0]\n",
        "    recommended_list = [idx_to_title[i] for i in recommended_list]\n",
        "    print(f'18세 이하 이용자님 안녕하세요^_____^! 같은 연령대의 친구들은\\n{recommended_list}이 영화들을 좋아하시더라구요!')\n",
        "\n",
        "Movie_Recommen_By_Age(1)"
      ],
      "metadata": {
        "colab": {
          "base_uri": "https://localhost:8080/"
        },
        "id": "w-Euq5S9WxE8",
        "outputId": "11141d30-336d-4bec-bd81-7d682875e5ac"
      },
      "execution_count": null,
      "outputs": [
        {
          "output_type": "stream",
          "name": "stdout",
          "text": [
            "18세 이하 이용자님 안녕하세요^_____^! 같은 연령대의 친구들은\n",
            "['Torn Curtain (1966)', 'Jaws 3-D (1983)', 'Boondock Saints, The (1999)', 'Where the Money Is (2000)', 'Six-String Samurai (1998)', 'She-Devil (1989)', 'Not One Less (Yi ge dou bu neng shao) (1999)', 'Friday (1995)', 'Beat the Devil (1954)', 'House Arrest (1996)', 'BASEketball (1998)', 'B. Monkey (1998)', 'Nightmare on Elm Street, A (1984)', 'Mortal Kombat: Annihilation (1997)', 'Stars and Bars (1988)']이 영화들을 좋아하시더라구요!\n"
          ]
        }
      ]
    },
    {
      "cell_type": "markdown",
      "source": [
        "아..... 갓파더... 싫어한다고 말해줘...."
      ],
      "metadata": {
        "id": "fFQsQsaFZ6g8"
      }
    },
    {
      "cell_type": "code",
      "source": [
        "########### Implicit AlternatingLeastSquares 모델 구현 6번째###########\n",
        "\n",
        "als_model_14 = AlternatingLeastSquares(factors = 2000, regularization = 0.4,\n",
        "                                   use_gpu=False, iterations=100, dtype=np.float32)\n",
        "\n",
        "############# 모델 훈련 #############\n",
        "als_model_14.fit(csr_data_2)"
      ],
      "metadata": {
        "colab": {
          "base_uri": "https://localhost:8080/",
          "height": 49,
          "referenced_widgets": [
            "a90e4ca2eccf435a9f7e576d24809ae5",
            "3c6e50e9a333473eb2937724690a2b9e",
            "c7cc63d6504642d89f4da1b508824ff7",
            "463f42ec6d5c4eebbae90919cc3c3ef4",
            "3110b32e4e90431eb1357500aae13163",
            "5935e4ca13ee4ed5a3dc490c3f8b5e6e",
            "0b6a67a34e4c4ba09cf7d00f75db4c73",
            "f62a90e748624b22bf96d0e70f90f33f",
            "3d3d9ec067244bd2bee4d09ca58d47c7",
            "240b7f0ffb664184bac69dcd657d9893",
            "590ce0cb528d49d79cb2a5a979250d54"
          ]
        },
        "id": "Otvc5NZlXHFh",
        "outputId": "21471d46-4f37-4c74-8a86-e9e3bbb3ebe8"
      },
      "execution_count": null,
      "outputs": [
        {
          "output_type": "display_data",
          "data": {
            "text/plain": [
              "  0%|          | 0/100 [00:00<?, ?it/s]"
            ],
            "application/vnd.jupyter.widget-view+json": {
              "version_major": 2,
              "version_minor": 0,
              "model_id": "a90e4ca2eccf435a9f7e576d24809ae5"
            }
          },
          "metadata": {}
        }
      ]
    },
    {
      "cell_type": "code",
      "source": [
        "############### 1: \"Under 18\" 나이대 추천 내적 ###############\n",
        "def dot(age_to_id, title_to_id):\n",
        "    ages, movie_title = age_to_idx[age_to_id], title_to_idx[title_to_id]\n",
        "    ages_vector, movie_title_vector = als_model_14.user_factors[ages], als_model_14.item_factors[movie_title]\n",
        "    dot = np.dot(ages_vector, movie_title_vector)\n",
        "\n",
        "    Toy = title_to_idx['Toy Story 2 (1999)']\n",
        "    Toy_vector = als_model_14.item_factors[Toy]\n",
        "    dot2 = np.dot(ages_vector, Toy_vector)\n",
        "\n",
        "    return print('{}의 내적값은 {:.2}입니다. \\nToy Story 2의 내적값은 {:.2}입니다'.format(title_to_id, dot, dot2))\n",
        "\n",
        "\n",
        "dot(1, 'Lion King, The (1994)')\n",
        "dot(1, 'Godfather, The (1972)')"
      ],
      "metadata": {
        "colab": {
          "base_uri": "https://localhost:8080/"
        },
        "id": "9AcNvI9SZe5Z",
        "outputId": "0607c133-0e06-49fd-c334-5363dd27c92e"
      },
      "execution_count": null,
      "outputs": [
        {
          "output_type": "stream",
          "name": "stdout",
          "text": [
            "Lion King, The (1994)의 내적값은 1.0입니다. \n",
            "Toy Story 2의 내적값은 1.0입니다\n",
            "Godfather, The (1972)의 내적값은 1.0입니다. \n",
            "Toy Story 2의 내적값은 1.0입니다\n"
          ]
        }
      ]
    },
    {
      "cell_type": "code",
      "source": [
        "############ 18세 이하 영화 추천 함수 #############\n",
        "def Movie_Recommen_By_Age(age_index : int):\n",
        "    age = age_to_idx[age_index]\n",
        "    movie_recommended = als_model_14.recommend(age, csr_data[age], N = 15,\n",
        "                                        filter_already_liked_items = True)\n",
        "    recommended_list = movie_recommended[0]\n",
        "    recommended_list = [idx_to_title[i] for i in recommended_list]\n",
        "    print(f'18세 이하 이용자님 안녕하세요^_____^! 같은 연령대의 친구들은\\n{recommended_list}이 영화들을 좋아하시더라구요!')\n",
        "\n",
        "Movie_Recommen_By_Age(1)"
      ],
      "metadata": {
        "colab": {
          "base_uri": "https://localhost:8080/"
        },
        "id": "UnJXc6k3ZkE0",
        "outputId": "7559f336-ebfb-40c1-96af-31354aab2b47"
      },
      "execution_count": null,
      "outputs": [
        {
          "output_type": "stream",
          "name": "stdout",
          "text": [
            "18세 이하 이용자님 안녕하세요^_____^! 같은 연령대의 친구들은\n",
            "['Thunderbolt and Lightfoot (1974)', 'Mona Lisa (1986)', 'Milk Money (1994)', 'Duel in the Sun (1946)', 'Low Down Dirty Shame, A (1994)', 'Drop Zone (1994)', 'Dead Man on Campus (1998)', 'Simply Irresistible (1999)', 'Morning After, The (1986)', 'River, The (1984)', 'Chain Reaction (1996)', 'Red Sorghum (Hong Gao Liang) (1987)', 'Great Mouse Detective, The (1986)', 'Funny Farm (1988)', 'Bamboozled (2000)']이 영화들을 좋아하시더라구요!\n"
          ]
        }
      ]
    },
    {
      "cell_type": "markdown",
      "source": [
        "더... 멀어지는 추천의 길..... \n",
        "\n",
        "중간에 1990년대 후반 영화들, 사우스파크 같은 애니메이션을 추천해준 \n",
        "- factors = 400, regularization = 0.4, calculate_training_loss = True iterations=1000\n",
        "\n",
        "이 모델이 가장 괜찮은 것 같습니다...\n",
        "\n",
        "그럼 다른 연령대별로 추천 영화를 받아보고 마무리하겠습니다."
      ],
      "metadata": {
        "id": "dwed5G0RbBOk"
      }
    },
    {
      "cell_type": "code",
      "source": [
        "############ 12번모델 영화 추천 함수 #############\n",
        "def Movie_Recommen_By_Age(age_index : int):\n",
        "    age = age_to_idx[age_index]\n",
        "    movie_recommended = als_model_12.recommend(age, csr_data[age], N = 10,\n",
        "                                        filter_already_liked_items = True)\n",
        "    recommended_list = movie_recommended[0]\n",
        "    recommended_list = [idx_to_title[i] for i in recommended_list]\n",
        "    print(f'이용자님 안녕하세요^_____^! 같은 연령대의 친구들은\\n{recommended_list}이 영화들을 좋아하시더라구요!')\n"
      ],
      "metadata": {
        "id": "_syppoVma7wL"
      },
      "execution_count": null,
      "outputs": []
    },
    {
      "cell_type": "code",
      "source": [
        "age_ranges = [1, 18, 25, 35, 45, 50, 56]\n",
        "\n",
        "for age in age_ranges:\n",
        "    print(f'\\n============{age}세 이용자 추천===============')\n",
        "    Movie_Recommen_By_Age(age)\n",
        "    "
      ],
      "metadata": {
        "colab": {
          "base_uri": "https://localhost:8080/"
        },
        "id": "4twBM_Tcb4nE",
        "outputId": "7d5ce576-edd8-40bc-a0c5-cf111810a88b"
      },
      "execution_count": null,
      "outputs": [
        {
          "output_type": "stream",
          "name": "stdout",
          "text": [
            "\n",
            "============1세 이용자 추천===============\n",
            "이용자님 안녕하세요^_____^! 같은 연령대의 친구들은\n",
            "['Tommy Boy (1995)', 'Beavis and Butt-head Do America (1996)', 'Happy Gilmore (1996)', 'Austin Powers: International Man of Mystery (1997)', 'South Park: Bigger, Longer and Uncut (1999)', 'Office Space (1999)', 'Mallrats (1995)', 'Scream 3 (2000)', 'Mystery Men (1999)', 'Road Trip (2000)']이 영화들을 좋아하시더라구요!\n",
            "\n",
            "============18세 이용자 추천===============\n",
            "이용자님 안녕하세요^_____^! 같은 연령대의 친구들은\n",
            "['Seven Days in May (1964)', 'Atlantic City (1980)', 'Year of Living Dangerously (1982)', 'Airport (1970)', 'Tender Mercies (1983)', 'McCabe & Mrs. Miller (1971)', 'Sinbad and the Eye of the Tiger (1977)', \"They Shoot Horses, Don't They? (1969)\", \"Soldier's Story, A (1984)\", \"All the King's Men (1949)\"]이 영화들을 좋아하시더라구요!\n",
            "\n",
            "============25세 이용자 추천===============\n",
            "이용자님 안녕하세요^_____^! 같은 연령대의 친구들은\n",
            "['Carmen (1984)', \"Devil's Brigade, The (1968)\", 'Other Side of Sunday, The (Søndagsengler) (1996)', 'Farewell to Arms, A (1932)', 'Pajama Party (1964)', 'Rain (1932)', 'Lady of Burlesque (1943)', 'Bread and Chocolate (Pane e cioccolata) (1973)', 'Seven Days in May (1964)', \"Mummy's Hand, The (1940)\"]이 영화들을 좋아하시더라구요!\n",
            "\n",
            "============35세 이용자 추천===============\n",
            "이용자님 안녕하세요^_____^! 같은 연령대의 친구들은\n",
            "['Halloween 5: The Revenge of Michael Myers (1989)', 'Transformers: The Movie, The (1986)', 'Senseless (1998)', 'Deuce Bigalow: Male Gigolo (1999)', \"Can't Hardly Wait (1998)\", 'Beavis and Butt-head Do America (1996)', 'Tommy Boy (1995)', 'Detroit Rock City (1999)', 'Threesome (1994)', 'Big Hit, The (1998)']이 영화들을 좋아하시더라구요!\n",
            "\n",
            "============45세 이용자 추천===============\n",
            "이용자님 안녕하세요^_____^! 같은 연령대의 친구들은\n",
            "['Gremlins (1984)', 'Heathers (1989)', 'Heavy Metal (1981)', 'American History X (1998)', 'From Dusk Till Dawn (1996)', 'Sixteen Candles (1984)', 'No Way Out (1987)', 'Go (1999)', 'Night of the Comet (1984)', 'Strange Days (1995)']이 영화들을 좋아하시더라구요!\n",
            "\n",
            "============50세 이용자 추천===============\n",
            "이용자님 안녕하세요^_____^! 같은 연령대의 친구들은\n",
            "['Trainspotting (1996)', 'Jagged Edge (1985)', 'Desperado (1995)', 'Army of Darkness (1993)', 'Heavy Metal (1981)', 'Parenthood (1989)', 'Highlander (1986)', \"Bram Stoker's Dracula (1992)\", 'Gremlins (1984)', 'True Romance (1993)']이 영화들을 좋아하시더라구요!\n",
            "\n",
            "============56세 이용자 추천===============\n",
            "이용자님 안녕하세요^_____^! 같은 연령대의 친구들은\n",
            "['Grifters, The (1990)', 'For a Few Dollars More (1965)', 'Right Stuff, The (1983)', 'Three Colors: Red (1994)', 'River Runs Through It, A (1992)', 'Local Hero (1983)', 'Fistful of Dollars, A (1964)', 'Scent of a Woman (1992)', 'Ordinary People (1980)', 'Little Big Man (1970)']이 영화들을 좋아하시더라구요!\n"
          ]
        }
      ]
    },
    {
      "cell_type": "markdown",
      "source": [
        "오 이렇게 보니 꽤 괜찮은 추천들을 하고 있는 것 같네요!ㅎㅎㅎ\n",
        "\n",
        "그럼 \n",
        "1. 기존 유저별 영화 추천\n",
        "2. 좋아하는 영화별 영화 추천\n",
        "3. 신규 유저를 위한 연령대별 추천  \n",
        "\n",
        "이렇게 3가지를 통해 어떤 사람이 와도 적절하게 영화 추천을 해줄 수 있는 코드를 만들었습니다. 뿌듯하네요^_^!"
      ],
      "metadata": {
        "id": "3lcskG8_c8g_"
      }
    },
    {
      "cell_type": "markdown",
      "source": [
        "## 회고 \n",
        "---\n"
      ],
      "metadata": {
        "id": "lEUE0odmdsHH"
      }
    }
  ]
}