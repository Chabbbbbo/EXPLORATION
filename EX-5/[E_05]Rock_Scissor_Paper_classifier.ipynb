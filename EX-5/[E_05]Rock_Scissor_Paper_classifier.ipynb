{
  "nbformat": 4,
  "nbformat_minor": 0,
  "metadata": {
    "colab": {
      "name": "[E-05]Rock Scissor Paper classifier.ipynb",
      "provenance": [],
      "collapsed_sections": [],
      "machine_shape": "hm"
    },
    "kernelspec": {
      "name": "python3",
      "display_name": "Python 3"
    },
    "language_info": {
      "name": "python"
    },
    "accelerator": "GPU"
  },
  "cells": [
    {
      "cell_type": "markdown",
      "source": [
        "### 라이브러리 버전 확인 및 데이터 준비"
      ],
      "metadata": {
        "id": "FK-p35FEhzeA"
      }
    },
    {
      "cell_type": "code",
      "execution_count": 1,
      "metadata": {
        "colab": {
          "base_uri": "https://localhost:8080/"
        },
        "id": "9M1IYr2MhwRD",
        "outputId": "ac526d94-8045-45ac-c210-7ac94c4065c5"
      },
      "outputs": [
        {
          "output_type": "stream",
          "name": "stdout",
          "text": [
            "Mounted at /content/drive\n"
          ]
        }
      ],
      "source": [
        "import tensorflow as tf\n",
        "import numpy as np\n",
        "import matplotlib.pyplot as plt\n",
        "from google.colab import drive\n",
        "drive.mount(\"/content/drive\")\n",
        "from PIL import Image\n",
        "import glob\n",
        "import numpy as np\n",
        "from tensorflow import keras"
      ]
    },
    {
      "cell_type": "markdown",
      "source": [
        "### 데이터 불러오기 + Resize 하기\n",
        "\n",
        "---\n",
        "기존 파일 사이즈 : 224 x 224 pix   \n",
        "-> 데이터 사이즈 28 x 28로 변경하기위해 PIL 라이브러리 사용"
      ],
      "metadata": {
        "id": "8rQIHKrzhyxg"
      }
    },
    {
      "cell_type": "code",
      "source": [
        "def resize_images(img_path):\n",
        "\timages=glob.glob(img_path + \"/*.jpg\")\n",
        "\tprint(len(images), \" images to be resized.\")\n",
        "\n",
        "    # 파일마다 모두 28x28 사이즈로 바꾸어 저장합니다.\n",
        "\ttarget_size=(28,28)\n",
        "\tfor img in images:\n",
        "\t\told_img=Image.open(img)\n",
        "\t\tnew_img=old_img.resize(target_size,Image.ANTIALIAS)\n",
        "\t\tnew_img.save(img, \"JPEG\")\n",
        "    \n",
        "\tprint(len(images), \" images resized.\")\n",
        "\t\n",
        "# 가위 이미지가 저장된 디렉토리 아래의 모든 jpg 파일을 읽어들여서\n",
        "image_dir_path = '/content/drive/MyDrive/COLAB_data/scissor'\n",
        "resize_images(image_dir_path)\n",
        "\n",
        "print(\"가위 이미지 resize 완료!\")"
      ],
      "metadata": {
        "colab": {
          "base_uri": "https://localhost:8080/"
        },
        "id": "G6oCIi3HJ5li",
        "outputId": "3587b2c4-8b7d-4613-a5a6-cc94ce75c616"
      },
      "execution_count": 4,
      "outputs": [
        {
          "output_type": "stream",
          "name": "stdout",
          "text": [
            "737  images to be resized.\n",
            "737  images resized.\n",
            "가위 이미지 resize 완료!\n"
          ]
        }
      ]
    },
    {
      "cell_type": "code",
      "source": [
        "image_dir_path_r = '/content/drive/MyDrive/COLAB_data/rock'\n",
        "resize_images(image_dir_path_r)\n",
        "print(\"바위 이미지 resize 완료!\")\n",
        "image_dir_path_p = '/content/drive/MyDrive/COLAB_data/paper'\n",
        "resize_images(image_dir_path_p)\n",
        "print(\"보 이미지 resize 완료!\")"
      ],
      "metadata": {
        "colab": {
          "base_uri": "https://localhost:8080/"
        },
        "id": "kMYswgPPJ8bQ",
        "outputId": "4b930661-77ba-4d6c-f3b5-547f3e4eccab"
      },
      "execution_count": null,
      "outputs": [
        {
          "output_type": "stream",
          "name": "stdout",
          "text": [
            "200  images to be resized.\n",
            "200  images resized.\n",
            "바위 이미지 resize 완료!\n",
            "200  images to be resized.\n",
            "200  images resized.\n",
            "보 이미지 resize 완료!\n"
          ]
        }
      ]
    },
    {
      "cell_type": "markdown",
      "source": [
        "이미지의 사이즈를 변경하였으니, 이제 학습시키기 위해서 데이터에 라벨링을 해보자."
      ],
      "metadata": {
        "id": "ut8B6w33PCXR"
      }
    },
    {
      "cell_type": "code",
      "source": [
        "def load_data(img_path, number_of_data=610):  # 가위바위보 이미지 개수 총합에 주의하세요.\n",
        "    # 가위 : 0, 바위 : 1, 보 : 2\n",
        "    img_size=28\n",
        "    color=3\n",
        "    #이미지 데이터와 라벨(가위 : 0, 바위 : 1, 보 : 2) 데이터를 담을 행렬(matrix) 영역을 생성합니다.\n",
        "    imgs=np.zeros(number_of_data*img_size*img_size*color,dtype=np.int32).reshape(number_of_data,img_size,img_size,color)\n",
        "    labels=np.zeros(number_of_data,dtype=np.int32)\n",
        "\n",
        "    idx=0\n",
        "    for file in glob.iglob(img_path+'/scissor/*.jpg'):\n",
        "        img = np.array(Image.open(file),dtype=np.int32)\n",
        "        imgs[idx,:,:,:]=img    # 데이터 영역에 이미지 행렬을 복사\n",
        "        labels[idx]=0   # 가위 : 0\n",
        "        idx=idx+1\n",
        "\n",
        "    for file in glob.iglob(img_path+'/rock/*.jpg'):\n",
        "        img = np.array(Image.open(file),dtype=np.int32)\n",
        "        imgs[idx,:,:,:]=img    # 데이터 영역에 이미지 행렬을 복사\n",
        "        labels[idx]=1   # 바위 : 1\n",
        "        idx=idx+1  \n",
        "    \n",
        "    for file in glob.iglob(img_path+'/paper/*.jpg'):\n",
        "        img = np.array(Image.open(file),dtype=np.int32)\n",
        "        imgs[idx,:,:,:]=img    # 데이터 영역에 이미지 행렬을 복사\n",
        "        labels[idx]=2   # 보 : 2\n",
        "        idx=idx+1\n",
        "        \n",
        "    print(\"학습데이터(x_train)의 이미지 개수는\", idx,\"입니다.\")\n",
        "    return imgs, labels\n",
        "\n",
        "image_dir_path = '/content/drive/MyDrive/COLAB_data'\n",
        "(x_train, y_train)=load_data(image_dir_path)\n",
        "x_train_norm = x_train/255.0   # 입력은 0~1 사이의 값으로 정규화\n",
        "\n",
        "print(\"x_train shape: {}\".format(x_train.shape))\n",
        "print(\"y_train shape: {}\".format(y_train.shape))"
      ],
      "metadata": {
        "colab": {
          "base_uri": "https://localhost:8080/"
        },
        "id": "hk3aAgKgLvS2",
        "outputId": "e3701a12-5e8f-4c24-a8d6-f09c166fd72d"
      },
      "execution_count": null,
      "outputs": [
        {
          "output_type": "stream",
          "name": "stdout",
          "text": [
            "학습데이터(x_train)의 이미지 개수는 610 입니다.\n",
            "x_train shape: (610, 28, 28, 3)\n",
            "y_train shape: (610,)\n"
          ]
        }
      ]
    },
    {
      "cell_type": "markdown",
      "source": [
        "어디 이미지에 라벨링이 잘 되었는지 확인해보자."
      ],
      "metadata": {
        "id": "JM36iExZELjI"
      }
    },
    {
      "cell_type": "code",
      "source": [
        "#가위\n",
        "plt.imshow(x_train[209])\n",
        "print('라벨: ', y_train[209])"
      ],
      "metadata": {
        "colab": {
          "base_uri": "https://localhost:8080/",
          "height": 282
        },
        "id": "H9i6PgLtRxp7",
        "outputId": "2a3b55e9-75c1-4521-dea7-858ea2caa4a8"
      },
      "execution_count": null,
      "outputs": [
        {
          "output_type": "stream",
          "name": "stdout",
          "text": [
            "라벨:  0\n"
          ]
        },
        {
          "output_type": "display_data",
          "data": {
            "text/plain": [
              "<Figure size 432x288 with 1 Axes>"
            ],
            "image/png": "[encoded data removed]"
          },
          "metadata": {
            "needs_background": "light"
          }
        }
      ]
    },
    {
      "cell_type": "code",
      "source": [
        "#바위\n",
        "plt.imshow(x_train[409])\n",
        "print('라벨: ', y_train[409])"
      ],
      "metadata": {
        "id": "GjQ3w4ZmbJbs",
        "colab": {
          "base_uri": "https://localhost:8080/",
          "height": 282
        },
        "outputId": "173a189b-b64e-4343-d8d0-cec9c429ca72"
      },
      "execution_count": null,
      "outputs": [
        {
          "output_type": "stream",
          "name": "stdout",
          "text": [
            "라벨:  1\n"
          ]
        },
        {
          "output_type": "display_data",
          "data": {
            "text/plain": [
              "<Figure size 432x288 with 1 Axes>"
            ],
            "image/png": "[encoded data removed]"
          },
          "metadata": {
            "needs_background": "light"
          }
        }
      ]
    },
    {
      "cell_type": "code",
      "source": [
        "#보\n",
        "plt.imshow(x_train[609])\n",
        "print('라벨: ', y_train[609])"
      ],
      "metadata": {
        "colab": {
          "base_uri": "https://localhost:8080/",
          "height": 282
        },
        "id": "_rtJAVHzEUnY",
        "outputId": "9b586e03-cefe-474f-dfae-64eb4650aa2b"
      },
      "execution_count": null,
      "outputs": [
        {
          "output_type": "stream",
          "name": "stdout",
          "text": [
            "라벨:  2\n"
          ]
        },
        {
          "output_type": "display_data",
          "data": {
            "text/plain": [
              "<Figure size 432x288 with 1 Axes>"
            ],
            "image/png": "[encoded data removed]"
          },
          "metadata": {
            "needs_background": "light"
          }
        }
      ]
    },
    {
      "cell_type": "markdown",
      "source": [
        "라벨링은 잘 되어졌고 255로 나눠 정규화도 시켜주었으니, 이제 학습을 시키기 위한 단계를 진행해보자"
      ],
      "metadata": {
        "id": "ZT6h_lJEGCiM"
      }
    },
    {
      "cell_type": "markdown",
      "source": [
        "### 딥러닝 네트워크 설계하기\n",
        "\n",
        "**Sequential Model 사용**\n",
        "\n",
        "우선 이미지 특징수는 나중에 수정할 수 있으니 먼저는 기존과 동일하게 테스트를 진행해보도록하자.   \n",
        "\n",
        "그리고 흑백 -> 컬러로 바뀌었으니, input_shape=(28,28,3)으로 변경하고  \n",
        "마지막 Dense의 수를 3(가위, 바위, 보)로 수정해준다."
      ],
      "metadata": {
        "id": "cSe4KLawHGA5"
      }
    },
    {
      "cell_type": "code",
      "source": [
        "model=keras.models.Sequential()\n",
        "model.add(keras.layers.Conv2D(16, (3,3), activation='relu', input_shape=(28,28,3)))\n",
        "model.add(keras.layers.MaxPool2D(2,2))\n",
        "model.add(keras.layers.Conv2D(32, (3,3), activation='relu'))\n",
        "model.add(keras.layers.MaxPooling2D((2,2)))\n",
        "model.add(keras.layers.Flatten())\n",
        "model.add(keras.layers.Dense(32, activation='relu'))\n",
        "model.add(keras.layers.Dense(3, activation='softmax'))\n",
        "\n",
        "print('Model에 추가된 Layer 개수: ', len(model.layers))"
      ],
      "metadata": {
        "colab": {
          "base_uri": "https://localhost:8080/"
        },
        "id": "NwBSRnM7Ea8L",
        "outputId": "021a634b-f0d8-473c-9919-556fde95aaf6"
      },
      "execution_count": null,
      "outputs": [
        {
          "output_type": "stream",
          "name": "stdout",
          "text": [
            "Model에 추가된 Layer 개수:  7\n"
          ]
        }
      ]
    },
    {
      "cell_type": "code",
      "source": [
        "model.summary()"
      ],
      "metadata": {
        "colab": {
          "base_uri": "https://localhost:8080/"
        },
        "id": "sIT98hhzGZfN",
        "outputId": "1b16d00f-f35f-472a-f128-af2a360cffdc"
      },
      "execution_count": null,
      "outputs": [
        {
          "output_type": "stream",
          "name": "stdout",
          "text": [
            "Model: \"sequential\"\n",
            "_________________________________________________________________\n",
            " Layer (type)                Output Shape              Param #   \n",
            "=================================================================\n",
            " conv2d (Conv2D)             (None, 26, 26, 16)        448       \n",
            "                                                                 \n",
            " max_pooling2d (MaxPooling2D  (None, 13, 13, 16)       0         \n",
            " )                                                               \n",
            "                                                                 \n",
            " conv2d_1 (Conv2D)           (None, 11, 11, 32)        4640      \n",
            "                                                                 \n",
            " max_pooling2d_1 (MaxPooling  (None, 5, 5, 32)         0         \n",
            " 2D)                                                             \n",
            "                                                                 \n",
            " flatten (Flatten)           (None, 800)               0         \n",
            "                                                                 \n",
            " dense (Dense)               (None, 32)                25632     \n",
            "                                                                 \n",
            " dense_1 (Dense)             (None, 3)                 99        \n",
            "                                                                 \n",
            "=================================================================\n",
            "Total params: 30,819\n",
            "Trainable params: 30,819\n",
            "Non-trainable params: 0\n",
            "_________________________________________________________________\n"
          ]
        }
      ]
    },
    {
      "cell_type": "markdown",
      "source": [
        "이제 모델 설계를 마쳤으니, 학습시켜보도록 하자!"
      ],
      "metadata": {
        "id": "D6LKUBqrI8RQ"
      }
    },
    {
      "cell_type": "markdown",
      "source": [
        "### 딥러닝 네트워크 학습시키기  \n",
        "\n",
        "데이터 갯수가 별로 없으니 epoch를 15로 살짝 늘려보자"
      ],
      "metadata": {
        "id": "iGObmyNxI9q5"
      }
    },
    {
      "cell_type": "code",
      "source": [
        "model.compile(optimizer='adam',\n",
        "             loss='sparse_categorical_crossentropy',\n",
        "             metrics=['accuracy'])\n",
        "\n",
        "model.fit(x_train, y_train, epochs=15)"
      ],
      "metadata": {
        "colab": {
          "base_uri": "https://localhost:8080/"
        },
        "id": "b2EH0-7iJEym",
        "outputId": "290d4228-c180-45cd-c990-5222a0eb4e7d"
      },
      "execution_count": null,
      "outputs": [
        {
          "output_type": "stream",
          "name": "stdout",
          "text": [
            "Epoch 1/15\n",
            "20/20 [==============================] - 11s 5ms/step - loss: 5.9395 - accuracy: 0.4361\n",
            "Epoch 2/15\n",
            "20/20 [==============================] - 0s 4ms/step - loss: 0.9350 - accuracy: 0.6934\n",
            "Epoch 3/15\n",
            "20/20 [==============================] - 0s 4ms/step - loss: 0.4568 - accuracy: 0.8295\n",
            "Epoch 4/15\n",
            "20/20 [==============================] - 0s 4ms/step - loss: 0.2336 - accuracy: 0.9131\n",
            "Epoch 5/15\n",
            "20/20 [==============================] - 0s 4ms/step - loss: 0.1363 - accuracy: 0.9541\n",
            "Epoch 6/15\n",
            "20/20 [==============================] - 0s 4ms/step - loss: 0.1120 - accuracy: 0.9590\n",
            "Epoch 7/15\n",
            "20/20 [==============================] - 0s 4ms/step - loss: 0.0566 - accuracy: 0.9869\n",
            "Epoch 8/15\n",
            "20/20 [==============================] - 0s 4ms/step - loss: 0.0307 - accuracy: 1.0000\n",
            "Epoch 9/15\n",
            "20/20 [==============================] - 0s 4ms/step - loss: 0.0246 - accuracy: 0.9984\n",
            "Epoch 10/15\n",
            "20/20 [==============================] - 0s 4ms/step - loss: 0.0148 - accuracy: 1.0000\n",
            "Epoch 11/15\n",
            "20/20 [==============================] - 0s 4ms/step - loss: 0.0119 - accuracy: 1.0000\n",
            "Epoch 12/15\n",
            "20/20 [==============================] - 0s 4ms/step - loss: 0.0095 - accuracy: 1.0000\n",
            "Epoch 13/15\n",
            "20/20 [==============================] - 0s 4ms/step - loss: 0.0076 - accuracy: 1.0000\n",
            "Epoch 14/15\n",
            "20/20 [==============================] - 0s 4ms/step - loss: 0.0065 - accuracy: 1.0000\n",
            "Epoch 15/15\n",
            "20/20 [==============================] - 0s 4ms/step - loss: 0.0055 - accuracy: 1.0000\n"
          ]
        },
        {
          "output_type": "execute_result",
          "data": {
            "text/plain": [
              "<keras.callbacks.History at 0x7fae803f2810>"
            ]
          },
          "metadata": {},
          "execution_count": 22
        }
      ]
    },
    {
      "cell_type": "markdown",
      "source": [
        "10번 이후로는 다 정확도가 1.00이 나오는 것을 보아, epoch는 12번 정도로 줄여보자.  "
      ],
      "metadata": {
        "id": "inyCYFM9KyKt"
      }
    },
    {
      "cell_type": "markdown",
      "source": [
        "### 테스트 데이터 입력 후 비교하기"
      ],
      "metadata": {
        "id": "8T_8-XEAOBlY"
      }
    },
    {
      "cell_type": "code",
      "source": [
        "# 가위 이미지가 저장된 디렉토리 아래의 모든 jpg 파일을 읽어들여서\n",
        "image_dir_path_test_s = '/content/drive/MyDrive/COLAB_data/rsp_test/scissor'\n",
        "resize_images(image_dir_path_test_s)\n",
        "\n",
        "print(\"가위 이미지 resize 완료!\")\n",
        "\n",
        "image_dir_path_test_r = '/content/drive/MyDrive/COLAB_data/rsp_test/rock'\n",
        "resize_images(image_dir_path_test_r)\n",
        "\n",
        "print(\"바위 이미지 resize 완료!\")\n",
        "\n",
        "image_dir_path_test_p = '/content/drive/MyDrive/COLAB_data/rsp_test/paper'\n",
        "resize_images(image_dir_path_test_p)\n",
        "\n",
        "print(\"보 이미지 resize 완료!\")\n"
      ],
      "metadata": {
        "id": "RkXUNr9pOEOK",
        "colab": {
          "base_uri": "https://localhost:8080/"
        },
        "outputId": "219eb1c6-4d9e-48dc-9b36-3147ccd9c601"
      },
      "execution_count": null,
      "outputs": [
        {
          "output_type": "stream",
          "name": "stdout",
          "text": [
            "527  images to be resized.\n",
            "527  images resized.\n",
            "가위 이미지 resize 완료!\n",
            "553  images to be resized.\n",
            "553  images resized.\n",
            "바위 이미지 resize 완료!\n",
            "623  images to be resized.\n",
            "623  images resized.\n",
            "보 이미지 resize 완료!\n"
          ]
        }
      ]
    },
    {
      "cell_type": "code",
      "source": [
        "def load_data_test(img_path_test, number_of_data=1703):  # 가위바위보 이미지 개수 총합에 주의하세요.\n",
        "    # 가위 : 0, 바위 : 1, 보 : 2\n",
        "    img_size=28\n",
        "    color=3\n",
        "    #이미지 데이터와 라벨(가위 : 0, 바위 : 1, 보 : 2) 데이터를 담을 행렬(matrix) 영역을 생성합니다.\n",
        "    imgs=np.zeros(number_of_data*img_size*img_size*color,dtype=np.int32).reshape(number_of_data,img_size,img_size,color)\n",
        "    labels=np.zeros(number_of_data,dtype=np.int32)\n",
        "\n",
        "    idx=0\n",
        "    for file in glob.iglob(img_path_test+'/scissor/*.jpg'):\n",
        "        img = np.array(Image.open(file),dtype=np.int32)\n",
        "        imgs[idx,:,:,:]=img    # 데이터 영역에 이미지 행렬을 복사\n",
        "        labels[idx]=0   # 가위 : 0\n",
        "        idx=idx+1\n",
        "\n",
        "    for file in glob.iglob(img_path_test+'/rock/*.jpg'):\n",
        "        img = np.array(Image.open(file),dtype=np.int32)\n",
        "        imgs[idx,:,:,:]=img    # 데이터 영역에 이미지 행렬을 복사\n",
        "        labels[idx]=1   # 바위 : 1\n",
        "        idx=idx+1  \n",
        "    \n",
        "    for file in glob.iglob(img_path_test+'/paper/*.jpg'):\n",
        "        img = np.array(Image.open(file),dtype=np.int32)\n",
        "        imgs[idx,:,:,:]=img    # 데이터 영역에 이미지 행렬을 복사\n",
        "        labels[idx]=2   # 보 : 2\n",
        "        idx=idx+1\n",
        "        \n",
        "    print(\"학습데이터(x_train)의 이미지 개수는\", idx,\"입니다.\")\n",
        "    return imgs, labels\n",
        "\n",
        "image_dir_path_test = '/content/drive/MyDrive/COLAB_data/rsp_test'\n",
        "(x_test, y_test)=load_data_test(image_dir_path_test)\n",
        "x_test_norm = x_test/255.0   # 입력은 0~1 사이의 값으로 정규화\n",
        "\n",
        "print(\"x_test shape: {}\".format(x_test.shape))\n",
        "print(\"y_test shape: {}\".format(y_test.shape))"
      ],
      "metadata": {
        "colab": {
          "base_uri": "https://localhost:8080/"
        },
        "id": "3WB9FkNVRnKW",
        "outputId": "c52f693d-ab8d-40c2-803b-7056d8574283"
      },
      "execution_count": null,
      "outputs": [
        {
          "output_type": "stream",
          "name": "stdout",
          "text": [
            "학습데이터(x_train)의 이미지 개수는 1703 입니다.\n",
            "x_test shape: (1703, 28, 28, 3)\n",
            "y_test shape: (1703,)\n"
          ]
        }
      ]
    },
    {
      "cell_type": "markdown",
      "source": [
        "이제 테스트 자료도 변환하여 넣어주었으니, 학습된 모델에 넣어 돌려보자....! 두근....   \n",
        "테스트 데이터에 비해 트래이닝 데이터 갯수가 부족해 조금 염려가 되긴 하지만 우선 고!"
      ],
      "metadata": {
        "id": "VOuE2OYQSKZK"
      }
    },
    {
      "cell_type": "code",
      "source": [
        "test_loss, test_accuracy = model.evaluate(x_test,y_test, verbose=2)\n",
        "print(\"test_loss: {} \".format(test_loss))\n",
        "print(\"test_accuracy: {}\".format(test_accuracy))"
      ],
      "metadata": {
        "colab": {
          "base_uri": "https://localhost:8080/"
        },
        "id": "HrOQcha0IxwY",
        "outputId": "f37ed17c-69c6-4fbb-bfae-cb46919eeb2c"
      },
      "execution_count": null,
      "outputs": [
        {
          "output_type": "stream",
          "name": "stdout",
          "text": [
            "54/54 - 0s - loss: 4.4627 - accuracy: 0.3699 - 326ms/epoch - 6ms/step\n",
            "test_loss: 4.462664604187012 \n",
            "test_accuracy: 0.36993539333343506\n"
          ]
        }
      ]
    },
    {
      "cell_type": "markdown",
      "source": [
        "ㅋㅋㅋㅋㅋㅋ 정확도의 결과가 0.369로 거의 찍은것과 비슷한 결과가 나왔다...ㅎ..ㅎ.ㅎ.ㅎ.ㅎㅎㅎㅎ  \n",
        "\n",
        "뭐 예상한 결과니 우선 어떤 데이터를 잘못추론했는지 확인해보자.  \n",
        "\n",
        "원래는 사이즈 조정 후 그림이 너무 뭉개져서, 학습 모델의 인자를 확대해 테스트 자료와 다시 비교해볼 예정이었는데, 트래이닝 데이터의 갯수가 많이 부족한 것 같아 현재 사용한 test 데이터를 train에 추가하여 학습을 좀더 진행한 후 다시 테스트를 진행해보자.   \n",
        "\n",
        "**이후 방향**   \n",
        "1) train 데이터 갯수 동일, 특성 인자 확대, 재학습  \n",
        "2) train 데이터 갯수 증가, 특성 인자 동일, 재학습  \n",
        "3) train 데이터 갯수 증가, 특성 인자 확대, 재학습  \n"
      ],
      "metadata": {
        "id": "t6LtXcqhSoCx"
      }
    },
    {
      "cell_type": "code",
      "source": [
        "predicted_result = model.predict(x_test)  # model이 추론한 확률값. \n",
        "predicted_labels = np.argmax(predicted_result, axis=1)\n",
        "\n",
        "idx=0  #1번째 x_test를 살펴보자. \n",
        "print('model.predict() 결과 : ', predicted_result[idx])\n",
        "print('model이 추론한 가장 가능성이 높은 결과 : ', predicted_labels[idx])\n",
        "print('실제 데이터의 라벨 : ', y_test[idx])\n",
        "\n",
        "plt.imshow(x_test[idx],cmap=plt.cm.binary)\n",
        "plt.show()"
      ],
      "metadata": {
        "id": "nGY1OkubK-2e",
        "colab": {
          "base_uri": "https://localhost:8080/",
          "height": 317
        },
        "outputId": "6c1fd5fa-f952-485e-cfb0-46cdf0cd6d90"
      },
      "execution_count": null,
      "outputs": [
        {
          "output_type": "stream",
          "name": "stdout",
          "text": [
            "model.predict() 결과 :  [0.09974117 0.01086822 0.88939065]\n",
            "model이 추론한 가장 가능성이 높은 결과 :  2\n",
            "실제 데이터의 라벨 :  0\n"
          ]
        },
        {
          "output_type": "display_data",
          "data": {
            "text/plain": [
              "<Figure size 432x288 with 1 Axes>"
            ],
            "image/png": "[encoded data removed]"
          },
          "metadata": {
            "needs_background": "light"
          }
        }
      ]
    },
    {
      "cell_type": "code",
      "source": [
        "predicted_result = model.predict(x_test)  # model이 추론한 확률값. \n",
        "predicted_labels = np.argmax(predicted_result, axis=1)\n",
        "\n",
        "idx=55  #1번째 x_test를 살펴보자. \n",
        "print('model.predict() 결과 : ', predicted_result[idx])\n",
        "print('model이 추론한 가장 가능성이 높은 결과 : ', predicted_labels[idx])\n",
        "print('실제 데이터의 라벨 : ', y_test[idx])\n",
        "\n",
        "plt.imshow(x_test[idx],cmap=plt.cm.binary)\n",
        "plt.show()"
      ],
      "metadata": {
        "colab": {
          "base_uri": "https://localhost:8080/",
          "height": 317
        },
        "id": "JHCI7bRqT03t",
        "outputId": "72352f95-2f30-45a9-ff2b-6ccea853c8e8"
      },
      "execution_count": null,
      "outputs": [
        {
          "output_type": "stream",
          "name": "stdout",
          "text": [
            "model.predict() 결과 :  [6.771579e-04 7.074218e-05 9.992520e-01]\n",
            "model이 추론한 가장 가능성이 높은 결과 :  2\n",
            "실제 데이터의 라벨 :  0\n"
          ]
        },
        {
          "output_type": "display_data",
          "data": {
            "text/plain": [
              "<Figure size 432x288 with 1 Axes>"
            ],
            "image/png": "[encoded data removed]"
          },
          "metadata": {
            "needs_background": "light"
          }
        }
      ]
    },
    {
      "cell_type": "markdown",
      "source": [
        "확실히 데이터가 많이 뭉게져서,, 사람인 나도 자세히 뜯어봐야 알 수 있을 것 같으니... 특성 인자를 확대해보자.  \n",
        "\n"
      ],
      "metadata": {
        "id": "abcY-nwuUMN9"
      }
    },
    {
      "cell_type": "markdown",
      "source": [
        "### 1) train 데이터 갯수 동일, 특성 인자 확대, 재학습  \n",
        "\n",
        "---\n",
        "\n",
        "- n_channel : 2배 증가\n",
        "- dense : 2배 증가 \n",
        "- epoch : 15 고정  \n",
        "(앞서 진행했을 때, epoch가 10정도 지났을 때 정확도가 1이 나와 12를 할까 했으나... 혹시 모르니 15로 고정하기로함)"
      ],
      "metadata": {
        "id": "ca7NYMW8U-en"
      }
    },
    {
      "cell_type": "code",
      "source": [
        "model=keras.models.Sequential()\n",
        "model.add(keras.layers.Conv2D(32, (3,3), activation='relu', input_shape=(28,28,3)))\n",
        "model.add(keras.layers.MaxPool2D(2,2))\n",
        "model.add(keras.layers.Conv2D(128, (3,3), activation='relu'))\n",
        "model.add(keras.layers.MaxPooling2D((2,2)))\n",
        "model.add(keras.layers.Flatten())\n",
        "model.add(keras.layers.Dense(64, activation='relu'))\n",
        "model.add(keras.layers.Dense(3, activation='softmax'))\n",
        "\n",
        "print('Model에 추가된 Layer 개수: ', len(model.layers))\n",
        "\n",
        "model.summary()"
      ],
      "metadata": {
        "colab": {
          "base_uri": "https://localhost:8080/"
        },
        "id": "_oc46BGIUIVw",
        "outputId": "9810795e-118c-4561-db5f-05f1360a9553"
      },
      "execution_count": null,
      "outputs": [
        {
          "output_type": "stream",
          "name": "stdout",
          "text": [
            "Model에 추가된 Layer 개수:  7\n",
            "Model: \"sequential_1\"\n",
            "_________________________________________________________________\n",
            " Layer (type)                Output Shape              Param #   \n",
            "=================================================================\n",
            " conv2d_2 (Conv2D)           (None, 26, 26, 32)        896       \n",
            "                                                                 \n",
            " max_pooling2d_2 (MaxPooling  (None, 13, 13, 32)       0         \n",
            " 2D)                                                             \n",
            "                                                                 \n",
            " conv2d_3 (Conv2D)           (None, 11, 11, 128)       36992     \n",
            "                                                                 \n",
            " max_pooling2d_3 (MaxPooling  (None, 5, 5, 128)        0         \n",
            " 2D)                                                             \n",
            "                                                                 \n",
            " flatten_1 (Flatten)         (None, 3200)              0         \n",
            "                                                                 \n",
            " dense_2 (Dense)             (None, 64)                204864    \n",
            "                                                                 \n",
            " dense_3 (Dense)             (None, 3)                 195       \n",
            "                                                                 \n",
            "=================================================================\n",
            "Total params: 242,947\n",
            "Trainable params: 242,947\n",
            "Non-trainable params: 0\n",
            "_________________________________________________________________\n"
          ]
        }
      ]
    },
    {
      "cell_type": "markdown",
      "source": [
        "- 0 ; 기존 테스트 당시  \n",
        "Total params: 30,819  \n",
        "Trainable params: 30,819  \n",
        "Non-trainable params: 0  \n",
        "\n",
        "- 1차 재시도 ; \n",
        "Total params: 242,947  \n",
        "Trainable params: 242,947  \n",
        "Non-trainable params: 0  \n",
        "\n",
        "Params가 거의 8배정도 증가한 것을 볼 수 있다.  \n",
        "과연 그 결과는...?"
      ],
      "metadata": {
        "id": "TEynJCX4W5a5"
      }
    },
    {
      "cell_type": "code",
      "source": [
        "model.compile(optimizer='adam',\n",
        "             loss='sparse_categorical_crossentropy',\n",
        "             metrics=['accuracy'])\n",
        "\n",
        "model.fit(x_train, y_train, epochs=15)"
      ],
      "metadata": {
        "colab": {
          "base_uri": "https://localhost:8080/"
        },
        "id": "iEs4srx7Wz6o",
        "outputId": "b84636a1-7a7a-4470-975f-1de2c666003c"
      },
      "execution_count": null,
      "outputs": [
        {
          "output_type": "stream",
          "name": "stdout",
          "text": [
            "Epoch 1/15\n",
            "20/20 [==============================] - 1s 8ms/step - loss: 30.6767 - accuracy: 0.3475\n",
            "Epoch 2/15\n",
            "20/20 [==============================] - 0s 7ms/step - loss: 1.6484 - accuracy: 0.4885\n",
            "Epoch 3/15\n",
            "20/20 [==============================] - 0s 4ms/step - loss: 0.6963 - accuracy: 0.7361\n",
            "Epoch 4/15\n",
            "20/20 [==============================] - 0s 4ms/step - loss: 0.1198 - accuracy: 0.9721\n",
            "Epoch 9/15\n",
            "20/20 [==============================] - 0s 4ms/step - loss: 0.1069 - accuracy: 0.9770\n",
            "Epoch 10/15\n",
            "20/20 [==============================] - 0s 4ms/step - loss: 0.0647 - accuracy: 0.9934\n",
            "Epoch 11/15\n",
            "20/20 [==============================] - 0s 4ms/step - loss: 0.0421 - accuracy: 0.9967\n",
            "Epoch 12/15\n",
            "20/20 [==============================] - 0s 4ms/step - loss: 0.0329 - accuracy: 0.9984\n",
            "Epoch 13/15\n",
            "20/20 [==============================] - 0s 4ms/step - loss: 0.0270 - accuracy: 1.0000\n",
            "Epoch 14/15\n",
            "20/20 [==============================] - 0s 4ms/step - loss: 0.0194 - accuracy: 1.0000\n",
            "Epoch 15/15\n",
            "20/20 [==============================] - 0s 4ms/step - loss: 0.0163 - accuracy: 1.0000\n"
          ]
        },
        {
          "output_type": "execute_result",
          "data": {
            "text/plain": [
              "<keras.callbacks.History at 0x7fae102a0c10>"
            ]
          },
          "metadata": {},
          "execution_count": 35
        }
      ]
    },
    {
      "cell_type": "code",
      "source": [
        "test_loss, test_accuracy = model.evaluate(x_test,y_test, verbose=2)\n",
        "print(\"test_loss: {} \".format(test_loss))\n",
        "print(\"test_accuracy: {}\".format(test_accuracy))"
      ],
      "metadata": {
        "colab": {
          "base_uri": "https://localhost:8080/"
        },
        "id": "_lz-rF1hXOzU",
        "outputId": "9ea83466-8183-4508-dacd-87cb83be48c4"
      },
      "execution_count": null,
      "outputs": [
        {
          "output_type": "stream",
          "name": "stdout",
          "text": [
            "54/54 - 0s - loss: 3.6282 - accuracy: 0.3911 - 274ms/epoch - 5ms/step\n",
            "test_loss: 3.628204584121704 \n",
            "test_accuracy: 0.3910745680332184\n"
          ]
        }
      ]
    },
    {
      "cell_type": "markdown",
      "source": [
        "- **test_accuracy 변화 : 0.022증가**\n",
        "    + 기존: 0.369\n",
        "    + 1차 : 0.39107"
      ],
      "metadata": {
        "id": "tgW3d25aXW_Q"
      }
    },
    {
      "cell_type": "markdown",
      "source": [
        "### 2) train 데이터 갯수 증가, 특성 인자 동일, 재학습\n",
        "\n",
        "---\n",
        "- train 데이터 기존 : 610\n",
        "- train 데이터 증가 후 : 2,353 (+1,703)\n",
        "- 특성인자 동일진행\n",
        "\n",
        "- test 데이터는 신규 데이터 입력 예정"
      ],
      "metadata": {
        "id": "bSuY0ZLyXtI6"
      }
    },
    {
      "cell_type": "code",
      "source": [
        "image_dir_path = '/content/drive/MyDrive/COLAB_data/scissor'\n",
        "resize_images(image_dir_path)\n",
        "print(\"가위 이미지 resize 완료!\")\n",
        "\n",
        "image_dir_path_r = '/content/drive/MyDrive/COLAB_data/rock'\n",
        "resize_images(image_dir_path_r)\n",
        "print(\"바위 이미지 resize 완료!\")\n",
        "\n",
        "image_dir_path_p = '/content/drive/MyDrive/COLAB_data/paper'\n",
        "resize_images(image_dir_path_p)\n",
        "print(\"보 이미지 resize 완료!\")"
      ],
      "metadata": {
        "colab": {
          "base_uri": "https://localhost:8080/"
        },
        "id": "EW1s14_5focx",
        "outputId": "4e07484c-d505-4a05-c705-6800737a96f7"
      },
      "execution_count": null,
      "outputs": [
        {
          "output_type": "stream",
          "name": "stdout",
          "text": [
            "737  images to be resized.\n",
            "737  images resized.\n",
            "가위 이미지 resize 완료!\n",
            "753  images to be resized.\n",
            "753  images resized.\n",
            "바위 이미지 resize 완료!\n",
            "863  images to be resized.\n",
            "863  images resized.\n",
            "보 이미지 resize 완료!\n"
          ]
        }
      ]
    },
    {
      "cell_type": "code",
      "source": [
        "def load_data(img_path, number_of_data=2353):  # 가위바위보 이미지 개수 총합에 주의하세요.\n",
        "    # 가위 : 0, 바위 : 1, 보 : 2\n",
        "    img_size=28\n",
        "    color=3\n",
        "    #이미지 데이터와 라벨(가위 : 0, 바위 : 1, 보 : 2) 데이터를 담을 행렬(matrix) 영역을 생성합니다.\n",
        "    imgs=np.zeros(number_of_data*img_size*img_size*color,dtype=np.int32).reshape(number_of_data,img_size,img_size,color)\n",
        "    labels=np.zeros(number_of_data,dtype=np.int32)\n",
        "\n",
        "    idx=0\n",
        "    for file in glob.iglob(img_path+'/scissor/*.jpg'):\n",
        "        img = np.array(Image.open(file),dtype=np.int32)\n",
        "        imgs[idx,:,:,:]=img    # 데이터 영역에 이미지 행렬을 복사\n",
        "        labels[idx]=0   # 가위 : 0\n",
        "        idx=idx+1\n",
        "\n",
        "    for file in glob.iglob(img_path+'/rock/*.jpg'):\n",
        "        img = np.array(Image.open(file),dtype=np.int32)\n",
        "        imgs[idx,:,:,:]=img    # 데이터 영역에 이미지 행렬을 복사\n",
        "        labels[idx]=1   # 바위 : 1\n",
        "        idx=idx+1  \n",
        "    \n",
        "    for file in glob.iglob(img_path+'/paper/*.jpg'):\n",
        "        img = np.array(Image.open(file),dtype=np.int32)\n",
        "        imgs[idx,:,:,:]=img    # 데이터 영역에 이미지 행렬을 복사\n",
        "        labels[idx]=2   # 보 : 2\n",
        "        idx=idx+1\n",
        "        \n",
        "    print(\"학습데이터(x_train)의 이미지 개수는\", idx,\"입니다.\")\n",
        "    return imgs, labels\n",
        "\n",
        "image_dir_path = '/content/drive/MyDrive/COLAB_data'\n",
        "(x_train, y_train)=load_data(image_dir_path)\n",
        "x_train_norm = x_train/255.0   # 입력은 0~1 사이의 값으로 정규화\n",
        "\n",
        "print(\"x_train shape: {}\".format(x_train.shape))\n",
        "print(\"y_train shape: {}\".format(y_train.shape))"
      ],
      "metadata": {
        "colab": {
          "base_uri": "https://localhost:8080/"
        },
        "id": "zAjTKwSUXUyw",
        "outputId": "77a20591-3951-4947-cffc-febcf1061ec2"
      },
      "execution_count": 10,
      "outputs": [
        {
          "output_type": "stream",
          "name": "stdout",
          "text": [
            "학습데이터(x_train)의 이미지 개수는 2353 입니다.\n",
            "x_train shape: (2353, 28, 28, 3)\n",
            "y_train shape: (2353,)\n"
          ]
        }
      ]
    },
    {
      "cell_type": "code",
      "source": [
        "model=keras.models.Sequential()\n",
        "model.add(keras.layers.Conv2D(16, (3,3), activation='relu', input_shape=(28,28,3)))\n",
        "model.add(keras.layers.MaxPool2D(2,2))\n",
        "model.add(keras.layers.Conv2D(32, (3,3), activation='relu'))\n",
        "model.add(keras.layers.MaxPooling2D((2,2)))\n",
        "model.add(keras.layers.Flatten())\n",
        "model.add(keras.layers.Dense(32, activation='relu'))\n",
        "model.add(keras.layers.Dense(3, activation='softmax'))\n",
        "\n",
        "print('Model에 추가된 Layer 개수: ', len(model.layers))\n",
        "\n",
        "model.summary()"
      ],
      "metadata": {
        "colab": {
          "base_uri": "https://localhost:8080/"
        },
        "id": "_OUTDI6Zfz2Y",
        "outputId": "da2e43a6-9f2d-4a23-dbd3-cfd86a5e7810"
      },
      "execution_count": 11,
      "outputs": [
        {
          "output_type": "stream",
          "name": "stdout",
          "text": [
            "Model에 추가된 Layer 개수:  7\n",
            "Model: \"sequential_1\"\n",
            "_________________________________________________________________\n",
            " Layer (type)                Output Shape              Param #   \n",
            "=================================================================\n",
            " conv2d_2 (Conv2D)           (None, 26, 26, 16)        448       \n",
            "                                                                 \n",
            " max_pooling2d_2 (MaxPooling  (None, 13, 13, 16)       0         \n",
            " 2D)                                                             \n",
            "                                                                 \n",
            " conv2d_3 (Conv2D)           (None, 11, 11, 32)        4640      \n",
            "                                                                 \n",
            " max_pooling2d_3 (MaxPooling  (None, 5, 5, 32)         0         \n",
            " 2D)                                                             \n",
            "                                                                 \n",
            " flatten_1 (Flatten)         (None, 800)               0         \n",
            "                                                                 \n",
            " dense_2 (Dense)             (None, 32)                25632     \n",
            "                                                                 \n",
            " dense_3 (Dense)             (None, 3)                 99        \n",
            "                                                                 \n",
            "=================================================================\n",
            "Total params: 30,819\n",
            "Trainable params: 30,819\n",
            "Non-trainable params: 0\n",
            "_________________________________________________________________\n"
          ]
        }
      ]
    },
    {
      "cell_type": "markdown",
      "source": [
        ""
      ],
      "metadata": {
        "id": "VLpm5448gLj5"
      }
    },
    {
      "cell_type": "code",
      "source": [
        "model.compile(optimizer='adam',\n",
        "             loss='sparse_categorical_crossentropy',\n",
        "             metrics=['accuracy'])\n",
        "\n",
        "model.fit(x_train, y_train, epochs=15)"
      ],
      "metadata": {
        "colab": {
          "base_uri": "https://localhost:8080/"
        },
        "id": "QEFBxZBof_Xi",
        "outputId": "03857e60-6d2a-44af-fa4b-ce7cade3be1f"
      },
      "execution_count": 15,
      "outputs": [
        {
          "output_type": "stream",
          "name": "stdout",
          "text": [
            "Epoch 1/15\n",
            "74/74 [==============================] - 1s 3ms/step - loss: 0.0249 - accuracy: 0.9911\n",
            "Epoch 2/15\n",
            "74/74 [==============================] - 0s 3ms/step - loss: 0.0421 - accuracy: 0.9885\n",
            "Epoch 3/15\n",
            "74/74 [==============================] - 0s 3ms/step - loss: 0.0971 - accuracy: 0.9703\n",
            "Epoch 4/15\n",
            "74/74 [==============================] - 0s 3ms/step - loss: 0.0780 - accuracy: 0.9771\n",
            "Epoch 5/15\n",
            "74/74 [==============================] - 0s 3ms/step - loss: 0.0318 - accuracy: 0.9864\n",
            "Epoch 6/15\n",
            "74/74 [==============================] - 0s 3ms/step - loss: 0.0247 - accuracy: 0.9911\n",
            "Epoch 7/15\n",
            "74/74 [==============================] - 0s 3ms/step - loss: 0.0057 - accuracy: 0.9992\n",
            "Epoch 8/15\n",
            "74/74 [==============================] - 0s 3ms/step - loss: 0.0061 - accuracy: 0.9979\n",
            "Epoch 9/15\n",
            "74/74 [==============================] - 0s 3ms/step - loss: 0.0249 - accuracy: 0.9924\n",
            "Epoch 10/15\n",
            "74/74 [==============================] - 0s 3ms/step - loss: 0.0154 - accuracy: 0.9945\n",
            "Epoch 11/15\n",
            "74/74 [==============================] - 0s 3ms/step - loss: 0.0269 - accuracy: 0.9894\n",
            "Epoch 12/15\n",
            "74/74 [==============================] - 0s 3ms/step - loss: 0.0040 - accuracy: 0.9992\n",
            "Epoch 13/15\n",
            "74/74 [==============================] - 0s 3ms/step - loss: 0.0011 - accuracy: 1.0000\n",
            "Epoch 14/15\n",
            "74/74 [==============================] - 0s 3ms/step - loss: 5.7553e-04 - accuracy: 1.0000\n",
            "Epoch 15/15\n",
            "74/74 [==============================] - 0s 3ms/step - loss: 3.9488e-04 - accuracy: 1.0000\n"
          ]
        },
        {
          "output_type": "execute_result",
          "data": {
            "text/plain": [
              "<keras.callbacks.History at 0x7f7f00129790>"
            ]
          },
          "metadata": {},
          "execution_count": 15
        }
      ]
    },
    {
      "cell_type": "markdown",
      "source": [
        "정확도가 1.0으로 좋은 수치를 나타내고 있다.   \n",
        "그럼 신규 테스트 데이터를 넣어보자"
      ],
      "metadata": {
        "id": "J8c7ffdWhEAl"
      }
    },
    {
      "cell_type": "code",
      "source": [
        "# 가위 이미지가 저장된 디렉토리 아래의 모든 jpg 파일을 읽어들여서\n",
        "image_dir_path_test_s = '/content/drive/MyDrive/COLAB_data/rsp_test/scissor'\n",
        "resize_images(image_dir_path_test_s)\n",
        "\n",
        "print(\"가위 이미지 resize 완료!\")\n",
        "\n",
        "image_dir_path_test_r = '/content/drive/MyDrive/COLAB_data/rsp_test/rock'\n",
        "resize_images(image_dir_path_test_r)\n",
        "\n",
        "print(\"바위 이미지 resize 완료!\")\n",
        "\n",
        "image_dir_path_test_p = '/content/drive/MyDrive/COLAB_data/rsp_test/paper'\n",
        "resize_images(image_dir_path_test_p)\n",
        "\n",
        "print(\"보 이미지 resize 완료!\")"
      ],
      "metadata": {
        "colab": {
          "base_uri": "https://localhost:8080/"
        },
        "id": "9KfWoTsDgOVO",
        "outputId": "fabcdc8a-60b1-4db9-81e9-6a9ae84fa945"
      },
      "execution_count": null,
      "outputs": [
        {
          "output_type": "stream",
          "name": "stdout",
          "text": [
            "100  images to be resized.\n",
            "100  images resized.\n",
            "가위 이미지 resize 완료!\n",
            "101  images to be resized.\n",
            "101  images resized.\n",
            "바위 이미지 resize 완료!\n",
            "100  images to be resized.\n",
            "100  images resized.\n",
            "보 이미지 resize 완료!\n"
          ]
        }
      ]
    },
    {
      "cell_type": "code",
      "source": [
        "def load_data_test(img_path_test, number_of_data=301):  # 가위바위보 이미지 개수 총합에 주의하세요.\n",
        "    # 가위 : 0, 바위 : 1, 보 : 2\n",
        "    img_size=28\n",
        "    color=3\n",
        "    #이미지 데이터와 라벨(가위 : 0, 바위 : 1, 보 : 2) 데이터를 담을 행렬(matrix) 영역을 생성합니다.\n",
        "    imgs=np.zeros(number_of_data*img_size*img_size*color,dtype=np.int32).reshape(number_of_data,img_size,img_size,color)\n",
        "    labels=np.zeros(number_of_data,dtype=np.int32)\n",
        "\n",
        "    idx=0\n",
        "    for file in glob.iglob(img_path_test+'/scissor/*.jpg'):\n",
        "        img = np.array(Image.open(file),dtype=np.int32)\n",
        "        imgs[idx,:,:,:]=img    # 데이터 영역에 이미지 행렬을 복사\n",
        "        labels[idx]=0   # 가위 : 0\n",
        "        idx=idx+1\n",
        "\n",
        "    for file in glob.iglob(img_path_test+'/rock/*.jpg'):\n",
        "        img = np.array(Image.open(file),dtype=np.int32)\n",
        "        imgs[idx,:,:,:]=img    # 데이터 영역에 이미지 행렬을 복사\n",
        "        labels[idx]=1   # 바위 : 1\n",
        "        idx=idx+1  \n",
        "    \n",
        "    for file in glob.iglob(img_path_test+'/paper/*.jpg'):\n",
        "        img = np.array(Image.open(file),dtype=np.int32)\n",
        "        imgs[idx,:,:,:]=img    # 데이터 영역에 이미지 행렬을 복사\n",
        "        labels[idx]=2   # 보 : 2\n",
        "        idx=idx+1\n",
        "        \n",
        "    print(\"학습데이터(x_train)의 이미지 개수는\", idx,\"입니다.\")\n",
        "    return imgs, labels\n",
        "\n",
        "image_dir_path_test = '/content/drive/MyDrive/COLAB_data/rsp_test'\n",
        "(x_test, y_test)=load_data_test(image_dir_path_test)\n",
        "x_test_norm = x_test/255.0   # 입력은 0~1 사이의 값으로 정규화\n",
        "\n",
        "print(\"x_test shape: {}\".format(x_test.shape))\n",
        "print(\"y_test shape: {}\".format(y_test.shape))"
      ],
      "metadata": {
        "colab": {
          "base_uri": "https://localhost:8080/"
        },
        "id": "MyFF05zChtIz",
        "outputId": "9147e742-0b3b-49fd-f01f-428329364bf8"
      },
      "execution_count": null,
      "outputs": [
        {
          "output_type": "stream",
          "name": "stdout",
          "text": [
            "학습데이터(x_train)의 이미지 개수는 301 입니다.\n",
            "x_test shape: (301, 28, 28, 3)\n",
            "y_test shape: (301,)\n"
          ]
        }
      ]
    },
    {
      "cell_type": "code",
      "source": [
        "test_loss, test_accuracy = model.evaluate(x_test,y_test, verbose=2)\n",
        "print(\"test_loss: {} \".format(test_loss))\n",
        "print(\"test_accuracy: {}\".format(test_accuracy))"
      ],
      "metadata": {
        "colab": {
          "base_uri": "https://localhost:8080/"
        },
        "id": "mevVRUcCh3bl",
        "outputId": "00475baf-c3d2-449c-a1fd-db9dbfa6d4ad"
      },
      "execution_count": null,
      "outputs": [
        {
          "output_type": "stream",
          "name": "stdout",
          "text": [
            "10/10 - 0s - loss: 21.2337 - accuracy: 0.2525 - 177ms/epoch - 18ms/step\n",
            "test_loss: 21.233732223510742 \n",
            "test_accuracy: 0.25249168276786804\n"
          ]
        }
      ]
    },
    {
      "cell_type": "markdown",
      "source": [
        "**test_accuracy 변화 : 0.011감소**  \n",
        "기존: 0.369  \n",
        "2차 : 0.25249\n",
        "\n",
        "음...? 정확도가 0.25249로 오히려 찍으니만 못하다...?  \n",
        "게다가 기존보다 떨어졌다...?  \n",
        "왜이런 결과가 나온거지...?  \n",
        "흠........  \n",
        "\n",
        "우선 3번째를 진행해보고 다시 생각해보도록하자...\n"
      ],
      "metadata": {
        "id": "LMZkm5Xvh9J_"
      }
    },
    {
      "cell_type": "markdown",
      "source": [
        "### 3) train 데이터 갯수 증가, 특성 인자 확대, 재학습  \n",
        "\n",
        "---\n",
        "\n",
        "- train 데이터 증가 : 2,353 \n",
        "- n_channel : 2배 증가\n",
        "- dense : 2배 증가 \n",
        "- epoch : 15 고정  \n",
        "(앞서 진행했을 때, epoch가 10정도 지났을 때 정확도가 1이 나와 12를 할까 했으나... 혹시 모르니 15로 고정하기로함) "
      ],
      "metadata": {
        "id": "qwqV7IijifE5"
      }
    },
    {
      "cell_type": "code",
      "source": [
        "model=keras.models.Sequential()\n",
        "model.add(keras.layers.Conv2D(32, (3,3), activation='relu', input_shape=(28,28,3)))\n",
        "model.add(keras.layers.MaxPool2D(2,2))\n",
        "model.add(keras.layers.Conv2D(128, (3,3), activation='relu'))\n",
        "model.add(keras.layers.MaxPooling2D((2,2)))\n",
        "model.add(keras.layers.Flatten())\n",
        "model.add(keras.layers.Dense(64, activation='relu'))\n",
        "model.add(keras.layers.Dense(3, activation='softmax'))\n",
        "\n",
        "print('Model에 추가된 Layer 개수: ', len(model.layers))\n",
        "\n",
        "model.summary()"
      ],
      "metadata": {
        "colab": {
          "base_uri": "https://localhost:8080/"
        },
        "id": "RjAjSw-OieBa",
        "outputId": "c1da4409-743c-47f5-a04a-cef94289d1cb"
      },
      "execution_count": 8,
      "outputs": [
        {
          "output_type": "stream",
          "name": "stdout",
          "text": [
            "Model에 추가된 Layer 개수:  7\n",
            "Model: \"sequential\"\n",
            "_________________________________________________________________\n",
            " Layer (type)                Output Shape              Param #   \n",
            "=================================================================\n",
            " conv2d (Conv2D)             (None, 26, 26, 32)        896       \n",
            "                                                                 \n",
            " max_pooling2d (MaxPooling2D  (None, 13, 13, 32)       0         \n",
            " )                                                               \n",
            "                                                                 \n",
            " conv2d_1 (Conv2D)           (None, 11, 11, 128)       36992     \n",
            "                                                                 \n",
            " max_pooling2d_1 (MaxPooling  (None, 5, 5, 128)        0         \n",
            " 2D)                                                             \n",
            "                                                                 \n",
            " flatten (Flatten)           (None, 3200)              0         \n",
            "                                                                 \n",
            " dense (Dense)               (None, 64)                204864    \n",
            "                                                                 \n",
            " dense_1 (Dense)             (None, 3)                 195       \n",
            "                                                                 \n",
            "=================================================================\n",
            "Total params: 242,947\n",
            "Trainable params: 242,947\n",
            "Non-trainable params: 0\n",
            "_________________________________________________________________\n"
          ]
        }
      ]
    },
    {
      "cell_type": "code",
      "source": [
        "model.compile(optimizer='adam',\n",
        "             loss='sparse_categorical_crossentropy',\n",
        "             metrics=['accuracy'])\n",
        "\n",
        "model.fit(x_train, y_train, epochs=15)"
      ],
      "metadata": {
        "colab": {
          "base_uri": "https://localhost:8080/"
        },
        "id": "kA_fplOOh7nW",
        "outputId": "a40ab076-6f6b-4e2a-e166-46bfc3a65a95"
      },
      "execution_count": 16,
      "outputs": [
        {
          "output_type": "stream",
          "name": "stdout",
          "text": [
            "Epoch 1/15\n",
            "74/74 [==============================] - 1s 3ms/step - loss: 0.0392 - accuracy: 0.9864\n",
            "Epoch 2/15\n",
            "74/74 [==============================] - 0s 3ms/step - loss: 0.0191 - accuracy: 0.9949\n",
            "Epoch 3/15\n",
            "74/74 [==============================] - 0s 3ms/step - loss: 0.0016 - accuracy: 1.0000\n",
            "Epoch 4/15\n",
            "74/74 [==============================] - 0s 3ms/step - loss: 6.3728e-04 - accuracy: 1.0000\n",
            "Epoch 5/15\n",
            "74/74 [==============================] - 0s 3ms/step - loss: 2.7141e-04 - accuracy: 1.0000\n",
            "Epoch 6/15\n",
            "74/74 [==============================] - 0s 3ms/step - loss: 2.2823e-04 - accuracy: 1.0000\n",
            "Epoch 7/15\n",
            "74/74 [==============================] - 0s 3ms/step - loss: 2.0148e-04 - accuracy: 1.0000\n",
            "Epoch 8/15\n",
            "74/74 [==============================] - 0s 3ms/step - loss: 1.7385e-04 - accuracy: 1.0000\n",
            "Epoch 9/15\n",
            "74/74 [==============================] - 0s 3ms/step - loss: 1.6961e-04 - accuracy: 1.0000\n",
            "Epoch 10/15\n",
            "74/74 [==============================] - 0s 3ms/step - loss: 1.5067e-04 - accuracy: 1.0000\n",
            "Epoch 11/15\n",
            "74/74 [==============================] - 0s 3ms/step - loss: 1.3879e-04 - accuracy: 1.0000\n",
            "Epoch 12/15\n",
            "74/74 [==============================] - 0s 3ms/step - loss: 1.3356e-04 - accuracy: 1.0000\n",
            "Epoch 13/15\n",
            "74/74 [==============================] - 0s 3ms/step - loss: 1.2240e-04 - accuracy: 1.0000\n",
            "Epoch 14/15\n",
            "74/74 [==============================] - 0s 3ms/step - loss: 1.1147e-04 - accuracy: 1.0000\n",
            "Epoch 15/15\n",
            "74/74 [==============================] - 0s 3ms/step - loss: 1.0665e-04 - accuracy: 1.0000\n"
          ]
        },
        {
          "output_type": "execute_result",
          "data": {
            "text/plain": [
              "<keras.callbacks.History at 0x7f7e8a20aad0>"
            ]
          },
          "metadata": {},
          "execution_count": 16
        }
      ]
    },
    {
      "cell_type": "code",
      "source": [
        "test_loss, test_accuracy = model.evaluate(x_test,y_test, verbose=2)\n",
        "print(\"test_loss: {} \".format(test_loss))\n",
        "print(\"test_accuracy: {}\".format(test_accuracy))"
      ],
      "metadata": {
        "colab": {
          "base_uri": "https://localhost:8080/"
        },
        "id": "9PZhZwkei65J",
        "outputId": "edb7707f-5927-490c-cc70-797937927c5a"
      },
      "execution_count": null,
      "outputs": [
        {
          "output_type": "stream",
          "name": "stdout",
          "text": [
            "10/10 - 0s - loss: 6.8092 - accuracy: 0.3920 - 165ms/epoch - 16ms/step\n",
            "test_loss: 6.809207916259766 \n",
            "test_accuracy: 0.3920265734195709\n"
          ]
        }
      ]
    },
    {
      "cell_type": "markdown",
      "source": [
        "**test_accuracy 변화 : 0.03 증가**  \n",
        "기존: 0.369  \n",
        "3차 : 0.392  \n",
        "\n",
        "소폭 증가하였지만 정확도가 약 0.4로 무작위로 골랐을 때 확률이 0.3333 인것을 감안하였을 때, 생각보다 미비한 값으로 생각된다.   \n",
        "\n",
        "그래도 확실히 데이터의 갯수를 늘리고, 특성들을 올려 좀 더 자세히 보니 정확도가 증가하는 것을 확인하였다.  \n",
        "\n",
        "여기서 더 욕심을 내서 정확도를 올리고자한다면, 데이터와 특성들을 더 강화하면 가능할 것 같다.  "
      ],
      "metadata": {
        "id": "Vh8lKQSrjEjl"
      }
    },
    {
      "cell_type": "markdown",
      "source": [
        "### 4) train 데이터 갯수 증가, 특성 인자 확대, 재학습 후 test 데이터 갯수 증가  \n",
        "\n",
        "---\n",
        "- test 데이터 증가 : 600 (+310)\n",
        "- train 데이터 증가 : 2,353 \n",
        "- n_channel : 2배 증가\n",
        "- dense : 2배 증가 \n",
        "- epoch : 15 고정  "
      ],
      "metadata": {
        "id": "43i_AeJQquKh"
      }
    },
    {
      "cell_type": "code",
      "source": [
        "def load_data(img_path, number_of_data=610):  # 가위바위보 이미지 개수 총합에 주의하세요.\n",
        "    # 가위 : 0, 바위 : 1, 보 : 2\n",
        "    img_size=28\n",
        "    color=3\n",
        "    #이미지 데이터와 라벨(가위 : 0, 바위 : 1, 보 : 2) 데이터를 담을 행렬(matrix) 영역을 생성합니다.\n",
        "    imgs=np.zeros(number_of_data*img_size*img_size*color,dtype=np.int32).reshape(number_of_data,img_size,img_size,color)\n",
        "    labels=np.zeros(number_of_data,dtype=np.int32)\n",
        "\n",
        "    idx=0\n",
        "    for file in glob.iglob(img_path+'/scissor/*.jpg'):\n",
        "        img = np.array(Image.open(file),dtype=np.int32)\n",
        "        imgs[idx,:,:,:]=img    # 데이터 영역에 이미지 행렬을 복사\n",
        "        labels[idx]=0   # 가위 : 0\n",
        "        idx=idx+1\n",
        "\n",
        "    for file in glob.iglob(img_path+'/rock/*.jpg'):\n",
        "        img = np.array(Image.open(file),dtype=np.int32)\n",
        "        imgs[idx,:,:,:]=img    # 데이터 영역에 이미지 행렬을 복사\n",
        "        labels[idx]=1   # 바위 : 1\n",
        "        idx=idx+1  \n",
        "    \n",
        "    for file in glob.iglob(img_path+'/paper/*.jpg'):\n",
        "        img = np.array(Image.open(file),dtype=np.int32)\n",
        "        imgs[idx,:,:,:]=img    # 데이터 영역에 이미지 행렬을 복사\n",
        "        labels[idx]=2   # 보 : 2\n",
        "        idx=idx+1\n",
        "        \n",
        "    print(\"학습데이터(x_train)의 이미지 개수는\", idx,\"입니다.\")\n",
        "    return imgs, labels"
      ],
      "metadata": {
        "id": "mvUYePFOvgXL"
      },
      "execution_count": 5,
      "outputs": []
    },
    {
      "cell_type": "code",
      "source": [
        "# 가위 이미지가 저장된 디렉토리 아래의 모든 jpg 파일을 읽어들여서\n",
        "image_dir_path_test_s = '/content/drive/MyDrive/COLAB_data/rsp_test/scissor'\n",
        "resize_images(image_dir_path_test_s)\n",
        "\n",
        "print(\"가위 이미지 resize 완료!\")\n",
        "\n",
        "image_dir_path_test_r = '/content/drive/MyDrive/COLAB_data/rsp_test/rock'\n",
        "resize_images(image_dir_path_test_r)\n",
        "\n",
        "print(\"바위 이미지 resize 완료!\")\n",
        "\n",
        "image_dir_path_test_p = '/content/drive/MyDrive/COLAB_data/rsp_test/paper'\n",
        "resize_images(image_dir_path_test_p)\n",
        "\n",
        "print(\"보 이미지 resize 완료!\")"
      ],
      "metadata": {
        "id": "6LneB503qt9z",
        "colab": {
          "base_uri": "https://localhost:8080/"
        },
        "outputId": "b08f7e3a-054e-46fb-fb2b-82329af95a1c"
      },
      "execution_count": 23,
      "outputs": [
        {
          "output_type": "stream",
          "name": "stdout",
          "text": [
            "180  images to be resized.\n",
            "180  images resized.\n",
            "가위 이미지 resize 완료!\n",
            "181  images to be resized.\n",
            "181  images resized.\n",
            "바위 이미지 resize 완료!\n",
            "182  images to be resized.\n",
            "182  images resized.\n",
            "보 이미지 resize 완료!\n"
          ]
        }
      ]
    },
    {
      "cell_type": "code",
      "source": [
        "def load_data_test(img_path_test, number_of_data=543):  # 가위바위보 이미지 개수 총합에 주의하세요.\n",
        "    # 가위 : 0, 바위 : 1, 보 : 2\n",
        "    img_size=28\n",
        "    color=3\n",
        "    #이미지 데이터와 라벨(가위 : 0, 바위 : 1, 보 : 2) 데이터를 담을 행렬(matrix) 영역을 생성합니다.\n",
        "    imgs=np.zeros(number_of_data*img_size*img_size*color,dtype=np.int32).reshape(number_of_data,img_size,img_size,color)\n",
        "    labels=np.zeros(number_of_data,dtype=np.int32)\n",
        "\n",
        "    idx=0\n",
        "    for file in glob.iglob(img_path_test+'/scissor/*.jpg'):\n",
        "        img = np.array(Image.open(file),dtype=np.int32)\n",
        "        imgs[idx,:,:,:]=img    # 데이터 영역에 이미지 행렬을 복사\n",
        "        labels[idx]=0   # 가위 : 0\n",
        "        idx=idx+1\n",
        "\n",
        "    for file in glob.iglob(img_path_test+'/rock/*.jpg'):\n",
        "        img = np.array(Image.open(file),dtype=np.int32)\n",
        "        imgs[idx,:,:,:]=img    # 데이터 영역에 이미지 행렬을 복사\n",
        "        labels[idx]=1   # 바위 : 1\n",
        "        idx=idx+1  \n",
        "    \n",
        "    for file in glob.iglob(img_path_test+'/paper/*.jpg'):\n",
        "        img = np.array(Image.open(file),dtype=np.int32)\n",
        "        imgs[idx,:,:,:]=img    # 데이터 영역에 이미지 행렬을 복사\n",
        "        labels[idx]=2   # 보 : 2\n",
        "        idx=idx+1\n",
        "        \n",
        "    print(\"학습데이터(x_train)의 이미지 개수는\", idx,\"입니다.\")\n",
        "    return imgs, labels\n",
        "\n",
        "image_dir_path_test = '/content/drive/MyDrive/COLAB_data/rsp_test'\n",
        "(x_test, y_test)=load_data_test(image_dir_path_test)\n",
        "x_test_norm = x_test/255.0   # 입력은 0~1 사이의 값으로 정규화\n",
        "\n",
        "print(\"x_test shape: {}\".format(x_test.shape))\n",
        "print(\"y_test shape: {}\".format(y_test.shape))"
      ],
      "metadata": {
        "colab": {
          "base_uri": "https://localhost:8080/"
        },
        "id": "nbGWtq-vvwNs",
        "outputId": "7dedefd4-4730-4757-8d13-ebbbe3b9522d"
      },
      "execution_count": 24,
      "outputs": [
        {
          "output_type": "stream",
          "name": "stdout",
          "text": [
            "학습데이터(x_train)의 이미지 개수는 543 입니다.\n",
            "x_test shape: (543, 28, 28, 3)\n",
            "y_test shape: (543,)\n"
          ]
        }
      ]
    },
    {
      "cell_type": "code",
      "source": [
        "test_loss, test_accuracy = model.evaluate(x_test,y_test, verbose=2)\n",
        "print(\"test_loss: {} \".format(test_loss))\n",
        "print(\"test_accuracy: {}\".format(test_accuracy))"
      ],
      "metadata": {
        "colab": {
          "base_uri": "https://localhost:8080/"
        },
        "id": "fyW6vqqfxBbF",
        "outputId": "d9b21370-578f-45b0-d48b-4e6948b9a57a"
      },
      "execution_count": 26,
      "outputs": [
        {
          "output_type": "stream",
          "name": "stdout",
          "text": [
            "17/17 - 0s - loss: 12.9301 - accuracy: 0.4530 - 46ms/epoch - 3ms/step\n",
            "test_loss: 12.930073738098145 \n",
            "test_accuracy: 0.45303866267204285\n"
          ]
        }
      ]
    },
    {
      "cell_type": "markdown",
      "source": [
        "## 회고 \n",
        "\n",
        "---\n",
        "\n",
        "- `import` 줄을 계속 실행되지 않도록 위쪽에 배치하는 방법을 알았다. 이후에도 위쪽에 몰아서 넣고 좀 더 가볍게 실행되도록 해야겠다.  \n",
        "- 그리고 이미지 처리하는 것을 처음 해봤는데, 전처리하고 특성들을 변경해보면서 test accuracy가 변화하는 모습을 보는게 신기했다. 이후엔 좀 더 화상도가 높은 사진을 처리하면서 정확도를 올리고 싶다.  \n",
        "- 이번 Ex를 진행하면서 컴퓨터를 똑순이라고생각했는데, 가벼운 데이터인데도 돌릴 때 마다 값이 변하는 것을 보면서 왜 DL이 운빨이라고하는지 알 것 같았고 마냥 똑순이는 아닌것 같다... 다를 생각이 들었다. 이놈아 넌 컴퓨터잖오....!!!  \n",
        "- 마지막 데이터의 loss 값과 test 값의 정확도를 그래프로 시각화 해보고싶은데 코드를 찾지 못해 슬프다.. \n",
        "- 그리고 마지막 정확도가 0.45까지 올리긴 했는데,,, 이번에 사용한 훈련코드가 약해서 그런지 정확도가 많이 올라가지 못해 아쉽다. "
      ],
      "metadata": {
        "id": "1doYCpFklyQj"
      }
    },
    {
      "cell_type": "code",
      "source": [
        ""
      ],
      "metadata": {
        "id": "-ewePH8pzLAO"
      },
      "execution_count": null,
      "outputs": []
    }
  ]
}